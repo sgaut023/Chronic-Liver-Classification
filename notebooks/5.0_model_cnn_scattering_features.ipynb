{
 "cells": [
  {
   "cell_type": "markdown",
   "metadata": {
    "colab_type": "text",
    "id": "ENoS3mTtGQts"
   },
   "source": [
    "# Experiment 5: Scattering Features + CNN Model\n",
    "\n",
    "\n"
   ]
  },
  {
   "cell_type": "code",
   "execution_count": 9,
   "metadata": {
    "colab": {},
    "colab_type": "code",
    "id": "ptO9fUvkD-Lc"
   },
   "outputs": [],
   "source": [
    "import sys\n",
    "sys.path.append('../src')\n",
    "\n",
    "from utils.reduce import reduce_pca\n",
    "from utils.split import train_test_split, train_test_split_pytorch\n",
    "from utils.UltrasoundDataset import UltrasoundDataset\n",
    "from utils.Networks import  BasicBlock, Scattering2dResNet\n",
    "from torch.utils.data import Dataset, DataLoader\n",
    "import torch.nn.functional as F\n",
    "from torch.autograd import Variable\n",
    "from kymatio.torch import Scattering2D\n",
    "import argparse\n",
    "import torch.nn as nn\n",
    "import torch.nn.functional as F\n",
    "import torchvision.transforms as transforms\n",
    "import torch.optim\n",
    "import pickle\n",
    "import pandas as pd\n",
    "import numpy as np\n",
    "import mlflow\n",
    "import matplotlib.pyplot as plt"
   ]
  },
  {
   "cell_type": "code",
   "execution_count": 12,
   "metadata": {},
   "outputs": [],
   "source": [
    "# create an experiment in mlruns if doesn't exit and specifiy where to log\n",
    "mlflow.set_experiment('scattering_cnn_experiment')"
   ]
  },
  {
   "cell_type": "markdown",
   "metadata": {
    "colab_type": "text",
    "id": "731ett2LeCqH"
   },
   "source": [
    "## Upload Ultrasound images"
   ]
  },
  {
   "cell_type": "code",
   "execution_count": 10,
   "metadata": {},
   "outputs": [],
   "source": [
    "with open('../data/02_interim/bmodes_steatosis_assessment_IJCARS.pickle', 'rb') as handle:\n",
    "    df = pickle.load(handle)"
   ]
  },
  {
   "cell_type": "code",
   "execution_count": 11,
   "metadata": {},
   "outputs": [],
   "source": [
    "M, N= 434, 636 # ultrasound image dimension"
   ]
  },
  {
   "cell_type": "code",
   "execution_count": 13,
   "metadata": {},
   "outputs": [],
   "source": [
    "# split training and test (by making sure the 10 ultrasound images of one patient is in the same set)\n",
    "train_data, test_data = train_test_split(df)"
   ]
  },
  {
   "cell_type": "code",
   "execution_count": 14,
   "metadata": {},
   "outputs": [],
   "source": [
    "###############################################################################\n",
    "# If a GPU is available, let's use it!\n",
    "use_cuda = torch.cuda.is_available()\n",
    "device = torch.device(\"cuda\" if use_cuda else \"cpu\")\n",
    "###############################################################################"
   ]
  },
  {
   "cell_type": "markdown",
   "metadata": {},
   "source": [
    "# Create dataloader"
   ]
  },
  {
   "cell_type": "code",
   "execution_count": null,
   "metadata": {},
   "outputs": [],
   "source": [
    "batch_size"
   ]
  },
  {
   "cell_type": "code",
   "execution_count": 8,
   "metadata": {},
   "outputs": [],
   "source": [
    "# create dataset\n",
    "# from https://github.com/python-engineer/pytorchTutorial/blob/master/09_dataloader.py\n",
    "\n",
    "train_dataset = UltrasoundDataset(train_data)\n",
    "test_dataset  = UltrasoundDataset(test_data)\n",
    "\n",
    "# Load whole dataset with DataLoader\n",
    "# shuffle: shuffle data, good for training\n",
    "# num_workers: faster loading with multiple subprocesses\n",
    "# !!! IF YOU GET AN ERROR DURING LOADING, SET num_workers TO 0 !!!\n",
    "train_loader = DataLoader(dataset=train_dataset,\n",
    "                          batch_size=20,\n",
    "                          shuffle=True,\n",
    "                          num_workers=2)\n",
    "test_loader = DataLoader(dataset=test_dataset,\n",
    "                          batch_size=5,\n",
    "                          shuffle=True,\n",
    "                          num_workers=2)\n"
   ]
  },
  {
   "cell_type": "code",
   "execution_count": 9,
   "metadata": {},
   "outputs": [],
   "source": [
    "def conv3x3(in_planes, out_planes, stride=1):\n",
    "    \"3x3 convolution with padding\"\n",
    "    # in_planes = in_channels\n",
    "    # out_planes = out_channels\n",
    "    return nn.Conv2d(in_planes, out_planes, kernel_size=10, stride=stride,\n",
    "                     padding=1, bias=False)\n"
   ]
  },
  {
   "cell_type": "code",
   "execution_count": 10,
   "metadata": {},
   "outputs": [
    {
     "name": "stderr",
     "output_type": "stream",
     "text": [
      "/home/mila/g/gauthies/.conda/envs/ultra/lib/python3.7/site-packages/torch/storage.py:34: FutureWarning: pickle support for Storage will be removed in 1.5. Use `torch.save` instead\n",
      "  warnings.warn(\"pickle support for Storage will be removed in 1.5. Use `torch.save` instead\", FutureWarning)\n"
     ]
    }
   ],
   "source": [
    "with open('./train_dataset.pickle', 'wb') as handle:\n",
    "    pickle.dump(train_dataset, handle, protocol=pickle.HIGHEST_PROTOCOL)\n",
    "\n",
    "with open('./test_dataset.pickle', 'wb') as handle:\n",
    "    pickle.dump(test_dataset, handle, protocol=pickle.HIGHEST_PROTOCOL)"
   ]
  },
  {
   "cell_type": "markdown",
   "metadata": {},
   "source": [
    "## Defining scattering transformations"
   ]
  },
  {
   "cell_type": "code",
   "execution_count": 11,
   "metadata": {},
   "outputs": [],
   "source": [
    "parser = argparse.ArgumentParser(description='CIFAR scattering  + hybrid examples')\n",
    "parser.add_argument('--mode', type=int, default=1,help='scattering 1st or 2nd order')\n",
    "parser.add_argument('--width', type=int, default=2,help='width factor for resnet')\n",
    "args = parser.parse_args(args=[])\n",
    "\n",
    "use_cuda = torch.cuda.is_available()\n",
    "device = torch.device(\"cuda\" if use_cuda else \"cpu\")\n",
    "\n",
    "if args.mode == 1:\n",
    "    scattering = Scattering2D(J=2, shape=(M, N), max_order=1)\n",
    "    K = 17*1\n",
    "else:\n",
    "    scattering = Scattering2D(J=2, shape=(M, N))\n",
    "    K = 81*1\n",
    "if use_cuda:\n",
    "    scattering = scattering.cuda()\n",
    "\n"
   ]
  },
  {
   "cell_type": "markdown",
   "metadata": {},
   "source": [
    "## Training and Testing Functions"
   ]
  },
  {
   "cell_type": "code",
   "execution_count": 12,
   "metadata": {},
   "outputs": [
    {
     "name": "stdout",
     "output_type": "stream",
     "text": [
      "torch.Size([20, 1, 17, 108, 159])\n"
     ]
    }
   ],
   "source": [
    "for batch_idx, (data, target) in enumerate(train_loader):\n",
    "    print(scattering(data.to(device)).shape)\n",
    "    break"
   ]
  },
  {
   "cell_type": "code",
   "execution_count": 13,
   "metadata": {},
   "outputs": [],
   "source": [
    "def train(model, device, train_loader, optimizer, epoch, scattering):\n",
    "    model.train()\n",
    "    for batch_idx, (data, target) in enumerate(train_loader):\n",
    "        data, target = data.to(device), target.to(device)\n",
    "        optimizer.zero_grad()\n",
    "        output = model(scattering(data))\n",
    "        loss = F.cross_entropy(output, target.type(torch.long))\n",
    "        loss.backward()\n",
    "        optimizer.step()\n",
    "        if batch_idx % 5 == 0:\n",
    "            print('Train Epoch: {} [{}/{} ({:.0f}%)]\\tLoss: {:.6f}'.format(\n",
    "                epoch, batch_idx * len(data), len(train_loader.dataset),\n",
    "                100. * batch_idx / len(train_loader), loss.item()))\n",
    "\n",
    "def test(model, device, test_loader, scattering):\n",
    "    model.eval()\n",
    "    test_loss = 0\n",
    "    correct = 0\n",
    "    with torch.no_grad():\n",
    "        for data, target in test_loader:\n",
    "            data, target = data.to(device), target.to(device)\n",
    "            output = model(scattering(data))\n",
    "            print(target, output.max(1, keepdim=True)[1])\n",
    "            test_loss += F.cross_entropy(output, target.type(torch.long), reduction='sum').item() # sum up batch loss\n",
    "            pred = output.max(1, keepdim=True)[1] # get the index of the max log-probability\n",
    "            correct += pred.eq(target.view_as(pred)).sum().item()\n",
    "\n",
    "    test_loss /= len(test_loader.dataset)\n",
    "    print('\\nTest set: Average loss: {:.4f}, Accuracy: {}/{} ({:.2f}%)\\n'.format(\n",
    "        test_loss, correct, len(test_loader.dataset),\n",
    "        100. * correct / len(test_loader.dataset)))\n"
   ]
  },
  {
   "cell_type": "markdown",
   "metadata": {},
   "source": [
    "## Training"
   ]
  },
  {
   "cell_type": "code",
   "execution_count": 24,
   "metadata": {},
   "outputs": [],
   "source": [
    "model = Scattering2dResNet(K, args.width).to(device)"
   ]
  },
  {
   "cell_type": "code",
   "execution_count": 25,
   "metadata": {},
   "outputs": [],
   "source": [
    "from tqdm import tqdm"
   ]
  },
  {
   "cell_type": "code",
   "execution_count": 28,
   "metadata": {},
   "outputs": [
    {
     "name": "stdout",
     "output_type": "stream",
     "text": [
      "tensor([1, 1, 1, 0, 0], device='cuda:0', dtype=torch.uint8) tensor([[1],\n",
      "        [0],\n",
      "        [0],\n",
      "        [0],\n",
      "        [0]], device='cuda:0')\n",
      "tensor([1, 1, 0, 0, 1], device='cuda:0', dtype=torch.uint8) tensor([[0],\n",
      "        [0],\n",
      "        [0],\n",
      "        [1],\n",
      "        [1]], device='cuda:0')\n",
      "tensor([1, 1, 1, 0, 1], device='cuda:0', dtype=torch.uint8) tensor([[1],\n",
      "        [0],\n",
      "        [0],\n",
      "        [0],\n",
      "        [0]], device='cuda:0')\n",
      "tensor([1, 1, 1, 0, 0], device='cuda:0', dtype=torch.uint8) tensor([[1],\n",
      "        [1],\n",
      "        [1],\n",
      "        [0],\n",
      "        [1]], device='cuda:0')\n",
      "tensor([1, 0, 1, 1, 1], device='cuda:0', dtype=torch.uint8) tensor([[0],\n",
      "        [1],\n",
      "        [1],\n",
      "        [1],\n",
      "        [0]], device='cuda:0')\n",
      "tensor([1, 1, 1, 1, 1], device='cuda:0', dtype=torch.uint8) tensor([[1],\n",
      "        [1],\n",
      "        [1],\n",
      "        [1],\n",
      "        [1]], device='cuda:0')\n",
      "tensor([0, 1, 0, 0, 1], device='cuda:0', dtype=torch.uint8) tensor([[1],\n",
      "        [1],\n",
      "        [1],\n",
      "        [1],\n",
      "        [0]], device='cuda:0')\n",
      "tensor([0, 1, 1, 1, 1], device='cuda:0', dtype=torch.uint8) tensor([[1],\n",
      "        [0],\n",
      "        [0],\n",
      "        [1],\n",
      "        [1]], device='cuda:0')\n",
      "tensor([1, 0, 0, 0, 1], device='cuda:0', dtype=torch.uint8) tensor([[0],\n",
      "        [1],\n",
      "        [1],\n",
      "        [0],\n",
      "        [1]], device='cuda:0')\n",
      "tensor([1, 1, 1, 0, 1], device='cuda:0', dtype=torch.uint8) tensor([[0],\n",
      "        [1],\n",
      "        [1],\n",
      "        [0],\n",
      "        [1]], device='cuda:0')\n",
      "tensor([1, 1, 1, 1, 0], device='cuda:0', dtype=torch.uint8) tensor([[0],\n",
      "        [0],\n",
      "        [0],\n",
      "        [0],\n",
      "        [0]], device='cuda:0')\n",
      "tensor([1, 0, 0, 0, 1], device='cuda:0', dtype=torch.uint8) tensor([[0],\n",
      "        [0],\n",
      "        [0],\n",
      "        [1],\n",
      "        [0]], device='cuda:0')\n",
      "\n",
      "Test set: Average loss: 1.5529, Accuracy: 30/60 (50.00%)\n",
      "\n"
     ]
    }
   ],
   "source": [
    "test(model, device, test_loader, scattering)"
   ]
  },
  {
   "cell_type": "code",
   "execution_count": 27,
   "metadata": {},
   "outputs": [
    {
     "name": "stderr",
     "output_type": "stream",
     "text": [
      "\n",
      "  0%|          | 0/100 [00:00<?, ?it/s]\u001b[A"
     ]
    },
    {
     "name": "stdout",
     "output_type": "stream",
     "text": [
      "Train Epoch: 1 [0/490 (0%)]\tLoss: 0.048296\n",
      "Train Epoch: 1 [100/490 (20%)]\tLoss: 0.318545\n",
      "Train Epoch: 1 [200/490 (40%)]\tLoss: 0.239580\n",
      "Train Epoch: 1 [300/490 (60%)]\tLoss: 0.950013\n",
      "Train Epoch: 1 [400/490 (80%)]\tLoss: 0.384695\n"
     ]
    },
    {
     "name": "stderr",
     "output_type": "stream",
     "text": [
      "\n",
      "  1%|          | 1/100 [00:08<13:23,  8.12s/it]\u001b[A"
     ]
    },
    {
     "name": "stdout",
     "output_type": "stream",
     "text": [
      "Train Epoch: 2 [0/490 (0%)]\tLoss: 0.653871\n",
      "Train Epoch: 2 [100/490 (20%)]\tLoss: 0.284926\n",
      "Train Epoch: 2 [200/490 (40%)]\tLoss: 0.304205\n",
      "Train Epoch: 2 [300/490 (60%)]\tLoss: 0.510675\n",
      "Train Epoch: 2 [400/490 (80%)]\tLoss: 0.293771\n"
     ]
    },
    {
     "name": "stderr",
     "output_type": "stream",
     "text": [
      "\n",
      "  2%|▏         | 2/100 [00:16<13:13,  8.10s/it]\u001b[A"
     ]
    },
    {
     "name": "stdout",
     "output_type": "stream",
     "text": [
      "Train Epoch: 3 [0/490 (0%)]\tLoss: 0.328335\n",
      "Train Epoch: 3 [100/490 (20%)]\tLoss: 0.134635\n",
      "Train Epoch: 3 [200/490 (40%)]\tLoss: 0.266044\n",
      "Train Epoch: 3 [300/490 (60%)]\tLoss: 0.141956\n",
      "Train Epoch: 3 [400/490 (80%)]\tLoss: 0.152533\n"
     ]
    },
    {
     "name": "stderr",
     "output_type": "stream",
     "text": [
      "\n",
      "  3%|▎         | 3/100 [00:24<13:04,  8.09s/it]\u001b[A"
     ]
    },
    {
     "name": "stdout",
     "output_type": "stream",
     "text": [
      "Train Epoch: 4 [0/490 (0%)]\tLoss: 0.439558\n",
      "Train Epoch: 4 [100/490 (20%)]\tLoss: 0.319188\n",
      "Train Epoch: 4 [200/490 (40%)]\tLoss: 0.559839\n",
      "Train Epoch: 4 [300/490 (60%)]\tLoss: 0.976671\n",
      "Train Epoch: 4 [400/490 (80%)]\tLoss: 0.808896\n"
     ]
    },
    {
     "name": "stderr",
     "output_type": "stream",
     "text": [
      "\n",
      "  4%|▍         | 4/100 [00:32<12:55,  8.08s/it]\u001b[A"
     ]
    },
    {
     "name": "stdout",
     "output_type": "stream",
     "text": [
      "Train Epoch: 5 [0/490 (0%)]\tLoss: 0.317945\n",
      "Train Epoch: 5 [100/490 (20%)]\tLoss: 0.752270\n",
      "Train Epoch: 5 [200/490 (40%)]\tLoss: 0.497464\n",
      "Train Epoch: 5 [300/490 (60%)]\tLoss: 0.514561\n",
      "Train Epoch: 5 [400/490 (80%)]\tLoss: 0.207687\n"
     ]
    },
    {
     "name": "stderr",
     "output_type": "stream",
     "text": [
      "\n",
      "  5%|▌         | 5/100 [00:40<12:47,  8.07s/it]\u001b[A"
     ]
    },
    {
     "name": "stdout",
     "output_type": "stream",
     "text": [
      "Train Epoch: 6 [0/490 (0%)]\tLoss: 0.611090\n",
      "Train Epoch: 6 [100/490 (20%)]\tLoss: 0.324264\n",
      "Train Epoch: 6 [200/490 (40%)]\tLoss: 0.239355\n",
      "Train Epoch: 6 [300/490 (60%)]\tLoss: 0.360849\n",
      "Train Epoch: 6 [400/490 (80%)]\tLoss: 0.399189\n"
     ]
    },
    {
     "name": "stderr",
     "output_type": "stream",
     "text": [
      "\n",
      "  6%|▌         | 6/100 [00:48<12:38,  8.07s/it]\u001b[A"
     ]
    },
    {
     "name": "stdout",
     "output_type": "stream",
     "text": [
      "Train Epoch: 7 [0/490 (0%)]\tLoss: 0.139543\n",
      "Train Epoch: 7 [100/490 (20%)]\tLoss: 0.115788\n",
      "Train Epoch: 7 [200/490 (40%)]\tLoss: 0.212053\n",
      "Train Epoch: 7 [300/490 (60%)]\tLoss: 0.233316\n",
      "Train Epoch: 7 [400/490 (80%)]\tLoss: 0.087065\n"
     ]
    },
    {
     "name": "stderr",
     "output_type": "stream",
     "text": [
      "\n",
      "  7%|▋         | 7/100 [00:56<12:31,  8.08s/it]\u001b[A"
     ]
    },
    {
     "name": "stdout",
     "output_type": "stream",
     "text": [
      "Train Epoch: 8 [0/490 (0%)]\tLoss: 0.038863\n",
      "Train Epoch: 8 [100/490 (20%)]\tLoss: 0.182482\n",
      "Train Epoch: 8 [200/490 (40%)]\tLoss: 0.450166\n",
      "Train Epoch: 8 [300/490 (60%)]\tLoss: 0.822697\n",
      "Train Epoch: 8 [400/490 (80%)]\tLoss: 0.420881\n"
     ]
    },
    {
     "name": "stderr",
     "output_type": "stream",
     "text": [
      "\n",
      "  8%|▊         | 8/100 [01:04<12:22,  8.07s/it]\u001b[A"
     ]
    },
    {
     "name": "stdout",
     "output_type": "stream",
     "text": [
      "Train Epoch: 9 [0/490 (0%)]\tLoss: 0.494144\n",
      "Train Epoch: 9 [100/490 (20%)]\tLoss: 0.332868\n",
      "Train Epoch: 9 [200/490 (40%)]\tLoss: 0.107931\n",
      "Train Epoch: 9 [300/490 (60%)]\tLoss: 0.421030\n",
      "Train Epoch: 9 [400/490 (80%)]\tLoss: 0.090536\n"
     ]
    },
    {
     "name": "stderr",
     "output_type": "stream",
     "text": [
      "\n",
      "  9%|▉         | 9/100 [01:12<12:14,  8.08s/it]\u001b[A"
     ]
    },
    {
     "name": "stdout",
     "output_type": "stream",
     "text": [
      "Train Epoch: 10 [0/490 (0%)]\tLoss: 0.254283\n",
      "Train Epoch: 10 [100/490 (20%)]\tLoss: 0.195243\n",
      "Train Epoch: 10 [200/490 (40%)]\tLoss: 0.398842\n",
      "Train Epoch: 10 [300/490 (60%)]\tLoss: 0.051353\n",
      "Train Epoch: 10 [400/490 (80%)]\tLoss: 0.155275\n"
     ]
    },
    {
     "name": "stderr",
     "output_type": "stream",
     "text": [
      "\n",
      " 10%|█         | 10/100 [01:20<12:07,  8.08s/it]\u001b[A"
     ]
    },
    {
     "name": "stdout",
     "output_type": "stream",
     "text": [
      "Train Epoch: 11 [0/490 (0%)]\tLoss: 0.199874\n",
      "Train Epoch: 11 [100/490 (20%)]\tLoss: 0.130654\n",
      "Train Epoch: 11 [200/490 (40%)]\tLoss: 0.053462\n",
      "Train Epoch: 11 [300/490 (60%)]\tLoss: 0.066734\n",
      "Train Epoch: 11 [400/490 (80%)]\tLoss: 0.094651\n"
     ]
    },
    {
     "name": "stderr",
     "output_type": "stream",
     "text": [
      "\n",
      " 11%|█         | 11/100 [01:28<11:59,  8.08s/it]\u001b[A"
     ]
    },
    {
     "name": "stdout",
     "output_type": "stream",
     "text": [
      "Train Epoch: 12 [0/490 (0%)]\tLoss: 0.141400\n",
      "Train Epoch: 12 [100/490 (20%)]\tLoss: 0.058916\n",
      "Train Epoch: 12 [200/490 (40%)]\tLoss: 0.211548\n",
      "Train Epoch: 12 [300/490 (60%)]\tLoss: 0.033687\n",
      "Train Epoch: 12 [400/490 (80%)]\tLoss: 0.050299\n"
     ]
    },
    {
     "name": "stderr",
     "output_type": "stream",
     "text": [
      "\n",
      " 12%|█▏        | 12/100 [01:36<11:51,  8.08s/it]\u001b[A"
     ]
    },
    {
     "name": "stdout",
     "output_type": "stream",
     "text": [
      "Train Epoch: 13 [0/490 (0%)]\tLoss: 0.082597\n",
      "Train Epoch: 13 [100/490 (20%)]\tLoss: 0.123899\n",
      "Train Epoch: 13 [200/490 (40%)]\tLoss: 0.203499\n",
      "Train Epoch: 13 [300/490 (60%)]\tLoss: 0.209497\n",
      "Train Epoch: 13 [400/490 (80%)]\tLoss: 0.259059\n"
     ]
    },
    {
     "name": "stderr",
     "output_type": "stream",
     "text": [
      "\n",
      " 13%|█▎        | 13/100 [01:44<11:42,  8.08s/it]\u001b[A"
     ]
    },
    {
     "name": "stdout",
     "output_type": "stream",
     "text": [
      "Train Epoch: 14 [0/490 (0%)]\tLoss: 0.361975\n",
      "Train Epoch: 14 [100/490 (20%)]\tLoss: 0.282719\n",
      "Train Epoch: 14 [200/490 (40%)]\tLoss: 0.066732\n",
      "Train Epoch: 14 [300/490 (60%)]\tLoss: 0.197497\n",
      "Train Epoch: 14 [400/490 (80%)]\tLoss: 0.108683\n"
     ]
    },
    {
     "name": "stderr",
     "output_type": "stream",
     "text": [
      "\n",
      " 14%|█▍        | 14/100 [01:53<11:34,  8.07s/it]\u001b[A"
     ]
    },
    {
     "name": "stdout",
     "output_type": "stream",
     "text": [
      "Train Epoch: 15 [0/490 (0%)]\tLoss: 0.206756\n",
      "Train Epoch: 15 [100/490 (20%)]\tLoss: 0.063019\n",
      "Train Epoch: 15 [200/490 (40%)]\tLoss: 0.110515\n",
      "Train Epoch: 15 [300/490 (60%)]\tLoss: 0.071395\n",
      "Train Epoch: 15 [400/490 (80%)]\tLoss: 0.056919\n"
     ]
    },
    {
     "name": "stderr",
     "output_type": "stream",
     "text": [
      "\n",
      " 15%|█▌        | 15/100 [02:01<11:26,  8.07s/it]\u001b[A"
     ]
    },
    {
     "name": "stdout",
     "output_type": "stream",
     "text": [
      "Train Epoch: 16 [0/490 (0%)]\tLoss: 0.060248\n",
      "Train Epoch: 16 [100/490 (20%)]\tLoss: 0.040397\n",
      "Train Epoch: 16 [200/490 (40%)]\tLoss: 0.064817\n",
      "Train Epoch: 16 [300/490 (60%)]\tLoss: 0.020416\n",
      "Train Epoch: 16 [400/490 (80%)]\tLoss: 0.138013\n"
     ]
    },
    {
     "name": "stderr",
     "output_type": "stream",
     "text": [
      "\n",
      " 16%|█▌        | 16/100 [02:09<11:18,  8.08s/it]\u001b[A"
     ]
    },
    {
     "name": "stdout",
     "output_type": "stream",
     "text": [
      "Train Epoch: 17 [0/490 (0%)]\tLoss: 0.063409\n",
      "Train Epoch: 17 [100/490 (20%)]\tLoss: 0.029131\n",
      "Train Epoch: 17 [200/490 (40%)]\tLoss: 0.085534\n",
      "Train Epoch: 17 [300/490 (60%)]\tLoss: 0.057925\n",
      "Train Epoch: 17 [400/490 (80%)]\tLoss: 0.228691\n"
     ]
    },
    {
     "name": "stderr",
     "output_type": "stream",
     "text": [
      "\n",
      " 17%|█▋        | 17/100 [02:17<11:10,  8.08s/it]\u001b[A"
     ]
    },
    {
     "name": "stdout",
     "output_type": "stream",
     "text": [
      "Train Epoch: 18 [0/490 (0%)]\tLoss: 0.133744\n",
      "Train Epoch: 18 [100/490 (20%)]\tLoss: 0.136890\n",
      "Train Epoch: 18 [200/490 (40%)]\tLoss: 0.021394\n",
      "Train Epoch: 18 [300/490 (60%)]\tLoss: 0.024967\n",
      "Train Epoch: 18 [400/490 (80%)]\tLoss: 0.154552\n"
     ]
    },
    {
     "name": "stderr",
     "output_type": "stream",
     "text": [
      "\n",
      " 18%|█▊        | 18/100 [02:25<11:02,  8.08s/it]\u001b[A"
     ]
    },
    {
     "name": "stdout",
     "output_type": "stream",
     "text": [
      "Train Epoch: 19 [0/490 (0%)]\tLoss: 0.069390\n",
      "Train Epoch: 19 [100/490 (20%)]\tLoss: 0.032352\n",
      "Train Epoch: 19 [200/490 (40%)]\tLoss: 0.261218\n",
      "Train Epoch: 19 [300/490 (60%)]\tLoss: 0.118742\n",
      "Train Epoch: 19 [400/490 (80%)]\tLoss: 1.061881\n"
     ]
    },
    {
     "name": "stderr",
     "output_type": "stream",
     "text": [
      "\n",
      " 19%|█▉        | 19/100 [02:33<10:54,  8.08s/it]\u001b[A"
     ]
    },
    {
     "name": "stdout",
     "output_type": "stream",
     "text": [
      "Train Epoch: 20 [0/490 (0%)]\tLoss: 0.491835\n",
      "Train Epoch: 20 [100/490 (20%)]\tLoss: 0.414626\n",
      "Train Epoch: 20 [200/490 (40%)]\tLoss: 0.081289\n",
      "Train Epoch: 20 [300/490 (60%)]\tLoss: 0.068249\n",
      "Train Epoch: 20 [400/490 (80%)]\tLoss: 0.053021\n"
     ]
    },
    {
     "name": "stderr",
     "output_type": "stream",
     "text": [
      "\n",
      " 20%|██        | 20/100 [02:41<10:46,  8.08s/it]\u001b[A"
     ]
    },
    {
     "name": "stdout",
     "output_type": "stream",
     "text": [
      "Train Epoch: 21 [0/490 (0%)]\tLoss: 0.083245\n",
      "Train Epoch: 21 [100/490 (20%)]\tLoss: 0.059188\n",
      "Train Epoch: 21 [200/490 (40%)]\tLoss: 0.028290\n",
      "Train Epoch: 21 [300/490 (60%)]\tLoss: 0.096822\n",
      "Train Epoch: 21 [400/490 (80%)]\tLoss: 0.110014\n"
     ]
    },
    {
     "name": "stderr",
     "output_type": "stream",
     "text": [
      "\n",
      " 21%|██        | 21/100 [02:49<10:37,  8.08s/it]\u001b[A"
     ]
    },
    {
     "name": "stdout",
     "output_type": "stream",
     "text": [
      "Train Epoch: 22 [0/490 (0%)]\tLoss: 0.068055\n",
      "Train Epoch: 22 [100/490 (20%)]\tLoss: 0.038509\n",
      "Train Epoch: 22 [200/490 (40%)]\tLoss: 0.033684\n",
      "Train Epoch: 22 [300/490 (60%)]\tLoss: 0.044756\n",
      "Train Epoch: 22 [400/490 (80%)]\tLoss: 0.070400\n"
     ]
    },
    {
     "name": "stderr",
     "output_type": "stream",
     "text": [
      "\n",
      " 22%|██▏       | 22/100 [02:57<10:30,  8.08s/it]\u001b[A"
     ]
    },
    {
     "name": "stdout",
     "output_type": "stream",
     "text": [
      "Train Epoch: 23 [0/490 (0%)]\tLoss: 0.049528\n",
      "Train Epoch: 23 [100/490 (20%)]\tLoss: 0.031394\n",
      "Train Epoch: 23 [200/490 (40%)]\tLoss: 0.029764\n",
      "Train Epoch: 23 [300/490 (60%)]\tLoss: 0.019006\n",
      "Train Epoch: 23 [400/490 (80%)]\tLoss: 0.065310\n"
     ]
    },
    {
     "name": "stderr",
     "output_type": "stream",
     "text": [
      "\n",
      " 23%|██▎       | 23/100 [03:05<10:22,  8.09s/it]\u001b[A"
     ]
    },
    {
     "name": "stdout",
     "output_type": "stream",
     "text": [
      "Train Epoch: 24 [0/490 (0%)]\tLoss: 0.029185\n",
      "Train Epoch: 24 [100/490 (20%)]\tLoss: 0.033664\n",
      "Train Epoch: 24 [200/490 (40%)]\tLoss: 0.047092\n",
      "Train Epoch: 24 [300/490 (60%)]\tLoss: 0.027430\n",
      "Train Epoch: 24 [400/490 (80%)]\tLoss: 0.043194\n"
     ]
    },
    {
     "name": "stderr",
     "output_type": "stream",
     "text": [
      "\n",
      " 24%|██▍       | 24/100 [03:13<10:14,  8.09s/it]\u001b[A"
     ]
    },
    {
     "name": "stdout",
     "output_type": "stream",
     "text": [
      "Train Epoch: 25 [0/490 (0%)]\tLoss: 0.017751\n",
      "Train Epoch: 25 [100/490 (20%)]\tLoss: 0.030548\n",
      "Train Epoch: 25 [200/490 (40%)]\tLoss: 0.022565\n",
      "Train Epoch: 25 [300/490 (60%)]\tLoss: 0.061847\n",
      "Train Epoch: 25 [400/490 (80%)]\tLoss: 0.022102\n"
     ]
    },
    {
     "name": "stderr",
     "output_type": "stream",
     "text": [
      "\n",
      " 25%|██▌       | 25/100 [03:21<10:07,  8.09s/it]\u001b[A"
     ]
    },
    {
     "name": "stdout",
     "output_type": "stream",
     "text": [
      "Train Epoch: 26 [0/490 (0%)]\tLoss: 0.059656\n",
      "Train Epoch: 26 [100/490 (20%)]\tLoss: 0.018100\n",
      "Train Epoch: 26 [200/490 (40%)]\tLoss: 0.006776\n",
      "Train Epoch: 26 [300/490 (60%)]\tLoss: 0.025254\n",
      "Train Epoch: 26 [400/490 (80%)]\tLoss: 0.034177\n"
     ]
    },
    {
     "name": "stderr",
     "output_type": "stream",
     "text": [
      "\n",
      " 26%|██▌       | 26/100 [03:30<09:58,  8.09s/it]\u001b[A"
     ]
    },
    {
     "name": "stdout",
     "output_type": "stream",
     "text": [
      "Train Epoch: 27 [0/490 (0%)]\tLoss: 0.033124\n",
      "Train Epoch: 27 [100/490 (20%)]\tLoss: 0.085619\n",
      "Train Epoch: 27 [200/490 (40%)]\tLoss: 0.011277\n",
      "Train Epoch: 27 [300/490 (60%)]\tLoss: 0.018121\n",
      "Train Epoch: 27 [400/490 (80%)]\tLoss: 0.025063\n"
     ]
    },
    {
     "name": "stderr",
     "output_type": "stream",
     "text": [
      "\n",
      " 27%|██▋       | 27/100 [03:38<09:50,  8.09s/it]\u001b[A"
     ]
    },
    {
     "name": "stdout",
     "output_type": "stream",
     "text": [
      "Train Epoch: 28 [0/490 (0%)]\tLoss: 0.005662\n",
      "Train Epoch: 28 [100/490 (20%)]\tLoss: 0.123811\n",
      "Train Epoch: 28 [200/490 (40%)]\tLoss: 0.036048\n",
      "Train Epoch: 28 [300/490 (60%)]\tLoss: 0.027784\n",
      "Train Epoch: 28 [400/490 (80%)]\tLoss: 0.028228\n"
     ]
    },
    {
     "name": "stderr",
     "output_type": "stream",
     "text": [
      "\n",
      " 28%|██▊       | 28/100 [03:46<09:42,  8.09s/it]\u001b[A"
     ]
    },
    {
     "name": "stdout",
     "output_type": "stream",
     "text": [
      "Train Epoch: 29 [0/490 (0%)]\tLoss: 0.022832\n",
      "Train Epoch: 29 [100/490 (20%)]\tLoss: 0.020477\n",
      "Train Epoch: 29 [200/490 (40%)]\tLoss: 0.010852\n",
      "Train Epoch: 29 [300/490 (60%)]\tLoss: 0.019121\n",
      "Train Epoch: 29 [400/490 (80%)]\tLoss: 0.032262\n"
     ]
    },
    {
     "name": "stderr",
     "output_type": "stream",
     "text": [
      "\n",
      " 29%|██▉       | 29/100 [03:54<09:34,  8.09s/it]\u001b[A"
     ]
    },
    {
     "name": "stdout",
     "output_type": "stream",
     "text": [
      "Train Epoch: 30 [0/490 (0%)]\tLoss: 0.038119\n",
      "Train Epoch: 30 [100/490 (20%)]\tLoss: 0.027844\n",
      "Train Epoch: 30 [200/490 (40%)]\tLoss: 0.076605\n",
      "Train Epoch: 30 [300/490 (60%)]\tLoss: 0.006257\n",
      "Train Epoch: 30 [400/490 (80%)]\tLoss: 0.039330\n"
     ]
    },
    {
     "name": "stderr",
     "output_type": "stream",
     "text": [
      "\n",
      " 30%|███       | 30/100 [04:02<09:25,  8.09s/it]\u001b[A"
     ]
    },
    {
     "name": "stdout",
     "output_type": "stream",
     "text": [
      "Train Epoch: 31 [0/490 (0%)]\tLoss: 0.018575\n",
      "Train Epoch: 31 [100/490 (20%)]\tLoss: 0.027173\n",
      "Train Epoch: 31 [200/490 (40%)]\tLoss: 0.038416\n",
      "Train Epoch: 31 [300/490 (60%)]\tLoss: 0.012995\n",
      "Train Epoch: 31 [400/490 (80%)]\tLoss: 0.006833\n"
     ]
    },
    {
     "name": "stderr",
     "output_type": "stream",
     "text": [
      "\n",
      " 31%|███       | 31/100 [04:10<09:17,  8.08s/it]\u001b[A"
     ]
    },
    {
     "name": "stdout",
     "output_type": "stream",
     "text": [
      "Train Epoch: 32 [0/490 (0%)]\tLoss: 0.023793\n",
      "Train Epoch: 32 [100/490 (20%)]\tLoss: 0.011679\n",
      "Train Epoch: 32 [200/490 (40%)]\tLoss: 0.009168\n",
      "Train Epoch: 32 [300/490 (60%)]\tLoss: 0.013932\n",
      "Train Epoch: 32 [400/490 (80%)]\tLoss: 0.026427\n"
     ]
    },
    {
     "name": "stderr",
     "output_type": "stream",
     "text": [
      "\n",
      " 32%|███▏      | 32/100 [04:18<09:09,  8.08s/it]\u001b[A"
     ]
    },
    {
     "name": "stdout",
     "output_type": "stream",
     "text": [
      "Train Epoch: 33 [0/490 (0%)]\tLoss: 0.007133\n",
      "Train Epoch: 33 [100/490 (20%)]\tLoss: 0.051532\n",
      "Train Epoch: 33 [200/490 (40%)]\tLoss: 0.021881\n",
      "Train Epoch: 33 [300/490 (60%)]\tLoss: 0.011441\n",
      "Train Epoch: 33 [400/490 (80%)]\tLoss: 0.032280\n"
     ]
    },
    {
     "name": "stderr",
     "output_type": "stream",
     "text": [
      "\n",
      " 33%|███▎      | 33/100 [04:26<09:01,  8.08s/it]\u001b[A"
     ]
    },
    {
     "name": "stdout",
     "output_type": "stream",
     "text": [
      "Train Epoch: 34 [0/490 (0%)]\tLoss: 0.023942\n",
      "Train Epoch: 34 [100/490 (20%)]\tLoss: 0.022019\n",
      "Train Epoch: 34 [200/490 (40%)]\tLoss: 0.058078\n",
      "Train Epoch: 34 [300/490 (60%)]\tLoss: 0.010230\n",
      "Train Epoch: 34 [400/490 (80%)]\tLoss: 0.007897\n"
     ]
    },
    {
     "name": "stderr",
     "output_type": "stream",
     "text": [
      "\n",
      " 34%|███▍      | 34/100 [04:34<08:53,  8.08s/it]\u001b[A"
     ]
    },
    {
     "name": "stdout",
     "output_type": "stream",
     "text": [
      "Train Epoch: 35 [0/490 (0%)]\tLoss: 0.004061\n",
      "Train Epoch: 35 [100/490 (20%)]\tLoss: 0.014852\n",
      "Train Epoch: 35 [200/490 (40%)]\tLoss: 0.077533\n",
      "Train Epoch: 35 [300/490 (60%)]\tLoss: 0.011691\n",
      "Train Epoch: 35 [400/490 (80%)]\tLoss: 0.014075\n"
     ]
    },
    {
     "name": "stderr",
     "output_type": "stream",
     "text": [
      "\n",
      " 35%|███▌      | 35/100 [04:42<08:45,  8.08s/it]\u001b[A"
     ]
    },
    {
     "name": "stdout",
     "output_type": "stream",
     "text": [
      "Train Epoch: 36 [0/490 (0%)]\tLoss: 0.013753\n",
      "Train Epoch: 36 [100/490 (20%)]\tLoss: 0.074630\n",
      "Train Epoch: 36 [200/490 (40%)]\tLoss: 0.007605\n",
      "Train Epoch: 36 [300/490 (60%)]\tLoss: 0.012947\n",
      "Train Epoch: 36 [400/490 (80%)]\tLoss: 0.008119\n"
     ]
    },
    {
     "name": "stderr",
     "output_type": "stream",
     "text": [
      "\n",
      " 36%|███▌      | 36/100 [04:50<08:37,  8.08s/it]\u001b[A"
     ]
    },
    {
     "name": "stdout",
     "output_type": "stream",
     "text": [
      "Train Epoch: 37 [0/490 (0%)]\tLoss: 0.014302\n",
      "Train Epoch: 37 [100/490 (20%)]\tLoss: 0.020887\n",
      "Train Epoch: 37 [200/490 (40%)]\tLoss: 0.011535\n",
      "Train Epoch: 37 [300/490 (60%)]\tLoss: 0.013069\n",
      "Train Epoch: 37 [400/490 (80%)]\tLoss: 0.008707\n"
     ]
    },
    {
     "name": "stderr",
     "output_type": "stream",
     "text": [
      "\n",
      " 37%|███▋      | 37/100 [04:58<08:29,  8.08s/it]\u001b[A"
     ]
    },
    {
     "name": "stdout",
     "output_type": "stream",
     "text": [
      "Train Epoch: 38 [0/490 (0%)]\tLoss: 0.012406\n",
      "Train Epoch: 38 [100/490 (20%)]\tLoss: 0.010253\n",
      "Train Epoch: 38 [200/490 (40%)]\tLoss: 0.032811\n",
      "Train Epoch: 38 [300/490 (60%)]\tLoss: 0.004039\n",
      "Train Epoch: 38 [400/490 (80%)]\tLoss: 0.067076\n"
     ]
    },
    {
     "name": "stderr",
     "output_type": "stream",
     "text": [
      "\n",
      " 38%|███▊      | 38/100 [05:07<08:20,  8.08s/it]\u001b[A"
     ]
    },
    {
     "name": "stdout",
     "output_type": "stream",
     "text": [
      "Train Epoch: 39 [0/490 (0%)]\tLoss: 0.011469\n",
      "Train Epoch: 39 [100/490 (20%)]\tLoss: 0.020157\n",
      "Train Epoch: 39 [200/490 (40%)]\tLoss: 0.009759\n",
      "Train Epoch: 39 [300/490 (60%)]\tLoss: 0.016177\n",
      "Train Epoch: 39 [400/490 (80%)]\tLoss: 0.005673\n"
     ]
    },
    {
     "name": "stderr",
     "output_type": "stream",
     "text": [
      "\n",
      " 39%|███▉      | 39/100 [05:15<08:13,  8.08s/it]\u001b[A"
     ]
    },
    {
     "name": "stdout",
     "output_type": "stream",
     "text": [
      "Train Epoch: 40 [0/490 (0%)]\tLoss: 0.006138\n",
      "Train Epoch: 40 [100/490 (20%)]\tLoss: 0.003864\n",
      "Train Epoch: 40 [200/490 (40%)]\tLoss: 0.012299\n",
      "Train Epoch: 40 [300/490 (60%)]\tLoss: 0.018879\n",
      "Train Epoch: 40 [400/490 (80%)]\tLoss: 0.009259\n"
     ]
    },
    {
     "name": "stderr",
     "output_type": "stream",
     "text": [
      "\n",
      " 40%|████      | 40/100 [05:23<08:05,  8.09s/it]\u001b[A"
     ]
    },
    {
     "name": "stdout",
     "output_type": "stream",
     "text": [
      "Train Epoch: 41 [0/490 (0%)]\tLoss: 0.004389\n",
      "Train Epoch: 41 [100/490 (20%)]\tLoss: 0.008355\n",
      "Train Epoch: 41 [200/490 (40%)]\tLoss: 0.007572\n",
      "Train Epoch: 41 [300/490 (60%)]\tLoss: 0.011791\n",
      "Train Epoch: 41 [400/490 (80%)]\tLoss: 0.054201\n"
     ]
    },
    {
     "name": "stderr",
     "output_type": "stream",
     "text": [
      "\n",
      " 41%|████      | 41/100 [05:31<07:57,  8.09s/it]\u001b[A"
     ]
    },
    {
     "name": "stdout",
     "output_type": "stream",
     "text": [
      "Train Epoch: 42 [0/490 (0%)]\tLoss: 0.008774\n",
      "Train Epoch: 42 [100/490 (20%)]\tLoss: 0.011736\n",
      "Train Epoch: 42 [200/490 (40%)]\tLoss: 0.050724\n",
      "Train Epoch: 42 [300/490 (60%)]\tLoss: 0.017340\n",
      "Train Epoch: 42 [400/490 (80%)]\tLoss: 0.018878\n"
     ]
    },
    {
     "name": "stderr",
     "output_type": "stream",
     "text": [
      "\n",
      " 42%|████▏     | 42/100 [05:39<07:49,  8.09s/it]\u001b[A"
     ]
    },
    {
     "name": "stdout",
     "output_type": "stream",
     "text": [
      "Train Epoch: 43 [0/490 (0%)]\tLoss: 0.018691\n",
      "Train Epoch: 43 [100/490 (20%)]\tLoss: 0.032518\n",
      "Train Epoch: 43 [200/490 (40%)]\tLoss: 0.007072\n",
      "Train Epoch: 43 [300/490 (60%)]\tLoss: 0.030528\n",
      "Train Epoch: 43 [400/490 (80%)]\tLoss: 0.004484\n"
     ]
    },
    {
     "name": "stderr",
     "output_type": "stream",
     "text": [
      "\n",
      " 43%|████▎     | 43/100 [05:47<07:41,  8.09s/it]\u001b[A"
     ]
    },
    {
     "name": "stdout",
     "output_type": "stream",
     "text": [
      "Train Epoch: 44 [0/490 (0%)]\tLoss: 0.013428\n",
      "Train Epoch: 44 [100/490 (20%)]\tLoss: 0.004776\n",
      "Train Epoch: 44 [200/490 (40%)]\tLoss: 0.018246\n",
      "Train Epoch: 44 [300/490 (60%)]\tLoss: 0.011422\n",
      "Train Epoch: 44 [400/490 (80%)]\tLoss: 0.033490\n"
     ]
    },
    {
     "name": "stderr",
     "output_type": "stream",
     "text": [
      "\n",
      " 44%|████▍     | 44/100 [05:55<07:33,  8.10s/it]\u001b[A"
     ]
    },
    {
     "name": "stdout",
     "output_type": "stream",
     "text": [
      "Train Epoch: 45 [0/490 (0%)]\tLoss: 0.004327\n",
      "Train Epoch: 45 [100/490 (20%)]\tLoss: 0.007497\n",
      "Train Epoch: 45 [200/490 (40%)]\tLoss: 0.005887\n",
      "Train Epoch: 45 [300/490 (60%)]\tLoss: 0.006461\n",
      "Train Epoch: 45 [400/490 (80%)]\tLoss: 0.002381\n"
     ]
    },
    {
     "name": "stderr",
     "output_type": "stream",
     "text": [
      "\n",
      " 45%|████▌     | 45/100 [06:03<07:25,  8.10s/it]\u001b[A"
     ]
    },
    {
     "name": "stdout",
     "output_type": "stream",
     "text": [
      "Train Epoch: 46 [0/490 (0%)]\tLoss: 0.007248\n",
      "Train Epoch: 46 [100/490 (20%)]\tLoss: 0.005624\n",
      "Train Epoch: 46 [200/490 (40%)]\tLoss: 0.006346\n",
      "Train Epoch: 46 [300/490 (60%)]\tLoss: 0.003954\n",
      "Train Epoch: 46 [400/490 (80%)]\tLoss: 0.004343\n"
     ]
    },
    {
     "name": "stderr",
     "output_type": "stream",
     "text": [
      "\n",
      " 46%|████▌     | 46/100 [06:11<07:17,  8.10s/it]\u001b[A"
     ]
    },
    {
     "name": "stdout",
     "output_type": "stream",
     "text": [
      "Train Epoch: 47 [0/490 (0%)]\tLoss: 0.010192\n",
      "Train Epoch: 47 [100/490 (20%)]\tLoss: 0.003215\n",
      "Train Epoch: 47 [200/490 (40%)]\tLoss: 0.005848\n",
      "Train Epoch: 47 [300/490 (60%)]\tLoss: 0.004483\n",
      "Train Epoch: 47 [400/490 (80%)]\tLoss: 0.003397\n"
     ]
    },
    {
     "name": "stderr",
     "output_type": "stream",
     "text": [
      "\n",
      " 47%|████▋     | 47/100 [06:19<07:09,  8.10s/it]\u001b[A"
     ]
    },
    {
     "name": "stdout",
     "output_type": "stream",
     "text": [
      "Train Epoch: 48 [0/490 (0%)]\tLoss: 0.006691\n",
      "Train Epoch: 48 [100/490 (20%)]\tLoss: 0.003676\n",
      "Train Epoch: 48 [200/490 (40%)]\tLoss: 0.007161\n"
     ]
    },
    {
     "ename": "KeyboardInterrupt",
     "evalue": "",
     "output_type": "error",
     "traceback": [
      "\u001b[0;31m---------------------------------------------------------------------------\u001b[0m",
      "\u001b[0;31mKeyboardInterrupt\u001b[0m                         Traceback (most recent call last)",
      "\u001b[0;32m<ipython-input-27-01f33d83a38b>\u001b[0m in \u001b[0;36m<module>\u001b[0;34m\u001b[0m\n\u001b[1;32m      6\u001b[0m                                   weight_decay=0.0005)\n\u001b[1;32m      7\u001b[0m       \u001b[0mlr\u001b[0m\u001b[0;34m*=\u001b[0m\u001b[0;36m0.2\u001b[0m\u001b[0;34m\u001b[0m\u001b[0m\n\u001b[0;32m----> 8\u001b[0;31m     \u001b[0mtrain\u001b[0m\u001b[0;34m(\u001b[0m\u001b[0mmodel\u001b[0m\u001b[0;34m,\u001b[0m \u001b[0mdevice\u001b[0m\u001b[0;34m,\u001b[0m \u001b[0mtrain_loader\u001b[0m\u001b[0;34m,\u001b[0m \u001b[0moptimizer\u001b[0m\u001b[0;34m,\u001b[0m \u001b[0mepoch\u001b[0m\u001b[0;34m+\u001b[0m\u001b[0;36m1\u001b[0m\u001b[0;34m,\u001b[0m \u001b[0mscattering\u001b[0m\u001b[0;34m)\u001b[0m\u001b[0;34m\u001b[0m\u001b[0m\n\u001b[0m\u001b[1;32m      9\u001b[0m \u001b[0;34m\u001b[0m\u001b[0m\n\u001b[1;32m     10\u001b[0m \u001b[0mtest\u001b[0m\u001b[0;34m(\u001b[0m\u001b[0mmodel\u001b[0m\u001b[0;34m,\u001b[0m \u001b[0mdevice\u001b[0m\u001b[0;34m,\u001b[0m \u001b[0mtest_loader\u001b[0m\u001b[0;34m,\u001b[0m \u001b[0mscattering\u001b[0m\u001b[0;34m)\u001b[0m\u001b[0;34m\u001b[0m\u001b[0m\n",
      "\u001b[0;32m<ipython-input-13-ecdc5e0d83b0>\u001b[0m in \u001b[0;36mtrain\u001b[0;34m(model, device, train_loader, optimizer, epoch, scattering)\u001b[0m\n\u001b[1;32m      2\u001b[0m     \u001b[0mmodel\u001b[0m\u001b[0;34m.\u001b[0m\u001b[0mtrain\u001b[0m\u001b[0;34m(\u001b[0m\u001b[0;34m)\u001b[0m\u001b[0;34m\u001b[0m\u001b[0m\n\u001b[1;32m      3\u001b[0m     \u001b[0;32mfor\u001b[0m \u001b[0mbatch_idx\u001b[0m\u001b[0;34m,\u001b[0m \u001b[0;34m(\u001b[0m\u001b[0mdata\u001b[0m\u001b[0;34m,\u001b[0m \u001b[0mtarget\u001b[0m\u001b[0;34m)\u001b[0m \u001b[0;32min\u001b[0m \u001b[0menumerate\u001b[0m\u001b[0;34m(\u001b[0m\u001b[0mtrain_loader\u001b[0m\u001b[0;34m)\u001b[0m\u001b[0;34m:\u001b[0m\u001b[0;34m\u001b[0m\u001b[0m\n\u001b[0;32m----> 4\u001b[0;31m         \u001b[0mdata\u001b[0m\u001b[0;34m,\u001b[0m \u001b[0mtarget\u001b[0m \u001b[0;34m=\u001b[0m \u001b[0mdata\u001b[0m\u001b[0;34m.\u001b[0m\u001b[0mto\u001b[0m\u001b[0;34m(\u001b[0m\u001b[0mdevice\u001b[0m\u001b[0;34m)\u001b[0m\u001b[0;34m,\u001b[0m \u001b[0mtarget\u001b[0m\u001b[0;34m.\u001b[0m\u001b[0mto\u001b[0m\u001b[0;34m(\u001b[0m\u001b[0mdevice\u001b[0m\u001b[0;34m)\u001b[0m\u001b[0;34m\u001b[0m\u001b[0m\n\u001b[0m\u001b[1;32m      5\u001b[0m         \u001b[0moptimizer\u001b[0m\u001b[0;34m.\u001b[0m\u001b[0mzero_grad\u001b[0m\u001b[0;34m(\u001b[0m\u001b[0;34m)\u001b[0m\u001b[0;34m\u001b[0m\u001b[0m\n\u001b[1;32m      6\u001b[0m         \u001b[0moutput\u001b[0m \u001b[0;34m=\u001b[0m \u001b[0mmodel\u001b[0m\u001b[0;34m(\u001b[0m\u001b[0mscattering\u001b[0m\u001b[0;34m(\u001b[0m\u001b[0mdata\u001b[0m\u001b[0;34m)\u001b[0m\u001b[0;34m)\u001b[0m\u001b[0;34m\u001b[0m\u001b[0m\n",
      "\u001b[0;31mKeyboardInterrupt\u001b[0m: "
     ]
    }
   ],
   "source": [
    "# Optimizer\n",
    "lr = 0.1\n",
    "for epoch in tqdm(range(0, 100)):\n",
    "    if epoch%20==0:\n",
    "      optimizer = torch.optim.SGD(model.parameters(), lr=lr, momentum=0.9,\n",
    "                                  weight_decay=0.0005)\n",
    "      lr*=0.2\n",
    "    train(model, device, train_loader, optimizer, epoch+1, scattering)\n",
    "\n",
    "test(model, device, test_loader, scattering)\n",
    "\n"
   ]
  },
  {
   "cell_type": "markdown",
   "metadata": {},
   "source": [
    "# Run Mlflow to see results\n",
    "\n",
    "`!mlflow ui`\n",
    "\n",
    "Should launch something like this:\n",
    "\n"
   ]
  },
  {
   "cell_type": "code",
   "execution_count": null,
   "metadata": {},
   "outputs": [],
   "source": [
    "# !mlflow ui"
   ]
  },
  {
   "cell_type": "code",
   "execution_count": null,
   "metadata": {},
   "outputs": [],
   "source": []
  }
 ],
 "metadata": {
  "accelerator": "GPU",
  "colab": {
   "collapsed_sections": [],
   "name": "Transfer learning with deep convolutional neural network for liver steatosis assessment in ultrasound images Reproducibility with Scatterin.ipynb",
   "provenance": [],
   "toc_visible": true
  },
  "kernelspec": {
   "display_name": "Python 3 (ultra)",
   "language": "python",
   "name": "ultra"
  },
  "language_info": {
   "codemirror_mode": {
    "name": "ipython",
    "version": 3
   },
   "file_extension": ".py",
   "mimetype": "text/x-python",
   "name": "python",
   "nbconvert_exporter": "python",
   "pygments_lexer": "ipython3",
   "version": "3.7.0"
  }
 },
 "nbformat": 4,
 "nbformat_minor": 4
}
