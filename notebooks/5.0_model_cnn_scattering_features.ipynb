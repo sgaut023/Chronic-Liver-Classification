{
 "cells": [
  {
   "cell_type": "markdown",
   "metadata": {
    "colab_type": "text",
    "id": "ENoS3mTtGQts"
   },
   "source": [
    "# Experiment 5: Scattering Features + CNN Model\n",
    "\n",
    "\n"
   ]
  },
  {
   "cell_type": "code",
   "execution_count": 76,
   "metadata": {
    "colab": {},
    "colab_type": "code",
    "id": "ptO9fUvkD-Lc"
   },
   "outputs": [],
   "source": [
    "import sys\n",
    "sys.path.append('../src')\n",
    "import warnings\n",
    "warnings.filterwarnings(\"ignore\") \n",
    "\n",
    "from utils.reduce import reduce_pca\n",
    "from utils.split import train_test_split, train_test_split_pytorch\n",
    "from utils.UltrasoundDataset import UltrasoundDataset\n",
    "from utils.Networks import  BasicBlock, Scattering2dResNet\n",
    "from torch.utils.data import Dataset, DataLoader\n",
    "import torch.nn.functional as F\n",
    "from torch.autograd import Variable\n",
    "from kymatio.torch import Scattering2D\n",
    "import argparse\n",
    "import torch.nn as nn\n",
    "import torch.nn.functional as F\n",
    "import torchvision.transforms as transforms\n",
    "import torch.optim\n",
    "import pickle\n",
    "import pandas as pd\n",
    "import numpy as np\n",
    "import mlflow\n",
    "import matplotlib.pyplot as plt"
   ]
  },
  {
   "cell_type": "code",
   "execution_count": 77,
   "metadata": {},
   "outputs": [
    {
     "name": "stdout",
     "output_type": "stream",
     "text": [
      "INFO: 'scattering_cnn_experiment' does not exist. Creating a new experiment\n"
     ]
    }
   ],
   "source": [
    "# create an experiment in mlruns if doesn't exit and specifiy where to log\n",
    "mlflow.set_experiment('scattering_cnn_experiment')"
   ]
  },
  {
   "cell_type": "markdown",
   "metadata": {
    "colab_type": "text",
    "id": "731ett2LeCqH"
   },
   "source": [
    "## Upload Ultrasound images"
   ]
  },
  {
   "cell_type": "code",
   "execution_count": 78,
   "metadata": {},
   "outputs": [],
   "source": [
    "with open('../data/02_interim/bmodes_steatosis_assessment_IJCARS.pickle', 'rb') as handle:\n",
    "    df = pickle.load(handle)"
   ]
  },
  {
   "cell_type": "code",
   "execution_count": 79,
   "metadata": {},
   "outputs": [],
   "source": [
    "M, N= 434, 636 # ultrasound image dimension"
   ]
  },
  {
   "cell_type": "code",
   "execution_count": 80,
   "metadata": {},
   "outputs": [],
   "source": [
    "# split training and test (by making sure the 10 ultrasound images of one patient is in the same set)\n",
    "train_data, test_data = train_test_split(df)\n",
    "train_data, val_data = train_test_split(train_data)"
   ]
  },
  {
   "cell_type": "code",
   "execution_count": 81,
   "metadata": {},
   "outputs": [],
   "source": [
    "###############################################################################\n",
    "# If a GPU is available, let's use it!\n",
    "use_cuda = torch.cuda.is_available()\n",
    "device = torch.device(\"cuda\" if use_cuda else \"cpu\")\n",
    "###############################################################################"
   ]
  },
  {
   "cell_type": "markdown",
   "metadata": {},
   "source": [
    "# Create dataset"
   ]
  },
  {
   "cell_type": "code",
   "execution_count": 82,
   "metadata": {},
   "outputs": [],
   "source": [
    "# create dataset\n",
    "# from https://github.com/python-engineer/pytorchTutorial/blob/master/09_dataloader.py\n",
    "\n",
    "train_dataset = UltrasoundDataset(train_data)\n",
    "test_dataset  = UltrasoundDataset(test_data)\n",
    "val_dataset  = UltrasoundDataset(val_data)"
   ]
  },
  {
   "cell_type": "code",
   "execution_count": 83,
   "metadata": {},
   "outputs": [],
   "source": [
    "def conv3x3(in_planes, out_planes, stride=1):\n",
    "    \"3x3 convolution with padding\"\n",
    "    # in_planes = in_channels\n",
    "    # out_planes = out_channels\n",
    "    return nn.Conv2d(in_planes, out_planes, kernel_size=10, stride=stride,\n",
    "                     padding=1, bias=False)\n"
   ]
  },
  {
   "cell_type": "markdown",
   "metadata": {},
   "source": [
    "## Defining scattering transformations"
   ]
  },
  {
   "cell_type": "code",
   "execution_count": 84,
   "metadata": {},
   "outputs": [],
   "source": [
    "# Set the parameters by cross-validation\n",
    "from itertools import product\n",
    "param_batch_size = [10, 20, 50]\n",
    "param_J = [2,3]\n",
    "param_max_order = [1,2]\n",
    "params = list(product(param_batch_size,param_J, param_max_order))\n"
   ]
  },
  {
   "cell_type": "markdown",
   "metadata": {},
   "source": [
    "## Training and Testing Functions"
   ]
  },
  {
   "cell_type": "code",
   "execution_count": 85,
   "metadata": {},
   "outputs": [],
   "source": [
    "def train(model, device, train_loader, optimizer, epoch, scattering):\n",
    "    model.train()\n",
    "    for batch_idx, (data, target) in enumerate(train_loader):\n",
    "        data, target = data.to(device), target.to(device)\n",
    "        optimizer.zero_grad()\n",
    "        output = model(scattering(data))\n",
    "        loss = F.cross_entropy(output, target.type(torch.long))\n",
    "        loss.backward()\n",
    "        optimizer.step()\n",
    "        if batch_idx % 20 == 0:\n",
    "            print('Train Epoch: {} [{}/{} ({:.0f}%)]\\tLoss: {:.6f}'.format(\n",
    "                epoch, batch_idx * len(data), len(train_loader.dataset),\n",
    "                100. * batch_idx / len(train_loader), loss.item()))\n",
    "\n",
    "def test(model, device, test_loader, scattering):\n",
    "    model.eval()\n",
    "    test_loss = 0\n",
    "    correct = 0\n",
    "    with torch.no_grad():\n",
    "        for data, target in test_loader:\n",
    "            data, target = data.to(device), target.to(device)\n",
    "            output = model(scattering(data))\n",
    "            test_loss += F.cross_entropy(output, target.type(torch.long), reduction='sum').item() # sum up batch loss\n",
    "            pred = output.max(1, keepdim=True)[1] # get the index of the max log-probability\n",
    "            correct += pred.eq(target.view_as(pred)).sum().item()\n",
    "\n",
    "    test_loss /= len(test_loader.dataset)\n",
    "    print('\\nValidation set: Average loss: {:.4f}, Accuracy: {}/{} ({:.2f}%)\\n'.format(\n",
    "        test_loss, correct, len(test_loader.dataset),\n",
    "        100. * correct / len(test_loader.dataset)))\n",
    "    return test_loss, 100. * correct / len(test_loader.dataset)\n"
   ]
  },
  {
   "cell_type": "markdown",
   "metadata": {},
   "source": [
    "## Training"
   ]
  },
  {
   "cell_type": "code",
   "execution_count": null,
   "metadata": {},
   "outputs": [
    {
     "name": "stderr",
     "output_type": "stream",
     "text": [
      "\n",
      "\n",
      "  0%|          | 0/50 [00:00<?, ?it/s]\u001b[A\u001b[A"
     ]
    },
    {
     "name": "stdout",
     "output_type": "stream",
     "text": [
      "Train Epoch: 1 [0/440 (0%)]\tLoss: 0.656500\n",
      "Train Epoch: 1 [200/440 (45%)]\tLoss: 0.688136\n",
      "Train Epoch: 1 [400/440 (91%)]\tLoss: 1.076102\n"
     ]
    },
    {
     "name": "stderr",
     "output_type": "stream",
     "text": [
      "\n",
      "\n",
      "  2%|▏         | 1/50 [00:11<08:59, 11.00s/it]\u001b[A\u001b[A"
     ]
    },
    {
     "name": "stdout",
     "output_type": "stream",
     "text": [
      "\n",
      "Validation set: Average loss: 0.7052, Accuracy: 30/50 (60.00%)\n",
      "\n",
      "Train Epoch: 2 [0/440 (0%)]\tLoss: 0.706304\n",
      "Train Epoch: 2 [200/440 (45%)]\tLoss: 0.572892\n",
      "Train Epoch: 2 [400/440 (91%)]\tLoss: 0.491799\n"
     ]
    },
    {
     "name": "stderr",
     "output_type": "stream",
     "text": [
      "\n",
      "\n",
      "  4%|▍         | 2/50 [00:22<08:50, 11.06s/it]\u001b[A\u001b[A"
     ]
    },
    {
     "name": "stdout",
     "output_type": "stream",
     "text": [
      "\n",
      "Validation set: Average loss: 0.4883, Accuracy: 40/50 (80.00%)\n",
      "\n",
      "Train Epoch: 3 [0/440 (0%)]\tLoss: 0.629821\n",
      "Train Epoch: 3 [200/440 (45%)]\tLoss: 0.509411\n",
      "Train Epoch: 3 [400/440 (91%)]\tLoss: 0.590634\n"
     ]
    },
    {
     "name": "stderr",
     "output_type": "stream",
     "text": [
      "\n",
      "\n",
      "  6%|▌         | 3/50 [00:33<08:42, 11.13s/it]\u001b[A\u001b[A"
     ]
    },
    {
     "name": "stdout",
     "output_type": "stream",
     "text": [
      "\n",
      "Validation set: Average loss: 0.4780, Accuracy: 40/50 (80.00%)\n",
      "\n",
      "Train Epoch: 4 [0/440 (0%)]\tLoss: 0.460391\n",
      "Train Epoch: 4 [200/440 (45%)]\tLoss: 0.525140\n",
      "Train Epoch: 4 [400/440 (91%)]\tLoss: 0.551462\n"
     ]
    },
    {
     "name": "stderr",
     "output_type": "stream",
     "text": [
      "\n",
      "\n",
      "  8%|▊         | 4/50 [00:44<08:33, 11.17s/it]\u001b[A\u001b[A"
     ]
    },
    {
     "name": "stdout",
     "output_type": "stream",
     "text": [
      "\n",
      "Validation set: Average loss: 0.4756, Accuracy: 40/50 (80.00%)\n",
      "\n",
      "Train Epoch: 5 [0/440 (0%)]\tLoss: 0.630259\n",
      "Train Epoch: 5 [200/440 (45%)]\tLoss: 0.609683\n",
      "Train Epoch: 5 [400/440 (91%)]\tLoss: 0.705499\n"
     ]
    },
    {
     "name": "stderr",
     "output_type": "stream",
     "text": [
      "\n",
      "\n",
      " 10%|█         | 5/50 [00:56<08:24, 11.20s/it]\u001b[A\u001b[A"
     ]
    },
    {
     "name": "stdout",
     "output_type": "stream",
     "text": [
      "\n",
      "Validation set: Average loss: 0.4763, Accuracy: 40/50 (80.00%)\n",
      "\n",
      "Train Epoch: 6 [0/440 (0%)]\tLoss: 0.655753\n",
      "Train Epoch: 6 [200/440 (45%)]\tLoss: 0.674842\n",
      "Train Epoch: 6 [400/440 (91%)]\tLoss: 0.596839\n"
     ]
    },
    {
     "name": "stderr",
     "output_type": "stream",
     "text": [
      "\n",
      "\n",
      " 12%|█▏        | 6/50 [01:07<08:13, 11.23s/it]\u001b[A\u001b[A"
     ]
    },
    {
     "name": "stdout",
     "output_type": "stream",
     "text": [
      "\n",
      "Validation set: Average loss: 0.4773, Accuracy: 40/50 (80.00%)\n",
      "\n",
      "Train Epoch: 7 [0/440 (0%)]\tLoss: 0.502885\n",
      "Train Epoch: 7 [200/440 (45%)]\tLoss: 0.645199\n",
      "Train Epoch: 7 [400/440 (91%)]\tLoss: 0.526128\n"
     ]
    },
    {
     "name": "stderr",
     "output_type": "stream",
     "text": [
      "\n",
      "\n",
      " 14%|█▍        | 7/50 [01:18<08:03, 11.24s/it]\u001b[A\u001b[A"
     ]
    },
    {
     "name": "stdout",
     "output_type": "stream",
     "text": [
      "\n",
      "Validation set: Average loss: 0.4769, Accuracy: 40/50 (80.00%)\n",
      "\n",
      "Train Epoch: 8 [0/440 (0%)]\tLoss: 0.442065\n",
      "Train Epoch: 8 [200/440 (45%)]\tLoss: 0.538824\n",
      "Train Epoch: 8 [400/440 (91%)]\tLoss: 0.593284\n"
     ]
    },
    {
     "name": "stderr",
     "output_type": "stream",
     "text": [
      "\n",
      "\n",
      " 16%|█▌        | 8/50 [01:29<07:53, 11.26s/it]\u001b[A\u001b[A"
     ]
    },
    {
     "name": "stdout",
     "output_type": "stream",
     "text": [
      "\n",
      "Validation set: Average loss: 0.4778, Accuracy: 40/50 (80.00%)\n",
      "\n",
      "Train Epoch: 9 [0/440 (0%)]\tLoss: 0.327859\n",
      "Train Epoch: 9 [200/440 (45%)]\tLoss: 0.535439\n",
      "Train Epoch: 9 [400/440 (91%)]\tLoss: 0.483626\n"
     ]
    },
    {
     "name": "stderr",
     "output_type": "stream",
     "text": [
      "\n",
      "\n",
      " 18%|█▊        | 9/50 [01:41<07:42, 11.28s/it]\u001b[A\u001b[A"
     ]
    },
    {
     "name": "stdout",
     "output_type": "stream",
     "text": [
      "\n",
      "Validation set: Average loss: 0.4778, Accuracy: 40/50 (80.00%)\n",
      "\n",
      "Train Epoch: 10 [0/440 (0%)]\tLoss: 0.884669\n",
      "Train Epoch: 10 [200/440 (45%)]\tLoss: 0.678735\n",
      "Train Epoch: 10 [400/440 (91%)]\tLoss: 0.599810\n"
     ]
    },
    {
     "name": "stderr",
     "output_type": "stream",
     "text": [
      "\n",
      "\n",
      " 20%|██        | 10/50 [01:52<07:31, 11.28s/it]\u001b[A\u001b[A"
     ]
    },
    {
     "name": "stdout",
     "output_type": "stream",
     "text": [
      "\n",
      "Validation set: Average loss: 0.4778, Accuracy: 40/50 (80.00%)\n",
      "\n",
      "Train Epoch: 11 [0/440 (0%)]\tLoss: 0.599683\n",
      "Train Epoch: 11 [200/440 (45%)]\tLoss: 0.464562\n",
      "Train Epoch: 11 [400/440 (91%)]\tLoss: 0.723758\n"
     ]
    },
    {
     "name": "stderr",
     "output_type": "stream",
     "text": [
      "\n",
      "\n",
      " 22%|██▏       | 11/50 [02:03<07:20, 11.29s/it]\u001b[A\u001b[A"
     ]
    },
    {
     "name": "stdout",
     "output_type": "stream",
     "text": [
      "\n",
      "Validation set: Average loss: 0.4776, Accuracy: 40/50 (80.00%)\n",
      "\n",
      "Train Epoch: 12 [0/440 (0%)]\tLoss: 0.682117\n",
      "Train Epoch: 12 [200/440 (45%)]\tLoss: 0.333611\n",
      "Train Epoch: 12 [400/440 (91%)]\tLoss: 0.584719\n"
     ]
    },
    {
     "name": "stderr",
     "output_type": "stream",
     "text": [
      "\n",
      "\n",
      " 24%|██▍       | 12/50 [02:15<07:09, 11.30s/it]\u001b[A\u001b[A"
     ]
    },
    {
     "name": "stdout",
     "output_type": "stream",
     "text": [
      "\n",
      "Validation set: Average loss: 0.4765, Accuracy: 40/50 (80.00%)\n",
      "\n",
      "Train Epoch: 13 [0/440 (0%)]\tLoss: 0.587285\n",
      "Train Epoch: 13 [200/440 (45%)]\tLoss: 0.411828\n",
      "Train Epoch: 13 [400/440 (91%)]\tLoss: 0.693693\n"
     ]
    },
    {
     "name": "stderr",
     "output_type": "stream",
     "text": [
      "\n",
      "\n",
      " 26%|██▌       | 13/50 [02:26<06:58, 11.30s/it]\u001b[A\u001b[A"
     ]
    },
    {
     "name": "stdout",
     "output_type": "stream",
     "text": [
      "\n",
      "Validation set: Average loss: 0.4768, Accuracy: 40/50 (80.00%)\n",
      "\n",
      "Train Epoch: 14 [0/440 (0%)]\tLoss: 0.505220\n",
      "Train Epoch: 14 [200/440 (45%)]\tLoss: 0.658187\n",
      "Train Epoch: 14 [400/440 (91%)]\tLoss: 0.548245\n"
     ]
    },
    {
     "name": "stderr",
     "output_type": "stream",
     "text": [
      "\n",
      "\n",
      " 28%|██▊       | 14/50 [02:37<06:46, 11.30s/it]\u001b[A\u001b[A"
     ]
    },
    {
     "name": "stdout",
     "output_type": "stream",
     "text": [
      "\n",
      "Validation set: Average loss: 0.4767, Accuracy: 40/50 (80.00%)\n",
      "\n",
      "Train Epoch: 15 [0/440 (0%)]\tLoss: 0.532130\n",
      "Train Epoch: 15 [200/440 (45%)]\tLoss: 0.756740\n",
      "Train Epoch: 15 [400/440 (91%)]\tLoss: 0.670671\n"
     ]
    },
    {
     "name": "stderr",
     "output_type": "stream",
     "text": [
      "\n",
      "\n",
      " 30%|███       | 15/50 [02:49<06:35, 11.30s/it]\u001b[A\u001b[A"
     ]
    },
    {
     "name": "stdout",
     "output_type": "stream",
     "text": [
      "\n",
      "Validation set: Average loss: 0.4769, Accuracy: 40/50 (80.00%)\n",
      "\n",
      "Train Epoch: 16 [0/440 (0%)]\tLoss: 0.537274\n",
      "Train Epoch: 16 [200/440 (45%)]\tLoss: 0.781391\n",
      "Train Epoch: 16 [400/440 (91%)]\tLoss: 0.543323\n"
     ]
    },
    {
     "name": "stderr",
     "output_type": "stream",
     "text": [
      "\n",
      "\n",
      " 32%|███▏      | 16/50 [03:00<06:23, 11.29s/it]\u001b[A\u001b[A"
     ]
    },
    {
     "name": "stdout",
     "output_type": "stream",
     "text": [
      "\n",
      "Validation set: Average loss: 0.4774, Accuracy: 40/50 (80.00%)\n",
      "\n",
      "Train Epoch: 17 [0/440 (0%)]\tLoss: 0.774138\n",
      "Train Epoch: 17 [200/440 (45%)]\tLoss: 0.625387\n",
      "Train Epoch: 17 [400/440 (91%)]\tLoss: 0.595711\n"
     ]
    },
    {
     "name": "stderr",
     "output_type": "stream",
     "text": [
      "\n",
      "\n",
      " 34%|███▍      | 17/50 [03:11<06:12, 11.29s/it]\u001b[A\u001b[A"
     ]
    },
    {
     "name": "stdout",
     "output_type": "stream",
     "text": [
      "\n",
      "Validation set: Average loss: 0.4764, Accuracy: 40/50 (80.00%)\n",
      "\n",
      "Train Epoch: 18 [0/440 (0%)]\tLoss: 0.686389\n",
      "Train Epoch: 18 [200/440 (45%)]\tLoss: 0.603638\n",
      "Train Epoch: 18 [400/440 (91%)]\tLoss: 0.496403\n"
     ]
    },
    {
     "name": "stderr",
     "output_type": "stream",
     "text": [
      "\n",
      "\n",
      " 36%|███▌      | 18/50 [03:22<06:01, 11.29s/it]\u001b[A\u001b[A"
     ]
    },
    {
     "name": "stdout",
     "output_type": "stream",
     "text": [
      "\n",
      "Validation set: Average loss: 0.4766, Accuracy: 40/50 (80.00%)\n",
      "\n",
      "Train Epoch: 19 [0/440 (0%)]\tLoss: 0.575006\n",
      "Train Epoch: 19 [200/440 (45%)]\tLoss: 0.511387\n",
      "Train Epoch: 19 [400/440 (91%)]\tLoss: 0.748976\n"
     ]
    },
    {
     "name": "stderr",
     "output_type": "stream",
     "text": [
      "\n",
      "\n",
      " 38%|███▊      | 19/50 [03:34<05:49, 11.29s/it]\u001b[A\u001b[A"
     ]
    },
    {
     "name": "stdout",
     "output_type": "stream",
     "text": [
      "\n",
      "Validation set: Average loss: 0.4783, Accuracy: 40/50 (80.00%)\n",
      "\n",
      "Train Epoch: 20 [0/440 (0%)]\tLoss: 0.507228\n",
      "Train Epoch: 20 [200/440 (45%)]\tLoss: 0.503350\n",
      "Train Epoch: 20 [400/440 (91%)]\tLoss: 0.356678\n"
     ]
    },
    {
     "name": "stderr",
     "output_type": "stream",
     "text": [
      "\n",
      "\n",
      " 40%|████      | 20/50 [03:45<05:38, 11.29s/it]\u001b[A\u001b[A"
     ]
    },
    {
     "name": "stdout",
     "output_type": "stream",
     "text": [
      "\n",
      "Validation set: Average loss: 0.4767, Accuracy: 40/50 (80.00%)\n",
      "\n",
      "Train Epoch: 21 [0/440 (0%)]\tLoss: 0.605198\n",
      "Train Epoch: 21 [200/440 (45%)]\tLoss: 0.431601\n",
      "Train Epoch: 21 [400/440 (91%)]\tLoss: 0.411107\n"
     ]
    },
    {
     "name": "stderr",
     "output_type": "stream",
     "text": [
      "\n",
      "\n",
      " 42%|████▏     | 21/50 [03:56<05:27, 11.29s/it]\u001b[A\u001b[A"
     ]
    },
    {
     "name": "stdout",
     "output_type": "stream",
     "text": [
      "\n",
      "Validation set: Average loss: 0.4764, Accuracy: 40/50 (80.00%)\n",
      "\n",
      "Train Epoch: 22 [0/440 (0%)]\tLoss: 0.439670\n",
      "Train Epoch: 22 [200/440 (45%)]\tLoss: 0.445150\n",
      "Train Epoch: 22 [400/440 (91%)]\tLoss: 0.351081\n"
     ]
    },
    {
     "name": "stderr",
     "output_type": "stream",
     "text": [
      "\n",
      "\n",
      " 44%|████▍     | 22/50 [04:08<05:16, 11.30s/it]\u001b[A\u001b[A"
     ]
    },
    {
     "name": "stdout",
     "output_type": "stream",
     "text": [
      "\n",
      "Validation set: Average loss: 0.4766, Accuracy: 40/50 (80.00%)\n",
      "\n",
      "Train Epoch: 23 [0/440 (0%)]\tLoss: 0.479949\n",
      "Train Epoch: 23 [200/440 (45%)]\tLoss: 0.647610\n",
      "Train Epoch: 23 [400/440 (91%)]\tLoss: 0.538160\n"
     ]
    },
    {
     "name": "stderr",
     "output_type": "stream",
     "text": [
      "\n",
      "\n",
      " 46%|████▌     | 23/50 [04:19<05:05, 11.30s/it]\u001b[A\u001b[A"
     ]
    },
    {
     "name": "stdout",
     "output_type": "stream",
     "text": [
      "\n",
      "Validation set: Average loss: 0.4775, Accuracy: 40/50 (80.00%)\n",
      "\n",
      "Train Epoch: 24 [0/440 (0%)]\tLoss: 0.792966\n",
      "Train Epoch: 24 [200/440 (45%)]\tLoss: 0.584199\n",
      "Train Epoch: 24 [400/440 (91%)]\tLoss: 0.618365\n"
     ]
    },
    {
     "name": "stderr",
     "output_type": "stream",
     "text": [
      "\n",
      "\n",
      " 48%|████▊     | 24/50 [04:30<04:54, 11.31s/it]\u001b[A\u001b[A"
     ]
    },
    {
     "name": "stdout",
     "output_type": "stream",
     "text": [
      "\n",
      "Validation set: Average loss: 0.4779, Accuracy: 40/50 (80.00%)\n",
      "\n",
      "Train Epoch: 25 [0/440 (0%)]\tLoss: 0.573494\n",
      "Train Epoch: 25 [200/440 (45%)]\tLoss: 0.713895\n",
      "Train Epoch: 25 [400/440 (91%)]\tLoss: 0.648735\n"
     ]
    },
    {
     "name": "stderr",
     "output_type": "stream",
     "text": [
      "\n",
      "\n",
      " 50%|█████     | 25/50 [04:42<04:42, 11.31s/it]\u001b[A\u001b[A"
     ]
    },
    {
     "name": "stdout",
     "output_type": "stream",
     "text": [
      "\n",
      "Validation set: Average loss: 0.4776, Accuracy: 40/50 (80.00%)\n",
      "\n",
      "Train Epoch: 26 [0/440 (0%)]\tLoss: 0.721576\n",
      "Train Epoch: 26 [200/440 (45%)]\tLoss: 0.546465\n",
      "Train Epoch: 26 [400/440 (91%)]\tLoss: 0.719401\n"
     ]
    },
    {
     "name": "stderr",
     "output_type": "stream",
     "text": [
      "\n",
      "\n",
      " 52%|█████▏    | 26/50 [04:53<04:31, 11.30s/it]\u001b[A\u001b[A"
     ]
    },
    {
     "name": "stdout",
     "output_type": "stream",
     "text": [
      "\n",
      "Validation set: Average loss: 0.4772, Accuracy: 40/50 (80.00%)\n",
      "\n",
      "Train Epoch: 27 [0/440 (0%)]\tLoss: 0.498965\n",
      "Train Epoch: 27 [200/440 (45%)]\tLoss: 0.658476\n",
      "Train Epoch: 27 [400/440 (91%)]\tLoss: 0.469715\n"
     ]
    },
    {
     "name": "stderr",
     "output_type": "stream",
     "text": [
      "\n",
      "\n",
      " 54%|█████▍    | 27/50 [05:04<04:19, 11.30s/it]\u001b[A\u001b[A"
     ]
    },
    {
     "name": "stdout",
     "output_type": "stream",
     "text": [
      "\n",
      "Validation set: Average loss: 0.4763, Accuracy: 40/50 (80.00%)\n",
      "\n",
      "Train Epoch: 28 [0/440 (0%)]\tLoss: 0.406488\n",
      "Train Epoch: 28 [200/440 (45%)]\tLoss: 0.587020\n",
      "Train Epoch: 28 [400/440 (91%)]\tLoss: 0.818707\n"
     ]
    },
    {
     "name": "stderr",
     "output_type": "stream",
     "text": [
      "\n",
      "\n",
      " 56%|█████▌    | 28/50 [05:15<04:08, 11.29s/it]\u001b[A\u001b[A"
     ]
    },
    {
     "name": "stdout",
     "output_type": "stream",
     "text": [
      "\n",
      "Validation set: Average loss: 0.4772, Accuracy: 40/50 (80.00%)\n",
      "\n",
      "Train Epoch: 29 [0/440 (0%)]\tLoss: 0.406689\n",
      "Train Epoch: 29 [200/440 (45%)]\tLoss: 0.682242\n",
      "Train Epoch: 29 [400/440 (91%)]\tLoss: 0.643947\n"
     ]
    },
    {
     "name": "stderr",
     "output_type": "stream",
     "text": [
      "\n",
      "\n",
      " 58%|█████▊    | 29/50 [05:27<03:57, 11.30s/it]\u001b[A\u001b[A"
     ]
    },
    {
     "name": "stdout",
     "output_type": "stream",
     "text": [
      "\n",
      "Validation set: Average loss: 0.4775, Accuracy: 40/50 (80.00%)\n",
      "\n",
      "Train Epoch: 30 [0/440 (0%)]\tLoss: 0.594077\n",
      "Train Epoch: 30 [200/440 (45%)]\tLoss: 0.733147\n",
      "Train Epoch: 30 [400/440 (91%)]\tLoss: 0.591790\n"
     ]
    },
    {
     "name": "stderr",
     "output_type": "stream",
     "text": [
      "\n",
      "\n",
      " 60%|██████    | 30/50 [05:38<03:45, 11.30s/it]\u001b[A\u001b[A"
     ]
    },
    {
     "name": "stdout",
     "output_type": "stream",
     "text": [
      "\n",
      "Validation set: Average loss: 0.4775, Accuracy: 40/50 (80.00%)\n",
      "\n",
      "Train Epoch: 31 [0/440 (0%)]\tLoss: 0.603821\n",
      "Train Epoch: 31 [200/440 (45%)]\tLoss: 0.698123\n",
      "Train Epoch: 31 [400/440 (91%)]\tLoss: 0.639937\n"
     ]
    },
    {
     "name": "stderr",
     "output_type": "stream",
     "text": [
      "\n",
      "\n",
      " 62%|██████▏   | 31/50 [05:49<03:34, 11.29s/it]\u001b[A\u001b[A"
     ]
    },
    {
     "name": "stdout",
     "output_type": "stream",
     "text": [
      "\n",
      "Validation set: Average loss: 0.4779, Accuracy: 40/50 (80.00%)\n",
      "\n",
      "Train Epoch: 32 [0/440 (0%)]\tLoss: 0.410261\n",
      "Train Epoch: 32 [200/440 (45%)]\tLoss: 0.689455\n",
      "Train Epoch: 32 [400/440 (91%)]\tLoss: 0.540506\n"
     ]
    },
    {
     "name": "stderr",
     "output_type": "stream",
     "text": [
      "\n",
      "\n",
      " 64%|██████▍   | 32/50 [06:01<03:23, 11.31s/it]\u001b[A\u001b[A"
     ]
    },
    {
     "name": "stdout",
     "output_type": "stream",
     "text": [
      "\n",
      "Validation set: Average loss: 0.4768, Accuracy: 40/50 (80.00%)\n",
      "\n",
      "Train Epoch: 33 [0/440 (0%)]\tLoss: 0.504025\n",
      "Train Epoch: 33 [200/440 (45%)]\tLoss: 0.640901\n",
      "Train Epoch: 33 [400/440 (91%)]\tLoss: 0.438971\n"
     ]
    },
    {
     "name": "stderr",
     "output_type": "stream",
     "text": [
      "\n",
      "\n",
      " 66%|██████▌   | 33/50 [06:12<03:12, 11.30s/it]\u001b[A\u001b[A"
     ]
    },
    {
     "name": "stdout",
     "output_type": "stream",
     "text": [
      "\n",
      "Validation set: Average loss: 0.4774, Accuracy: 40/50 (80.00%)\n",
      "\n",
      "Train Epoch: 34 [0/440 (0%)]\tLoss: 0.569192\n",
      "Train Epoch: 34 [200/440 (45%)]\tLoss: 0.894381\n",
      "Train Epoch: 34 [400/440 (91%)]\tLoss: 0.522420\n"
     ]
    },
    {
     "name": "stderr",
     "output_type": "stream",
     "text": [
      "\n",
      "\n",
      " 68%|██████▊   | 34/50 [06:23<03:00, 11.30s/it]\u001b[A\u001b[A"
     ]
    },
    {
     "name": "stdout",
     "output_type": "stream",
     "text": [
      "\n",
      "Validation set: Average loss: 0.4765, Accuracy: 40/50 (80.00%)\n",
      "\n",
      "Train Epoch: 35 [0/440 (0%)]\tLoss: 0.709994\n",
      "Train Epoch: 35 [200/440 (45%)]\tLoss: 0.345105\n",
      "Train Epoch: 35 [400/440 (91%)]\tLoss: 0.578889\n"
     ]
    },
    {
     "name": "stderr",
     "output_type": "stream",
     "text": [
      "\n",
      "\n",
      " 70%|███████   | 35/50 [06:34<02:49, 11.29s/it]\u001b[A\u001b[A"
     ]
    },
    {
     "name": "stdout",
     "output_type": "stream",
     "text": [
      "\n",
      "Validation set: Average loss: 0.4787, Accuracy: 40/50 (80.00%)\n",
      "\n",
      "Train Epoch: 36 [0/440 (0%)]\tLoss: 0.642761\n",
      "Train Epoch: 36 [200/440 (45%)]\tLoss: 0.548165\n",
      "Train Epoch: 36 [400/440 (91%)]\tLoss: 0.707166\n"
     ]
    },
    {
     "name": "stderr",
     "output_type": "stream",
     "text": [
      "\n",
      "\n",
      " 72%|███████▏  | 36/50 [06:46<02:38, 11.29s/it]\u001b[A\u001b[A"
     ]
    },
    {
     "name": "stdout",
     "output_type": "stream",
     "text": [
      "\n",
      "Validation set: Average loss: 0.4774, Accuracy: 40/50 (80.00%)\n",
      "\n",
      "Train Epoch: 37 [0/440 (0%)]\tLoss: 0.537891\n",
      "Train Epoch: 37 [200/440 (45%)]\tLoss: 0.741128\n",
      "Train Epoch: 37 [400/440 (91%)]\tLoss: 0.576563\n"
     ]
    },
    {
     "name": "stderr",
     "output_type": "stream",
     "text": [
      "\n",
      "\n",
      " 74%|███████▍  | 37/50 [06:57<02:26, 11.30s/it]\u001b[A\u001b[A"
     ]
    },
    {
     "name": "stdout",
     "output_type": "stream",
     "text": [
      "\n",
      "Validation set: Average loss: 0.4774, Accuracy: 40/50 (80.00%)\n",
      "\n",
      "Train Epoch: 38 [0/440 (0%)]\tLoss: 0.354455\n",
      "Train Epoch: 38 [200/440 (45%)]\tLoss: 0.548331\n",
      "Train Epoch: 38 [400/440 (91%)]\tLoss: 0.584866\n"
     ]
    },
    {
     "name": "stderr",
     "output_type": "stream",
     "text": [
      "\n",
      "\n",
      " 76%|███████▌  | 38/50 [07:08<02:15, 11.30s/it]\u001b[A\u001b[A"
     ]
    },
    {
     "name": "stdout",
     "output_type": "stream",
     "text": [
      "\n",
      "Validation set: Average loss: 0.4767, Accuracy: 40/50 (80.00%)\n",
      "\n",
      "Train Epoch: 39 [0/440 (0%)]\tLoss: 0.428177\n",
      "Train Epoch: 39 [200/440 (45%)]\tLoss: 0.772908\n",
      "Train Epoch: 39 [400/440 (91%)]\tLoss: 0.495993\n"
     ]
    },
    {
     "name": "stderr",
     "output_type": "stream",
     "text": [
      "\n",
      "\n",
      " 78%|███████▊  | 39/50 [07:20<02:04, 11.30s/it]\u001b[A\u001b[A"
     ]
    },
    {
     "name": "stdout",
     "output_type": "stream",
     "text": [
      "\n",
      "Validation set: Average loss: 0.4782, Accuracy: 40/50 (80.00%)\n",
      "\n",
      "Train Epoch: 40 [0/440 (0%)]\tLoss: 0.803445\n",
      "Train Epoch: 40 [200/440 (45%)]\tLoss: 0.659777\n",
      "Train Epoch: 40 [400/440 (91%)]\tLoss: 0.699807\n"
     ]
    },
    {
     "name": "stderr",
     "output_type": "stream",
     "text": [
      "\n",
      "\n",
      " 80%|████████  | 40/50 [07:31<01:52, 11.30s/it]\u001b[A\u001b[A"
     ]
    },
    {
     "name": "stdout",
     "output_type": "stream",
     "text": [
      "\n",
      "Validation set: Average loss: 0.4763, Accuracy: 40/50 (80.00%)\n",
      "\n",
      "Train Epoch: 41 [0/440 (0%)]\tLoss: 0.547672\n",
      "Train Epoch: 41 [200/440 (45%)]\tLoss: 0.500991\n",
      "Train Epoch: 41 [400/440 (91%)]\tLoss: 0.755599\n"
     ]
    },
    {
     "name": "stderr",
     "output_type": "stream",
     "text": [
      "\n",
      "\n",
      " 82%|████████▏ | 41/50 [07:42<01:41, 11.30s/it]\u001b[A\u001b[A"
     ]
    },
    {
     "name": "stdout",
     "output_type": "stream",
     "text": [
      "\n",
      "Validation set: Average loss: 0.4772, Accuracy: 40/50 (80.00%)\n",
      "\n",
      "Train Epoch: 42 [0/440 (0%)]\tLoss: 0.422770\n",
      "Train Epoch: 42 [200/440 (45%)]\tLoss: 0.590763\n",
      "Train Epoch: 42 [400/440 (91%)]\tLoss: 0.618682\n"
     ]
    },
    {
     "name": "stderr",
     "output_type": "stream",
     "text": [
      "\n",
      "\n",
      " 84%|████████▍ | 42/50 [07:54<01:30, 11.30s/it]\u001b[A\u001b[A"
     ]
    },
    {
     "name": "stdout",
     "output_type": "stream",
     "text": [
      "\n",
      "Validation set: Average loss: 0.4770, Accuracy: 40/50 (80.00%)\n",
      "\n",
      "Train Epoch: 43 [0/440 (0%)]\tLoss: 0.712301\n",
      "Train Epoch: 43 [200/440 (45%)]\tLoss: 0.674362\n",
      "Train Epoch: 43 [400/440 (91%)]\tLoss: 0.828495\n"
     ]
    },
    {
     "name": "stderr",
     "output_type": "stream",
     "text": [
      "\n",
      "\n",
      " 86%|████████▌ | 43/50 [08:05<01:19, 11.30s/it]\u001b[A\u001b[A"
     ]
    },
    {
     "name": "stdout",
     "output_type": "stream",
     "text": [
      "\n",
      "Validation set: Average loss: 0.4783, Accuracy: 40/50 (80.00%)\n",
      "\n",
      "Train Epoch: 44 [0/440 (0%)]\tLoss: 0.613761\n",
      "Train Epoch: 44 [200/440 (45%)]\tLoss: 0.625755\n",
      "Train Epoch: 44 [400/440 (91%)]\tLoss: 0.522031\n"
     ]
    },
    {
     "name": "stderr",
     "output_type": "stream",
     "text": [
      "\n",
      "\n",
      " 88%|████████▊ | 44/50 [08:16<01:07, 11.29s/it]\u001b[A\u001b[A"
     ]
    },
    {
     "name": "stdout",
     "output_type": "stream",
     "text": [
      "\n",
      "Validation set: Average loss: 0.4782, Accuracy: 40/50 (80.00%)\n",
      "\n",
      "Train Epoch: 45 [0/440 (0%)]\tLoss: 0.514253\n",
      "Train Epoch: 45 [200/440 (45%)]\tLoss: 0.341815\n",
      "Train Epoch: 45 [400/440 (91%)]\tLoss: 0.703017\n"
     ]
    },
    {
     "name": "stderr",
     "output_type": "stream",
     "text": [
      "\n",
      "\n",
      " 90%|█████████ | 45/50 [08:27<00:56, 11.30s/it]\u001b[A\u001b[A"
     ]
    },
    {
     "name": "stdout",
     "output_type": "stream",
     "text": [
      "\n",
      "Validation set: Average loss: 0.4778, Accuracy: 40/50 (80.00%)\n",
      "\n",
      "Train Epoch: 46 [0/440 (0%)]\tLoss: 0.510381\n",
      "Train Epoch: 46 [200/440 (45%)]\tLoss: 0.752176\n",
      "Train Epoch: 46 [400/440 (91%)]\tLoss: 0.551775\n"
     ]
    },
    {
     "name": "stderr",
     "output_type": "stream",
     "text": [
      "\n",
      "\n",
      " 92%|█████████▏| 46/50 [08:39<00:45, 11.30s/it]\u001b[A\u001b[A"
     ]
    },
    {
     "name": "stdout",
     "output_type": "stream",
     "text": [
      "\n",
      "Validation set: Average loss: 0.4769, Accuracy: 40/50 (80.00%)\n",
      "\n",
      "Train Epoch: 47 [0/440 (0%)]\tLoss: 0.793364\n",
      "Train Epoch: 47 [200/440 (45%)]\tLoss: 0.653042\n",
      "Train Epoch: 47 [400/440 (91%)]\tLoss: 0.668573\n"
     ]
    },
    {
     "name": "stderr",
     "output_type": "stream",
     "text": [
      "\n",
      "\n",
      " 94%|█████████▍| 47/50 [08:50<00:33, 11.29s/it]\u001b[A\u001b[A"
     ]
    },
    {
     "name": "stdout",
     "output_type": "stream",
     "text": [
      "\n",
      "Validation set: Average loss: 0.4775, Accuracy: 40/50 (80.00%)\n",
      "\n",
      "Train Epoch: 48 [0/440 (0%)]\tLoss: 0.418135\n",
      "Train Epoch: 48 [200/440 (45%)]\tLoss: 0.425171\n",
      "Train Epoch: 48 [400/440 (91%)]\tLoss: 0.397639\n"
     ]
    },
    {
     "name": "stderr",
     "output_type": "stream",
     "text": [
      "\n",
      "\n",
      " 96%|█████████▌| 48/50 [09:01<00:22, 11.29s/it]\u001b[A\u001b[A"
     ]
    },
    {
     "name": "stdout",
     "output_type": "stream",
     "text": [
      "\n",
      "Validation set: Average loss: 0.4769, Accuracy: 40/50 (80.00%)\n",
      "\n",
      "Train Epoch: 49 [0/440 (0%)]\tLoss: 0.434914\n",
      "Train Epoch: 49 [200/440 (45%)]\tLoss: 0.851038\n",
      "Train Epoch: 49 [400/440 (91%)]\tLoss: 0.766427\n"
     ]
    },
    {
     "name": "stderr",
     "output_type": "stream",
     "text": [
      "\n",
      "\n",
      " 98%|█████████▊| 49/50 [09:13<00:11, 11.30s/it]\u001b[A\u001b[A"
     ]
    },
    {
     "name": "stdout",
     "output_type": "stream",
     "text": [
      "\n",
      "Validation set: Average loss: 0.4774, Accuracy: 40/50 (80.00%)\n",
      "\n",
      "Train Epoch: 50 [0/440 (0%)]\tLoss: 0.552678\n",
      "Train Epoch: 50 [200/440 (45%)]\tLoss: 0.471768\n",
      "Train Epoch: 50 [400/440 (91%)]\tLoss: 0.567401\n"
     ]
    },
    {
     "name": "stderr",
     "output_type": "stream",
     "text": [
      "\n",
      "\n",
      "100%|██████████| 50/50 [09:24<00:00, 11.29s/it]\u001b[A\u001b[A"
     ]
    },
    {
     "name": "stdout",
     "output_type": "stream",
     "text": [
      "\n",
      "Validation set: Average loss: 0.4770, Accuracy: 40/50 (80.00%)\n",
      "\n"
     ]
    },
    {
     "name": "stderr",
     "output_type": "stream",
     "text": [
      "\n"
     ]
    },
    {
     "name": "stdout",
     "output_type": "stream",
     "text": [
      "\n",
      "Validation set: Average loss: 0.4770, Accuracy: 40/50 (80.00%)\n",
      "\n",
      "Combinaison Done\n"
     ]
    },
    {
     "name": "stderr",
     "output_type": "stream",
     "text": [
      "\n",
      "\n",
      "  0%|          | 0/50 [00:00<?, ?it/s]\u001b[A\u001b[A"
     ]
    },
    {
     "name": "stdout",
     "output_type": "stream",
     "text": [
      "Train Epoch: 1 [0/440 (0%)]\tLoss: 0.814133\n",
      "Train Epoch: 1 [200/440 (45%)]\tLoss: 0.441546\n",
      "Train Epoch: 1 [400/440 (91%)]\tLoss: 1.272950\n"
     ]
    },
    {
     "name": "stderr",
     "output_type": "stream",
     "text": [
      "\n",
      "\n",
      "  2%|▏         | 1/50 [00:15<12:25, 15.21s/it]\u001b[A\u001b[A"
     ]
    },
    {
     "name": "stdout",
     "output_type": "stream",
     "text": [
      "\n",
      "Validation set: Average loss: 0.4882, Accuracy: 40/50 (80.00%)\n",
      "\n",
      "Train Epoch: 2 [0/440 (0%)]\tLoss: 0.421387\n",
      "Train Epoch: 2 [200/440 (45%)]\tLoss: 0.676488\n",
      "Train Epoch: 2 [400/440 (91%)]\tLoss: 0.644243\n"
     ]
    },
    {
     "name": "stderr",
     "output_type": "stream",
     "text": [
      "\n",
      "\n",
      "  4%|▍         | 2/50 [00:30<12:11, 15.24s/it]\u001b[A\u001b[A"
     ]
    },
    {
     "name": "stdout",
     "output_type": "stream",
     "text": [
      "\n",
      "Validation set: Average loss: 0.4457, Accuracy: 50/50 (100.00%)\n",
      "\n",
      "Train Epoch: 3 [0/440 (0%)]\tLoss: 0.542386\n",
      "Train Epoch: 3 [200/440 (45%)]\tLoss: 0.711629\n",
      "Train Epoch: 3 [400/440 (91%)]\tLoss: 0.447315\n"
     ]
    },
    {
     "name": "stderr",
     "output_type": "stream",
     "text": [
      "\n",
      "\n",
      "  6%|▌         | 3/50 [00:45<11:57, 15.27s/it]\u001b[A\u001b[A"
     ]
    },
    {
     "name": "stdout",
     "output_type": "stream",
     "text": [
      "\n",
      "Validation set: Average loss: 0.4278, Accuracy: 47/50 (94.00%)\n",
      "\n",
      "Train Epoch: 4 [0/440 (0%)]\tLoss: 0.448402\n",
      "Train Epoch: 4 [200/440 (45%)]\tLoss: 0.379734\n",
      "Train Epoch: 4 [400/440 (91%)]\tLoss: 0.579405\n"
     ]
    },
    {
     "name": "stderr",
     "output_type": "stream",
     "text": [
      "\n",
      "\n",
      "  8%|▊         | 4/50 [01:01<11:43, 15.30s/it]\u001b[A\u001b[A"
     ]
    },
    {
     "name": "stdout",
     "output_type": "stream",
     "text": [
      "\n",
      "Validation set: Average loss: 0.3951, Accuracy: 50/50 (100.00%)\n",
      "\n",
      "Train Epoch: 5 [0/440 (0%)]\tLoss: 0.331552\n",
      "Train Epoch: 5 [200/440 (45%)]\tLoss: 0.524978\n",
      "Train Epoch: 5 [400/440 (91%)]\tLoss: 0.331700\n"
     ]
    },
    {
     "name": "stderr",
     "output_type": "stream",
     "text": [
      "\n",
      "\n",
      " 10%|█         | 5/50 [01:16<11:28, 15.31s/it]\u001b[A\u001b[A"
     ]
    },
    {
     "name": "stdout",
     "output_type": "stream",
     "text": [
      "\n",
      "Validation set: Average loss: 0.3942, Accuracy: 50/50 (100.00%)\n",
      "\n",
      "Train Epoch: 6 [0/440 (0%)]\tLoss: 0.569950\n",
      "Train Epoch: 6 [200/440 (45%)]\tLoss: 0.488553\n",
      "Train Epoch: 6 [400/440 (91%)]\tLoss: 0.447465\n"
     ]
    },
    {
     "name": "stderr",
     "output_type": "stream",
     "text": [
      "\n",
      "\n",
      " 12%|█▏        | 6/50 [01:31<11:13, 15.31s/it]\u001b[A\u001b[A"
     ]
    },
    {
     "name": "stdout",
     "output_type": "stream",
     "text": [
      "\n",
      "Validation set: Average loss: 0.3964, Accuracy: 49/50 (98.00%)\n",
      "\n",
      "Train Epoch: 7 [0/440 (0%)]\tLoss: 0.395716\n",
      "Train Epoch: 7 [200/440 (45%)]\tLoss: 0.597631\n",
      "Train Epoch: 7 [400/440 (91%)]\tLoss: 0.382922\n"
     ]
    },
    {
     "name": "stderr",
     "output_type": "stream",
     "text": [
      "\n",
      "\n",
      " 14%|█▍        | 7/50 [01:47<10:58, 15.32s/it]\u001b[A\u001b[A"
     ]
    },
    {
     "name": "stdout",
     "output_type": "stream",
     "text": [
      "\n",
      "Validation set: Average loss: 0.3953, Accuracy: 50/50 (100.00%)\n",
      "\n",
      "Train Epoch: 8 [0/440 (0%)]\tLoss: 0.712599\n",
      "Train Epoch: 8 [200/440 (45%)]\tLoss: 0.590599\n",
      "Train Epoch: 8 [400/440 (91%)]\tLoss: 0.588500\n"
     ]
    },
    {
     "name": "stderr",
     "output_type": "stream",
     "text": [
      "\n",
      "\n",
      " 16%|█▌        | 8/50 [02:02<10:43, 15.32s/it]\u001b[A\u001b[A"
     ]
    },
    {
     "name": "stdout",
     "output_type": "stream",
     "text": [
      "\n",
      "Validation set: Average loss: 0.3967, Accuracy: 49/50 (98.00%)\n",
      "\n",
      "Train Epoch: 9 [0/440 (0%)]\tLoss: 0.577419\n",
      "Train Epoch: 9 [200/440 (45%)]\tLoss: 0.525855\n",
      "Train Epoch: 9 [400/440 (91%)]\tLoss: 0.442347\n"
     ]
    },
    {
     "name": "stderr",
     "output_type": "stream",
     "text": [
      "\n",
      "\n",
      " 18%|█▊        | 9/50 [02:17<10:28, 15.33s/it]\u001b[A\u001b[A"
     ]
    },
    {
     "name": "stdout",
     "output_type": "stream",
     "text": [
      "\n",
      "Validation set: Average loss: 0.3961, Accuracy: 50/50 (100.00%)\n",
      "\n",
      "Train Epoch: 10 [0/440 (0%)]\tLoss: 0.429249\n",
      "Train Epoch: 10 [200/440 (45%)]\tLoss: 0.420469\n",
      "Train Epoch: 10 [400/440 (91%)]\tLoss: 0.421375\n"
     ]
    },
    {
     "name": "stderr",
     "output_type": "stream",
     "text": [
      "\n",
      "\n",
      " 20%|██        | 10/50 [02:33<10:13, 15.33s/it]\u001b[A\u001b[A"
     ]
    },
    {
     "name": "stdout",
     "output_type": "stream",
     "text": [
      "\n",
      "Validation set: Average loss: 0.3963, Accuracy: 50/50 (100.00%)\n",
      "\n",
      "Train Epoch: 11 [0/440 (0%)]\tLoss: 0.395610\n",
      "Train Epoch: 11 [200/440 (45%)]\tLoss: 0.714259\n",
      "Train Epoch: 11 [400/440 (91%)]\tLoss: 0.547562\n"
     ]
    },
    {
     "name": "stderr",
     "output_type": "stream",
     "text": [
      "\n",
      "\n",
      " 22%|██▏       | 11/50 [02:48<09:57, 15.33s/it]\u001b[A\u001b[A"
     ]
    },
    {
     "name": "stdout",
     "output_type": "stream",
     "text": [
      "\n",
      "Validation set: Average loss: 0.3938, Accuracy: 50/50 (100.00%)\n",
      "\n",
      "Train Epoch: 12 [0/440 (0%)]\tLoss: 0.458746\n",
      "Train Epoch: 12 [200/440 (45%)]\tLoss: 0.338236\n",
      "Train Epoch: 12 [400/440 (91%)]\tLoss: 0.518176\n"
     ]
    },
    {
     "name": "stderr",
     "output_type": "stream",
     "text": [
      "\n",
      "\n",
      " 24%|██▍       | 12/50 [03:03<09:42, 15.33s/it]\u001b[A\u001b[A"
     ]
    },
    {
     "name": "stdout",
     "output_type": "stream",
     "text": [
      "\n",
      "Validation set: Average loss: 0.3987, Accuracy: 49/50 (98.00%)\n",
      "\n",
      "Train Epoch: 13 [0/440 (0%)]\tLoss: 0.455974\n",
      "Train Epoch: 13 [200/440 (45%)]\tLoss: 0.458274\n",
      "Train Epoch: 13 [400/440 (91%)]\tLoss: 0.554692\n"
     ]
    },
    {
     "name": "stderr",
     "output_type": "stream",
     "text": [
      "\n",
      "\n",
      " 26%|██▌       | 13/50 [03:19<09:27, 15.34s/it]\u001b[A\u001b[A"
     ]
    },
    {
     "name": "stdout",
     "output_type": "stream",
     "text": [
      "\n",
      "Validation set: Average loss: 0.3963, Accuracy: 50/50 (100.00%)\n",
      "\n",
      "Train Epoch: 14 [0/440 (0%)]\tLoss: 0.533548\n",
      "Train Epoch: 14 [200/440 (45%)]\tLoss: 0.463713\n",
      "Train Epoch: 14 [400/440 (91%)]\tLoss: 0.425357\n"
     ]
    },
    {
     "name": "stderr",
     "output_type": "stream",
     "text": [
      "\n",
      "\n",
      " 28%|██▊       | 14/50 [03:34<09:12, 15.34s/it]\u001b[A\u001b[A"
     ]
    },
    {
     "name": "stdout",
     "output_type": "stream",
     "text": [
      "\n",
      "Validation set: Average loss: 0.3925, Accuracy: 50/50 (100.00%)\n",
      "\n",
      "Train Epoch: 15 [0/440 (0%)]\tLoss: 0.451427\n",
      "Train Epoch: 15 [200/440 (45%)]\tLoss: 0.351822\n",
      "Train Epoch: 15 [400/440 (91%)]\tLoss: 0.522544\n"
     ]
    },
    {
     "name": "stderr",
     "output_type": "stream",
     "text": [
      "\n",
      "\n",
      " 30%|███       | 15/50 [03:49<08:56, 15.33s/it]\u001b[A\u001b[A"
     ]
    },
    {
     "name": "stdout",
     "output_type": "stream",
     "text": [
      "\n",
      "Validation set: Average loss: 0.3983, Accuracy: 49/50 (98.00%)\n",
      "\n",
      "Train Epoch: 16 [0/440 (0%)]\tLoss: 0.513496\n",
      "Train Epoch: 16 [200/440 (45%)]\tLoss: 0.505154\n",
      "Train Epoch: 16 [400/440 (91%)]\tLoss: 0.433000\n"
     ]
    },
    {
     "name": "stderr",
     "output_type": "stream",
     "text": [
      "\n",
      "\n",
      " 32%|███▏      | 16/50 [04:05<08:40, 15.31s/it]\u001b[A\u001b[A"
     ]
    },
    {
     "name": "stdout",
     "output_type": "stream",
     "text": [
      "\n",
      "Validation set: Average loss: 0.3959, Accuracy: 50/50 (100.00%)\n",
      "\n",
      "Train Epoch: 17 [0/440 (0%)]\tLoss: 0.414057\n",
      "Train Epoch: 17 [200/440 (45%)]\tLoss: 0.374323\n",
      "Train Epoch: 17 [400/440 (91%)]\tLoss: 0.538152\n"
     ]
    },
    {
     "name": "stderr",
     "output_type": "stream",
     "text": [
      "\n",
      "\n",
      " 34%|███▍      | 17/50 [04:20<08:25, 15.31s/it]\u001b[A\u001b[A"
     ]
    },
    {
     "name": "stdout",
     "output_type": "stream",
     "text": [
      "\n",
      "Validation set: Average loss: 0.3947, Accuracy: 50/50 (100.00%)\n",
      "\n",
      "Train Epoch: 18 [0/440 (0%)]\tLoss: 0.406818\n",
      "Train Epoch: 18 [200/440 (45%)]\tLoss: 0.520598\n",
      "Train Epoch: 18 [400/440 (91%)]\tLoss: 0.507833\n"
     ]
    },
    {
     "name": "stderr",
     "output_type": "stream",
     "text": [
      "\n",
      "\n",
      " 36%|███▌      | 18/50 [04:35<08:09, 15.31s/it]\u001b[A\u001b[A"
     ]
    },
    {
     "name": "stdout",
     "output_type": "stream",
     "text": [
      "\n",
      "Validation set: Average loss: 0.3957, Accuracy: 50/50 (100.00%)\n",
      "\n",
      "Train Epoch: 19 [0/440 (0%)]\tLoss: 0.656074\n",
      "Train Epoch: 19 [200/440 (45%)]\tLoss: 0.599496\n",
      "Train Epoch: 19 [400/440 (91%)]\tLoss: 0.441532\n"
     ]
    },
    {
     "name": "stderr",
     "output_type": "stream",
     "text": [
      "\n",
      "\n",
      " 38%|███▊      | 19/50 [04:51<07:54, 15.32s/it]\u001b[A\u001b[A"
     ]
    },
    {
     "name": "stdout",
     "output_type": "stream",
     "text": [
      "\n",
      "Validation set: Average loss: 0.3980, Accuracy: 49/50 (98.00%)\n",
      "\n",
      "Train Epoch: 20 [0/440 (0%)]\tLoss: 0.520836\n",
      "Train Epoch: 20 [200/440 (45%)]\tLoss: 0.416036\n",
      "Train Epoch: 20 [400/440 (91%)]\tLoss: 0.436699\n"
     ]
    },
    {
     "name": "stderr",
     "output_type": "stream",
     "text": [
      "\n",
      "\n",
      " 40%|████      | 20/50 [05:06<07:39, 15.31s/it]\u001b[A\u001b[A"
     ]
    },
    {
     "name": "stdout",
     "output_type": "stream",
     "text": [
      "\n",
      "Validation set: Average loss: 0.3956, Accuracy: 49/50 (98.00%)\n",
      "\n",
      "Train Epoch: 21 [0/440 (0%)]\tLoss: 0.364824\n",
      "Train Epoch: 21 [200/440 (45%)]\tLoss: 0.500155\n",
      "Train Epoch: 21 [400/440 (91%)]\tLoss: 0.698426\n"
     ]
    },
    {
     "name": "stderr",
     "output_type": "stream",
     "text": [
      "\n",
      "\n",
      " 42%|████▏     | 21/50 [05:21<07:24, 15.33s/it]\u001b[A\u001b[A"
     ]
    },
    {
     "name": "stdout",
     "output_type": "stream",
     "text": [
      "\n",
      "Validation set: Average loss: 0.3944, Accuracy: 50/50 (100.00%)\n",
      "\n",
      "Train Epoch: 22 [0/440 (0%)]\tLoss: 0.582899\n",
      "Train Epoch: 22 [200/440 (45%)]\tLoss: 0.325735\n",
      "Train Epoch: 22 [400/440 (91%)]\tLoss: 0.659715\n"
     ]
    },
    {
     "name": "stderr",
     "output_type": "stream",
     "text": [
      "\n",
      "\n",
      " 44%|████▍     | 22/50 [05:37<07:09, 15.33s/it]\u001b[A\u001b[A"
     ]
    },
    {
     "name": "stdout",
     "output_type": "stream",
     "text": [
      "\n",
      "Validation set: Average loss: 0.3962, Accuracy: 49/50 (98.00%)\n",
      "\n",
      "Train Epoch: 23 [0/440 (0%)]\tLoss: 0.612664\n",
      "Train Epoch: 23 [200/440 (45%)]\tLoss: 0.388554\n",
      "Train Epoch: 23 [400/440 (91%)]\tLoss: 0.462011\n"
     ]
    },
    {
     "name": "stderr",
     "output_type": "stream",
     "text": [
      "\n",
      "\n",
      " 46%|████▌     | 23/50 [05:52<06:53, 15.33s/it]\u001b[A\u001b[A"
     ]
    },
    {
     "name": "stdout",
     "output_type": "stream",
     "text": [
      "\n",
      "Validation set: Average loss: 0.3950, Accuracy: 50/50 (100.00%)\n",
      "\n",
      "Train Epoch: 24 [0/440 (0%)]\tLoss: 0.453067\n",
      "Train Epoch: 24 [200/440 (45%)]\tLoss: 0.344441\n",
      "Train Epoch: 24 [400/440 (91%)]\tLoss: 0.423177\n"
     ]
    },
    {
     "name": "stderr",
     "output_type": "stream",
     "text": [
      "\n",
      "\n",
      " 48%|████▊     | 24/50 [06:07<06:38, 15.33s/it]\u001b[A\u001b[A"
     ]
    },
    {
     "name": "stdout",
     "output_type": "stream",
     "text": [
      "\n",
      "Validation set: Average loss: 0.3931, Accuracy: 50/50 (100.00%)\n",
      "\n",
      "Train Epoch: 25 [0/440 (0%)]\tLoss: 0.544957\n",
      "Train Epoch: 25 [200/440 (45%)]\tLoss: 0.464681\n",
      "Train Epoch: 25 [400/440 (91%)]\tLoss: 0.279843\n"
     ]
    },
    {
     "name": "stderr",
     "output_type": "stream",
     "text": [
      "\n",
      "\n",
      " 50%|█████     | 25/50 [06:23<06:23, 15.34s/it]\u001b[A\u001b[A"
     ]
    },
    {
     "name": "stdout",
     "output_type": "stream",
     "text": [
      "\n",
      "Validation set: Average loss: 0.3960, Accuracy: 49/50 (98.00%)\n",
      "\n",
      "Train Epoch: 26 [0/440 (0%)]\tLoss: 0.351709\n",
      "Train Epoch: 26 [200/440 (45%)]\tLoss: 0.661787\n",
      "Train Epoch: 26 [400/440 (91%)]\tLoss: 0.524047\n"
     ]
    },
    {
     "name": "stderr",
     "output_type": "stream",
     "text": [
      "\n",
      "\n",
      " 52%|█████▏    | 26/50 [06:38<06:07, 15.32s/it]\u001b[A\u001b[A"
     ]
    },
    {
     "name": "stdout",
     "output_type": "stream",
     "text": [
      "\n",
      "Validation set: Average loss: 0.3982, Accuracy: 49/50 (98.00%)\n",
      "\n",
      "Train Epoch: 27 [0/440 (0%)]\tLoss: 0.597957\n",
      "Train Epoch: 27 [200/440 (45%)]\tLoss: 0.315758\n",
      "Train Epoch: 35 [400/440 (91%)]\tLoss: 0.612582\n"
     ]
    },
    {
     "name": "stderr",
     "output_type": "stream",
     "text": [
      "\n",
      "\n",
      " 70%|███████   | 35/50 [08:56<03:49, 15.32s/it]\u001b[A\u001b[A"
     ]
    },
    {
     "name": "stdout",
     "output_type": "stream",
     "text": [
      "\n",
      "Validation set: Average loss: 0.3947, Accuracy: 50/50 (100.00%)\n",
      "\n",
      "Train Epoch: 36 [0/440 (0%)]\tLoss: 0.428971\n",
      "Train Epoch: 36 [200/440 (45%)]\tLoss: 0.501485\n",
      "Train Epoch: 36 [400/440 (91%)]\tLoss: 0.469013\n"
     ]
    },
    {
     "name": "stderr",
     "output_type": "stream",
     "text": [
      "\n",
      "\n",
      " 72%|███████▏  | 36/50 [09:11<03:34, 15.33s/it]\u001b[A\u001b[A"
     ]
    },
    {
     "name": "stdout",
     "output_type": "stream",
     "text": [
      "\n",
      "Validation set: Average loss: 0.3975, Accuracy: 49/50 (98.00%)\n",
      "\n",
      "Train Epoch: 37 [0/440 (0%)]\tLoss: 0.553895\n",
      "Train Epoch: 37 [200/440 (45%)]\tLoss: 0.584019\n",
      "Train Epoch: 37 [400/440 (91%)]\tLoss: 0.447408\n"
     ]
    },
    {
     "name": "stderr",
     "output_type": "stream",
     "text": [
      "\n",
      "\n",
      " 74%|███████▍  | 37/50 [09:26<03:19, 15.32s/it]\u001b[A\u001b[A"
     ]
    },
    {
     "name": "stdout",
     "output_type": "stream",
     "text": [
      "\n",
      "Validation set: Average loss: 0.3981, Accuracy: 49/50 (98.00%)\n",
      "\n",
      "Train Epoch: 38 [0/440 (0%)]\tLoss: 0.503553\n",
      "Train Epoch: 38 [200/440 (45%)]\tLoss: 0.645004\n",
      "Train Epoch: 38 [400/440 (91%)]\tLoss: 0.392333\n"
     ]
    },
    {
     "name": "stderr",
     "output_type": "stream",
     "text": [
      "\n",
      "\n",
      " 76%|███████▌  | 38/50 [09:42<03:03, 15.33s/it]\u001b[A\u001b[A"
     ]
    },
    {
     "name": "stdout",
     "output_type": "stream",
     "text": [
      "\n",
      "Validation set: Average loss: 0.3960, Accuracy: 50/50 (100.00%)\n",
      "\n",
      "Train Epoch: 39 [0/440 (0%)]\tLoss: 0.658474\n",
      "Train Epoch: 39 [200/440 (45%)]\tLoss: 0.479187\n",
      "Train Epoch: 39 [400/440 (91%)]\tLoss: 0.359124\n"
     ]
    },
    {
     "name": "stderr",
     "output_type": "stream",
     "text": [
      "\n",
      "\n",
      " 78%|███████▊  | 39/50 [09:57<02:48, 15.34s/it]\u001b[A\u001b[A"
     ]
    },
    {
     "name": "stdout",
     "output_type": "stream",
     "text": [
      "\n",
      "Validation set: Average loss: 0.3981, Accuracy: 49/50 (98.00%)\n",
      "\n",
      "Train Epoch: 40 [0/440 (0%)]\tLoss: 0.573072\n",
      "Train Epoch: 40 [200/440 (45%)]\tLoss: 0.603762\n",
      "Train Epoch: 40 [400/440 (91%)]\tLoss: 0.522956\n"
     ]
    },
    {
     "name": "stderr",
     "output_type": "stream",
     "text": [
      "\n",
      "\n",
      " 80%|████████  | 40/50 [10:13<02:33, 15.35s/it]\u001b[A\u001b[A"
     ]
    },
    {
     "name": "stdout",
     "output_type": "stream",
     "text": [
      "\n",
      "Validation set: Average loss: 0.3967, Accuracy: 50/50 (100.00%)\n",
      "\n",
      "Train Epoch: 41 [0/440 (0%)]\tLoss: 0.580118\n",
      "Train Epoch: 41 [200/440 (45%)]\tLoss: 0.590329\n",
      "Train Epoch: 41 [400/440 (91%)]\tLoss: 0.542262\n"
     ]
    },
    {
     "name": "stderr",
     "output_type": "stream",
     "text": [
      "\n",
      "\n",
      " 82%|████████▏ | 41/50 [10:28<02:18, 15.36s/it]\u001b[A\u001b[A"
     ]
    },
    {
     "name": "stdout",
     "output_type": "stream",
     "text": [
      "\n",
      "Validation set: Average loss: 0.3940, Accuracy: 50/50 (100.00%)\n",
      "\n",
      "Train Epoch: 42 [0/440 (0%)]\tLoss: 0.509617\n",
      "Train Epoch: 42 [200/440 (45%)]\tLoss: 0.532483\n",
      "Train Epoch: 42 [400/440 (91%)]\tLoss: 0.562805\n"
     ]
    },
    {
     "name": "stderr",
     "output_type": "stream",
     "text": [
      "\n",
      "\n",
      " 84%|████████▍ | 42/50 [10:43<02:02, 15.35s/it]\u001b[A\u001b[A"
     ]
    },
    {
     "name": "stdout",
     "output_type": "stream",
     "text": [
      "\n",
      "Validation set: Average loss: 0.3943, Accuracy: 50/50 (100.00%)\n",
      "\n",
      "Train Epoch: 43 [0/440 (0%)]\tLoss: 0.536912\n",
      "Train Epoch: 43 [200/440 (45%)]\tLoss: 0.471888\n",
      "Train Epoch: 43 [400/440 (91%)]\tLoss: 0.385349\n"
     ]
    },
    {
     "name": "stderr",
     "output_type": "stream",
     "text": [
      "\n",
      "\n",
      " 86%|████████▌ | 43/50 [10:59<01:47, 15.35s/it]\u001b[A\u001b[A"
     ]
    },
    {
     "name": "stdout",
     "output_type": "stream",
     "text": [
      "\n",
      "Validation set: Average loss: 0.3976, Accuracy: 49/50 (98.00%)\n",
      "\n",
      "Train Epoch: 44 [0/440 (0%)]\tLoss: 0.451599\n",
      "Train Epoch: 44 [200/440 (45%)]\tLoss: 0.433924\n",
      "Train Epoch: 44 [400/440 (91%)]\tLoss: 0.435235\n"
     ]
    },
    {
     "name": "stderr",
     "output_type": "stream",
     "text": [
      "\n",
      "\n",
      " 88%|████████▊ | 44/50 [11:14<01:32, 15.35s/it]\u001b[A\u001b[A"
     ]
    },
    {
     "name": "stdout",
     "output_type": "stream",
     "text": [
      "\n",
      "Validation set: Average loss: 0.3954, Accuracy: 50/50 (100.00%)\n",
      "\n",
      "Train Epoch: 45 [0/440 (0%)]\tLoss: 0.507237\n"
     ]
    }
   ],
   "source": [
    "for param in params:\n",
    "    # Do cross-validation\n",
    "    with mlflow.start_run():\n",
    "        batch_size = param[0]\n",
    "        J = param[1]\n",
    "        max_order = param[2]\n",
    "        mlflow.log_param('batch_size',batch_size)\n",
    "        mlflow.log_param('J', J)\n",
    "        mlflow.log_param('max_order', max_order)\n",
    "\n",
    "        #create data loader\n",
    "        train_loader = DataLoader(dataset=train_dataset,\n",
    "                                  batch_size=batch_size,\n",
    "                                  shuffle=True,\n",
    "                                  num_workers=2)\n",
    "        test_loader = DataLoader(dataset=test_dataset,\n",
    "                                  batch_size=batch_size,\n",
    "                                  shuffle=True,\n",
    "                                  num_workers=2)\n",
    "        val_loader = DataLoader(dataset=val_dataset,\n",
    "                                  batch_size=batch_size,\n",
    "                                  shuffle=True,\n",
    "                                  num_workers=2)\n",
    "        \n",
    "\n",
    "        # compute scattering features---------------------------------------                       \n",
    "        if max_order == 1:\n",
    "            scattering = Scattering2D(J=J, shape=(M, N), max_order=max_order)\n",
    "            K = 17*1\n",
    "        else:\n",
    "            scattering = Scattering2D(J=J, shape=(M, N))\n",
    "            K = 81*1\n",
    "\n",
    "        if use_cuda:\n",
    "            scattering = scattering.cuda()     \n",
    "        \n",
    "        model = Scattering2dResNet(K,2).to(device)\n",
    "\n",
    "        #training------------------------------------------------------------                         \n",
    "        from tqdm import tqdm\n",
    "        # Optimizer\n",
    "        lr = 0.1\n",
    "        val_loss_no_imp = 0\n",
    "        val_loss_last = 0\n",
    "        patience = 5\n",
    "        for epoch in tqdm(range(0, 50)):\n",
    "            optimizer = torch.optim.SGD(model.parameters(), lr=lr, momentum=0.9,\n",
    "                                      weight_decay=0.0005)\n",
    "            lr*=0.2\n",
    "            train(model, device, train_loader, optimizer, epoch+1, scattering)\n",
    "            val_loss , _ = test(model, device, val_loader, scattering)\n",
    "            if val_loss > val_loss_last: \n",
    "                val_loss_no_imp +=1\n",
    "            else:\n",
    "                val_loss_no_imp = 0\n",
    "            val_loss_last = val_loss\n",
    "            if val_loss_no_imp >= patience: break\n",
    "            \n",
    "        val_loss , val_accuracy = test(model, device, val_loader, scattering)\n",
    "        mlflow.log_metric('validation_accuracy',val_accuracy)  \n",
    "        print('Combinaison Done')\n",
    "\n",
    "\n"
   ]
  },
  {
   "cell_type": "markdown",
   "metadata": {},
   "source": [
    "# Run Mlflow to see results\n",
    "\n",
    "`!mlflow ui`\n",
    "\n",
    "Should launch something like this:\n",
    "\n"
   ]
  },
  {
   "cell_type": "code",
   "execution_count": null,
   "metadata": {},
   "outputs": [],
   "source": [
    "# !mlflow ui"
   ]
  },
  {
   "cell_type": "code",
   "execution_count": 47,
   "metadata": {},
   "outputs": [
    {
     "data": {
      "text/plain": [
       "array([ 4,  9, 28, 33, 52, 53], dtype=uint8)"
      ]
     },
     "execution_count": 47,
     "metadata": {},
     "output_type": "execute_result"
    }
   ],
   "source": [
    "test_data['id'].unique()"
   ]
  },
  {
   "cell_type": "code",
   "execution_count": null,
   "metadata": {},
   "outputs": [],
   "source": []
  }
 ],
 "metadata": {
  "accelerator": "GPU",
  "colab": {
   "collapsed_sections": [],
   "name": "Transfer learning with deep convolutional neural network for liver steatosis assessment in ultrasound images Reproducibility with Scatterin.ipynb",
   "provenance": [],
   "toc_visible": true
  },
  "kernelspec": {
   "display_name": "Python 3 (ultra)",
   "language": "python",
   "name": "ultra"
  },
  "language_info": {
   "codemirror_mode": {
    "name": "ipython",
    "version": 3
   },
   "file_extension": ".py",
   "mimetype": "text/x-python",
   "name": "python",
   "nbconvert_exporter": "python",
   "pygments_lexer": "ipython3",
   "version": "3.7.0"
  }
 },
 "nbformat": 4,
 "nbformat_minor": 4
}
