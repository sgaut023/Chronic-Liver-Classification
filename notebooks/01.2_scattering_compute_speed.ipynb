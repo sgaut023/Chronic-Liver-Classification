{
 "cells": [
  {
   "cell_type": "markdown",
   "metadata": {
    "colab_type": "text",
    "id": "ENoS3mTtGQts"
   },
   "source": [
    "# 01.2 Scattering Compute Speed\n",
    "\n",
    "**NOT COMPLETED**\n",
    "\n",
    "In this notebook, the speed to extract scattering coefficients is computed."
   ]
  },
  {
   "cell_type": "code",
   "execution_count": 2,
   "metadata": {
    "colab": {},
    "colab_type": "code",
    "id": "ptO9fUvkD-Lc"
   },
   "outputs": [],
   "source": [
    "import sys\n",
    "import random\n",
    "import os\n",
    "sys.path.append('../src')\n",
    "import warnings\n",
    "warnings.filterwarnings(\"ignore\") \n",
    "import torch\n",
    "from tqdm import tqdm\n",
    "from kymatio.torch import Scattering2D\n",
    "import time\n",
    "import kymatio.scattering2d.backend as backend\n",
    "\n",
    "###############################################################################\n",
    "# Finally, we import the `Scattering2D` class that computes the scattering\n",
    "# transform.\n",
    "\n",
    "from kymatio import Scattering2D\n"
   ]
  },
  {
   "cell_type": "markdown",
   "metadata": {},
   "source": [
    "# 3. Scattering Speed Test"
   ]
  },
  {
   "cell_type": "code",
   "execution_count": null,
   "metadata": {},
   "outputs": [],
   "source": [
    "# From: https://github.com/kymatio/kymatio/blob/0.1.X/examples/2d/compute_speed.py\n",
    "# Benchmark setup\n",
    "# --------------------\n",
    "J = 3\n",
    "L = 8\n",
    "times = 10\n",
    "devices = ['cpu', 'gpu']\n",
    "scattering = Scattering2D(J, shape=(M, N), L=L, backend='torch_skcuda')\n",
    "data = np.concatenate(dataset['img'],axis=0)\n",
    "data = torch.from_numpy(data)\n",
    "x = data[0:batch_size]"
   ]
  },
  {
   "cell_type": "code",
   "execution_count": 71,
   "metadata": {},
   "outputs": [
    {
     "name": "stdout",
     "output_type": "stream",
     "text": [
      "==> Testing Float32 with torch backend, on CPU, forward\n",
      "Elapsed time: 523.081820 [s / 10 evals], avg: 52.31 (s/batch)\n",
      "==> Testing Float32 with torch backend, on GPU, forward\n",
      "Elapsed time: 16.777041 [s / 10 evals], avg: 1.68 (s/batch)\n",
      "CPU times: user 53min 2s, sys: 4min 47s, total: 57min 50s\n",
      "Wall time: 9min 54s\n"
     ]
    }
   ],
   "source": [
    "%%time\n",
    "#mlflow.set_experiment('compute_speed_scattering')\n",
    "for device in devices:\n",
    "    #with mlflow.start_run():\n",
    "        fmt_str = '==> Testing Float32 with {} backend, on {}, forward'\n",
    "        print(fmt_str.format('torch', device.upper()))\n",
    "\n",
    "        if device == 'gpu':\n",
    "            scattering.cuda()\n",
    "            x = x.cuda()\n",
    "        else:\n",
    "            scattering.cpu()\n",
    "            x = x.cpu()\n",
    "\n",
    "        scattering.forward(x)\n",
    "\n",
    "        if device == 'gpu':\n",
    "            torch.cuda.synchronize()\n",
    "\n",
    "        t_start = time.time()\n",
    "        for _ in range(times):\n",
    "            scattering.forward(x)\n",
    "\n",
    "        if device == 'gpu':\n",
    "            torch.cuda.synchronize()\n",
    "\n",
    "        t_elapsed = time.time() - t_start\n",
    "\n",
    "        fmt_str = 'Elapsed time: {:2f} [s / {:d} evals], avg: {:.2f} (s/batch)'\n",
    "        print(fmt_str.format(t_elapsed, times, t_elapsed/times))\n",
    "#         mlflow.log_param('M',M)\n",
    "#         mlflow.log_param('N',N)\n",
    "#         mlflow.log_param('Backend', device.upper())\n",
    "#         mlflow.log_param('J', J)\n",
    "#         mlflow.log_param('L', L)\n",
    "#         mlflow.log_param('Batch Size', batch_size)\n",
    "#         mlflow.log_param('Times', times)\n",
    "#         mlflow.log_metric('Elapsed Time', t_elapsed)\n",
    "#         mlflow.log_metric('Average Time', times)\n",
    "\n",
    "    ###############################################################################\n",
    "    # The resulting output should be something like\n",
    "    #\n",
    "    # .. code-block:: text\n",
    "    #\n",
    "    #   ==> Testing Float32 with torch backend, on CPU, forward\n",
    "    #   Elapsed time: 624.910853 [s / 10 evals], avg: 62.49 (s/batch)\n",
    "    #   ==> Testing Float32 with torch backend, on GPU, forward\n"
   ]
  },
  {
   "cell_type": "code",
   "execution_count": null,
   "metadata": {},
   "outputs": [],
   "source": []
  },
  {
   "cell_type": "code",
   "execution_count": null,
   "metadata": {},
   "outputs": [],
   "source": []
  }
 ],
 "metadata": {
  "accelerator": "GPU",
  "colab": {
   "collapsed_sections": [],
   "name": "Transfer learning with deep convolutional neural network for liver steatosis assessment in ultrasound images Reproducibility with Scatterin.ipynb",
   "provenance": [],
   "toc_visible": true
  },
  "kernelspec": {
   "display_name": "Python [conda env:.conda-ultra] *",
   "language": "python",
   "name": "conda-env-.conda-ultra-py"
  },
  "language_info": {
   "codemirror_mode": {
    "name": "ipython",
    "version": 3
   },
   "file_extension": ".py",
   "mimetype": "text/x-python",
   "name": "python",
   "nbconvert_exporter": "python",
   "pygments_lexer": "ipython3",
   "version": "3.7.0"
  }
 },
 "nbformat": 4,
 "nbformat_minor": 4
}
