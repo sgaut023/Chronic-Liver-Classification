{
 "cells": [
  {
   "cell_type": "markdown",
   "metadata": {
    "colab_type": "text",
    "id": "ENoS3mTtGQts"
   },
   "source": [
    "# Experiment 5.0 - Inception Resnet v2 - extract Features\n",
    "\n",
    "Reproduce Results of [Transfer learning with deep convolutional neural network for liver steatosis assessment in ultrasound images](https://pubmed.ncbi.nlm.nih.gov/30094778/). We used a pre-trained CNN to extract features based on B-mode images. \n",
    "\n",
    "The CNNfeatures are extracted using the pretrained Inception-Resnet-v2 implemented in Keras.\n",
    "See reference: https://jkjung-avt.github.io/keras-inceptionresnetv2/\n",
    "\n",
    "![Screen Shot 2020-10-12 at 2 57 22 PM](https://user-images.githubusercontent.com/23482039/95781182-47437700-0c9b-11eb-8826-594811ba3322.png)\n"
   ]
  },
  {
   "cell_type": "code",
   "execution_count": 1,
   "metadata": {
    "colab": {},
    "colab_type": "code",
    "id": "ptO9fUvkD-Lc"
   },
   "outputs": [],
   "source": [
    "import sys\n",
    "import random\n",
    "sys.path.append('../src')\n",
    "\n",
    "import warnings\n",
    "warnings.filterwarnings(\"ignore\") \n",
    "\n",
    "import pickle\n",
    "import pandas as pd\n",
    "\n",
    "import numpy as np\n",
    "import mlflow\n",
    "import matplotlib.pyplot as plt\n",
    "import tensorflow as tf\n",
    "import keras\n",
    "from tqdm import tqdm\n",
    "\n",
    "from utils.compute_metrics import get_metrics, get_majority_vote,log_test_metrics\n",
    "from utils.dataframe_creation import create_dataframe_preproccessing\n",
    "from sklearn.preprocessing import StandardScaler\n",
    "from tensorflow.python.keras.applications.inception_resnet_v2 import InceptionResNetV2, preprocess_input\n",
    "from sklearn.svm import LinearSVC\n",
    "from sklearn.svm import SVC\n",
    "from sklearn.model_selection import GroupKFold\n",
    "from tqdm import tqdm\n",
    "from pprint import pprint\n",
    "from itertools import product\n",
    "from keras.preprocessing.image import ImageDataGenerator\n"
   ]
  },
  {
   "cell_type": "markdown",
   "metadata": {
    "colab_type": "text",
    "id": "XJR7pdinnuHH"
   },
   "source": [
    "## 1. Feature Extraction"
   ]
  },
  {
   "cell_type": "code",
   "execution_count": 2,
   "metadata": {
    "colab_type": "text",
    "id": "731ett2LeCqH"
   },
   "outputs": [
    {
     "name": "stderr",
     "output_type": "stream",
     "text": [
      "/home/mila/g/gauthies/.conda/envs/ultra/lib/python3.7/site-packages/ipykernel/ipkernel.py:287: DeprecationWarning: `should_run_async` will not call `transform_cell` automatically in the future. Please pass the result to `transformed_cell` argument and any exception that happen during thetransform in `preprocessing_exc_tuple` in IPython 7.17 and above.\n",
      "  and should_run_async(code)\n"
     ]
    },
    {
     "data": {
      "text/html": [
       "<div>\n",
       "<style scoped>\n",
       "    .dataframe tbody tr th:only-of-type {\n",
       "        vertical-align: middle;\n",
       "    }\n",
       "\n",
       "    .dataframe tbody tr th {\n",
       "        vertical-align: top;\n",
       "    }\n",
       "\n",
       "    .dataframe thead th {\n",
       "        text-align: right;\n",
       "    }\n",
       "</style>\n",
       "<table border=\"1\" class=\"dataframe\">\n",
       "  <thead>\n",
       "    <tr style=\"text-align: right;\">\n",
       "      <th></th>\n",
       "      <th>id</th>\n",
       "      <th>labels</th>\n",
       "      <th>fat</th>\n",
       "      <th>fname</th>\n",
       "    </tr>\n",
       "  </thead>\n",
       "  <tbody>\n",
       "    <tr>\n",
       "      <th>0</th>\n",
       "      <td>1</td>\n",
       "      <td>0</td>\n",
       "      <td>3</td>\n",
       "      <td>../data/02_interim/raw_images/1/P1_image1.jpg</td>\n",
       "    </tr>\n",
       "    <tr>\n",
       "      <th>1</th>\n",
       "      <td>1</td>\n",
       "      <td>0</td>\n",
       "      <td>3</td>\n",
       "      <td>../data/02_interim/raw_images/1/P1_image2.jpg</td>\n",
       "    </tr>\n",
       "    <tr>\n",
       "      <th>2</th>\n",
       "      <td>1</td>\n",
       "      <td>0</td>\n",
       "      <td>3</td>\n",
       "      <td>../data/02_interim/raw_images/1/P1_image3.jpg</td>\n",
       "    </tr>\n",
       "    <tr>\n",
       "      <th>3</th>\n",
       "      <td>1</td>\n",
       "      <td>0</td>\n",
       "      <td>3</td>\n",
       "      <td>../data/02_interim/raw_images/1/P1_image4.jpg</td>\n",
       "    </tr>\n",
       "    <tr>\n",
       "      <th>4</th>\n",
       "      <td>1</td>\n",
       "      <td>0</td>\n",
       "      <td>3</td>\n",
       "      <td>../data/02_interim/raw_images/1/P1_image5.jpg</td>\n",
       "    </tr>\n",
       "  </tbody>\n",
       "</table>\n",
       "</div>"
      ],
      "text/plain": [
       "   id  labels  fat                                          fname\n",
       "0   1       0    3  ../data/02_interim/raw_images/1/P1_image1.jpg\n",
       "1   1       0    3  ../data/02_interim/raw_images/1/P1_image2.jpg\n",
       "2   1       0    3  ../data/02_interim/raw_images/1/P1_image3.jpg\n",
       "3   1       0    3  ../data/02_interim/raw_images/1/P1_image4.jpg\n",
       "4   1       0    3  ../data/02_interim/raw_images/1/P1_image5.jpg"
      ]
     },
     "execution_count": 2,
     "metadata": {},
     "output_type": "execute_result"
    }
   ],
   "source": [
    "M, N= 434, 636 # ultrasound image dimension\n",
    "#In the paper, the authors extract the features directly from the pretrained inception resnet_v2\n",
    "# pooling: Optional pooling mode for feature extraction when include_top is False.\n",
    "#'max' means that global max pooling will be applied.\n",
    "net = InceptionResNetV2(include_top=False,\n",
    "                        weights='imagenet',\n",
    "                        input_tensor=None,\n",
    "                        input_shape=(M,N,3),\n",
    "                        pooling= 'avg')\n",
    "dataset = create_dataframe_preproccessing()\n",
    "dataset.head()"
   ]
  },
  {
   "cell_type": "code",
   "execution_count": 3,
   "metadata": {},
   "outputs": [
    {
     "name": "stderr",
     "output_type": "stream",
     "text": [
      "/home/mila/g/gauthies/.conda/envs/ultra/lib/python3.7/site-packages/ipykernel/ipkernel.py:287: DeprecationWarning: `should_run_async` will not call `transform_cell` automatically in the future. Please pass the result to `transformed_cell` argument and any exception that happen during thetransform in `preprocessing_exc_tuple` in IPython 7.17 and above.\n",
      "  and should_run_async(code)\n"
     ]
    },
    {
     "name": "stdout",
     "output_type": "stream",
     "text": [
      "Found 550 validated image filenames belonging to 2 classes.\n"
     ]
    }
   ],
   "source": [
    "dataset = dataset.astype({\"labels\": str})\n",
    "datagen = ImageDataGenerator(rescale=1./255)\n",
    "generator = datagen.flow_from_dataframe(dataset, x_col='fname',y_col='labels',target_size=(M,N),shuffle=False, batch_size =25)"
   ]
  },
  {
   "cell_type": "code",
   "execution_count": 4,
   "metadata": {},
   "outputs": [
    {
     "name": "stderr",
     "output_type": "stream",
     "text": [
      "/home/mila/g/gauthies/.conda/envs/ultra/lib/python3.7/site-packages/ipykernel/ipkernel.py:287: DeprecationWarning: `should_run_async` will not call `transform_cell` automatically in the future. Please pass the result to `transformed_cell` argument and any exception that happen during thetransform in `preprocessing_exc_tuple` in IPython 7.17 and above.\n",
      "  and should_run_async(code)\n",
      " 95%|█████████▌| 21/22 [08:57<00:25, 25.58s/it]\n"
     ]
    }
   ],
   "source": [
    "max_pool_dim = 1536\n",
    "features = np.zeros(shape=(len(dataset), max_pool_dim))\n",
    "batch_size = 25\n",
    "assert len(dataset)%batch_size ==0, '550 should be divisable by batch_SIZE'\n",
    "\n",
    "for i, (inputs_batch, labels_batch) in enumerate(tqdm(generator)):\n",
    "    features[i*batch_size:(i+1)*batch_size] = net(inputs_batch)\n",
    "    if (i+1)*batch_size == 550:\n",
    "        break"
   ]
  },
  {
   "cell_type": "markdown",
   "metadata": {},
   "source": [
    "## 2. Save features"
   ]
  },
  {
   "cell_type": "code",
   "execution_count": 5,
   "metadata": {},
   "outputs": [
    {
     "data": {
      "text/html": [
       "<div>\n",
       "<style scoped>\n",
       "    .dataframe tbody tr th:only-of-type {\n",
       "        vertical-align: middle;\n",
       "    }\n",
       "\n",
       "    .dataframe tbody tr th {\n",
       "        vertical-align: top;\n",
       "    }\n",
       "\n",
       "    .dataframe thead th {\n",
       "        text-align: right;\n",
       "    }\n",
       "</style>\n",
       "<table border=\"1\" class=\"dataframe\">\n",
       "  <thead>\n",
       "    <tr style=\"text-align: right;\">\n",
       "      <th></th>\n",
       "      <th>id</th>\n",
       "      <th>labels</th>\n",
       "      <th>0</th>\n",
       "      <th>1</th>\n",
       "      <th>2</th>\n",
       "      <th>3</th>\n",
       "      <th>4</th>\n",
       "      <th>5</th>\n",
       "      <th>6</th>\n",
       "      <th>7</th>\n",
       "      <th>...</th>\n",
       "      <th>1526</th>\n",
       "      <th>1527</th>\n",
       "      <th>1528</th>\n",
       "      <th>1529</th>\n",
       "      <th>1530</th>\n",
       "      <th>1531</th>\n",
       "      <th>1532</th>\n",
       "      <th>1533</th>\n",
       "      <th>1534</th>\n",
       "      <th>1535</th>\n",
       "    </tr>\n",
       "  </thead>\n",
       "  <tbody>\n",
       "    <tr>\n",
       "      <th>0</th>\n",
       "      <td>1</td>\n",
       "      <td>0</td>\n",
       "      <td>0.101244</td>\n",
       "      <td>0.197340</td>\n",
       "      <td>0.122139</td>\n",
       "      <td>0.026230</td>\n",
       "      <td>0.091077</td>\n",
       "      <td>0.200453</td>\n",
       "      <td>0.342147</td>\n",
       "      <td>0.110519</td>\n",
       "      <td>...</td>\n",
       "      <td>0.022503</td>\n",
       "      <td>0.465169</td>\n",
       "      <td>0.219377</td>\n",
       "      <td>0.280133</td>\n",
       "      <td>0.218263</td>\n",
       "      <td>0.326974</td>\n",
       "      <td>0.030053</td>\n",
       "      <td>0.053427</td>\n",
       "      <td>0.127963</td>\n",
       "      <td>0.424772</td>\n",
       "    </tr>\n",
       "    <tr>\n",
       "      <th>1</th>\n",
       "      <td>1</td>\n",
       "      <td>0</td>\n",
       "      <td>0.127029</td>\n",
       "      <td>0.186655</td>\n",
       "      <td>0.144265</td>\n",
       "      <td>0.022980</td>\n",
       "      <td>0.083105</td>\n",
       "      <td>0.163568</td>\n",
       "      <td>0.326425</td>\n",
       "      <td>0.149001</td>\n",
       "      <td>...</td>\n",
       "      <td>0.008748</td>\n",
       "      <td>0.422535</td>\n",
       "      <td>0.198117</td>\n",
       "      <td>0.263455</td>\n",
       "      <td>0.224313</td>\n",
       "      <td>0.324824</td>\n",
       "      <td>0.042945</td>\n",
       "      <td>0.050160</td>\n",
       "      <td>0.109165</td>\n",
       "      <td>0.411583</td>\n",
       "    </tr>\n",
       "    <tr>\n",
       "      <th>2</th>\n",
       "      <td>1</td>\n",
       "      <td>0</td>\n",
       "      <td>0.120061</td>\n",
       "      <td>0.218817</td>\n",
       "      <td>0.139202</td>\n",
       "      <td>0.033013</td>\n",
       "      <td>0.130737</td>\n",
       "      <td>0.161452</td>\n",
       "      <td>0.298092</td>\n",
       "      <td>0.177543</td>\n",
       "      <td>...</td>\n",
       "      <td>0.009677</td>\n",
       "      <td>0.474711</td>\n",
       "      <td>0.248197</td>\n",
       "      <td>0.281001</td>\n",
       "      <td>0.218283</td>\n",
       "      <td>0.369392</td>\n",
       "      <td>0.065059</td>\n",
       "      <td>0.073969</td>\n",
       "      <td>0.122241</td>\n",
       "      <td>0.440500</td>\n",
       "    </tr>\n",
       "    <tr>\n",
       "      <th>3</th>\n",
       "      <td>1</td>\n",
       "      <td>0</td>\n",
       "      <td>0.133891</td>\n",
       "      <td>0.166143</td>\n",
       "      <td>0.131115</td>\n",
       "      <td>0.026295</td>\n",
       "      <td>0.138991</td>\n",
       "      <td>0.165849</td>\n",
       "      <td>0.262839</td>\n",
       "      <td>0.129531</td>\n",
       "      <td>...</td>\n",
       "      <td>0.007220</td>\n",
       "      <td>0.447484</td>\n",
       "      <td>0.233246</td>\n",
       "      <td>0.241784</td>\n",
       "      <td>0.186390</td>\n",
       "      <td>0.368073</td>\n",
       "      <td>0.051665</td>\n",
       "      <td>0.062716</td>\n",
       "      <td>0.108734</td>\n",
       "      <td>0.448344</td>\n",
       "    </tr>\n",
       "    <tr>\n",
       "      <th>4</th>\n",
       "      <td>1</td>\n",
       "      <td>0</td>\n",
       "      <td>0.098471</td>\n",
       "      <td>0.177389</td>\n",
       "      <td>0.125236</td>\n",
       "      <td>0.013000</td>\n",
       "      <td>0.124575</td>\n",
       "      <td>0.181096</td>\n",
       "      <td>0.266885</td>\n",
       "      <td>0.171505</td>\n",
       "      <td>...</td>\n",
       "      <td>0.013480</td>\n",
       "      <td>0.474544</td>\n",
       "      <td>0.237659</td>\n",
       "      <td>0.317590</td>\n",
       "      <td>0.189135</td>\n",
       "      <td>0.290581</td>\n",
       "      <td>0.041239</td>\n",
       "      <td>0.052399</td>\n",
       "      <td>0.097868</td>\n",
       "      <td>0.454580</td>\n",
       "    </tr>\n",
       "  </tbody>\n",
       "</table>\n",
       "<p>5 rows × 1538 columns</p>\n",
       "</div>"
      ],
      "text/plain": [
       "   id  labels         0         1         2         3         4         5  \\\n",
       "0   1       0  0.101244  0.197340  0.122139  0.026230  0.091077  0.200453   \n",
       "1   1       0  0.127029  0.186655  0.144265  0.022980  0.083105  0.163568   \n",
       "2   1       0  0.120061  0.218817  0.139202  0.033013  0.130737  0.161452   \n",
       "3   1       0  0.133891  0.166143  0.131115  0.026295  0.138991  0.165849   \n",
       "4   1       0  0.098471  0.177389  0.125236  0.013000  0.124575  0.181096   \n",
       "\n",
       "          6         7  ...      1526      1527      1528      1529      1530  \\\n",
       "0  0.342147  0.110519  ...  0.022503  0.465169  0.219377  0.280133  0.218263   \n",
       "1  0.326425  0.149001  ...  0.008748  0.422535  0.198117  0.263455  0.224313   \n",
       "2  0.298092  0.177543  ...  0.009677  0.474711  0.248197  0.281001  0.218283   \n",
       "3  0.262839  0.129531  ...  0.007220  0.447484  0.233246  0.241784  0.186390   \n",
       "4  0.266885  0.171505  ...  0.013480  0.474544  0.237659  0.317590  0.189135   \n",
       "\n",
       "       1531      1532      1533      1534      1535  \n",
       "0  0.326974  0.030053  0.053427  0.127963  0.424772  \n",
       "1  0.324824  0.042945  0.050160  0.109165  0.411583  \n",
       "2  0.369392  0.065059  0.073969  0.122241  0.440500  \n",
       "3  0.368073  0.051665  0.062716  0.108734  0.448344  \n",
       "4  0.290581  0.041239  0.052399  0.097868  0.454580  \n",
       "\n",
       "[5 rows x 1538 columns]"
      ]
     },
     "execution_count": 5,
     "metadata": {},
     "output_type": "execute_result"
    }
   ],
   "source": [
    "df_features = pd.DataFrame(features)\n",
    "df_features= pd.concat([dataset['id'], dataset['labels'], df_features], axis=1)\n",
    "df_features[[\"labels\"]] = df_features[[\"labels\"]].apply(pd.to_numeric)\n",
    "df_features.head()"
   ]
  },
  {
   "cell_type": "code",
   "execution_count": 6,
   "metadata": {},
   "outputs": [
    {
     "name": "stderr",
     "output_type": "stream",
     "text": [
      "/home/mila/g/gauthies/.conda/envs/ultra/lib/python3.7/site-packages/ipykernel/ipkernel.py:287: DeprecationWarning: `should_run_async` will not call `transform_cell` automatically in the future. Please pass the result to `transformed_cell` argument and any exception that happen during thetransform in `preprocessing_exc_tuple` in IPython 7.17 and above.\n",
      "  and should_run_async(code)\n"
     ]
    }
   ],
   "source": [
    "# Create a dict for the scattering features, and parameters\n",
    "inception_dict_tensor = {\n",
    "                'features':df_features,\n",
    "                'label' : dataset['labels'],\n",
    "                'pid' : dataset['id'],}\n",
    "\n",
    "with open('../data/03_features/inception_dict_tensor_avg_pooling.pickle', 'wb') as handle:\n",
    "    pickle.dump(inception_dict_tensor, handle, protocol=pickle.HIGHEST_PROTOCOL)"
   ]
  },
  {
   "cell_type": "code",
   "execution_count": null,
   "metadata": {},
   "outputs": [],
   "source": []
  }
 ],
 "metadata": {
  "accelerator": "GPU",
  "colab": {
   "collapsed_sections": [],
   "name": "Transfer learning with deep convolutional neural network for liver steatosis assessment in ultrasound images Reproducibility with Scatterin.ipynb",
   "provenance": [],
   "toc_visible": true
  },
  "kernelspec": {
   "display_name": "Python 3 (ultra)",
   "language": "python",
   "name": "ultra"
  },
  "language_info": {
   "codemirror_mode": {
    "name": "ipython",
    "version": 3
   },
   "file_extension": ".py",
   "mimetype": "text/x-python",
   "name": "python",
   "nbconvert_exporter": "python",
   "pygments_lexer": "ipython3",
   "version": "3.7.0"
  }
 },
 "nbformat": 4,
 "nbformat_minor": 4
}
