{
 "cells": [
  {
   "cell_type": "markdown",
   "metadata": {
    "colab_type": "text",
    "id": "ENoS3mTtGQts"
   },
   "source": [
    "# Experiment 5.0 - Inception Resnet v2 - extract Features\n",
    "\n",
    "Reproduce Results of [Transfer learning with deep convolutional neural network for liver steatosis assessment in ultrasound images](https://pubmed.ncbi.nlm.nih.gov/30094778/). We used a pre-trained CNN to extract features based on B-mode images. \n",
    "\n",
    "The CNNfeatures are extracted using the pretrained Inception-Resnet-v2 implemented in Keras.\n",
    "See reference: https://jkjung-avt.github.io/keras-inceptionresnetv2/\n",
    "\n",
    "![Screen Shot 2020-10-12 at 2 57 22 PM](https://user-images.githubusercontent.com/23482039/95781182-47437700-0c9b-11eb-8826-594811ba3322.png)\n"
   ]
  },
  {
   "cell_type": "code",
   "execution_count": 29,
   "metadata": {
    "colab": {},
    "colab_type": "code",
    "id": "ptO9fUvkD-Lc"
   },
   "outputs": [
    {
     "name": "stderr",
     "output_type": "stream",
     "text": [
      "/home/mila/g/gauthies/.conda/envs/ultra/lib/python3.7/site-packages/ipykernel/ipkernel.py:287: DeprecationWarning: `should_run_async` will not call `transform_cell` automatically in the future. Please pass the result to `transformed_cell` argument and any exception that happen during thetransform in `preprocessing_exc_tuple` in IPython 7.17 and above.\n",
      "  and should_run_async(code)\n"
     ]
    }
   ],
   "source": [
    "import sys\n",
    "import random\n",
    "sys.path.append('../src')\n",
    "\n",
    "import warnings\n",
    "warnings.filterwarnings(\"ignore\") \n",
    "\n",
    "import pickle\n",
    "import pandas as pd\n",
    "import numpy as np\n",
    "import mlflow\n",
    "import matplotlib.pyplot as plt\n",
    "import tensorflow as tf\n",
    "from tqdm import tqdm\n",
    "\n",
    "from utils.compute_metrics import get_metrics, get_majority_vote,log_test_metrics\n",
    "from utils.dataframe_creation import create_dataframe_preproccessing\n",
    "from sklearn.preprocessing import StandardScaler\n",
    "from tensorflow.python.keras.applications.inception_resnet_v2 import InceptionResNetV2, preprocess_input\n",
    "from sklearn.svm import LinearSVC\n",
    "from sklearn.svm import SVC\n",
    "from sklearn.model_selection import GroupKFold\n",
    "from tqdm import tqdm\n",
    "from pprint import pprint\n",
    "from itertools import product\n",
    "from tensorflow import keras\n",
    "from keras.preprocessing.image import ImageDataGenerator\n"
   ]
  },
  {
   "cell_type": "markdown",
   "metadata": {
    "colab_type": "text",
    "id": "XJR7pdinnuHH"
   },
   "source": [
    "## 1. Feature Extraction"
   ]
  },
  {
   "cell_type": "code",
   "execution_count": 32,
   "metadata": {
    "colab_type": "text",
    "id": "731ett2LeCqH"
   },
   "outputs": [
    {
     "data": {
      "text/html": [
       "<div>\n",
       "<style scoped>\n",
       "    .dataframe tbody tr th:only-of-type {\n",
       "        vertical-align: middle;\n",
       "    }\n",
       "\n",
       "    .dataframe tbody tr th {\n",
       "        vertical-align: top;\n",
       "    }\n",
       "\n",
       "    .dataframe thead th {\n",
       "        text-align: right;\n",
       "    }\n",
       "</style>\n",
       "<table border=\"1\" class=\"dataframe\">\n",
       "  <thead>\n",
       "    <tr style=\"text-align: right;\">\n",
       "      <th></th>\n",
       "      <th>id</th>\n",
       "      <th>labels</th>\n",
       "      <th>fat</th>\n",
       "      <th>fname</th>\n",
       "    </tr>\n",
       "  </thead>\n",
       "  <tbody>\n",
       "    <tr>\n",
       "      <th>0</th>\n",
       "      <td>1</td>\n",
       "      <td>0</td>\n",
       "      <td>3</td>\n",
       "      <td>../data/01_raw/raw_images/P1_image1.jpg</td>\n",
       "    </tr>\n",
       "    <tr>\n",
       "      <th>1</th>\n",
       "      <td>1</td>\n",
       "      <td>0</td>\n",
       "      <td>3</td>\n",
       "      <td>../data/01_raw/raw_images/P1_image2.jpg</td>\n",
       "    </tr>\n",
       "    <tr>\n",
       "      <th>2</th>\n",
       "      <td>1</td>\n",
       "      <td>0</td>\n",
       "      <td>3</td>\n",
       "      <td>../data/01_raw/raw_images/P1_image3.jpg</td>\n",
       "    </tr>\n",
       "    <tr>\n",
       "      <th>3</th>\n",
       "      <td>1</td>\n",
       "      <td>0</td>\n",
       "      <td>3</td>\n",
       "      <td>../data/01_raw/raw_images/P1_image4.jpg</td>\n",
       "    </tr>\n",
       "    <tr>\n",
       "      <th>4</th>\n",
       "      <td>1</td>\n",
       "      <td>0</td>\n",
       "      <td>3</td>\n",
       "      <td>../data/01_raw/raw_images/P1_image5.jpg</td>\n",
       "    </tr>\n",
       "  </tbody>\n",
       "</table>\n",
       "</div>"
      ],
      "text/plain": [
       "   id  labels  fat                                    fname\n",
       "0   1       0    3  ../data/01_raw/raw_images/P1_image1.jpg\n",
       "1   1       0    3  ../data/01_raw/raw_images/P1_image2.jpg\n",
       "2   1       0    3  ../data/01_raw/raw_images/P1_image3.jpg\n",
       "3   1       0    3  ../data/01_raw/raw_images/P1_image4.jpg\n",
       "4   1       0    3  ../data/01_raw/raw_images/P1_image5.jpg"
      ]
     },
     "execution_count": 32,
     "metadata": {},
     "output_type": "execute_result"
    }
   ],
   "source": [
    "M, N= 434, 636 # ultrasound image dimension\n",
    "#In the paper, the authors extract the features directly from the pretrained inception resnet_v2\n",
    "# pooling: Optional pooling mode for feature extraction when include_top is False.\n",
    "#'max' means that global max pooling will be applied.\n",
    "net = InceptionResNetV2(include_top=False,\n",
    "                        weights='imagenet',\n",
    "                        input_tensor=None,\n",
    "                        input_shape=(M,N,3),\n",
    "                        pooling= 'max')\n",
    "net.trainable = False\n",
    "dataset = create_dataframe_preproccessing()\n",
    "dataset.head()"
   ]
  },
  {
   "cell_type": "code",
   "execution_count": 43,
   "metadata": {},
   "outputs": [
    {
     "name": "stdout",
     "output_type": "stream",
     "text": [
      "Found 550 validated image filenames belonging to 2 classes.\n"
     ]
    }
   ],
   "source": [
    "dataset = dataset.astype({\"labels\": str})\n",
    "datagen = ImageDataGenerator(rescale=1./255)\n",
    "generator = datagen.flow_from_dataframe(dataset, x_col='fname',y_col='labels',target_size=(M,N),shuffle=False, batch_size =25)"
   ]
  },
  {
   "cell_type": "code",
   "execution_count": 44,
   "metadata": {},
   "outputs": [
    {
     "name": "stderr",
     "output_type": "stream",
     "text": [
      " 95%|█████████▌| 21/22 [05:43<00:16, 16.37s/it]\n"
     ]
    }
   ],
   "source": [
    "max_pool_dim = 1536\n",
    "features = np.zeros(shape=(len(dataset), max_pool_dim))\n",
    "batch_size = 25\n",
    "assert len(dataset)%batch_size ==0, '550 should be divisable by batch_SIZE'\n",
    "\n",
    "for i, (inputs_batch, labels_batch) in enumerate(tqdm(generator)):\n",
    "    features[i*batch_size:(i+1)*batch_size] = net(inputs_batch)\n",
    "    if (i+1)*batch_size == 550:\n",
    "        break"
   ]
  },
  {
   "cell_type": "code",
   "execution_count": null,
   "metadata": {},
   "outputs": [],
   "source": [
    "features.shape"
   ]
  },
  {
   "cell_type": "markdown",
   "metadata": {},
   "source": [
    "## 2. Save features"
   ]
  },
  {
   "cell_type": "code",
   "execution_count": 62,
   "metadata": {},
   "outputs": [
    {
     "data": {
      "text/html": [
       "<div>\n",
       "<style scoped>\n",
       "    .dataframe tbody tr th:only-of-type {\n",
       "        vertical-align: middle;\n",
       "    }\n",
       "\n",
       "    .dataframe tbody tr th {\n",
       "        vertical-align: top;\n",
       "    }\n",
       "\n",
       "    .dataframe thead th {\n",
       "        text-align: right;\n",
       "    }\n",
       "</style>\n",
       "<table border=\"1\" class=\"dataframe\">\n",
       "  <thead>\n",
       "    <tr style=\"text-align: right;\">\n",
       "      <th></th>\n",
       "      <th>id</th>\n",
       "      <th>labels</th>\n",
       "      <th>0</th>\n",
       "      <th>1</th>\n",
       "      <th>2</th>\n",
       "      <th>3</th>\n",
       "      <th>4</th>\n",
       "      <th>5</th>\n",
       "      <th>6</th>\n",
       "      <th>7</th>\n",
       "      <th>...</th>\n",
       "      <th>1526</th>\n",
       "      <th>1527</th>\n",
       "      <th>1528</th>\n",
       "      <th>1529</th>\n",
       "      <th>1530</th>\n",
       "      <th>1531</th>\n",
       "      <th>1532</th>\n",
       "      <th>1533</th>\n",
       "      <th>1534</th>\n",
       "      <th>1535</th>\n",
       "    </tr>\n",
       "  </thead>\n",
       "  <tbody>\n",
       "    <tr>\n",
       "      <th>0</th>\n",
       "      <td>1</td>\n",
       "      <td>0</td>\n",
       "      <td>2.308496</td>\n",
       "      <td>1.377344</td>\n",
       "      <td>2.677886</td>\n",
       "      <td>0.873284</td>\n",
       "      <td>0.765629</td>\n",
       "      <td>1.705909</td>\n",
       "      <td>3.408358</td>\n",
       "      <td>1.842248</td>\n",
       "      <td>...</td>\n",
       "      <td>0.391646</td>\n",
       "      <td>3.605376</td>\n",
       "      <td>1.503199</td>\n",
       "      <td>1.748474</td>\n",
       "      <td>3.826392</td>\n",
       "      <td>1.899497</td>\n",
       "      <td>0.761513</td>\n",
       "      <td>1.708645</td>\n",
       "      <td>2.588735</td>\n",
       "      <td>2.746312</td>\n",
       "    </tr>\n",
       "    <tr>\n",
       "      <th>1</th>\n",
       "      <td>1</td>\n",
       "      <td>0</td>\n",
       "      <td>2.256733</td>\n",
       "      <td>1.818705</td>\n",
       "      <td>2.325612</td>\n",
       "      <td>0.761692</td>\n",
       "      <td>0.849174</td>\n",
       "      <td>1.940296</td>\n",
       "      <td>3.300263</td>\n",
       "      <td>1.809696</td>\n",
       "      <td>...</td>\n",
       "      <td>0.455811</td>\n",
       "      <td>4.099022</td>\n",
       "      <td>2.056846</td>\n",
       "      <td>2.406654</td>\n",
       "      <td>4.398932</td>\n",
       "      <td>1.945405</td>\n",
       "      <td>0.641796</td>\n",
       "      <td>1.523787</td>\n",
       "      <td>2.445662</td>\n",
       "      <td>2.617398</td>\n",
       "    </tr>\n",
       "    <tr>\n",
       "      <th>2</th>\n",
       "      <td>1</td>\n",
       "      <td>0</td>\n",
       "      <td>2.460423</td>\n",
       "      <td>2.025961</td>\n",
       "      <td>2.874427</td>\n",
       "      <td>0.729016</td>\n",
       "      <td>0.773342</td>\n",
       "      <td>1.886959</td>\n",
       "      <td>3.529279</td>\n",
       "      <td>1.932057</td>\n",
       "      <td>...</td>\n",
       "      <td>0.667012</td>\n",
       "      <td>4.026766</td>\n",
       "      <td>1.547058</td>\n",
       "      <td>2.230511</td>\n",
       "      <td>4.609050</td>\n",
       "      <td>1.914829</td>\n",
       "      <td>0.638776</td>\n",
       "      <td>1.566685</td>\n",
       "      <td>2.251430</td>\n",
       "      <td>3.049433</td>\n",
       "    </tr>\n",
       "    <tr>\n",
       "      <th>3</th>\n",
       "      <td>1</td>\n",
       "      <td>0</td>\n",
       "      <td>2.392491</td>\n",
       "      <td>1.863037</td>\n",
       "      <td>2.225823</td>\n",
       "      <td>0.884124</td>\n",
       "      <td>1.109694</td>\n",
       "      <td>2.026623</td>\n",
       "      <td>3.001410</td>\n",
       "      <td>1.578742</td>\n",
       "      <td>...</td>\n",
       "      <td>0.462886</td>\n",
       "      <td>4.100451</td>\n",
       "      <td>1.464487</td>\n",
       "      <td>2.062542</td>\n",
       "      <td>4.497901</td>\n",
       "      <td>1.899501</td>\n",
       "      <td>0.814888</td>\n",
       "      <td>1.404126</td>\n",
       "      <td>1.700386</td>\n",
       "      <td>2.840468</td>\n",
       "    </tr>\n",
       "    <tr>\n",
       "      <th>4</th>\n",
       "      <td>1</td>\n",
       "      <td>0</td>\n",
       "      <td>1.743439</td>\n",
       "      <td>1.707390</td>\n",
       "      <td>2.137489</td>\n",
       "      <td>0.666928</td>\n",
       "      <td>0.654343</td>\n",
       "      <td>2.059746</td>\n",
       "      <td>3.975016</td>\n",
       "      <td>1.743472</td>\n",
       "      <td>...</td>\n",
       "      <td>0.426692</td>\n",
       "      <td>3.789214</td>\n",
       "      <td>1.363746</td>\n",
       "      <td>2.309665</td>\n",
       "      <td>5.107124</td>\n",
       "      <td>1.962310</td>\n",
       "      <td>0.688884</td>\n",
       "      <td>1.454412</td>\n",
       "      <td>1.855297</td>\n",
       "      <td>2.486797</td>\n",
       "    </tr>\n",
       "  </tbody>\n",
       "</table>\n",
       "<p>5 rows × 1538 columns</p>\n",
       "</div>"
      ],
      "text/plain": [
       "   id  labels         0         1         2         3         4         5  \\\n",
       "0   1       0  2.308496  1.377344  2.677886  0.873284  0.765629  1.705909   \n",
       "1   1       0  2.256733  1.818705  2.325612  0.761692  0.849174  1.940296   \n",
       "2   1       0  2.460423  2.025961  2.874427  0.729016  0.773342  1.886959   \n",
       "3   1       0  2.392491  1.863037  2.225823  0.884124  1.109694  2.026623   \n",
       "4   1       0  1.743439  1.707390  2.137489  0.666928  0.654343  2.059746   \n",
       "\n",
       "          6         7  ...      1526      1527      1528      1529      1530  \\\n",
       "0  3.408358  1.842248  ...  0.391646  3.605376  1.503199  1.748474  3.826392   \n",
       "1  3.300263  1.809696  ...  0.455811  4.099022  2.056846  2.406654  4.398932   \n",
       "2  3.529279  1.932057  ...  0.667012  4.026766  1.547058  2.230511  4.609050   \n",
       "3  3.001410  1.578742  ...  0.462886  4.100451  1.464487  2.062542  4.497901   \n",
       "4  3.975016  1.743472  ...  0.426692  3.789214  1.363746  2.309665  5.107124   \n",
       "\n",
       "       1531      1532      1533      1534      1535  \n",
       "0  1.899497  0.761513  1.708645  2.588735  2.746312  \n",
       "1  1.945405  0.641796  1.523787  2.445662  2.617398  \n",
       "2  1.914829  0.638776  1.566685  2.251430  3.049433  \n",
       "3  1.899501  0.814888  1.404126  1.700386  2.840468  \n",
       "4  1.962310  0.688884  1.454412  1.855297  2.486797  \n",
       "\n",
       "[5 rows x 1538 columns]"
      ]
     },
     "execution_count": 62,
     "metadata": {},
     "output_type": "execute_result"
    }
   ],
   "source": [
    "df_features = pd.DataFrame(features)\n",
    "df_features= pd.concat([dataset['id'], dataset['labels'], df_features], axis=1)\n",
    "df_features[[\"labels\"]] = df_features[[\"labels\"]].apply(pd.to_numeric)\n",
    "df_features.head()"
   ]
  },
  {
   "cell_type": "code",
   "execution_count": 64,
   "metadata": {},
   "outputs": [],
   "source": [
    "# Create a dict for the scattering features, and parameters\n",
    "inception_dict_tensor = {\n",
    "                'features':df_features,\n",
    "                'label' : dataset['labels'],\n",
    "                'pid' : dataset['id'],}\n",
    "\n",
    "with open('../data/03_features/inception_dict_tensor.pickle', 'wb') as handle:\n",
    "    pickle.dump(inception_dict_tensor, handle, protocol=pickle.HIGHEST_PROTOCOL)"
   ]
  },
  {
   "cell_type": "code",
   "execution_count": null,
   "metadata": {},
   "outputs": [],
   "source": []
  }
 ],
 "metadata": {
  "accelerator": "GPU",
  "colab": {
   "collapsed_sections": [],
   "name": "Transfer learning with deep convolutional neural network for liver steatosis assessment in ultrasound images Reproducibility with Scatterin.ipynb",
   "provenance": [],
   "toc_visible": true
  },
  "kernelspec": {
   "display_name": "Python 3 (ultra)",
   "language": "python",
   "name": "ultra"
  },
  "language_info": {
   "codemirror_mode": {
    "name": "ipython",
    "version": 3
   },
   "file_extension": ".py",
   "mimetype": "text/x-python",
   "name": "python",
   "nbconvert_exporter": "python",
   "pygments_lexer": "ipython3",
   "version": "3.7.0"
  }
 },
 "nbformat": 4,
 "nbformat_minor": 4
}
