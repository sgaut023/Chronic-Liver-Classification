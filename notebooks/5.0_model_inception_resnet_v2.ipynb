{
 "cells": [
  {
   "cell_type": "markdown",
   "metadata": {
    "colab_type": "text",
    "id": "ENoS3mTtGQts"
   },
   "source": [
    "# Experiment 5.0 - Inception Resnet v2 - extract Features\n",
    "\n",
    "Reproduce Results of [Transfer learning with deep convolutional neural network for liver steatosis assessment in ultrasound images](https://pubmed.ncbi.nlm.nih.gov/30094778/). We used a pre-trained CNN to extract features based on B-mode images. \n",
    "\n",
    "The CNNfeatures are extracted using the pretrained Inception-Resnet-v2 implemented in Keras.\n",
    "See reference: https://jkjung-avt.github.io/keras-inceptionresnetv2/\n",
    "\n",
    "![Screen Shot 2020-10-12 at 2 57 22 PM](https://user-images.githubusercontent.com/23482039/95781182-47437700-0c9b-11eb-8826-594811ba3322.png)\n"
   ]
  },
  {
   "cell_type": "code",
   "execution_count": 1,
   "metadata": {
    "colab": {},
    "colab_type": "code",
    "id": "ptO9fUvkD-Lc"
   },
   "outputs": [],
   "source": [
    "import sys\n",
    "import random\n",
    "sys.path.append('../src')\n",
    "\n",
    "import warnings\n",
    "warnings.filterwarnings(\"ignore\") \n",
    "\n",
    "import pickle\n",
    "import pandas as pd\n",
    "\n",
    "import numpy as np\n",
    "import mlflow\n",
    "import matplotlib.pyplot as plt\n",
    "import tensorflow as tf\n",
    "import keras\n",
    "from tqdm import tqdm\n",
    "\n",
    "from utils.compute_metrics import get_metrics, get_majority_vote,log_test_metrics\n",
    "from utils.dataframe_creation import create_dataframe_preproccessing\n",
    "from sklearn.preprocessing import StandardScaler\n",
    "from tensorflow.python.keras.applications.inception_resnet_v2 import InceptionResNetV2, preprocess_input\n",
    "from sklearn.svm import LinearSVC\n",
    "from sklearn.svm import SVC\n",
    "from sklearn.model_selection import GroupKFold\n",
    "from tqdm import tqdm\n",
    "from pprint import pprint\n",
    "from itertools import product\n",
    "from keras.preprocessing.image import ImageDataGenerator\n"
   ]
  },
  {
   "cell_type": "markdown",
   "metadata": {
    "colab_type": "text",
    "id": "XJR7pdinnuHH"
   },
   "source": [
    "## 1. Feature Extraction"
   ]
  },
  {
   "cell_type": "code",
   "execution_count": 9,
   "metadata": {
    "colab_type": "text",
    "id": "731ett2LeCqH"
   },
   "outputs": [
    {
     "name": "stderr",
     "output_type": "stream",
     "text": [
      "/home/mila/g/gauthies/.conda/envs/ultra/lib/python3.7/site-packages/ipykernel/ipkernel.py:287: DeprecationWarning: `should_run_async` will not call `transform_cell` automatically in the future. Please pass the result to `transformed_cell` argument and any exception that happen during thetransform in `preprocessing_exc_tuple` in IPython 7.17 and above.\n",
      "  and should_run_async(code)\n"
     ]
    },
    {
     "data": {
      "text/html": [
       "<div>\n",
       "<style scoped>\n",
       "    .dataframe tbody tr th:only-of-type {\n",
       "        vertical-align: middle;\n",
       "    }\n",
       "\n",
       "    .dataframe tbody tr th {\n",
       "        vertical-align: top;\n",
       "    }\n",
       "\n",
       "    .dataframe thead th {\n",
       "        text-align: right;\n",
       "    }\n",
       "</style>\n",
       "<table border=\"1\" class=\"dataframe\">\n",
       "  <thead>\n",
       "    <tr style=\"text-align: right;\">\n",
       "      <th></th>\n",
       "      <th>id</th>\n",
       "      <th>labels</th>\n",
       "      <th>fat</th>\n",
       "      <th>fname</th>\n",
       "    </tr>\n",
       "  </thead>\n",
       "  <tbody>\n",
       "    <tr>\n",
       "      <th>0</th>\n",
       "      <td>1</td>\n",
       "      <td>0</td>\n",
       "      <td>3</td>\n",
       "      <td>../data/01_raw/raw_images/P1_image1.jpg</td>\n",
       "    </tr>\n",
       "    <tr>\n",
       "      <th>1</th>\n",
       "      <td>1</td>\n",
       "      <td>0</td>\n",
       "      <td>3</td>\n",
       "      <td>../data/01_raw/raw_images/P1_image2.jpg</td>\n",
       "    </tr>\n",
       "    <tr>\n",
       "      <th>2</th>\n",
       "      <td>1</td>\n",
       "      <td>0</td>\n",
       "      <td>3</td>\n",
       "      <td>../data/01_raw/raw_images/P1_image3.jpg</td>\n",
       "    </tr>\n",
       "    <tr>\n",
       "      <th>3</th>\n",
       "      <td>1</td>\n",
       "      <td>0</td>\n",
       "      <td>3</td>\n",
       "      <td>../data/01_raw/raw_images/P1_image4.jpg</td>\n",
       "    </tr>\n",
       "    <tr>\n",
       "      <th>4</th>\n",
       "      <td>1</td>\n",
       "      <td>0</td>\n",
       "      <td>3</td>\n",
       "      <td>../data/01_raw/raw_images/P1_image5.jpg</td>\n",
       "    </tr>\n",
       "  </tbody>\n",
       "</table>\n",
       "</div>"
      ],
      "text/plain": [
       "   id  labels  fat                                    fname\n",
       "0   1       0    3  ../data/01_raw/raw_images/P1_image1.jpg\n",
       "1   1       0    3  ../data/01_raw/raw_images/P1_image2.jpg\n",
       "2   1       0    3  ../data/01_raw/raw_images/P1_image3.jpg\n",
       "3   1       0    3  ../data/01_raw/raw_images/P1_image4.jpg\n",
       "4   1       0    3  ../data/01_raw/raw_images/P1_image5.jpg"
      ]
     },
     "execution_count": 9,
     "metadata": {},
     "output_type": "execute_result"
    }
   ],
   "source": [
    "M, N= 434, 636 # ultrasound image dimension\n",
    "#In the paper, the authors extract the features directly from the pretrained inception resnet_v2\n",
    "# pooling: Optional pooling mode for feature extraction when include_top is False.\n",
    "#'max' means that global max pooling will be applied.\n",
    "net = InceptionResNetV2(include_top=False,\n",
    "                        weights='imagenet',\n",
    "                        input_tensor=None,\n",
    "                        input_shape=(M,N,3),\n",
    "                        pooling= 'avg')\n",
    "dataset = create_dataframe_preproccessing()\n",
    "dataset.head()"
   ]
  },
  {
   "cell_type": "code",
   "execution_count": 10,
   "metadata": {},
   "outputs": [
    {
     "name": "stdout",
     "output_type": "stream",
     "text": [
      "Found 550 validated image filenames belonging to 2 classes.\n"
     ]
    },
    {
     "name": "stderr",
     "output_type": "stream",
     "text": [
      "/home/mila/g/gauthies/.conda/envs/ultra/lib/python3.7/site-packages/ipykernel/ipkernel.py:287: DeprecationWarning: `should_run_async` will not call `transform_cell` automatically in the future. Please pass the result to `transformed_cell` argument and any exception that happen during thetransform in `preprocessing_exc_tuple` in IPython 7.17 and above.\n",
      "  and should_run_async(code)\n"
     ]
    }
   ],
   "source": [
    "dataset = dataset.astype({\"labels\": str})\n",
    "datagen = ImageDataGenerator(rescale=1./255)\n",
    "generator = datagen.flow_from_dataframe(dataset, x_col='fname',y_col='labels',target_size=(M,N),shuffle=False, batch_size =25)"
   ]
  },
  {
   "cell_type": "code",
   "execution_count": 11,
   "metadata": {},
   "outputs": [
    {
     "name": "stderr",
     "output_type": "stream",
     "text": [
      "/home/mila/g/gauthies/.conda/envs/ultra/lib/python3.7/site-packages/ipykernel/ipkernel.py:287: DeprecationWarning: `should_run_async` will not call `transform_cell` automatically in the future. Please pass the result to `transformed_cell` argument and any exception that happen during thetransform in `preprocessing_exc_tuple` in IPython 7.17 and above.\n",
      "  and should_run_async(code)\n",
      " 95%|█████████▌| 21/22 [08:09<00:23, 23.33s/it]\n"
     ]
    }
   ],
   "source": [
    "max_pool_dim = 1536\n",
    "features = np.zeros(shape=(len(dataset), max_pool_dim))\n",
    "batch_size = 25\n",
    "assert len(dataset)%batch_size ==0, '550 should be divisable by batch_SIZE'\n",
    "\n",
    "for i, (inputs_batch, labels_batch) in enumerate(tqdm(generator)):\n",
    "    features[i*batch_size:(i+1)*batch_size] = net(inputs_batch)\n",
    "    if (i+1)*batch_size == 550:\n",
    "        break"
   ]
  },
  {
   "cell_type": "markdown",
   "metadata": {},
   "source": [
    "## 2. Save features"
   ]
  },
  {
   "cell_type": "code",
   "execution_count": 16,
   "metadata": {},
   "outputs": [
    {
     "data": {
      "text/html": [
       "<div>\n",
       "<style scoped>\n",
       "    .dataframe tbody tr th:only-of-type {\n",
       "        vertical-align: middle;\n",
       "    }\n",
       "\n",
       "    .dataframe tbody tr th {\n",
       "        vertical-align: top;\n",
       "    }\n",
       "\n",
       "    .dataframe thead th {\n",
       "        text-align: right;\n",
       "    }\n",
       "</style>\n",
       "<table border=\"1\" class=\"dataframe\">\n",
       "  <thead>\n",
       "    <tr style=\"text-align: right;\">\n",
       "      <th></th>\n",
       "      <th>id</th>\n",
       "      <th>labels</th>\n",
       "      <th>0</th>\n",
       "      <th>1</th>\n",
       "      <th>2</th>\n",
       "      <th>3</th>\n",
       "      <th>4</th>\n",
       "      <th>5</th>\n",
       "      <th>6</th>\n",
       "      <th>7</th>\n",
       "      <th>...</th>\n",
       "      <th>1526</th>\n",
       "      <th>1527</th>\n",
       "      <th>1528</th>\n",
       "      <th>1529</th>\n",
       "      <th>1530</th>\n",
       "      <th>1531</th>\n",
       "      <th>1532</th>\n",
       "      <th>1533</th>\n",
       "      <th>1534</th>\n",
       "      <th>1535</th>\n",
       "    </tr>\n",
       "  </thead>\n",
       "  <tbody>\n",
       "    <tr>\n",
       "      <th>0</th>\n",
       "      <td>1</td>\n",
       "      <td>0</td>\n",
       "      <td>0.134799</td>\n",
       "      <td>0.104123</td>\n",
       "      <td>0.131847</td>\n",
       "      <td>0.034212</td>\n",
       "      <td>0.050750</td>\n",
       "      <td>0.106259</td>\n",
       "      <td>0.184254</td>\n",
       "      <td>0.176089</td>\n",
       "      <td>...</td>\n",
       "      <td>0.005346</td>\n",
       "      <td>0.359540</td>\n",
       "      <td>0.048829</td>\n",
       "      <td>0.134122</td>\n",
       "      <td>0.188153</td>\n",
       "      <td>0.298438</td>\n",
       "      <td>0.014922</td>\n",
       "      <td>0.076330</td>\n",
       "      <td>0.128463</td>\n",
       "      <td>0.296228</td>\n",
       "    </tr>\n",
       "    <tr>\n",
       "      <th>1</th>\n",
       "      <td>1</td>\n",
       "      <td>0</td>\n",
       "      <td>0.159228</td>\n",
       "      <td>0.118112</td>\n",
       "      <td>0.171535</td>\n",
       "      <td>0.030628</td>\n",
       "      <td>0.053298</td>\n",
       "      <td>0.121621</td>\n",
       "      <td>0.166092</td>\n",
       "      <td>0.165505</td>\n",
       "      <td>...</td>\n",
       "      <td>0.011214</td>\n",
       "      <td>0.366371</td>\n",
       "      <td>0.056794</td>\n",
       "      <td>0.139955</td>\n",
       "      <td>0.168063</td>\n",
       "      <td>0.249294</td>\n",
       "      <td>0.017226</td>\n",
       "      <td>0.062107</td>\n",
       "      <td>0.132524</td>\n",
       "      <td>0.295283</td>\n",
       "    </tr>\n",
       "    <tr>\n",
       "      <th>2</th>\n",
       "      <td>1</td>\n",
       "      <td>0</td>\n",
       "      <td>0.165422</td>\n",
       "      <td>0.175866</td>\n",
       "      <td>0.194926</td>\n",
       "      <td>0.034859</td>\n",
       "      <td>0.043648</td>\n",
       "      <td>0.111044</td>\n",
       "      <td>0.181148</td>\n",
       "      <td>0.240423</td>\n",
       "      <td>...</td>\n",
       "      <td>0.014288</td>\n",
       "      <td>0.416955</td>\n",
       "      <td>0.056556</td>\n",
       "      <td>0.164176</td>\n",
       "      <td>0.212100</td>\n",
       "      <td>0.282104</td>\n",
       "      <td>0.033774</td>\n",
       "      <td>0.072362</td>\n",
       "      <td>0.157818</td>\n",
       "      <td>0.323458</td>\n",
       "    </tr>\n",
       "    <tr>\n",
       "      <th>3</th>\n",
       "      <td>1</td>\n",
       "      <td>0</td>\n",
       "      <td>0.176759</td>\n",
       "      <td>0.129491</td>\n",
       "      <td>0.192133</td>\n",
       "      <td>0.034296</td>\n",
       "      <td>0.052507</td>\n",
       "      <td>0.104914</td>\n",
       "      <td>0.152995</td>\n",
       "      <td>0.202268</td>\n",
       "      <td>...</td>\n",
       "      <td>0.010054</td>\n",
       "      <td>0.395699</td>\n",
       "      <td>0.057912</td>\n",
       "      <td>0.149781</td>\n",
       "      <td>0.186323</td>\n",
       "      <td>0.258327</td>\n",
       "      <td>0.036691</td>\n",
       "      <td>0.062423</td>\n",
       "      <td>0.117581</td>\n",
       "      <td>0.330662</td>\n",
       "    </tr>\n",
       "    <tr>\n",
       "      <th>4</th>\n",
       "      <td>1</td>\n",
       "      <td>0</td>\n",
       "      <td>0.129541</td>\n",
       "      <td>0.141528</td>\n",
       "      <td>0.184828</td>\n",
       "      <td>0.022645</td>\n",
       "      <td>0.036390</td>\n",
       "      <td>0.122965</td>\n",
       "      <td>0.201552</td>\n",
       "      <td>0.165211</td>\n",
       "      <td>...</td>\n",
       "      <td>0.007299</td>\n",
       "      <td>0.375183</td>\n",
       "      <td>0.044524</td>\n",
       "      <td>0.164961</td>\n",
       "      <td>0.222393</td>\n",
       "      <td>0.247482</td>\n",
       "      <td>0.021502</td>\n",
       "      <td>0.063856</td>\n",
       "      <td>0.130040</td>\n",
       "      <td>0.317397</td>\n",
       "    </tr>\n",
       "  </tbody>\n",
       "</table>\n",
       "<p>5 rows × 1538 columns</p>\n",
       "</div>"
      ],
      "text/plain": [
       "   id  labels         0         1         2         3         4         5  \\\n",
       "0   1       0  0.134799  0.104123  0.131847  0.034212  0.050750  0.106259   \n",
       "1   1       0  0.159228  0.118112  0.171535  0.030628  0.053298  0.121621   \n",
       "2   1       0  0.165422  0.175866  0.194926  0.034859  0.043648  0.111044   \n",
       "3   1       0  0.176759  0.129491  0.192133  0.034296  0.052507  0.104914   \n",
       "4   1       0  0.129541  0.141528  0.184828  0.022645  0.036390  0.122965   \n",
       "\n",
       "          6         7  ...      1526      1527      1528      1529      1530  \\\n",
       "0  0.184254  0.176089  ...  0.005346  0.359540  0.048829  0.134122  0.188153   \n",
       "1  0.166092  0.165505  ...  0.011214  0.366371  0.056794  0.139955  0.168063   \n",
       "2  0.181148  0.240423  ...  0.014288  0.416955  0.056556  0.164176  0.212100   \n",
       "3  0.152995  0.202268  ...  0.010054  0.395699  0.057912  0.149781  0.186323   \n",
       "4  0.201552  0.165211  ...  0.007299  0.375183  0.044524  0.164961  0.222393   \n",
       "\n",
       "       1531      1532      1533      1534      1535  \n",
       "0  0.298438  0.014922  0.076330  0.128463  0.296228  \n",
       "1  0.249294  0.017226  0.062107  0.132524  0.295283  \n",
       "2  0.282104  0.033774  0.072362  0.157818  0.323458  \n",
       "3  0.258327  0.036691  0.062423  0.117581  0.330662  \n",
       "4  0.247482  0.021502  0.063856  0.130040  0.317397  \n",
       "\n",
       "[5 rows x 1538 columns]"
      ]
     },
     "execution_count": 16,
     "metadata": {},
     "output_type": "execute_result"
    }
   ],
   "source": [
    "df_features = pd.DataFrame(features)\n",
    "df_features= pd.concat([dataset['id'], dataset['labels'], df_features], axis=1)\n",
    "df_features[[\"labels\"]] = df_features[[\"labels\"]].apply(pd.to_numeric)\n",
    "df_features.head()"
   ]
  },
  {
   "cell_type": "code",
   "execution_count": 17,
   "metadata": {},
   "outputs": [
    {
     "name": "stderr",
     "output_type": "stream",
     "text": [
      "/home/mila/g/gauthies/.conda/envs/ultra/lib/python3.7/site-packages/ipykernel/ipkernel.py:287: DeprecationWarning: `should_run_async` will not call `transform_cell` automatically in the future. Please pass the result to `transformed_cell` argument and any exception that happen during thetransform in `preprocessing_exc_tuple` in IPython 7.17 and above.\n",
      "  and should_run_async(code)\n"
     ]
    }
   ],
   "source": [
    "# Create a dict for the scattering features, and parameters\n",
    "inception_dict_tensor = {\n",
    "                'features':df_features,\n",
    "                'label' : dataset['labels'],\n",
    "                'pid' : dataset['id'],}\n",
    "\n",
    "with open('../data/03_features/inception_dict_tensor_avg_pooling.pickle', 'wb') as handle:\n",
    "    pickle.dump(inception_dict_tensor, handle, protocol=pickle.HIGHEST_PROTOCOL)"
   ]
  },
  {
   "cell_type": "code",
   "execution_count": null,
   "metadata": {},
   "outputs": [],
   "source": []
  }
 ],
 "metadata": {
  "accelerator": "GPU",
  "colab": {
   "collapsed_sections": [],
   "name": "Transfer learning with deep convolutional neural network for liver steatosis assessment in ultrasound images Reproducibility with Scatterin.ipynb",
   "provenance": [],
   "toc_visible": true
  },
  "kernelspec": {
   "display_name": "Python 3 (ultra)",
   "language": "python",
   "name": "ultra"
  },
  "language_info": {
   "codemirror_mode": {
    "name": "ipython",
    "version": 3
   },
   "file_extension": ".py",
   "mimetype": "text/x-python",
   "name": "python",
   "nbconvert_exporter": "python",
   "pygments_lexer": "ipython3",
   "version": "3.7.0"
  }
 },
 "nbformat": 4,
 "nbformat_minor": 4
}
