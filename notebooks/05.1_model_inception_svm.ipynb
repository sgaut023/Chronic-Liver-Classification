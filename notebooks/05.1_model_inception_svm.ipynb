{
 "cells": [
  {
   "cell_type": "markdown",
   "metadata": {
    "colab_type": "text",
    "id": "ENoS3mTtGQts"
   },
   "source": [
    "# Experiment 5.1 - Features extracted using Inception Resnet v2 + SVM \n",
    "\n",
    "Reproduce Results of [Transfer learning with deep convolutional neural network for liver steatosis assessment in ultrasound images](https://pubmed.ncbi.nlm.nih.gov/30094778/). We used a pre-trained CNN to extract features based on B-mode images. \n",
    "\n",
    "The CNNfeatures are extracted using the pretrained Inception-Resnet-v2 implemented in Keras.\n",
    "See reference: https://jkjung-avt.github.io/keras-inceptionresnetv2/\n",
    "\n",
    "![Screen Shot 2020-10-12 at 2 57 22 PM](https://user-images.githubusercontent.com/23482039/95781182-47437700-0c9b-11eb-8826-594811ba3322.png)\n",
    "\n",
    "\n",
    "\n",
    "\n",
    "\n"
   ]
  },
  {
   "cell_type": "code",
   "execution_count": 1,
   "metadata": {
    "colab": {},
    "colab_type": "code",
    "id": "ptO9fUvkD-Lc"
   },
   "outputs": [],
   "source": [
    "import sys\n",
    "import random\n",
    "sys.path.append('../src')\n",
    "import warnings\n",
    "warnings.filterwarnings(\"ignore\") \n",
    "\n",
    "from utils.compute_metrics import get_metrics, get_majority_vote,log_test_metrics\n",
    "from utils.split import train_test_split\n",
    "from sklearn.preprocessing import StandardScaler\n",
    "from sklearn.decomposition import PCA\n",
    "from sklearn.svm import LinearSVC\n",
    "from sklearn.svm import SVC\n",
    "from sklearn.model_selection import GroupKFold\n",
    "from tqdm import tqdm\n",
    "from pprint import pprint\n",
    "\n",
    "from itertools import product\n",
    "import pickle\n",
    "import pandas as pd\n",
    "import numpy as np\n",
    "import mlflow\n",
    "import matplotlib.pyplot as plt\n"
   ]
  },
  {
   "cell_type": "markdown",
   "metadata": {
    "colab_type": "text",
    "id": "XJR7pdinnuHH"
   },
   "source": [
    "## 1. Retrieve Extracted Features"
   ]
  },
  {
   "cell_type": "code",
   "execution_count": 2,
   "metadata": {
    "colab": {},
    "colab_type": "code",
    "id": "oVel2LKmwSb9"
   },
   "outputs": [
    {
     "name": "stderr",
     "output_type": "stream",
     "text": [
      "/home/mila/g/gauthies/.conda/envs/ultra/lib/python3.7/site-packages/ipykernel/ipkernel.py:287: DeprecationWarning: `should_run_async` will not call `transform_cell` automatically in the future. Please pass the result to `transformed_cell` argument and any exception that happen during thetransform in `preprocessing_exc_tuple` in IPython 7.17 and above.\n",
      "  and should_run_async(code)\n"
     ]
    }
   ],
   "source": [
    "with open('../data/03_features/inception_dict_tensor_avg_interpolation_pooling.pickle', 'rb') as handle:\n",
    "    features_dict = pickle.load(handle)\n",
    "    df_features = features_dict ['features']\n",
    "    interpolation = features_dict ['Interpolation']\n"
   ]
  },
  {
   "cell_type": "markdown",
   "metadata": {},
   "source": [
    "# 2. Cross Validation using SVM Classification\n",
    "\n",
    "> Methods that exclude outliers were used to normalize the features. Patient-specific leave-one-out cross-validation (LOOCV) was applied to evaluate the classification. In each case, the test set consisted of10 images from the same patient and the training set contained 540 images from the remaining 54 patients. For each training set, fivefold cross-validation and grid search were applied to indicate the optimal SVM classifier hyperparameters and the best kernel. To address the problem of class imbalance, the SVM hyperparameter C of each class was adjusted inversely proportional to that class frequency in the training set. Label 1 indicated the image containing a fatty liver and label −1 otherwise. \n"
   ]
  },
  {
   "cell_type": "code",
   "execution_count": 2,
   "metadata": {},
   "outputs": [
    {
     "name": "stderr",
     "output_type": "stream",
     "text": [
      "/home/mila/g/gauthies/.conda/envs/ultra/lib/python3.7/site-packages/ipykernel/ipkernel.py:287: DeprecationWarning: `should_run_async` will not call `transform_cell` automatically in the future. Please pass the result to `transformed_cell` argument and any exception that happen during thetransform in `preprocessing_exc_tuple` in IPython 7.17 and above.\n",
      "  and should_run_async(code)\n"
     ]
    }
   ],
   "source": [
    "# Set the parameters by cross-validation\n",
    "param_gamma = [1e-3, 1e-4]\n",
    "param_C = [1, 10, 1000] \n",
    "kernel = ['linear', 'poly', 'rbf', 'sigmoid']\n",
    "params = list(product(kernel,param_gamma, param_C ))"
   ]
  },
  {
   "cell_type": "code",
   "execution_count": 4,
   "metadata": {},
   "outputs": [],
   "source": [
    "def train_valid(param, X_train,X_valid,y_train, y_valid):\n",
    "    #The “balanced” mode uses the values of y to automatically adjust weights inversely\n",
    "    #proportional to class frequencies in the input data as n_samples / (n_classes * np.bincount(y)).\n",
    "    model = SVC(kernel =param[0],  gamma=param[1], C=param[2], class_weight= 'balanced')#,probability = True)\n",
    "    model.fit(X_train, y_train)\n",
    "    predictions = model.predict(X_valid)\n",
    "    acc, auc, specificity, sensitivity = get_metrics(y_valid, predictions)\n",
    "    return acc, auc, specificity, sensitivity , predictions\n"
   ]
  },
  {
   "cell_type": "code",
   "execution_count": 5,
   "metadata": {},
   "outputs": [],
   "source": [
    "def log_val_metrics(params, metrics, test_n_splits, num_components = 5):\n",
    "    mlflow.set_experiment('val_inception_avg_pooling_svm_experiment')\n",
    "    # log mlflow params\n",
    "    for param in params:\n",
    "        with mlflow.start_run():\n",
    "            #log params\n",
    "            mlflow.log_param('pca_n',pca_n_components)\n",
    "            mlflow.log_param('model',f'svm: {param[0]}')\n",
    "            mlflow.log_param('test K fold', test_n_splits)\n",
    "            mlflow.log_param('gamma',param[1])\n",
    "            mlflow.log_param('Num Components', num_components)\n",
    "            mlflow.log_param('C',param[2])\n",
    "            #log metrics\n",
    "            mlflow.log_metric('accuracy',np.array(metrics[str(param)]['acc']).mean())\n",
    "            mlflow.log_metric('AUC',np.array(metrics[str(param)]['auc']).mean())\n",
    "            mlflow.log_metric('specificity',np.array(metrics[str(param)]['specificity']).mean())\n",
    "            mlflow.log_metric('sensitivity',np.array(metrics[str(param)]['sensitivity']).mean())\n",
    "    print(\"Done logging validation params in MLFlow\")"
   ]
  },
  {
   "cell_type": "code",
   "execution_count": 134,
   "metadata": {},
   "outputs": [
    {
     "name": "stderr",
     "output_type": "stream",
     "text": [
      "/home/mila/g/gauthies/.conda/envs/ultra/lib/python3.7/site-packages/ipykernel/ipkernel.py:287: DeprecationWarning: `should_run_async` will not call `transform_cell` automatically in the future. Please pass the result to `transformed_cell` argument and any exception that happen during thetransform in `preprocessing_exc_tuple` in IPython 7.17 and above.\n",
      "  and should_run_async(code)\n"
     ]
    }
   ],
   "source": [
    "df = df_features\n",
    "pca_n_components = 5\n",
    "standardize = True\n",
    "test_metrics={}  \n",
    "#majority vote results\n",
    "test_metrics_mv={}    \n",
    "test_n_splits = 11\n",
    "group_kfold_test = GroupKFold(n_splits=test_n_splits)\n",
    "seed= 11\n",
    "df_pid = df['id']\n",
    "df_y = df['labels']\n",
    "fold_c =1 \n",
    "\n",
    "predictions_prob =[]\n",
    "labels =[]\n",
    "\n",
    "for train_index, test_index in group_kfold_test.split(df, \n",
    "                                                  df_y, \n",
    "                                                  df_pid):\n",
    "    random.seed(seed)\n",
    "    random.shuffle(train_index)\n",
    "    X_train, X_test = df.iloc[train_index], df.iloc[test_index]\n",
    "    y_train, y_test = df_y.iloc[train_index], df_y.iloc[test_index]\n",
    "    \n",
    "    X_test = X_test.drop(columns=['id', 'labels'])\n",
    "    X_train_pid = X_train.pop('id')\n",
    "    X_train = X_train.drop(columns=['labels'])\n",
    "    \n",
    "    # Do cross-validation for hyperparam tuning\n",
    "    group_kfold_val = GroupKFold(n_splits=5)\n",
    "    metrics={}\n",
    "    #X_train_y = df.pop('class')\n",
    "    for subtrain_index, valid_index in group_kfold_val.split(X_train, \n",
    "                                                      y_train, \n",
    "                                                      X_train_pid):\n",
    "                                   \n",
    "        X_subtrain, X_valid = X_train.iloc[subtrain_index], X_train.iloc[valid_index]\n",
    "        y_subtrain, y_valid = y_train.iloc[subtrain_index], y_train.iloc[valid_index]\n",
    "        \n",
    "        #standardize\n",
    "        if standardize:\n",
    "            scaler = StandardScaler()\n",
    "            X_subtrain = scaler.fit_transform(X_subtrain)\n",
    "            X_valid = scaler.transform(X_valid)\n",
    "        \n",
    "        pca = PCA(n_components=pca_n_components,random_state = seed)           \n",
    "        X_subtrain = pca.fit_transform(X_subtrain)\n",
    "        X_valid = pca.transform(X_valid)\n",
    "\n",
    "        for param in tqdm(params):\n",
    "            if str(param) not in metrics.keys() :\n",
    "                metrics[str(param)] ={'acc':[], 'auc':[], 'sensitivity':[], 'specificity':[]}\n",
    "                                   \n",
    "            acc, auc, specificity, sensitivity,_ = train_valid(param, X_subtrain,X_valid,y_subtrain, y_valid)\n",
    "            metrics[str(param)]['auc'].append(auc)\n",
    "            metrics[str(param)]['acc'].append(acc)\n",
    "            metrics[str(param)]['sensitivity'].append(sensitivity)\n",
    "            metrics[str(param)]['specificity'].append(specificity)\n",
    "    #log validation metrics for all combination of params\n",
    "    log_val_metrics(params, metrics, test_n_splits,pca_n_components, standardize)\n",
    "    \n",
    "    #highest accuracy\n",
    "    index_param_max = np.array([np.array(metrics[str(param)]['auc']).mean() for param in params]).argmax()\n",
    "    print('From all the combinations, the highest accuracy was achieved with', params[index_param_max])\n",
    "\n",
    "    #standardize\n",
    "    if standardize:\n",
    "        scaler = StandardScaler()\n",
    "        X_train = scaler.fit_transform(X_train)\n",
    "        X_test = scaler.transform(X_test)\n",
    "    \n",
    "    pca = PCA(n_components=pca_n_components)           \n",
    "    X_train = pca.fit_transform(X_train)\n",
    "    X_test = pca.transform(X_test)\n",
    "\n",
    "        \n",
    "    #acc, auc, specificity, sensitivity, predictions = train_valid(params[index_param_max], X_train, X_test, y_train, y_test)\n",
    "    model = SVC(kernel ='sigmoid',  gamma=0.001, C=1, class_weight= 'balanced',probability = True)\n",
    "    model.fit(X_train, y_train)\n",
    "    predictions_prob = predictions_prob + [probe[1] for probe in  model.predict_proba(X_test)]\n",
    "    labels = labels + list(y_test)\n",
    "\n",
    "    \n",
    "    #compute majority vote metrics\n",
    "    acc_mv, auc_mv, specificity_mv, sensitivity_mv = get_majority_vote(y_test, predictions)\n",
    "    \n",
    "    print('FOLD '+ str(fold_c) + ':  acc ' + str(acc) +  ', auc ' +  str(auc) +  ', specificity '+ str(specificity)\n",
    "          + ', sensitivity ' + str(sensitivity))\n",
    "    print('FOLD '+ str(fold_c) + ':  MV acc ' + str(acc_mv) +  ', MV auc ' +  str(auc_mv) +  ', MV specificity '+ str(specificity_mv)\n",
    "          + ', MV sensitivity ' + str(sensitivity_mv))\n",
    "    \n",
    "    test_metrics[fold_c]=  {'acc':acc, 'auc':auc, 'sensitivity':sensitivity, 'specificity':specificity, 'param':params[index_param_max]}\n",
    "    test_metrics_mv[fold_c]=  {'acc':acc_mv, 'auc':auc_mv, 'sensitivity':sensitivity_mv, 'specificity':specificity_mv, 'param':params[index_param_max]}\n",
    "    \n",
    "    fold_c +=1 \n",
    "\n",
    "log_test_metrics(test_metrics, test_metrics_mv, test_n_splits, 'AVG Pooling Inception features + SVM', interpolation , seed, pca_n_components, standardize)\n"
   ]
  }
 ],
 "metadata": {
  "accelerator": "GPU",
  "colab": {
   "collapsed_sections": [],
   "name": "Transfer learning with deep convolutional neural network for liver steatosis assessment in ultrasound images Reproducibility with Scatterin.ipynb",
   "provenance": [],
   "toc_visible": true
  },
  "kernelspec": {
   "display_name": "Python [conda env:.conda-ultra] *",
   "language": "python",
   "name": "conda-env-.conda-ultra-py"
  },
  "language_info": {
   "codemirror_mode": {
    "name": "ipython",
    "version": 3
   },
   "file_extension": ".py",
   "mimetype": "text/x-python",
   "name": "python",
   "nbconvert_exporter": "python",
   "pygments_lexer": "ipython3",
   "version": "3.7.0"
  }
 },
 "nbformat": 4,
 "nbformat_minor": 4
}
