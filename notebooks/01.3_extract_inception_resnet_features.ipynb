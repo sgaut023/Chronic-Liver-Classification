{
 "cells": [
  {
   "cell_type": "markdown",
   "metadata": {
    "colab_type": "text",
    "id": "ENoS3mTtGQts"
   },
   "source": [
    "# Experiment 5.0 - Inception Resnet v2 - extract Features\n",
    "\n",
    "Reproduce Results of [Transfer learning with deep convolutional neural network for liver steatosis assessment in ultrasound images](https://pubmed.ncbi.nlm.nih.gov/30094778/). We used a pre-trained CNN to extract features based on B-mode images. \n",
    "\n",
    "The CNNfeatures are extracted using the pretrained Inception-Resnet-v2 implemented in Keras.\n",
    "See reference: https://jkjung-avt.github.io/keras-inceptionresnetv2/\n",
    "\n",
    "![Screen Shot 2020-10-12 at 2 57 22 PM](https://user-images.githubusercontent.com/23482039/95781182-47437700-0c9b-11eb-8826-594811ba3322.png)\n"
   ]
  },
  {
   "cell_type": "code",
   "execution_count": 1,
   "metadata": {
    "colab": {},
    "colab_type": "code",
    "id": "ptO9fUvkD-Lc"
   },
   "outputs": [],
   "source": [
    "import sys\n",
    "import random\n",
    "sys.path.append('../src')\n",
    "\n",
    "import warnings\n",
    "warnings.filterwarnings(\"ignore\") \n",
    "\n",
    "import pickle\n",
    "import pandas as pd\n",
    "\n",
    "import numpy as np\n",
    "import mlflow\n",
    "import matplotlib.pyplot as plt\n",
    "import tensorflow as tf\n",
    "import keras\n",
    "from tqdm import tqdm\n",
    "\n",
    "from utils.compute_metrics import get_metrics, get_majority_vote,log_test_metrics\n",
    "from utils.dataframe_creation import create_dataframe_preproccessing\n",
    "from sklearn.preprocessing import StandardScaler\n",
    "from tensorflow.python.keras.applications.inception_resnet_v2 import InceptionResNetV2, preprocess_input\n",
    "from sklearn.svm import LinearSVC\n",
    "from sklearn.svm import SVC\n",
    "from sklearn.model_selection import GroupKFold\n",
    "from tqdm import tqdm\n",
    "from pprint import pprint\n",
    "from itertools import product\n",
    "from keras.preprocessing.image import ImageDataGenerator\n"
   ]
  },
  {
   "cell_type": "markdown",
   "metadata": {
    "colab_type": "text",
    "id": "XJR7pdinnuHH"
   },
   "source": [
    "## 1. Feature Extraction"
   ]
  },
  {
   "cell_type": "code",
   "execution_count": 2,
   "metadata": {
    "colab_type": "text",
    "id": "731ett2LeCqH"
   },
   "outputs": [
    {
     "name": "stderr",
     "output_type": "stream",
     "text": [
      "/home/mila/g/gauthies/.conda/envs/ultra/lib/python3.7/site-packages/ipykernel/ipkernel.py:287: DeprecationWarning: `should_run_async` will not call `transform_cell` automatically in the future. Please pass the result to `transformed_cell` argument and any exception that happen during thetransform in `preprocessing_exc_tuple` in IPython 7.17 and above.\n",
      "  and should_run_async(code)\n"
     ]
    },
    {
     "data": {
      "text/html": [
       "<div>\n",
       "<style scoped>\n",
       "    .dataframe tbody tr th:only-of-type {\n",
       "        vertical-align: middle;\n",
       "    }\n",
       "\n",
       "    .dataframe tbody tr th {\n",
       "        vertical-align: top;\n",
       "    }\n",
       "\n",
       "    .dataframe thead th {\n",
       "        text-align: right;\n",
       "    }\n",
       "</style>\n",
       "<table border=\"1\" class=\"dataframe\">\n",
       "  <thead>\n",
       "    <tr style=\"text-align: right;\">\n",
       "      <th></th>\n",
       "      <th>id</th>\n",
       "      <th>labels</th>\n",
       "      <th>fat</th>\n",
       "      <th>fname</th>\n",
       "    </tr>\n",
       "  </thead>\n",
       "  <tbody>\n",
       "    <tr>\n",
       "      <th>0</th>\n",
       "      <td>1</td>\n",
       "      <td>0</td>\n",
       "      <td>3</td>\n",
       "      <td>../data/02_interim/raw_images/1/P1_image1.jpg</td>\n",
       "    </tr>\n",
       "    <tr>\n",
       "      <th>1</th>\n",
       "      <td>1</td>\n",
       "      <td>0</td>\n",
       "      <td>3</td>\n",
       "      <td>../data/02_interim/raw_images/1/P1_image2.jpg</td>\n",
       "    </tr>\n",
       "    <tr>\n",
       "      <th>2</th>\n",
       "      <td>1</td>\n",
       "      <td>0</td>\n",
       "      <td>3</td>\n",
       "      <td>../data/02_interim/raw_images/1/P1_image3.jpg</td>\n",
       "    </tr>\n",
       "    <tr>\n",
       "      <th>3</th>\n",
       "      <td>1</td>\n",
       "      <td>0</td>\n",
       "      <td>3</td>\n",
       "      <td>../data/02_interim/raw_images/1/P1_image4.jpg</td>\n",
       "    </tr>\n",
       "    <tr>\n",
       "      <th>4</th>\n",
       "      <td>1</td>\n",
       "      <td>0</td>\n",
       "      <td>3</td>\n",
       "      <td>../data/02_interim/raw_images/1/P1_image5.jpg</td>\n",
       "    </tr>\n",
       "  </tbody>\n",
       "</table>\n",
       "</div>"
      ],
      "text/plain": [
       "   id  labels  fat                                          fname\n",
       "0   1       0    3  ../data/02_interim/raw_images/1/P1_image1.jpg\n",
       "1   1       0    3  ../data/02_interim/raw_images/1/P1_image2.jpg\n",
       "2   1       0    3  ../data/02_interim/raw_images/1/P1_image3.jpg\n",
       "3   1       0    3  ../data/02_interim/raw_images/1/P1_image4.jpg\n",
       "4   1       0    3  ../data/02_interim/raw_images/1/P1_image5.jpg"
      ]
     },
     "execution_count": 2,
     "metadata": {},
     "output_type": "execute_result"
    }
   ],
   "source": [
    "M, N= 434, 636 # ultrasound image dimension\n",
    "#In the paper, the authors extract the features directly from the pretrained inception resnet_v2\n",
    "# pooling: Optional pooling mode for feature extraction when include_top is False.\n",
    "#'max' means that global max pooling will be applied.\n",
    "net = InceptionResNetV2(include_top=False,\n",
    "                        weights='imagenet',\n",
    "                        pooling= 'avg')\n",
    "dataset = create_dataframe_preproccessing()\n",
    "dataset.head()"
   ]
  },
  {
   "cell_type": "code",
   "execution_count": 3,
   "metadata": {},
   "outputs": [
    {
     "name": "stderr",
     "output_type": "stream",
     "text": [
      "/home/mila/g/gauthies/.conda/envs/ultra/lib/python3.7/site-packages/ipykernel/ipkernel.py:287: DeprecationWarning: `should_run_async` will not call `transform_cell` automatically in the future. Please pass the result to `transformed_cell` argument and any exception that happen during thetransform in `preprocessing_exc_tuple` in IPython 7.17 and above.\n",
      "  and should_run_async(code)\n"
     ]
    },
    {
     "name": "stdout",
     "output_type": "stream",
     "text": [
      "Found 550 validated image filenames belonging to 2 classes.\n"
     ]
    }
   ],
   "source": [
    "dataset = dataset.astype({\"labels\": str})\n",
    "datagen = ImageDataGenerator(preprocessing_function= tf.keras.applications.inception_resnet_v2.preprocess_input)\n",
    "#datagen = ImageDataGenerator(rescale=1./255)\n",
    "#datagen = ImageDataGenerator(featurewise_center=True,\n",
    "                                   #featurewise_std_normalization=True)\n",
    "#datagen.mean = np.array([0.485, 0.456, 0.406], dtype=np.float32)\n",
    "#datagen.std = np.array([0.229, 0.224, 0.225], dtype=np.float32)\n",
    "\n",
    "#From paper: Images were resized using the bi-cubic interpolation algorithm to the resolution originally designed for the network.\n",
    "generator = datagen.flow_from_dataframe(dataset, x_col='fname',y_col='labels',shuffle=False, target_size=(299,299), interpolation ='bicubic', batch_size =25)"
   ]
  },
  {
   "cell_type": "code",
   "execution_count": 4,
   "metadata": {},
   "outputs": [
    {
     "name": "stderr",
     "output_type": "stream",
     "text": [
      "/home/mila/g/gauthies/.conda/envs/ultra/lib/python3.7/site-packages/ipykernel/ipkernel.py:287: DeprecationWarning: `should_run_async` will not call `transform_cell` automatically in the future. Please pass the result to `transformed_cell` argument and any exception that happen during thetransform in `preprocessing_exc_tuple` in IPython 7.17 and above.\n",
      "  and should_run_async(code)\n",
      " 95%|█████████▌| 21/22 [01:09<00:03,  3.29s/it]\n"
     ]
    }
   ],
   "source": [
    "max_pool_dim = 1536\n",
    "features = np.zeros(shape=(len(dataset), max_pool_dim))\n",
    "batch_size = 25\n",
    "assert len(dataset)%batch_size ==0, '550 should be divisable by batch_SIZE'\n",
    "\n",
    "for i, (inputs_batch, labels_batch) in enumerate(tqdm(generator)):\n",
    "    features[i*batch_size:(i+1)*batch_size] = net(inputs_batch)\n",
    "    if (i+1)*batch_size == 550:\n",
    "        break"
   ]
  },
  {
   "cell_type": "markdown",
   "metadata": {},
   "source": [
    "## 2. Save features"
   ]
  },
  {
   "cell_type": "code",
   "execution_count": 5,
   "metadata": {},
   "outputs": [
    {
     "data": {
      "text/html": [
       "<div>\n",
       "<style scoped>\n",
       "    .dataframe tbody tr th:only-of-type {\n",
       "        vertical-align: middle;\n",
       "    }\n",
       "\n",
       "    .dataframe tbody tr th {\n",
       "        vertical-align: top;\n",
       "    }\n",
       "\n",
       "    .dataframe thead th {\n",
       "        text-align: right;\n",
       "    }\n",
       "</style>\n",
       "<table border=\"1\" class=\"dataframe\">\n",
       "  <thead>\n",
       "    <tr style=\"text-align: right;\">\n",
       "      <th></th>\n",
       "      <th>id</th>\n",
       "      <th>labels</th>\n",
       "      <th>0</th>\n",
       "      <th>1</th>\n",
       "      <th>2</th>\n",
       "      <th>3</th>\n",
       "      <th>4</th>\n",
       "      <th>5</th>\n",
       "      <th>6</th>\n",
       "      <th>7</th>\n",
       "      <th>...</th>\n",
       "      <th>1526</th>\n",
       "      <th>1527</th>\n",
       "      <th>1528</th>\n",
       "      <th>1529</th>\n",
       "      <th>1530</th>\n",
       "      <th>1531</th>\n",
       "      <th>1532</th>\n",
       "      <th>1533</th>\n",
       "      <th>1534</th>\n",
       "      <th>1535</th>\n",
       "    </tr>\n",
       "  </thead>\n",
       "  <tbody>\n",
       "    <tr>\n",
       "      <th>0</th>\n",
       "      <td>1</td>\n",
       "      <td>0</td>\n",
       "      <td>0.646588</td>\n",
       "      <td>0.537462</td>\n",
       "      <td>0.401942</td>\n",
       "      <td>0.199507</td>\n",
       "      <td>0.202658</td>\n",
       "      <td>0.294940</td>\n",
       "      <td>0.500031</td>\n",
       "      <td>0.821503</td>\n",
       "      <td>...</td>\n",
       "      <td>0.229984</td>\n",
       "      <td>0.633566</td>\n",
       "      <td>0.206114</td>\n",
       "      <td>0.732518</td>\n",
       "      <td>0.654043</td>\n",
       "      <td>0.275888</td>\n",
       "      <td>0.362820</td>\n",
       "      <td>0.107184</td>\n",
       "      <td>0.501511</td>\n",
       "      <td>0.489348</td>\n",
       "    </tr>\n",
       "    <tr>\n",
       "      <th>1</th>\n",
       "      <td>1</td>\n",
       "      <td>0</td>\n",
       "      <td>0.693356</td>\n",
       "      <td>0.374550</td>\n",
       "      <td>0.360310</td>\n",
       "      <td>0.129162</td>\n",
       "      <td>0.239083</td>\n",
       "      <td>0.262955</td>\n",
       "      <td>0.478658</td>\n",
       "      <td>0.791732</td>\n",
       "      <td>...</td>\n",
       "      <td>0.192122</td>\n",
       "      <td>0.485892</td>\n",
       "      <td>0.299204</td>\n",
       "      <td>0.655221</td>\n",
       "      <td>0.580703</td>\n",
       "      <td>0.341523</td>\n",
       "      <td>0.230004</td>\n",
       "      <td>0.092797</td>\n",
       "      <td>0.491484</td>\n",
       "      <td>0.658840</td>\n",
       "    </tr>\n",
       "    <tr>\n",
       "      <th>2</th>\n",
       "      <td>1</td>\n",
       "      <td>0</td>\n",
       "      <td>0.693498</td>\n",
       "      <td>0.392268</td>\n",
       "      <td>0.309536</td>\n",
       "      <td>0.125567</td>\n",
       "      <td>0.170290</td>\n",
       "      <td>0.238435</td>\n",
       "      <td>0.447406</td>\n",
       "      <td>0.975265</td>\n",
       "      <td>...</td>\n",
       "      <td>0.134828</td>\n",
       "      <td>0.366664</td>\n",
       "      <td>0.171025</td>\n",
       "      <td>0.465990</td>\n",
       "      <td>0.529727</td>\n",
       "      <td>0.310153</td>\n",
       "      <td>0.244650</td>\n",
       "      <td>0.107581</td>\n",
       "      <td>0.403802</td>\n",
       "      <td>0.578181</td>\n",
       "    </tr>\n",
       "    <tr>\n",
       "      <th>3</th>\n",
       "      <td>1</td>\n",
       "      <td>0</td>\n",
       "      <td>0.612398</td>\n",
       "      <td>0.441856</td>\n",
       "      <td>0.305321</td>\n",
       "      <td>0.126919</td>\n",
       "      <td>0.219824</td>\n",
       "      <td>0.259561</td>\n",
       "      <td>0.441000</td>\n",
       "      <td>0.850824</td>\n",
       "      <td>...</td>\n",
       "      <td>0.268535</td>\n",
       "      <td>0.460096</td>\n",
       "      <td>0.280195</td>\n",
       "      <td>0.543407</td>\n",
       "      <td>0.608157</td>\n",
       "      <td>0.337704</td>\n",
       "      <td>0.300175</td>\n",
       "      <td>0.188300</td>\n",
       "      <td>0.455578</td>\n",
       "      <td>0.640826</td>\n",
       "    </tr>\n",
       "    <tr>\n",
       "      <th>4</th>\n",
       "      <td>1</td>\n",
       "      <td>0</td>\n",
       "      <td>0.555925</td>\n",
       "      <td>0.398252</td>\n",
       "      <td>0.232699</td>\n",
       "      <td>0.125582</td>\n",
       "      <td>0.220398</td>\n",
       "      <td>0.237641</td>\n",
       "      <td>0.377193</td>\n",
       "      <td>0.840379</td>\n",
       "      <td>...</td>\n",
       "      <td>0.196321</td>\n",
       "      <td>0.381724</td>\n",
       "      <td>0.252318</td>\n",
       "      <td>0.516770</td>\n",
       "      <td>0.624552</td>\n",
       "      <td>0.336688</td>\n",
       "      <td>0.322390</td>\n",
       "      <td>0.077366</td>\n",
       "      <td>0.416018</td>\n",
       "      <td>0.598994</td>\n",
       "    </tr>\n",
       "  </tbody>\n",
       "</table>\n",
       "<p>5 rows × 1538 columns</p>\n",
       "</div>"
      ],
      "text/plain": [
       "   id  labels         0         1         2         3         4         5  \\\n",
       "0   1       0  0.646588  0.537462  0.401942  0.199507  0.202658  0.294940   \n",
       "1   1       0  0.693356  0.374550  0.360310  0.129162  0.239083  0.262955   \n",
       "2   1       0  0.693498  0.392268  0.309536  0.125567  0.170290  0.238435   \n",
       "3   1       0  0.612398  0.441856  0.305321  0.126919  0.219824  0.259561   \n",
       "4   1       0  0.555925  0.398252  0.232699  0.125582  0.220398  0.237641   \n",
       "\n",
       "          6         7  ...      1526      1527      1528      1529      1530  \\\n",
       "0  0.500031  0.821503  ...  0.229984  0.633566  0.206114  0.732518  0.654043   \n",
       "1  0.478658  0.791732  ...  0.192122  0.485892  0.299204  0.655221  0.580703   \n",
       "2  0.447406  0.975265  ...  0.134828  0.366664  0.171025  0.465990  0.529727   \n",
       "3  0.441000  0.850824  ...  0.268535  0.460096  0.280195  0.543407  0.608157   \n",
       "4  0.377193  0.840379  ...  0.196321  0.381724  0.252318  0.516770  0.624552   \n",
       "\n",
       "       1531      1532      1533      1534      1535  \n",
       "0  0.275888  0.362820  0.107184  0.501511  0.489348  \n",
       "1  0.341523  0.230004  0.092797  0.491484  0.658840  \n",
       "2  0.310153  0.244650  0.107581  0.403802  0.578181  \n",
       "3  0.337704  0.300175  0.188300  0.455578  0.640826  \n",
       "4  0.336688  0.322390  0.077366  0.416018  0.598994  \n",
       "\n",
       "[5 rows x 1538 columns]"
      ]
     },
     "execution_count": 5,
     "metadata": {},
     "output_type": "execute_result"
    }
   ],
   "source": [
    "df_features = pd.DataFrame(features)\n",
    "df_features= pd.concat([dataset['id'], dataset['labels'], df_features], axis=1)\n",
    "df_features[[\"labels\"]] = df_features[[\"labels\"]].apply(pd.to_numeric)\n",
    "df_features.head()"
   ]
  },
  {
   "cell_type": "code",
   "execution_count": 6,
   "metadata": {},
   "outputs": [
    {
     "name": "stderr",
     "output_type": "stream",
     "text": [
      "/home/mila/g/gauthies/.conda/envs/ultra/lib/python3.7/site-packages/ipykernel/ipkernel.py:287: DeprecationWarning: `should_run_async` will not call `transform_cell` automatically in the future. Please pass the result to `transformed_cell` argument and any exception that happen during thetransform in `preprocessing_exc_tuple` in IPython 7.17 and above.\n",
      "  and should_run_async(code)\n"
     ]
    }
   ],
   "source": [
    "# Create a dict for the scattering features, and parameters\n",
    "inception_dict_tensor = {\n",
    "                'features':df_features,\n",
    "                'label' : dataset['labels'],\n",
    "                'pid' : dataset['id'],\n",
    "                'Interpolation': 'bicubic'}\n",
    "\n",
    "with open('../data/03_features/inception_dict_tensor_avg_interpolation_pooling.pickle', 'wb') as handle:\n",
    "    pickle.dump(inception_dict_tensor, handle, protocol=pickle.HIGHEST_PROTOCOL)"
   ]
  },
  {
   "cell_type": "code",
   "execution_count": null,
   "metadata": {},
   "outputs": [],
   "source": []
  }
 ],
 "metadata": {
  "accelerator": "GPU",
  "colab": {
   "collapsed_sections": [],
   "name": "Transfer learning with deep convolutional neural network for liver steatosis assessment in ultrasound images Reproducibility with Scatterin.ipynb",
   "provenance": [],
   "toc_visible": true
  },
  "kernelspec": {
   "display_name": "Python [conda env:.conda-ultra] *",
   "language": "python",
   "name": "conda-env-.conda-ultra-py"
  },
  "language_info": {
   "codemirror_mode": {
    "name": "ipython",
    "version": 3
   },
   "file_extension": ".py",
   "mimetype": "text/x-python",
   "name": "python",
   "nbconvert_exporter": "python",
   "pygments_lexer": "ipython3",
   "version": "3.7.0"
  }
 },
 "nbformat": 4,
 "nbformat_minor": 4
}
