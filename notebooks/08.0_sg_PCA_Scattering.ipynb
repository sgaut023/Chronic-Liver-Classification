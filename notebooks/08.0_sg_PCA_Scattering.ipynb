{
 "cells": [
  {
   "cell_type": "code",
   "execution_count": 1,
   "metadata": {},
   "outputs": [],
   "source": [
    "from scipy.io import loadmat\n",
    "from pprint import pprint\n",
    "from sklearn.preprocessing import StandardScaler\n",
    "from sklearn.decomposition import PCA\n",
    "from sklearn.svm import LinearSVC\n",
    "import torch\n",
    "from tqdm import tqdm\n",
    "import pandas as pd\n",
    "import numpy as np\n",
    "from torch.utils.data import DataLoader, Dataset\n",
    "import matplotlib.pyplot as plt\n",
    "import pickle\n",
    "from mpl_toolkits.mplot3d import Axes3D\n",
    "import copy"
   ]
  },
  {
   "cell_type": "markdown",
   "metadata": {},
   "source": [
    "# Import Dataset"
   ]
  },
  {
   "cell_type": "code",
   "execution_count": 3,
   "metadata": {},
   "outputs": [],
   "source": [
    "with open('../data/02_interim/bmodes_steatosis_assessment_IJCARS.pickle', 'rb') as handle:\n",
    "    df = pickle.load(handle)"
   ]
  },
  {
   "cell_type": "code",
   "execution_count": 4,
   "metadata": {},
   "outputs": [],
   "source": [
    "M, N= 434, 636 # ultrasound image dimension"
   ]
  },
  {
   "cell_type": "code",
   "execution_count": 9,
   "metadata": {},
   "outputs": [],
   "source": [
    "def create_cumul_var_graph(pca, J= None):\n",
    "    ratio = pca.explained_variance_ratio_\n",
    "    cumulative = np.cumsum(ratio)\n",
    "    n_components = np.arange(0, len(cumulative))\n",
    "    plt.plot(n_components, cumulative)\n",
    "    if J is None:\n",
    "        plt.title(\"Cumulative Explained Variance by number of components\")\n",
    "    else:\n",
    "        plt.title(f\"Cumulative Explained Variance by number of components where J ={J}\")\n",
    "    plt.ylabel(\"Cumulative Ratio\")\n",
    "    plt.xlabel(\"Number of components\")\n",
    "    "
   ]
  },
  {
   "cell_type": "markdown",
   "metadata": {},
   "source": [
    "## 1. Visualization of Raw US images (No transformation)"
   ]
  },
  {
   "cell_type": "code",
   "execution_count": 5,
   "metadata": {},
   "outputs": [
    {
     "name": "stderr",
     "output_type": "stream",
     "text": [
      "100%|██████████| 549/549 [01:36<00:00,  5.70it/s]\n"
     ]
    }
   ],
   "source": [
    "# Reshape the data appropriately\n",
    "data = df['img'].iloc[0].view(1,M*N)\n",
    "for i in tqdm(range(1,len(df['img']))):\n",
    "    data = torch.cat([data,df['img'].iloc[i].view(1,M*N)])"
   ]
  },
  {
   "cell_type": "code",
   "execution_count": 8,
   "metadata": {},
   "outputs": [
    {
     "name": "stdout",
     "output_type": "stream",
     "text": [
      "[0.235608   0.30601744 0.34721612 0.37858369 0.40738176 0.43016387\n",
      " 0.45020239 0.46865764 0.48523594 0.50040584 0.51457536 0.52759443\n",
      " 0.53980815 0.55134234 0.56191677 0.57210884 0.58175053 0.59106104\n",
      " 0.60009418 0.60888136 0.61716257 0.62531617 0.63331302 0.64110027\n",
      " 0.64856104 0.65576257 0.66278081 0.66970402 0.67629611 0.68265339\n",
      " 0.68896456 0.69515814 0.70109501 0.70695334 0.71278764 0.71838092\n",
      " 0.7238078  0.72910244 0.73431919 0.73950481 0.74464372 0.74948215\n",
      " 0.75428352 0.75901026 0.76367938 0.76825429 0.77271593 0.77695174\n",
      " 0.78113053 0.78515478 0.78909202 0.79286303 0.79646097 0.79986721\n",
      " 0.80304386 0.80495777 0.80674479 0.80832758 0.80984856 0.81135207\n",
      " 0.81277054 0.81418397 0.81551297 0.81678345 0.81802919 0.81925174\n",
      " 0.82044743 0.82162126 0.82277437 0.82391665 0.82505418 0.82616797\n",
      " 0.82727037 0.82836092 0.8294361  0.8304934  0.83154604 0.83259182\n",
      " 0.83361998 0.83462553 0.83562327 0.83661009 0.83758277 0.83854011\n",
      " 0.83949192 0.84043705 0.84136867 0.84227814 0.84318046 0.84406598\n",
      " 0.84494459 0.84580895 0.84666665 0.84751012 0.84835006 0.84917376\n",
      " 0.84997784 0.85077673 0.85157365 0.85235354]\n"
     ]
    },
    {
     "data": {
      "image/png": "[encoded data removed]",
      "text/plain": [
       "<Figure size 432x288 with 1 Axes>"
      ]
     },
     "metadata": {
      "needs_background": "light"
     },
     "output_type": "display_data"
    }
   ],
   "source": [
    "pca = PCA(n_components=100)\n",
    "pca.fit(data)\n",
    "pca_data = pca.transform(data)\n",
    "create_cumul_var_graph(pca)\n",
    "plt.savefig(\"PCAcumul-base.png\")\n",
    "print(pca.explained_variance_ratio_.cumsum())"
   ]
  },
  {
   "cell_type": "markdown",
   "metadata": {},
   "source": [
    "## 2. GLOBAL PCA - Scattering Transform"
   ]
  },
  {
   "cell_type": "code",
   "execution_count": null,
   "metadata": {},
   "outputs": [],
   "source": [
    "for J in range(2,7):\n",
    "    with open(f'../data/03_features/scattering_features_J_{J}.pickle', 'rb') as handle:\n",
    "        scatter_dict = pickle.load(handle)\n",
    "        df_scattering = scatter_dict['df']\n",
    "        scattering_params = {'J':scatter_dict['J'],\n",
    "                         'M':scatter_dict['M'],\n",
    "                         'N':scatter_dict['N']}\n",
    "    #Transforming df_scattering to a numpy array excluding class and id\n",
    "    df_scattering.drop(\"class\", inplace = True, axis=1)\n",
    "    df_scattering.drop(\"id\", inplace=True, axis=1)\n",
    "    df_scattering = df_scattering.to_numpy()\n",
    "    pca_s = PCA(n_components=100)\n",
    "    pca_data_s = pca_s.fit_transform(df_scattering, J)\n"
   ]
  },
  {
   "cell_type": "markdown",
   "metadata": {},
   "source": [
    "# Local PCA - Scattering Transform"
   ]
  },
  {
   "cell_type": "code",
   "execution_count": null,
   "metadata": {},
   "outputs": [],
   "source": [
    "for J in range(2,7):\n",
    "    with open(f'../data/03_features/scattering_features_J_{J}.pickle', 'rb') as handle:\n",
    "        scatter_dict = pickle.load(handle)\n",
    "        df_scattering = scatter_dict['df']\n",
    "        scattering_params = {'J':scatter_dict['J'],\n",
    "                         'M':scatter_dict['M'],\n",
    "                         'N':scatter_dict['N']}\n",
    "    #Transforming df_scattering to a numpy array excluding class and id\n",
    "    df_scattering.drop(\"class\", inplace = True, axis=1)\n",
    "    df_scattering.drop(\"id\", inplace=True, axis=1)\n",
    "    df_scattering = df_scattering.to_numpy()\n",
    "    pca_s = PCA(n_components=100)\n",
    "    pca_data_s = pca_s.fit_transform(df_scattering, J)\n"
   ]
  }
 ],
 "metadata": {
  "kernelspec": {
   "display_name": "Python 3",
   "language": "python",
   "name": "python3"
  },
  "language_info": {
   "codemirror_mode": {
    "name": "ipython",
    "version": 3
   },
   "file_extension": ".py",
   "mimetype": "text/x-python",
   "name": "python",
   "nbconvert_exporter": "python",
   "pygments_lexer": "ipython3",
   "version": "3.7.0"
  }
 },
 "nbformat": 4,
 "nbformat_minor": 4
}
