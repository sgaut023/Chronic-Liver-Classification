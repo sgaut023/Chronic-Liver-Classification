{
 "cells": [
  {
   "cell_type": "markdown",
   "metadata": {
    "colab_type": "text",
    "id": "ENoS3mTtGQts"
   },
   "source": [
    "# Experiment 02: Scattering + PCA + SVM\n",
    "\n",
    "\n",
    "\n",
    "\n"
   ]
  },
  {
   "cell_type": "code",
   "execution_count": 1,
   "metadata": {
    "colab": {},
    "colab_type": "code",
    "id": "ptO9fUvkD-Lc"
   },
   "outputs": [],
   "source": [
    "import sys\n",
    "import random\n",
    "sys.path.append('../src')\n",
    "import warnings\n",
    "warnings.filterwarnings(\"ignore\") \n",
    "\n",
    "from utils.compute_metrics import get_metrics, get_majority_vote,log_test_metrics\n",
    "from sklearn.preprocessing import StandardScaler\n",
    "from sklearn.decomposition import PCA\n",
    "from sklearn.svm import LinearSVC\n",
    "from sklearn.svm import SVC\n",
    "from sklearn.model_selection import GroupKFold\n",
    "from tqdm import tqdm\n",
    "from pprint import pprint\n",
    "import torch\n",
    "from itertools import product\n",
    "import pickle\n",
    "import pandas as pd\n",
    "import numpy as np\n",
    "import mlflow\n",
    "import matplotlib.pyplot as plt\n"
   ]
  },
  {
   "cell_type": "markdown",
   "metadata": {
    "colab_type": "text",
    "id": "XJR7pdinnuHH"
   },
   "source": [
    "## Feature Reduction/Selection"
   ]
  },
  {
   "cell_type": "markdown",
   "metadata": {
    "colab_type": "text",
    "id": "731ett2LeCqH"
   },
   "source": [
    "#### Upload raw images"
   ]
  },
  {
   "cell_type": "code",
   "execution_count": 2,
   "metadata": {},
   "outputs": [
    {
     "name": "stderr",
     "output_type": "stream",
     "text": [
      "/home/mila/g/gauthies/.conda/envs/ultra/lib/python3.7/site-packages/ipykernel/ipkernel.py:287: DeprecationWarning: `should_run_async` will not call `transform_cell` automatically in the future. Please pass the result to `transformed_cell` argument and any exception that happen during thetransform in `preprocessing_exc_tuple` in IPython 7.17 and above.\n",
      "  and should_run_async(code)\n"
     ]
    }
   ],
   "source": [
    "with open('../data/02_interim/bmodes_steatosis_assessment_IJCARS.pickle', 'rb') as handle:\n",
    "    df = pickle.load(handle)\n",
    "M, N= 434, 636 # ultrasound image dimension"
   ]
  },
  {
   "cell_type": "code",
   "execution_count": 3,
   "metadata": {
    "colab": {},
    "colab_type": "code",
    "id": "oVel2LKmwSb9"
   },
   "outputs": [
    {
     "name": "stderr",
     "output_type": "stream",
     "text": [
      "100%|██████████| 549/549 [01:02<00:00,  8.81it/s]\n"
     ]
    }
   ],
   "source": [
    "# Reshape the data appropriately\n",
    "data = df['img'].iloc[0].view(1,M*N)\n",
    "for i in tqdm(range(1,len(df['img']))):\n",
    "    data = torch.cat([data,df['img'].iloc[i].view(1,M*N)])"
   ]
  },
  {
   "cell_type": "markdown",
   "metadata": {},
   "source": [
    "# Cross Validation using SVM Classification\n",
    "\n",
    "> Methods that exclude outliers were used to normalize the features. Patient-specific leave-one-out cross-validation (LOOCV) was applied to evaluate the classification. In each case, the test set consisted of10 images from the same patient and the training set contained 540 images from the remaining 54 patients. For each training set, fivefold cross-validation and grid search were applied to indicate the optimal SVM classifier hyperparameters and the best kernel. To address the problem of class imbalance, the SVM hyperparameter C of each class was adjusted inversely proportional to that class frequency in the training set. Label 1 indicated the image containing a fatty liver and label −1 otherwise. \n"
   ]
  },
  {
   "cell_type": "code",
   "execution_count": 4,
   "metadata": {},
   "outputs": [],
   "source": [
    "# Set the parameters by cross-validation\n",
    "param_gamma = [1e-3, 1e-4]\n",
    "param_C = [1, 10, 1000] \n",
    "svm_class_weight = [None, 'balanced']\n",
    "rbf_params = list(product(['kernel'],param_gamma, param_C, svm_class_weight ))\n",
    "linear_params = list(product(['linear'],param_C, svm_class_weight))\n",
    "params = rbf_params + linear_params"
   ]
  },
  {
   "cell_type": "code",
   "execution_count": 5,
   "metadata": {},
   "outputs": [],
   "source": [
    "def train_valid(param, X_train,X_valid,y_train, y_valid):\n",
    "    if param[0] == 'kernel': \n",
    "        #The “balanced” mode uses the values of y to automatically adjust weights inversely\n",
    "        #proportional to class frequencies in the input data as n_samples / (n_classes * np.bincount(y)).\n",
    "        model = SVC(gamma=param[1], C=param[2], class_weight= param[3])\n",
    "    if param[0] == 'linear': \n",
    "        #The “balanced” mode uses the values of y to automatically adjust weights inversely\n",
    "        #proportional to class frequencies in the input data as n_samples / (n_classes * np.bincount(y)).\n",
    "        model = LinearSVC(C=param[1], class_weight= param[2])\n",
    "\n",
    "    model.fit(X_train, y_train)\n",
    "    predictions = model.predict(X_valid)\n",
    "    acc, auc, specificity, sensitivity = get_metrics(y_valid, predictions)\n",
    "    return acc, auc, specificity, sensitivity , predictions\n"
   ]
  },
  {
   "cell_type": "code",
   "execution_count": 6,
   "metadata": {},
   "outputs": [],
   "source": [
    "def log_val_metrics(params, metrics, test_n_splits, pca_n_components = 5, standardize=True):\n",
    "    # Important !!!! Put Correct Experiment Name\n",
    "    mlflow.set_experiment('val_scattering_svm_pca_experiment')\n",
    "    # log mlflow params\n",
    "    for param in params:\n",
    "        with mlflow.start_run():\n",
    "            #log params\n",
    "            mlflow.log_param('pca_n',pca_n_components)\n",
    "            mlflow.log_param('model',f'svm: {param[0]}')\n",
    "            mlflow.log_param('test K fold', test_n_splits)\n",
    "            if param[0] == 'kernel':\n",
    "                mlflow.log_param('gamma',param[1])\n",
    "                mlflow.log_param('C',param[2])\n",
    "                mlflow.log_param('class weight svm', param[3])\n",
    "            if param[0] == 'linear': \n",
    "                mlflow.log_param('C',param[1])\n",
    "                mlflow.log_param('class weight svm', param[2])\n",
    "            #log metrics\n",
    "            mlflow.log_metric('accuracy',np.array(metrics[str(param)]['acc']).mean())\n",
    "            mlflow.log_metric('AUC',np.array(metrics[str(param)]['auc']).mean())\n",
    "            mlflow.log_metric('specificity',np.array(metrics[str(param)]['specificity']).mean())\n",
    "            mlflow.log_metric('sensitivity',np.array(metrics[str(param)]['sensitivity']).mean())\n",
    "    print(\"Done logging validation params in MLFlow\")"
   ]
  },
  {
   "cell_type": "code",
   "execution_count": 7,
   "metadata": {},
   "outputs": [
    {
     "name": "stderr",
     "output_type": "stream",
     "text": [
      "100%|██████████| 18/18 [00:00<00:00, 38.65it/s]\n",
      "100%|██████████| 18/18 [00:00<00:00, 96.91it/s] \n",
      "100%|██████████| 18/18 [00:00<00:00, 114.09it/s]\n",
      "100%|██████████| 18/18 [00:00<00:00, 115.47it/s]\n",
      "100%|██████████| 18/18 [00:00<00:00, 112.17it/s]\n"
     ]
    },
    {
     "name": "stdout",
     "output_type": "stream",
     "text": [
      "Done logging validation params in MLFlow\n",
      "From all the combinations, the highest accuracy was achieved with ('kernel', 0.0001, 10, 'balanced')\n",
      "FOLD 1:  acc 1.0, auc 1.0, specificity 1.0, sensitivity 1.0\n",
      "FOLD 1:  MV acc 1.0, MV auc 1.0, MV specificity 1.0, MV sensitivity 1.0\n"
     ]
    },
    {
     "name": "stderr",
     "output_type": "stream",
     "text": [
      "100%|██████████| 18/18 [00:00<00:00, 105.73it/s]\n",
      "100%|██████████| 18/18 [00:00<00:00, 111.06it/s]\n",
      "100%|██████████| 18/18 [00:00<00:00, 107.01it/s]\n",
      "100%|██████████| 18/18 [00:00<00:00, 114.35it/s]\n",
      "100%|██████████| 18/18 [00:00<00:00, 130.42it/s]\n"
     ]
    },
    {
     "name": "stdout",
     "output_type": "stream",
     "text": [
      "Done logging validation params in MLFlow\n",
      "From all the combinations, the highest accuracy was achieved with ('kernel', 0.001, 1000, 'balanced')\n",
      "FOLD 2:  acc 0.6, auc 0.6666666666666667, specificity 0.3333333333333333, sensitivity 1.0\n",
      "FOLD 2:  MV acc 0.6, MV auc 0.6666666666666667, MV specificity 0.3333333333333333, MV sensitivity 1.0\n"
     ]
    },
    {
     "name": "stderr",
     "output_type": "stream",
     "text": [
      "100%|██████████| 18/18 [00:00<00:00, 77.07it/s]\n",
      "100%|██████████| 18/18 [00:00<00:00, 107.02it/s]\n",
      "100%|██████████| 18/18 [00:00<00:00, 109.28it/s]\n",
      "100%|██████████| 18/18 [00:00<00:00, 122.65it/s]\n",
      "100%|██████████| 18/18 [00:00<00:00, 129.92it/s]\n"
     ]
    },
    {
     "name": "stdout",
     "output_type": "stream",
     "text": [
      "Done logging validation params in MLFlow\n",
      "From all the combinations, the highest accuracy was achieved with ('kernel', 0.001, 10, 'balanced')\n",
      "FOLD 3:  acc 0.64, auc 0.7, specificity 1.0, sensitivity 0.4\n",
      "FOLD 3:  MV acc 0.6, MV auc 0.6666666666666666, MV specificity 1.0, MV sensitivity 0.3333333333333333\n"
     ]
    },
    {
     "name": "stderr",
     "output_type": "stream",
     "text": [
      "100%|██████████| 18/18 [00:00<00:00, 67.65it/s]\n",
      "100%|██████████| 18/18 [00:00<00:00, 64.43it/s]\n",
      "100%|██████████| 18/18 [00:00<00:00, 112.19it/s]\n",
      "100%|██████████| 18/18 [00:00<00:00, 105.62it/s]\n",
      "100%|██████████| 18/18 [00:00<00:00, 139.33it/s]\n"
     ]
    },
    {
     "name": "stdout",
     "output_type": "stream",
     "text": [
      "Done logging validation params in MLFlow\n",
      "From all the combinations, the highest accuracy was achieved with ('kernel', 0.001, 10, 'balanced')\n",
      "FOLD 4:  acc 0.8, auc 0.5, specificity 0.0, sensitivity 1.0\n",
      "FOLD 4:  MV acc 0.8, MV auc 0.5, MV specificity 0.0, MV sensitivity 1.0\n"
     ]
    },
    {
     "name": "stderr",
     "output_type": "stream",
     "text": [
      "100%|██████████| 18/18 [00:00<00:00, 104.25it/s]\n",
      "100%|██████████| 18/18 [00:00<00:00, 108.86it/s]\n",
      "100%|██████████| 18/18 [00:00<00:00, 113.50it/s]\n",
      "100%|██████████| 18/18 [00:00<00:00, 124.67it/s]\n",
      "100%|██████████| 18/18 [00:00<00:00, 104.68it/s]\n"
     ]
    },
    {
     "name": "stdout",
     "output_type": "stream",
     "text": [
      "Done logging validation params in MLFlow\n",
      "From all the combinations, the highest accuracy was achieved with ('kernel', 0.001, 10, 'balanced')\n",
      "FOLD 5:  acc 1.0, auc 1.0, specificity 1.0, sensitivity 1.0\n",
      "FOLD 5:  MV acc 1.0, MV auc 1.0, MV specificity 1.0, MV sensitivity 1.0\n"
     ]
    },
    {
     "name": "stderr",
     "output_type": "stream",
     "text": [
      "100%|██████████| 18/18 [00:00<00:00, 73.02it/s]\n",
      "100%|██████████| 18/18 [00:00<00:00, 66.64it/s]\n",
      "100%|██████████| 18/18 [00:00<00:00, 86.87it/s]\n",
      "100%|██████████| 18/18 [00:00<00:00, 113.64it/s]\n",
      "100%|██████████| 18/18 [00:00<00:00, 113.18it/s]\n"
     ]
    },
    {
     "name": "stdout",
     "output_type": "stream",
     "text": [
      "Done logging validation params in MLFlow\n",
      "From all the combinations, the highest accuracy was achieved with ('linear', 1, 'balanced')\n",
      "FOLD 6:  acc 0.8, auc 0.875, specificity 1.0, sensitivity 0.75\n",
      "FOLD 6:  MV acc 0.8, MV auc 0.875, MV specificity 1.0, MV sensitivity 0.75\n"
     ]
    },
    {
     "name": "stderr",
     "output_type": "stream",
     "text": [
      "100%|██████████| 18/18 [00:00<00:00, 60.85it/s]\n",
      "100%|██████████| 18/18 [00:00<00:00, 48.77it/s]\n",
      "100%|██████████| 18/18 [00:00<00:00, 106.09it/s]\n",
      "100%|██████████| 18/18 [00:00<00:00, 123.18it/s]\n",
      "100%|██████████| 18/18 [00:00<00:00, 87.40it/s]\n"
     ]
    },
    {
     "name": "stdout",
     "output_type": "stream",
     "text": [
      "Done logging validation params in MLFlow\n",
      "From all the combinations, the highest accuracy was achieved with ('kernel', 0.001, 10, 'balanced')\n",
      "FOLD 7:  acc 1.0, auc 1.0, specificity 1.0, sensitivity 1.0\n",
      "FOLD 7:  MV acc 1.0, MV auc 1.0, MV specificity 1.0, MV sensitivity 1.0\n"
     ]
    },
    {
     "name": "stderr",
     "output_type": "stream",
     "text": [
      "100%|██████████| 18/18 [00:00<00:00, 101.53it/s]\n",
      "100%|██████████| 18/18 [00:00<00:00, 105.41it/s]\n",
      "100%|██████████| 18/18 [00:00<00:00, 109.11it/s]\n",
      "100%|██████████| 18/18 [00:00<00:00, 128.96it/s]\n",
      "100%|██████████| 18/18 [00:00<00:00, 88.07it/s]\n"
     ]
    },
    {
     "name": "stdout",
     "output_type": "stream",
     "text": [
      "Done logging validation params in MLFlow\n",
      "From all the combinations, the highest accuracy was achieved with ('linear', 1, 'balanced')\n",
      "FOLD 8:  acc 1.0, auc 1.0, specificity 1.0, sensitivity 1.0\n",
      "FOLD 8:  MV acc 1.0, MV auc 1.0, MV specificity 1.0, MV sensitivity 1.0\n"
     ]
    },
    {
     "name": "stderr",
     "output_type": "stream",
     "text": [
      "100%|██████████| 18/18 [00:00<00:00, 113.76it/s]\n",
      "100%|██████████| 18/18 [00:00<00:00, 98.29it/s] \n",
      "100%|██████████| 18/18 [00:00<00:00, 88.06it/s]\n",
      "100%|██████████| 18/18 [00:00<00:00, 101.76it/s]\n",
      "100%|██████████| 18/18 [00:00<00:00, 81.15it/s]\n"
     ]
    },
    {
     "name": "stdout",
     "output_type": "stream",
     "text": [
      "Done logging validation params in MLFlow\n",
      "From all the combinations, the highest accuracy was achieved with ('kernel', 0.001, 1, 'balanced')\n",
      "FOLD 9:  acc 0.6, auc 0.75, specificity 1.0, sensitivity 0.5\n",
      "FOLD 9:  MV acc 0.6, MV auc 0.75, MV specificity 1.0, MV sensitivity 0.5\n"
     ]
    },
    {
     "name": "stderr",
     "output_type": "stream",
     "text": [
      "100%|██████████| 18/18 [00:00<00:00, 133.95it/s]\n",
      "100%|██████████| 18/18 [00:00<00:00, 127.92it/s]\n",
      "100%|██████████| 18/18 [00:00<00:00, 131.84it/s]\n",
      "100%|██████████| 18/18 [00:00<00:00, 136.13it/s]\n",
      "100%|██████████| 18/18 [00:00<00:00, 114.53it/s]\n"
     ]
    },
    {
     "name": "stdout",
     "output_type": "stream",
     "text": [
      "Done logging validation params in MLFlow\n",
      "From all the combinations, the highest accuracy was achieved with ('kernel', 0.001, 10, 'balanced')\n",
      "FOLD 10:  acc 0.4, auc 0.25, specificity 0.0, sensitivity 0.5\n",
      "FOLD 10:  MV acc 0.4, MV auc 0.25, MV specificity 0.0, MV sensitivity 0.5\n"
     ]
    },
    {
     "name": "stderr",
     "output_type": "stream",
     "text": [
      "100%|██████████| 18/18 [00:00<00:00, 85.51it/s]\n",
      "100%|██████████| 18/18 [00:00<00:00, 87.09it/s]\n",
      "100%|██████████| 18/18 [00:00<00:00, 76.15it/s]\n",
      "100%|██████████| 18/18 [00:00<00:00, 114.33it/s]\n",
      "100%|██████████| 18/18 [00:00<00:00, 73.04it/s]\n"
     ]
    },
    {
     "name": "stdout",
     "output_type": "stream",
     "text": [
      "Done logging validation params in MLFlow\n",
      "From all the combinations, the highest accuracy was achieved with ('kernel', 0.001, 10, 'balanced')\n",
      "FOLD 11:  acc 0.8, auc 0.75, specificity 1.0, sensitivity 0.5\n",
      "FOLD 11:  MV acc 0.8, MV auc 0.75, MV specificity 1.0, MV sensitivity 0.5\n",
      "0.7854545454545455 0.771969696969697\n",
      "0.7818181818181817 0.7689393939393938\n",
      "Experiment done\n"
     ]
    }
   ],
   "source": [
    "pca_n_components = 5\n",
    "standardize = True\n",
    "test_metrics={}  \n",
    "#majority vote results\n",
    "test_metrics_mv={} \n",
    "test_n_splits = 11\n",
    "group_kfold_test = GroupKFold(n_splits=test_n_splits)\n",
    "seed= 11\n",
    "df_pid = df['id']\n",
    "df_y = df['class']\n",
    "fold_c =1 \n",
    "\n",
    "for train_index, test_index in group_kfold_test.split(df, \n",
    "                                                  df_y, \n",
    "                                                  df_pid):\n",
    "    random.seed(seed)\n",
    "    random.shuffle(train_index)\n",
    "    X_train, X_test = data[train_index], data[test_index]\n",
    "    X_train_pid = df['id'].iloc[train_index]\n",
    "    y_train, y_test = df_y.iloc[train_index], df_y.iloc[test_index]\n",
    "    \n",
    "    # Do cross-validation for hyperparam tuning\n",
    "    group_kfold_val = GroupKFold(n_splits=5)\n",
    "    metrics={}\n",
    "    #X_train_y = df.pop('class')\n",
    "    for subtrain_index, valid_index in group_kfold_val.split(X_train, \n",
    "                                                      y_train, \n",
    "                                                      X_train_pid):\n",
    "                                   \n",
    "        X_subtrain, X_valid = X_train[subtrain_index], X_train[valid_index]\n",
    "        y_subtrain, y_valid = y_train.iloc[subtrain_index], y_train.iloc[valid_index]\n",
    "\n",
    "\n",
    "        pca = PCA(n_components=pca_n_components,random_state = seed)           \n",
    "        X_subtrain = pca.fit_transform(X_subtrain)\n",
    "        X_valid = pca.transform(X_valid)\n",
    "        \n",
    "                #standardize\n",
    "        if standardize:\n",
    "            scaler = StandardScaler()\n",
    "            X_subtrain = scaler.fit_transform(X_subtrain)\n",
    "            X_valid = scaler.transform(X_valid)\n",
    "        \n",
    "        \n",
    "\n",
    "        for param in tqdm(params):\n",
    "            if str(param) not in metrics.keys() :\n",
    "                metrics[str(param)] ={'acc':[], 'auc':[], 'sensitivity':[], 'specificity':[]}\n",
    "                                   \n",
    "            acc, auc, specificity, sensitivity,_ = train_valid(param, X_subtrain,X_valid,y_subtrain, y_valid)\n",
    "            metrics[str(param)]['auc'].append(auc)\n",
    "            metrics[str(param)]['acc'].append(acc)\n",
    "            metrics[str(param)]['sensitivity'].append(sensitivity)\n",
    "            metrics[str(param)]['specificity'].append(specificity)\n",
    "    #log validation metrics for all combination of params\n",
    "    log_val_metrics(params, metrics, test_n_splits, pca_n_components, standardize)\n",
    "    \n",
    "    #highest accuracy\n",
    "    index_param_max = np.array([np.array(metrics[str(param)]['auc']).mean() for param in params]).argmax()\n",
    "    print('From all the combinations, the highest accuracy was achieved with', params[index_param_max])\n",
    "    #train and test with max param\n",
    "\n",
    "    \n",
    "    pca = PCA(n_components=pca_n_components)           \n",
    "    X_train = pca.fit_transform(X_train)\n",
    "    X_test = pca.transform(X_test)\n",
    "    \n",
    "        #standardize\n",
    "    if standardize:\n",
    "        scaler = StandardScaler()\n",
    "        X_train = scaler.fit_transform(X_train)\n",
    "        X_test = scaler.transform(X_test)\n",
    "\n",
    "    acc, auc, specificity, sensitivity, predictions = train_valid(params[index_param_max], X_train, X_test, y_train, y_test)\n",
    "    \n",
    "    #compute majority vote metrics\n",
    "    acc_mv, auc_mv, specificity_mv, sensitivity_mv = get_majority_vote(y_test, predictions)\n",
    "    \n",
    "    print('FOLD '+ str(fold_c) + ':  acc ' + str(acc) +  ', auc ' +  str(auc) +  ', specificity '+ str(specificity)\n",
    "          + ', sensitivity ' + str(sensitivity))\n",
    "    print('FOLD '+ str(fold_c) + ':  MV acc ' + str(acc_mv) +  ', MV auc ' +  str(auc_mv) +  ', MV specificity '+ str(specificity_mv)\n",
    "          + ', MV sensitivity ' + str(sensitivity_mv))\n",
    "    \n",
    "    test_metrics[fold_c]=  {'acc':acc, 'auc':auc, 'sensitivity':sensitivity, 'specificity':specificity, 'param':params[index_param_max]}\n",
    "    test_metrics_mv[fold_c]=  {'acc':acc_mv, 'auc':auc_mv, 'sensitivity':sensitivity_mv, 'specificity':specificity_mv, 'param':params[index_param_max]}\n",
    "    \n",
    "    fold_c +=1 \n",
    "\n",
    "log_test_metrics(test_metrics, test_metrics_mv, test_n_splits, 'Raw US images + PCA + SVM',None, seed, pca_n_components)\n"
   ]
  },
  {
   "cell_type": "code",
   "execution_count": 8,
   "metadata": {},
   "outputs": [
    {
     "name": "stderr",
     "output_type": "stream",
     "text": [
      "/home/mila/g/gauthies/.conda/envs/ultra/lib/python3.7/site-packages/ipykernel/ipkernel.py:287: DeprecationWarning: `should_run_async` will not call `transform_cell` automatically in the future. Please pass the result to `transformed_cell` argument and any exception that happen during thetransform in `preprocessing_exc_tuple` in IPython 7.17 and above.\n",
      "  and should_run_async(code)\n",
      "100%|██████████| 18/18 [00:00<00:00, 69.28it/s]\n",
      "100%|██████████| 18/18 [00:00<00:00, 104.36it/s]\n",
      "100%|██████████| 18/18 [00:00<00:00, 123.01it/s]\n",
      "100%|██████████| 18/18 [00:00<00:00, 117.65it/s]\n",
      "100%|██████████| 18/18 [00:00<00:00, 113.31it/s]\n"
     ]
    },
    {
     "name": "stdout",
     "output_type": "stream",
     "text": [
      "Done logging validation params in MLFlow\n",
      "From all the combinations, the highest accuracy was achieved with ('kernel', 0.001, 10, 'balanced')\n",
      "FOLD 1:  acc 0.96, auc 0.9666666666666667, specificity 1.0, sensitivity 0.9333333333333333\n",
      "FOLD 1:  MV acc 1.0, MV auc 1.0, MV specificity 1.0, MV sensitivity 1.0\n"
     ]
    },
    {
     "name": "stderr",
     "output_type": "stream",
     "text": [
      "100%|██████████| 18/18 [00:00<00:00, 69.17it/s]\n",
      "100%|██████████| 18/18 [00:00<00:00, 114.18it/s]\n",
      "100%|██████████| 18/18 [00:00<00:00, 97.16it/s]\n",
      "100%|██████████| 18/18 [00:00<00:00, 119.20it/s]\n",
      "100%|██████████| 18/18 [00:00<00:00, 125.40it/s]\n"
     ]
    },
    {
     "name": "stdout",
     "output_type": "stream",
     "text": [
      "Done logging validation params in MLFlow\n",
      "From all the combinations, the highest accuracy was achieved with ('kernel', 0.001, 10, 'balanced')\n",
      "FOLD 2:  acc 0.84, auc 0.8666666666666667, specificity 0.7333333333333333, sensitivity 1.0\n",
      "FOLD 2:  MV acc 0.8, MV auc 0.8333333333333334, MV specificity 0.6666666666666666, MV sensitivity 1.0\n"
     ]
    },
    {
     "name": "stderr",
     "output_type": "stream",
     "text": [
      "100%|██████████| 18/18 [00:00<00:00, 64.46it/s]\n",
      "100%|██████████| 18/18 [00:00<00:00, 49.62it/s]\n",
      "100%|██████████| 18/18 [00:00<00:00, 89.36it/s]\n",
      "100%|██████████| 18/18 [00:00<00:00, 86.69it/s]\n",
      "100%|██████████| 18/18 [00:00<00:00, 98.70it/s]\n"
     ]
    },
    {
     "name": "stdout",
     "output_type": "stream",
     "text": [
      "Done logging validation params in MLFlow\n",
      "From all the combinations, the highest accuracy was achieved with ('kernel', 0.001, 10, 'balanced')\n",
      "FOLD 3:  acc 0.66, auc 0.7166666666666667, specificity 1.0, sensitivity 0.43333333333333335\n",
      "FOLD 3:  MV acc 0.6, MV auc 0.6666666666666666, MV specificity 1.0, MV sensitivity 0.3333333333333333\n"
     ]
    },
    {
     "name": "stderr",
     "output_type": "stream",
     "text": [
      "100%|██████████| 18/18 [00:00<00:00, 114.04it/s]\n",
      "100%|██████████| 18/18 [00:00<00:00, 106.24it/s]\n",
      "100%|██████████| 18/18 [00:00<00:00, 98.89it/s]\n",
      "100%|██████████| 18/18 [00:00<00:00, 115.77it/s]\n",
      "100%|██████████| 18/18 [00:00<00:00, 105.48it/s]\n"
     ]
    },
    {
     "name": "stdout",
     "output_type": "stream",
     "text": [
      "Done logging validation params in MLFlow\n",
      "From all the combinations, the highest accuracy was achieved with ('kernel', 0.0001, 1000, 'balanced')\n",
      "FOLD 4:  acc 0.8, auc 0.5, specificity 0.0, sensitivity 1.0\n",
      "FOLD 4:  MV acc 0.8, MV auc 0.5, MV specificity 0.0, MV sensitivity 1.0\n"
     ]
    },
    {
     "name": "stderr",
     "output_type": "stream",
     "text": [
      "100%|██████████| 18/18 [00:00<00:00, 67.66it/s]\n",
      "100%|██████████| 18/18 [00:00<00:00, 64.93it/s]\n",
      "100%|██████████| 18/18 [00:00<00:00, 84.39it/s]\n",
      "100%|██████████| 18/18 [00:00<00:00, 140.16it/s]\n",
      "100%|██████████| 18/18 [00:00<00:00, 96.04it/s]\n"
     ]
    },
    {
     "name": "stdout",
     "output_type": "stream",
     "text": [
      "Done logging validation params in MLFlow\n",
      "From all the combinations, the highest accuracy was achieved with ('kernel', 0.001, 10, 'balanced')\n",
      "FOLD 5:  acc 1.0, auc 1.0, specificity 1.0, sensitivity 1.0\n",
      "FOLD 5:  MV acc 1.0, MV auc 1.0, MV specificity 1.0, MV sensitivity 1.0\n"
     ]
    },
    {
     "name": "stderr",
     "output_type": "stream",
     "text": [
      "100%|██████████| 18/18 [00:00<00:00, 103.78it/s]\n",
      "100%|██████████| 18/18 [00:00<00:00, 112.09it/s]\n",
      "100%|██████████| 18/18 [00:00<00:00, 117.89it/s]\n",
      "100%|██████████| 18/18 [00:00<00:00, 139.82it/s]\n",
      "100%|██████████| 18/18 [00:00<00:00, 99.66it/s] \n"
     ]
    },
    {
     "name": "stdout",
     "output_type": "stream",
     "text": [
      "Done logging validation params in MLFlow\n",
      "From all the combinations, the highest accuracy was achieved with ('kernel', 0.001, 10, 'balanced')\n",
      "FOLD 6:  acc 0.8, auc 0.875, specificity 1.0, sensitivity 0.75\n",
      "FOLD 6:  MV acc 0.8, MV auc 0.875, MV specificity 1.0, MV sensitivity 0.75\n"
     ]
    },
    {
     "name": "stderr",
     "output_type": "stream",
     "text": [
      "100%|██████████| 18/18 [00:00<00:00, 72.03it/s]\n",
      "100%|██████████| 18/18 [00:00<00:00, 94.97it/s]\n",
      "100%|██████████| 18/18 [00:00<00:00, 116.24it/s]\n",
      "100%|██████████| 18/18 [00:00<00:00, 146.72it/s]\n",
      "100%|██████████| 18/18 [00:00<00:00, 46.24it/s]\n"
     ]
    },
    {
     "name": "stdout",
     "output_type": "stream",
     "text": [
      "Done logging validation params in MLFlow\n",
      "From all the combinations, the highest accuracy was achieved with ('linear', 1, 'balanced')\n",
      "FOLD 7:  acc 0.78, auc 0.8625, specificity 1.0, sensitivity 0.725\n",
      "FOLD 7:  MV acc 0.8, MV auc 0.875, MV specificity 1.0, MV sensitivity 0.75\n"
     ]
    },
    {
     "name": "stderr",
     "output_type": "stream",
     "text": [
      "100%|██████████| 18/18 [00:00<00:00, 102.56it/s]\n",
      "100%|██████████| 18/18 [00:00<00:00, 103.79it/s]\n",
      "100%|██████████| 18/18 [00:00<00:00, 130.08it/s]\n",
      "100%|██████████| 18/18 [00:00<00:00, 131.35it/s]\n",
      "100%|██████████| 18/18 [00:00<00:00, 99.49it/s] \n"
     ]
    },
    {
     "name": "stdout",
     "output_type": "stream",
     "text": [
      "Done logging validation params in MLFlow\n",
      "From all the combinations, the highest accuracy was achieved with ('kernel', 0.001, 10, 'balanced')\n",
      "FOLD 8:  acc 1.0, auc 1.0, specificity 1.0, sensitivity 1.0\n",
      "FOLD 8:  MV acc 1.0, MV auc 1.0, MV specificity 1.0, MV sensitivity 1.0\n"
     ]
    },
    {
     "name": "stderr",
     "output_type": "stream",
     "text": [
      "100%|██████████| 18/18 [00:00<00:00, 113.08it/s]\n",
      "100%|██████████| 18/18 [00:00<00:00, 59.21it/s]\n",
      "100%|██████████| 18/18 [00:00<00:00, 50.19it/s]\n",
      "100%|██████████| 18/18 [00:00<00:00, 129.64it/s]\n",
      "100%|██████████| 18/18 [00:00<00:00, 110.85it/s]\n"
     ]
    },
    {
     "name": "stdout",
     "output_type": "stream",
     "text": [
      "Done logging validation params in MLFlow\n",
      "From all the combinations, the highest accuracy was achieved with ('kernel', 0.0001, 1000, None)\n",
      "FOLD 9:  acc 0.8, auc 0.5, specificity 0.0, sensitivity 1.0\n",
      "FOLD 9:  MV acc 0.8, MV auc 0.5, MV specificity 0.0, MV sensitivity 1.0\n"
     ]
    },
    {
     "name": "stderr",
     "output_type": "stream",
     "text": [
      "100%|██████████| 18/18 [00:00<00:00, 136.61it/s]\n",
      "100%|██████████| 18/18 [00:00<00:00, 123.86it/s]\n",
      "100%|██████████| 18/18 [00:00<00:00, 118.42it/s]\n",
      "100%|██████████| 18/18 [00:00<00:00, 73.98it/s]\n",
      "100%|██████████| 18/18 [00:00<00:00, 125.69it/s]\n"
     ]
    },
    {
     "name": "stdout",
     "output_type": "stream",
     "text": [
      "Done logging validation params in MLFlow\n",
      "From all the combinations, the highest accuracy was achieved with ('kernel', 0.001, 1, 'balanced')\n",
      "FOLD 10:  acc 0.4, auc 0.25, specificity 0.0, sensitivity 0.5\n",
      "FOLD 10:  MV acc 0.4, MV auc 0.25, MV specificity 0.0, MV sensitivity 0.5\n"
     ]
    },
    {
     "name": "stderr",
     "output_type": "stream",
     "text": [
      "100%|██████████| 18/18 [00:00<00:00, 112.72it/s]\n",
      "100%|██████████| 18/18 [00:00<00:00, 120.85it/s]\n",
      "100%|██████████| 18/18 [00:00<00:00, 98.33it/s]\n",
      "100%|██████████| 18/18 [00:00<00:00, 36.07it/s]\n",
      "100%|██████████| 18/18 [00:00<00:00, 58.19it/s]\n"
     ]
    },
    {
     "name": "stdout",
     "output_type": "stream",
     "text": [
      "Done logging validation params in MLFlow\n",
      "From all the combinations, the highest accuracy was achieved with ('kernel', 0.001, 1, 'balanced')\n",
      "FOLD 11:  acc 0.96, auc 0.95, specificity 1.0, sensitivity 0.9\n",
      "FOLD 11:  MV acc 1.0, MV auc 1.0, MV specificity 1.0, MV sensitivity 1.0\n",
      "0.8181818181818182 0.771590909090909\n",
      "0.8181818181818182 0.7727272727272727\n",
      "Experiment done\n"
     ]
    }
   ],
   "source": [
    "pca_n_components = 8\n",
    "standardize = True\n",
    "test_metrics={}  \n",
    "#majority vote results\n",
    "test_metrics_mv={} \n",
    "test_n_splits = 11\n",
    "group_kfold_test = GroupKFold(n_splits=test_n_splits)\n",
    "seed= 11\n",
    "df_pid = df['id']\n",
    "df_y = df['class']\n",
    "fold_c =1 \n",
    "\n",
    "for train_index, test_index in group_kfold_test.split(df, \n",
    "                                                  df_y, \n",
    "                                                  df_pid):\n",
    "    random.seed(seed)\n",
    "    random.shuffle(train_index)\n",
    "    X_train, X_test = data[train_index], data[test_index]\n",
    "    X_train_pid = df['id'].iloc[train_index]\n",
    "    y_train, y_test = df_y.iloc[train_index], df_y.iloc[test_index]\n",
    "    \n",
    "    # Do cross-validation for hyperparam tuning\n",
    "    group_kfold_val = GroupKFold(n_splits=5)\n",
    "    metrics={}\n",
    "    #X_train_y = df.pop('class')\n",
    "    for subtrain_index, valid_index in group_kfold_val.split(X_train, \n",
    "                                                      y_train, \n",
    "                                                      X_train_pid):\n",
    "                                   \n",
    "        X_subtrain, X_valid = X_train[subtrain_index], X_train[valid_index]\n",
    "        y_subtrain, y_valid = y_train.iloc[subtrain_index], y_train.iloc[valid_index]\n",
    "\n",
    "\n",
    "        pca = PCA(n_components=pca_n_components,random_state = seed)           \n",
    "        X_subtrain = pca.fit_transform(X_subtrain)\n",
    "        X_valid = pca.transform(X_valid)\n",
    "        \n",
    "                #standardize\n",
    "        if standardize:\n",
    "            scaler = StandardScaler()\n",
    "            X_subtrain = scaler.fit_transform(X_subtrain)\n",
    "            X_valid = scaler.transform(X_valid)\n",
    "        \n",
    "        \n",
    "\n",
    "        for param in tqdm(params):\n",
    "            if str(param) not in metrics.keys() :\n",
    "                metrics[str(param)] ={'acc':[], 'auc':[], 'sensitivity':[], 'specificity':[]}\n",
    "                                   \n",
    "            acc, auc, specificity, sensitivity,_ = train_valid(param, X_subtrain,X_valid,y_subtrain, y_valid)\n",
    "            metrics[str(param)]['auc'].append(auc)\n",
    "            metrics[str(param)]['acc'].append(acc)\n",
    "            metrics[str(param)]['sensitivity'].append(sensitivity)\n",
    "            metrics[str(param)]['specificity'].append(specificity)\n",
    "    #log validation metrics for all combination of params\n",
    "    log_val_metrics(params, metrics, test_n_splits, pca_n_components, standardize)\n",
    "    \n",
    "    #highest accuracy\n",
    "    index_param_max = np.array([np.array(metrics[str(param)]['auc']).mean() for param in params]).argmax()\n",
    "    print('From all the combinations, the highest accuracy was achieved with', params[index_param_max])\n",
    "    #train and test with max param\n",
    "\n",
    "    \n",
    "    pca = PCA(n_components=pca_n_components)           \n",
    "    X_train = pca.fit_transform(X_train)\n",
    "    X_test = pca.transform(X_test)\n",
    "    \n",
    "        #standardize\n",
    "    if standardize:\n",
    "        scaler = StandardScaler()\n",
    "        X_train = scaler.fit_transform(X_train)\n",
    "        X_test = scaler.transform(X_test)\n",
    "\n",
    "    acc, auc, specificity, sensitivity, predictions = train_valid(params[index_param_max], X_train, X_test, y_train, y_test)\n",
    "    \n",
    "    #compute majority vote metrics\n",
    "    acc_mv, auc_mv, specificity_mv, sensitivity_mv = get_majority_vote(y_test, predictions)\n",
    "    \n",
    "    print('FOLD '+ str(fold_c) + ':  acc ' + str(acc) +  ', auc ' +  str(auc) +  ', specificity '+ str(specificity)\n",
    "          + ', sensitivity ' + str(sensitivity))\n",
    "    print('FOLD '+ str(fold_c) + ':  MV acc ' + str(acc_mv) +  ', MV auc ' +  str(auc_mv) +  ', MV specificity '+ str(specificity_mv)\n",
    "          + ', MV sensitivity ' + str(sensitivity_mv))\n",
    "    \n",
    "    test_metrics[fold_c]=  {'acc':acc, 'auc':auc, 'sensitivity':sensitivity, 'specificity':specificity, 'param':params[index_param_max]}\n",
    "    test_metrics_mv[fold_c]=  {'acc':acc_mv, 'auc':auc_mv, 'sensitivity':sensitivity_mv, 'specificity':specificity_mv, 'param':params[index_param_max]}\n",
    "    \n",
    "    fold_c +=1 \n",
    "\n",
    "log_test_metrics(test_metrics, test_metrics_mv, test_n_splits, 'Raw US images + PCA + SVM',None, seed, pca_n_components)\n"
   ]
  },
  {
   "cell_type": "code",
   "execution_count": 10,
   "metadata": {},
   "outputs": [
    {
     "name": "stderr",
     "output_type": "stream",
     "text": [
      "/home/mila/g/gauthies/.conda/envs/ultra/lib/python3.7/site-packages/ipykernel/ipkernel.py:287: DeprecationWarning: `should_run_async` will not call `transform_cell` automatically in the future. Please pass the result to `transformed_cell` argument and any exception that happen during thetransform in `preprocessing_exc_tuple` in IPython 7.17 and above.\n",
      "  and should_run_async(code)\n",
      "100%|██████████| 18/18 [00:00<00:00, 83.66it/s]\n",
      "100%|██████████| 18/18 [00:00<00:00, 81.23it/s]\n",
      "100%|██████████| 18/18 [00:00<00:00, 85.68it/s]\n",
      "100%|██████████| 18/18 [00:00<00:00, 64.89it/s]\n",
      "100%|██████████| 18/18 [00:00<00:00, 50.73it/s]\n"
     ]
    },
    {
     "name": "stdout",
     "output_type": "stream",
     "text": [
      "Done logging validation params in MLFlow\n",
      "From all the combinations, the highest accuracy was achieved with ('linear', 1, None)\n",
      "FOLD 1:  acc 0.8, auc 0.8333333333333333, specificity 1.0, sensitivity 0.6666666666666666\n",
      "FOLD 1:  MV acc 0.8, MV auc 0.8333333333333333, MV specificity 1.0, MV sensitivity 0.6666666666666666\n"
     ]
    },
    {
     "name": "stderr",
     "output_type": "stream",
     "text": [
      "100%|██████████| 18/18 [00:00<00:00, 85.87it/s]\n",
      "100%|██████████| 18/18 [00:00<00:00, 86.27it/s]\n",
      "100%|██████████| 18/18 [00:00<00:00, 81.50it/s]\n",
      "100%|██████████| 18/18 [00:00<00:00, 83.58it/s]\n",
      "100%|██████████| 18/18 [00:00<00:00, 86.08it/s]\n"
     ]
    },
    {
     "name": "stdout",
     "output_type": "stream",
     "text": [
      "Done logging validation params in MLFlow\n",
      "From all the combinations, the highest accuracy was achieved with ('linear', 1000, 'balanced')\n",
      "FOLD 2:  acc 0.54, auc 0.55, specificity 0.5, sensitivity 0.6\n",
      "FOLD 2:  MV acc 0.6, MV auc 0.5833333333333334, MV specificity 0.6666666666666666, MV sensitivity 0.5\n"
     ]
    },
    {
     "name": "stderr",
     "output_type": "stream",
     "text": [
      "100%|██████████| 18/18 [00:00<00:00, 86.54it/s]\n",
      "100%|██████████| 18/18 [00:00<00:00, 59.87it/s]\n",
      "100%|██████████| 18/18 [00:00<00:00, 57.83it/s]\n",
      "100%|██████████| 18/18 [00:00<00:00, 90.88it/s]\n",
      "100%|██████████| 18/18 [00:00<00:00, 91.18it/s]\n"
     ]
    },
    {
     "name": "stdout",
     "output_type": "stream",
     "text": [
      "Done logging validation params in MLFlow\n",
      "From all the combinations, the highest accuracy was achieved with ('linear', 1000, 'balanced')\n",
      "FOLD 3:  acc 0.6, auc 0.6666666666666666, specificity 1.0, sensitivity 0.3333333333333333\n",
      "FOLD 3:  MV acc 0.6, MV auc 0.6666666666666666, MV specificity 1.0, MV sensitivity 0.3333333333333333\n"
     ]
    },
    {
     "name": "stderr",
     "output_type": "stream",
     "text": [
      "100%|██████████| 18/18 [00:00<00:00, 87.61it/s]\n",
      "100%|██████████| 18/18 [00:00<00:00, 86.17it/s]\n",
      "100%|██████████| 18/18 [00:00<00:00, 83.86it/s]\n",
      "100%|██████████| 18/18 [00:00<00:00, 94.42it/s]\n",
      "100%|██████████| 18/18 [00:00<00:00, 54.93it/s]\n"
     ]
    },
    {
     "name": "stdout",
     "output_type": "stream",
     "text": [
      "Done logging validation params in MLFlow\n",
      "From all the combinations, the highest accuracy was achieved with ('linear', 1, 'balanced')\n",
      "FOLD 4:  acc 0.0, auc 0.0, specificity 0.0, sensitivity 0.0\n",
      "FOLD 4:  MV acc 0.0, MV auc 0.0, MV specificity 0.0, MV sensitivity 0.0\n"
     ]
    },
    {
     "name": "stderr",
     "output_type": "stream",
     "text": [
      "100%|██████████| 18/18 [00:00<00:00, 84.02it/s]\n",
      "100%|██████████| 18/18 [00:00<00:00, 83.04it/s]\n",
      "100%|██████████| 18/18 [00:00<00:00, 86.78it/s]\n",
      "100%|██████████| 18/18 [00:00<00:00, 96.92it/s]\n",
      "100%|██████████| 18/18 [00:00<00:00, 76.86it/s]\n"
     ]
    },
    {
     "name": "stdout",
     "output_type": "stream",
     "text": [
      "Done logging validation params in MLFlow\n",
      "From all the combinations, the highest accuracy was achieved with ('linear', 10, None)\n",
      "FOLD 5:  acc 0.0, auc 0.0, specificity 0.0, sensitivity 0.0\n",
      "FOLD 5:  MV acc 0.0, MV auc 0.0, MV specificity 0.0, MV sensitivity 0.0\n"
     ]
    },
    {
     "name": "stderr",
     "output_type": "stream",
     "text": [
      "100%|██████████| 18/18 [00:00<00:00, 85.66it/s]\n",
      "100%|██████████| 18/18 [00:00<00:00, 85.03it/s]\n",
      "100%|██████████| 18/18 [00:00<00:00, 92.57it/s]\n",
      "100%|██████████| 18/18 [00:00<00:00, 39.47it/s]\n",
      "100%|██████████| 18/18 [00:00<00:00, 59.16it/s]\n"
     ]
    },
    {
     "name": "stdout",
     "output_type": "stream",
     "text": [
      "Done logging validation params in MLFlow\n",
      "From all the combinations, the highest accuracy was achieved with ('linear', 1, 'balanced')\n",
      "FOLD 6:  acc 0.62, auc 0.425, specificity 0.1, sensitivity 0.75\n",
      "FOLD 6:  MV acc 0.6, MV auc 0.375, MV specificity 0.0, MV sensitivity 0.75\n"
     ]
    },
    {
     "name": "stderr",
     "output_type": "stream",
     "text": [
      "100%|██████████| 18/18 [00:00<00:00, 87.77it/s]\n",
      "100%|██████████| 18/18 [00:00<00:00, 81.30it/s]\n",
      "100%|██████████| 18/18 [00:00<00:00, 95.92it/s]\n",
      "100%|██████████| 18/18 [00:00<00:00, 91.50it/s]\n",
      "100%|██████████| 18/18 [00:00<00:00, 85.25it/s]\n"
     ]
    },
    {
     "name": "stdout",
     "output_type": "stream",
     "text": [
      "Done logging validation params in MLFlow\n",
      "From all the combinations, the highest accuracy was achieved with ('linear', 1000, 'balanced')\n",
      "FOLD 7:  acc 0.4, auc 0.625, specificity 1.0, sensitivity 0.25\n",
      "FOLD 7:  MV acc 0.4, MV auc 0.625, MV specificity 1.0, MV sensitivity 0.25\n"
     ]
    },
    {
     "name": "stderr",
     "output_type": "stream",
     "text": [
      "100%|██████████| 18/18 [00:00<00:00, 54.99it/s]\n",
      "100%|██████████| 18/18 [00:00<00:00, 82.93it/s]\n",
      "100%|██████████| 18/18 [00:00<00:00, 89.84it/s]\n",
      "100%|██████████| 18/18 [00:00<00:00, 93.60it/s]\n",
      "100%|██████████| 18/18 [00:00<00:00, 85.60it/s]\n"
     ]
    },
    {
     "name": "stdout",
     "output_type": "stream",
     "text": [
      "Done logging validation params in MLFlow\n",
      "From all the combinations, the highest accuracy was achieved with ('linear', 1000, 'balanced')\n",
      "FOLD 8:  acc 1.0, auc 1.0, specificity 1.0, sensitivity 1.0\n",
      "FOLD 8:  MV acc 1.0, MV auc 1.0, MV specificity 1.0, MV sensitivity 1.0\n"
     ]
    },
    {
     "name": "stderr",
     "output_type": "stream",
     "text": [
      "100%|██████████| 18/18 [00:00<00:00, 80.47it/s]\n",
      "100%|██████████| 18/18 [00:00<00:00, 82.08it/s]\n",
      "100%|██████████| 18/18 [00:00<00:00, 86.82it/s]\n",
      "100%|██████████| 18/18 [00:00<00:00, 42.44it/s]\n",
      "100%|██████████| 18/18 [00:00<00:00, 43.85it/s]\n"
     ]
    },
    {
     "name": "stdout",
     "output_type": "stream",
     "text": [
      "Done logging validation params in MLFlow\n",
      "From all the combinations, the highest accuracy was achieved with ('linear', 1000, None)\n",
      "FOLD 9:  acc 0.44, auc 0.65, specificity 1.0, sensitivity 0.3\n",
      "FOLD 9:  MV acc 0.4, MV auc 0.625, MV specificity 1.0, MV sensitivity 0.25\n"
     ]
    },
    {
     "name": "stderr",
     "output_type": "stream",
     "text": [
      "100%|██████████| 18/18 [00:00<00:00, 100.78it/s]\n",
      "100%|██████████| 18/18 [00:00<00:00, 85.32it/s]\n",
      "100%|██████████| 18/18 [00:00<00:00, 107.29it/s]\n",
      "100%|██████████| 18/18 [00:00<00:00, 96.55it/s]\n",
      "100%|██████████| 18/18 [00:00<00:00, 56.56it/s]\n"
     ]
    },
    {
     "name": "stdout",
     "output_type": "stream",
     "text": [
      "Done logging validation params in MLFlow\n",
      "From all the combinations, the highest accuracy was achieved with ('linear', 1, 'balanced')\n",
      "FOLD 10:  acc 0.6, auc 0.75, specificity 1.0, sensitivity 0.5\n",
      "FOLD 10:  MV acc 0.6, MV auc 0.75, MV specificity 1.0, MV sensitivity 0.5\n"
     ]
    },
    {
     "name": "stderr",
     "output_type": "stream",
     "text": [
      "100%|██████████| 18/18 [00:00<00:00, 82.89it/s]\n",
      "100%|██████████| 18/18 [00:00<00:00, 46.24it/s]\n",
      "100%|██████████| 18/18 [00:00<00:00, 51.34it/s]\n",
      "100%|██████████| 18/18 [00:00<00:00, 84.55it/s]\n",
      "100%|██████████| 18/18 [00:00<00:00, 92.09it/s]\n"
     ]
    },
    {
     "name": "stdout",
     "output_type": "stream",
     "text": [
      "Done logging validation params in MLFlow\n",
      "From all the combinations, the highest accuracy was achieved with ('linear', 1, None)\n",
      "FOLD 11:  acc 0.2, auc 0.16666666666666669, specificity 0.3333333333333333, sensitivity 0.0\n",
      "FOLD 11:  MV acc 0.2, MV auc 0.16666666666666669, MV specificity 0.3333333333333333, MV sensitivity 0.0\n",
      "0.4727272727272727 0.5151515151515151\n",
      "0.4727272727272727 0.5113636363636364\n",
      "Experiment done\n"
     ]
    }
   ],
   "source": [
    "pca_n_components = 5\n",
    "standardize = False\n",
    "test_metrics={}  \n",
    "#majority vote results\n",
    "test_metrics_mv={} \n",
    "test_n_splits = 11\n",
    "group_kfold_test = GroupKFold(n_splits=test_n_splits)\n",
    "seed= 11\n",
    "df_pid = df['id']\n",
    "df_y = df['class']\n",
    "fold_c =1 \n",
    "\n",
    "for train_index, test_index in group_kfold_test.split(df, \n",
    "                                                  df_y, \n",
    "                                                  df_pid):\n",
    "    random.seed(seed)\n",
    "    random.shuffle(train_index)\n",
    "    X_train, X_test = data[train_index], data[test_index]\n",
    "    X_train_pid = df['id'].iloc[train_index]\n",
    "    y_train, y_test = df_y.iloc[train_index], df_y.iloc[test_index]\n",
    "    \n",
    "    # Do cross-validation for hyperparam tuning\n",
    "    group_kfold_val = GroupKFold(n_splits=5)\n",
    "    metrics={}\n",
    "    #X_train_y = df.pop('class')\n",
    "    for subtrain_index, valid_index in group_kfold_val.split(X_train, \n",
    "                                                      y_train, \n",
    "                                                      X_train_pid):\n",
    "                                   \n",
    "        X_subtrain, X_valid = X_train[subtrain_index], X_train[valid_index]\n",
    "        y_subtrain, y_valid = y_train.iloc[subtrain_index], y_train.iloc[valid_index]\n",
    "\n",
    "\n",
    "        pca = PCA(n_components=pca_n_components,random_state = seed)           \n",
    "        X_subtrain = pca.fit_transform(X_subtrain)\n",
    "        X_valid = pca.transform(X_valid)\n",
    "        \n",
    "                #standardize\n",
    "        if standardize:\n",
    "            scaler = StandardScaler()\n",
    "            X_subtrain = scaler.fit_transform(X_subtrain)\n",
    "            X_valid = scaler.transform(X_valid)\n",
    "        \n",
    "        \n",
    "\n",
    "        for param in tqdm(params):\n",
    "            if str(param) not in metrics.keys() :\n",
    "                metrics[str(param)] ={'acc':[], 'auc':[], 'sensitivity':[], 'specificity':[]}\n",
    "                                   \n",
    "            acc, auc, specificity, sensitivity,_ = train_valid(param, X_subtrain,X_valid,y_subtrain, y_valid)\n",
    "            metrics[str(param)]['auc'].append(auc)\n",
    "            metrics[str(param)]['acc'].append(acc)\n",
    "            metrics[str(param)]['sensitivity'].append(sensitivity)\n",
    "            metrics[str(param)]['specificity'].append(specificity)\n",
    "    #log validation metrics for all combination of params\n",
    "    log_val_metrics(params, metrics, test_n_splits, pca_n_components, standardize)\n",
    "    \n",
    "    #highest accuracy\n",
    "    index_param_max = np.array([np.array(metrics[str(param)]['auc']).mean() for param in params]).argmax()\n",
    "    print('From all the combinations, the highest accuracy was achieved with', params[index_param_max])\n",
    "    #train and test with max param\n",
    "\n",
    "    \n",
    "    pca = PCA(n_components=pca_n_components)           \n",
    "    X_train = pca.fit_transform(X_train)\n",
    "    X_test = pca.transform(X_test)\n",
    "    \n",
    "        #standardize\n",
    "    if standardize:\n",
    "        scaler = StandardScaler()\n",
    "        X_train = scaler.fit_transform(X_train)\n",
    "        X_test = scaler.transform(X_test)\n",
    "\n",
    "    acc, auc, specificity, sensitivity, predictions = train_valid(params[index_param_max], X_train, X_test, y_train, y_test)\n",
    "    \n",
    "    #compute majority vote metrics\n",
    "    acc_mv, auc_mv, specificity_mv, sensitivity_mv = get_majority_vote(y_test, predictions)\n",
    "    \n",
    "    print('FOLD '+ str(fold_c) + ':  acc ' + str(acc) +  ', auc ' +  str(auc) +  ', specificity '+ str(specificity)\n",
    "          + ', sensitivity ' + str(sensitivity))\n",
    "    print('FOLD '+ str(fold_c) + ':  MV acc ' + str(acc_mv) +  ', MV auc ' +  str(auc_mv) +  ', MV specificity '+ str(specificity_mv)\n",
    "          + ', MV sensitivity ' + str(sensitivity_mv))\n",
    "    \n",
    "    test_metrics[fold_c]=  {'acc':acc, 'auc':auc, 'sensitivity':sensitivity, 'specificity':specificity, 'param':params[index_param_max]}\n",
    "    test_metrics_mv[fold_c]=  {'acc':acc_mv, 'auc':auc_mv, 'sensitivity':sensitivity_mv, 'specificity':specificity_mv, 'param':params[index_param_max]}\n",
    "    \n",
    "    fold_c +=1 \n",
    "\n",
    "log_test_metrics(test_metrics, test_metrics_mv, test_n_splits, 'Raw US images + PCA + SVM',None, seed, pca_n_components, standardize)\n"
   ]
  },
  {
   "cell_type": "code",
   "execution_count": 11,
   "metadata": {},
   "outputs": [
    {
     "name": "stderr",
     "output_type": "stream",
     "text": [
      "/home/mila/g/gauthies/.conda/envs/ultra/lib/python3.7/site-packages/ipykernel/ipkernel.py:287: DeprecationWarning: `should_run_async` will not call `transform_cell` automatically in the future. Please pass the result to `transformed_cell` argument and any exception that happen during thetransform in `preprocessing_exc_tuple` in IPython 7.17 and above.\n",
      "  and should_run_async(code)\n",
      "100%|██████████| 18/18 [00:00<00:00, 79.32it/s]\n",
      "100%|██████████| 18/18 [00:00<00:00, 74.81it/s]\n",
      "100%|██████████| 18/18 [00:00<00:00, 82.84it/s]\n",
      "100%|██████████| 18/18 [00:00<00:00, 89.33it/s]\n",
      "100%|██████████| 18/18 [00:00<00:00, 85.19it/s]\n"
     ]
    },
    {
     "name": "stdout",
     "output_type": "stream",
     "text": [
      "Done logging validation params in MLFlow\n",
      "From all the combinations, the highest accuracy was achieved with ('linear', 1000, 'balanced')\n",
      "FOLD 1:  acc 0.8, auc 0.8333333333333333, specificity 1.0, sensitivity 0.6666666666666666\n",
      "FOLD 1:  MV acc 0.8, MV auc 0.8333333333333333, MV specificity 1.0, MV sensitivity 0.6666666666666666\n"
     ]
    },
    {
     "name": "stderr",
     "output_type": "stream",
     "text": [
      "100%|██████████| 18/18 [00:00<00:00, 81.19it/s]\n",
      "100%|██████████| 18/18 [00:00<00:00, 75.92it/s]\n",
      "100%|██████████| 18/18 [00:00<00:00, 76.52it/s]\n",
      "100%|██████████| 18/18 [00:00<00:00, 43.30it/s]\n",
      "100%|██████████| 18/18 [00:00<00:00, 30.96it/s]\n"
     ]
    },
    {
     "name": "stdout",
     "output_type": "stream",
     "text": [
      "Done logging validation params in MLFlow\n",
      "From all the combinations, the highest accuracy was achieved with ('linear', 1, None)\n",
      "FOLD 2:  acc 0.8, auc 0.8333333333333334, specificity 0.6666666666666666, sensitivity 1.0\n",
      "FOLD 2:  MV acc 0.8, MV auc 0.8333333333333334, MV specificity 0.6666666666666666, MV sensitivity 1.0\n"
     ]
    },
    {
     "name": "stderr",
     "output_type": "stream",
     "text": [
      "100%|██████████| 18/18 [00:00<00:00, 82.50it/s]\n",
      "100%|██████████| 18/18 [00:00<00:00, 84.08it/s]\n",
      "100%|██████████| 18/18 [00:00<00:00, 76.20it/s]\n",
      "100%|██████████| 18/18 [00:00<00:00, 85.43it/s]\n",
      "100%|██████████| 18/18 [00:00<00:00, 91.29it/s]\n"
     ]
    },
    {
     "name": "stdout",
     "output_type": "stream",
     "text": [
      "Done logging validation params in MLFlow\n",
      "From all the combinations, the highest accuracy was achieved with ('linear', 1000, 'balanced')\n",
      "FOLD 3:  acc 0.78, auc 0.7333333333333334, specificity 0.5, sensitivity 0.9666666666666667\n",
      "FOLD 3:  MV acc 0.8, MV auc 0.75, MV specificity 0.5, MV sensitivity 1.0\n"
     ]
    },
    {
     "name": "stderr",
     "output_type": "stream",
     "text": [
      "100%|██████████| 18/18 [00:00<00:00, 55.00it/s]\n",
      "100%|██████████| 18/18 [00:00<00:00, 79.99it/s]\n",
      "100%|██████████| 18/18 [00:00<00:00, 81.84it/s]\n",
      "100%|██████████| 18/18 [00:00<00:00, 89.00it/s]\n",
      "100%|██████████| 18/18 [00:00<00:00, 95.52it/s]\n"
     ]
    },
    {
     "name": "stdout",
     "output_type": "stream",
     "text": [
      "Done logging validation params in MLFlow\n",
      "From all the combinations, the highest accuracy was achieved with ('linear', 1, 'balanced')\n",
      "FOLD 4:  acc 0.54, auc 0.3375, specificity 0.0, sensitivity 0.675\n",
      "FOLD 4:  MV acc 0.6, MV auc 0.375, MV specificity 0.0, MV sensitivity 0.75\n"
     ]
    },
    {
     "name": "stderr",
     "output_type": "stream",
     "text": [
      "100%|██████████| 18/18 [00:00<00:00, 82.13it/s]\n",
      "100%|██████████| 18/18 [00:00<00:00, 76.60it/s]\n",
      "100%|██████████| 18/18 [00:00<00:00, 51.95it/s]\n",
      "100%|██████████| 18/18 [00:00<00:00, 90.00it/s]\n",
      "100%|██████████| 18/18 [00:00<00:00, 85.78it/s]\n"
     ]
    },
    {
     "name": "stdout",
     "output_type": "stream",
     "text": [
      "Done logging validation params in MLFlow\n",
      "From all the combinations, the highest accuracy was achieved with ('linear', 1000, None)\n",
      "FOLD 5:  acc 1.0, auc 1.0, specificity 1.0, sensitivity 1.0\n",
      "FOLD 5:  MV acc 1.0, MV auc 1.0, MV specificity 1.0, MV sensitivity 1.0\n"
     ]
    },
    {
     "name": "stderr",
     "output_type": "stream",
     "text": [
      "100%|██████████| 18/18 [00:00<00:00, 79.82it/s]\n",
      "100%|██████████| 18/18 [00:00<00:00, 81.29it/s]\n",
      "100%|██████████| 18/18 [00:00<00:00, 90.42it/s]\n",
      "100%|██████████| 18/18 [00:00<00:00, 85.34it/s]\n",
      "100%|██████████| 18/18 [00:00<00:00, 80.90it/s]\n"
     ]
    },
    {
     "name": "stdout",
     "output_type": "stream",
     "text": [
      "Done logging validation params in MLFlow\n",
      "From all the combinations, the highest accuracy was achieved with ('linear', 10, 'balanced')\n",
      "FOLD 6:  acc 0.8, auc 0.875, specificity 1.0, sensitivity 0.75\n",
      "FOLD 6:  MV acc 0.8, MV auc 0.875, MV specificity 1.0, MV sensitivity 0.75\n"
     ]
    },
    {
     "name": "stderr",
     "output_type": "stream",
     "text": [
      "100%|██████████| 18/18 [00:00<00:00, 80.57it/s]\n",
      "100%|██████████| 18/18 [00:00<00:00, 76.59it/s]\n",
      "100%|██████████| 18/18 [00:00<00:00, 90.61it/s]\n",
      "100%|██████████| 18/18 [00:00<00:00, 63.66it/s]\n",
      "100%|██████████| 18/18 [00:00<00:00, 52.89it/s]\n"
     ]
    },
    {
     "name": "stdout",
     "output_type": "stream",
     "text": [
      "Done logging validation params in MLFlow\n",
      "From all the combinations, the highest accuracy was achieved with ('linear', 1, None)\n",
      "FOLD 7:  acc 0.4, auc 0.625, specificity 1.0, sensitivity 0.25\n",
      "FOLD 7:  MV acc 0.4, MV auc 0.625, MV specificity 1.0, MV sensitivity 0.25\n"
     ]
    },
    {
     "name": "stderr",
     "output_type": "stream",
     "text": [
      "100%|██████████| 18/18 [00:00<00:00, 82.14it/s]\n",
      "100%|██████████| 18/18 [00:00<00:00, 80.83it/s]\n",
      "100%|██████████| 18/18 [00:00<00:00, 86.06it/s]\n",
      "100%|██████████| 18/18 [00:00<00:00, 91.55it/s]\n",
      "100%|██████████| 18/18 [00:00<00:00, 81.27it/s]\n"
     ]
    },
    {
     "name": "stdout",
     "output_type": "stream",
     "text": [
      "Done logging validation params in MLFlow\n",
      "From all the combinations, the highest accuracy was achieved with ('linear', 10, None)\n",
      "FOLD 8:  acc 0.2, auc 0.125, specificity 0.0, sensitivity 0.25\n",
      "FOLD 8:  MV acc 0.2, MV auc 0.125, MV specificity 0.0, MV sensitivity 0.25\n"
     ]
    },
    {
     "name": "stderr",
     "output_type": "stream",
     "text": [
      "100%|██████████| 18/18 [00:00<00:00, 87.20it/s]\n",
      "100%|██████████| 18/18 [00:00<00:00, 77.22it/s]\n",
      "100%|██████████| 18/18 [00:00<00:00, 87.30it/s]\n",
      "100%|██████████| 18/18 [00:00<00:00, 107.04it/s]\n",
      "100%|██████████| 18/18 [00:00<00:00, 43.50it/s]\n"
     ]
    },
    {
     "name": "stdout",
     "output_type": "stream",
     "text": [
      "Done logging validation params in MLFlow\n",
      "From all the combinations, the highest accuracy was achieved with ('linear', 10, 'balanced')\n",
      "FOLD 9:  acc 0.98, auc 0.9500000000000001, specificity 0.9, sensitivity 1.0\n",
      "FOLD 9:  MV acc 1.0, MV auc 1.0, MV specificity 1.0, MV sensitivity 1.0\n"
     ]
    },
    {
     "name": "stderr",
     "output_type": "stream",
     "text": [
      "100%|██████████| 18/18 [00:00<00:00, 60.69it/s]\n",
      "100%|██████████| 18/18 [00:00<00:00, 75.55it/s]\n",
      "100%|██████████| 18/18 [00:00<00:00, 106.92it/s]\n",
      "100%|██████████| 18/18 [00:00<00:00, 97.77it/s]\n",
      "100%|██████████| 18/18 [00:00<00:00, 88.45it/s]\n"
     ]
    },
    {
     "name": "stdout",
     "output_type": "stream",
     "text": [
      "Done logging validation params in MLFlow\n",
      "From all the combinations, the highest accuracy was achieved with ('linear', 10, 'balanced')\n",
      "FOLD 10:  acc 0.4, auc 0.25, specificity 0.0, sensitivity 0.5\n",
      "FOLD 10:  MV acc 0.4, MV auc 0.25, MV specificity 0.0, MV sensitivity 0.5\n"
     ]
    },
    {
     "name": "stderr",
     "output_type": "stream",
     "text": [
      "100%|██████████| 18/18 [00:00<00:00, 57.21it/s]\n",
      "100%|██████████| 18/18 [00:00<00:00, 51.16it/s]\n",
      "100%|██████████| 18/18 [00:00<00:00, 79.54it/s]\n",
      "100%|██████████| 18/18 [00:00<00:00, 79.02it/s]\n",
      "100%|██████████| 18/18 [00:00<00:00, 80.94it/s]\n"
     ]
    },
    {
     "name": "stdout",
     "output_type": "stream",
     "text": [
      "Done logging validation params in MLFlow\n",
      "From all the combinations, the highest accuracy was achieved with ('linear', 10, 'balanced')\n",
      "FOLD 11:  acc 1.0, auc 1.0, specificity 1.0, sensitivity 1.0\n",
      "FOLD 11:  MV acc 1.0, MV auc 1.0, MV specificity 1.0, MV sensitivity 1.0\n",
      "0.7000000000000001 0.6875\n",
      "0.7090909090909091 0.6969696969696969\n",
      "Experiment done\n"
     ]
    }
   ],
   "source": [
    "pca_n_components = 8\n",
    "standardize = False\n",
    "test_metrics={}  \n",
    "#majority vote results\n",
    "test_metrics_mv={} \n",
    "test_n_splits = 11\n",
    "group_kfold_test = GroupKFold(n_splits=test_n_splits)\n",
    "seed= 11\n",
    "df_pid = df['id']\n",
    "df_y = df['class']\n",
    "fold_c =1 \n",
    "\n",
    "for train_index, test_index in group_kfold_test.split(df, \n",
    "                                                  df_y, \n",
    "                                                  df_pid):\n",
    "    random.seed(seed)\n",
    "    random.shuffle(train_index)\n",
    "    X_train, X_test = data[train_index], data[test_index]\n",
    "    X_train_pid = df['id'].iloc[train_index]\n",
    "    y_train, y_test = df_y.iloc[train_index], df_y.iloc[test_index]\n",
    "    \n",
    "    # Do cross-validation for hyperparam tuning\n",
    "    group_kfold_val = GroupKFold(n_splits=5)\n",
    "    metrics={}\n",
    "    #X_train_y = df.pop('class')\n",
    "    for subtrain_index, valid_index in group_kfold_val.split(X_train, \n",
    "                                                      y_train, \n",
    "                                                      X_train_pid):\n",
    "                                   \n",
    "        X_subtrain, X_valid = X_train[subtrain_index], X_train[valid_index]\n",
    "        y_subtrain, y_valid = y_train.iloc[subtrain_index], y_train.iloc[valid_index]\n",
    "\n",
    "\n",
    "        pca = PCA(n_components=pca_n_components,random_state = seed)           \n",
    "        X_subtrain = pca.fit_transform(X_subtrain)\n",
    "        X_valid = pca.transform(X_valid)\n",
    "        \n",
    "                #standardize\n",
    "        if standardize:\n",
    "            scaler = StandardScaler()\n",
    "            X_subtrain = scaler.fit_transform(X_subtrain)\n",
    "            X_valid = scaler.transform(X_valid)\n",
    "        \n",
    "        \n",
    "\n",
    "        for param in tqdm(params):\n",
    "            if str(param) not in metrics.keys() :\n",
    "                metrics[str(param)] ={'acc':[], 'auc':[], 'sensitivity':[], 'specificity':[]}\n",
    "                                   \n",
    "            acc, auc, specificity, sensitivity,_ = train_valid(param, X_subtrain,X_valid,y_subtrain, y_valid)\n",
    "            metrics[str(param)]['auc'].append(auc)\n",
    "            metrics[str(param)]['acc'].append(acc)\n",
    "            metrics[str(param)]['sensitivity'].append(sensitivity)\n",
    "            metrics[str(param)]['specificity'].append(specificity)\n",
    "    #log validation metrics for all combination of params\n",
    "    log_val_metrics(params, metrics, test_n_splits, pca_n_components, standardize)\n",
    "    \n",
    "    #highest accuracy\n",
    "    index_param_max = np.array([np.array(metrics[str(param)]['auc']).mean() for param in params]).argmax()\n",
    "    print('From all the combinations, the highest accuracy was achieved with', params[index_param_max])\n",
    "    #train and test with max param\n",
    "\n",
    "    \n",
    "    pca = PCA(n_components=pca_n_components)           \n",
    "    X_train = pca.fit_transform(X_train)\n",
    "    X_test = pca.transform(X_test)\n",
    "    \n",
    "        #standardize\n",
    "    if standardize:\n",
    "        scaler = StandardScaler()\n",
    "        X_train = scaler.fit_transform(X_train)\n",
    "        X_test = scaler.transform(X_test)\n",
    "\n",
    "    acc, auc, specificity, sensitivity, predictions = train_valid(params[index_param_max], X_train, X_test, y_train, y_test)\n",
    "    \n",
    "    #compute majority vote metrics\n",
    "    acc_mv, auc_mv, specificity_mv, sensitivity_mv = get_majority_vote(y_test, predictions)\n",
    "    \n",
    "    print('FOLD '+ str(fold_c) + ':  acc ' + str(acc) +  ', auc ' +  str(auc) +  ', specificity '+ str(specificity)\n",
    "          + ', sensitivity ' + str(sensitivity))\n",
    "    print('FOLD '+ str(fold_c) + ':  MV acc ' + str(acc_mv) +  ', MV auc ' +  str(auc_mv) +  ', MV specificity '+ str(specificity_mv)\n",
    "          + ', MV sensitivity ' + str(sensitivity_mv))\n",
    "    \n",
    "    test_metrics[fold_c]=  {'acc':acc, 'auc':auc, 'sensitivity':sensitivity, 'specificity':specificity, 'param':params[index_param_max]}\n",
    "    test_metrics_mv[fold_c]=  {'acc':acc_mv, 'auc':auc_mv, 'sensitivity':sensitivity_mv, 'specificity':specificity_mv, 'param':params[index_param_max]}\n",
    "    \n",
    "    fold_c +=1 \n",
    "\n",
    "log_test_metrics(test_metrics, test_metrics_mv, test_n_splits, 'Raw US images + PCA + SVM',None, seed, pca_n_components, standardize)\n"
   ]
  },
  {
   "cell_type": "code",
   "execution_count": null,
   "metadata": {},
   "outputs": [],
   "source": []
  }
 ],
 "metadata": {
  "accelerator": "GPU",
  "colab": {
   "collapsed_sections": [],
   "name": "Transfer learning with deep convolutional neural network for liver steatosis assessment in ultrasound images Reproducibility with Scatterin.ipynb",
   "provenance": [],
   "toc_visible": true
  },
  "kernelspec": {
   "display_name": "Python 3 (ultra)",
   "language": "python",
   "name": "ultra"
  },
  "language_info": {
   "codemirror_mode": {
    "name": "ipython",
    "version": 3
   },
   "file_extension": ".py",
   "mimetype": "text/x-python",
   "name": "python",
   "nbconvert_exporter": "python",
   "pygments_lexer": "ipython3",
   "version": "3.7.0"
  }
 },
 "nbformat": 4,
 "nbformat_minor": 4
}
