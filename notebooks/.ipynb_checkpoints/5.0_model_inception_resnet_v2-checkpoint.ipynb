{
 "cells": [
  {
   "cell_type": "markdown",
   "metadata": {
    "colab_type": "text",
    "id": "ENoS3mTtGQts"
   },
   "source": [
    "# Experiment 5.0 - Inception Resnet v2 - extract Features\n",
    "\n",
    "Reproduce Results of [Transfer learning with deep convolutional neural network for liver steatosis assessment in ultrasound images](https://pubmed.ncbi.nlm.nih.gov/30094778/). We used a pre-trained CNN to extract features based on B-mode images. \n",
    "\n",
    "The CNNfeatures are extracted using the pretrained Inception-Resnet-v2 implemented in Keras.\n",
    "See reference: https://jkjung-avt.github.io/keras-inceptionresnetv2/\n",
    "\n",
    "![Screen Shot 2020-10-12 at 2 57 22 PM](https://user-images.githubusercontent.com/23482039/95781182-47437700-0c9b-11eb-8826-594811ba3322.png)\n"
   ]
  },
  {
   "cell_type": "code",
   "execution_count": 68,
   "metadata": {
    "colab": {},
    "colab_type": "code",
    "id": "ptO9fUvkD-Lc"
   },
   "outputs": [],
   "source": [
    "import sys\n",
    "import random\n",
    "sys.path.append('../src')\n",
    "\n",
    "import warnings\n",
    "warnings.filterwarnings(\"ignore\") \n",
    "\n",
    "import pickle\n",
    "import pandas as pd\n",
    "\n",
    "import numpy as np\n",
    "import mlflow\n",
    "import matplotlib.pyplot as plt\n",
    "import tensorflow as tf\n",
    "import keras\n",
    "from tqdm import tqdm\n",
    "\n",
    "from utils.compute_metrics import get_metrics, get_majority_vote,log_test_metrics\n",
    "from utils.dataframe_creation import create_dataframe_preproccessing\n",
    "from sklearn.preprocessing import StandardScaler\n",
    "from tensorflow.python.keras.applications.inception_resnet_v2 import InceptionResNetV2, preprocess_input\n",
    "from sklearn.svm import LinearSVC\n",
    "from sklearn.svm import SVC\n",
    "from sklearn.model_selection import GroupKFold\n",
    "from tqdm import tqdm\n",
    "from pprint import pprint\n",
    "from itertools import product\n",
    "from keras.preprocessing.image import ImageDataGenerator\n"
   ]
  },
  {
   "cell_type": "markdown",
   "metadata": {
    "colab_type": "text",
    "id": "XJR7pdinnuHH"
   },
   "source": [
    "## 1. Feature Extraction"
   ]
  },
  {
   "cell_type": "code",
   "execution_count": 69,
   "metadata": {
    "colab_type": "text",
    "id": "731ett2LeCqH"
   },
   "outputs": [
    {
     "data": {
      "text/html": [
       "<div>\n",
       "<style scoped>\n",
       "    .dataframe tbody tr th:only-of-type {\n",
       "        vertical-align: middle;\n",
       "    }\n",
       "\n",
       "    .dataframe tbody tr th {\n",
       "        vertical-align: top;\n",
       "    }\n",
       "\n",
       "    .dataframe thead th {\n",
       "        text-align: right;\n",
       "    }\n",
       "</style>\n",
       "<table border=\"1\" class=\"dataframe\">\n",
       "  <thead>\n",
       "    <tr style=\"text-align: right;\">\n",
       "      <th></th>\n",
       "      <th>id</th>\n",
       "      <th>labels</th>\n",
       "      <th>fat</th>\n",
       "      <th>fname</th>\n",
       "    </tr>\n",
       "  </thead>\n",
       "  <tbody>\n",
       "    <tr>\n",
       "      <th>0</th>\n",
       "      <td>1</td>\n",
       "      <td>0</td>\n",
       "      <td>3</td>\n",
       "      <td>../data/02_interim/raw_images/1/P1_image1.jpg</td>\n",
       "    </tr>\n",
       "    <tr>\n",
       "      <th>1</th>\n",
       "      <td>1</td>\n",
       "      <td>0</td>\n",
       "      <td>3</td>\n",
       "      <td>../data/02_interim/raw_images/1/P1_image2.jpg</td>\n",
       "    </tr>\n",
       "    <tr>\n",
       "      <th>2</th>\n",
       "      <td>1</td>\n",
       "      <td>0</td>\n",
       "      <td>3</td>\n",
       "      <td>../data/02_interim/raw_images/1/P1_image3.jpg</td>\n",
       "    </tr>\n",
       "    <tr>\n",
       "      <th>3</th>\n",
       "      <td>1</td>\n",
       "      <td>0</td>\n",
       "      <td>3</td>\n",
       "      <td>../data/02_interim/raw_images/1/P1_image4.jpg</td>\n",
       "    </tr>\n",
       "    <tr>\n",
       "      <th>4</th>\n",
       "      <td>1</td>\n",
       "      <td>0</td>\n",
       "      <td>3</td>\n",
       "      <td>../data/02_interim/raw_images/1/P1_image5.jpg</td>\n",
       "    </tr>\n",
       "  </tbody>\n",
       "</table>\n",
       "</div>"
      ],
      "text/plain": [
       "   id  labels  fat                                          fname\n",
       "0   1       0    3  ../data/02_interim/raw_images/1/P1_image1.jpg\n",
       "1   1       0    3  ../data/02_interim/raw_images/1/P1_image2.jpg\n",
       "2   1       0    3  ../data/02_interim/raw_images/1/P1_image3.jpg\n",
       "3   1       0    3  ../data/02_interim/raw_images/1/P1_image4.jpg\n",
       "4   1       0    3  ../data/02_interim/raw_images/1/P1_image5.jpg"
      ]
     },
     "execution_count": 69,
     "metadata": {},
     "output_type": "execute_result"
    }
   ],
   "source": [
    "M, N= 434, 636 # ultrasound image dimension\n",
    "#In the paper, the authors extract the features directly from the pretrained inception resnet_v2\n",
    "# pooling: Optional pooling mode for feature extraction when include_top is False.\n",
    "#'max' means that global max pooling will be applied.\n",
    "net = InceptionResNetV2(include_top=False,\n",
    "                        weights='imagenet',\n",
    "                        pooling= 'avg')\n",
    "dataset = create_dataframe_preproccessing()\n",
    "dataset.head()"
   ]
  },
  {
   "cell_type": "code",
   "execution_count": 74,
   "metadata": {},
   "outputs": [
    {
     "name": "stdout",
     "output_type": "stream",
     "text": [
      "Found 550 validated image filenames belonging to 2 classes.\n"
     ]
    }
   ],
   "source": [
    "dataset = dataset.astype({\"labels\": str})\n",
    "datagen = ImageDataGenerator()\n",
    "#datagen = ImageDataGenerator(rescale=1./255)\n",
    "#datagen = ImageDataGenerator(featurewise_center=True,\n",
    "                                   #featurewise_std_normalization=True)\n",
    "#datagen.mean = np.array([0.485, 0.456, 0.406], dtype=np.float32)\n",
    "#datagen.std = np.array([0.229, 0.224, 0.225], dtype=np.float32)\n",
    "\n",
    "#From paper: Images were resized using the bi-cubic interpolation algorithm to the resolution originally designed for the network.\n",
    "generator = datagen.flow_from_dataframe(dataset, x_col='fname',y_col='labels',shuffle=False, target_size=(299,299), interpolation ='bicubic', batch_size =25)"
   ]
  },
  {
   "cell_type": "code",
   "execution_count": 75,
   "metadata": {},
   "outputs": [
    {
     "name": "stderr",
     "output_type": "stream",
     "text": [
      "  0%|          | 0/22 [00:04<?, ?it/s]\n"
     ]
    }
   ],
   "source": [
    "for i, (inputs_batch, labels_batch) in enumerate(tqdm(generator)):\n",
    "    v = net(inputs_batch)\n",
    "    break\n",
    "    "
   ]
  },
  {
   "cell_type": "code",
   "execution_count": 65,
   "metadata": {},
   "outputs": [
    {
     "data": {
      "text/plain": [
       "TensorShape([25, 1536])"
      ]
     },
     "execution_count": 65,
     "metadata": {},
     "output_type": "execute_result"
    }
   ],
   "source": [
    "v.shape"
   ]
  },
  {
   "cell_type": "code",
   "execution_count": 57,
   "metadata": {},
   "outputs": [
    {
     "name": "stderr",
     "output_type": "stream",
     "text": [
      " 95%|█████████▌| 21/22 [01:16<00:03,  3.63s/it]\n"
     ]
    }
   ],
   "source": [
    "max_pool_dim = 1536\n",
    "features = np.zeros(shape=(len(dataset), max_pool_dim))\n",
    "batch_size = 25\n",
    "assert len(dataset)%batch_size ==0, '550 should be divisable by batch_SIZE'\n",
    "\n",
    "for i, (inputs_batch, labels_batch) in enumerate(tqdm(generator)):\n",
    "    features[i*batch_size:(i+1)*batch_size] = net(inputs_batch)\n",
    "    if (i+1)*batch_size == 550:\n",
    "        break"
   ]
  },
  {
   "cell_type": "markdown",
   "metadata": {},
   "source": [
    "## 2. Save features"
   ]
  },
  {
   "cell_type": "code",
   "execution_count": 58,
   "metadata": {},
   "outputs": [
    {
     "data": {
      "text/html": [
       "<div>\n",
       "<style scoped>\n",
       "    .dataframe tbody tr th:only-of-type {\n",
       "        vertical-align: middle;\n",
       "    }\n",
       "\n",
       "    .dataframe tbody tr th {\n",
       "        vertical-align: top;\n",
       "    }\n",
       "\n",
       "    .dataframe thead th {\n",
       "        text-align: right;\n",
       "    }\n",
       "</style>\n",
       "<table border=\"1\" class=\"dataframe\">\n",
       "  <thead>\n",
       "    <tr style=\"text-align: right;\">\n",
       "      <th></th>\n",
       "      <th>id</th>\n",
       "      <th>labels</th>\n",
       "      <th>0</th>\n",
       "      <th>1</th>\n",
       "      <th>2</th>\n",
       "      <th>3</th>\n",
       "      <th>4</th>\n",
       "      <th>5</th>\n",
       "      <th>6</th>\n",
       "      <th>7</th>\n",
       "      <th>...</th>\n",
       "      <th>1526</th>\n",
       "      <th>1527</th>\n",
       "      <th>1528</th>\n",
       "      <th>1529</th>\n",
       "      <th>1530</th>\n",
       "      <th>1531</th>\n",
       "      <th>1532</th>\n",
       "      <th>1533</th>\n",
       "      <th>1534</th>\n",
       "      <th>1535</th>\n",
       "    </tr>\n",
       "  </thead>\n",
       "  <tbody>\n",
       "    <tr>\n",
       "      <th>0</th>\n",
       "      <td>1</td>\n",
       "      <td>0</td>\n",
       "      <td>0.652569</td>\n",
       "      <td>0.456327</td>\n",
       "      <td>0.347633</td>\n",
       "      <td>0.063850</td>\n",
       "      <td>0.060641</td>\n",
       "      <td>0.223506</td>\n",
       "      <td>0.598393</td>\n",
       "      <td>0.708075</td>\n",
       "      <td>...</td>\n",
       "      <td>0.188298</td>\n",
       "      <td>0.756340</td>\n",
       "      <td>0.256016</td>\n",
       "      <td>0.600391</td>\n",
       "      <td>0.515476</td>\n",
       "      <td>0.245517</td>\n",
       "      <td>0.114754</td>\n",
       "      <td>0.142941</td>\n",
       "      <td>0.592586</td>\n",
       "      <td>0.405014</td>\n",
       "    </tr>\n",
       "    <tr>\n",
       "      <th>1</th>\n",
       "      <td>1</td>\n",
       "      <td>0</td>\n",
       "      <td>0.662694</td>\n",
       "      <td>0.397173</td>\n",
       "      <td>0.379525</td>\n",
       "      <td>0.042804</td>\n",
       "      <td>0.077925</td>\n",
       "      <td>0.218255</td>\n",
       "      <td>0.676569</td>\n",
       "      <td>0.675742</td>\n",
       "      <td>...</td>\n",
       "      <td>0.143959</td>\n",
       "      <td>0.599035</td>\n",
       "      <td>0.272683</td>\n",
       "      <td>0.512366</td>\n",
       "      <td>0.536357</td>\n",
       "      <td>0.293908</td>\n",
       "      <td>0.120353</td>\n",
       "      <td>0.124621</td>\n",
       "      <td>0.505979</td>\n",
       "      <td>0.538553</td>\n",
       "    </tr>\n",
       "    <tr>\n",
       "      <th>2</th>\n",
       "      <td>1</td>\n",
       "      <td>0</td>\n",
       "      <td>0.678799</td>\n",
       "      <td>0.446090</td>\n",
       "      <td>0.281220</td>\n",
       "      <td>0.059611</td>\n",
       "      <td>0.047996</td>\n",
       "      <td>0.203064</td>\n",
       "      <td>0.655565</td>\n",
       "      <td>0.815762</td>\n",
       "      <td>...</td>\n",
       "      <td>0.142166</td>\n",
       "      <td>0.560333</td>\n",
       "      <td>0.238087</td>\n",
       "      <td>0.467891</td>\n",
       "      <td>0.550278</td>\n",
       "      <td>0.305470</td>\n",
       "      <td>0.100554</td>\n",
       "      <td>0.120454</td>\n",
       "      <td>0.490940</td>\n",
       "      <td>0.465642</td>\n",
       "    </tr>\n",
       "    <tr>\n",
       "      <th>3</th>\n",
       "      <td>1</td>\n",
       "      <td>0</td>\n",
       "      <td>0.664021</td>\n",
       "      <td>0.461157</td>\n",
       "      <td>0.343546</td>\n",
       "      <td>0.070976</td>\n",
       "      <td>0.063509</td>\n",
       "      <td>0.222404</td>\n",
       "      <td>0.672063</td>\n",
       "      <td>0.745233</td>\n",
       "      <td>...</td>\n",
       "      <td>0.210451</td>\n",
       "      <td>0.724491</td>\n",
       "      <td>0.293846</td>\n",
       "      <td>0.627026</td>\n",
       "      <td>0.606262</td>\n",
       "      <td>0.303108</td>\n",
       "      <td>0.112011</td>\n",
       "      <td>0.186801</td>\n",
       "      <td>0.556711</td>\n",
       "      <td>0.576585</td>\n",
       "    </tr>\n",
       "    <tr>\n",
       "      <th>4</th>\n",
       "      <td>1</td>\n",
       "      <td>0</td>\n",
       "      <td>0.606826</td>\n",
       "      <td>0.469013</td>\n",
       "      <td>0.323584</td>\n",
       "      <td>0.076501</td>\n",
       "      <td>0.083841</td>\n",
       "      <td>0.248243</td>\n",
       "      <td>0.636795</td>\n",
       "      <td>0.775547</td>\n",
       "      <td>...</td>\n",
       "      <td>0.215539</td>\n",
       "      <td>0.629683</td>\n",
       "      <td>0.255984</td>\n",
       "      <td>0.533129</td>\n",
       "      <td>0.611823</td>\n",
       "      <td>0.318369</td>\n",
       "      <td>0.141402</td>\n",
       "      <td>0.116915</td>\n",
       "      <td>0.508992</td>\n",
       "      <td>0.509136</td>\n",
       "    </tr>\n",
       "  </tbody>\n",
       "</table>\n",
       "<p>5 rows × 1538 columns</p>\n",
       "</div>"
      ],
      "text/plain": [
       "   id  labels         0         1         2         3         4         5  \\\n",
       "0   1       0  0.652569  0.456327  0.347633  0.063850  0.060641  0.223506   \n",
       "1   1       0  0.662694  0.397173  0.379525  0.042804  0.077925  0.218255   \n",
       "2   1       0  0.678799  0.446090  0.281220  0.059611  0.047996  0.203064   \n",
       "3   1       0  0.664021  0.461157  0.343546  0.070976  0.063509  0.222404   \n",
       "4   1       0  0.606826  0.469013  0.323584  0.076501  0.083841  0.248243   \n",
       "\n",
       "          6         7  ...      1526      1527      1528      1529      1530  \\\n",
       "0  0.598393  0.708075  ...  0.188298  0.756340  0.256016  0.600391  0.515476   \n",
       "1  0.676569  0.675742  ...  0.143959  0.599035  0.272683  0.512366  0.536357   \n",
       "2  0.655565  0.815762  ...  0.142166  0.560333  0.238087  0.467891  0.550278   \n",
       "3  0.672063  0.745233  ...  0.210451  0.724491  0.293846  0.627026  0.606262   \n",
       "4  0.636795  0.775547  ...  0.215539  0.629683  0.255984  0.533129  0.611823   \n",
       "\n",
       "       1531      1532      1533      1534      1535  \n",
       "0  0.245517  0.114754  0.142941  0.592586  0.405014  \n",
       "1  0.293908  0.120353  0.124621  0.505979  0.538553  \n",
       "2  0.305470  0.100554  0.120454  0.490940  0.465642  \n",
       "3  0.303108  0.112011  0.186801  0.556711  0.576585  \n",
       "4  0.318369  0.141402  0.116915  0.508992  0.509136  \n",
       "\n",
       "[5 rows x 1538 columns]"
      ]
     },
     "execution_count": 58,
     "metadata": {},
     "output_type": "execute_result"
    }
   ],
   "source": [
    "df_features = pd.DataFrame(features)\n",
    "df_features= pd.concat([dataset['id'], dataset['labels'], df_features], axis=1)\n",
    "df_features[[\"labels\"]] = df_features[[\"labels\"]].apply(pd.to_numeric)\n",
    "df_features.head()"
   ]
  },
  {
   "cell_type": "code",
   "execution_count": 59,
   "metadata": {},
   "outputs": [],
   "source": [
    "# Create a dict for the scattering features, and parameters\n",
    "inception_dict_tensor = {\n",
    "                'features':df_features,\n",
    "                'label' : dataset['labels'],\n",
    "                'pid' : dataset['id'],\n",
    "                'Interpolation': 'bicubic' }\n",
    "\n",
    "with open('../data/03_features/inception_dict_tensor_avg_interpolation_pooling.pickle', 'wb') as handle:\n",
    "    pickle.dump(inception_dict_tensor, handle, protocol=pickle.HIGHEST_PROTOCOL)"
   ]
  },
  {
   "cell_type": "code",
   "execution_count": null,
   "metadata": {},
   "outputs": [],
   "source": []
  }
 ],
 "metadata": {
  "accelerator": "GPU",
  "colab": {
   "collapsed_sections": [],
   "name": "Transfer learning with deep convolutional neural network for liver steatosis assessment in ultrasound images Reproducibility with Scatterin.ipynb",
   "provenance": [],
   "toc_visible": true
  },
  "kernelspec": {
   "display_name": "Python 3 (ultra)",
   "language": "python",
   "name": "ultra"
  },
  "language_info": {
   "codemirror_mode": {
    "name": "ipython",
    "version": 3
   },
   "file_extension": ".py",
   "mimetype": "text/x-python",
   "name": "python",
   "nbconvert_exporter": "python",
   "pygments_lexer": "ipython3",
   "version": "3.7.0"
  }
 },
 "nbformat": 4,
 "nbformat_minor": 4
}
