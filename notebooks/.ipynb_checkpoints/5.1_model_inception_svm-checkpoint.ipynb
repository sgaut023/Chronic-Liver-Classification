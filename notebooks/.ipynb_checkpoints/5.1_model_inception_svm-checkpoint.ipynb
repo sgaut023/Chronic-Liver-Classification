{
 "cells": [
  {
   "cell_type": "markdown",
   "metadata": {
    "colab_type": "text",
    "id": "ENoS3mTtGQts"
   },
   "source": [
    "# Experiment 5.1 - Features extracted using Inception Resnet v2 + SVM \n",
    "\n",
    "Reproduce Results of [Transfer learning with deep convolutional neural network for liver steatosis assessment in ultrasound images](https://pubmed.ncbi.nlm.nih.gov/30094778/). We used a pre-trained CNN to extract features based on B-mode images. \n",
    "\n",
    "The CNNfeatures are extracted using the pretrained Inception-Resnet-v2 implemented in Keras.\n",
    "See reference: https://jkjung-avt.github.io/keras-inceptionresnetv2/\n",
    "\n",
    "![Screen Shot 2020-10-12 at 2 57 22 PM](https://user-images.githubusercontent.com/23482039/95781182-47437700-0c9b-11eb-8826-594811ba3322.png)\n",
    "\n",
    "\n",
    "\n",
    "\n",
    "\n"
   ]
  },
  {
   "cell_type": "code",
   "execution_count": 1,
   "metadata": {
    "colab": {},
    "colab_type": "code",
    "id": "ptO9fUvkD-Lc"
   },
   "outputs": [],
   "source": [
    "import sys\n",
    "import random\n",
    "sys.path.append('../src')\n",
    "import warnings\n",
    "warnings.filterwarnings(\"ignore\") \n",
    "\n",
    "from utils.compute_metrics import get_metrics, get_majority_vote,log_test_metrics\n",
    "from utils.split import train_test_split\n",
    "from sklearn.preprocessing import StandardScaler\n",
    "from sklearn.decomposition import PCA\n",
    "from sklearn.svm import LinearSVC\n",
    "from sklearn.svm import SVC\n",
    "from sklearn.model_selection import GroupKFold\n",
    "from tqdm import tqdm\n",
    "from pprint import pprint\n",
    "\n",
    "from itertools import product\n",
    "import pickle\n",
    "import pandas as pd\n",
    "import numpy as np\n",
    "import mlflow\n",
    "import matplotlib.pyplot as plt\n"
   ]
  },
  {
   "cell_type": "markdown",
   "metadata": {
    "colab_type": "text",
    "id": "XJR7pdinnuHH"
   },
   "source": [
    "## 1. Retrieve Extracted Features"
   ]
  },
  {
   "cell_type": "code",
   "execution_count": 2,
   "metadata": {
    "colab": {},
    "colab_type": "code",
    "id": "oVel2LKmwSb9"
   },
   "outputs": [
    {
     "name": "stderr",
     "output_type": "stream",
     "text": [
      "/home/mila/g/gauthies/.conda/envs/ultra/lib/python3.7/site-packages/ipykernel/ipkernel.py:287: DeprecationWarning: `should_run_async` will not call `transform_cell` automatically in the future. Please pass the result to `transformed_cell` argument and any exception that happen during thetransform in `preprocessing_exc_tuple` in IPython 7.17 and above.\n",
      "  and should_run_async(code)\n"
     ]
    }
   ],
   "source": [
    "with open('../data/03_features/inception_dict_tensor_avg_interpolation_pooling.pickle', 'rb') as handle:\n",
    "    features_dict = pickle.load(handle)\n",
    "    df_features = features_dict ['features']\n",
    "    interpolation = features_dict ['Interpolation']\n"
   ]
  },
  {
   "cell_type": "markdown",
   "metadata": {},
   "source": [
    "# 2. Cross Validation using SVM Classification\n",
    "\n",
    "> Methods that exclude outliers were used to normalize the features. Patient-specific leave-one-out cross-validation (LOOCV) was applied to evaluate the classification. In each case, the test set consisted of10 images from the same patient and the training set contained 540 images from the remaining 54 patients. For each training set, fivefold cross-validation and grid search were applied to indicate the optimal SVM classifier hyperparameters and the best kernel. To address the problem of class imbalance, the SVM hyperparameter C of each class was adjusted inversely proportional to that class frequency in the training set. Label 1 indicated the image containing a fatty liver and label −1 otherwise. \n"
   ]
  },
  {
   "cell_type": "code",
   "execution_count": 107,
   "metadata": {},
   "outputs": [
    {
     "name": "stderr",
     "output_type": "stream",
     "text": [
      "/home/mila/g/gauthies/.conda/envs/ultra/lib/python3.7/site-packages/ipykernel/ipkernel.py:287: DeprecationWarning: `should_run_async` will not call `transform_cell` automatically in the future. Please pass the result to `transformed_cell` argument and any exception that happen during thetransform in `preprocessing_exc_tuple` in IPython 7.17 and above.\n",
      "  and should_run_async(code)\n"
     ]
    }
   ],
   "source": [
    "# Set the parameters by cross-validation\n",
    "#param_gamma = [1e-3, 1e-4]\n",
    "#param_C = [1, 10, 1000] \n",
    "#kernel = ['linear', 'poly', 'rbf', 'sigmoid']\n",
    "#params = list(product(kernel,param_gamma, param_C ))"
   ]
  },
  {
   "cell_type": "code",
   "execution_count": 108,
   "metadata": {},
   "outputs": [],
   "source": [
    "params = ['sigmoid', 1, 1e-3]"
   ]
  },
  {
   "cell_type": "code",
   "execution_count": 29,
   "metadata": {},
   "outputs": [],
   "source": [
    "def train_valid(param, X_train,X_valid,y_train, y_valid):\n",
    "    #The “balanced” mode uses the values of y to automatically adjust weights inversely\n",
    "    #proportional to class frequencies in the input data as n_samples / (n_classes * np.bincount(y)).\n",
    "    model = SVC(kernel =param[0],  gamma=param[1], C=param[2], class_weight= 'balanced')#,probability = True)\n",
    "    model.fit(X_train, y_train)\n",
    "    predictions = model.predict(X_valid)\n",
    "    acc, auc, specificity, sensitivity = get_metrics(y_valid, predictions)\n",
    "    return acc, auc, specificity, sensitivity , predictions\n"
   ]
  },
  {
   "cell_type": "code",
   "execution_count": 109,
   "metadata": {},
   "outputs": [],
   "source": [
    "def log_val_metrics(params, metrics, test_n_splits):\n",
    "    mlflow.set_experiment('val_inception_avg_pooling_svm_experiment')\n",
    "    # log mlflow params\n",
    "    for param in params:\n",
    "        with mlflow.start_run():\n",
    "            #log params\n",
    "            mlflow.log_param('pca_n',pca_n_components)\n",
    "            mlflow.log_param('model',f'svm: {param[0]}')\n",
    "            mlflow.log_param('test K fold', test_n_splits)\n",
    "            mlflow.log_param('gamma',param[1])\n",
    "            mlflow.log_param('C',param[2])\n",
    "            #log metrics\n",
    "            mlflow.log_metric('accuracy',np.array(metrics[str(param)]['acc']).mean())\n",
    "            mlflow.log_metric('AUC',np.array(metrics[str(param)]['auc']).mean())\n",
    "            mlflow.log_metric('specificity',np.array(metrics[str(param)]['specificity']).mean())\n",
    "            mlflow.log_metric('sensitivity',np.array(metrics[str(param)]['sensitivity']).mean())\n",
    "    print(\"Done logging validation params in MLFlow\")"
   ]
  },
  {
   "cell_type": "code",
   "execution_count": 31,
   "metadata": {},
   "outputs": [
    {
     "name": "stderr",
     "output_type": "stream",
     "text": [
      "100%|██████████| 24/24 [00:06<00:00,  3.97it/s]\n",
      "100%|██████████| 24/24 [00:05<00:00,  4.36it/s]\n",
      "100%|██████████| 24/24 [00:04<00:00,  4.85it/s]\n",
      "100%|██████████| 24/24 [00:05<00:00,  4.60it/s]\n",
      "100%|██████████| 24/24 [00:05<00:00,  4.62it/s]\n"
     ]
    },
    {
     "name": "stdout",
     "output_type": "stream",
     "text": [
      "Done logging validation params in MLFlow\n",
      "From all the combinations, the highest accuracy was achieved with ('sigmoid', 0.001, 1)\n"
     ]
    },
    {
     "name": "stderr",
     "output_type": "stream",
     "text": [
      "  4%|▍         | 1/24 [00:00<00:02,  9.67it/s]"
     ]
    },
    {
     "name": "stdout",
     "output_type": "stream",
     "text": [
      "FOLD 1:  acc 0.86, auc 0.8583333333333334, specificity 0.85, sensitivity 0.8666666666666667\n",
      "FOLD 1:  MV acc 1.0, MV auc 1.0, MV specificity 1.0, MV sensitivity 1.0\n"
     ]
    },
    {
     "name": "stderr",
     "output_type": "stream",
     "text": [
      "100%|██████████| 24/24 [00:05<00:00,  4.72it/s]\n",
      "100%|██████████| 24/24 [00:05<00:00,  4.59it/s]\n",
      "100%|██████████| 24/24 [00:04<00:00,  4.80it/s]\n",
      "100%|██████████| 24/24 [00:04<00:00,  5.00it/s]\n",
      "100%|██████████| 24/24 [00:05<00:00,  4.58it/s]\n"
     ]
    },
    {
     "name": "stdout",
     "output_type": "stream",
     "text": [
      "Done logging validation params in MLFlow\n",
      "From all the combinations, the highest accuracy was achieved with ('sigmoid', 0.001, 1)\n"
     ]
    },
    {
     "name": "stderr",
     "output_type": "stream",
     "text": [
      "  8%|▊         | 2/24 [00:00<00:02, 10.58it/s]"
     ]
    },
    {
     "name": "stdout",
     "output_type": "stream",
     "text": [
      "FOLD 2:  acc 0.82, auc 0.775, specificity 1.0, sensitivity 0.55\n",
      "FOLD 2:  MV acc 0.8, MV auc 0.75, MV specificity 1.0, MV sensitivity 0.5\n"
     ]
    },
    {
     "name": "stderr",
     "output_type": "stream",
     "text": [
      "100%|██████████| 24/24 [00:04<00:00,  4.84it/s]\n",
      "100%|██████████| 24/24 [00:04<00:00,  4.82it/s]\n",
      "100%|██████████| 24/24 [00:05<00:00,  4.38it/s]\n",
      "100%|██████████| 24/24 [00:04<00:00,  4.85it/s]\n",
      "100%|██████████| 24/24 [00:04<00:00,  5.01it/s]\n"
     ]
    },
    {
     "name": "stdout",
     "output_type": "stream",
     "text": [
      "Done logging validation params in MLFlow\n",
      "From all the combinations, the highest accuracy was achieved with ('sigmoid', 0.001, 1)\n"
     ]
    },
    {
     "name": "stderr",
     "output_type": "stream",
     "text": [
      "  4%|▍         | 1/24 [00:00<00:02,  9.27it/s]"
     ]
    },
    {
     "name": "stdout",
     "output_type": "stream",
     "text": [
      "FOLD 3:  acc 0.4, auc 0.41666666666666663, specificity 0.5, sensitivity 0.3333333333333333\n",
      "FOLD 3:  MV acc 0.4, MV auc 0.41666666666666663, MV specificity 0.5, MV sensitivity 0.3333333333333333\n"
     ]
    },
    {
     "name": "stderr",
     "output_type": "stream",
     "text": [
      "100%|██████████| 24/24 [00:05<00:00,  4.56it/s]\n",
      "100%|██████████| 24/24 [00:05<00:00,  4.76it/s]\n",
      "100%|██████████| 24/24 [00:05<00:00,  4.61it/s]\n",
      "100%|██████████| 24/24 [00:04<00:00,  5.06it/s]\n",
      "100%|██████████| 24/24 [00:05<00:00,  4.55it/s]\n"
     ]
    },
    {
     "name": "stdout",
     "output_type": "stream",
     "text": [
      "Done logging validation params in MLFlow\n",
      "From all the combinations, the highest accuracy was achieved with ('sigmoid', 0.001, 1)\n"
     ]
    },
    {
     "name": "stderr",
     "output_type": "stream",
     "text": [
      "  4%|▍         | 1/24 [00:00<00:02,  8.90it/s]"
     ]
    },
    {
     "name": "stdout",
     "output_type": "stream",
     "text": [
      "FOLD 4:  acc 0.82, auc 0.55, specificity 0.1, sensitivity 1.0\n",
      "FOLD 4:  MV acc 0.8, MV auc 0.5, MV specificity 0.0, MV sensitivity 1.0\n"
     ]
    },
    {
     "name": "stderr",
     "output_type": "stream",
     "text": [
      "100%|██████████| 24/24 [00:05<00:00,  4.61it/s]\n",
      "100%|██████████| 24/24 [00:05<00:00,  4.67it/s]\n",
      "100%|██████████| 24/24 [00:04<00:00,  4.81it/s]\n",
      "100%|██████████| 24/24 [00:04<00:00,  5.03it/s]\n",
      "100%|██████████| 24/24 [00:05<00:00,  4.00it/s]\n"
     ]
    },
    {
     "name": "stdout",
     "output_type": "stream",
     "text": [
      "Done logging validation params in MLFlow\n",
      "From all the combinations, the highest accuracy was achieved with ('sigmoid', 0.001, 1)\n"
     ]
    },
    {
     "name": "stderr",
     "output_type": "stream",
     "text": [
      "  4%|▍         | 1/24 [00:00<00:02,  9.41it/s]"
     ]
    },
    {
     "name": "stdout",
     "output_type": "stream",
     "text": [
      "FOLD 5:  acc 0.84, auc 0.9, specificity 1.0, sensitivity 0.8\n",
      "FOLD 5:  MV acc 0.8, MV auc 0.875, MV specificity 1.0, MV sensitivity 0.75\n"
     ]
    },
    {
     "name": "stderr",
     "output_type": "stream",
     "text": [
      "100%|██████████| 24/24 [00:05<00:00,  4.65it/s]\n",
      "100%|██████████| 24/24 [00:05<00:00,  4.68it/s]\n",
      "100%|██████████| 24/24 [00:04<00:00,  4.86it/s]\n",
      "100%|██████████| 24/24 [00:04<00:00,  4.95it/s]\n",
      "100%|██████████| 24/24 [00:05<00:00,  4.43it/s]\n",
      "  0%|          | 0/24 [00:00<?, ?it/s]"
     ]
    },
    {
     "name": "stdout",
     "output_type": "stream",
     "text": [
      "Done logging validation params in MLFlow\n",
      "From all the combinations, the highest accuracy was achieved with ('rbf', 0.0001, 10)\n",
      "FOLD 6:  acc 0.66, auc 0.525, specificity 0.3, sensitivity 0.75\n",
      "FOLD 6:  MV acc 0.6, MV auc 0.375, MV specificity 0.0, MV sensitivity 0.75\n"
     ]
    },
    {
     "name": "stderr",
     "output_type": "stream",
     "text": [
      "100%|██████████| 24/24 [00:05<00:00,  4.64it/s]\n",
      "100%|██████████| 24/24 [00:05<00:00,  4.78it/s]\n",
      "100%|██████████| 24/24 [00:04<00:00,  5.13it/s]\n",
      "100%|██████████| 24/24 [00:04<00:00,  4.94it/s]\n",
      "100%|██████████| 24/24 [00:05<00:00,  4.71it/s]\n",
      "  0%|          | 0/24 [00:00<?, ?it/s]"
     ]
    },
    {
     "name": "stdout",
     "output_type": "stream",
     "text": [
      "Done logging validation params in MLFlow\n",
      "From all the combinations, the highest accuracy was achieved with ('sigmoid', 0.001, 10)\n",
      "FOLD 7:  acc 0.6, auc 0.48750000000000004, specificity 0.3, sensitivity 0.675\n",
      "FOLD 7:  MV acc 0.6, MV auc 0.375, MV specificity 0.0, MV sensitivity 0.75\n"
     ]
    },
    {
     "name": "stderr",
     "output_type": "stream",
     "text": [
      "100%|██████████| 24/24 [00:05<00:00,  4.62it/s]\n",
      "100%|██████████| 24/24 [00:05<00:00,  4.68it/s]\n",
      "100%|██████████| 24/24 [00:04<00:00,  5.06it/s]\n",
      "100%|██████████| 24/24 [00:04<00:00,  5.02it/s]\n",
      "100%|██████████| 24/24 [00:05<00:00,  4.45it/s]\n"
     ]
    },
    {
     "name": "stdout",
     "output_type": "stream",
     "text": [
      "Done logging validation params in MLFlow\n",
      "From all the combinations, the highest accuracy was achieved with ('rbf', 0.001, 1)\n"
     ]
    },
    {
     "name": "stderr",
     "output_type": "stream",
     "text": [
      "  4%|▍         | 1/24 [00:00<00:02,  9.72it/s]"
     ]
    },
    {
     "name": "stdout",
     "output_type": "stream",
     "text": [
      "FOLD 8:  acc 0.8, auc 0.575, specificity 0.2, sensitivity 0.95\n",
      "FOLD 8:  MV acc 0.8, MV auc 0.5, MV specificity 0.0, MV sensitivity 1.0\n"
     ]
    },
    {
     "name": "stderr",
     "output_type": "stream",
     "text": [
      "100%|██████████| 24/24 [00:05<00:00,  4.69it/s]\n",
      "100%|██████████| 24/24 [00:04<00:00,  4.91it/s]\n",
      "100%|██████████| 24/24 [00:04<00:00,  5.11it/s]\n",
      "100%|██████████| 24/24 [00:04<00:00,  5.08it/s]\n",
      "100%|██████████| 24/24 [00:05<00:00,  4.75it/s]\n"
     ]
    },
    {
     "name": "stdout",
     "output_type": "stream",
     "text": [
      "Done logging validation params in MLFlow\n",
      "From all the combinations, the highest accuracy was achieved with ('sigmoid', 0.001, 1)\n"
     ]
    },
    {
     "name": "stderr",
     "output_type": "stream",
     "text": [
      "  4%|▍         | 1/24 [00:00<00:02,  8.99it/s]"
     ]
    },
    {
     "name": "stdout",
     "output_type": "stream",
     "text": [
      "FOLD 9:  acc 0.46, auc 0.5125, specificity 0.6, sensitivity 0.425\n",
      "FOLD 9:  MV acc 0.6, MV auc 0.75, MV specificity 1.0, MV sensitivity 0.5\n"
     ]
    },
    {
     "name": "stderr",
     "output_type": "stream",
     "text": [
      "100%|██████████| 24/24 [00:05<00:00,  4.59it/s]\n",
      "100%|██████████| 24/24 [00:04<00:00,  4.81it/s]\n",
      "100%|██████████| 24/24 [00:04<00:00,  5.05it/s]\n",
      "100%|██████████| 24/24 [00:04<00:00,  5.02it/s]\n",
      "100%|██████████| 24/24 [00:04<00:00,  4.82it/s]\n"
     ]
    },
    {
     "name": "stdout",
     "output_type": "stream",
     "text": [
      "Done logging validation params in MLFlow\n",
      "From all the combinations, the highest accuracy was achieved with ('sigmoid', 0.001, 1)\n"
     ]
    },
    {
     "name": "stderr",
     "output_type": "stream",
     "text": [
      "  8%|▊         | 2/24 [00:00<00:02, 10.44it/s]"
     ]
    },
    {
     "name": "stdout",
     "output_type": "stream",
     "text": [
      "FOLD 10:  acc 0.56, auc 0.42499999999999993, specificity 0.2, sensitivity 0.65\n",
      "FOLD 10:  MV acc 0.6, MV auc 0.375, MV specificity 0.0, MV sensitivity 0.75\n"
     ]
    },
    {
     "name": "stderr",
     "output_type": "stream",
     "text": [
      "100%|██████████| 24/24 [00:05<00:00,  4.79it/s]\n",
      "100%|██████████| 24/24 [00:05<00:00,  4.54it/s]\n",
      "100%|██████████| 24/24 [00:05<00:00,  4.56it/s]\n",
      "100%|██████████| 24/24 [00:04<00:00,  4.95it/s]\n",
      "100%|██████████| 24/24 [00:04<00:00,  4.86it/s]\n"
     ]
    },
    {
     "name": "stdout",
     "output_type": "stream",
     "text": [
      "Done logging validation params in MLFlow\n",
      "From all the combinations, the highest accuracy was achieved with ('sigmoid', 0.001, 1)\n",
      "FOLD 11:  acc 0.74, auc 0.7083333333333334, specificity 0.8666666666666667, sensitivity 0.55\n",
      "FOLD 11:  MV acc 0.8, MV auc 0.75, MV specificity 1.0, MV sensitivity 0.5\n",
      "0.6872727272727274 0.6121212121212122\n",
      "0.709090909090909 0.606060606060606\n",
      "Experiment done\n"
     ]
    }
   ],
   "source": [
    "df = df_features\n",
    "pca_n_components = None\n",
    "standardize = True\n",
    "test_metrics={}  \n",
    "#majority vote results\n",
    "test_metrics_mv={}    \n",
    "test_n_splits = 11\n",
    "group_kfold_test = GroupKFold(n_splits=test_n_splits)\n",
    "seed= 1112\n",
    "df_pid = df['id']\n",
    "df_y = df['labels']\n",
    "fold_c =1 \n",
    "\n",
    "predictions_prob =[]\n",
    "labels =[]\n",
    "\n",
    "for train_index, test_index in group_kfold_test.split(df, \n",
    "                                                  df_y, \n",
    "                                                  df_pid):\n",
    "    random.seed(seed)\n",
    "    random.shuffle(train_index)\n",
    "    X_train, X_test = df.iloc[train_index], df.iloc[test_index]\n",
    "    y_train, y_test = df_y.iloc[train_index], df_y.iloc[test_index]\n",
    "    \n",
    "    X_test = X_test.drop(columns=['id', 'labels'])\n",
    "    X_train_pid = X_train.pop('id')\n",
    "    X_train = X_train.drop(columns=['labels'])\n",
    "    \n",
    "    # Do cross-validation for hyperparam tuning\n",
    "    '''group_kfold_val = GroupKFold(n_splits=5)\n",
    "    metrics={}\n",
    "    #X_train_y = df.pop('class')\n",
    "    for subtrain_index, valid_index in group_kfold_val.split(X_train, \n",
    "                                                      y_train, \n",
    "                                                      X_train_pid):\n",
    "                                   \n",
    "        X_subtrain, X_valid = X_train.iloc[subtrain_index], X_train.iloc[valid_index]\n",
    "        y_subtrain, y_valid = y_train.iloc[subtrain_index], y_train.iloc[valid_index]\n",
    "\n",
    "        for param in tqdm(params):\n",
    "            if str(param) not in metrics.keys() :\n",
    "                metrics[str(param)] ={'acc':[], 'auc':[], 'sensitivity':[], 'specificity':[]}\n",
    "                                   \n",
    "            acc, auc, specificity, sensitivity,_ = train_valid(param, X_subtrain,X_valid,y_subtrain, y_valid)\n",
    "            metrics[str(param)]['auc'].append(auc)\n",
    "            metrics[str(param)]['acc'].append(acc)\n",
    "            metrics[str(param)]['sensitivity'].append(sensitivity)\n",
    "            metrics[str(param)]['specificity'].append(specificity)\n",
    "    #log validation metrics for all combination of params\n",
    "    log_val_metrics(params, metrics, test_n_splits)\n",
    "    \n",
    "    #highest accuracy\n",
    "    index_param_max = np.array([np.array(metrics[str(param)]['auc']).mean() for param in params]).argmax()\n",
    "    print('From all the combinations, the highest accuracy was achieved with', params[index_param_max])'''\n",
    "\n",
    "    #standardize\n",
    "    if standardize:\n",
    "        scaler = StandardScaler()\n",
    "        X_train = scaler.fit_transform(X_train)\n",
    "        X_test = scaler.transform(X_test)\n",
    "\n",
    "        \n",
    "    #acc, auc, specificity, sensitivity, predictions = train_valid(params[index_param_max], X_train, X_test, y_train, y_test)\n",
    "    model = SVC(kernel ='sigmoid',  gamma=0.001, C=1, class_weight= 'balanced',probability = True)\n",
    "    model.fit(X_train, y_train)\n",
    "    np.concatenate((predictions_prob, np.array([probe[1] for probe in  model.predict_proba(X_test)])), axis=0)\n",
    "    np.concatenate((labels, y_test), axis=0)\n",
    "\n",
    "    \n",
    "    \n",
    "    #compute majority vote metrics\n",
    "    '''acc_mv, auc_mv, specificity_mv, sensitivity_mv = get_majority_vote(y_test, predictions)\n",
    "    \n",
    "    print('FOLD '+ str(fold_c) + ':  acc ' + str(acc) +  ', auc ' +  str(auc) +  ', specificity '+ str(specificity)\n",
    "          + ', sensitivity ' + str(sensitivity))\n",
    "    print('FOLD '+ str(fold_c) + ':  MV acc ' + str(acc_mv) +  ', MV auc ' +  str(auc_mv) +  ', MV specificity '+ str(specificity_mv)\n",
    "          + ', MV sensitivity ' + str(sensitivity_mv))\n",
    "    \n",
    "    test_metrics[fold_c]=  {'acc':acc, 'auc':auc, 'sensitivity':sensitivity, 'specificity':specificity, 'param':params[index_param_max]}\n",
    "    test_metrics_mv[fold_c]=  {'acc':acc_mv, 'auc':auc_mv, 'sensitivity':sensitivity_mv, 'specificity':specificity_mv, 'param':params[index_param_max]}'''\n",
    "    \n",
    "    fold_c +=1 \n",
    "\n",
    "#log_test_metrics(test_metrics, test_metrics_mv, test_n_splits, 'AVG Pooling Inception features + SVM', interpolation , seed)\n"
   ]
  },
  {
   "cell_type": "code",
   "execution_count": 124,
   "metadata": {},
   "outputs": [
    {
     "data": {
      "text/plain": [
       "array([0.40314138, 0.58001949, 0.24712179, 0.98628391, 0.43950582,\n",
       "       0.40314138, 0.58001949, 0.24712179, 0.98628391, 0.43950582])"
      ]
     },
     "execution_count": 124,
     "metadata": {},
     "output_type": "execute_result"
    }
   ],
   "source": [
    "np.concatenate((np.array(average_predictions_prob), np.array(average_predictions_prob)), axis=0)"
   ]
  },
  {
   "cell_type": "code",
   "execution_count": 122,
   "metadata": {},
   "outputs": [
    {
     "data": {
      "text/plain": [
       "array([0.40314138, 0.58001949, 0.24712179, 0.98628391, 0.43950582])"
      ]
     },
     "execution_count": 122,
     "metadata": {},
     "output_type": "execute_result"
    }
   ],
   "source": [
    "np.array(average_predictions_prob)"
   ]
  },
  {
   "cell_type": "code",
   "execution_count": 110,
   "metadata": {},
   "outputs": [
    {
     "data": {
      "text/plain": [
       "[0.4031413765897171,\n",
       " 0.5800194930620151,\n",
       " 0.2471217945266102,\n",
       " 0.9862839136138435,\n",
       " 0.43950582010544703]"
      ]
     },
     "execution_count": 110,
     "metadata": {},
     "output_type": "execute_result"
    }
   ],
   "source": [
    "average_predictions_prob"
   ]
  },
  {
   "cell_type": "code",
   "execution_count": 103,
   "metadata": {},
   "outputs": [
    {
     "data": {
      "text/plain": [
       "0.9251718856922792"
      ]
     },
     "execution_count": 103,
     "metadata": {},
     "output_type": "execute_result"
    }
   ],
   "source": [
    "predictions_prob[29:40].mean()"
   ]
  },
  {
   "cell_type": "code",
   "execution_count": 106,
   "metadata": {},
   "outputs": [
    {
     "data": {
      "text/plain": [
       "0.8333333333333334"
      ]
     },
     "execution_count": 106,
     "metadata": {},
     "output_type": "execute_result"
    }
   ],
   "source": [
    "from sklearn.metrics import roc_auc_score\n",
    "y_true = labels\n",
    "y_scores = average_predictions_prob\n",
    "roc_auc_score(y_true, y_scores)"
   ]
  },
  {
   "cell_type": "code",
   "execution_count": 104,
   "metadata": {},
   "outputs": [
    {
     "data": {
      "text/plain": [
       "(0.74, 0.7083333333333334, 0.8666666666666667, 0.55)"
      ]
     },
     "execution_count": 104,
     "metadata": {},
     "output_type": "execute_result"
    }
   ],
   "source": [
    "#The “balanced” mode uses the values of y to automatically adjust weights inversely\n",
    "#proportional to class frequencies in the input data as n_samples / (n_classes * np.bincount(y)).\n",
    "model = SVC(kernel ='sigmoid',  gamma=0.001, C=1, class_weight= 'balanced',probability = True)\n",
    "model.fit(X_train, y_train)\n",
    "predictions = model.predict(X_test)\n",
    "predictions_prob = predictions_prob = np.array([probe[1] for probe in  model.predict_proba(X_test)])  \n",
    "\n",
    "\n",
    "average_predictions_prob= []\n",
    "labels = [] \n",
    "num_img_per_pat = 10\n",
    "for i in range(0,len(predictions_prob),  num_img_per_pat):\n",
    "    idx = np.arange(i, i+ num_img_per_pat)\n",
    "    average_predictions_prob.append(predictions_prob[idx].mean())\n",
    "    labels.append(int(np.array(y_test)[i]))\n",
    "\n",
    "acc, auc, specificity, sensitivity = get_metrics(y_test, predictions)\n",
    "acc, auc, specificity, sensitivity\n",
    "\n",
    "\n"
   ]
  },
  {
   "cell_type": "code",
   "execution_count": 96,
   "metadata": {},
   "outputs": [
    {
     "name": "stderr",
     "output_type": "stream",
     "text": [
      "/home/mila/g/gauthies/.conda/envs/ultra/lib/python3.7/site-packages/ipykernel/ipkernel.py:287: DeprecationWarning: `should_run_async` will not call `transform_cell` automatically in the future. Please pass the result to `transformed_cell` argument and any exception that happen during thetransform in `preprocessing_exc_tuple` in IPython 7.17 and above.\n",
      "  and should_run_async(code)\n"
     ]
    },
    {
     "data": {
      "text/plain": [
       "array([[0.22917362, 0.77082638],\n",
       "       [0.17479009, 0.82520991],\n",
       "       [0.53388127, 0.46611873],\n",
       "       [0.84533327, 0.15466673],\n",
       "       [0.55620196, 0.44379804],\n",
       "       [0.64190486, 0.35809514],\n",
       "       [0.79460955, 0.20539045],\n",
       "       [0.45615939, 0.54384061],\n",
       "       [0.8076666 , 0.1923334 ],\n",
       "       [0.88227467, 0.11772533],\n",
       "       [0.48471893, 0.51528107],\n",
       "       [0.16858696, 0.83141304],\n",
       "       [0.55707984, 0.44292016],\n",
       "       [0.26131361, 0.73868639],\n",
       "       [0.27163395, 0.72836605],\n",
       "       [0.27163395, 0.72836605],\n",
       "       [0.26972624, 0.73027376],\n",
       "       [0.55990467, 0.44009533],\n",
       "       [0.78710604, 0.21289396],\n",
       "       [0.51498042, 0.48501958],\n",
       "       [0.93141402, 0.06858598],\n",
       "       [0.87177756, 0.12822244],\n",
       "       [0.60910192, 0.39089808],\n",
       "       [0.7200515 , 0.2799485 ],\n",
       "       [0.82757912, 0.17242088],\n",
       "       [0.84982614, 0.15017386],\n",
       "       [0.91661338, 0.08338662],\n",
       "       [0.42580001, 0.57419999],\n",
       "       [0.64198899, 0.35801101],\n",
       "       [0.69331926, 0.30668074],\n",
       "       [0.04454575, 0.95545425],\n",
       "       [0.00447965, 0.99552035],\n",
       "       [0.00615187, 0.99384813],\n",
       "       [0.00316665, 0.99683335],\n",
       "       [0.03043582, 0.96956418],\n",
       "       [0.02245425, 0.97754575],\n",
       "       [0.00265161, 0.99734839],\n",
       "       [0.00324438, 0.99675562],\n",
       "       [0.00835866, 0.99164134],\n",
       "       [0.00830453, 0.99169547],\n",
       "       [0.61593917, 0.38406083],\n",
       "       [0.73589311, 0.26410689],\n",
       "       [0.62537895, 0.37462105],\n",
       "       [0.62553064, 0.37446936],\n",
       "       [0.2489813 , 0.7510187 ],\n",
       "       [0.76306204, 0.23693796],\n",
       "       [0.58813241, 0.41186759],\n",
       "       [0.42416773, 0.57583227],\n",
       "       [0.47643213, 0.52356787],\n",
       "       [0.4449163 , 0.5550837 ]])"
      ]
     },
     "execution_count": 96,
     "metadata": {},
     "output_type": "execute_result"
    }
   ],
   "source": [
    "predictions_prob"
   ]
  },
  {
   "cell_type": "code",
   "execution_count": 93,
   "metadata": {},
   "outputs": [
    {
     "name": "stderr",
     "output_type": "stream",
     "text": [
      "/home/mila/g/gauthies/.conda/envs/ultra/lib/python3.7/site-packages/ipykernel/ipkernel.py:287: DeprecationWarning: `should_run_async` will not call `transform_cell` automatically in the future. Please pass the result to `transformed_cell` argument and any exception that happen during thetransform in `preprocessing_exc_tuple` in IPython 7.17 and above.\n",
      "  and should_run_async(code)\n"
     ]
    },
    {
     "data": {
      "text/plain": [
       "[0, 0, 0, 0, 0]"
      ]
     },
     "execution_count": 93,
     "metadata": {},
     "output_type": "execute_result"
    }
   ],
   "source": [
    "average_predictions_prob"
   ]
  },
  {
   "cell_type": "code",
   "execution_count": 88,
   "metadata": {},
   "outputs": [
    {
     "name": "stderr",
     "output_type": "stream",
     "text": [
      "/home/mila/g/gauthies/.conda/envs/ultra/lib/python3.7/site-packages/ipykernel/ipkernel.py:287: DeprecationWarning: `should_run_async` will not call `transform_cell` automatically in the future. Please pass the result to `transformed_cell` argument and any exception that happen during thetransform in `preprocessing_exc_tuple` in IPython 7.17 and above.\n",
      "  and should_run_async(code)\n"
     ]
    }
   ],
   "source": [
    "import numpy as np\n",
    "import pandas as pd\n",
    "import random\n",
    "import mlflow\n",
    "from collections import Counter\n",
    "from sklearn.metrics import accuracy_score\n",
    "from sklearn.metrics import roc_auc_score\n",
    "from sklearn.metrics import confusion_matrix\n",
    "def get_average_posteriori_prob(y_test, predictions_prob):\n",
    "    # We assume that every patient has 10 ultrasound images in sequence\n",
    "    # Thus, the first 0-9 images are from the same patient\n",
    "    # The second 10 images (10-19) are from another patient and so on\n",
    "    average_predictions_prob= []\n",
    "    labels = [] \n",
    "    num_img_per_pat = 10\n",
    "    for i in range(0,len(predictions_prob),  num_img_per_pat):\n",
    "        idx = np.arange(i, i+ num_img_per_pat)\n",
    "        counter_pred = Counter(predictions_prob[idx])\n",
    "        average_predictions_prob.append(int(counter_pred.most_common(1)[0][0]))\n",
    "        labels.append(int(np.array(y_test)[i]))\n",
    "    return average_predictions_prob"
   ]
  },
  {
   "cell_type": "code",
   "execution_count": 74,
   "metadata": {},
   "outputs": [
    {
     "data": {
      "text/plain": [
       "0      0\n",
       "1      0\n",
       "2      0\n",
       "3      0\n",
       "4      0\n",
       "5      0\n",
       "6      0\n",
       "7      0\n",
       "8      0\n",
       "9      0\n",
       "50     0\n",
       "51     0\n",
       "52     0\n",
       "53     0\n",
       "54     0\n",
       "55     0\n",
       "56     0\n",
       "57     0\n",
       "58     0\n",
       "59     0\n",
       "160    0\n",
       "161    0\n",
       "162    0\n",
       "163    0\n",
       "164    0\n",
       "165    0\n",
       "166    0\n",
       "167    0\n",
       "168    0\n",
       "169    0\n",
       "390    1\n",
       "391    1\n",
       "392    1\n",
       "393    1\n",
       "394    1\n",
       "395    1\n",
       "396    1\n",
       "397    1\n",
       "398    1\n",
       "399    1\n",
       "500    1\n",
       "501    1\n",
       "502    1\n",
       "503    1\n",
       "504    1\n",
       "505    1\n",
       "506    1\n",
       "507    1\n",
       "508    1\n",
       "509    1\n",
       "Name: labels, dtype: int64"
      ]
     },
     "execution_count": 74,
     "metadata": {},
     "output_type": "execute_result"
    }
   ],
   "source": [
    "y_test"
   ]
  },
  {
   "cell_type": "code",
   "execution_count": 72,
   "metadata": {},
   "outputs": [],
   "source": [
    "model = SVC(kernel =param[0],  gamma=param[1], C=param[2], class_weight= 'balanced',probability = True)\n",
    "model.fit(X_train, y_train)\n",
    "predictions = model.predict(X_valid)\n",
    "predictions1 = model.predict_proba(X_test)\n",
    "predictions_prob = np.array([probe[1] for probe in predictions1])\n",
    "#acc, auc, specificity, sensitivity = get_metrics(y_test, predictions)\n",
    "#acc, auc, specificity, sensitivity"
   ]
  },
  {
   "cell_type": "code",
   "execution_count": 81,
   "metadata": {},
   "outputs": [
    {
     "name": "stderr",
     "output_type": "stream",
     "text": [
      "/home/mila/g/gauthies/.conda/envs/ultra/lib/python3.7/site-packages/ipykernel/ipkernel.py:287: DeprecationWarning: `should_run_async` will not call `transform_cell` automatically in the future. Please pass the result to `transformed_cell` argument and any exception that happen during thetransform in `preprocessing_exc_tuple` in IPython 7.17 and above.\n",
      "  and should_run_async(code)\n"
     ]
    },
    {
     "data": {
      "text/plain": [
       "array([0.20604464, 0.99999999, 0.99999998, 0.9999999 , 1.        ,\n",
       "       0.99999997, 1.        , 1.        , 1.        , 1.        ,\n",
       "       1.        ])"
      ]
     },
     "execution_count": 81,
     "metadata": {},
     "output_type": "execute_result"
    }
   ],
   "source": [
    "predictions_prob[29:40]"
   ]
  },
  {
   "cell_type": "code",
   "execution_count": 82,
   "metadata": {},
   "outputs": [
    {
     "data": {
      "text/plain": [
       "0.9278222250410795"
      ]
     },
     "execution_count": 82,
     "metadata": {},
     "output_type": "execute_result"
    }
   ],
   "source": [
    "predictions_prob[29:40].mean()"
   ]
  },
  {
   "cell_type": "code",
   "execution_count": 36,
   "metadata": {},
   "outputs": [
    {
     "data": {
      "text/plain": [
       "0.00284182832"
      ]
     },
     "execution_count": 36,
     "metadata": {},
     "output_type": "execute_result"
    }
   ],
   "source": [
    "2.84182832e-03"
   ]
  },
  {
   "cell_type": "code",
   "execution_count": 35,
   "metadata": {},
   "outputs": [
    {
     "data": {
      "text/plain": [
       "0.997158172"
      ]
     },
     "execution_count": 35,
     "metadata": {},
     "output_type": "execute_result"
    }
   ],
   "source": [
    "9.97158172e-01"
   ]
  },
  {
   "cell_type": "code",
   "execution_count": 37,
   "metadata": {},
   "outputs": [
    {
     "data": {
      "text/plain": [
       "264    1\n",
       "342    1\n",
       "124    0\n",
       "122    0\n",
       "15     0\n",
       "      ..\n",
       "260    1\n",
       "123    0\n",
       "70     0\n",
       "511    1\n",
       "457    1\n",
       "Name: labels, Length: 100, dtype: int64"
      ]
     },
     "execution_count": 37,
     "metadata": {},
     "output_type": "execute_result"
    }
   ],
   "source": [
    "y_valid"
   ]
  },
  {
   "cell_type": "code",
   "execution_count": 33,
   "metadata": {},
   "outputs": [
    {
     "name": "stderr",
     "output_type": "stream",
     "text": [
      "/home/mila/g/gauthies/.conda/envs/ultra/lib/python3.7/site-packages/ipykernel/ipkernel.py:287: DeprecationWarning: `should_run_async` will not call `transform_cell` automatically in the future. Please pass the result to `transformed_cell` argument and any exception that happen during thetransform in `preprocessing_exc_tuple` in IPython 7.17 and above.\n",
      "  and should_run_async(code)\n"
     ]
    },
    {
     "data": {
      "text/plain": [
       "array([[2.84182832e-03, 9.97158172e-01],\n",
       "       [3.33427002e-03, 9.96665730e-01],\n",
       "       [2.11237824e-02, 9.78876218e-01],\n",
       "       [1.79986753e-02, 9.82001325e-01],\n",
       "       [1.28109441e-02, 9.87189056e-01],\n",
       "       [3.48994297e-06, 9.99996510e-01],\n",
       "       [3.61353790e-03, 9.96386462e-01],\n",
       "       [1.51946358e-02, 9.84805364e-01],\n",
       "       [1.23366399e-02, 9.87663360e-01],\n",
       "       [2.99275627e-03, 9.97007244e-01],\n",
       "       [1.18285778e-02, 9.88171422e-01],\n",
       "       [3.47348010e-03, 9.96526520e-01],\n",
       "       [3.82566590e-03, 9.96174334e-01],\n",
       "       [1.41206099e-02, 9.85879390e-01],\n",
       "       [3.51476847e-03, 9.96485232e-01],\n",
       "       [4.19092301e-03, 9.95809077e-01],\n",
       "       [4.34218523e-03, 9.95657815e-01],\n",
       "       [1.56468509e-02, 9.84353149e-01],\n",
       "       [3.87824541e-03, 9.96121755e-01],\n",
       "       [3.63915924e-03, 9.96360841e-01],\n",
       "       [2.95311065e-03, 9.97046889e-01],\n",
       "       [4.76197364e-03, 9.95238026e-01],\n",
       "       [2.82897774e-03, 9.97171022e-01],\n",
       "       [3.77090030e-03, 9.96229100e-01],\n",
       "       [3.84941174e-03, 9.96150588e-01],\n",
       "       [2.78664721e-03, 9.97213353e-01],\n",
       "       [3.02806576e-06, 9.99996972e-01],\n",
       "       [1.32576516e-02, 9.86742348e-01],\n",
       "       [4.16697346e-03, 9.95833027e-01],\n",
       "       [3.48023283e-03, 9.96519767e-01],\n",
       "       [3.59495773e-03, 9.96405042e-01],\n",
       "       [2.82490277e-03, 9.97175097e-01],\n",
       "       [1.43130434e-02, 9.85686957e-01],\n",
       "       [1.34434609e-02, 9.86556539e-01],\n",
       "       [5.55224429e-06, 9.99994448e-01],\n",
       "       [3.91538581e-03, 9.96084614e-01],\n",
       "       [3.27534679e-03, 9.96724653e-01],\n",
       "       [1.15569619e-02, 9.88443038e-01],\n",
       "       [4.30581781e-06, 9.99995694e-01],\n",
       "       [1.79473458e-05, 9.99982053e-01],\n",
       "       [3.10033451e-03, 9.96899665e-01],\n",
       "       [4.23667458e-03, 9.95763325e-01],\n",
       "       [1.58345940e-02, 9.84165406e-01],\n",
       "       [3.05262912e-03, 9.96947371e-01],\n",
       "       [1.35989021e-02, 9.86401098e-01],\n",
       "       [3.22993820e-06, 9.99996770e-01],\n",
       "       [5.23815794e-03, 9.94761842e-01],\n",
       "       [1.45506582e-02, 9.85449342e-01],\n",
       "       [4.39044060e-03, 9.95609559e-01],\n",
       "       [4.87027203e-03, 9.95129728e-01],\n",
       "       [4.44157165e-03, 9.95558428e-01],\n",
       "       [3.67429214e-03, 9.96325708e-01],\n",
       "       [3.68628236e-03, 9.96313718e-01],\n",
       "       [1.82474737e-02, 9.81752526e-01],\n",
       "       [3.98767540e-03, 9.96012325e-01],\n",
       "       [5.15057098e-03, 9.94849429e-01],\n",
       "       [3.19317304e-03, 9.96806827e-01],\n",
       "       [1.18822612e-02, 9.88117739e-01],\n",
       "       [4.35970918e-03, 9.95640291e-01],\n",
       "       [1.47391963e-02, 9.85260804e-01],\n",
       "       [1.77729482e-02, 9.82227052e-01],\n",
       "       [3.34837318e-03, 9.96651627e-01],\n",
       "       [3.79177157e-03, 9.96208228e-01],\n",
       "       [3.92048392e-03, 9.96079516e-01],\n",
       "       [2.10956162e-06, 9.99997890e-01],\n",
       "       [4.73793075e-03, 9.95262069e-01],\n",
       "       [6.23669829e-06, 9.99993763e-01],\n",
       "       [6.30124494e-06, 9.99993699e-01],\n",
       "       [3.81734346e-03, 9.96182657e-01],\n",
       "       [4.61875343e-03, 9.95381247e-01],\n",
       "       [1.39949738e-02, 9.86005026e-01],\n",
       "       [4.95799020e-03, 9.95042010e-01],\n",
       "       [3.54254988e-03, 9.96457450e-01],\n",
       "       [1.41929012e-02, 9.85807099e-01],\n",
       "       [4.99895675e-03, 9.95001043e-01],\n",
       "       [1.38994108e-02, 9.86100589e-01],\n",
       "       [3.56647317e-03, 9.96433527e-01],\n",
       "       [4.20536975e-03, 9.95794630e-01],\n",
       "       [2.93003833e-03, 9.97069962e-01],\n",
       "       [3.80625526e-03, 9.96193745e-01],\n",
       "       [4.01833605e-03, 9.95981664e-01],\n",
       "       [5.57753780e-06, 9.99994422e-01],\n",
       "       [4.15094741e-03, 9.95849053e-01],\n",
       "       [1.38604052e-02, 9.86139595e-01],\n",
       "       [3.36597294e-03, 9.96634027e-01],\n",
       "       [4.50788099e-03, 9.95492119e-01],\n",
       "       [1.35327857e-02, 9.86467214e-01],\n",
       "       [1.38544590e-02, 9.86145541e-01],\n",
       "       [3.37087932e-03, 9.96629121e-01],\n",
       "       [6.01737180e-06, 9.99993983e-01],\n",
       "       [4.34167375e-03, 9.95658326e-01],\n",
       "       [1.13805962e-02, 9.88619404e-01],\n",
       "       [1.23937423e-02, 9.87606258e-01],\n",
       "       [1.33192377e-02, 9.86680762e-01],\n",
       "       [3.60814664e-03, 9.96391853e-01],\n",
       "       [3.93193860e-03, 9.96068061e-01],\n",
       "       [1.38190543e-02, 9.86180946e-01],\n",
       "       [1.43198936e-02, 9.85680106e-01],\n",
       "       [1.32465645e-05, 9.99986753e-01],\n",
       "       [4.42522327e-03, 9.95574777e-01]])"
      ]
     },
     "execution_count": 33,
     "metadata": {},
     "output_type": "execute_result"
    }
   ],
   "source": [
    "predictions"
   ]
  },
  {
   "cell_type": "markdown",
   "metadata": {},
   "source": [
    "# Analyzing PCA\n",
    "Features have been extracted using Inceptionresnetv2\n"
   ]
  },
  {
   "cell_type": "code",
   "execution_count": 4,
   "metadata": {},
   "outputs": [],
   "source": [
    "df_train, df_test = train_test_split(df_features)\n",
    "pca = PCA(n_components=50)           \n",
    "data = pca.fit_transform(df_train)"
   ]
  },
  {
   "cell_type": "code",
   "execution_count": 5,
   "metadata": {},
   "outputs": [
    {
     "name": "stderr",
     "output_type": "stream",
     "text": [
      "/home/mila/g/gauthies/.conda/envs/ultra/lib/python3.7/site-packages/ipykernel/ipkernel.py:287: DeprecationWarning: `should_run_async` will not call `transform_cell` automatically in the future. Please pass the result to `transformed_cell` argument and any exception that happen during thetransform in `preprocessing_exc_tuple` in IPython 7.17 and above.\n",
      "  and should_run_async(code)\n"
     ]
    },
    {
     "data": {
      "image/png": "[encoded data removed]",
      "text/plain": [
       "<Figure size 432x288 with 1 Axes>"
      ]
     },
     "metadata": {
      "needs_background": "light"
     },
     "output_type": "display_data"
    }
   ],
   "source": [
    "plt.plot(np.insert(pca.explained_variance_ratio_.cumsum(),0,0),marker='o')\n",
    "plt.xlabel('Number of components')\n",
    "plt.ylabel('Cumulative explained variance')\n",
    "plt.show()"
   ]
  },
  {
   "cell_type": "code",
   "execution_count": 6,
   "metadata": {},
   "outputs": [
    {
     "name": "stdout",
     "output_type": "stream",
     "text": [
      "[0.3430633  0.49105203 0.55692321 0.60229875 0.63228666 0.65275144\n",
      " 0.6713053  0.68744978 0.7027996  0.71459909 0.72563718 0.73518933\n",
      " 0.74390688 0.75191367 0.75894645 0.76579792 0.77245627 0.77844684\n",
      " 0.7841555  0.78950661 0.79475947 0.79960549 0.80427064 0.80868848\n",
      " 0.81296554 0.81693465 0.82080257 0.82444982 0.82796023 0.83132771\n",
      " 0.83445774 0.83744767 0.84030821 0.84304424 0.84563005 0.84811584\n",
      " 0.85056981 0.85289526 0.8551713  0.85740261 0.85958179 0.86172626\n",
      " 0.86371904 0.86559859 0.86739478 0.86911176 0.87082238 0.87247056\n",
      " 0.8740866  0.87563764]\n"
     ]
    },
    {
     "name": "stderr",
     "output_type": "stream",
     "text": [
      "/home/mila/g/gauthies/.conda/envs/ultra/lib/python3.7/site-packages/ipykernel/ipkernel.py:287: DeprecationWarning: `should_run_async` will not call `transform_cell` automatically in the future. Please pass the result to `transformed_cell` argument and any exception that happen during thetransform in `preprocessing_exc_tuple` in IPython 7.17 and above.\n",
      "  and should_run_async(code)\n"
     ]
    }
   ],
   "source": [
    "print(pca.explained_variance_ratio_.cumsum())"
   ]
  },
  {
   "cell_type": "code",
   "execution_count": null,
   "metadata": {},
   "outputs": [],
   "source": []
  }
 ],
 "metadata": {
  "accelerator": "GPU",
  "colab": {
   "collapsed_sections": [],
   "name": "Transfer learning with deep convolutional neural network for liver steatosis assessment in ultrasound images Reproducibility with Scatterin.ipynb",
   "provenance": [],
   "toc_visible": true
  },
  "kernelspec": {
   "display_name": "Python 3 (ultra)",
   "language": "python",
   "name": "ultra"
  },
  "language_info": {
   "codemirror_mode": {
    "name": "ipython",
    "version": 3
   },
   "file_extension": ".py",
   "mimetype": "text/x-python",
   "name": "python",
   "nbconvert_exporter": "python",
   "pygments_lexer": "ipython3",
   "version": "3.7.0"
  }
 },
 "nbformat": 4,
 "nbformat_minor": 4
}
