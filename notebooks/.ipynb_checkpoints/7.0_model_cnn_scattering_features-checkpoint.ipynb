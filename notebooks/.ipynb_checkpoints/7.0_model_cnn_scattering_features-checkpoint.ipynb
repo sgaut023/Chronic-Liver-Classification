{
 "cells": [
  {
   "cell_type": "markdown",
   "metadata": {
    "colab_type": "text",
    "id": "ENoS3mTtGQts"
   },
   "source": [
    "# Experiment 5: Scattering Features + CNN Model\n",
    "\n",
    "\n"
   ]
  },
  {
   "cell_type": "code",
   "execution_count": 1,
   "metadata": {
    "colab": {},
    "colab_type": "code",
    "id": "ptO9fUvkD-Lc"
   },
   "outputs": [],
   "source": [
    "import sys\n",
    "sys.path.append('../src')\n",
    "\n",
    "\n",
    "from utils.reduce import reduce_pca\n",
    "from utils.split import train_test_split, train_test_split_pytorch\n",
    "from utils.UltrasoundDataset import UltrasoundDataset\n",
    "from utils.Networks import  BasicBlock, Scattering2dResNet\n",
    "from torch.utils.data import Dataset, DataLoader\n",
    "import torch.nn.functional as F\n",
    "from torch.autograd import Variable\n",
    "from kymatio.torch import Scattering2D\n",
    "import argparse\n",
    "import torch.nn as nn\n",
    "import torch.nn.functional as F\n",
    "import torchvision.transforms as transforms\n",
    "import torch.optim\n",
    "import pickle\n",
    "import pandas as pd\n",
    "import numpy as np\n",
    "import mlflow\n",
    "import matplotlib.pyplot as plt"
   ]
  },
  {
   "cell_type": "code",
   "execution_count": 77,
   "metadata": {},
   "outputs": [
    {
     "name": "stdout",
     "output_type": "stream",
     "text": [
      "INFO: 'scattering_cnn_experiment' does not exist. Creating a new experiment\n"
     ]
    }
   ],
   "source": [
    "# create an experiment in mlruns if doesn't exit and specifiy where to log\n",
    "mlflow.set_experiment('scattering_cnn_experiment')"
   ]
  },
  {
   "cell_type": "markdown",
   "metadata": {
    "colab_type": "text",
    "id": "731ett2LeCqH"
   },
   "source": [
    "## Upload Ultrasound images"
   ]
  },
  {
   "cell_type": "code",
   "execution_count": 80,
   "metadata": {},
   "outputs": [],
   "source": [
    "with open('../data/02_interim/bmodes_steatosis_assessment_IJCARS.pickle', 'rb') as handle:\n",
    "    df = pickle.load(handle)\n",
    "M, N= 434, 636 # ultrasound image dimension\n",
    "# split training and test (by making sure the 10 ultrasound images of one patient is in the same set)\n",
    "train_data, test_data = train_test_split(df)\n",
    "train_data, val_data = train_test_split(train_data)"
   ]
  },
  {
   "cell_type": "code",
   "execution_count": 9,
   "metadata": {},
   "outputs": [],
   "source": [
    "###############################################################################\n",
    "# If a GPU is available, let's use it!\n",
    "use_cuda = torch.cuda.is_available()\n",
    "device = torch.device(\"cuda\" if use_cuda else \"cpu\")\n",
    "###############################################################################"
   ]
  },
  {
   "cell_type": "markdown",
   "metadata": {},
   "source": [
    "# Create dataset"
   ]
  },
  {
   "cell_type": "code",
   "execution_count": 82,
   "metadata": {},
   "outputs": [],
   "source": [
    "# create dataset\n",
    "# from https://github.com/python-engineer/pytorchTutorial/blob/master/09_dataloader.py\n",
    "\n",
    "train_dataset = UltrasoundDataset(train_data)\n",
    "test_dataset  = UltrasoundDataset(test_data)\n",
    "val_dataset  = UltrasoundDataset(val_data)"
   ]
  },
  {
   "cell_type": "code",
   "execution_count": 83,
   "metadata": {},
   "outputs": [],
   "source": [
    "def conv3x3(in_planes, out_planes, stride=1):\n",
    "    \"3x3 convolution with padding\"\n",
    "    # in_planes = in_channels\n",
    "    # out_planes = out_channels\n",
    "    return nn.Conv2d(in_planes, out_planes, kernel_size=10, stride=stride,\n",
    "                     padding=1, bias=False)\n"
   ]
  },
  {
   "cell_type": "markdown",
   "metadata": {},
   "source": [
    "## Defining scattering transformations"
   ]
  },
  {
   "cell_type": "code",
   "execution_count": 84,
   "metadata": {},
   "outputs": [],
   "source": [
    "# Set the parameters by cross-validation\n",
    "from itertools import product\n",
    "param_batch_size = [10, 20, 50]\n",
    "param_J = [2,3]\n",
    "param_max_order = [1,2]\n",
    "params = list(product(param_batch_size,param_J, param_max_order))\n"
   ]
  },
  {
   "cell_type": "markdown",
   "metadata": {},
   "source": [
    "## Training and Testing Functions"
   ]
  },
  {
   "cell_type": "code",
   "execution_count": 15,
   "metadata": {},
   "outputs": [
    {
     "name": "stderr",
     "output_type": "stream",
     "text": [
      "/home/mila/g/gauthies/.conda/envs/ultra/lib/python3.7/site-packages/ipykernel/ipkernel.py:287: DeprecationWarning: `should_run_async` will not call `transform_cell` automatically in the future. Please pass the result to `transformed_cell` argument and any exception that happen during thetransform in `preprocessing_exc_tuple` in IPython 7.17 and above.\n",
      "  and should_run_async(code)\n"
     ]
    }
   ],
   "source": [
    "def train(model, device, train_loader, optimizer, epoch, scattering):\n",
    "    model.train()\n",
    "    for batch_idx, (data, target) in enumerate(train_loader):\n",
    "        data, target = data.to(device), target.to(device)\n",
    "        optimizer.zero_grad()\n",
    "        output = model(scattering(data))\n",
    "        loss = F.cross_entropy(output, target.type(torch.long))\n",
    "        loss.backward()\n",
    "        optimizer.step()\n",
    "        if batch_idx % 20 == 0:\n",
    "            print('Train Epoch: {} [{}/{} ({:.0f}%)]\\tLoss: {:.6f}'.format(\n",
    "                epoch, batch_idx * len(data), len(train_loader.dataset),\n",
    "                100. * batch_idx / len(train_loader), loss.item()))\n",
    "\n",
    "def test(model, device, test_loader, scattering):\n",
    "    model.eval()\n",
    "    test_loss = 0\n",
    "    correct = 0\n",
    "    with torch.no_grad():\n",
    "        for data, target in test_loader:\n",
    "            data, target = data.to(device), target.to(device)\n",
    "            output = model(scattering(data))\n",
    "            test_loss += F.cross_entropy(output, target.type(torch.long), reduction='sum').item() # sum up batch loss\n",
    "            pred = output.max(1, keepdim=True)[1] # get the index of the max log-probability\n",
    "            correct += pred.eq(target.view_as(pred)).sum().item()\n",
    "            print(pred)\n",
    "\n",
    "    test_loss /= len(test_loader.dataset)\n",
    "    print('\\nValidation set: Average loss: {:.4f}, Accuracy: {}/{} ({:.2f}%)\\n'.format(\n",
    "        test_loss, correct, len(test_loader.dataset),\n",
    "        100. * correct / len(test_loader.dataset)))\n",
    "    return test_loss, 100. * correct / len(test_loader.dataset)\n"
   ]
  },
  {
   "cell_type": "markdown",
   "metadata": {},
   "source": [
    "## Training"
   ]
  },
  {
   "cell_type": "code",
   "execution_count": 86,
   "metadata": {},
   "outputs": [
    {
     "name": "stderr",
     "output_type": "stream",
     "text": [
      "\n",
      "\n",
      "  0%|          | 0/50 [00:00<?, ?it/s]\u001b[A\u001b[A"
     ]
    },
    {
     "name": "stdout",
     "output_type": "stream",
     "text": [
      "Train Epoch: 1 [0/440 (0%)]\tLoss: 0.656500\n",
      "Train Epoch: 1 [200/440 (45%)]\tLoss: 0.688136\n",
      "Train Epoch: 1 [400/440 (91%)]\tLoss: 1.076102\n"
     ]
    },
    {
     "name": "stderr",
     "output_type": "stream",
     "text": [
      "\n",
      "\n",
      "  2%|▏         | 1/50 [00:11<08:59, 11.00s/it]\u001b[A\u001b[A"
     ]
    },
    {
     "name": "stdout",
     "output_type": "stream",
     "text": [
      "\n",
      "Validation set: Average loss: 0.7052, Accuracy: 30/50 (60.00%)\n",
      "\n",
      "Train Epoch: 2 [0/440 (0%)]\tLoss: 0.706304\n",
      "Train Epoch: 2 [200/440 (45%)]\tLoss: 0.572892\n",
      "Train Epoch: 2 [400/440 (91%)]\tLoss: 0.491799\n"
     ]
    },
    {
     "name": "stderr",
     "output_type": "stream",
     "text": [
      "\n",
      "\n",
      "  4%|▍         | 2/50 [00:22<08:50, 11.06s/it]\u001b[A\u001b[A"
     ]
    },
    {
     "name": "stdout",
     "output_type": "stream",
     "text": [
      "\n",
      "Validation set: Average loss: 0.4883, Accuracy: 40/50 (80.00%)\n",
      "\n",
      "Train Epoch: 3 [0/440 (0%)]\tLoss: 0.629821\n",
      "Train Epoch: 3 [200/440 (45%)]\tLoss: 0.509411\n",
      "Train Epoch: 3 [400/440 (91%)]\tLoss: 0.590634\n"
     ]
    },
    {
     "name": "stderr",
     "output_type": "stream",
     "text": [
      "\n",
      "\n",
      "  6%|▌         | 3/50 [00:33<08:42, 11.13s/it]\u001b[A\u001b[A"
     ]
    },
    {
     "name": "stdout",
     "output_type": "stream",
     "text": [
      "\n",
      "Validation set: Average loss: 0.4780, Accuracy: 40/50 (80.00%)\n",
      "\n",
      "Train Epoch: 4 [0/440 (0%)]\tLoss: 0.460391\n",
      "Train Epoch: 4 [200/440 (45%)]\tLoss: 0.525140\n",
      "Train Epoch: 4 [400/440 (91%)]\tLoss: 0.551462\n"
     ]
    },
    {
     "name": "stderr",
     "output_type": "stream",
     "text": [
      "\n",
      "\n",
      "  8%|▊         | 4/50 [00:44<08:33, 11.17s/it]\u001b[A\u001b[A"
     ]
    },
    {
     "name": "stdout",
     "output_type": "stream",
     "text": [
      "\n",
      "Validation set: Average loss: 0.4756, Accuracy: 40/50 (80.00%)\n",
      "\n",
      "Train Epoch: 5 [0/440 (0%)]\tLoss: 0.630259\n",
      "Train Epoch: 5 [200/440 (45%)]\tLoss: 0.609683\n",
      "Train Epoch: 5 [400/440 (91%)]\tLoss: 0.705499\n"
     ]
    },
    {
     "name": "stderr",
     "output_type": "stream",
     "text": [
      "\n",
      "\n",
      " 10%|█         | 5/50 [00:56<08:24, 11.20s/it]\u001b[A\u001b[A"
     ]
    },
    {
     "name": "stdout",
     "output_type": "stream",
     "text": [
      "\n",
      "Validation set: Average loss: 0.4763, Accuracy: 40/50 (80.00%)\n",
      "\n",
      "Train Epoch: 6 [0/440 (0%)]\tLoss: 0.655753\n",
      "Train Epoch: 6 [200/440 (45%)]\tLoss: 0.674842\n",
      "Train Epoch: 6 [400/440 (91%)]\tLoss: 0.596839\n"
     ]
    },
    {
     "name": "stderr",
     "output_type": "stream",
     "text": [
      "\n",
      "\n",
      " 12%|█▏        | 6/50 [01:07<08:13, 11.23s/it]\u001b[A\u001b[A"
     ]
    },
    {
     "name": "stdout",
     "output_type": "stream",
     "text": [
      "\n",
      "Validation set: Average loss: 0.4773, Accuracy: 40/50 (80.00%)\n",
      "\n",
      "Train Epoch: 7 [0/440 (0%)]\tLoss: 0.502885\n",
      "Train Epoch: 7 [200/440 (45%)]\tLoss: 0.645199\n",
      "Train Epoch: 7 [400/440 (91%)]\tLoss: 0.526128\n"
     ]
    },
    {
     "name": "stderr",
     "output_type": "stream",
     "text": [
      "\n",
      "\n",
      " 14%|█▍        | 7/50 [01:18<08:03, 11.24s/it]\u001b[A\u001b[A"
     ]
    },
    {
     "name": "stdout",
     "output_type": "stream",
     "text": [
      "\n",
      "Validation set: Average loss: 0.4769, Accuracy: 40/50 (80.00%)\n",
      "\n",
      "Train Epoch: 8 [0/440 (0%)]\tLoss: 0.442065\n",
      "Train Epoch: 8 [200/440 (45%)]\tLoss: 0.538824\n",
      "Train Epoch: 8 [400/440 (91%)]\tLoss: 0.593284\n"
     ]
    },
    {
     "name": "stderr",
     "output_type": "stream",
     "text": [
      "\n",
      "\n",
      " 16%|█▌        | 8/50 [01:29<07:53, 11.26s/it]\u001b[A\u001b[A"
     ]
    },
    {
     "name": "stdout",
     "output_type": "stream",
     "text": [
      "\n",
      "Validation set: Average loss: 0.4778, Accuracy: 40/50 (80.00%)\n",
      "\n",
      "Train Epoch: 9 [0/440 (0%)]\tLoss: 0.327859\n",
      "Train Epoch: 9 [200/440 (45%)]\tLoss: 0.535439\n",
      "Train Epoch: 9 [400/440 (91%)]\tLoss: 0.483626\n"
     ]
    },
    {
     "name": "stderr",
     "output_type": "stream",
     "text": [
      "\n",
      "\n",
      " 18%|█▊        | 9/50 [01:41<07:42, 11.28s/it]\u001b[A\u001b[A"
     ]
    },
    {
     "name": "stdout",
     "output_type": "stream",
     "text": [
      "\n",
      "Validation set: Average loss: 0.4778, Accuracy: 40/50 (80.00%)\n",
      "\n",
      "Train Epoch: 10 [0/440 (0%)]\tLoss: 0.884669\n",
      "Train Epoch: 10 [200/440 (45%)]\tLoss: 0.678735\n",
      "Train Epoch: 10 [400/440 (91%)]\tLoss: 0.599810\n"
     ]
    },
    {
     "name": "stderr",
     "output_type": "stream",
     "text": [
      "\n",
      "\n",
      " 20%|██        | 10/50 [01:52<07:31, 11.28s/it]\u001b[A\u001b[A"
     ]
    },
    {
     "name": "stdout",
     "output_type": "stream",
     "text": [
      "\n",
      "Validation set: Average loss: 0.4778, Accuracy: 40/50 (80.00%)\n",
      "\n",
      "Train Epoch: 11 [0/440 (0%)]\tLoss: 0.599683\n",
      "Train Epoch: 11 [200/440 (45%)]\tLoss: 0.464562\n",
      "Train Epoch: 11 [400/440 (91%)]\tLoss: 0.723758\n"
     ]
    },
    {
     "name": "stderr",
     "output_type": "stream",
     "text": [
      "\n",
      "\n",
      " 22%|██▏       | 11/50 [02:03<07:20, 11.29s/it]\u001b[A\u001b[A"
     ]
    },
    {
     "name": "stdout",
     "output_type": "stream",
     "text": [
      "\n",
      "Validation set: Average loss: 0.4776, Accuracy: 40/50 (80.00%)\n",
      "\n",
      "Train Epoch: 12 [0/440 (0%)]\tLoss: 0.682117\n",
      "Train Epoch: 12 [200/440 (45%)]\tLoss: 0.333611\n",
      "Train Epoch: 12 [400/440 (91%)]\tLoss: 0.584719\n"
     ]
    },
    {
     "name": "stderr",
     "output_type": "stream",
     "text": [
      "\n",
      "\n",
      " 24%|██▍       | 12/50 [02:15<07:09, 11.30s/it]\u001b[A\u001b[A"
     ]
    },
    {
     "name": "stdout",
     "output_type": "stream",
     "text": [
      "\n",
      "Validation set: Average loss: 0.4765, Accuracy: 40/50 (80.00%)\n",
      "\n",
      "Train Epoch: 13 [0/440 (0%)]\tLoss: 0.587285\n",
      "Train Epoch: 13 [200/440 (45%)]\tLoss: 0.411828\n",
      "Train Epoch: 13 [400/440 (91%)]\tLoss: 0.693693\n"
     ]
    },
    {
     "name": "stderr",
     "output_type": "stream",
     "text": [
      "\n",
      "\n",
      " 26%|██▌       | 13/50 [02:26<06:58, 11.30s/it]\u001b[A\u001b[A"
     ]
    },
    {
     "name": "stdout",
     "output_type": "stream",
     "text": [
      "\n",
      "Validation set: Average loss: 0.4768, Accuracy: 40/50 (80.00%)\n",
      "\n",
      "Train Epoch: 14 [0/440 (0%)]\tLoss: 0.505220\n",
      "Train Epoch: 14 [200/440 (45%)]\tLoss: 0.658187\n",
      "Train Epoch: 14 [400/440 (91%)]\tLoss: 0.548245\n"
     ]
    },
    {
     "name": "stderr",
     "output_type": "stream",
     "text": [
      "\n",
      "\n",
      " 28%|██▊       | 14/50 [02:37<06:46, 11.30s/it]\u001b[A\u001b[A"
     ]
    },
    {
     "name": "stdout",
     "output_type": "stream",
     "text": [
      "\n",
      "Validation set: Average loss: 0.4767, Accuracy: 40/50 (80.00%)\n",
      "\n",
      "Train Epoch: 15 [0/440 (0%)]\tLoss: 0.532130\n",
      "Train Epoch: 15 [200/440 (45%)]\tLoss: 0.756740\n",
      "Train Epoch: 15 [400/440 (91%)]\tLoss: 0.670671\n"
     ]
    },
    {
     "name": "stderr",
     "output_type": "stream",
     "text": [
      "\n",
      "\n",
      " 30%|███       | 15/50 [02:49<06:35, 11.30s/it]\u001b[A\u001b[A"
     ]
    },
    {
     "name": "stdout",
     "output_type": "stream",
     "text": [
      "\n",
      "Validation set: Average loss: 0.4769, Accuracy: 40/50 (80.00%)\n",
      "\n",
      "Train Epoch: 16 [0/440 (0%)]\tLoss: 0.537274\n",
      "Train Epoch: 16 [200/440 (45%)]\tLoss: 0.781391\n",
      "Train Epoch: 16 [400/440 (91%)]\tLoss: 0.543323\n"
     ]
    },
    {
     "name": "stderr",
     "output_type": "stream",
     "text": [
      "\n",
      "\n",
      " 32%|███▏      | 16/50 [03:00<06:23, 11.29s/it]\u001b[A\u001b[A"
     ]
    },
    {
     "name": "stdout",
     "output_type": "stream",
     "text": [
      "\n",
      "Validation set: Average loss: 0.4774, Accuracy: 40/50 (80.00%)\n",
      "\n",
      "Train Epoch: 17 [0/440 (0%)]\tLoss: 0.774138\n",
      "Train Epoch: 17 [200/440 (45%)]\tLoss: 0.625387\n",
      "Train Epoch: 17 [400/440 (91%)]\tLoss: 0.595711\n"
     ]
    },
    {
     "name": "stderr",
     "output_type": "stream",
     "text": [
      "\n",
      "\n",
      " 34%|███▍      | 17/50 [03:11<06:12, 11.29s/it]\u001b[A\u001b[A"
     ]
    },
    {
     "name": "stdout",
     "output_type": "stream",
     "text": [
      "\n",
      "Validation set: Average loss: 0.4764, Accuracy: 40/50 (80.00%)\n",
      "\n",
      "Train Epoch: 18 [0/440 (0%)]\tLoss: 0.686389\n",
      "Train Epoch: 18 [200/440 (45%)]\tLoss: 0.603638\n",
      "Train Epoch: 18 [400/440 (91%)]\tLoss: 0.496403\n"
     ]
    },
    {
     "name": "stderr",
     "output_type": "stream",
     "text": [
      "\n",
      "\n",
      " 36%|███▌      | 18/50 [03:22<06:01, 11.29s/it]\u001b[A\u001b[A"
     ]
    },
    {
     "name": "stdout",
     "output_type": "stream",
     "text": [
      "\n",
      "Validation set: Average loss: 0.4766, Accuracy: 40/50 (80.00%)\n",
      "\n",
      "Train Epoch: 19 [0/440 (0%)]\tLoss: 0.575006\n",
      "Train Epoch: 19 [200/440 (45%)]\tLoss: 0.511387\n",
      "Train Epoch: 19 [400/440 (91%)]\tLoss: 0.748976\n"
     ]
    },
    {
     "name": "stderr",
     "output_type": "stream",
     "text": [
      "\n",
      "\n",
      " 38%|███▊      | 19/50 [03:34<05:49, 11.29s/it]\u001b[A\u001b[A"
     ]
    },
    {
     "name": "stdout",
     "output_type": "stream",
     "text": [
      "\n",
      "Validation set: Average loss: 0.4783, Accuracy: 40/50 (80.00%)\n",
      "\n",
      "Train Epoch: 20 [0/440 (0%)]\tLoss: 0.507228\n",
      "Train Epoch: 20 [200/440 (45%)]\tLoss: 0.503350\n",
      "Train Epoch: 20 [400/440 (91%)]\tLoss: 0.356678\n"
     ]
    },
    {
     "name": "stderr",
     "output_type": "stream",
     "text": [
      "\n",
      "\n",
      " 40%|████      | 20/50 [03:45<05:38, 11.29s/it]\u001b[A\u001b[A"
     ]
    },
    {
     "name": "stdout",
     "output_type": "stream",
     "text": [
      "\n",
      "Validation set: Average loss: 0.4767, Accuracy: 40/50 (80.00%)\n",
      "\n",
      "Train Epoch: 21 [0/440 (0%)]\tLoss: 0.605198\n",
      "Train Epoch: 21 [200/440 (45%)]\tLoss: 0.431601\n",
      "Train Epoch: 21 [400/440 (91%)]\tLoss: 0.411107\n"
     ]
    },
    {
     "name": "stderr",
     "output_type": "stream",
     "text": [
      "\n",
      "\n",
      " 42%|████▏     | 21/50 [03:56<05:27, 11.29s/it]\u001b[A\u001b[A"
     ]
    },
    {
     "name": "stdout",
     "output_type": "stream",
     "text": [
      "\n",
      "Validation set: Average loss: 0.4764, Accuracy: 40/50 (80.00%)\n",
      "\n",
      "Train Epoch: 22 [0/440 (0%)]\tLoss: 0.439670\n",
      "Train Epoch: 22 [200/440 (45%)]\tLoss: 0.445150\n",
      "Train Epoch: 22 [400/440 (91%)]\tLoss: 0.351081\n"
     ]
    },
    {
     "name": "stderr",
     "output_type": "stream",
     "text": [
      "\n",
      "\n",
      " 44%|████▍     | 22/50 [04:08<05:16, 11.30s/it]\u001b[A\u001b[A"
     ]
    },
    {
     "name": "stdout",
     "output_type": "stream",
     "text": [
      "\n",
      "Validation set: Average loss: 0.4766, Accuracy: 40/50 (80.00%)\n",
      "\n",
      "Train Epoch: 23 [0/440 (0%)]\tLoss: 0.479949\n",
      "Train Epoch: 23 [200/440 (45%)]\tLoss: 0.647610\n",
      "Train Epoch: 23 [400/440 (91%)]\tLoss: 0.538160\n"
     ]
    },
    {
     "name": "stderr",
     "output_type": "stream",
     "text": [
      "\n",
      "\n",
      " 46%|████▌     | 23/50 [04:19<05:05, 11.30s/it]\u001b[A\u001b[A"
     ]
    },
    {
     "name": "stdout",
     "output_type": "stream",
     "text": [
      "\n",
      "Validation set: Average loss: 0.4775, Accuracy: 40/50 (80.00%)\n",
      "\n",
      "Train Epoch: 24 [0/440 (0%)]\tLoss: 0.792966\n",
      "Train Epoch: 24 [200/440 (45%)]\tLoss: 0.584199\n",
      "Train Epoch: 24 [400/440 (91%)]\tLoss: 0.618365\n"
     ]
    },
    {
     "name": "stderr",
     "output_type": "stream",
     "text": [
      "\n",
      "\n",
      " 48%|████▊     | 24/50 [04:30<04:54, 11.31s/it]\u001b[A\u001b[A"
     ]
    },
    {
     "name": "stdout",
     "output_type": "stream",
     "text": [
      "\n",
      "Validation set: Average loss: 0.4779, Accuracy: 40/50 (80.00%)\n",
      "\n",
      "Train Epoch: 25 [0/440 (0%)]\tLoss: 0.573494\n",
      "Train Epoch: 25 [200/440 (45%)]\tLoss: 0.713895\n",
      "Train Epoch: 25 [400/440 (91%)]\tLoss: 0.648735\n"
     ]
    },
    {
     "name": "stderr",
     "output_type": "stream",
     "text": [
      "\n",
      "\n",
      " 50%|█████     | 25/50 [04:42<04:42, 11.31s/it]\u001b[A\u001b[A"
     ]
    },
    {
     "name": "stdout",
     "output_type": "stream",
     "text": [
      "\n",
      "Validation set: Average loss: 0.4776, Accuracy: 40/50 (80.00%)\n",
      "\n",
      "Train Epoch: 26 [0/440 (0%)]\tLoss: 0.721576\n",
      "Train Epoch: 26 [200/440 (45%)]\tLoss: 0.546465\n",
      "Train Epoch: 26 [400/440 (91%)]\tLoss: 0.719401\n"
     ]
    },
    {
     "name": "stderr",
     "output_type": "stream",
     "text": [
      "\n",
      "\n",
      " 52%|█████▏    | 26/50 [04:53<04:31, 11.30s/it]\u001b[A\u001b[A"
     ]
    },
    {
     "name": "stdout",
     "output_type": "stream",
     "text": [
      "\n",
      "Validation set: Average loss: 0.4772, Accuracy: 40/50 (80.00%)\n",
      "\n",
      "Train Epoch: 27 [0/440 (0%)]\tLoss: 0.498965\n",
      "Train Epoch: 27 [200/440 (45%)]\tLoss: 0.658476\n",
      "Train Epoch: 27 [400/440 (91%)]\tLoss: 0.469715\n"
     ]
    },
    {
     "name": "stderr",
     "output_type": "stream",
     "text": [
      "\n",
      "\n",
      " 54%|█████▍    | 27/50 [05:04<04:19, 11.30s/it]\u001b[A\u001b[A"
     ]
    },
    {
     "name": "stdout",
     "output_type": "stream",
     "text": [
      "\n",
      "Validation set: Average loss: 0.4763, Accuracy: 40/50 (80.00%)\n",
      "\n",
      "Train Epoch: 28 [0/440 (0%)]\tLoss: 0.406488\n",
      "Train Epoch: 28 [200/440 (45%)]\tLoss: 0.587020\n",
      "Train Epoch: 28 [400/440 (91%)]\tLoss: 0.818707\n"
     ]
    },
    {
     "name": "stderr",
     "output_type": "stream",
     "text": [
      "\n",
      "\n",
      " 56%|█████▌    | 28/50 [05:15<04:08, 11.29s/it]\u001b[A\u001b[A"
     ]
    },
    {
     "name": "stdout",
     "output_type": "stream",
     "text": [
      "\n",
      "Validation set: Average loss: 0.4772, Accuracy: 40/50 (80.00%)\n",
      "\n",
      "Train Epoch: 29 [0/440 (0%)]\tLoss: 0.406689\n",
      "Train Epoch: 29 [200/440 (45%)]\tLoss: 0.682242\n",
      "Train Epoch: 29 [400/440 (91%)]\tLoss: 0.643947\n"
     ]
    },
    {
     "name": "stderr",
     "output_type": "stream",
     "text": [
      "\n",
      "\n",
      " 58%|█████▊    | 29/50 [05:27<03:57, 11.30s/it]\u001b[A\u001b[A"
     ]
    },
    {
     "name": "stdout",
     "output_type": "stream",
     "text": [
      "\n",
      "Validation set: Average loss: 0.4775, Accuracy: 40/50 (80.00%)\n",
      "\n",
      "Train Epoch: 30 [0/440 (0%)]\tLoss: 0.594077\n",
      "Train Epoch: 30 [200/440 (45%)]\tLoss: 0.733147\n",
      "Train Epoch: 30 [400/440 (91%)]\tLoss: 0.591790\n"
     ]
    },
    {
     "name": "stderr",
     "output_type": "stream",
     "text": [
      "\n",
      "\n",
      " 60%|██████    | 30/50 [05:38<03:45, 11.30s/it]\u001b[A\u001b[A"
     ]
    },
    {
     "name": "stdout",
     "output_type": "stream",
     "text": [
      "\n",
      "Validation set: Average loss: 0.4775, Accuracy: 40/50 (80.00%)\n",
      "\n",
      "Train Epoch: 31 [0/440 (0%)]\tLoss: 0.603821\n",
      "Train Epoch: 31 [200/440 (45%)]\tLoss: 0.698123\n",
      "Train Epoch: 31 [400/440 (91%)]\tLoss: 0.639937\n"
     ]
    },
    {
     "name": "stderr",
     "output_type": "stream",
     "text": [
      "\n",
      "\n",
      " 62%|██████▏   | 31/50 [05:49<03:34, 11.29s/it]\u001b[A\u001b[A"
     ]
    },
    {
     "name": "stdout",
     "output_type": "stream",
     "text": [
      "\n",
      "Validation set: Average loss: 0.4779, Accuracy: 40/50 (80.00%)\n",
      "\n",
      "Train Epoch: 32 [0/440 (0%)]\tLoss: 0.410261\n",
      "Train Epoch: 32 [200/440 (45%)]\tLoss: 0.689455\n",
      "Train Epoch: 32 [400/440 (91%)]\tLoss: 0.540506\n"
     ]
    },
    {
     "name": "stderr",
     "output_type": "stream",
     "text": [
      "\n",
      "\n",
      " 64%|██████▍   | 32/50 [06:01<03:23, 11.31s/it]\u001b[A\u001b[A"
     ]
    },
    {
     "name": "stdout",
     "output_type": "stream",
     "text": [
      "\n",
      "Validation set: Average loss: 0.4768, Accuracy: 40/50 (80.00%)\n",
      "\n",
      "Train Epoch: 33 [0/440 (0%)]\tLoss: 0.504025\n",
      "Train Epoch: 33 [200/440 (45%)]\tLoss: 0.640901\n",
      "Train Epoch: 33 [400/440 (91%)]\tLoss: 0.438971\n"
     ]
    },
    {
     "name": "stderr",
     "output_type": "stream",
     "text": [
      "\n",
      "\n",
      " 66%|██████▌   | 33/50 [06:12<03:12, 11.30s/it]\u001b[A\u001b[A"
     ]
    },
    {
     "name": "stdout",
     "output_type": "stream",
     "text": [
      "\n",
      "Validation set: Average loss: 0.4774, Accuracy: 40/50 (80.00%)\n",
      "\n",
      "Train Epoch: 34 [0/440 (0%)]\tLoss: 0.569192\n",
      "Train Epoch: 34 [200/440 (45%)]\tLoss: 0.894381\n",
      "Train Epoch: 34 [400/440 (91%)]\tLoss: 0.522420\n"
     ]
    },
    {
     "name": "stderr",
     "output_type": "stream",
     "text": [
      "\n",
      "\n",
      " 68%|██████▊   | 34/50 [06:23<03:00, 11.30s/it]\u001b[A\u001b[A"
     ]
    },
    {
     "name": "stdout",
     "output_type": "stream",
     "text": [
      "\n",
      "Validation set: Average loss: 0.4765, Accuracy: 40/50 (80.00%)\n",
      "\n",
      "Train Epoch: 35 [0/440 (0%)]\tLoss: 0.709994\n",
      "Train Epoch: 35 [200/440 (45%)]\tLoss: 0.345105\n",
      "Train Epoch: 35 [400/440 (91%)]\tLoss: 0.578889\n"
     ]
    },
    {
     "name": "stderr",
     "output_type": "stream",
     "text": [
      "\n",
      "\n",
      " 70%|███████   | 35/50 [06:34<02:49, 11.29s/it]\u001b[A\u001b[A"
     ]
    },
    {
     "name": "stdout",
     "output_type": "stream",
     "text": [
      "\n",
      "Validation set: Average loss: 0.4787, Accuracy: 40/50 (80.00%)\n",
      "\n",
      "Train Epoch: 36 [0/440 (0%)]\tLoss: 0.642761\n",
      "Train Epoch: 36 [200/440 (45%)]\tLoss: 0.548165\n",
      "Train Epoch: 36 [400/440 (91%)]\tLoss: 0.707166\n"
     ]
    },
    {
     "name": "stderr",
     "output_type": "stream",
     "text": [
      "\n",
      "\n",
      " 72%|███████▏  | 36/50 [06:46<02:38, 11.29s/it]\u001b[A\u001b[A"
     ]
    },
    {
     "name": "stdout",
     "output_type": "stream",
     "text": [
      "\n",
      "Validation set: Average loss: 0.4774, Accuracy: 40/50 (80.00%)\n",
      "\n",
      "Train Epoch: 37 [0/440 (0%)]\tLoss: 0.537891\n",
      "Train Epoch: 37 [200/440 (45%)]\tLoss: 0.741128\n",
      "Train Epoch: 37 [400/440 (91%)]\tLoss: 0.576563\n"
     ]
    },
    {
     "name": "stderr",
     "output_type": "stream",
     "text": [
      "\n",
      "\n",
      " 74%|███████▍  | 37/50 [06:57<02:26, 11.30s/it]\u001b[A\u001b[A"
     ]
    },
    {
     "name": "stdout",
     "output_type": "stream",
     "text": [
      "\n",
      "Validation set: Average loss: 0.4774, Accuracy: 40/50 (80.00%)\n",
      "\n",
      "Train Epoch: 38 [0/440 (0%)]\tLoss: 0.354455\n",
      "Train Epoch: 38 [200/440 (45%)]\tLoss: 0.548331\n",
      "Train Epoch: 38 [400/440 (91%)]\tLoss: 0.584866\n"
     ]
    },
    {
     "name": "stderr",
     "output_type": "stream",
     "text": [
      "\n",
      "\n",
      " 76%|███████▌  | 38/50 [07:08<02:15, 11.30s/it]\u001b[A\u001b[A"
     ]
    },
    {
     "name": "stdout",
     "output_type": "stream",
     "text": [
      "\n",
      "Validation set: Average loss: 0.4767, Accuracy: 40/50 (80.00%)\n",
      "\n",
      "Train Epoch: 39 [0/440 (0%)]\tLoss: 0.428177\n",
      "Train Epoch: 39 [200/440 (45%)]\tLoss: 0.772908\n",
      "Train Epoch: 39 [400/440 (91%)]\tLoss: 0.495993\n"
     ]
    },
    {
     "name": "stderr",
     "output_type": "stream",
     "text": [
      "\n",
      "\n",
      " 78%|███████▊  | 39/50 [07:20<02:04, 11.30s/it]\u001b[A\u001b[A"
     ]
    },
    {
     "name": "stdout",
     "output_type": "stream",
     "text": [
      "\n",
      "Validation set: Average loss: 0.4782, Accuracy: 40/50 (80.00%)\n",
      "\n",
      "Train Epoch: 40 [0/440 (0%)]\tLoss: 0.803445\n",
      "Train Epoch: 40 [200/440 (45%)]\tLoss: 0.659777\n",
      "Train Epoch: 40 [400/440 (91%)]\tLoss: 0.699807\n"
     ]
    },
    {
     "name": "stderr",
     "output_type": "stream",
     "text": [
      "\n",
      "\n",
      " 80%|████████  | 40/50 [07:31<01:52, 11.30s/it]\u001b[A\u001b[A"
     ]
    },
    {
     "name": "stdout",
     "output_type": "stream",
     "text": [
      "\n",
      "Validation set: Average loss: 0.4763, Accuracy: 40/50 (80.00%)\n",
      "\n",
      "Train Epoch: 41 [0/440 (0%)]\tLoss: 0.547672\n",
      "Train Epoch: 41 [200/440 (45%)]\tLoss: 0.500991\n",
      "Train Epoch: 41 [400/440 (91%)]\tLoss: 0.755599\n"
     ]
    },
    {
     "name": "stderr",
     "output_type": "stream",
     "text": [
      "\n",
      "\n",
      " 82%|████████▏ | 41/50 [07:42<01:41, 11.30s/it]\u001b[A\u001b[A"
     ]
    },
    {
     "name": "stdout",
     "output_type": "stream",
     "text": [
      "\n",
      "Validation set: Average loss: 0.4772, Accuracy: 40/50 (80.00%)\n",
      "\n",
      "Train Epoch: 42 [0/440 (0%)]\tLoss: 0.422770\n",
      "Train Epoch: 42 [200/440 (45%)]\tLoss: 0.590763\n",
      "Train Epoch: 42 [400/440 (91%)]\tLoss: 0.618682\n"
     ]
    },
    {
     "name": "stderr",
     "output_type": "stream",
     "text": [
      "\n",
      "\n",
      " 84%|████████▍ | 42/50 [07:54<01:30, 11.30s/it]\u001b[A\u001b[A"
     ]
    },
    {
     "name": "stdout",
     "output_type": "stream",
     "text": [
      "\n",
      "Validation set: Average loss: 0.4770, Accuracy: 40/50 (80.00%)\n",
      "\n",
      "Train Epoch: 43 [0/440 (0%)]\tLoss: 0.712301\n",
      "Train Epoch: 43 [200/440 (45%)]\tLoss: 0.674362\n",
      "Train Epoch: 43 [400/440 (91%)]\tLoss: 0.828495\n"
     ]
    },
    {
     "name": "stderr",
     "output_type": "stream",
     "text": [
      "\n",
      "\n",
      " 86%|████████▌ | 43/50 [08:05<01:19, 11.30s/it]\u001b[A\u001b[A"
     ]
    },
    {
     "name": "stdout",
     "output_type": "stream",
     "text": [
      "\n",
      "Validation set: Average loss: 0.4783, Accuracy: 40/50 (80.00%)\n",
      "\n",
      "Train Epoch: 44 [0/440 (0%)]\tLoss: 0.613761\n",
      "Train Epoch: 44 [200/440 (45%)]\tLoss: 0.625755\n",
      "Train Epoch: 44 [400/440 (91%)]\tLoss: 0.522031\n"
     ]
    },
    {
     "name": "stderr",
     "output_type": "stream",
     "text": [
      "\n",
      "\n",
      " 88%|████████▊ | 44/50 [08:16<01:07, 11.29s/it]\u001b[A\u001b[A"
     ]
    },
    {
     "name": "stdout",
     "output_type": "stream",
     "text": [
      "\n",
      "Validation set: Average loss: 0.4782, Accuracy: 40/50 (80.00%)\n",
      "\n",
      "Train Epoch: 45 [0/440 (0%)]\tLoss: 0.514253\n",
      "Train Epoch: 45 [200/440 (45%)]\tLoss: 0.341815\n",
      "Train Epoch: 45 [400/440 (91%)]\tLoss: 0.703017\n"
     ]
    },
    {
     "name": "stderr",
     "output_type": "stream",
     "text": [
      "\n",
      "\n",
      " 90%|█████████ | 45/50 [08:27<00:56, 11.30s/it]\u001b[A\u001b[A"
     ]
    },
    {
     "name": "stdout",
     "output_type": "stream",
     "text": [
      "\n",
      "Validation set: Average loss: 0.4778, Accuracy: 40/50 (80.00%)\n",
      "\n",
      "Train Epoch: 46 [0/440 (0%)]\tLoss: 0.510381\n",
      "Train Epoch: 46 [200/440 (45%)]\tLoss: 0.752176\n",
      "Train Epoch: 46 [400/440 (91%)]\tLoss: 0.551775\n"
     ]
    },
    {
     "name": "stderr",
     "output_type": "stream",
     "text": [
      "\n",
      "\n",
      " 92%|█████████▏| 46/50 [08:39<00:45, 11.30s/it]\u001b[A\u001b[A"
     ]
    },
    {
     "name": "stdout",
     "output_type": "stream",
     "text": [
      "\n",
      "Validation set: Average loss: 0.4769, Accuracy: 40/50 (80.00%)\n",
      "\n",
      "Train Epoch: 47 [0/440 (0%)]\tLoss: 0.793364\n",
      "Train Epoch: 47 [200/440 (45%)]\tLoss: 0.653042\n",
      "Train Epoch: 47 [400/440 (91%)]\tLoss: 0.668573\n"
     ]
    },
    {
     "name": "stderr",
     "output_type": "stream",
     "text": [
      "\n",
      "\n",
      " 94%|█████████▍| 47/50 [08:50<00:33, 11.29s/it]\u001b[A\u001b[A"
     ]
    },
    {
     "name": "stdout",
     "output_type": "stream",
     "text": [
      "\n",
      "Validation set: Average loss: 0.4775, Accuracy: 40/50 (80.00%)\n",
      "\n",
      "Train Epoch: 48 [0/440 (0%)]\tLoss: 0.418135\n",
      "Train Epoch: 48 [200/440 (45%)]\tLoss: 0.425171\n",
      "Train Epoch: 48 [400/440 (91%)]\tLoss: 0.397639\n"
     ]
    },
    {
     "name": "stderr",
     "output_type": "stream",
     "text": [
      "\n",
      "\n",
      " 96%|█████████▌| 48/50 [09:01<00:22, 11.29s/it]\u001b[A\u001b[A"
     ]
    },
    {
     "name": "stdout",
     "output_type": "stream",
     "text": [
      "\n",
      "Validation set: Average loss: 0.4769, Accuracy: 40/50 (80.00%)\n",
      "\n",
      "Train Epoch: 49 [0/440 (0%)]\tLoss: 0.434914\n",
      "Train Epoch: 49 [200/440 (45%)]\tLoss: 0.851038\n",
      "Train Epoch: 49 [400/440 (91%)]\tLoss: 0.766427\n"
     ]
    },
    {
     "name": "stderr",
     "output_type": "stream",
     "text": [
      "\n",
      "\n",
      " 98%|█████████▊| 49/50 [09:13<00:11, 11.30s/it]\u001b[A\u001b[A"
     ]
    },
    {
     "name": "stdout",
     "output_type": "stream",
     "text": [
      "\n",
      "Validation set: Average loss: 0.4774, Accuracy: 40/50 (80.00%)\n",
      "\n",
      "Train Epoch: 50 [0/440 (0%)]\tLoss: 0.552678\n",
      "Train Epoch: 50 [200/440 (45%)]\tLoss: 0.471768\n",
      "Train Epoch: 50 [400/440 (91%)]\tLoss: 0.567401\n"
     ]
    },
    {
     "name": "stderr",
     "output_type": "stream",
     "text": [
      "\n",
      "\n",
      "100%|██████████| 50/50 [09:24<00:00, 11.29s/it]\u001b[A\u001b[A"
     ]
    },
    {
     "name": "stdout",
     "output_type": "stream",
     "text": [
      "\n",
      "Validation set: Average loss: 0.4770, Accuracy: 40/50 (80.00%)\n",
      "\n"
     ]
    },
    {
     "name": "stderr",
     "output_type": "stream",
     "text": [
      "\n"
     ]
    },
    {
     "name": "stdout",
     "output_type": "stream",
     "text": [
      "\n",
      "Validation set: Average loss: 0.4770, Accuracy: 40/50 (80.00%)\n",
      "\n",
      "Combinaison Done\n"
     ]
    },
    {
     "name": "stderr",
     "output_type": "stream",
     "text": [
      "\n",
      "\n",
      "  0%|          | 0/50 [00:00<?, ?it/s]\u001b[A\u001b[A"
     ]
    },
    {
     "name": "stdout",
     "output_type": "stream",
     "text": [
      "Train Epoch: 1 [0/440 (0%)]\tLoss: 0.814133\n",
      "Train Epoch: 1 [200/440 (45%)]\tLoss: 0.441546\n",
      "Train Epoch: 1 [400/440 (91%)]\tLoss: 1.272950\n"
     ]
    },
    {
     "name": "stderr",
     "output_type": "stream",
     "text": [
      "\n",
      "\n",
      "  2%|▏         | 1/50 [00:15<12:25, 15.21s/it]\u001b[A\u001b[A"
     ]
    },
    {
     "name": "stdout",
     "output_type": "stream",
     "text": [
      "\n",
      "Validation set: Average loss: 0.4882, Accuracy: 40/50 (80.00%)\n",
      "\n",
      "Train Epoch: 2 [0/440 (0%)]\tLoss: 0.421387\n",
      "Train Epoch: 2 [200/440 (45%)]\tLoss: 0.676488\n",
      "Train Epoch: 2 [400/440 (91%)]\tLoss: 0.644243\n"
     ]
    },
    {
     "name": "stderr",
     "output_type": "stream",
     "text": [
      "\n",
      "\n",
      "  4%|▍         | 2/50 [00:30<12:11, 15.24s/it]\u001b[A\u001b[A"
     ]
    },
    {
     "name": "stdout",
     "output_type": "stream",
     "text": [
      "\n",
      "Validation set: Average loss: 0.4457, Accuracy: 50/50 (100.00%)\n",
      "\n",
      "Train Epoch: 3 [0/440 (0%)]\tLoss: 0.542386\n",
      "Train Epoch: 3 [200/440 (45%)]\tLoss: 0.711629\n",
      "Train Epoch: 3 [400/440 (91%)]\tLoss: 0.447315\n"
     ]
    },
    {
     "name": "stderr",
     "output_type": "stream",
     "text": [
      "\n",
      "\n",
      "  6%|▌         | 3/50 [00:45<11:57, 15.27s/it]\u001b[A\u001b[A"
     ]
    },
    {
     "name": "stdout",
     "output_type": "stream",
     "text": [
      "\n",
      "Validation set: Average loss: 0.4278, Accuracy: 47/50 (94.00%)\n",
      "\n",
      "Train Epoch: 4 [0/440 (0%)]\tLoss: 0.448402\n",
      "Train Epoch: 4 [200/440 (45%)]\tLoss: 0.379734\n",
      "Train Epoch: 4 [400/440 (91%)]\tLoss: 0.579405\n"
     ]
    },
    {
     "name": "stderr",
     "output_type": "stream",
     "text": [
      "\n",
      "\n",
      "  8%|▊         | 4/50 [01:01<11:43, 15.30s/it]\u001b[A\u001b[A"
     ]
    },
    {
     "name": "stdout",
     "output_type": "stream",
     "text": [
      "\n",
      "Validation set: Average loss: 0.3951, Accuracy: 50/50 (100.00%)\n",
      "\n",
      "Train Epoch: 5 [0/440 (0%)]\tLoss: 0.331552\n",
      "Train Epoch: 5 [200/440 (45%)]\tLoss: 0.524978\n",
      "Train Epoch: 5 [400/440 (91%)]\tLoss: 0.331700\n"
     ]
    },
    {
     "name": "stderr",
     "output_type": "stream",
     "text": [
      "\n",
      "\n",
      " 10%|█         | 5/50 [01:16<11:28, 15.31s/it]\u001b[A\u001b[A"
     ]
    },
    {
     "name": "stdout",
     "output_type": "stream",
     "text": [
      "\n",
      "Validation set: Average loss: 0.3942, Accuracy: 50/50 (100.00%)\n",
      "\n",
      "Train Epoch: 6 [0/440 (0%)]\tLoss: 0.569950\n",
      "Train Epoch: 6 [200/440 (45%)]\tLoss: 0.488553\n",
      "Train Epoch: 6 [400/440 (91%)]\tLoss: 0.447465\n"
     ]
    },
    {
     "name": "stderr",
     "output_type": "stream",
     "text": [
      "\n",
      "\n",
      " 12%|█▏        | 6/50 [01:31<11:13, 15.31s/it]\u001b[A\u001b[A"
     ]
    },
    {
     "name": "stdout",
     "output_type": "stream",
     "text": [
      "\n",
      "Validation set: Average loss: 0.3964, Accuracy: 49/50 (98.00%)\n",
      "\n",
      "Train Epoch: 7 [0/440 (0%)]\tLoss: 0.395716\n",
      "Train Epoch: 7 [200/440 (45%)]\tLoss: 0.597631\n",
      "Train Epoch: 7 [400/440 (91%)]\tLoss: 0.382922\n"
     ]
    },
    {
     "name": "stderr",
     "output_type": "stream",
     "text": [
      "\n",
      "\n",
      " 14%|█▍        | 7/50 [01:47<10:58, 15.32s/it]\u001b[A\u001b[A"
     ]
    },
    {
     "name": "stdout",
     "output_type": "stream",
     "text": [
      "\n",
      "Validation set: Average loss: 0.3953, Accuracy: 50/50 (100.00%)\n",
      "\n",
      "Train Epoch: 8 [0/440 (0%)]\tLoss: 0.712599\n",
      "Train Epoch: 8 [200/440 (45%)]\tLoss: 0.590599\n",
      "Train Epoch: 8 [400/440 (91%)]\tLoss: 0.588500\n"
     ]
    },
    {
     "name": "stderr",
     "output_type": "stream",
     "text": [
      "\n",
      "\n",
      " 16%|█▌        | 8/50 [02:02<10:43, 15.32s/it]\u001b[A\u001b[A"
     ]
    },
    {
     "name": "stdout",
     "output_type": "stream",
     "text": [
      "\n",
      "Validation set: Average loss: 0.3967, Accuracy: 49/50 (98.00%)\n",
      "\n",
      "Train Epoch: 9 [0/440 (0%)]\tLoss: 0.577419\n",
      "Train Epoch: 9 [200/440 (45%)]\tLoss: 0.525855\n",
      "Train Epoch: 9 [400/440 (91%)]\tLoss: 0.442347\n"
     ]
    },
    {
     "name": "stderr",
     "output_type": "stream",
     "text": [
      "\n",
      "\n",
      " 18%|█▊        | 9/50 [02:17<10:28, 15.33s/it]\u001b[A\u001b[A"
     ]
    },
    {
     "name": "stdout",
     "output_type": "stream",
     "text": [
      "\n",
      "Validation set: Average loss: 0.3961, Accuracy: 50/50 (100.00%)\n",
      "\n",
      "Train Epoch: 10 [0/440 (0%)]\tLoss: 0.429249\n",
      "Train Epoch: 10 [200/440 (45%)]\tLoss: 0.420469\n",
      "Train Epoch: 10 [400/440 (91%)]\tLoss: 0.421375\n"
     ]
    },
    {
     "name": "stderr",
     "output_type": "stream",
     "text": [
      "\n",
      "\n",
      " 20%|██        | 10/50 [02:33<10:13, 15.33s/it]\u001b[A\u001b[A"
     ]
    },
    {
     "name": "stdout",
     "output_type": "stream",
     "text": [
      "\n",
      "Validation set: Average loss: 0.3963, Accuracy: 50/50 (100.00%)\n",
      "\n",
      "Train Epoch: 11 [0/440 (0%)]\tLoss: 0.395610\n",
      "Train Epoch: 11 [200/440 (45%)]\tLoss: 0.714259\n",
      "Train Epoch: 11 [400/440 (91%)]\tLoss: 0.547562\n"
     ]
    },
    {
     "name": "stderr",
     "output_type": "stream",
     "text": [
      "\n",
      "\n",
      " 22%|██▏       | 11/50 [02:48<09:57, 15.33s/it]\u001b[A\u001b[A"
     ]
    },
    {
     "name": "stdout",
     "output_type": "stream",
     "text": [
      "\n",
      "Validation set: Average loss: 0.3938, Accuracy: 50/50 (100.00%)\n",
      "\n",
      "Train Epoch: 12 [0/440 (0%)]\tLoss: 0.458746\n",
      "Train Epoch: 12 [200/440 (45%)]\tLoss: 0.338236\n",
      "Train Epoch: 12 [400/440 (91%)]\tLoss: 0.518176\n"
     ]
    },
    {
     "name": "stderr",
     "output_type": "stream",
     "text": [
      "\n",
      "\n",
      " 24%|██▍       | 12/50 [03:03<09:42, 15.33s/it]\u001b[A\u001b[A"
     ]
    },
    {
     "name": "stdout",
     "output_type": "stream",
     "text": [
      "\n",
      "Validation set: Average loss: 0.3987, Accuracy: 49/50 (98.00%)\n",
      "\n",
      "Train Epoch: 13 [0/440 (0%)]\tLoss: 0.455974\n",
      "Train Epoch: 13 [200/440 (45%)]\tLoss: 0.458274\n",
      "Train Epoch: 13 [400/440 (91%)]\tLoss: 0.554692\n"
     ]
    },
    {
     "name": "stderr",
     "output_type": "stream",
     "text": [
      "\n",
      "\n",
      " 26%|██▌       | 13/50 [03:19<09:27, 15.34s/it]\u001b[A\u001b[A"
     ]
    },
    {
     "name": "stdout",
     "output_type": "stream",
     "text": [
      "\n",
      "Validation set: Average loss: 0.3963, Accuracy: 50/50 (100.00%)\n",
      "\n",
      "Train Epoch: 14 [0/440 (0%)]\tLoss: 0.533548\n",
      "Train Epoch: 14 [200/440 (45%)]\tLoss: 0.463713\n",
      "Train Epoch: 14 [400/440 (91%)]\tLoss: 0.425357\n"
     ]
    },
    {
     "name": "stderr",
     "output_type": "stream",
     "text": [
      "\n",
      "\n",
      " 28%|██▊       | 14/50 [03:34<09:12, 15.34s/it]\u001b[A\u001b[A"
     ]
    },
    {
     "name": "stdout",
     "output_type": "stream",
     "text": [
      "\n",
      "Validation set: Average loss: 0.3925, Accuracy: 50/50 (100.00%)\n",
      "\n",
      "Train Epoch: 15 [0/440 (0%)]\tLoss: 0.451427\n",
      "Train Epoch: 15 [200/440 (45%)]\tLoss: 0.351822\n",
      "Train Epoch: 15 [400/440 (91%)]\tLoss: 0.522544\n"
     ]
    },
    {
     "name": "stderr",
     "output_type": "stream",
     "text": [
      "\n",
      "\n",
      " 30%|███       | 15/50 [03:49<08:56, 15.33s/it]\u001b[A\u001b[A"
     ]
    },
    {
     "name": "stdout",
     "output_type": "stream",
     "text": [
      "\n",
      "Validation set: Average loss: 0.3983, Accuracy: 49/50 (98.00%)\n",
      "\n",
      "Train Epoch: 16 [0/440 (0%)]\tLoss: 0.513496\n",
      "Train Epoch: 16 [200/440 (45%)]\tLoss: 0.505154\n",
      "Train Epoch: 16 [400/440 (91%)]\tLoss: 0.433000\n"
     ]
    },
    {
     "name": "stderr",
     "output_type": "stream",
     "text": [
      "\n",
      "\n",
      " 32%|███▏      | 16/50 [04:05<08:40, 15.31s/it]\u001b[A\u001b[A"
     ]
    },
    {
     "name": "stdout",
     "output_type": "stream",
     "text": [
      "\n",
      "Validation set: Average loss: 0.3959, Accuracy: 50/50 (100.00%)\n",
      "\n",
      "Train Epoch: 17 [0/440 (0%)]\tLoss: 0.414057\n",
      "Train Epoch: 17 [200/440 (45%)]\tLoss: 0.374323\n",
      "Train Epoch: 17 [400/440 (91%)]\tLoss: 0.538152\n"
     ]
    },
    {
     "name": "stderr",
     "output_type": "stream",
     "text": [
      "\n",
      "\n",
      " 34%|███▍      | 17/50 [04:20<08:25, 15.31s/it]\u001b[A\u001b[A"
     ]
    },
    {
     "name": "stdout",
     "output_type": "stream",
     "text": [
      "\n",
      "Validation set: Average loss: 0.3947, Accuracy: 50/50 (100.00%)\n",
      "\n",
      "Train Epoch: 18 [0/440 (0%)]\tLoss: 0.406818\n",
      "Train Epoch: 18 [200/440 (45%)]\tLoss: 0.520598\n",
      "Train Epoch: 18 [400/440 (91%)]\tLoss: 0.507833\n"
     ]
    },
    {
     "name": "stderr",
     "output_type": "stream",
     "text": [
      "\n",
      "\n",
      " 36%|███▌      | 18/50 [04:35<08:09, 15.31s/it]\u001b[A\u001b[A"
     ]
    },
    {
     "name": "stdout",
     "output_type": "stream",
     "text": [
      "\n",
      "Validation set: Average loss: 0.3957, Accuracy: 50/50 (100.00%)\n",
      "\n",
      "Train Epoch: 19 [0/440 (0%)]\tLoss: 0.656074\n",
      "Train Epoch: 19 [200/440 (45%)]\tLoss: 0.599496\n",
      "Train Epoch: 19 [400/440 (91%)]\tLoss: 0.441532\n"
     ]
    },
    {
     "name": "stderr",
     "output_type": "stream",
     "text": [
      "\n",
      "\n",
      " 38%|███▊      | 19/50 [04:51<07:54, 15.32s/it]\u001b[A\u001b[A"
     ]
    },
    {
     "name": "stdout",
     "output_type": "stream",
     "text": [
      "\n",
      "Validation set: Average loss: 0.3980, Accuracy: 49/50 (98.00%)\n",
      "\n",
      "Train Epoch: 20 [0/440 (0%)]\tLoss: 0.520836\n",
      "Train Epoch: 20 [200/440 (45%)]\tLoss: 0.416036\n",
      "Train Epoch: 20 [400/440 (91%)]\tLoss: 0.436699\n"
     ]
    },
    {
     "name": "stderr",
     "output_type": "stream",
     "text": [
      "\n",
      "\n",
      " 40%|████      | 20/50 [05:06<07:39, 15.31s/it]\u001b[A\u001b[A"
     ]
    },
    {
     "name": "stdout",
     "output_type": "stream",
     "text": [
      "\n",
      "Validation set: Average loss: 0.3956, Accuracy: 49/50 (98.00%)\n",
      "\n",
      "Train Epoch: 21 [0/440 (0%)]\tLoss: 0.364824\n",
      "Train Epoch: 21 [200/440 (45%)]\tLoss: 0.500155\n",
      "Train Epoch: 21 [400/440 (91%)]\tLoss: 0.698426\n"
     ]
    },
    {
     "name": "stderr",
     "output_type": "stream",
     "text": [
      "\n",
      "\n",
      " 42%|████▏     | 21/50 [05:21<07:24, 15.33s/it]\u001b[A\u001b[A"
     ]
    },
    {
     "name": "stdout",
     "output_type": "stream",
     "text": [
      "\n",
      "Validation set: Average loss: 0.3944, Accuracy: 50/50 (100.00%)\n",
      "\n",
      "Train Epoch: 22 [0/440 (0%)]\tLoss: 0.582899\n",
      "Train Epoch: 22 [200/440 (45%)]\tLoss: 0.325735\n",
      "Train Epoch: 22 [400/440 (91%)]\tLoss: 0.659715\n"
     ]
    },
    {
     "name": "stderr",
     "output_type": "stream",
     "text": [
      "\n",
      "\n",
      " 44%|████▍     | 22/50 [05:37<07:09, 15.33s/it]\u001b[A\u001b[A"
     ]
    },
    {
     "name": "stdout",
     "output_type": "stream",
     "text": [
      "\n",
      "Validation set: Average loss: 0.3962, Accuracy: 49/50 (98.00%)\n",
      "\n",
      "Train Epoch: 23 [0/440 (0%)]\tLoss: 0.612664\n",
      "Train Epoch: 23 [200/440 (45%)]\tLoss: 0.388554\n",
      "Train Epoch: 23 [400/440 (91%)]\tLoss: 0.462011\n"
     ]
    },
    {
     "name": "stderr",
     "output_type": "stream",
     "text": [
      "\n",
      "\n",
      " 46%|████▌     | 23/50 [05:52<06:53, 15.33s/it]\u001b[A\u001b[A"
     ]
    },
    {
     "name": "stdout",
     "output_type": "stream",
     "text": [
      "\n",
      "Validation set: Average loss: 0.3950, Accuracy: 50/50 (100.00%)\n",
      "\n",
      "Train Epoch: 24 [0/440 (0%)]\tLoss: 0.453067\n",
      "Train Epoch: 24 [200/440 (45%)]\tLoss: 0.344441\n",
      "Train Epoch: 24 [400/440 (91%)]\tLoss: 0.423177\n"
     ]
    },
    {
     "name": "stderr",
     "output_type": "stream",
     "text": [
      "\n",
      "\n",
      " 48%|████▊     | 24/50 [06:07<06:38, 15.33s/it]\u001b[A\u001b[A"
     ]
    },
    {
     "name": "stdout",
     "output_type": "stream",
     "text": [
      "\n",
      "Validation set: Average loss: 0.3931, Accuracy: 50/50 (100.00%)\n",
      "\n",
      "Train Epoch: 25 [0/440 (0%)]\tLoss: 0.544957\n",
      "Train Epoch: 25 [200/440 (45%)]\tLoss: 0.464681\n",
      "Train Epoch: 25 [400/440 (91%)]\tLoss: 0.279843\n"
     ]
    },
    {
     "name": "stderr",
     "output_type": "stream",
     "text": [
      "\n",
      "\n",
      " 50%|█████     | 25/50 [06:23<06:23, 15.34s/it]\u001b[A\u001b[A"
     ]
    },
    {
     "name": "stdout",
     "output_type": "stream",
     "text": [
      "\n",
      "Validation set: Average loss: 0.3960, Accuracy: 49/50 (98.00%)\n",
      "\n",
      "Train Epoch: 26 [0/440 (0%)]\tLoss: 0.351709\n",
      "Train Epoch: 26 [200/440 (45%)]\tLoss: 0.661787\n",
      "Train Epoch: 26 [400/440 (91%)]\tLoss: 0.524047\n"
     ]
    },
    {
     "name": "stderr",
     "output_type": "stream",
     "text": [
      "\n",
      "\n",
      " 52%|█████▏    | 26/50 [06:38<06:07, 15.32s/it]\u001b[A\u001b[A"
     ]
    },
    {
     "name": "stdout",
     "output_type": "stream",
     "text": [
      "\n",
      "Validation set: Average loss: 0.3982, Accuracy: 49/50 (98.00%)\n",
      "\n",
      "Train Epoch: 27 [0/440 (0%)]\tLoss: 0.597957\n",
      "Train Epoch: 27 [200/440 (45%)]\tLoss: 0.315758\n",
      "Train Epoch: 35 [400/440 (91%)]\tLoss: 0.612582\n"
     ]
    },
    {
     "name": "stderr",
     "output_type": "stream",
     "text": [
      "\n",
      "\n",
      " 70%|███████   | 35/50 [08:56<03:49, 15.32s/it]\u001b[A\u001b[A"
     ]
    },
    {
     "name": "stdout",
     "output_type": "stream",
     "text": [
      "\n",
      "Validation set: Average loss: 0.3947, Accuracy: 50/50 (100.00%)\n",
      "\n",
      "Train Epoch: 36 [0/440 (0%)]\tLoss: 0.428971\n",
      "Train Epoch: 36 [200/440 (45%)]\tLoss: 0.501485\n",
      "Train Epoch: 36 [400/440 (91%)]\tLoss: 0.469013\n"
     ]
    },
    {
     "name": "stderr",
     "output_type": "stream",
     "text": [
      "\n",
      "\n",
      " 72%|███████▏  | 36/50 [09:11<03:34, 15.33s/it]\u001b[A\u001b[A"
     ]
    },
    {
     "name": "stdout",
     "output_type": "stream",
     "text": [
      "\n",
      "Validation set: Average loss: 0.3975, Accuracy: 49/50 (98.00%)\n",
      "\n",
      "Train Epoch: 37 [0/440 (0%)]\tLoss: 0.553895\n",
      "Train Epoch: 37 [200/440 (45%)]\tLoss: 0.584019\n",
      "Train Epoch: 37 [400/440 (91%)]\tLoss: 0.447408\n"
     ]
    },
    {
     "name": "stderr",
     "output_type": "stream",
     "text": [
      "\n",
      "\n",
      " 74%|███████▍  | 37/50 [09:26<03:19, 15.32s/it]\u001b[A\u001b[A"
     ]
    },
    {
     "name": "stdout",
     "output_type": "stream",
     "text": [
      "\n",
      "Validation set: Average loss: 0.3981, Accuracy: 49/50 (98.00%)\n",
      "\n",
      "Train Epoch: 38 [0/440 (0%)]\tLoss: 0.503553\n",
      "Train Epoch: 38 [200/440 (45%)]\tLoss: 0.645004\n",
      "Train Epoch: 38 [400/440 (91%)]\tLoss: 0.392333\n"
     ]
    },
    {
     "name": "stderr",
     "output_type": "stream",
     "text": [
      "\n",
      "\n",
      " 76%|███████▌  | 38/50 [09:42<03:03, 15.33s/it]\u001b[A\u001b[A"
     ]
    },
    {
     "name": "stdout",
     "output_type": "stream",
     "text": [
      "\n",
      "Validation set: Average loss: 0.3960, Accuracy: 50/50 (100.00%)\n",
      "\n",
      "Train Epoch: 39 [0/440 (0%)]\tLoss: 0.658474\n",
      "Train Epoch: 39 [200/440 (45%)]\tLoss: 0.479187\n",
      "Train Epoch: 39 [400/440 (91%)]\tLoss: 0.359124\n"
     ]
    },
    {
     "name": "stderr",
     "output_type": "stream",
     "text": [
      "\n",
      "\n",
      " 78%|███████▊  | 39/50 [09:57<02:48, 15.34s/it]\u001b[A\u001b[A"
     ]
    },
    {
     "name": "stdout",
     "output_type": "stream",
     "text": [
      "\n",
      "Validation set: Average loss: 0.3981, Accuracy: 49/50 (98.00%)\n",
      "\n",
      "Train Epoch: 40 [0/440 (0%)]\tLoss: 0.573072\n",
      "Train Epoch: 40 [200/440 (45%)]\tLoss: 0.603762\n",
      "Train Epoch: 40 [400/440 (91%)]\tLoss: 0.522956\n"
     ]
    },
    {
     "name": "stderr",
     "output_type": "stream",
     "text": [
      "\n",
      "\n",
      " 80%|████████  | 40/50 [10:13<02:33, 15.35s/it]\u001b[A\u001b[A"
     ]
    },
    {
     "name": "stdout",
     "output_type": "stream",
     "text": [
      "\n",
      "Validation set: Average loss: 0.3967, Accuracy: 50/50 (100.00%)\n",
      "\n",
      "Train Epoch: 41 [0/440 (0%)]\tLoss: 0.580118\n",
      "Train Epoch: 41 [200/440 (45%)]\tLoss: 0.590329\n",
      "Train Epoch: 41 [400/440 (91%)]\tLoss: 0.542262\n"
     ]
    },
    {
     "name": "stderr",
     "output_type": "stream",
     "text": [
      "\n",
      "\n",
      " 82%|████████▏ | 41/50 [10:28<02:18, 15.36s/it]\u001b[A\u001b[A"
     ]
    },
    {
     "name": "stdout",
     "output_type": "stream",
     "text": [
      "\n",
      "Validation set: Average loss: 0.3940, Accuracy: 50/50 (100.00%)\n",
      "\n",
      "Train Epoch: 42 [0/440 (0%)]\tLoss: 0.509617\n",
      "Train Epoch: 42 [200/440 (45%)]\tLoss: 0.532483\n",
      "Train Epoch: 42 [400/440 (91%)]\tLoss: 0.562805\n"
     ]
    },
    {
     "name": "stderr",
     "output_type": "stream",
     "text": [
      "\n",
      "\n",
      " 84%|████████▍ | 42/50 [10:43<02:02, 15.35s/it]\u001b[A\u001b[A"
     ]
    },
    {
     "name": "stdout",
     "output_type": "stream",
     "text": [
      "\n",
      "Validation set: Average loss: 0.3943, Accuracy: 50/50 (100.00%)\n",
      "\n",
      "Train Epoch: 43 [0/440 (0%)]\tLoss: 0.536912\n",
      "Train Epoch: 43 [200/440 (45%)]\tLoss: 0.471888\n",
      "Train Epoch: 43 [400/440 (91%)]\tLoss: 0.385349\n"
     ]
    },
    {
     "name": "stderr",
     "output_type": "stream",
     "text": [
      "\n",
      "\n",
      " 86%|████████▌ | 43/50 [10:59<01:47, 15.35s/it]\u001b[A\u001b[A"
     ]
    },
    {
     "name": "stdout",
     "output_type": "stream",
     "text": [
      "\n",
      "Validation set: Average loss: 0.3976, Accuracy: 49/50 (98.00%)\n",
      "\n",
      "Train Epoch: 44 [0/440 (0%)]\tLoss: 0.451599\n",
      "Train Epoch: 44 [200/440 (45%)]\tLoss: 0.433924\n",
      "Train Epoch: 44 [400/440 (91%)]\tLoss: 0.435235\n"
     ]
    },
    {
     "name": "stderr",
     "output_type": "stream",
     "text": [
      "\n",
      "\n",
      " 88%|████████▊ | 44/50 [11:14<01:32, 15.35s/it]\u001b[A\u001b[A"
     ]
    },
    {
     "name": "stdout",
     "output_type": "stream",
     "text": [
      "\n",
      "Validation set: Average loss: 0.3954, Accuracy: 50/50 (100.00%)\n",
      "\n",
      "Train Epoch: 45 [0/440 (0%)]\tLoss: 0.507237\n"
     ]
    },
    {
     "name": "stderr",
     "output_type": "stream",
     "text": [
      "\n",
      "\n",
      "100%|██████████| 50/50 [12:46<00:00, 15.33s/it]\u001b[A\u001b[A"
     ]
    },
    {
     "name": "stdout",
     "output_type": "stream",
     "text": [
      "\n",
      "Validation set: Average loss: 0.3944, Accuracy: 50/50 (100.00%)\n",
      "\n"
     ]
    },
    {
     "name": "stderr",
     "output_type": "stream",
     "text": [
      "\n"
     ]
    },
    {
     "name": "stdout",
     "output_type": "stream",
     "text": [
      "\n",
      "Validation set: Average loss: 0.3944, Accuracy: 50/50 (100.00%)\n",
      "\n",
      "Combinaison Done\n"
     ]
    },
    {
     "name": "stderr",
     "output_type": "stream",
     "text": [
      "\n",
      "\n",
      "  0%|          | 0/50 [00:00<?, ?it/s]\u001b[A\u001b[A\n"
     ]
    },
    {
     "ename": "RuntimeError",
     "evalue": "shape '[10, 17, 108, 159]' is invalid for input of size 1066500",
     "output_type": "error",
     "traceback": [
      "\u001b[0;31m---------------------------------------------------------------------------\u001b[0m",
      "\u001b[0;31mRuntimeError\u001b[0m                              Traceback (most recent call last)",
      "\u001b[0;32m<ipython-input-86-5cb865533f9b>\u001b[0m in \u001b[0;36m<module>\u001b[0;34m\u001b[0m\n\u001b[1;32m     48\u001b[0m                                       weight_decay=0.0005)\n\u001b[1;32m     49\u001b[0m             \u001b[0mlr\u001b[0m\u001b[0;34m*=\u001b[0m\u001b[0;36m0.2\u001b[0m\u001b[0;34m\u001b[0m\u001b[0m\n\u001b[0;32m---> 50\u001b[0;31m             \u001b[0mtrain\u001b[0m\u001b[0;34m(\u001b[0m\u001b[0mmodel\u001b[0m\u001b[0;34m,\u001b[0m \u001b[0mdevice\u001b[0m\u001b[0;34m,\u001b[0m \u001b[0mtrain_loader\u001b[0m\u001b[0;34m,\u001b[0m \u001b[0moptimizer\u001b[0m\u001b[0;34m,\u001b[0m \u001b[0mepoch\u001b[0m\u001b[0;34m+\u001b[0m\u001b[0;36m1\u001b[0m\u001b[0;34m,\u001b[0m \u001b[0mscattering\u001b[0m\u001b[0;34m)\u001b[0m\u001b[0;34m\u001b[0m\u001b[0m\n\u001b[0m\u001b[1;32m     51\u001b[0m             \u001b[0mval_loss\u001b[0m \u001b[0;34m,\u001b[0m \u001b[0m_\u001b[0m \u001b[0;34m=\u001b[0m \u001b[0mtest\u001b[0m\u001b[0;34m(\u001b[0m\u001b[0mmodel\u001b[0m\u001b[0;34m,\u001b[0m \u001b[0mdevice\u001b[0m\u001b[0;34m,\u001b[0m \u001b[0mval_loader\u001b[0m\u001b[0;34m,\u001b[0m \u001b[0mscattering\u001b[0m\u001b[0;34m)\u001b[0m\u001b[0;34m\u001b[0m\u001b[0m\n\u001b[1;32m     52\u001b[0m             \u001b[0;32mif\u001b[0m \u001b[0mval_loss\u001b[0m \u001b[0;34m>\u001b[0m \u001b[0mval_loss_last\u001b[0m\u001b[0;34m:\u001b[0m\u001b[0;34m\u001b[0m\u001b[0m\n",
      "\u001b[0;32m<ipython-input-85-3e9a96977cea>\u001b[0m in \u001b[0;36mtrain\u001b[0;34m(model, device, train_loader, optimizer, epoch, scattering)\u001b[0m\n\u001b[1;32m      4\u001b[0m         \u001b[0mdata\u001b[0m\u001b[0;34m,\u001b[0m \u001b[0mtarget\u001b[0m \u001b[0;34m=\u001b[0m \u001b[0mdata\u001b[0m\u001b[0;34m.\u001b[0m\u001b[0mto\u001b[0m\u001b[0;34m(\u001b[0m\u001b[0mdevice\u001b[0m\u001b[0;34m)\u001b[0m\u001b[0;34m,\u001b[0m \u001b[0mtarget\u001b[0m\u001b[0;34m.\u001b[0m\u001b[0mto\u001b[0m\u001b[0;34m(\u001b[0m\u001b[0mdevice\u001b[0m\u001b[0;34m)\u001b[0m\u001b[0;34m\u001b[0m\u001b[0m\n\u001b[1;32m      5\u001b[0m         \u001b[0moptimizer\u001b[0m\u001b[0;34m.\u001b[0m\u001b[0mzero_grad\u001b[0m\u001b[0;34m(\u001b[0m\u001b[0;34m)\u001b[0m\u001b[0;34m\u001b[0m\u001b[0m\n\u001b[0;32m----> 6\u001b[0;31m         \u001b[0moutput\u001b[0m \u001b[0;34m=\u001b[0m \u001b[0mmodel\u001b[0m\u001b[0;34m(\u001b[0m\u001b[0mscattering\u001b[0m\u001b[0;34m(\u001b[0m\u001b[0mdata\u001b[0m\u001b[0;34m)\u001b[0m\u001b[0;34m)\u001b[0m\u001b[0;34m\u001b[0m\u001b[0m\n\u001b[0m\u001b[1;32m      7\u001b[0m         \u001b[0mloss\u001b[0m \u001b[0;34m=\u001b[0m \u001b[0mF\u001b[0m\u001b[0;34m.\u001b[0m\u001b[0mcross_entropy\u001b[0m\u001b[0;34m(\u001b[0m\u001b[0moutput\u001b[0m\u001b[0;34m,\u001b[0m \u001b[0mtarget\u001b[0m\u001b[0;34m.\u001b[0m\u001b[0mtype\u001b[0m\u001b[0;34m(\u001b[0m\u001b[0mtorch\u001b[0m\u001b[0;34m.\u001b[0m\u001b[0mlong\u001b[0m\u001b[0;34m)\u001b[0m\u001b[0;34m)\u001b[0m\u001b[0;34m\u001b[0m\u001b[0m\n\u001b[1;32m      8\u001b[0m         \u001b[0mloss\u001b[0m\u001b[0;34m.\u001b[0m\u001b[0mbackward\u001b[0m\u001b[0;34m(\u001b[0m\u001b[0;34m)\u001b[0m\u001b[0;34m\u001b[0m\u001b[0m\n",
      "\u001b[0;32m~/.conda/envs/ultra/lib/python3.7/site-packages/torch/nn/modules/module.py\u001b[0m in \u001b[0;36m__call__\u001b[0;34m(self, *input, **kwargs)\u001b[0m\n\u001b[1;32m    548\u001b[0m             \u001b[0mresult\u001b[0m \u001b[0;34m=\u001b[0m \u001b[0mself\u001b[0m\u001b[0;34m.\u001b[0m\u001b[0m_slow_forward\u001b[0m\u001b[0;34m(\u001b[0m\u001b[0;34m*\u001b[0m\u001b[0minput\u001b[0m\u001b[0;34m,\u001b[0m \u001b[0;34m**\u001b[0m\u001b[0mkwargs\u001b[0m\u001b[0;34m)\u001b[0m\u001b[0;34m\u001b[0m\u001b[0m\n\u001b[1;32m    549\u001b[0m         \u001b[0;32melse\u001b[0m\u001b[0;34m:\u001b[0m\u001b[0;34m\u001b[0m\u001b[0m\n\u001b[0;32m--> 550\u001b[0;31m             \u001b[0mresult\u001b[0m \u001b[0;34m=\u001b[0m \u001b[0mself\u001b[0m\u001b[0;34m.\u001b[0m\u001b[0mforward\u001b[0m\u001b[0;34m(\u001b[0m\u001b[0;34m*\u001b[0m\u001b[0minput\u001b[0m\u001b[0;34m,\u001b[0m \u001b[0;34m**\u001b[0m\u001b[0mkwargs\u001b[0m\u001b[0;34m)\u001b[0m\u001b[0;34m\u001b[0m\u001b[0m\n\u001b[0m\u001b[1;32m    551\u001b[0m         \u001b[0;32mfor\u001b[0m \u001b[0mhook\u001b[0m \u001b[0;32min\u001b[0m \u001b[0mself\u001b[0m\u001b[0;34m.\u001b[0m\u001b[0m_forward_hooks\u001b[0m\u001b[0;34m.\u001b[0m\u001b[0mvalues\u001b[0m\u001b[0;34m(\u001b[0m\u001b[0;34m)\u001b[0m\u001b[0;34m:\u001b[0m\u001b[0;34m\u001b[0m\u001b[0m\n\u001b[1;32m    552\u001b[0m             \u001b[0mhook_result\u001b[0m \u001b[0;34m=\u001b[0m \u001b[0mhook\u001b[0m\u001b[0;34m(\u001b[0m\u001b[0mself\u001b[0m\u001b[0;34m,\u001b[0m \u001b[0minput\u001b[0m\u001b[0;34m,\u001b[0m \u001b[0mresult\u001b[0m\u001b[0;34m)\u001b[0m\u001b[0;34m\u001b[0m\u001b[0m\n",
      "\u001b[0;32m~/Chronic-Liver-Classification/src/utils/Networks.py\u001b[0m in \u001b[0;36mforward\u001b[0;34m(self, x)\u001b[0m\n\u001b[1;32m     80\u001b[0m     \u001b[0;32mdef\u001b[0m \u001b[0mforward\u001b[0m\u001b[0;34m(\u001b[0m\u001b[0mself\u001b[0m\u001b[0;34m,\u001b[0m \u001b[0mx\u001b[0m\u001b[0;34m)\u001b[0m\u001b[0;34m:\u001b[0m\u001b[0;34m\u001b[0m\u001b[0m\n\u001b[1;32m     81\u001b[0m \u001b[0;34m\u001b[0m\u001b[0m\n\u001b[0;32m---> 82\u001b[0;31m         \u001b[0mx\u001b[0m \u001b[0;34m=\u001b[0m \u001b[0mx\u001b[0m\u001b[0;34m.\u001b[0m\u001b[0mview\u001b[0m\u001b[0;34m(\u001b[0m\u001b[0mx\u001b[0m\u001b[0;34m.\u001b[0m\u001b[0msize\u001b[0m\u001b[0;34m(\u001b[0m\u001b[0;36m0\u001b[0m\u001b[0;34m)\u001b[0m\u001b[0;34m,\u001b[0m \u001b[0mself\u001b[0m\u001b[0;34m.\u001b[0m\u001b[0mK\u001b[0m\u001b[0;34m,\u001b[0m\u001b[0;36m108\u001b[0m\u001b[0;34m,\u001b[0m \u001b[0;36m159\u001b[0m\u001b[0;34m)\u001b[0m\u001b[0;34m\u001b[0m\u001b[0m\n\u001b[0m\u001b[1;32m     83\u001b[0m         \u001b[0mx\u001b[0m \u001b[0;34m=\u001b[0m \u001b[0mself\u001b[0m\u001b[0;34m.\u001b[0m\u001b[0minit_conv\u001b[0m\u001b[0;34m(\u001b[0m\u001b[0mx\u001b[0m\u001b[0;34m)\u001b[0m\u001b[0;34m\u001b[0m\u001b[0m\n\u001b[1;32m     84\u001b[0m \u001b[0;34m\u001b[0m\u001b[0m\n",
      "\u001b[0;31mRuntimeError\u001b[0m: shape '[10, 17, 108, 159]' is invalid for input of size 1066500"
     ]
    }
   ],
   "source": [
    "for param in params:\n",
    "    # Do cross-validation\n",
    "    with mlflow.start_run():\n",
    "        batch_size = param[0]\n",
    "        J = param[1]\n",
    "        max_order = param[2]\n",
    "        mlflow.log_param('batch_size',batch_size)\n",
    "        mlflow.log_param('J', J)\n",
    "        mlflow.log_param('max_order', max_order)\n",
    "\n",
    "        #create data loader\n",
    "        train_loader = DataLoader(dataset=train_dataset,\n",
    "                                  batch_size=batch_size,\n",
    "                                  shuffle=True,\n",
    "                                  num_workers=2)\n",
    "        test_loader = DataLoader(dataset=test_dataset,\n",
    "                                  batch_size=batch_size,\n",
    "                                  shuffle=True,\n",
    "                                  num_workers=2)\n",
    "        val_loader = DataLoader(dataset=val_dataset,\n",
    "                                  batch_size=batch_size,\n",
    "                                  shuffle=True,\n",
    "                                  num_workers=2)\n",
    "        \n",
    "\n",
    "        # compute scattering features---------------------------------------                       \n",
    "        if max_order == 1:\n",
    "            scattering = Scattering2D(J=J, shape=(M, N), max_order=max_order)\n",
    "            K = 17*1\n",
    "        else:\n",
    "            scattering = Scattering2D(J=J, shape=(M, N))\n",
    "            K = 81*1\n",
    "\n",
    "        if use_cuda:\n",
    "            scattering = scattering.cuda()     \n",
    "        \n",
    "        model = Scattering2dResNet(K,2).to(device)\n",
    "\n",
    "        #training------------------------------------------------------------                         \n",
    "        from tqdm import tqdm\n",
    "        # Optimizer\n",
    "        lr = 0.1\n",
    "        val_loss_no_imp = 0\n",
    "        val_loss_last = 0\n",
    "        patience = 5\n",
    "        for epoch in tqdm(range(0, 50)):\n",
    "            optimizer = torch.optim.SGD(model.parameters(), lr=lr, momentum=0.9,\n",
    "                                      weight_decay=0.0005)\n",
    "            lr*=0.2\n",
    "            train(model, device, train_loader, optimizer, epoch+1, scattering)\n",
    "            val_loss , _ = test(model, device, val_loader, scattering)\n",
    "            if val_loss > val_loss_last: \n",
    "                val_loss_no_imp +=1\n",
    "            else:\n",
    "                val_loss_no_imp = 0\n",
    "            val_loss_last = val_loss\n",
    "            if val_loss_no_imp >= patience: break\n",
    "            \n",
    "        val_loss , val_accuracy = test(model, device, val_loader, scattering)\n",
    "        mlflow.log_metric('validation_accuracy',val_accuracy)  \n",
    "        print('Combinaison Done')\n",
    "\n",
    "\n"
   ]
  },
  {
   "cell_type": "markdown",
   "metadata": {},
   "source": [
    "# Run Mlflow to see results\n",
    "\n",
    "`!mlflow ui`\n",
    "\n",
    "Should launch something like this:\n",
    "\n"
   ]
  },
  {
   "cell_type": "code",
   "execution_count": 20,
   "metadata": {},
   "outputs": [],
   "source": [
    "# !mlflow ui"
   ]
  },
  {
   "cell_type": "code",
   "execution_count": 21,
   "metadata": {},
   "outputs": [],
   "source": [
    "test_data['id'].unique()\n",
    "mlflow.set_experiment('test_results_dataset_liver_bmodes_steatosis_assessment_IJCARS')"
   ]
  },
  {
   "cell_type": "code",
   "execution_count": 22,
   "metadata": {},
   "outputs": [],
   "source": [
    "with open('../data/02_interim/bmodes_steatosis_assessment_IJCARS.pickle', 'rb') as handle:\n",
    "    df = pickle.load(handle)\n",
    "M, N= 434, 636 # ultrasound image dimension\n",
    "# split training and test (by making sure the 10 ultrasound images of one patient is in the same set)\n",
    "train_data, test_data = train_test_split(df)\n",
    "train_dataset = UltrasoundDataset(train_data)\n",
    "test_dataset  = UltrasoundDataset(test_data)"
   ]
  },
  {
   "cell_type": "code",
   "execution_count": 27,
   "metadata": {},
   "outputs": [
    {
     "name": "stderr",
     "output_type": "stream",
     "text": [
      "\n",
      "\n",
      "  0%|          | 0/80 [00:00<?, ?it/s]\u001b[A\u001b[A"
     ]
    },
    {
     "name": "stdout",
     "output_type": "stream",
     "text": [
      "Train Epoch: 1 [0/490 (0%)]\tLoss: 0.646260\n",
      "Train Epoch: 1 [200/490 (41%)]\tLoss: 0.725052\n",
      "Train Epoch: 1 [400/490 (82%)]\tLoss: 0.554108\n"
     ]
    },
    {
     "name": "stderr",
     "output_type": "stream",
     "text": [
      "\n",
      "\n",
      "  1%|▏         | 1/80 [00:07<09:53,  7.51s/it]\u001b[A\u001b[A"
     ]
    },
    {
     "name": "stdout",
     "output_type": "stream",
     "text": [
      "Train Epoch: 2 [0/490 (0%)]\tLoss: 0.699555\n",
      "Train Epoch: 2 [200/490 (41%)]\tLoss: 0.517739\n",
      "Train Epoch: 2 [400/490 (82%)]\tLoss: 0.506702\n"
     ]
    },
    {
     "name": "stderr",
     "output_type": "stream",
     "text": [
      "\n",
      "\n",
      "  2%|▎         | 2/80 [00:15<09:46,  7.52s/it]\u001b[A\u001b[A"
     ]
    },
    {
     "name": "stdout",
     "output_type": "stream",
     "text": [
      "Train Epoch: 3 [0/490 (0%)]\tLoss: 0.505083\n",
      "Train Epoch: 3 [200/490 (41%)]\tLoss: 0.712498\n",
      "Train Epoch: 3 [400/490 (82%)]\tLoss: 0.406403\n"
     ]
    },
    {
     "name": "stderr",
     "output_type": "stream",
     "text": [
      "\n",
      "\n",
      "  4%|▍         | 3/80 [00:22<09:39,  7.52s/it]\u001b[A\u001b[A"
     ]
    },
    {
     "name": "stdout",
     "output_type": "stream",
     "text": [
      "Train Epoch: 4 [0/490 (0%)]\tLoss: 0.356045\n",
      "Train Epoch: 4 [200/490 (41%)]\tLoss: 0.401788\n",
      "Train Epoch: 4 [400/490 (82%)]\tLoss: 0.592859\n"
     ]
    },
    {
     "name": "stderr",
     "output_type": "stream",
     "text": [
      "\n",
      "\n",
      "  5%|▌         | 4/80 [00:30<09:32,  7.53s/it]\u001b[A\u001b[A"
     ]
    },
    {
     "name": "stdout",
     "output_type": "stream",
     "text": [
      "Train Epoch: 5 [0/490 (0%)]\tLoss: 0.602316\n",
      "Train Epoch: 5 [200/490 (41%)]\tLoss: 0.663346\n",
      "Train Epoch: 5 [400/490 (82%)]\tLoss: 0.524082\n"
     ]
    },
    {
     "name": "stderr",
     "output_type": "stream",
     "text": [
      "\n",
      "\n",
      "  6%|▋         | 5/80 [00:37<09:25,  7.54s/it]\u001b[A\u001b[A"
     ]
    },
    {
     "name": "stdout",
     "output_type": "stream",
     "text": [
      "Train Epoch: 6 [0/490 (0%)]\tLoss: 0.399974\n",
      "Train Epoch: 6 [200/490 (41%)]\tLoss: 0.613649\n",
      "Train Epoch: 6 [400/490 (82%)]\tLoss: 0.777123\n"
     ]
    },
    {
     "name": "stderr",
     "output_type": "stream",
     "text": [
      "\n",
      "\n",
      "  8%|▊         | 6/80 [00:45<09:18,  7.54s/it]\u001b[A\u001b[A"
     ]
    },
    {
     "name": "stdout",
     "output_type": "stream",
     "text": [
      "Train Epoch: 7 [0/490 (0%)]\tLoss: 0.376307\n",
      "Train Epoch: 7 [200/490 (41%)]\tLoss: 0.492687\n",
      "Train Epoch: 7 [400/490 (82%)]\tLoss: 0.448707\n"
     ]
    },
    {
     "name": "stderr",
     "output_type": "stream",
     "text": [
      "\n",
      "\n",
      "  9%|▉         | 7/80 [00:52<09:10,  7.54s/it]\u001b[A\u001b[A"
     ]
    },
    {
     "name": "stdout",
     "output_type": "stream",
     "text": [
      "Train Epoch: 8 [0/490 (0%)]\tLoss: 0.392417\n",
      "Train Epoch: 8 [200/490 (41%)]\tLoss: 0.569632\n",
      "Train Epoch: 8 [400/490 (82%)]\tLoss: 0.394873\n"
     ]
    },
    {
     "name": "stderr",
     "output_type": "stream",
     "text": [
      "\n",
      "\n",
      " 10%|█         | 8/80 [01:00<09:02,  7.53s/it]\u001b[A\u001b[A"
     ]
    },
    {
     "name": "stdout",
     "output_type": "stream",
     "text": [
      "Train Epoch: 9 [0/490 (0%)]\tLoss: 0.454354\n",
      "Train Epoch: 9 [200/490 (41%)]\tLoss: 0.510907\n",
      "Train Epoch: 9 [400/490 (82%)]\tLoss: 0.331214\n"
     ]
    },
    {
     "name": "stderr",
     "output_type": "stream",
     "text": [
      "\n",
      "\n",
      " 11%|█▏        | 9/80 [01:07<08:55,  7.54s/it]\u001b[A\u001b[A"
     ]
    },
    {
     "name": "stdout",
     "output_type": "stream",
     "text": [
      "Train Epoch: 10 [0/490 (0%)]\tLoss: 0.334063\n",
      "Train Epoch: 10 [200/490 (41%)]\tLoss: 0.698853\n",
      "Train Epoch: 10 [400/490 (82%)]\tLoss: 0.396517\n"
     ]
    },
    {
     "name": "stderr",
     "output_type": "stream",
     "text": [
      "\n",
      "\n",
      " 12%|█▎        | 10/80 [01:15<08:47,  7.53s/it]\u001b[A\u001b[A"
     ]
    },
    {
     "name": "stdout",
     "output_type": "stream",
     "text": [
      "Train Epoch: 11 [0/490 (0%)]\tLoss: 0.571173\n",
      "Train Epoch: 11 [200/490 (41%)]\tLoss: 0.564426\n",
      "Train Epoch: 11 [400/490 (82%)]\tLoss: 0.365618\n"
     ]
    },
    {
     "name": "stderr",
     "output_type": "stream",
     "text": [
      "\n",
      "\n",
      " 14%|█▍        | 11/80 [01:22<08:40,  7.54s/it]\u001b[A\u001b[A"
     ]
    },
    {
     "name": "stdout",
     "output_type": "stream",
     "text": [
      "Train Epoch: 12 [0/490 (0%)]\tLoss: 0.414994\n",
      "Train Epoch: 12 [200/490 (41%)]\tLoss: 0.585315\n",
      "Train Epoch: 12 [400/490 (82%)]\tLoss: 0.307843\n"
     ]
    },
    {
     "name": "stderr",
     "output_type": "stream",
     "text": [
      "\n",
      "\n",
      " 15%|█▌        | 12/80 [01:30<08:32,  7.54s/it]\u001b[A\u001b[A"
     ]
    },
    {
     "name": "stdout",
     "output_type": "stream",
     "text": [
      "Train Epoch: 13 [0/490 (0%)]\tLoss: 0.394900\n",
      "Train Epoch: 13 [200/490 (41%)]\tLoss: 0.337164\n",
      "Train Epoch: 13 [400/490 (82%)]\tLoss: 0.652326\n"
     ]
    },
    {
     "name": "stderr",
     "output_type": "stream",
     "text": [
      "\n",
      "\n",
      " 16%|█▋        | 13/80 [01:37<08:24,  7.53s/it]\u001b[A\u001b[A"
     ]
    },
    {
     "name": "stdout",
     "output_type": "stream",
     "text": [
      "Train Epoch: 14 [0/490 (0%)]\tLoss: 0.480042\n",
      "Train Epoch: 14 [200/490 (41%)]\tLoss: 0.680722\n",
      "Train Epoch: 14 [400/490 (82%)]\tLoss: 0.439983\n"
     ]
    },
    {
     "name": "stderr",
     "output_type": "stream",
     "text": [
      "\n",
      "\n",
      " 18%|█▊        | 14/80 [01:45<08:17,  7.54s/it]\u001b[A\u001b[A"
     ]
    },
    {
     "name": "stdout",
     "output_type": "stream",
     "text": [
      "Train Epoch: 15 [0/490 (0%)]\tLoss: 0.477811\n",
      "Train Epoch: 15 [200/490 (41%)]\tLoss: 0.459781\n",
      "Train Epoch: 15 [400/490 (82%)]\tLoss: 0.527447\n"
     ]
    },
    {
     "name": "stderr",
     "output_type": "stream",
     "text": [
      "\n",
      "\n",
      " 19%|█▉        | 15/80 [01:53<08:11,  7.55s/it]\u001b[A\u001b[A"
     ]
    },
    {
     "name": "stdout",
     "output_type": "stream",
     "text": [
      "Train Epoch: 16 [0/490 (0%)]\tLoss: 0.283228\n",
      "Train Epoch: 16 [200/490 (41%)]\tLoss: 0.613181\n",
      "Train Epoch: 16 [400/490 (82%)]\tLoss: 0.458089\n"
     ]
    },
    {
     "name": "stderr",
     "output_type": "stream",
     "text": [
      "\n",
      "\n",
      " 20%|██        | 16/80 [02:00<08:02,  7.54s/it]\u001b[A\u001b[A"
     ]
    },
    {
     "name": "stdout",
     "output_type": "stream",
     "text": [
      "Train Epoch: 17 [0/490 (0%)]\tLoss: 0.444127\n",
      "Train Epoch: 17 [200/490 (41%)]\tLoss: 0.540881\n",
      "Train Epoch: 17 [400/490 (82%)]\tLoss: 0.616322\n"
     ]
    },
    {
     "name": "stderr",
     "output_type": "stream",
     "text": [
      "\n",
      "\n",
      " 21%|██▏       | 17/80 [02:08<07:55,  7.54s/it]\u001b[A\u001b[A"
     ]
    },
    {
     "name": "stdout",
     "output_type": "stream",
     "text": [
      "Train Epoch: 18 [0/490 (0%)]\tLoss: 0.614866\n",
      "Train Epoch: 18 [200/490 (41%)]\tLoss: 0.580504\n",
      "Train Epoch: 18 [400/490 (82%)]\tLoss: 0.495874\n"
     ]
    },
    {
     "name": "stderr",
     "output_type": "stream",
     "text": [
      "\n",
      "\n",
      " 22%|██▎       | 18/80 [02:15<07:47,  7.53s/it]\u001b[A\u001b[A"
     ]
    },
    {
     "name": "stdout",
     "output_type": "stream",
     "text": [
      "Train Epoch: 19 [0/490 (0%)]\tLoss: 0.581421\n",
      "Train Epoch: 19 [200/490 (41%)]\tLoss: 0.575180\n",
      "Train Epoch: 19 [400/490 (82%)]\tLoss: 0.529480\n"
     ]
    },
    {
     "name": "stderr",
     "output_type": "stream",
     "text": [
      "\n",
      "\n",
      " 24%|██▍       | 19/80 [02:23<07:39,  7.53s/it]\u001b[A\u001b[A"
     ]
    },
    {
     "name": "stdout",
     "output_type": "stream",
     "text": [
      "Train Epoch: 20 [0/490 (0%)]\tLoss: 0.472440\n",
      "Train Epoch: 20 [200/490 (41%)]\tLoss: 0.509470\n",
      "Train Epoch: 20 [400/490 (82%)]\tLoss: 0.450126\n"
     ]
    },
    {
     "name": "stderr",
     "output_type": "stream",
     "text": [
      "\n",
      "\n",
      " 25%|██▌       | 20/80 [02:30<07:32,  7.54s/it]\u001b[A\u001b[A"
     ]
    },
    {
     "name": "stdout",
     "output_type": "stream",
     "text": [
      "Train Epoch: 21 [0/490 (0%)]\tLoss: 0.328544\n",
      "Train Epoch: 21 [200/490 (41%)]\tLoss: 0.678998\n",
      "Train Epoch: 21 [400/490 (82%)]\tLoss: 0.490753\n"
     ]
    },
    {
     "name": "stderr",
     "output_type": "stream",
     "text": [
      "\n",
      "\n",
      " 26%|██▋       | 21/80 [02:38<07:24,  7.53s/it]\u001b[A\u001b[A"
     ]
    },
    {
     "name": "stdout",
     "output_type": "stream",
     "text": [
      "Train Epoch: 22 [0/490 (0%)]\tLoss: 0.473718\n",
      "Train Epoch: 22 [200/490 (41%)]\tLoss: 0.457943\n",
      "Train Epoch: 22 [400/490 (82%)]\tLoss: 0.565687\n"
     ]
    },
    {
     "name": "stderr",
     "output_type": "stream",
     "text": [
      "\n",
      "\n",
      " 28%|██▊       | 22/80 [02:45<07:17,  7.54s/it]\u001b[A\u001b[A"
     ]
    },
    {
     "name": "stdout",
     "output_type": "stream",
     "text": [
      "Train Epoch: 23 [0/490 (0%)]\tLoss: 0.415501\n",
      "Train Epoch: 23 [200/490 (41%)]\tLoss: 0.470489\n",
      "Train Epoch: 23 [400/490 (82%)]\tLoss: 0.387823\n"
     ]
    },
    {
     "name": "stderr",
     "output_type": "stream",
     "text": [
      "\n",
      "\n",
      " 29%|██▉       | 23/80 [02:53<07:09,  7.54s/it]\u001b[A\u001b[A"
     ]
    },
    {
     "name": "stdout",
     "output_type": "stream",
     "text": [
      "Train Epoch: 24 [0/490 (0%)]\tLoss: 0.561746\n",
      "Train Epoch: 24 [200/490 (41%)]\tLoss: 0.479005\n",
      "Train Epoch: 24 [400/490 (82%)]\tLoss: 0.524991\n"
     ]
    },
    {
     "name": "stderr",
     "output_type": "stream",
     "text": [
      "\n",
      "\n",
      " 30%|███       | 24/80 [03:00<07:02,  7.54s/it]\u001b[A\u001b[A"
     ]
    },
    {
     "name": "stdout",
     "output_type": "stream",
     "text": [
      "Train Epoch: 25 [0/490 (0%)]\tLoss: 0.742293\n",
      "Train Epoch: 25 [200/490 (41%)]\tLoss: 0.395669\n",
      "Train Epoch: 25 [400/490 (82%)]\tLoss: 0.491304\n"
     ]
    },
    {
     "name": "stderr",
     "output_type": "stream",
     "text": [
      "\n",
      "\n",
      " 31%|███▏      | 25/80 [03:08<06:54,  7.54s/it]\u001b[A\u001b[A"
     ]
    },
    {
     "name": "stdout",
     "output_type": "stream",
     "text": [
      "Train Epoch: 26 [0/490 (0%)]\tLoss: 0.477444\n",
      "Train Epoch: 26 [200/490 (41%)]\tLoss: 0.716248\n",
      "Train Epoch: 26 [400/490 (82%)]\tLoss: 0.340973\n"
     ]
    },
    {
     "name": "stderr",
     "output_type": "stream",
     "text": [
      "\n",
      "\n",
      " 32%|███▎      | 26/80 [03:15<06:46,  7.53s/it]\u001b[A\u001b[A"
     ]
    },
    {
     "name": "stdout",
     "output_type": "stream",
     "text": [
      "Train Epoch: 27 [0/490 (0%)]\tLoss: 0.541381\n",
      "Train Epoch: 27 [200/490 (41%)]\tLoss: 0.598881\n",
      "Train Epoch: 27 [400/490 (82%)]\tLoss: 0.396322\n"
     ]
    },
    {
     "name": "stderr",
     "output_type": "stream",
     "text": [
      "\n",
      "\n",
      " 34%|███▍      | 27/80 [03:23<06:39,  7.53s/it]\u001b[A\u001b[A"
     ]
    },
    {
     "name": "stdout",
     "output_type": "stream",
     "text": [
      "Train Epoch: 28 [0/490 (0%)]\tLoss: 0.389565\n",
      "Train Epoch: 28 [200/490 (41%)]\tLoss: 0.513852\n",
      "Train Epoch: 28 [400/490 (82%)]\tLoss: 0.575688\n"
     ]
    },
    {
     "name": "stderr",
     "output_type": "stream",
     "text": [
      "\n",
      "\n",
      " 35%|███▌      | 28/80 [03:31<06:31,  7.53s/it]\u001b[A\u001b[A"
     ]
    },
    {
     "name": "stdout",
     "output_type": "stream",
     "text": [
      "Train Epoch: 29 [0/490 (0%)]\tLoss: 0.226487\n",
      "Train Epoch: 29 [200/490 (41%)]\tLoss: 0.205789\n",
      "Train Epoch: 29 [400/490 (82%)]\tLoss: 0.414924\n"
     ]
    },
    {
     "name": "stderr",
     "output_type": "stream",
     "text": [
      "\n",
      "\n",
      " 36%|███▋      | 29/80 [03:38<06:24,  7.53s/it]\u001b[A\u001b[A"
     ]
    },
    {
     "name": "stdout",
     "output_type": "stream",
     "text": [
      "Train Epoch: 30 [0/490 (0%)]\tLoss: 0.594926\n",
      "Train Epoch: 30 [200/490 (41%)]\tLoss: 0.397225\n",
      "Train Epoch: 30 [400/490 (82%)]\tLoss: 0.570140\n"
     ]
    },
    {
     "name": "stderr",
     "output_type": "stream",
     "text": [
      "\n",
      "\n",
      " 38%|███▊      | 30/80 [03:46<06:16,  7.53s/it]\u001b[A\u001b[A"
     ]
    },
    {
     "name": "stdout",
     "output_type": "stream",
     "text": [
      "Train Epoch: 31 [0/490 (0%)]\tLoss: 0.495962\n",
      "Train Epoch: 31 [200/490 (41%)]\tLoss: 0.479012\n",
      "Train Epoch: 31 [400/490 (82%)]\tLoss: 0.488979\n"
     ]
    },
    {
     "name": "stderr",
     "output_type": "stream",
     "text": [
      "\n",
      "\n",
      " 39%|███▉      | 31/80 [03:53<06:09,  7.54s/it]\u001b[A\u001b[A"
     ]
    },
    {
     "name": "stdout",
     "output_type": "stream",
     "text": [
      "Train Epoch: 32 [0/490 (0%)]\tLoss: 0.400021\n",
      "Train Epoch: 32 [200/490 (41%)]\tLoss: 0.306216\n",
      "Train Epoch: 32 [400/490 (82%)]\tLoss: 0.306332\n"
     ]
    },
    {
     "name": "stderr",
     "output_type": "stream",
     "text": [
      "\n",
      "\n",
      " 40%|████      | 32/80 [04:01<06:01,  7.54s/it]\u001b[A\u001b[A"
     ]
    },
    {
     "name": "stdout",
     "output_type": "stream",
     "text": [
      "Train Epoch: 33 [0/490 (0%)]\tLoss: 0.453758\n",
      "Train Epoch: 33 [200/490 (41%)]\tLoss: 0.580537\n",
      "Train Epoch: 33 [400/490 (82%)]\tLoss: 0.504920\n"
     ]
    },
    {
     "name": "stderr",
     "output_type": "stream",
     "text": [
      "\n",
      "\n",
      " 41%|████▏     | 33/80 [04:08<05:54,  7.55s/it]\u001b[A\u001b[A"
     ]
    },
    {
     "name": "stdout",
     "output_type": "stream",
     "text": [
      "Train Epoch: 34 [0/490 (0%)]\tLoss: 0.302755\n",
      "Train Epoch: 34 [200/490 (41%)]\tLoss: 0.493356\n",
      "Train Epoch: 34 [400/490 (82%)]\tLoss: 0.271270\n"
     ]
    },
    {
     "name": "stderr",
     "output_type": "stream",
     "text": [
      "\n",
      "\n",
      " 42%|████▎     | 34/80 [04:16<05:47,  7.56s/it]\u001b[A\u001b[A"
     ]
    },
    {
     "name": "stdout",
     "output_type": "stream",
     "text": [
      "Train Epoch: 35 [0/490 (0%)]\tLoss: 0.646689\n",
      "Train Epoch: 35 [200/490 (41%)]\tLoss: 0.489787\n",
      "Train Epoch: 35 [400/490 (82%)]\tLoss: 0.523485\n"
     ]
    },
    {
     "name": "stderr",
     "output_type": "stream",
     "text": [
      "\n",
      "\n",
      " 44%|████▍     | 35/80 [04:23<05:39,  7.55s/it]\u001b[A\u001b[A"
     ]
    },
    {
     "name": "stdout",
     "output_type": "stream",
     "text": [
      "Train Epoch: 36 [0/490 (0%)]\tLoss: 0.497623\n",
      "Train Epoch: 36 [200/490 (41%)]\tLoss: 0.398185\n",
      "Train Epoch: 36 [400/490 (82%)]\tLoss: 0.277722\n"
     ]
    },
    {
     "name": "stderr",
     "output_type": "stream",
     "text": [
      "\n",
      "\n",
      " 45%|████▌     | 36/80 [04:31<05:31,  7.54s/it]\u001b[A\u001b[A"
     ]
    },
    {
     "name": "stdout",
     "output_type": "stream",
     "text": [
      "Train Epoch: 37 [0/490 (0%)]\tLoss: 0.473932\n",
      "Train Epoch: 37 [200/490 (41%)]\tLoss: 0.437604\n",
      "Train Epoch: 37 [400/490 (82%)]\tLoss: 0.663877\n"
     ]
    },
    {
     "name": "stderr",
     "output_type": "stream",
     "text": [
      "\n",
      "\n",
      " 46%|████▋     | 37/80 [04:38<05:24,  7.54s/it]\u001b[A\u001b[A"
     ]
    },
    {
     "name": "stdout",
     "output_type": "stream",
     "text": [
      "Train Epoch: 38 [0/490 (0%)]\tLoss: 0.572385\n",
      "Train Epoch: 38 [200/490 (41%)]\tLoss: 0.407622\n",
      "Train Epoch: 38 [400/490 (82%)]\tLoss: 0.525515\n"
     ]
    },
    {
     "name": "stderr",
     "output_type": "stream",
     "text": [
      "\n",
      "\n",
      " 48%|████▊     | 38/80 [04:46<05:16,  7.54s/it]\u001b[A\u001b[A"
     ]
    },
    {
     "name": "stdout",
     "output_type": "stream",
     "text": [
      "Train Epoch: 39 [0/490 (0%)]\tLoss: 0.459235\n",
      "Train Epoch: 39 [200/490 (41%)]\tLoss: 0.415757\n",
      "Train Epoch: 39 [400/490 (82%)]\tLoss: 0.517310\n"
     ]
    },
    {
     "name": "stderr",
     "output_type": "stream",
     "text": [
      "\n",
      "\n",
      " 49%|████▉     | 39/80 [04:54<05:08,  7.54s/it]\u001b[A\u001b[A"
     ]
    },
    {
     "name": "stdout",
     "output_type": "stream",
     "text": [
      "Train Epoch: 40 [0/490 (0%)]\tLoss: 0.421713\n",
      "Train Epoch: 40 [200/490 (41%)]\tLoss: 0.390367\n",
      "Train Epoch: 40 [400/490 (82%)]\tLoss: 0.412825\n"
     ]
    },
    {
     "name": "stderr",
     "output_type": "stream",
     "text": [
      "\n",
      "\n",
      " 50%|█████     | 40/80 [05:01<05:01,  7.53s/it]\u001b[A\u001b[A"
     ]
    },
    {
     "name": "stdout",
     "output_type": "stream",
     "text": [
      "Train Epoch: 41 [0/490 (0%)]\tLoss: 0.465523\n",
      "Train Epoch: 41 [200/490 (41%)]\tLoss: 0.398642\n",
      "Train Epoch: 41 [400/490 (82%)]\tLoss: 0.520306\n"
     ]
    },
    {
     "name": "stderr",
     "output_type": "stream",
     "text": [
      "\n",
      "\n",
      " 51%|█████▏    | 41/80 [05:09<04:53,  7.53s/it]\u001b[A\u001b[A"
     ]
    },
    {
     "name": "stdout",
     "output_type": "stream",
     "text": [
      "Train Epoch: 42 [0/490 (0%)]\tLoss: 0.432941\n",
      "Train Epoch: 42 [200/490 (41%)]\tLoss: 0.485113\n",
      "Train Epoch: 42 [400/490 (82%)]\tLoss: 0.719038\n"
     ]
    },
    {
     "name": "stderr",
     "output_type": "stream",
     "text": [
      "\n",
      "\n",
      " 52%|█████▎    | 42/80 [05:16<04:46,  7.53s/it]\u001b[A\u001b[A"
     ]
    },
    {
     "name": "stdout",
     "output_type": "stream",
     "text": [
      "Train Epoch: 43 [0/490 (0%)]\tLoss: 0.527922\n",
      "Train Epoch: 43 [200/490 (41%)]\tLoss: 0.624379\n",
      "Train Epoch: 43 [400/490 (82%)]\tLoss: 0.580158\n"
     ]
    },
    {
     "name": "stderr",
     "output_type": "stream",
     "text": [
      "\n",
      "\n",
      " 54%|█████▍    | 43/80 [05:24<04:38,  7.54s/it]\u001b[A\u001b[A"
     ]
    },
    {
     "name": "stdout",
     "output_type": "stream",
     "text": [
      "Train Epoch: 44 [0/490 (0%)]\tLoss: 0.647000\n",
      "Train Epoch: 44 [200/490 (41%)]\tLoss: 0.435895\n",
      "Train Epoch: 44 [400/490 (82%)]\tLoss: 0.469752\n"
     ]
    },
    {
     "name": "stderr",
     "output_type": "stream",
     "text": [
      "\n",
      "\n",
      " 55%|█████▌    | 44/80 [05:31<04:31,  7.53s/it]\u001b[A\u001b[A"
     ]
    },
    {
     "name": "stdout",
     "output_type": "stream",
     "text": [
      "Train Epoch: 45 [0/490 (0%)]\tLoss: 0.393659\n",
      "Train Epoch: 45 [200/490 (41%)]\tLoss: 0.382684\n",
      "Train Epoch: 45 [400/490 (82%)]\tLoss: 0.475171\n"
     ]
    },
    {
     "name": "stderr",
     "output_type": "stream",
     "text": [
      "\n",
      "\n",
      " 56%|█████▋    | 45/80 [05:39<04:24,  7.55s/it]\u001b[A\u001b[A"
     ]
    },
    {
     "name": "stdout",
     "output_type": "stream",
     "text": [
      "Train Epoch: 46 [0/490 (0%)]\tLoss: 0.711828\n",
      "Train Epoch: 46 [200/490 (41%)]\tLoss: 0.548272\n",
      "Train Epoch: 46 [400/490 (82%)]\tLoss: 0.570115\n"
     ]
    },
    {
     "name": "stderr",
     "output_type": "stream",
     "text": [
      "\n",
      "\n",
      " 57%|█████▊    | 46/80 [05:46<04:16,  7.56s/it]\u001b[A\u001b[A"
     ]
    },
    {
     "name": "stdout",
     "output_type": "stream",
     "text": [
      "Train Epoch: 47 [0/490 (0%)]\tLoss: 0.647780\n",
      "Train Epoch: 47 [200/490 (41%)]\tLoss: 0.491896\n",
      "Train Epoch: 47 [400/490 (82%)]\tLoss: 0.401589\n"
     ]
    },
    {
     "name": "stderr",
     "output_type": "stream",
     "text": [
      "\n",
      "\n",
      " 59%|█████▉    | 47/80 [05:54<04:09,  7.55s/it]\u001b[A\u001b[A"
     ]
    },
    {
     "name": "stdout",
     "output_type": "stream",
     "text": [
      "Train Epoch: 48 [0/490 (0%)]\tLoss: 0.554084\n",
      "Train Epoch: 48 [200/490 (41%)]\tLoss: 0.374186\n",
      "Train Epoch: 48 [400/490 (82%)]\tLoss: 0.518919\n"
     ]
    },
    {
     "name": "stderr",
     "output_type": "stream",
     "text": [
      "\n",
      "\n",
      " 60%|██████    | 48/80 [06:01<04:01,  7.55s/it]\u001b[A\u001b[A"
     ]
    },
    {
     "name": "stdout",
     "output_type": "stream",
     "text": [
      "Train Epoch: 49 [0/490 (0%)]\tLoss: 0.605240\n",
      "Train Epoch: 49 [200/490 (41%)]\tLoss: 0.360794\n",
      "Train Epoch: 49 [400/490 (82%)]\tLoss: 0.659145\n"
     ]
    },
    {
     "name": "stderr",
     "output_type": "stream",
     "text": [
      "\n",
      "\n",
      " 61%|██████▏   | 49/80 [06:09<03:53,  7.54s/it]\u001b[A\u001b[A"
     ]
    },
    {
     "name": "stdout",
     "output_type": "stream",
     "text": [
      "Train Epoch: 50 [0/490 (0%)]\tLoss: 0.619686\n",
      "Train Epoch: 50 [200/490 (41%)]\tLoss: 0.546507\n",
      "Train Epoch: 50 [400/490 (82%)]\tLoss: 0.557771\n"
     ]
    },
    {
     "name": "stderr",
     "output_type": "stream",
     "text": [
      "\n",
      "\n",
      " 62%|██████▎   | 50/80 [06:16<03:46,  7.54s/it]\u001b[A\u001b[A"
     ]
    },
    {
     "name": "stdout",
     "output_type": "stream",
     "text": [
      "Train Epoch: 51 [0/490 (0%)]\tLoss: 0.642277\n",
      "Train Epoch: 51 [200/490 (41%)]\tLoss: 0.704352\n",
      "Train Epoch: 51 [400/490 (82%)]\tLoss: 0.481407\n"
     ]
    },
    {
     "name": "stderr",
     "output_type": "stream",
     "text": [
      "\n",
      "\n",
      " 64%|██████▍   | 51/80 [06:24<03:38,  7.54s/it]\u001b[A\u001b[A"
     ]
    },
    {
     "name": "stdout",
     "output_type": "stream",
     "text": [
      "Train Epoch: 52 [0/490 (0%)]\tLoss: 0.444330\n",
      "Train Epoch: 52 [200/490 (41%)]\tLoss: 0.606521\n",
      "Train Epoch: 52 [400/490 (82%)]\tLoss: 0.311078\n"
     ]
    },
    {
     "name": "stderr",
     "output_type": "stream",
     "text": [
      "\n",
      "\n",
      " 65%|██████▌   | 52/80 [06:32<03:31,  7.54s/it]\u001b[A\u001b[A"
     ]
    },
    {
     "name": "stdout",
     "output_type": "stream",
     "text": [
      "Train Epoch: 53 [0/490 (0%)]\tLoss: 0.490812\n",
      "Train Epoch: 53 [200/490 (41%)]\tLoss: 0.542465\n",
      "Train Epoch: 53 [400/490 (82%)]\tLoss: 0.352731\n"
     ]
    },
    {
     "name": "stderr",
     "output_type": "stream",
     "text": [
      "\n",
      "\n",
      " 66%|██████▋   | 53/80 [06:39<03:23,  7.55s/it]\u001b[A\u001b[A"
     ]
    },
    {
     "name": "stdout",
     "output_type": "stream",
     "text": [
      "Train Epoch: 54 [0/490 (0%)]\tLoss: 0.426526\n",
      "Train Epoch: 54 [200/490 (41%)]\tLoss: 0.693399\n",
      "Train Epoch: 54 [400/490 (82%)]\tLoss: 0.524173\n"
     ]
    },
    {
     "name": "stderr",
     "output_type": "stream",
     "text": [
      "\n",
      "\n",
      " 68%|██████▊   | 54/80 [06:47<03:16,  7.55s/it]\u001b[A\u001b[A"
     ]
    },
    {
     "name": "stdout",
     "output_type": "stream",
     "text": [
      "Train Epoch: 55 [0/490 (0%)]\tLoss: 0.269025\n",
      "Train Epoch: 55 [200/490 (41%)]\tLoss: 0.559293\n",
      "Train Epoch: 55 [400/490 (82%)]\tLoss: 0.536718\n"
     ]
    },
    {
     "name": "stderr",
     "output_type": "stream",
     "text": [
      "\n",
      "\n",
      " 69%|██████▉   | 55/80 [06:54<03:08,  7.55s/it]\u001b[A\u001b[A"
     ]
    },
    {
     "name": "stdout",
     "output_type": "stream",
     "text": [
      "Train Epoch: 56 [0/490 (0%)]\tLoss: 0.489876\n",
      "Train Epoch: 56 [200/490 (41%)]\tLoss: 0.463393\n",
      "Train Epoch: 56 [400/490 (82%)]\tLoss: 0.371270\n"
     ]
    },
    {
     "name": "stderr",
     "output_type": "stream",
     "text": [
      "\n",
      "\n",
      " 70%|███████   | 56/80 [07:02<03:01,  7.56s/it]\u001b[A\u001b[A"
     ]
    },
    {
     "name": "stdout",
     "output_type": "stream",
     "text": [
      "Train Epoch: 57 [0/490 (0%)]\tLoss: 0.553953\n",
      "Train Epoch: 57 [200/490 (41%)]\tLoss: 0.498490\n",
      "Train Epoch: 57 [400/490 (82%)]\tLoss: 0.558602\n"
     ]
    },
    {
     "name": "stderr",
     "output_type": "stream",
     "text": [
      "\n",
      "\n",
      " 71%|███████▏  | 57/80 [07:09<02:54,  7.57s/it]\u001b[A\u001b[A"
     ]
    },
    {
     "name": "stdout",
     "output_type": "stream",
     "text": [
      "Train Epoch: 58 [0/490 (0%)]\tLoss: 0.432759\n",
      "Train Epoch: 58 [200/490 (41%)]\tLoss: 0.566315\n",
      "Train Epoch: 58 [400/490 (82%)]\tLoss: 0.456958\n"
     ]
    },
    {
     "name": "stderr",
     "output_type": "stream",
     "text": [
      "\n",
      "\n",
      " 72%|███████▎  | 58/80 [07:17<02:46,  7.56s/it]\u001b[A\u001b[A"
     ]
    },
    {
     "name": "stdout",
     "output_type": "stream",
     "text": [
      "Train Epoch: 59 [0/490 (0%)]\tLoss: 0.448319\n",
      "Train Epoch: 59 [200/490 (41%)]\tLoss: 0.563200\n",
      "Train Epoch: 59 [400/490 (82%)]\tLoss: 0.260625\n"
     ]
    },
    {
     "name": "stderr",
     "output_type": "stream",
     "text": [
      "\n",
      "\n",
      " 74%|███████▍  | 59/80 [07:25<02:38,  7.57s/it]\u001b[A\u001b[A"
     ]
    },
    {
     "name": "stdout",
     "output_type": "stream",
     "text": [
      "Train Epoch: 60 [0/490 (0%)]\tLoss: 0.550319\n",
      "Train Epoch: 60 [200/490 (41%)]\tLoss: 0.436110\n",
      "Train Epoch: 60 [400/490 (82%)]\tLoss: 0.621792\n"
     ]
    },
    {
     "name": "stderr",
     "output_type": "stream",
     "text": [
      "\n",
      "\n",
      " 75%|███████▌  | 60/80 [07:32<02:31,  7.58s/it]\u001b[A\u001b[A"
     ]
    },
    {
     "name": "stdout",
     "output_type": "stream",
     "text": [
      "Train Epoch: 61 [0/490 (0%)]\tLoss: 0.382286\n",
      "Train Epoch: 61 [200/490 (41%)]\tLoss: 0.726099\n",
      "Train Epoch: 61 [400/490 (82%)]\tLoss: 0.600828\n"
     ]
    },
    {
     "name": "stderr",
     "output_type": "stream",
     "text": [
      "\n",
      "\n",
      " 76%|███████▋  | 61/80 [07:40<02:23,  7.56s/it]\u001b[A\u001b[A"
     ]
    },
    {
     "name": "stdout",
     "output_type": "stream",
     "text": [
      "Train Epoch: 62 [0/490 (0%)]\tLoss: 0.370269\n",
      "Train Epoch: 62 [200/490 (41%)]\tLoss: 0.462231\n",
      "Train Epoch: 62 [400/490 (82%)]\tLoss: 0.738109\n"
     ]
    },
    {
     "name": "stderr",
     "output_type": "stream",
     "text": [
      "\n",
      "\n",
      " 78%|███████▊  | 62/80 [07:47<02:15,  7.55s/it]\u001b[A\u001b[A"
     ]
    },
    {
     "name": "stdout",
     "output_type": "stream",
     "text": [
      "Train Epoch: 63 [0/490 (0%)]\tLoss: 0.539813\n",
      "Train Epoch: 63 [200/490 (41%)]\tLoss: 0.675546\n",
      "Train Epoch: 63 [400/490 (82%)]\tLoss: 0.498947\n"
     ]
    },
    {
     "name": "stderr",
     "output_type": "stream",
     "text": [
      "\n",
      "\n",
      " 79%|███████▉  | 63/80 [07:55<02:08,  7.55s/it]\u001b[A\u001b[A"
     ]
    },
    {
     "name": "stdout",
     "output_type": "stream",
     "text": [
      "Train Epoch: 64 [0/490 (0%)]\tLoss: 0.496009\n",
      "Train Epoch: 64 [200/490 (41%)]\tLoss: 0.540592\n",
      "Train Epoch: 64 [400/490 (82%)]\tLoss: 0.428394\n"
     ]
    },
    {
     "name": "stderr",
     "output_type": "stream",
     "text": [
      "\n",
      "\n",
      " 80%|████████  | 64/80 [08:02<02:00,  7.55s/it]\u001b[A\u001b[A"
     ]
    },
    {
     "name": "stdout",
     "output_type": "stream",
     "text": [
      "Train Epoch: 65 [0/490 (0%)]\tLoss: 0.599188\n",
      "Train Epoch: 65 [200/490 (41%)]\tLoss: 0.473562\n",
      "Train Epoch: 65 [400/490 (82%)]\tLoss: 0.495245\n"
     ]
    },
    {
     "name": "stderr",
     "output_type": "stream",
     "text": [
      "\n",
      "\n",
      " 81%|████████▏ | 65/80 [08:10<01:53,  7.55s/it]\u001b[A\u001b[A"
     ]
    },
    {
     "name": "stdout",
     "output_type": "stream",
     "text": [
      "Train Epoch: 66 [0/490 (0%)]\tLoss: 0.539147\n",
      "Train Epoch: 66 [200/490 (41%)]\tLoss: 0.321330\n",
      "Train Epoch: 66 [400/490 (82%)]\tLoss: 0.343628\n"
     ]
    },
    {
     "name": "stderr",
     "output_type": "stream",
     "text": [
      "\n",
      "\n",
      " 82%|████████▎ | 66/80 [08:17<01:45,  7.56s/it]\u001b[A\u001b[A"
     ]
    },
    {
     "name": "stdout",
     "output_type": "stream",
     "text": [
      "Train Epoch: 67 [0/490 (0%)]\tLoss: 0.425988\n",
      "Train Epoch: 67 [200/490 (41%)]\tLoss: 0.248076\n",
      "Train Epoch: 67 [400/490 (82%)]\tLoss: 0.431854\n"
     ]
    },
    {
     "name": "stderr",
     "output_type": "stream",
     "text": [
      "\n",
      "\n",
      " 84%|████████▍ | 67/80 [08:25<01:38,  7.55s/it]\u001b[A\u001b[A"
     ]
    },
    {
     "name": "stdout",
     "output_type": "stream",
     "text": [
      "Train Epoch: 68 [0/490 (0%)]\tLoss: 0.499511\n",
      "Train Epoch: 68 [200/490 (41%)]\tLoss: 0.468939\n",
      "Train Epoch: 68 [400/490 (82%)]\tLoss: 0.388858\n"
     ]
    },
    {
     "name": "stderr",
     "output_type": "stream",
     "text": [
      "\n",
      "\n",
      " 85%|████████▌ | 68/80 [08:32<01:30,  7.55s/it]\u001b[A\u001b[A"
     ]
    },
    {
     "name": "stdout",
     "output_type": "stream",
     "text": [
      "Train Epoch: 69 [0/490 (0%)]\tLoss: 0.551411\n",
      "Train Epoch: 69 [200/490 (41%)]\tLoss: 0.646614\n",
      "Train Epoch: 69 [400/490 (82%)]\tLoss: 0.676825\n"
     ]
    },
    {
     "name": "stderr",
     "output_type": "stream",
     "text": [
      "\n",
      "\n",
      " 86%|████████▋ | 69/80 [08:40<01:23,  7.55s/it]\u001b[A\u001b[A"
     ]
    },
    {
     "name": "stdout",
     "output_type": "stream",
     "text": [
      "Train Epoch: 70 [0/490 (0%)]\tLoss: 0.595969\n",
      "Train Epoch: 70 [200/490 (41%)]\tLoss: 0.374251\n",
      "Train Epoch: 70 [400/490 (82%)]\tLoss: 0.508282\n"
     ]
    },
    {
     "name": "stderr",
     "output_type": "stream",
     "text": [
      "\n",
      "\n",
      " 88%|████████▊ | 70/80 [08:48<01:15,  7.54s/it]\u001b[A\u001b[A"
     ]
    },
    {
     "name": "stdout",
     "output_type": "stream",
     "text": [
      "Train Epoch: 71 [0/490 (0%)]\tLoss: 0.270488\n",
      "Train Epoch: 71 [200/490 (41%)]\tLoss: 0.474384\n",
      "Train Epoch: 71 [400/490 (82%)]\tLoss: 0.648211\n"
     ]
    },
    {
     "name": "stderr",
     "output_type": "stream",
     "text": [
      "\n",
      "\n",
      " 89%|████████▉ | 71/80 [08:55<01:08,  7.56s/it]\u001b[A\u001b[A"
     ]
    },
    {
     "name": "stdout",
     "output_type": "stream",
     "text": [
      "Train Epoch: 72 [0/490 (0%)]\tLoss: 0.603437\n",
      "Train Epoch: 72 [200/490 (41%)]\tLoss: 0.434711\n",
      "Train Epoch: 72 [400/490 (82%)]\tLoss: 0.530045\n"
     ]
    },
    {
     "name": "stderr",
     "output_type": "stream",
     "text": [
      "\n",
      "\n",
      " 90%|█████████ | 72/80 [09:03<01:00,  7.55s/it]\u001b[A\u001b[A"
     ]
    },
    {
     "name": "stdout",
     "output_type": "stream",
     "text": [
      "Train Epoch: 73 [0/490 (0%)]\tLoss: 0.572338\n",
      "Train Epoch: 73 [200/490 (41%)]\tLoss: 0.417796\n",
      "Train Epoch: 73 [400/490 (82%)]\tLoss: 0.480082\n"
     ]
    },
    {
     "name": "stderr",
     "output_type": "stream",
     "text": [
      "\n",
      "\n",
      " 91%|█████████▏| 73/80 [09:10<00:52,  7.55s/it]\u001b[A\u001b[A"
     ]
    },
    {
     "name": "stdout",
     "output_type": "stream",
     "text": [
      "Train Epoch: 74 [0/490 (0%)]\tLoss: 0.413041\n",
      "Train Epoch: 74 [200/490 (41%)]\tLoss: 0.512808\n",
      "Train Epoch: 74 [400/490 (82%)]\tLoss: 0.318678\n"
     ]
    },
    {
     "name": "stderr",
     "output_type": "stream",
     "text": [
      "\n",
      "\n",
      " 92%|█████████▎| 74/80 [09:18<00:45,  7.56s/it]\u001b[A\u001b[A"
     ]
    },
    {
     "name": "stdout",
     "output_type": "stream",
     "text": [
      "Train Epoch: 75 [0/490 (0%)]\tLoss: 0.622174\n",
      "Train Epoch: 75 [200/490 (41%)]\tLoss: 0.313424\n",
      "Train Epoch: 75 [400/490 (82%)]\tLoss: 0.425131\n"
     ]
    },
    {
     "name": "stderr",
     "output_type": "stream",
     "text": [
      "\n",
      "\n",
      " 94%|█████████▍| 75/80 [09:25<00:37,  7.55s/it]\u001b[A\u001b[A"
     ]
    },
    {
     "name": "stdout",
     "output_type": "stream",
     "text": [
      "Train Epoch: 76 [0/490 (0%)]\tLoss: 0.491528\n",
      "Train Epoch: 76 [200/490 (41%)]\tLoss: 0.419491\n",
      "Train Epoch: 76 [400/490 (82%)]\tLoss: 0.748329\n"
     ]
    },
    {
     "name": "stderr",
     "output_type": "stream",
     "text": [
      "\n",
      "\n",
      " 95%|█████████▌| 76/80 [09:33<00:30,  7.55s/it]\u001b[A\u001b[A"
     ]
    },
    {
     "name": "stdout",
     "output_type": "stream",
     "text": [
      "Train Epoch: 77 [0/490 (0%)]\tLoss: 0.536999\n",
      "Train Epoch: 77 [200/490 (41%)]\tLoss: 0.511876\n",
      "Train Epoch: 77 [400/490 (82%)]\tLoss: 0.366549\n"
     ]
    },
    {
     "name": "stderr",
     "output_type": "stream",
     "text": [
      "\n",
      "\n",
      " 96%|█████████▋| 77/80 [09:40<00:22,  7.54s/it]\u001b[A\u001b[A"
     ]
    },
    {
     "name": "stdout",
     "output_type": "stream",
     "text": [
      "Train Epoch: 78 [0/490 (0%)]\tLoss: 0.656677\n",
      "Train Epoch: 78 [200/490 (41%)]\tLoss: 0.621653\n",
      "Train Epoch: 78 [400/490 (82%)]\tLoss: 0.514166\n"
     ]
    },
    {
     "name": "stderr",
     "output_type": "stream",
     "text": [
      "\n",
      "\n",
      " 98%|█████████▊| 78/80 [09:48<00:15,  7.54s/it]\u001b[A\u001b[A"
     ]
    },
    {
     "name": "stdout",
     "output_type": "stream",
     "text": [
      "Train Epoch: 79 [0/490 (0%)]\tLoss: 0.448693\n",
      "Train Epoch: 79 [200/490 (41%)]\tLoss: 0.611266\n",
      "Train Epoch: 79 [400/490 (82%)]\tLoss: 0.563739\n"
     ]
    },
    {
     "name": "stderr",
     "output_type": "stream",
     "text": [
      "\n",
      "\n",
      " 99%|█████████▉| 79/80 [09:55<00:07,  7.54s/it]\u001b[A\u001b[A"
     ]
    },
    {
     "name": "stdout",
     "output_type": "stream",
     "text": [
      "Train Epoch: 80 [0/490 (0%)]\tLoss: 0.541035\n",
      "Train Epoch: 80 [200/490 (41%)]\tLoss: 0.420723\n",
      "Train Epoch: 80 [400/490 (82%)]\tLoss: 0.375090\n"
     ]
    },
    {
     "name": "stderr",
     "output_type": "stream",
     "text": [
      "\n",
      "\n",
      "100%|██████████| 80/80 [10:03<00:00,  7.54s/it]\u001b[A\u001b[A\n"
     ]
    },
    {
     "name": "stdout",
     "output_type": "stream",
     "text": [
      "\n",
      "Validation set: Average loss: 0.5925, Accuracy: 39/60 (65.00%)\n",
      "\n"
     ]
    }
   ],
   "source": [
    "with mlflow.start_run():\n",
    "    batch_size = 10\n",
    "    J = 2\n",
    "    max_order = 2\n",
    "\n",
    "    #create data loader\n",
    "    train_loader = DataLoader(dataset=train_dataset,\n",
    "                              batch_size=batch_size,\n",
    "                              shuffle=True,\n",
    "                              num_workers=2)\n",
    "    test_loader = DataLoader(dataset=test_dataset,\n",
    "                              batch_size=batch_size,\n",
    "                              shuffle=True,\n",
    "                              num_workers=2)\n",
    "\n",
    "\n",
    "    # compute scattering features---------------------------------------                       \n",
    "    if max_order == 1:\n",
    "        scattering = Scattering2D(J=J, shape=(M, N), max_order=max_order)\n",
    "        K = 17*1\n",
    "    else:\n",
    "        scattering = Scattering2D(J=J, shape=(M, N))\n",
    "        K = 81*1\n",
    "\n",
    "    if use_cuda:\n",
    "        scattering = scattering.cuda()     \n",
    "\n",
    "    model = Scattering2dResNet(K,2).to(device)\n",
    "\n",
    "    #training------------------------------------------------------------                         \n",
    "    from tqdm import tqdm\n",
    "    # Optimizer\n",
    "    lr = 0.1\n",
    "    val_loss_no_imp = 0\n",
    "    val_loss_last = 0\n",
    "    patience = 5\n",
    "    for epoch in tqdm(range(0, 80)):\n",
    "        optimizer = torch.optim.SGD(model.parameters(), lr=lr, momentum=0.9,\n",
    "                                  weight_decay=0.0005)\n",
    "        lr*=0.2\n",
    "        train(model, device, train_loader, optimizer, epoch+1, scattering)\n",
    "        \n",
    "\n",
    "    test_loss , test_accuracy = test(model, device, test_loader, scattering)\n",
    "    mlflow.log_param('Model', 'Scattering features + CNN')\n",
    "    mlflow.log_metric('accuracy', test_accuracy)\n"
   ]
  },
  {
   "cell_type": "code",
   "execution_count": 25,
   "metadata": {},
   "outputs": [
    {
     "name": "stdout",
     "output_type": "stream",
     "text": [
      "\n",
      "Validation set: Average loss: 0.5688, Accuracy: 40/60 (66.67%)\n",
      "\n"
     ]
    }
   ],
   "source": [
    "test_loss , test_accuracy = test(model, device, test_loader, scattering)\n"
   ]
  },
  {
   "cell_type": "code",
   "execution_count": null,
   "metadata": {},
   "outputs": [],
   "source": []
  }
 ],
 "metadata": {
  "accelerator": "GPU",
  "colab": {
   "collapsed_sections": [],
   "name": "Transfer learning with deep convolutional neural network for liver steatosis assessment in ultrasound images Reproducibility with Scatterin.ipynb",
   "provenance": [],
   "toc_visible": true
  },
  "kernelspec": {
   "display_name": "Python 3 (ultra)",
   "language": "python",
   "name": "ultra"
  },
  "language_info": {
   "codemirror_mode": {
    "name": "ipython",
    "version": 3
   },
   "file_extension": ".py",
   "mimetype": "text/x-python",
   "name": "python",
   "nbconvert_exporter": "python",
   "pygments_lexer": "ipython3",
   "version": "3.7.0"
  }
 },
 "nbformat": 4,
 "nbformat_minor": 4
}
