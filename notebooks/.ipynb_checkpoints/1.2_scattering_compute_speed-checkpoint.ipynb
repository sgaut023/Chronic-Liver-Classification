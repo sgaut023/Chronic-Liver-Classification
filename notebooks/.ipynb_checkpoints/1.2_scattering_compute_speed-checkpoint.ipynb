{
 "cells": [
  {
   "cell_type": "markdown",
   "metadata": {
    "colab_type": "text",
    "id": "ENoS3mTtGQts"
   },
   "source": [
    "# Experiment 02: Deformations Experiments ETH-01\n",
    "\n",
    "In this notebook, we are using the CLUST Dataset.\n",
    "The sequence used for this notebook is ETH-01.zip\n"
   ]
  },
  {
   "cell_type": "code",
   "execution_count": 1,
   "metadata": {
    "colab": {},
    "colab_type": "code",
    "id": "ptO9fUvkD-Lc"
   },
   "outputs": [],
   "source": [
    "import sys\n",
    "import random\n",
    "import os\n",
    "sys.path.append('../src')\n",
    "import warnings\n",
    "warnings.filterwarnings(\"ignore\") \n",
    "from PIL import Image\n",
    "from sklearn.manifold import Isomap\n",
    "from utils.compute_metrics import get_metrics, get_majority_vote,log_test_metrics\n",
    "from utils.split import train_test_split\n",
    "from sklearn.preprocessing import StandardScaler\n",
    "from sklearn.decomposition import PCA\n",
    "from sklearn.svm import LinearSVC\n",
    "from sklearn.svm import SVC\n",
    "from sklearn.model_selection import GroupKFold\n",
    "from tqdm import tqdm\n",
    "from pprint import pprint\n",
    "import torch\n",
    "from itertools import product\n",
    "import pickle\n",
    "import pandas as pd\n",
    "import numpy as np\n",
    "import mlflow\n",
    "import matplotlib.pyplot as plt\n",
    "#from kymatio.numpy import Scattering2D\n",
    "\n",
    "import torch\n",
    "from tqdm import tqdm\n",
    "from kymatio.torch import Scattering2D\n",
    "import time\n",
    "import kymatio.scattering2d.backend as backend\n",
    "\n",
    "###############################################################################\n",
    "# Finally, we import the `Scattering2D` class that computes the scattering\n",
    "# transform.\n",
    "\n",
    "from kymatio import Scattering2D\n"
   ]
  },
  {
   "cell_type": "markdown",
   "metadata": {},
   "source": [
    "# 1. Visualize Sequence of US\n",
    "We are visualizing the first images from the sequence ETH-01-1 that contains 3652 US images."
   ]
  },
  {
   "cell_type": "code",
   "execution_count": 5,
   "metadata": {},
   "outputs": [],
   "source": [
    "directory=os.listdir('../data/02_interim/Data1')\n",
    "directory.sort()"
   ]
  },
  {
   "cell_type": "markdown",
   "metadata": {},
   "source": [
    "# 2. Create Dataset"
   ]
  },
  {
   "cell_type": "code",
   "execution_count": null,
   "metadata": {},
   "outputs": [],
   "source": [
    "M = 256\n",
    "N = 256"
   ]
  },
  {
   "cell_type": "code",
   "execution_count": 6,
   "metadata": {},
   "outputs": [
    {
     "name": "stdout",
     "output_type": "stream",
     "text": [
      "CPU times: user 20.4 ms, sys: 1.55 ms, total: 21.9 ms\n",
      "Wall time: 23.5 ms\n"
     ]
    }
   ],
   "source": [
    "%%time\n",
    "ll_imgstemp = [plt.imread(\"../data/02_interim/Data1/\" + dir) for dir in directory[:5]]"
   ]
  },
  {
   "cell_type": "code",
   "execution_count": 7,
   "metadata": {},
   "outputs": [
    {
     "name": "stdout",
     "output_type": "stream",
     "text": [
      "CPU times: user 2.7 s, sys: 988 ms, total: 3.69 s\n",
      "Wall time: 5.67 s\n"
     ]
    }
   ],
   "source": [
    "%%time\n",
    "ll_imgs = [np.array(Image.open(\"../data/02_interim/Data1/\" + dir).resize(size=(256, 256)), dtype='float32') for dir in directory]"
   ]
  },
  {
   "cell_type": "code",
   "execution_count": 8,
   "metadata": {},
   "outputs": [
    {
     "name": "stdout",
     "output_type": "stream",
     "text": [
      "CPU times: user 1.96 ms, sys: 0 ns, total: 1.96 ms\n",
      "Wall time: 1.96 ms\n"
     ]
    }
   ],
   "source": [
    "%%time\n",
    "ll_imgs2 = [img.reshape(1,img.shape[0],img.shape[1]) for img in ll_imgs]"
   ]
  },
  {
   "cell_type": "code",
   "execution_count": 9,
   "metadata": {},
   "outputs": [],
   "source": [
    "# dataset = pd.DataFrame([torch.tensor(ll_imgs).view(1,M,N).type(torch.float32)], columns='img')\n",
    "dataset = pd.DataFrame({'img':ll_imgs2}).reset_index().rename(columns={'index':'order'})\n",
    "# dataset = pd.DataFrame({'img':ll_imgs}).reset_index().rename(columns={'index':'order'})"
   ]
  },
  {
   "cell_type": "markdown",
   "metadata": {},
   "source": [
    "# 3. Scattering Speed Test"
   ]
  },
  {
   "cell_type": "code",
   "execution_count": 10,
   "metadata": {},
   "outputs": [
    {
     "name": "stdout",
     "output_type": "stream",
     "text": [
      "256 256\n"
     ]
    }
   ],
   "source": [
    "M,N = dataset['img'].iloc[0].shape[1], dataset['img'].iloc[0].shape[2]\n",
    "print(M,N)"
   ]
  },
  {
   "cell_type": "code",
   "execution_count": 12,
   "metadata": {},
   "outputs": [
    {
     "name": "stderr",
     "output_type": "stream",
     "text": [
      "/home/mila/g/gauthies/.conda/envs/ultra/lib/python3.7/site-packages/kymatio/frontend/entry.py:21: DeprecationWarning: Torch frontend is currently the default, but NumPy will become the default in the next version.\n",
      "  \" version.\", DeprecationWarning)\n"
     ]
    }
   ],
   "source": [
    "# From: https://github.com/kymatio/kymatio/blob/0.1.X/examples/2d/compute_speed.py\n",
    "# Benchmark setup\n",
    "# --------------------\n",
    "J = 3\n",
    "L = 8\n",
    "batch_size = 128\n",
    "times = 1\n",
    "devices = ['cpu', 'gpu']\n",
    "scattering = Scattering2D(J, shape=(M, N), L=L)\n",
    "data = np.concatenate(dataset['img'],axis=0)\n",
    "data = torch.from_numpy(data)\n",
    "x = data[0:batch_size]\n"
   ]
  },
  {
   "cell_type": "code",
   "execution_count": 13,
   "metadata": {},
   "outputs": [
    {
     "name": "stdout",
     "output_type": "stream",
     "text": [
      "==> Testing Float32 with torch backend, on CPU, forward\n",
      "Elapsed time: 11.290609 [s / 1 evals], avg: 11.29 (s/batch)\n",
      "==> Testing Float32 with torch backend, on GPU, forward\n",
      "Elapsed time: 0.405676 [s / 1 evals], avg: 0.41 (s/batch)\n",
      "CPU times: user 2min 18s, sys: 3.55 s, total: 2min 22s\n",
      "Wall time: 40.5 s\n"
     ]
    }
   ],
   "source": [
    "%%time\n",
    "mlflow.set_experiment('compute_speed_scattering')\n",
    "for device in devices:\n",
    "    with mlflow.start_run():\n",
    "    fmt_str = '==> Testing Float32 with {} backend, on {}, forward'\n",
    "    print(fmt_str.format('torch', device.upper()))\n",
    "\n",
    "    if device == 'gpu':\n",
    "        scattering.cuda()\n",
    "        x = x.cuda()\n",
    "    else:\n",
    "        scattering.cpu()\n",
    "        x = x.cpu()\n",
    "\n",
    "    scattering.forward(x)\n",
    "\n",
    "    if device == 'gpu':\n",
    "        torch.cuda.synchronize()\n",
    "\n",
    "    t_start = time.time()\n",
    "    for _ in range(times):\n",
    "        scattering.forward(x)\n",
    "\n",
    "    if device == 'gpu':\n",
    "        torch.cuda.synchronize()\n",
    "\n",
    "    t_elapsed = time.time() - t_start\n",
    "\n",
    "    fmt_str = 'Elapsed time: {:2f} [s / {:d} evals], avg: {:.2f} (s/batch)'\n",
    "    print(fmt_str.format(t_elapsed, times, t_elapsed/times))\n",
    "    mlflow.log_param('M',M)\n",
    "    mlflow.log_param('N',N)\n",
    "    mlflow.log_param('Backend', device.upper())\n",
    "    mlflow.log_param('Times', times)\n",
    "    mlflow.log_metric('Elapsed Time', t_elapsed)\n",
    "    mlflow.log_metric('Average Time', times)\n",
    "\n",
    "###############################################################################\n",
    "# The resulting output should be something like\n",
    "#\n",
    "# .. code-block:: text\n",
    "#\n",
    "#   ==> Testing Float32 with torch backend, on CPU, forward\n",
    "#   Elapsed time: 624.910853 [s / 10 evals], avg: 62.49 (s/batch)\n",
    "#   ==> Testing Float32 with torch backend, on GPU, forward\n"
   ]
  },
  {
   "cell_type": "code",
   "execution_count": null,
   "metadata": {},
   "outputs": [],
   "source": []
  },
  {
   "cell_type": "code",
   "execution_count": null,
   "metadata": {},
   "outputs": [],
   "source": []
  }
 ],
 "metadata": {
  "accelerator": "GPU",
  "colab": {
   "collapsed_sections": [],
   "name": "Transfer learning with deep convolutional neural network for liver steatosis assessment in ultrasound images Reproducibility with Scatterin.ipynb",
   "provenance": [],
   "toc_visible": true
  },
  "kernelspec": {
   "display_name": "Python 3 (ultra)",
   "language": "python",
   "name": "ultra"
  },
  "language_info": {
   "codemirror_mode": {
    "name": "ipython",
    "version": 3
   },
   "file_extension": ".py",
   "mimetype": "text/x-python",
   "name": "python",
   "nbconvert_exporter": "python",
   "pygments_lexer": "ipython3",
   "version": "3.7.0"
  }
 },
 "nbformat": 4,
 "nbformat_minor": 4
}
