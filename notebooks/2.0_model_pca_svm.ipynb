{
 "cells": [
  {
   "cell_type": "markdown",
   "metadata": {
    "colab_type": "text",
    "id": "ENoS3mTtGQts"
   },
   "source": [
    "# Experiment 02: Scattering + PCA + SVM\n",
    "\n",
    "\n",
    "\n",
    "\n"
   ]
  },
  {
   "cell_type": "code",
   "execution_count": 1,
   "metadata": {
    "colab": {},
    "colab_type": "code",
    "id": "ptO9fUvkD-Lc"
   },
   "outputs": [],
   "source": [
    "import sys\n",
    "import random\n",
    "sys.path.append('../src')\n",
    "import warnings\n",
    "warnings.filterwarnings(\"ignore\") \n",
    "\n",
    "from utils.compute_metrics import get_metrics, get_majority_vote,log_test_metrics\n",
    "from sklearn.preprocessing import StandardScaler\n",
    "from sklearn.decomposition import PCA\n",
    "from sklearn.svm import LinearSVC\n",
    "from sklearn.svm import SVC\n",
    "from sklearn.model_selection import GroupKFold\n",
    "from tqdm import tqdm\n",
    "from pprint import pprint\n",
    "\n",
    "from itertools import product\n",
    "import pickle\n",
    "import pandas as pd\n",
    "import numpy as np\n",
    "import mlflow\n",
    "import matplotlib.pyplot as plt\n"
   ]
  },
  {
   "cell_type": "markdown",
   "metadata": {
    "colab_type": "text",
    "id": "XJR7pdinnuHH"
   },
   "source": [
    "## Feature Reduction/Selection"
   ]
  },
  {
   "cell_type": "markdown",
   "metadata": {
    "colab_type": "text",
    "id": "731ett2LeCqH"
   },
   "source": [
    "#### Upload Scattering Features"
   ]
  },
  {
   "cell_type": "code",
   "execution_count": 4,
   "metadata": {
    "colab": {},
    "colab_type": "code",
    "id": "oVel2LKmwSb9"
   },
   "outputs": [],
   "source": [
    "with open('../data/03_features/scattering_features.pickle', 'rb') as handle:\n",
    "    scatter_dict = pickle.load(handle)\n",
    "    df_scattering = scatter_dict['df']\n",
    "    scattering_params = {'J':scatter_dict['J'],\n",
    "                         'M':scatter_dict['M'],\n",
    "                         'N':scatter_dict['N']}"
   ]
  },
  {
   "cell_type": "markdown",
   "metadata": {},
   "source": [
    "# Cross Validation using SVM Classification\n",
    "\n",
    "> Methods that exclude outliers were used to normalize the features. Patient-specific leave-one-out cross-validation (LOOCV) was applied to evaluate the classification. In each case, the test set consisted of10 images from the same patient and the training set contained 540 images from the remaining 54 patients. For each training set, fivefold cross-validation and grid search were applied to indicate the optimal SVM classifier hyperparameters and the best kernel. To address the problem of class imbalance, the SVM hyperparameter C of each class was adjusted inversely proportional to that class frequency in the training set. Label 1 indicated the image containing a fatty liver and label −1 otherwise. \n"
   ]
  },
  {
   "cell_type": "code",
   "execution_count": 5,
   "metadata": {},
   "outputs": [],
   "source": [
    "# Set the parameters by cross-validation\n",
    "param_gamma = [1e-3, 1e-4]\n",
    "param_C = [1, 10, 1000] \n",
    "svm_class_weight = [None, 'balanced']\n",
    "rbf_params = list(product(['kernel'],param_gamma, param_C, svm_class_weight ))\n",
    "linear_params = list(product(['linear'],param_C, svm_class_weight))\n",
    "params = rbf_params + linear_params"
   ]
  },
  {
   "cell_type": "code",
   "execution_count": 6,
   "metadata": {},
   "outputs": [],
   "source": [
    "def train_valid(param, X_train,X_valid,y_train, y_valid, pca_n_components = 5):\n",
    "    if param[0] == 'kernel': \n",
    "        #The “balanced” mode uses the values of y to automatically adjust weights inversely\n",
    "        #proportional to class frequencies in the input data as n_samples / (n_classes * np.bincount(y)).\n",
    "        model = SVC(gamma=param[1], C=param[2], class_weight= param[3])\n",
    "    if param[0] == 'linear': \n",
    "        #The “balanced” mode uses the values of y to automatically adjust weights inversely\n",
    "        #proportional to class frequencies in the input data as n_samples / (n_classes * np.bincount(y)).\n",
    "        model = LinearSVC(C=param[1], class_weight= param[2])\n",
    "\n",
    "    model.fit(X_train, y_train)\n",
    "    predictions = model.predict(X_valid)\n",
    "    acc, auc, specificity, sensitivity = get_metrics(y_valid, predictions)\n",
    "    return acc, auc, specificity, sensitivity , predictions\n"
   ]
  },
  {
   "cell_type": "code",
   "execution_count": 7,
   "metadata": {},
   "outputs": [],
   "source": [
    "def log_val_metrics(params, metrics, test_n_splits):\n",
    "    mlflow.set_experiment('val_scattering_svm_pca_experiment')\n",
    "    # log mlflow params\n",
    "    for param in params:\n",
    "        with mlflow.start_run():\n",
    "            #log params\n",
    "            mlflow.log_param('pca_n',pca_n_components)\n",
    "            mlflow.log_params(scattering_params)\n",
    "            mlflow.log_param('model',f'svm: {param[0]}')\n",
    "            mlflow.log_param('test K fold', test_n_splits)\n",
    "            if param[0] == 'kernel':\n",
    "                mlflow.log_param('gamma',param[1])\n",
    "                mlflow.log_param('C',param[2])\n",
    "                mlflow.log_param('class weight svm', param[3])\n",
    "            if param[0] == 'linear': \n",
    "                mlflow.log_param('C',param[1])\n",
    "                mlflow.log_param('class weight svm', param[2])\n",
    "            #log metrics\n",
    "            mlflow.log_metric('accuracy',np.array(metrics[str(param)]['acc']).mean())\n",
    "            mlflow.log_metric('AUC',np.array(metrics[str(param)]['auc']).mean())\n",
    "            mlflow.log_metric('specificity',np.array(metrics[str(param)]['specificity']).mean())\n",
    "            mlflow.log_metric('sensitivity',np.array(metrics[str(param)]['sensitivity']).mean())\n",
    "    print(\"Done logging validation params in MLFlow\")"
   ]
  },
  {
   "cell_type": "code",
   "execution_count": 8,
   "metadata": {},
   "outputs": [
    {
     "name": "stderr",
     "output_type": "stream",
     "text": [
      "100%|██████████| 18/18 [00:00<00:00, 98.82it/s]\n",
      "100%|██████████| 18/18 [00:00<00:00, 101.00it/s]\n",
      "100%|██████████| 18/18 [00:00<00:00, 93.53it/s]\n",
      "100%|██████████| 18/18 [00:00<00:00, 93.76it/s]\n",
      "100%|██████████| 18/18 [00:00<00:00, 103.77it/s]\n"
     ]
    },
    {
     "name": "stdout",
     "output_type": "stream",
     "text": [
      "Done logging validation params in MLFlow\n",
      "From all the combinations, the highest accuracy was achieved with ('kernel', 0.001, 10, 'balanced')\n",
      "FOLD 1:  acc 1.0, auc 1.0, specificity 1.0, sensitivity 1.0\n",
      "FOLD 1:  MV acc 1.0, MV auc 1.0, MV specificity 1.0, MV sensitivity 1.0\n"
     ]
    },
    {
     "name": "stderr",
     "output_type": "stream",
     "text": [
      "100%|██████████| 18/18 [00:00<00:00, 118.68it/s]\n",
      "100%|██████████| 18/18 [00:00<00:00, 89.18it/s]\n",
      "100%|██████████| 18/18 [00:00<00:00, 100.21it/s]\n",
      "100%|██████████| 18/18 [00:00<00:00, 101.70it/s]\n",
      "100%|██████████| 18/18 [00:00<00:00, 95.67it/s]\n"
     ]
    },
    {
     "name": "stdout",
     "output_type": "stream",
     "text": [
      "Done logging validation params in MLFlow\n",
      "From all the combinations, the highest accuracy was achieved with ('kernel', 0.001, 10, 'balanced')\n",
      "FOLD 2:  acc 1.0, auc 1.0, specificity 1.0, sensitivity 1.0\n",
      "FOLD 2:  MV acc 1.0, MV auc 1.0, MV specificity 1.0, MV sensitivity 1.0\n"
     ]
    },
    {
     "name": "stderr",
     "output_type": "stream",
     "text": [
      "100%|██████████| 18/18 [00:00<00:00, 137.70it/s]\n",
      "100%|██████████| 18/18 [00:00<00:00, 92.74it/s]\n",
      "100%|██████████| 18/18 [00:00<00:00, 96.53it/s]\n",
      "100%|██████████| 18/18 [00:00<00:00, 99.18it/s]\n",
      "100%|██████████| 18/18 [00:00<00:00, 96.86it/s]\n"
     ]
    },
    {
     "name": "stdout",
     "output_type": "stream",
     "text": [
      "Done logging validation params in MLFlow\n",
      "From all the combinations, the highest accuracy was achieved with ('kernel', 0.0001, 1000, 'balanced')\n",
      "FOLD 3:  acc 0.0, auc 0.0, specificity nan, sensitivity 0.0\n",
      "FOLD 3:  MV acc 0.0, MV auc 0.0, MV specificity nan, MV sensitivity 0.0\n"
     ]
    },
    {
     "name": "stderr",
     "output_type": "stream",
     "text": [
      "100%|██████████| 18/18 [00:00<00:00, 107.82it/s]\n",
      "100%|██████████| 18/18 [00:00<00:00, 90.23it/s]\n",
      "100%|██████████| 18/18 [00:00<00:00, 91.69it/s]\n",
      "100%|██████████| 18/18 [00:00<00:00, 92.57it/s]\n",
      "100%|██████████| 18/18 [00:00<00:00, 88.33it/s]\n"
     ]
    },
    {
     "name": "stdout",
     "output_type": "stream",
     "text": [
      "Done logging validation params in MLFlow\n",
      "From all the combinations, the highest accuracy was achieved with ('kernel', 0.001, 10, 'balanced')\n",
      "FOLD 4:  acc 1.0, auc 1.0, specificity 1.0, sensitivity 1.0\n",
      "FOLD 4:  MV acc 1.0, MV auc 1.0, MV specificity 1.0, MV sensitivity 1.0\n"
     ]
    },
    {
     "name": "stderr",
     "output_type": "stream",
     "text": [
      "100%|██████████| 18/18 [00:00<00:00, 107.31it/s]\n",
      "100%|██████████| 18/18 [00:00<00:00, 79.15it/s]\n",
      "100%|██████████| 18/18 [00:00<00:00, 97.78it/s]\n",
      "100%|██████████| 18/18 [00:00<00:00, 97.64it/s]\n",
      "100%|██████████| 18/18 [00:00<00:00, 93.10it/s]\n"
     ]
    },
    {
     "name": "stdout",
     "output_type": "stream",
     "text": [
      "Done logging validation params in MLFlow\n",
      "From all the combinations, the highest accuracy was achieved with ('kernel', 0.001, 10, 'balanced')\n",
      "FOLD 5:  acc 1.0, auc 1.0, specificity 1.0, sensitivity 1.0\n",
      "FOLD 5:  MV acc 1.0, MV auc 1.0, MV specificity 1.0, MV sensitivity 1.0\n"
     ]
    },
    {
     "name": "stderr",
     "output_type": "stream",
     "text": [
      "100%|██████████| 18/18 [00:00<00:00, 75.15it/s]\n",
      "100%|██████████| 18/18 [00:00<00:00, 84.25it/s]\n",
      "100%|██████████| 18/18 [00:00<00:00, 94.82it/s]\n",
      "100%|██████████| 18/18 [00:00<00:00, 90.84it/s]\n",
      "100%|██████████| 18/18 [00:00<00:00, 102.78it/s]\n"
     ]
    },
    {
     "name": "stdout",
     "output_type": "stream",
     "text": [
      "Done logging validation params in MLFlow\n",
      "From all the combinations, the highest accuracy was achieved with ('kernel', 0.001, 1, 'balanced')\n",
      "FOLD 6:  acc 1.0, auc 1.0, specificity 1.0, sensitivity 1.0\n",
      "FOLD 6:  MV acc 1.0, MV auc 1.0, MV specificity 1.0, MV sensitivity 1.0\n"
     ]
    },
    {
     "name": "stderr",
     "output_type": "stream",
     "text": [
      "100%|██████████| 18/18 [00:00<00:00, 84.49it/s]\n",
      "100%|██████████| 18/18 [00:00<00:00, 81.96it/s]\n",
      "100%|██████████| 18/18 [00:00<00:00, 87.41it/s]\n",
      "100%|██████████| 18/18 [00:00<00:00, 78.02it/s]\n",
      "100%|██████████| 18/18 [00:00<00:00, 85.40it/s]\n"
     ]
    },
    {
     "name": "stdout",
     "output_type": "stream",
     "text": [
      "Done logging validation params in MLFlow\n",
      "From all the combinations, the highest accuracy was achieved with ('kernel', 0.001, 10, 'balanced')\n",
      "FOLD 7:  acc 1.0, auc 1.0, specificity 1.0, sensitivity 1.0\n",
      "FOLD 7:  MV acc 1.0, MV auc 1.0, MV specificity 1.0, MV sensitivity 1.0\n"
     ]
    },
    {
     "name": "stderr",
     "output_type": "stream",
     "text": [
      "100%|██████████| 18/18 [00:00<00:00, 120.11it/s]\n",
      "100%|██████████| 18/18 [00:00<00:00, 106.65it/s]\n",
      "100%|██████████| 18/18 [00:00<00:00, 95.52it/s]\n",
      "100%|██████████| 18/18 [00:00<00:00, 81.86it/s]\n",
      "100%|██████████| 18/18 [00:00<00:00, 85.04it/s]\n"
     ]
    },
    {
     "name": "stdout",
     "output_type": "stream",
     "text": [
      "Done logging validation params in MLFlow\n",
      "From all the combinations, the highest accuracy was achieved with ('kernel', 0.001, 10, 'balanced')\n",
      "FOLD 8:  acc 1.0, auc 1.0, specificity 1.0, sensitivity 1.0\n",
      "FOLD 8:  MV acc 1.0, MV auc 1.0, MV specificity 1.0, MV sensitivity 1.0\n"
     ]
    },
    {
     "name": "stderr",
     "output_type": "stream",
     "text": [
      "100%|██████████| 18/18 [00:00<00:00, 116.12it/s]\n",
      "100%|██████████| 18/18 [00:00<00:00, 97.96it/s]\n",
      "100%|██████████| 18/18 [00:00<00:00, 93.97it/s]\n",
      "100%|██████████| 18/18 [00:00<00:00, 99.27it/s]\n",
      "100%|██████████| 18/18 [00:00<00:00, 96.78it/s]\n"
     ]
    },
    {
     "name": "stdout",
     "output_type": "stream",
     "text": [
      "Done logging validation params in MLFlow\n",
      "From all the combinations, the highest accuracy was achieved with ('kernel', 0.001, 10, 'balanced')\n",
      "FOLD 9:  acc 1.0, auc 1.0, specificity 1.0, sensitivity 1.0\n",
      "FOLD 9:  MV acc 1.0, MV auc 1.0, MV specificity 1.0, MV sensitivity 1.0\n"
     ]
    },
    {
     "name": "stderr",
     "output_type": "stream",
     "text": [
      "100%|██████████| 18/18 [00:00<00:00, 108.94it/s]\n",
      "100%|██████████| 18/18 [00:00<00:00, 97.49it/s]\n",
      "100%|██████████| 18/18 [00:00<00:00, 92.23it/s]\n",
      "100%|██████████| 18/18 [00:00<00:00, 98.28it/s]\n",
      "100%|██████████| 18/18 [00:00<00:00, 92.29it/s]\n"
     ]
    },
    {
     "name": "stdout",
     "output_type": "stream",
     "text": [
      "Done logging validation params in MLFlow\n",
      "From all the combinations, the highest accuracy was achieved with ('kernel', 0.001, 10, 'balanced')\n",
      "FOLD 10:  acc 0.0, auc 0.0, specificity nan, sensitivity 0.0\n",
      "FOLD 10:  MV acc 0.0, MV auc 0.0, MV specificity nan, MV sensitivity 0.0\n"
     ]
    },
    {
     "name": "stderr",
     "output_type": "stream",
     "text": [
      "100%|██████████| 18/18 [00:00<00:00, 93.40it/s]\n",
      "100%|██████████| 18/18 [00:00<00:00, 91.75it/s]\n",
      "100%|██████████| 18/18 [00:00<00:00, 89.32it/s]\n",
      "100%|██████████| 18/18 [00:00<00:00, 95.46it/s]\n",
      "100%|██████████| 18/18 [00:00<00:00, 91.76it/s]\n"
     ]
    },
    {
     "name": "stdout",
     "output_type": "stream",
     "text": [
      "Done logging validation params in MLFlow\n",
      "From all the combinations, the highest accuracy was achieved with ('kernel', 0.001, 10, 'balanced')\n",
      "FOLD 11:  acc 1.0, auc 1.0, specificity 1.0, sensitivity 1.0\n",
      "FOLD 11:  MV acc 1.0, MV auc 1.0, MV specificity 1.0, MV sensitivity 1.0\n"
     ]
    },
    {
     "name": "stderr",
     "output_type": "stream",
     "text": [
      "100%|██████████| 18/18 [00:00<00:00, 114.66it/s]\n",
      "100%|██████████| 18/18 [00:00<00:00, 92.81it/s]\n",
      "100%|██████████| 18/18 [00:00<00:00, 92.83it/s]\n",
      "100%|██████████| 18/18 [00:00<00:00, 96.34it/s]\n",
      "100%|██████████| 18/18 [00:00<00:00, 93.42it/s]\n"
     ]
    },
    {
     "name": "stdout",
     "output_type": "stream",
     "text": [
      "Done logging validation params in MLFlow\n",
      "From all the combinations, the highest accuracy was achieved with ('kernel', 0.001, 10, 'balanced')\n",
      "FOLD 12:  acc 1.0, auc 1.0, specificity 1.0, sensitivity 1.0\n",
      "FOLD 12:  MV acc 1.0, MV auc 1.0, MV specificity 1.0, MV sensitivity 1.0\n"
     ]
    },
    {
     "name": "stderr",
     "output_type": "stream",
     "text": [
      "100%|██████████| 18/18 [00:00<00:00, 95.46it/s]\n",
      "100%|██████████| 18/18 [00:00<00:00, 80.23it/s]\n",
      "100%|██████████| 18/18 [00:00<00:00, 80.17it/s]\n",
      "100%|██████████| 18/18 [00:00<00:00, 88.26it/s]\n",
      "100%|██████████| 18/18 [00:00<00:00, 85.37it/s]\n"
     ]
    },
    {
     "name": "stdout",
     "output_type": "stream",
     "text": [
      "Done logging validation params in MLFlow\n",
      "From all the combinations, the highest accuracy was achieved with ('kernel', 0.001, 10, 'balanced')\n",
      "FOLD 13:  acc 1.0, auc 1.0, specificity 1.0, sensitivity 1.0\n",
      "FOLD 13:  MV acc 1.0, MV auc 1.0, MV specificity 1.0, MV sensitivity 1.0\n"
     ]
    },
    {
     "name": "stderr",
     "output_type": "stream",
     "text": [
      "100%|██████████| 18/18 [00:00<00:00, 98.65it/s]\n",
      "100%|██████████| 18/18 [00:00<00:00, 67.53it/s]\n",
      "100%|██████████| 18/18 [00:00<00:00, 84.60it/s]\n",
      "100%|██████████| 18/18 [00:00<00:00, 100.42it/s]\n",
      "100%|██████████| 18/18 [00:00<00:00, 97.24it/s]\n"
     ]
    },
    {
     "name": "stdout",
     "output_type": "stream",
     "text": [
      "Done logging validation params in MLFlow\n",
      "From all the combinations, the highest accuracy was achieved with ('kernel', 0.001, 10, 'balanced')\n",
      "FOLD 14:  acc 1.0, auc 1.0, specificity 1.0, sensitivity 1.0\n",
      "FOLD 14:  MV acc 1.0, MV auc 1.0, MV specificity 1.0, MV sensitivity 1.0\n"
     ]
    },
    {
     "name": "stderr",
     "output_type": "stream",
     "text": [
      "100%|██████████| 18/18 [00:00<00:00, 123.33it/s]\n",
      "100%|██████████| 18/18 [00:00<00:00, 90.83it/s]\n",
      "100%|██████████| 18/18 [00:00<00:00, 80.86it/s]\n",
      "100%|██████████| 18/18 [00:00<00:00, 94.35it/s]\n",
      "100%|██████████| 18/18 [00:00<00:00, 95.74it/s]\n"
     ]
    },
    {
     "name": "stdout",
     "output_type": "stream",
     "text": [
      "Done logging validation params in MLFlow\n",
      "From all the combinations, the highest accuracy was achieved with ('kernel', 0.001, 10, 'balanced')\n",
      "FOLD 15:  acc 1.0, auc 1.0, specificity 1.0, sensitivity 1.0\n",
      "FOLD 15:  MV acc 1.0, MV auc 1.0, MV specificity 1.0, MV sensitivity 1.0\n"
     ]
    },
    {
     "name": "stderr",
     "output_type": "stream",
     "text": [
      "100%|██████████| 18/18 [00:00<00:00, 116.84it/s]\n",
      "100%|██████████| 18/18 [00:00<00:00, 86.58it/s]\n",
      "100%|██████████| 18/18 [00:00<00:00, 94.27it/s]\n",
      "100%|██████████| 18/18 [00:00<00:00, 98.40it/s]\n",
      "100%|██████████| 18/18 [00:00<00:00, 93.76it/s]\n"
     ]
    },
    {
     "name": "stdout",
     "output_type": "stream",
     "text": [
      "Done logging validation params in MLFlow\n",
      "From all the combinations, the highest accuracy was achieved with ('kernel', 0.001, 10, 'balanced')\n",
      "FOLD 16:  acc 1.0, auc 1.0, specificity 1.0, sensitivity 1.0\n",
      "FOLD 16:  MV acc 1.0, MV auc 1.0, MV specificity 1.0, MV sensitivity 1.0\n"
     ]
    },
    {
     "name": "stderr",
     "output_type": "stream",
     "text": [
      "100%|██████████| 18/18 [00:00<00:00, 113.68it/s]\n",
      "100%|██████████| 18/18 [00:00<00:00, 86.58it/s]\n",
      "100%|██████████| 18/18 [00:00<00:00, 90.35it/s]\n",
      "100%|██████████| 18/18 [00:00<00:00, 84.83it/s]\n",
      "100%|██████████| 18/18 [00:00<00:00, 93.40it/s]\n"
     ]
    },
    {
     "name": "stdout",
     "output_type": "stream",
     "text": [
      "Done logging validation params in MLFlow\n",
      "From all the combinations, the highest accuracy was achieved with ('kernel', 0.001, 10, 'balanced')\n",
      "FOLD 17:  acc 1.0, auc 1.0, specificity 1.0, sensitivity 1.0\n",
      "FOLD 17:  MV acc 1.0, MV auc 1.0, MV specificity 1.0, MV sensitivity 1.0\n"
     ]
    },
    {
     "name": "stderr",
     "output_type": "stream",
     "text": [
      "100%|██████████| 18/18 [00:00<00:00, 96.08it/s]\n",
      "100%|██████████| 18/18 [00:00<00:00, 74.38it/s]\n",
      "100%|██████████| 18/18 [00:00<00:00, 83.90it/s]\n",
      "100%|██████████| 18/18 [00:00<00:00, 88.80it/s]\n",
      "100%|██████████| 18/18 [00:00<00:00, 85.84it/s]\n"
     ]
    },
    {
     "name": "stdout",
     "output_type": "stream",
     "text": [
      "Done logging validation params in MLFlow\n",
      "From all the combinations, the highest accuracy was achieved with ('kernel', 0.001, 1000, 'balanced')\n",
      "FOLD 18:  acc 1.0, auc 1.0, specificity 1.0, sensitivity 1.0\n",
      "FOLD 18:  MV acc 1.0, MV auc 1.0, MV specificity 1.0, MV sensitivity 1.0\n"
     ]
    },
    {
     "name": "stderr",
     "output_type": "stream",
     "text": [
      "100%|██████████| 18/18 [00:00<00:00, 66.71it/s]\n",
      "100%|██████████| 18/18 [00:00<00:00, 83.45it/s]\n",
      "100%|██████████| 18/18 [00:00<00:00, 95.28it/s]\n",
      "100%|██████████| 18/18 [00:00<00:00, 101.72it/s]\n",
      "100%|██████████| 18/18 [00:00<00:00, 95.26it/s]\n"
     ]
    },
    {
     "name": "stdout",
     "output_type": "stream",
     "text": [
      "Done logging validation params in MLFlow\n",
      "From all the combinations, the highest accuracy was achieved with ('kernel', 0.001, 10, 'balanced')\n",
      "FOLD 19:  acc 1.0, auc 1.0, specificity 1.0, sensitivity 1.0\n",
      "FOLD 19:  MV acc 1.0, MV auc 1.0, MV specificity 1.0, MV sensitivity 1.0\n"
     ]
    },
    {
     "name": "stderr",
     "output_type": "stream",
     "text": [
      "100%|██████████| 18/18 [00:00<00:00, 129.05it/s]\n",
      "100%|██████████| 18/18 [00:00<00:00, 89.29it/s]\n",
      "100%|██████████| 18/18 [00:00<00:00, 97.69it/s]\n",
      "100%|██████████| 18/18 [00:00<00:00, 99.60it/s] \n",
      "100%|██████████| 18/18 [00:00<00:00, 95.33it/s]\n"
     ]
    },
    {
     "name": "stdout",
     "output_type": "stream",
     "text": [
      "Done logging validation params in MLFlow\n",
      "From all the combinations, the highest accuracy was achieved with ('kernel', 0.001, 10, 'balanced')\n",
      "FOLD 20:  acc 1.0, auc 1.0, specificity 1.0, sensitivity 1.0\n",
      "FOLD 20:  MV acc 1.0, MV auc 1.0, MV specificity 1.0, MV sensitivity 1.0\n"
     ]
    },
    {
     "name": "stderr",
     "output_type": "stream",
     "text": [
      "100%|██████████| 18/18 [00:00<00:00, 126.97it/s]\n",
      "100%|██████████| 18/18 [00:00<00:00, 98.77it/s]\n",
      "100%|██████████| 18/18 [00:00<00:00, 109.37it/s]\n",
      "100%|██████████| 18/18 [00:00<00:00, 135.09it/s]\n",
      "100%|██████████| 18/18 [00:00<00:00, 102.42it/s]\n"
     ]
    },
    {
     "name": "stdout",
     "output_type": "stream",
     "text": [
      "Done logging validation params in MLFlow\n",
      "From all the combinations, the highest accuracy was achieved with ('kernel', 0.001, 1, 'balanced')\n",
      "FOLD 21:  acc 0.0, auc 0.0, specificity 0.0, sensitivity nan\n",
      "FOLD 21:  MV acc 0.0, MV auc 0.0, MV specificity 0.0, MV sensitivity nan\n"
     ]
    },
    {
     "name": "stderr",
     "output_type": "stream",
     "text": [
      "100%|██████████| 18/18 [00:00<00:00, 102.59it/s]\n",
      "100%|██████████| 18/18 [00:00<00:00, 97.33it/s]\n",
      "100%|██████████| 18/18 [00:00<00:00, 93.86it/s]\n",
      "100%|██████████| 18/18 [00:00<00:00, 100.11it/s]\n",
      "100%|██████████| 18/18 [00:00<00:00, 92.65it/s]\n"
     ]
    },
    {
     "name": "stdout",
     "output_type": "stream",
     "text": [
      "Done logging validation params in MLFlow\n",
      "From all the combinations, the highest accuracy was achieved with ('kernel', 0.0001, 10, 'balanced')\n",
      "FOLD 22:  acc 1.0, auc 1.0, specificity 1.0, sensitivity 1.0\n",
      "FOLD 22:  MV acc 1.0, MV auc 1.0, MV specificity 1.0, MV sensitivity 1.0\n"
     ]
    },
    {
     "name": "stderr",
     "output_type": "stream",
     "text": [
      "100%|██████████| 18/18 [00:00<00:00, 99.65it/s]\n",
      "100%|██████████| 18/18 [00:00<00:00, 97.04it/s]\n",
      "100%|██████████| 18/18 [00:00<00:00, 93.14it/s]\n",
      "100%|██████████| 18/18 [00:00<00:00, 100.16it/s]\n",
      "100%|██████████| 18/18 [00:00<00:00, 89.73it/s]\n"
     ]
    },
    {
     "name": "stdout",
     "output_type": "stream",
     "text": [
      "Done logging validation params in MLFlow\n",
      "From all the combinations, the highest accuracy was achieved with ('kernel', 0.001, 10, 'balanced')\n",
      "FOLD 23:  acc 1.0, auc 1.0, specificity 1.0, sensitivity 1.0\n",
      "FOLD 23:  MV acc 1.0, MV auc 1.0, MV specificity 1.0, MV sensitivity 1.0\n"
     ]
    },
    {
     "name": "stderr",
     "output_type": "stream",
     "text": [
      "100%|██████████| 18/18 [00:00<00:00, 92.14it/s]\n",
      "100%|██████████| 18/18 [00:00<00:00, 92.28it/s]\n",
      "100%|██████████| 18/18 [00:00<00:00, 92.88it/s]\n",
      "100%|██████████| 18/18 [00:00<00:00, 99.49it/s] \n",
      "100%|██████████| 18/18 [00:00<00:00, 87.44it/s]\n"
     ]
    },
    {
     "name": "stdout",
     "output_type": "stream",
     "text": [
      "Done logging validation params in MLFlow\n",
      "From all the combinations, the highest accuracy was achieved with ('kernel', 0.001, 1, 'balanced')\n",
      "FOLD 24:  acc 1.0, auc 1.0, specificity 1.0, sensitivity 1.0\n",
      "FOLD 24:  MV acc 1.0, MV auc 1.0, MV specificity 1.0, MV sensitivity 1.0\n"
     ]
    },
    {
     "name": "stderr",
     "output_type": "stream",
     "text": [
      "100%|██████████| 18/18 [00:00<00:00, 104.56it/s]\n",
      "100%|██████████| 18/18 [00:00<00:00, 105.41it/s]\n",
      "100%|██████████| 18/18 [00:00<00:00, 96.09it/s]\n",
      "100%|██████████| 18/18 [00:00<00:00, 102.76it/s]\n",
      "100%|██████████| 18/18 [00:00<00:00, 90.76it/s]\n"
     ]
    },
    {
     "name": "stdout",
     "output_type": "stream",
     "text": [
      "Done logging validation params in MLFlow\n",
      "From all the combinations, the highest accuracy was achieved with ('kernel', 0.001, 10, 'balanced')\n",
      "FOLD 25:  acc 1.0, auc 1.0, specificity 1.0, sensitivity 1.0\n",
      "FOLD 25:  MV acc 1.0, MV auc 1.0, MV specificity 1.0, MV sensitivity 1.0\n"
     ]
    },
    {
     "name": "stderr",
     "output_type": "stream",
     "text": [
      "100%|██████████| 18/18 [00:00<00:00, 103.42it/s]\n",
      "100%|██████████| 18/18 [00:00<00:00, 123.05it/s]\n",
      "100%|██████████| 18/18 [00:00<00:00, 96.63it/s]\n",
      "100%|██████████| 18/18 [00:00<00:00, 102.75it/s]\n",
      "100%|██████████| 18/18 [00:00<00:00, 95.10it/s]\n"
     ]
    },
    {
     "name": "stdout",
     "output_type": "stream",
     "text": [
      "Done logging validation params in MLFlow\n",
      "From all the combinations, the highest accuracy was achieved with ('linear', 1, None)\n",
      "FOLD 26:  acc 0.0, auc 0.0, specificity 0.0, sensitivity nan\n",
      "FOLD 26:  MV acc 0.0, MV auc 0.0, MV specificity 0.0, MV sensitivity nan\n"
     ]
    },
    {
     "name": "stderr",
     "output_type": "stream",
     "text": [
      "100%|██████████| 18/18 [00:00<00:00, 119.88it/s]\n",
      "100%|██████████| 18/18 [00:00<00:00, 86.94it/s]\n",
      "100%|██████████| 18/18 [00:00<00:00, 95.48it/s]\n",
      "100%|██████████| 18/18 [00:00<00:00, 95.78it/s]\n",
      "100%|██████████| 18/18 [00:00<00:00, 93.49it/s]\n"
     ]
    },
    {
     "name": "stdout",
     "output_type": "stream",
     "text": [
      "Done logging validation params in MLFlow\n",
      "From all the combinations, the highest accuracy was achieved with ('kernel', 0.001, 10, 'balanced')\n",
      "FOLD 27:  acc 1.0, auc 1.0, specificity 1.0, sensitivity 1.0\n",
      "FOLD 27:  MV acc 1.0, MV auc 1.0, MV specificity 1.0, MV sensitivity 1.0\n"
     ]
    },
    {
     "name": "stderr",
     "output_type": "stream",
     "text": [
      "100%|██████████| 18/18 [00:00<00:00, 117.82it/s]\n",
      "100%|██████████| 18/18 [00:00<00:00, 91.98it/s]\n",
      "100%|██████████| 18/18 [00:00<00:00, 95.11it/s]\n",
      "100%|██████████| 18/18 [00:00<00:00, 94.53it/s]\n",
      "100%|██████████| 18/18 [00:00<00:00, 89.89it/s]\n"
     ]
    },
    {
     "name": "stdout",
     "output_type": "stream",
     "text": [
      "Done logging validation params in MLFlow\n",
      "From all the combinations, the highest accuracy was achieved with ('kernel', 0.001, 10, 'balanced')\n",
      "FOLD 28:  acc 1.0, auc 1.0, specificity 1.0, sensitivity 1.0\n",
      "FOLD 28:  MV acc 1.0, MV auc 1.0, MV specificity 1.0, MV sensitivity 1.0\n"
     ]
    },
    {
     "name": "stderr",
     "output_type": "stream",
     "text": [
      "100%|██████████| 18/18 [00:00<00:00, 112.30it/s]\n",
      "100%|██████████| 18/18 [00:00<00:00, 97.56it/s]\n",
      "100%|██████████| 18/18 [00:00<00:00, 91.88it/s]\n",
      "100%|██████████| 18/18 [00:00<00:00, 87.29it/s]\n",
      "100%|██████████| 18/18 [00:00<00:00, 86.26it/s]\n"
     ]
    },
    {
     "name": "stdout",
     "output_type": "stream",
     "text": [
      "Done logging validation params in MLFlow\n",
      "From all the combinations, the highest accuracy was achieved with ('kernel', 0.001, 10, 'balanced')\n",
      "FOLD 29:  acc 1.0, auc 1.0, specificity 1.0, sensitivity 1.0\n",
      "FOLD 29:  MV acc 1.0, MV auc 1.0, MV specificity 1.0, MV sensitivity 1.0\n"
     ]
    },
    {
     "name": "stderr",
     "output_type": "stream",
     "text": [
      "100%|██████████| 18/18 [00:00<00:00, 116.43it/s]\n",
      "100%|██████████| 18/18 [00:00<00:00, 101.82it/s]\n",
      "100%|██████████| 18/18 [00:00<00:00, 94.64it/s]\n",
      "100%|██████████| 18/18 [00:00<00:00, 91.93it/s]\n",
      "100%|██████████| 18/18 [00:00<00:00, 100.41it/s]\n"
     ]
    },
    {
     "name": "stdout",
     "output_type": "stream",
     "text": [
      "Done logging validation params in MLFlow\n",
      "From all the combinations, the highest accuracy was achieved with ('kernel', 0.001, 10, 'balanced')\n",
      "FOLD 30:  acc 1.0, auc 1.0, specificity 1.0, sensitivity 1.0\n",
      "FOLD 30:  MV acc 1.0, MV auc 1.0, MV specificity 1.0, MV sensitivity 1.0\n"
     ]
    },
    {
     "name": "stderr",
     "output_type": "stream",
     "text": [
      "100%|██████████| 18/18 [00:00<00:00, 113.58it/s]\n",
      "100%|██████████| 18/18 [00:00<00:00, 99.72it/s]\n",
      "100%|██████████| 18/18 [00:00<00:00, 94.04it/s]\n",
      "100%|██████████| 18/18 [00:00<00:00, 92.88it/s]\n",
      "100%|██████████| 18/18 [00:00<00:00, 102.59it/s]\n"
     ]
    },
    {
     "name": "stdout",
     "output_type": "stream",
     "text": [
      "Done logging validation params in MLFlow\n",
      "From all the combinations, the highest accuracy was achieved with ('kernel', 0.001, 10, 'balanced')\n",
      "FOLD 31:  acc 0.0, auc 0.0, specificity nan, sensitivity 0.0\n",
      "FOLD 31:  MV acc 0.0, MV auc 0.0, MV specificity nan, MV sensitivity 0.0\n"
     ]
    },
    {
     "name": "stderr",
     "output_type": "stream",
     "text": [
      "100%|██████████| 18/18 [00:00<00:00, 93.90it/s]\n",
      "100%|██████████| 18/18 [00:00<00:00, 99.12it/s]\n",
      "100%|██████████| 18/18 [00:00<00:00, 92.81it/s]\n",
      "100%|██████████| 18/18 [00:00<00:00, 73.93it/s]\n",
      "100%|██████████| 18/18 [00:00<00:00, 97.74it/s]\n"
     ]
    },
    {
     "name": "stdout",
     "output_type": "stream",
     "text": [
      "Done logging validation params in MLFlow\n",
      "From all the combinations, the highest accuracy was achieved with ('linear', 10, 'balanced')\n",
      "FOLD 32:  acc 1.0, auc 1.0, specificity 1.0, sensitivity 1.0\n",
      "FOLD 32:  MV acc 1.0, MV auc 1.0, MV specificity 1.0, MV sensitivity 1.0\n"
     ]
    },
    {
     "name": "stderr",
     "output_type": "stream",
     "text": [
      "100%|██████████| 18/18 [00:00<00:00, 116.52it/s]\n",
      "100%|██████████| 18/18 [00:00<00:00, 97.83it/s]\n",
      "100%|██████████| 18/18 [00:00<00:00, 91.28it/s]\n",
      "100%|██████████| 18/18 [00:00<00:00, 96.23it/s]\n",
      "100%|██████████| 18/18 [00:00<00:00, 92.23it/s]\n"
     ]
    },
    {
     "name": "stdout",
     "output_type": "stream",
     "text": [
      "Done logging validation params in MLFlow\n",
      "From all the combinations, the highest accuracy was achieved with ('kernel', 0.0001, 1000, 'balanced')\n",
      "FOLD 33:  acc 0.1, auc 0.1, specificity nan, sensitivity 0.1\n",
      "FOLD 33:  MV acc 0.0, MV auc 0.0, MV specificity nan, MV sensitivity 0.0\n"
     ]
    },
    {
     "name": "stderr",
     "output_type": "stream",
     "text": [
      "100%|██████████| 18/18 [00:00<00:00, 101.74it/s]\n",
      "100%|██████████| 18/18 [00:00<00:00, 90.47it/s]\n",
      "100%|██████████| 18/18 [00:00<00:00, 90.97it/s]\n",
      "100%|██████████| 18/18 [00:00<00:00, 91.14it/s]\n",
      "100%|██████████| 18/18 [00:00<00:00, 96.74it/s]\n"
     ]
    },
    {
     "name": "stdout",
     "output_type": "stream",
     "text": [
      "Done logging validation params in MLFlow\n",
      "From all the combinations, the highest accuracy was achieved with ('kernel', 0.0001, 1000, 'balanced')\n",
      "FOLD 34:  acc 1.0, auc 1.0, specificity 1.0, sensitivity 1.0\n",
      "FOLD 34:  MV acc 1.0, MV auc 1.0, MV specificity 1.0, MV sensitivity 1.0\n"
     ]
    },
    {
     "name": "stderr",
     "output_type": "stream",
     "text": [
      "100%|██████████| 18/18 [00:00<00:00, 98.93it/s] \n",
      "100%|██████████| 18/18 [00:00<00:00, 97.17it/s]\n",
      "100%|██████████| 18/18 [00:00<00:00, 99.54it/s]\n",
      "100%|██████████| 18/18 [00:00<00:00, 91.91it/s]\n",
      "100%|██████████| 18/18 [00:00<00:00, 97.71it/s]\n"
     ]
    },
    {
     "name": "stdout",
     "output_type": "stream",
     "text": [
      "Done logging validation params in MLFlow\n",
      "From all the combinations, the highest accuracy was achieved with ('kernel', 0.001, 10, 'balanced')\n",
      "FOLD 35:  acc 1.0, auc 1.0, specificity 1.0, sensitivity 1.0\n",
      "FOLD 35:  MV acc 1.0, MV auc 1.0, MV specificity 1.0, MV sensitivity 1.0\n"
     ]
    },
    {
     "name": "stderr",
     "output_type": "stream",
     "text": [
      "100%|██████████| 18/18 [00:00<00:00, 118.34it/s]\n",
      "100%|██████████| 18/18 [00:00<00:00, 98.86it/s]\n",
      "100%|██████████| 18/18 [00:00<00:00, 79.05it/s]\n",
      "100%|██████████| 18/18 [00:00<00:00, 92.26it/s]\n",
      "100%|██████████| 18/18 [00:00<00:00, 100.50it/s]\n"
     ]
    },
    {
     "name": "stdout",
     "output_type": "stream",
     "text": [
      "Done logging validation params in MLFlow\n",
      "From all the combinations, the highest accuracy was achieved with ('kernel', 0.0001, 1000, 'balanced')\n",
      "FOLD 36:  acc 1.0, auc 1.0, specificity 1.0, sensitivity 1.0\n",
      "FOLD 36:  MV acc 1.0, MV auc 1.0, MV specificity 1.0, MV sensitivity 1.0\n"
     ]
    },
    {
     "name": "stderr",
     "output_type": "stream",
     "text": [
      "100%|██████████| 18/18 [00:00<00:00, 117.89it/s]\n",
      "100%|██████████| 18/18 [00:00<00:00, 109.57it/s]\n",
      "100%|██████████| 18/18 [00:00<00:00, 96.10it/s]\n",
      "100%|██████████| 18/18 [00:00<00:00, 93.39it/s]\n",
      "100%|██████████| 18/18 [00:00<00:00, 101.39it/s]\n"
     ]
    },
    {
     "name": "stdout",
     "output_type": "stream",
     "text": [
      "Done logging validation params in MLFlow\n",
      "From all the combinations, the highest accuracy was achieved with ('kernel', 0.001, 1000, 'balanced')\n",
      "FOLD 37:  acc 1.0, auc 1.0, specificity 1.0, sensitivity 1.0\n",
      "FOLD 37:  MV acc 1.0, MV auc 1.0, MV specificity 1.0, MV sensitivity 1.0\n"
     ]
    },
    {
     "name": "stderr",
     "output_type": "stream",
     "text": [
      "100%|██████████| 18/18 [00:00<00:00, 119.86it/s]\n",
      "100%|██████████| 18/18 [00:00<00:00, 102.90it/s]\n",
      "100%|██████████| 18/18 [00:00<00:00, 94.07it/s]\n",
      "100%|██████████| 18/18 [00:00<00:00, 92.58it/s]\n",
      "100%|██████████| 18/18 [00:00<00:00, 99.54it/s]\n"
     ]
    },
    {
     "name": "stdout",
     "output_type": "stream",
     "text": [
      "Done logging validation params in MLFlow\n",
      "From all the combinations, the highest accuracy was achieved with ('kernel', 0.001, 10, None)\n",
      "FOLD 38:  acc 1.0, auc 1.0, specificity 1.0, sensitivity 1.0\n",
      "FOLD 38:  MV acc 1.0, MV auc 1.0, MV specificity 1.0, MV sensitivity 1.0\n"
     ]
    },
    {
     "name": "stderr",
     "output_type": "stream",
     "text": [
      "100%|██████████| 18/18 [00:00<00:00, 114.46it/s]\n",
      "100%|██████████| 18/18 [00:00<00:00, 106.54it/s]\n",
      "100%|██████████| 18/18 [00:00<00:00, 92.96it/s]\n",
      "100%|██████████| 18/18 [00:00<00:00, 87.78it/s]\n",
      "100%|██████████| 18/18 [00:00<00:00, 94.99it/s]\n"
     ]
    },
    {
     "name": "stdout",
     "output_type": "stream",
     "text": [
      "Done logging validation params in MLFlow\n",
      "From all the combinations, the highest accuracy was achieved with ('kernel', 0.0001, 1000, 'balanced')\n",
      "FOLD 39:  acc 0.7, auc 0.7, specificity nan, sensitivity 0.7\n",
      "FOLD 39:  MV acc 1.0, MV auc 1.0, MV specificity 1.0, MV sensitivity 1.0\n"
     ]
    },
    {
     "name": "stderr",
     "output_type": "stream",
     "text": [
      "100%|██████████| 18/18 [00:00<00:00, 111.91it/s]\n",
      "100%|██████████| 18/18 [00:00<00:00, 98.09it/s]\n",
      "100%|██████████| 18/18 [00:00<00:00, 93.54it/s]\n",
      "100%|██████████| 18/18 [00:00<00:00, 90.27it/s]\n",
      "100%|██████████| 18/18 [00:00<00:00, 96.51it/s]\n"
     ]
    },
    {
     "name": "stdout",
     "output_type": "stream",
     "text": [
      "Done logging validation params in MLFlow\n",
      "From all the combinations, the highest accuracy was achieved with ('kernel', 0.0001, 1000, 'balanced')\n",
      "FOLD 40:  acc 1.0, auc 1.0, specificity 1.0, sensitivity 1.0\n",
      "FOLD 40:  MV acc 1.0, MV auc 1.0, MV specificity 1.0, MV sensitivity 1.0\n"
     ]
    },
    {
     "name": "stderr",
     "output_type": "stream",
     "text": [
      "100%|██████████| 18/18 [00:00<00:00, 114.23it/s]\n",
      "100%|██████████| 18/18 [00:00<00:00, 99.82it/s]\n",
      "100%|██████████| 18/18 [00:00<00:00, 95.29it/s]\n",
      "100%|██████████| 18/18 [00:00<00:00, 91.59it/s]\n",
      "100%|██████████| 18/18 [00:00<00:00, 96.25it/s]\n"
     ]
    },
    {
     "name": "stdout",
     "output_type": "stream",
     "text": [
      "Done logging validation params in MLFlow\n",
      "From all the combinations, the highest accuracy was achieved with ('kernel', 0.001, 10, None)\n",
      "FOLD 41:  acc 1.0, auc 1.0, specificity 1.0, sensitivity 1.0\n",
      "FOLD 41:  MV acc 1.0, MV auc 1.0, MV specificity 1.0, MV sensitivity 1.0\n"
     ]
    },
    {
     "name": "stderr",
     "output_type": "stream",
     "text": [
      "100%|██████████| 18/18 [00:00<00:00, 118.81it/s]\n",
      "100%|██████████| 18/18 [00:00<00:00, 102.79it/s]\n",
      "100%|██████████| 18/18 [00:00<00:00, 96.39it/s]\n",
      "100%|██████████| 18/18 [00:00<00:00, 95.36it/s]\n",
      "100%|██████████| 18/18 [00:00<00:00, 107.56it/s]\n"
     ]
    },
    {
     "name": "stdout",
     "output_type": "stream",
     "text": [
      "Done logging validation params in MLFlow\n",
      "From all the combinations, the highest accuracy was achieved with ('linear', 1000, None)\n",
      "FOLD 42:  acc 0.0, auc 0.0, specificity nan, sensitivity 0.0\n",
      "FOLD 42:  MV acc 0.0, MV auc 0.0, MV specificity nan, MV sensitivity 0.0\n"
     ]
    },
    {
     "name": "stderr",
     "output_type": "stream",
     "text": [
      "100%|██████████| 18/18 [00:00<00:00, 125.86it/s]\n",
      "100%|██████████| 18/18 [00:00<00:00, 95.77it/s]\n",
      "100%|██████████| 18/18 [00:00<00:00, 102.82it/s]\n",
      "100%|██████████| 18/18 [00:00<00:00, 94.70it/s]\n",
      "100%|██████████| 18/18 [00:00<00:00, 94.05it/s]\n"
     ]
    },
    {
     "name": "stdout",
     "output_type": "stream",
     "text": [
      "Done logging validation params in MLFlow\n",
      "From all the combinations, the highest accuracy was achieved with ('kernel', 0.0001, 1000, 'balanced')\n",
      "FOLD 43:  acc 0.0, auc 0.0, specificity nan, sensitivity 0.0\n",
      "FOLD 43:  MV acc 0.0, MV auc 0.0, MV specificity nan, MV sensitivity 0.0\n"
     ]
    },
    {
     "name": "stderr",
     "output_type": "stream",
     "text": [
      "100%|██████████| 18/18 [00:00<00:00, 107.48it/s]\n",
      "100%|██████████| 18/18 [00:00<00:00, 83.59it/s]\n",
      "100%|██████████| 18/18 [00:00<00:00, 54.78it/s]\n",
      "100%|██████████| 18/18 [00:00<00:00, 92.91it/s]\n",
      "100%|██████████| 18/18 [00:00<00:00, 94.39it/s]\n"
     ]
    },
    {
     "name": "stdout",
     "output_type": "stream",
     "text": [
      "Done logging validation params in MLFlow\n",
      "From all the combinations, the highest accuracy was achieved with ('linear', 1000, 'balanced')\n",
      "FOLD 44:  acc 1.0, auc 1.0, specificity 1.0, sensitivity 1.0\n",
      "FOLD 44:  MV acc 1.0, MV auc 1.0, MV specificity 1.0, MV sensitivity 1.0\n"
     ]
    },
    {
     "name": "stderr",
     "output_type": "stream",
     "text": [
      "100%|██████████| 18/18 [00:00<00:00, 116.30it/s]\n",
      "100%|██████████| 18/18 [00:00<00:00, 90.85it/s]\n",
      "100%|██████████| 18/18 [00:00<00:00, 95.19it/s]\n",
      "100%|██████████| 18/18 [00:00<00:00, 60.74it/s]\n",
      "100%|██████████| 18/18 [00:00<00:00, 94.61it/s]\n"
     ]
    },
    {
     "name": "stdout",
     "output_type": "stream",
     "text": [
      "Done logging validation params in MLFlow\n",
      "From all the combinations, the highest accuracy was achieved with ('kernel', 0.0001, 1000, 'balanced')\n",
      "FOLD 45:  acc 1.0, auc 1.0, specificity 1.0, sensitivity 1.0\n",
      "FOLD 45:  MV acc 1.0, MV auc 1.0, MV specificity 1.0, MV sensitivity 1.0\n"
     ]
    },
    {
     "name": "stderr",
     "output_type": "stream",
     "text": [
      "100%|██████████| 18/18 [00:00<00:00, 96.73it/s]\n",
      "100%|██████████| 18/18 [00:00<00:00, 82.89it/s]\n",
      "100%|██████████| 18/18 [00:00<00:00, 73.39it/s]\n",
      "100%|██████████| 18/18 [00:00<00:00, 56.32it/s]\n",
      "100%|██████████| 18/18 [00:00<00:00, 87.67it/s]\n"
     ]
    },
    {
     "name": "stdout",
     "output_type": "stream",
     "text": [
      "Done logging validation params in MLFlow\n",
      "From all the combinations, the highest accuracy was achieved with ('kernel', 0.0001, 1000, 'balanced')\n",
      "FOLD 46:  acc 1.0, auc 1.0, specificity 1.0, sensitivity 1.0\n",
      "FOLD 46:  MV acc 1.0, MV auc 1.0, MV specificity 1.0, MV sensitivity 1.0\n"
     ]
    },
    {
     "name": "stderr",
     "output_type": "stream",
     "text": [
      "100%|██████████| 18/18 [00:00<00:00, 76.87it/s]\n",
      "100%|██████████| 18/18 [00:00<00:00, 93.30it/s]\n",
      "100%|██████████| 18/18 [00:00<00:00, 91.64it/s]\n",
      "100%|██████████| 18/18 [00:00<00:00, 94.02it/s]\n",
      "100%|██████████| 18/18 [00:00<00:00, 61.49it/s]\n"
     ]
    },
    {
     "name": "stdout",
     "output_type": "stream",
     "text": [
      "Done logging validation params in MLFlow\n",
      "From all the combinations, the highest accuracy was achieved with ('kernel', 0.001, 10, 'balanced')\n",
      "FOLD 47:  acc 1.0, auc 1.0, specificity 1.0, sensitivity 1.0\n",
      "FOLD 47:  MV acc 1.0, MV auc 1.0, MV specificity 1.0, MV sensitivity 1.0\n"
     ]
    },
    {
     "name": "stderr",
     "output_type": "stream",
     "text": [
      "100%|██████████| 18/18 [00:00<00:00, 68.40it/s]\n",
      "100%|██████████| 18/18 [00:00<00:00, 54.44it/s]\n",
      "100%|██████████| 18/18 [00:00<00:00, 74.71it/s]\n",
      "100%|██████████| 18/18 [00:00<00:00, 63.69it/s]\n",
      "100%|██████████| 18/18 [00:00<00:00, 55.46it/s]\n"
     ]
    },
    {
     "name": "stdout",
     "output_type": "stream",
     "text": [
      "Done logging validation params in MLFlow\n",
      "From all the combinations, the highest accuracy was achieved with ('kernel', 0.001, 10, 'balanced')\n",
      "FOLD 48:  acc 1.0, auc 1.0, specificity 1.0, sensitivity 1.0\n",
      "FOLD 48:  MV acc 1.0, MV auc 1.0, MV specificity 1.0, MV sensitivity 1.0\n"
     ]
    },
    {
     "name": "stderr",
     "output_type": "stream",
     "text": [
      "100%|██████████| 18/18 [00:00<00:00, 70.52it/s]\n",
      "100%|██████████| 18/18 [00:00<00:00, 91.52it/s]\n",
      "100%|██████████| 18/18 [00:00<00:00, 94.48it/s]\n",
      "100%|██████████| 18/18 [00:00<00:00, 92.51it/s]\n",
      "100%|██████████| 18/18 [00:00<00:00, 95.24it/s]\n"
     ]
    },
    {
     "name": "stdout",
     "output_type": "stream",
     "text": [
      "Done logging validation params in MLFlow\n",
      "From all the combinations, the highest accuracy was achieved with ('kernel', 0.001, 10, 'balanced')\n",
      "FOLD 49:  acc 1.0, auc 1.0, specificity 1.0, sensitivity 1.0\n",
      "FOLD 49:  MV acc 1.0, MV auc 1.0, MV specificity 1.0, MV sensitivity 1.0\n"
     ]
    },
    {
     "name": "stderr",
     "output_type": "stream",
     "text": [
      "100%|██████████| 18/18 [00:00<00:00, 112.89it/s]\n",
      "100%|██████████| 18/18 [00:00<00:00, 81.21it/s]\n",
      "100%|██████████| 18/18 [00:00<00:00, 98.84it/s]\n",
      "100%|██████████| 18/18 [00:00<00:00, 87.74it/s]\n",
      "100%|██████████| 18/18 [00:00<00:00, 78.07it/s]\n"
     ]
    },
    {
     "name": "stdout",
     "output_type": "stream",
     "text": [
      "Done logging validation params in MLFlow\n",
      "From all the combinations, the highest accuracy was achieved with ('kernel', 0.0001, 1000, 'balanced')\n",
      "FOLD 50:  acc 1.0, auc 1.0, specificity 1.0, sensitivity 1.0\n",
      "FOLD 50:  MV acc 1.0, MV auc 1.0, MV specificity 1.0, MV sensitivity 1.0\n"
     ]
    },
    {
     "name": "stderr",
     "output_type": "stream",
     "text": [
      "100%|██████████| 18/18 [00:00<00:00, 122.88it/s]\n",
      "100%|██████████| 18/18 [00:00<00:00, 100.07it/s]\n",
      "100%|██████████| 18/18 [00:00<00:00, 83.89it/s]\n",
      "100%|██████████| 18/18 [00:00<00:00, 69.55it/s]\n",
      "100%|██████████| 18/18 [00:00<00:00, 85.02it/s]\n"
     ]
    },
    {
     "name": "stdout",
     "output_type": "stream",
     "text": [
      "Done logging validation params in MLFlow\n",
      "From all the combinations, the highest accuracy was achieved with ('kernel', 0.0001, 1000, 'balanced')\n",
      "FOLD 51:  acc 1.0, auc 1.0, specificity 1.0, sensitivity 1.0\n",
      "FOLD 51:  MV acc 1.0, MV auc 1.0, MV specificity 1.0, MV sensitivity 1.0\n"
     ]
    },
    {
     "name": "stderr",
     "output_type": "stream",
     "text": [
      "100%|██████████| 18/18 [00:00<00:00, 118.61it/s]\n",
      "100%|██████████| 18/18 [00:00<00:00, 100.07it/s]\n",
      "100%|██████████| 18/18 [00:00<00:00, 88.67it/s]\n",
      "100%|██████████| 18/18 [00:00<00:00, 88.46it/s]\n",
      "100%|██████████| 18/18 [00:00<00:00, 99.47it/s]\n"
     ]
    },
    {
     "name": "stdout",
     "output_type": "stream",
     "text": [
      "Done logging validation params in MLFlow\n",
      "From all the combinations, the highest accuracy was achieved with ('kernel', 0.001, 10, 'balanced')\n",
      "FOLD 52:  acc 1.0, auc 1.0, specificity 1.0, sensitivity 1.0\n",
      "FOLD 52:  MV acc 1.0, MV auc 1.0, MV specificity 1.0, MV sensitivity 1.0\n"
     ]
    },
    {
     "name": "stderr",
     "output_type": "stream",
     "text": [
      "100%|██████████| 18/18 [00:00<00:00, 125.04it/s]\n",
      "100%|██████████| 18/18 [00:00<00:00, 93.14it/s]\n",
      "100%|██████████| 18/18 [00:00<00:00, 86.99it/s]\n",
      "100%|██████████| 18/18 [00:00<00:00, 69.50it/s]\n",
      "100%|██████████| 18/18 [00:00<00:00, 83.95it/s]\n"
     ]
    },
    {
     "name": "stdout",
     "output_type": "stream",
     "text": [
      "Done logging validation params in MLFlow\n",
      "From all the combinations, the highest accuracy was achieved with ('kernel', 0.001, 10, 'balanced')\n",
      "FOLD 53:  acc 1.0, auc 1.0, specificity 1.0, sensitivity 1.0\n",
      "FOLD 53:  MV acc 1.0, MV auc 1.0, MV specificity 1.0, MV sensitivity 1.0\n"
     ]
    },
    {
     "name": "stderr",
     "output_type": "stream",
     "text": [
      "100%|██████████| 18/18 [00:00<00:00, 122.83it/s]\n",
      "100%|██████████| 18/18 [00:00<00:00, 91.42it/s]\n",
      "100%|██████████| 18/18 [00:00<00:00, 96.56it/s]\n",
      "100%|██████████| 18/18 [00:00<00:00, 79.28it/s]\n",
      "100%|██████████| 18/18 [00:00<00:00, 75.67it/s]\n"
     ]
    },
    {
     "name": "stdout",
     "output_type": "stream",
     "text": [
      "Done logging validation params in MLFlow\n",
      "From all the combinations, the highest accuracy was achieved with ('kernel', 0.0001, 1000, 'balanced')\n",
      "FOLD 54:  acc 1.0, auc 1.0, specificity 1.0, sensitivity 1.0\n",
      "FOLD 54:  MV acc 1.0, MV auc 1.0, MV specificity 1.0, MV sensitivity 1.0\n"
     ]
    },
    {
     "name": "stderr",
     "output_type": "stream",
     "text": [
      "100%|██████████| 18/18 [00:00<00:00, 86.69it/s]\n",
      "100%|██████████| 18/18 [00:00<00:00, 80.17it/s]\n"
     ]
    },
    {
     "name": "stdout",
     "output_type": "stream",
     "text": [
      "Done logging validation params in MLFlow\n",
      "From all the combinations, the highest accuracy was achieved with ('kernel', 0.0001, 1000, 'balanced')\n",
      "FOLD 55:  acc 1.0, auc 1.0, specificity 1.0, sensitivity 1.0\n",
      "FOLD 55:  MV acc 1.0, MV auc 1.0, MV specificity 1.0, MV sensitivity 1.0\n",
      "nan nan\n",
      "nan nan\n",
      "Experiment done\n"
     ]
    }
   ],
   "source": [
    "df = df_scattering\n",
    "pca_n_components = 5\n",
    "standardize = True\n",
    "test_metrics={}  \n",
    "#majority vote results\n",
    "test_metrics_mv={}    \n",
    "test_n_splits = 55\n",
    "group_kfold_test = GroupKFold(n_splits=test_n_splits)\n",
    "seed= 1111\n",
    "df_pid = df['id']\n",
    "df_y = df['class']\n",
    "fold_c =1 \n",
    "\n",
    "for train_index, test_index in group_kfold_test.split(df, \n",
    "                                                  df_y, \n",
    "                                                  df_pid):\n",
    "    random.seed(seed)\n",
    "    random.shuffle(train_index)\n",
    "    X_train, X_test = df.iloc[train_index], df.iloc[test_index]\n",
    "    y_train, y_test = df_y.iloc[train_index], df_y.iloc[test_index]\n",
    "    \n",
    "    X_test = X_test.drop(columns=['id', 'class'])\n",
    "    X_train_pid = X_train.pop('id')\n",
    "    X_train = X_train.drop(columns=['class'])\n",
    "    \n",
    "    # Do cross-validation for hyperparam tuning\n",
    "    group_kfold_val = GroupKFold(n_splits=5)\n",
    "    metrics={}\n",
    "    #X_train_y = df.pop('class')\n",
    "    for subtrain_index, valid_index in group_kfold_val.split(X_train, \n",
    "                                                      y_train, \n",
    "                                                      X_train_pid):\n",
    "                                   \n",
    "        X_subtrain, X_valid = X_train.iloc[subtrain_index], X_train.iloc[valid_index]\n",
    "        y_subtrain, y_valid = y_train.iloc[subtrain_index], y_train.iloc[valid_index]\n",
    "\n",
    "        pca = PCA(n_components=pca_n_components,random_state = seed)           \n",
    "        X_subtrain = pca.fit_transform(X_subtrain)\n",
    "        X_valid = pca.transform(X_valid)\n",
    "\n",
    "        #standardize\n",
    "        if standardize:\n",
    "            scaler = StandardScaler()\n",
    "            X_subtrain = scaler.fit_transform(X_subtrain)\n",
    "            X_valid = scaler.transform(X_valid)\n",
    "\n",
    "        for param in tqdm(params):\n",
    "            if str(param) not in metrics.keys() :\n",
    "                metrics[str(param)] ={'acc':[], 'auc':[], 'sensitivity':[], 'specificity':[]}\n",
    "                                   \n",
    "            acc, auc, specificity, sensitivity,_ = train_valid(param, X_subtrain,X_valid,y_subtrain, y_valid)\n",
    "            metrics[str(param)]['auc'].append(auc)\n",
    "            metrics[str(param)]['acc'].append(acc)\n",
    "            metrics[str(param)]['sensitivity'].append(sensitivity)\n",
    "            metrics[str(param)]['specificity'].append(specificity)\n",
    "    #log validation metrics for all combination of params\n",
    "    log_val_metrics(params, metrics, test_n_splits)\n",
    "    \n",
    "    #highest accuracy\n",
    "    index_param_max = np.array([np.array(metrics[str(param)]['auc']).mean() for param in params]).argmax()\n",
    "    print('From all the combinations, the highest accuracy was achieved with', params[index_param_max])\n",
    "    #train and test with max param\n",
    "    pca = PCA(n_components=pca_n_components)           \n",
    "    X_train = pca.fit_transform(X_train)\n",
    "    X_test = pca.transform(X_test)\n",
    "\n",
    "    #standardize\n",
    "    if standardize:\n",
    "        scaler = StandardScaler()\n",
    "        X_train = scaler.fit_transform(X_train)\n",
    "        X_test = scaler.transform(X_test)\n",
    "\n",
    "    acc, auc, specificity, sensitivity, predictions = train_valid(params[index_param_max], X_train, X_test, y_train, y_test)\n",
    "    \n",
    "    #compute majority vote metrics\n",
    "    acc_mv, auc_mv, specificity_mv, sensitivity_mv = get_majority_vote(y_test, predictions)\n",
    "    \n",
    "    print('FOLD '+ str(fold_c) + ':  acc ' + str(acc) +  ', auc ' +  str(auc) +  ', specificity '+ str(specificity)\n",
    "          + ', sensitivity ' + str(sensitivity))\n",
    "    print('FOLD '+ str(fold_c) + ':  MV acc ' + str(acc_mv) +  ', MV auc ' +  str(auc_mv) +  ', MV specificity '+ str(specificity_mv)\n",
    "          + ', MV sensitivity ' + str(sensitivity_mv))\n",
    "    \n",
    "    test_metrics[fold_c]=  {'acc':acc, 'auc':auc, 'sensitivity':sensitivity, 'specificity':specificity, 'param':params[index_param_max]}\n",
    "    test_metrics_mv[fold_c]=  {'acc':acc_mv, 'auc':auc_mv, 'sensitivity':sensitivity_mv, 'specificity':specificity_mv, 'param':params[index_param_max]}\n",
    "    \n",
    "    fold_c +=1 \n",
    "\n",
    "log_test_metrics(test_metrics, test_metrics_mv, test_n_splits, 'Scattering features + PCA + SVM',seed))\n"
   ]
  },
  {
   "cell_type": "code",
   "execution_count": 11,
   "metadata": {},
   "outputs": [
    {
     "name": "stderr",
     "output_type": "stream",
     "text": [
      "/home/mila/g/gauthies/.conda/envs/ultra/lib/python3.7/site-packages/ipykernel/ipkernel.py:287: DeprecationWarning: `should_run_async` will not call `transform_cell` automatically in the future. Please pass the result to `transformed_cell` argument and any exception that happen during thetransform in `preprocessing_exc_tuple` in IPython 7.17 and above.\n",
      "  and should_run_async(code)\n"
     ]
    },
    {
     "data": {
      "text/html": [
       "<div>\n",
       "<style scoped>\n",
       "    .dataframe tbody tr th:only-of-type {\n",
       "        vertical-align: middle;\n",
       "    }\n",
       "\n",
       "    .dataframe tbody tr th {\n",
       "        vertical-align: top;\n",
       "    }\n",
       "\n",
       "    .dataframe thead th {\n",
       "        text-align: right;\n",
       "    }\n",
       "</style>\n",
       "<table border=\"1\" class=\"dataframe\">\n",
       "  <thead>\n",
       "    <tr style=\"text-align: right;\">\n",
       "      <th></th>\n",
       "      <th>start_time</th>\n",
       "      <th>end_time</th>\n",
       "      <th>metrics.accuracy variance</th>\n",
       "      <th>metrics.sensitivity mean</th>\n",
       "      <th>metrics.AUC mean</th>\n",
       "      <th>metrics.AUC variance</th>\n",
       "      <th>metrics.accuracy mean</th>\n",
       "      <th>metrics.specificity mean</th>\n",
       "      <th>metrics.sensitivity variance</th>\n",
       "      <th>metrics.specificity variance</th>\n",
       "      <th>params.Model</th>\n",
       "    </tr>\n",
       "  </thead>\n",
       "  <tbody>\n",
       "    <tr>\n",
       "      <th>0</th>\n",
       "      <td>2020-10-14 02:36:41.279000+00:00</td>\n",
       "      <td>2020-10-14 02:36:42.752000+00:00</td>\n",
       "      <td>0.020496</td>\n",
       "      <td>0.901515</td>\n",
       "      <td>0.746212</td>\n",
       "      <td>0.057909</td>\n",
       "      <td>0.836364</td>\n",
       "      <td>0.590909</td>\n",
       "      <td>0.017447</td>\n",
       "      <td>0.219008</td>\n",
       "      <td>AVG Pooling Inception features + SVM</td>\n",
       "    </tr>\n",
       "    <tr>\n",
       "      <th>1</th>\n",
       "      <td>2020-10-14 02:36:39.499000+00:00</td>\n",
       "      <td>2020-10-14 02:36:41.175000+00:00</td>\n",
       "      <td>0.016833</td>\n",
       "      <td>0.890152</td>\n",
       "      <td>0.740530</td>\n",
       "      <td>0.050423</td>\n",
       "      <td>0.821818</td>\n",
       "      <td>0.590909</td>\n",
       "      <td>0.009985</td>\n",
       "      <td>0.171736</td>\n",
       "      <td>AVG Pooling Inception features + SVM</td>\n",
       "    </tr>\n",
       "    <tr>\n",
       "      <th>2</th>\n",
       "      <td>2020-10-14 02:33:27.796000+00:00</td>\n",
       "      <td>2020-10-14 02:33:29.903000+00:00</td>\n",
       "      <td>0.050909</td>\n",
       "      <td>0.901515</td>\n",
       "      <td>0.768939</td>\n",
       "      <td>0.074925</td>\n",
       "      <td>0.800000</td>\n",
       "      <td>0.636364</td>\n",
       "      <td>0.028811</td>\n",
       "      <td>0.191001</td>\n",
       "      <td>Pretrained Restnet-34 on ImageNet</td>\n",
       "    </tr>\n",
       "    <tr>\n",
       "      <th>3</th>\n",
       "      <td>2020-10-14 02:33:25.472000+00:00</td>\n",
       "      <td>2020-10-14 02:33:27.703000+00:00</td>\n",
       "      <td>0.029924</td>\n",
       "      <td>0.915152</td>\n",
       "      <td>0.784091</td>\n",
       "      <td>0.044220</td>\n",
       "      <td>0.821818</td>\n",
       "      <td>0.653030</td>\n",
       "      <td>0.014909</td>\n",
       "      <td>0.112062</td>\n",
       "      <td>Pretrained Restnet-34 on ImageNet</td>\n",
       "    </tr>\n",
       "    <tr>\n",
       "      <th>4</th>\n",
       "      <td>2020-10-14 02:26:30+00:00</td>\n",
       "      <td>2020-10-14 02:26:31.405000+00:00</td>\n",
       "      <td>0.111074</td>\n",
       "      <td>0.921053</td>\n",
       "      <td>0.872727</td>\n",
       "      <td>0.111074</td>\n",
       "      <td>0.872727</td>\n",
       "      <td>0.764706</td>\n",
       "      <td>0.072715</td>\n",
       "      <td>0.179931</td>\n",
       "      <td>AVG Pooling Inception features + SVM</td>\n",
       "    </tr>\n",
       "    <tr>\n",
       "      <th>5</th>\n",
       "      <td>2020-10-14 02:26:28.427000+00:00</td>\n",
       "      <td>2020-10-14 02:26:29.912000+00:00</td>\n",
       "      <td>0.090360</td>\n",
       "      <td>0.907895</td>\n",
       "      <td>0.838182</td>\n",
       "      <td>0.090360</td>\n",
       "      <td>0.838182</td>\n",
       "      <td>0.682353</td>\n",
       "      <td>0.048096</td>\n",
       "      <td>0.149689</td>\n",
       "      <td>AVG Pooling Inception features + SVM</td>\n",
       "    </tr>\n",
       "    <tr>\n",
       "      <th>6</th>\n",
       "      <td>2020-10-14 02:18:49.763000+00:00</td>\n",
       "      <td>2020-10-14 02:18:51.092000+00:00</td>\n",
       "      <td>0.111074</td>\n",
       "      <td>0.947368</td>\n",
       "      <td>0.872727</td>\n",
       "      <td>0.111074</td>\n",
       "      <td>0.872727</td>\n",
       "      <td>0.705882</td>\n",
       "      <td>0.049861</td>\n",
       "      <td>0.207612</td>\n",
       "      <td>Pretrained Restnet-34 on ImageNet</td>\n",
       "    </tr>\n",
       "    <tr>\n",
       "      <th>7</th>\n",
       "      <td>2020-10-14 02:18:48.335000+00:00</td>\n",
       "      <td>2020-10-14 02:18:49.672000+00:00</td>\n",
       "      <td>0.077474</td>\n",
       "      <td>0.950000</td>\n",
       "      <td>0.867273</td>\n",
       "      <td>0.077474</td>\n",
       "      <td>0.867273</td>\n",
       "      <td>0.682353</td>\n",
       "      <td>0.032500</td>\n",
       "      <td>0.128512</td>\n",
       "      <td>Pretrained Restnet-34 on ImageNet</td>\n",
       "    </tr>\n",
       "    <tr>\n",
       "      <th>8</th>\n",
       "      <td>2020-10-14 01:05:33.598000+00:00</td>\n",
       "      <td>2020-10-14 01:05:34.695000+00:00</td>\n",
       "      <td>0.148760</td>\n",
       "      <td>0.818182</td>\n",
       "      <td>0.818182</td>\n",
       "      <td>0.148760</td>\n",
       "      <td>0.818182</td>\n",
       "      <td>0.818182</td>\n",
       "      <td>0.148760</td>\n",
       "      <td>0.148760</td>\n",
       "      <td>Pretrained Restnet-34 on ImageNet</td>\n",
       "    </tr>\n",
       "    <tr>\n",
       "      <th>9</th>\n",
       "      <td>2020-10-14 01:05:32.465000+00:00</td>\n",
       "      <td>2020-10-14 01:05:33.520000+00:00</td>\n",
       "      <td>0.101369</td>\n",
       "      <td>NaN</td>\n",
       "      <td>0.816364</td>\n",
       "      <td>0.101369</td>\n",
       "      <td>0.816364</td>\n",
       "      <td>NaN</td>\n",
       "      <td>NaN</td>\n",
       "      <td>NaN</td>\n",
       "      <td>Pretrained Restnet-34 on ImageNet</td>\n",
       "    </tr>\n",
       "    <tr>\n",
       "      <th>10</th>\n",
       "      <td>2020-10-14 00:14:02.209000+00:00</td>\n",
       "      <td>2020-10-14 00:14:03.079000+00:00</td>\n",
       "      <td>0.124298</td>\n",
       "      <td>0.854545</td>\n",
       "      <td>0.854545</td>\n",
       "      <td>0.124298</td>\n",
       "      <td>0.854545</td>\n",
       "      <td>0.854545</td>\n",
       "      <td>0.124298</td>\n",
       "      <td>0.124298</td>\n",
       "      <td>Scattering features + PCA + SVM</td>\n",
       "    </tr>\n",
       "    <tr>\n",
       "      <th>11</th>\n",
       "      <td>2020-10-14 00:14:01.276000+00:00</td>\n",
       "      <td>2020-10-14 00:14:02.144000+00:00</td>\n",
       "      <td>0.121408</td>\n",
       "      <td>0.850909</td>\n",
       "      <td>0.850909</td>\n",
       "      <td>0.121408</td>\n",
       "      <td>0.850909</td>\n",
       "      <td>0.836364</td>\n",
       "      <td>0.121408</td>\n",
       "      <td>0.136860</td>\n",
       "      <td>Scattering features + PCA + SVM</td>\n",
       "    </tr>\n",
       "    <tr>\n",
       "      <th>12</th>\n",
       "      <td>2020-10-14 00:13:25.768000+00:00</td>\n",
       "      <td>2020-10-14 00:13:26.694000+00:00</td>\n",
       "      <td>0.027769</td>\n",
       "      <td>0.954545</td>\n",
       "      <td>0.704545</td>\n",
       "      <td>0.074638</td>\n",
       "      <td>0.836364</td>\n",
       "      <td>0.454545</td>\n",
       "      <td>0.009298</td>\n",
       "      <td>0.247934</td>\n",
       "      <td>AVG Pooling Inception features + SVM</td>\n",
       "    </tr>\n",
       "    <tr>\n",
       "      <th>13</th>\n",
       "      <td>2020-10-14 00:13:24.781000+00:00</td>\n",
       "      <td>2020-10-14 00:13:25.701000+00:00</td>\n",
       "      <td>0.018797</td>\n",
       "      <td>0.925758</td>\n",
       "      <td>0.674242</td>\n",
       "      <td>0.049782</td>\n",
       "      <td>0.798182</td>\n",
       "      <td>0.422727</td>\n",
       "      <td>0.007051</td>\n",
       "      <td>0.156882</td>\n",
       "      <td>AVG Pooling Inception features + SVM</td>\n",
       "    </tr>\n",
       "    <tr>\n",
       "      <th>14</th>\n",
       "      <td>2020-10-13 20:33:45.141000+00:00</td>\n",
       "      <td>2020-10-13 20:33:45.488000+00:00</td>\n",
       "      <td>0.032397</td>\n",
       "      <td>0.810606</td>\n",
       "      <td>0.799242</td>\n",
       "      <td>0.051395</td>\n",
       "      <td>0.818182</td>\n",
       "      <td>0.787879</td>\n",
       "      <td>0.048095</td>\n",
       "      <td>0.146924</td>\n",
       "      <td>Scattering features + PCA + SVM</td>\n",
       "    </tr>\n",
       "    <tr>\n",
       "      <th>15</th>\n",
       "      <td>2020-10-13 20:33:44.783000+00:00</td>\n",
       "      <td>2020-10-13 20:33:45.116000+00:00</td>\n",
       "      <td>0.032364</td>\n",
       "      <td>0.812879</td>\n",
       "      <td>0.800379</td>\n",
       "      <td>0.051580</td>\n",
       "      <td>0.820000</td>\n",
       "      <td>0.787879</td>\n",
       "      <td>0.047871</td>\n",
       "      <td>0.146924</td>\n",
       "      <td>Scattering features + PCA + SVM</td>\n",
       "    </tr>\n",
       "    <tr>\n",
       "      <th>16</th>\n",
       "      <td>2020-10-13 19:50:09.474000+00:00</td>\n",
       "      <td>2020-10-13 19:50:09.724000+00:00</td>\n",
       "      <td>0.009256</td>\n",
       "      <td>0.946970</td>\n",
       "      <td>0.912879</td>\n",
       "      <td>0.021608</td>\n",
       "      <td>0.927273</td>\n",
       "      <td>0.878788</td>\n",
       "      <td>0.012971</td>\n",
       "      <td>0.086318</td>\n",
       "      <td>Pretrained Restnet-34 on ImageNet</td>\n",
       "    </tr>\n",
       "    <tr>\n",
       "      <th>17</th>\n",
       "      <td>2020-10-13 19:50:09.234000+00:00</td>\n",
       "      <td>2020-10-13 19:50:09.456000+00:00</td>\n",
       "      <td>0.011663</td>\n",
       "      <td>0.903788</td>\n",
       "      <td>0.864015</td>\n",
       "      <td>0.024404</td>\n",
       "      <td>0.889091</td>\n",
       "      <td>0.824242</td>\n",
       "      <td>0.012833</td>\n",
       "      <td>0.076028</td>\n",
       "      <td>Pretrained Restnet-34 on ImageNet</td>\n",
       "    </tr>\n",
       "  </tbody>\n",
       "</table>\n",
       "</div>"
      ],
      "text/plain": [
       "                         start_time                         end_time  \\\n",
       "0  2020-10-14 02:36:41.279000+00:00 2020-10-14 02:36:42.752000+00:00   \n",
       "1  2020-10-14 02:36:39.499000+00:00 2020-10-14 02:36:41.175000+00:00   \n",
       "2  2020-10-14 02:33:27.796000+00:00 2020-10-14 02:33:29.903000+00:00   \n",
       "3  2020-10-14 02:33:25.472000+00:00 2020-10-14 02:33:27.703000+00:00   \n",
       "4         2020-10-14 02:26:30+00:00 2020-10-14 02:26:31.405000+00:00   \n",
       "5  2020-10-14 02:26:28.427000+00:00 2020-10-14 02:26:29.912000+00:00   \n",
       "6  2020-10-14 02:18:49.763000+00:00 2020-10-14 02:18:51.092000+00:00   \n",
       "7  2020-10-14 02:18:48.335000+00:00 2020-10-14 02:18:49.672000+00:00   \n",
       "8  2020-10-14 01:05:33.598000+00:00 2020-10-14 01:05:34.695000+00:00   \n",
       "9  2020-10-14 01:05:32.465000+00:00 2020-10-14 01:05:33.520000+00:00   \n",
       "10 2020-10-14 00:14:02.209000+00:00 2020-10-14 00:14:03.079000+00:00   \n",
       "11 2020-10-14 00:14:01.276000+00:00 2020-10-14 00:14:02.144000+00:00   \n",
       "12 2020-10-14 00:13:25.768000+00:00 2020-10-14 00:13:26.694000+00:00   \n",
       "13 2020-10-14 00:13:24.781000+00:00 2020-10-14 00:13:25.701000+00:00   \n",
       "14 2020-10-13 20:33:45.141000+00:00 2020-10-13 20:33:45.488000+00:00   \n",
       "15 2020-10-13 20:33:44.783000+00:00 2020-10-13 20:33:45.116000+00:00   \n",
       "16 2020-10-13 19:50:09.474000+00:00 2020-10-13 19:50:09.724000+00:00   \n",
       "17 2020-10-13 19:50:09.234000+00:00 2020-10-13 19:50:09.456000+00:00   \n",
       "\n",
       "    metrics.accuracy variance  metrics.sensitivity mean  metrics.AUC mean  \\\n",
       "0                    0.020496                  0.901515          0.746212   \n",
       "1                    0.016833                  0.890152          0.740530   \n",
       "2                    0.050909                  0.901515          0.768939   \n",
       "3                    0.029924                  0.915152          0.784091   \n",
       "4                    0.111074                  0.921053          0.872727   \n",
       "5                    0.090360                  0.907895          0.838182   \n",
       "6                    0.111074                  0.947368          0.872727   \n",
       "7                    0.077474                  0.950000          0.867273   \n",
       "8                    0.148760                  0.818182          0.818182   \n",
       "9                    0.101369                       NaN          0.816364   \n",
       "10                   0.124298                  0.854545          0.854545   \n",
       "11                   0.121408                  0.850909          0.850909   \n",
       "12                   0.027769                  0.954545          0.704545   \n",
       "13                   0.018797                  0.925758          0.674242   \n",
       "14                   0.032397                  0.810606          0.799242   \n",
       "15                   0.032364                  0.812879          0.800379   \n",
       "16                   0.009256                  0.946970          0.912879   \n",
       "17                   0.011663                  0.903788          0.864015   \n",
       "\n",
       "    metrics.AUC variance  metrics.accuracy mean  metrics.specificity mean  \\\n",
       "0               0.057909               0.836364                  0.590909   \n",
       "1               0.050423               0.821818                  0.590909   \n",
       "2               0.074925               0.800000                  0.636364   \n",
       "3               0.044220               0.821818                  0.653030   \n",
       "4               0.111074               0.872727                  0.764706   \n",
       "5               0.090360               0.838182                  0.682353   \n",
       "6               0.111074               0.872727                  0.705882   \n",
       "7               0.077474               0.867273                  0.682353   \n",
       "8               0.148760               0.818182                  0.818182   \n",
       "9               0.101369               0.816364                       NaN   \n",
       "10              0.124298               0.854545                  0.854545   \n",
       "11              0.121408               0.850909                  0.836364   \n",
       "12              0.074638               0.836364                  0.454545   \n",
       "13              0.049782               0.798182                  0.422727   \n",
       "14              0.051395               0.818182                  0.787879   \n",
       "15              0.051580               0.820000                  0.787879   \n",
       "16              0.021608               0.927273                  0.878788   \n",
       "17              0.024404               0.889091                  0.824242   \n",
       "\n",
       "    metrics.sensitivity variance  metrics.specificity variance  \\\n",
       "0                       0.017447                      0.219008   \n",
       "1                       0.009985                      0.171736   \n",
       "2                       0.028811                      0.191001   \n",
       "3                       0.014909                      0.112062   \n",
       "4                       0.072715                      0.179931   \n",
       "5                       0.048096                      0.149689   \n",
       "6                       0.049861                      0.207612   \n",
       "7                       0.032500                      0.128512   \n",
       "8                       0.148760                      0.148760   \n",
       "9                            NaN                           NaN   \n",
       "10                      0.124298                      0.124298   \n",
       "11                      0.121408                      0.136860   \n",
       "12                      0.009298                      0.247934   \n",
       "13                      0.007051                      0.156882   \n",
       "14                      0.048095                      0.146924   \n",
       "15                      0.047871                      0.146924   \n",
       "16                      0.012971                      0.086318   \n",
       "17                      0.012833                      0.076028   \n",
       "\n",
       "                            params.Model  \n",
       "0   AVG Pooling Inception features + SVM  \n",
       "1   AVG Pooling Inception features + SVM  \n",
       "2      Pretrained Restnet-34 on ImageNet  \n",
       "3      Pretrained Restnet-34 on ImageNet  \n",
       "4   AVG Pooling Inception features + SVM  \n",
       "5   AVG Pooling Inception features + SVM  \n",
       "6      Pretrained Restnet-34 on ImageNet  \n",
       "7      Pretrained Restnet-34 on ImageNet  \n",
       "8      Pretrained Restnet-34 on ImageNet  \n",
       "9      Pretrained Restnet-34 on ImageNet  \n",
       "10       Scattering features + PCA + SVM  \n",
       "11       Scattering features + PCA + SVM  \n",
       "12  AVG Pooling Inception features + SVM  \n",
       "13  AVG Pooling Inception features + SVM  \n",
       "14       Scattering features + PCA + SVM  \n",
       "15       Scattering features + PCA + SVM  \n",
       "16     Pretrained Restnet-34 on ImageNet  \n",
       "17     Pretrained Restnet-34 on ImageNet  "
      ]
     },
     "execution_count": 11,
     "metadata": {},
     "output_type": "execute_result"
    }
   ],
   "source": [
    "mlflow.search_runs(experiment_ids=['2']).sort_values('start_time',ascending=False).filter(regex='Model|metrics|time')"
   ]
  },
  {
   "cell_type": "markdown",
   "metadata": {},
   "source": [
    "# Analyzing PCA\n",
    "\n"
   ]
  },
  {
   "cell_type": "code",
   "execution_count": 7,
   "metadata": {},
   "outputs": [
    {
     "name": "stderr",
     "output_type": "stream",
     "text": [
      "/home/mila/g/gauthies/.conda/envs/ultra/lib/python3.7/site-packages/ipykernel/ipkernel.py:287: DeprecationWarning: `should_run_async` will not call `transform_cell` automatically in the future. Please pass the result to `transformed_cell` argument and any exception that happen during thetransform in `preprocessing_exc_tuple` in IPython 7.17 and above.\n",
      "  and should_run_async(code)\n"
     ]
    }
   ],
   "source": [
    "df_train, df_test = train_test_split(df_scattering)\n",
    "pca = PCA(n_components=50)           \n",
    "data = pca.fit_transform(df_train)"
   ]
  },
  {
   "cell_type": "code",
   "execution_count": 12,
   "metadata": {},
   "outputs": [
    {
     "data": {
      "image/png": "[encoded data removed]",
      "text/plain": [
       "<Figure size 432x288 with 1 Axes>"
      ]
     },
     "metadata": {
      "needs_background": "light"
     },
     "output_type": "display_data"
    }
   ],
   "source": [
    "plt.plot(np.insert(pca.explained_variance_ratio_.cumsum(),0,0),marker='o')\n",
    "plt.xlabel('Number of components')\n",
    "plt.ylabel('Cumulative explained variance')\n",
    "plt.show()"
   ]
  },
  {
   "cell_type": "code",
   "execution_count": 13,
   "metadata": {},
   "outputs": [
    {
     "name": "stdout",
     "output_type": "stream",
     "text": [
      "[0.32492575 0.42469525 0.4798019  0.51609635 0.5453536  0.57315236\n",
      " 0.59722865 0.61983025 0.63891876 0.6568953  0.6721498  0.6857487\n",
      " 0.69889057 0.71098614 0.7222507  0.73308104 0.74316007 0.7525093\n",
      " 0.7614033  0.770065   0.7785104  0.78667223 0.79453176 0.8020777\n",
      " 0.80899334 0.8156645  0.8221985  0.8286165  0.83461845 0.84031194\n",
      " 0.8457946  0.8510881  0.85620195 0.86108404 0.865758   0.87031674\n",
      " 0.8747754  0.8790858  0.8833129  0.88729066 0.89119375 0.89489025\n",
      " 0.8983691  0.90175486 0.90500927 0.90807843 0.9110143  0.9137894\n",
      " 0.9163307  0.9180361 ]\n"
     ]
    }
   ],
   "source": [
    "print(pca.explained_variance_ratio_.cumsum())"
   ]
  }
 ],
 "metadata": {
  "accelerator": "GPU",
  "colab": {
   "collapsed_sections": [],
   "name": "Transfer learning with deep convolutional neural network for liver steatosis assessment in ultrasound images Reproducibility with Scatterin.ipynb",
   "provenance": [],
   "toc_visible": true
  },
  "kernelspec": {
   "display_name": "Python 3 (ultra)",
   "language": "python",
   "name": "ultra"
  },
  "language_info": {
   "codemirror_mode": {
    "name": "ipython",
    "version": 3
   },
   "file_extension": ".py",
   "mimetype": "text/x-python",
   "name": "python",
   "nbconvert_exporter": "python",
   "pygments_lexer": "ipython3",
   "version": "3.7.0"
  }
 },
 "nbformat": 4,
 "nbformat_minor": 4
}
