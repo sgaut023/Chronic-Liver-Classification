{
 "cells": [
  {
   "cell_type": "markdown",
   "metadata": {
    "colab_type": "text",
    "id": "ENoS3mTtGQts"
   },
   "source": [
    "# Transfer learning with deep convolutional neural network for liver steatosis assessment in ultrasound images\n",
    "Reproduce Results of [Transfer learning with deep convolutional neural network for liver steatosis assessment in ultrasound images](https://pubmed.ncbi.nlm.nih.gov/30094778/)\n",
    "\n",
    "\n",
    "> We used a pre-trained CNN to extract features based on B-mode images. Next, using the neural features, we employed the support vector machine (SVM) algorithm to classify images containing fatty liver. Aside of fatty liver classification, it is clinically relevant to quantify the grade of liver steatosis. For this task, we used the extracted features and the Lasso regression method. In both cases, liver biopsy results served as a reference. The performance of the pro- posed approach was compared with the GLCM methods.\n",
    "\n",
    "\n",
    "\n"
   ]
  },
  {
   "cell_type": "code",
   "execution_count": 15,
   "metadata": {
    "colab": {},
    "colab_type": "code",
    "id": "ptO9fUvkD-Lc"
   },
   "outputs": [],
   "source": [
    "import sys\n",
    "sys.path.append('../src')\n",
    "import warnings\n",
    "warnings.filterwarnings(\"ignore\") \n",
    "\n",
    "from utils.reduce import reduce_pca\n",
    "from utils.split import train_test_split\n",
    "\n",
    "from sklearn.preprocessing import StandardScaler\n",
    "from sklearn.decomposition import PCA\n",
    "from sklearn.svm import LinearSVC\n",
    "from sklearn.svm import SVC\n",
    "from sklearn.model_selection import GroupKFold\n",
    "from sklearn.metrics import accuracy_score\n",
    "\n",
    "from itertools import product\n",
    "import pickle\n",
    "import pandas as pd\n",
    "import numpy as np\n",
    "import mlflow\n",
    "import matplotlib.pyplot as plt\n"
   ]
  },
  {
   "cell_type": "code",
   "execution_count": null,
   "metadata": {},
   "outputs": [],
   "source": [
    "mlflow.set_experiment('scattering_svm_pca_experiment')"
   ]
  },
  {
   "cell_type": "markdown",
   "metadata": {
    "colab_type": "text",
    "id": "XJR7pdinnuHH"
   },
   "source": [
    "## Feature Reduction/Selection"
   ]
  },
  {
   "cell_type": "markdown",
   "metadata": {
    "colab_type": "text",
    "id": "731ett2LeCqH"
   },
   "source": [
    "#### Upload Scattering Features"
   ]
  },
  {
   "cell_type": "code",
   "execution_count": 34,
   "metadata": {
    "colab": {},
    "colab_type": "code",
    "id": "oVel2LKmwSb9"
   },
   "outputs": [],
   "source": [
    "with open('../data/03_features/scattering_features.pickle', 'rb') as handle:\n",
    "    scatter_dict = pickle.load(handle)\n",
    "    df_scattering = scatter_dict['df']\n",
    "    scattering_params = {'J':scatter_dict['J'],\n",
    "                         'M':scatter_dict['M'],\n",
    "                         'N':scatter_dict['N']}"
   ]
  },
  {
   "cell_type": "markdown",
   "metadata": {
    "colab_type": "text",
    "id": "oSnXvC1cehWL"
   },
   "source": [
    "#### Apply PCA\n",
    "\n",
    "Since sklearn is used for PCA, the dataset will be transformed into a panda dataframe."
   ]
  },
  {
   "cell_type": "code",
   "execution_count": 35,
   "metadata": {},
   "outputs": [],
   "source": [
    "pca_n_components = 5\n",
    "df_scattering_10 = reduce_pca(data=df_scattering, n_components=pca_n_components)"
   ]
  },
  {
   "cell_type": "markdown",
   "metadata": {},
   "source": [
    "# Cross Validation using SVM Classification\n",
    "\n",
    "> Methods that exclude outliers were used to normalize the features. Patient-specific leave-one-out cross-validation (LOOCV) was applied to evaluate the classification. In each case, the test set consisted of10 images from the same patient and the training set contained 540 images from the remaining 54 patients. For each training set, fivefold cross-validation and grid search were applied to indicate the optimal SVM classifier hyperparameters and the best kernel. To address the problem of class imbalance, the SVM hyperparameter C of each class was adjusted inversely proportional to that class frequency in the training set. Label 1 indicated the image containing a fatty liver and label −1 otherwise. \n"
   ]
  },
  {
   "cell_type": "code",
   "execution_count": 36,
   "metadata": {},
   "outputs": [],
   "source": [
    "df_train, df_test = train_test_split(df_scattering_10)"
   ]
  },
  {
   "cell_type": "code",
   "execution_count": 37,
   "metadata": {},
   "outputs": [],
   "source": [
    "# Set the parameters by cross-validation\n",
    "param_gamma = [1e-3, 1e-4]\n",
    "param_C = [1, 10, 100, 1000]\n",
    "rbf_params = list(product(['kernel'],param_gamma, param_C))\n",
    "linear_params = list(product(['linear'],param_C))\n",
    "params = rbf_params + linear_params"
   ]
  },
  {
   "cell_type": "code",
   "execution_count": 38,
   "metadata": {},
   "outputs": [],
   "source": [
    "standardize = True\n",
    "\n",
    "df_train_pid = df_train.pop('id')\n",
    "df_train_y = df_train.pop('class')\n",
    "search_metrics = {}\n",
    "\n",
    "for param in params:\n",
    "    # Do cross-validation\n",
    "    with mlflow.start_run():\n",
    "        mlflow.log_param('pca_n',pca_n_components)\n",
    "        mlflow.log_params(scattering_params)\n",
    "        group_kfold = GroupKFold(n_splits=5)\n",
    "        metrics = []\n",
    "        for train_index, valid_index in group_kfold.split(df_train, \n",
    "                                                          df_train_y, \n",
    "                                                          df_train_pid):\n",
    "            X_train, X_valid = df_train.iloc[train_index], df_train.iloc[valid_index]\n",
    "            y_train, y_valid = df_train_y.iloc[train_index], df_train_y.iloc[valid_index]\n",
    "\n",
    "            if standardize:\n",
    "                scaler = StandardScaler()\n",
    "                X_train = scaler.fit_transform(X_train)\n",
    "                X_valid = scaler.transform(X_valid)\n",
    "            \n",
    "            mlflow.log_param('model',f'svm: {param[0]}')\n",
    "            if param[0] == 'kernel': \n",
    "                mlflow.log_param('gamma',param[1])\n",
    "                mlflow.log_param('C',param[2])\n",
    "                model = SVC(gamma=param[1], C=param[2])\n",
    "            if param[0] == 'linear': \n",
    "                model = LinearSVC(C=param[1])\n",
    "                mlflow.log_param('C',param[1])\n",
    "            model.fit(X_train, y_train)\n",
    "            predictions = model.predict(X_valid)\n",
    "            acc = accuracy_score(y_valid, predictions)\n",
    "\n",
    "            metrics.append(acc)\n",
    "        \n",
    "        search_metrics[str(param)] = np.mean(metrics)\n",
    "        \n",
    "        mlflow.log_metric('accuracy',np.mean(metrics))\n",
    "        "
   ]
  },
  {
   "cell_type": "markdown",
   "metadata": {},
   "source": [
    "# Analyzing PCA\n",
    "\n",
    "\n"
   ]
  },
  {
   "cell_type": "code",
   "execution_count": 25,
   "metadata": {},
   "outputs": [],
   "source": [
    "pca = PCA(n_components=50)\n",
    "data = pca.fit_transform(df_scattering)"
   ]
  },
  {
   "cell_type": "code",
   "execution_count": 26,
   "metadata": {},
   "outputs": [
    {
     "data": {
      "image/png": "[encoded data removed]",
      "text/plain": [
       "<Figure size 432x288 with 1 Axes>"
      ]
     },
     "metadata": {
      "needs_background": "light"
     },
     "output_type": "display_data"
    }
   ],
   "source": [
    "plt.plot(np.insert(pca.explained_variance_ratio_.cumsum(),0,0),marker='o')\n",
    "plt.xlabel('Number of components')\n",
    "plt.ylabel('Cumulative explained variance')\n",
    "plt.show()"
   ]
  },
  {
   "cell_type": "code",
   "execution_count": 27,
   "metadata": {},
   "outputs": [
    {
     "name": "stdout",
     "output_type": "stream",
     "text": [
      "[0.358229   0.46256775 0.5213122  0.5615727  0.60021013 0.6280708\n",
      " 0.6526942  0.6741075  0.6933188  0.71118236 0.7272146  0.7416112\n",
      " 0.75492215 0.76626295 0.77692294 0.7868516  0.7964909  0.8051731\n",
      " 0.81322485 0.82102334 0.828144   0.8350312  0.8416648  0.8480806\n",
      " 0.8541647  0.8600241  0.86547524 0.8706865  0.8758702  0.88077354\n",
      " 0.8853577  0.8898133  0.89404804 0.89821213 0.9021143  0.90581274\n",
      " 0.90947115 0.91286314 0.916123   0.91932863 0.9223907  0.92539936\n",
      " 0.92826146 0.9310725  0.9337355  0.93633085 0.9387765  0.9410663\n",
      " 0.94322944 0.94532514]\n"
     ]
    }
   ],
   "source": [
    "print(pca.explained_variance_ratio_.cumsum())"
   ]
  },
  {
   "cell_type": "markdown",
   "metadata": {},
   "source": [
    "# Test Prediction"
   ]
  },
  {
   "cell_type": "code",
   "execution_count": 5,
   "metadata": {},
   "outputs": [],
   "source": [
    "# !mlflow ui \n",
    "# Set a new mlflow experiment\n",
    "# Use the best hyperparameters to train a model on the whole training data\n",
    "# Test and record results!\n",
    "mlflow.set_experiment('test_results_dataset_liver_bmodes_steatosis_assessment_IJCARS')"
   ]
  },
  {
   "cell_type": "markdown",
   "metadata": {},
   "source": [
    "Best combination of hyper parameters\n",
    "<img width=\"782\" alt=\"Screen Shot 2020-09-29 at 8 47 03 PM\" src=\"https://user-images.githubusercontent.com/23482039/94630966-36573680-0295-11eb-9352-18b1796b3fd4.png\">"
   ]
  },
  {
   "cell_type": "code",
   "execution_count": 12,
   "metadata": {},
   "outputs": [
    {
     "name": "stderr",
     "output_type": "stream",
     "text": [
      "/home/mila/g/gauthies/.conda/envs/ultra/lib/python3.7/site-packages/ipykernel/ipkernel.py:287: DeprecationWarning: `should_run_async` will not call `transform_cell` automatically in the future. Please pass the result to `transformed_cell` argument and any exception that happen during thetransform in `preprocessing_exc_tuple` in IPython 7.17 and above.\n",
      "  and should_run_async(code)\n"
     ]
    }
   ],
   "source": [
    "with open('../data/03_features/scattering_features.pickle', 'rb') as handle:\n",
    "    scatter_dict = pickle.load(handle)\n",
    "    df_scattering = scatter_dict['df']\n",
    "    scattering_params = {'J':scatter_dict['J'],\n",
    "                         'M':scatter_dict['M'],\n",
    "                         'N':scatter_dict['N']}"
   ]
  },
  {
   "cell_type": "code",
   "execution_count": null,
   "metadata": {},
   "outputs": [],
   "source": [
    "pca_n_components = 10\n",
    "df_scattering_10 = reduce_pca(data=df_scattering, n_components=pca_n_components)\n",
    "df_train, df_test = train_test_split(df_scattering_10)\n",
    "standardize = True\n",
    "\n",
    "\n",
    "df_train.pop('id')\n",
    "df_test.pop('id')\n",
    "df_train_y = df_train.pop('class')\n",
    "df_test_y = df_test.pop('class')\n"
   ]
  },
  {
   "cell_type": "code",
   "execution_count": null,
   "metadata": {},
   "outputs": [],
   "source": [
    "pca_n_components = 10\n",
    "df_scattering_10 = reduce_pca(data=df_scattering, n_components=pca_n_components)\n",
    "df_train, df_test = train_test_split(df_scattering_10)"
   ]
  },
  {
   "cell_type": "code",
   "execution_count": null,
   "metadata": {},
   "outputs": [],
   "source": [
    "with mlflow.start_run():\n",
    "    model =  SVC(gamma= 1e-4, C=1000)\n",
    "    model.fit(df_train, df_train_y)\n",
    "    predictions = model.predict(df_test)\n",
    "    acc = accuracy_score(df_test_y, predictions)\n",
    "    mlflow.log_param('Model', 'Scattering features + PCA + SVM')\n",
    "    mlflow.log_metric('accuracy', acc)\n"
   ]
  },
  {
   "cell_type": "code",
   "execution_count": null,
   "metadata": {},
   "outputs": [],
   "source": [
    "print('The test accuracy of the model is ', acc)"
   ]
  },
  {
   "cell_type": "code",
   "execution_count": null,
   "metadata": {},
   "outputs": [],
   "source": []
  }
 ],
 "metadata": {
  "accelerator": "GPU",
  "colab": {
   "collapsed_sections": [],
   "name": "Transfer learning with deep convolutional neural network for liver steatosis assessment in ultrasound images Reproducibility with Scatterin.ipynb",
   "provenance": [],
   "toc_visible": true
  },
  "kernelspec": {
   "display_name": "Python 3 (ultra)",
   "language": "python",
   "name": "ultra"
  },
  "language_info": {
   "codemirror_mode": {
    "name": "ipython",
    "version": 3
   },
   "file_extension": ".py",
   "mimetype": "text/x-python",
   "name": "python",
   "nbconvert_exporter": "python",
   "pygments_lexer": "ipython3",
   "version": "3.7.0"
  }
 },
 "nbformat": 4,
 "nbformat_minor": 4
}
