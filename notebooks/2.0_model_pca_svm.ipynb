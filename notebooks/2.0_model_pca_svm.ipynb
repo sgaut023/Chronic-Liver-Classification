{
 "cells": [
  {
   "cell_type": "markdown",
   "metadata": {
    "colab_type": "text",
    "id": "ENoS3mTtGQts"
   },
   "source": [
    "# Transfer learning with deep convolutional neural network for liver steatosis assessment in ultrasound images\n",
    "Reproduce Results of [Transfer learning with deep convolutional neural network for liver steatosis assessment in ultrasound images](https://pubmed.ncbi.nlm.nih.gov/30094778/)\n",
    "\n",
    "\n",
    "> We used a pre-trained CNN to extract features based on B-mode images. Next, using the neural features, we employed the support vector machine (SVM) algorithm to classify images containing fatty liver. Aside of fatty liver classification, it is clinically relevant to quantify the grade of liver steatosis. For this task, we used the extracted features and the Lasso regression method. In both cases, liver biopsy results served as a reference. The performance of the pro- posed approach was compared with the GLCM methods.\n",
    "\n",
    "\n",
    "\n"
   ]
  },
  {
   "cell_type": "code",
   "execution_count": 1,
   "metadata": {
    "colab": {},
    "colab_type": "code",
    "id": "ptO9fUvkD-Lc"
   },
   "outputs": [],
   "source": [
    "import sys\n",
    "sys.path.append('../src')\n",
    "\n",
    "from utils.reduce import reduce_pca\n",
    "from utils.split import train_test_split\n",
    "\n",
    "from sklearn.preprocessing import StandardScaler\n",
    "from sklearn.decomposition import PCA\n",
    "from sklearn.svm import LinearSVC\n",
    "from sklearn.svm import SVC\n",
    "from sklearn.model_selection import GroupKFold\n",
    "from sklearn.metrics import accuracy_score\n",
    "\n",
    "from itertools import product\n",
    "import pickle\n",
    "import pandas as pd\n",
    "import numpy as np\n",
    "import mlflow\n",
    "import matplotlib.pyplot as plt"
   ]
  },
  {
   "cell_type": "code",
   "execution_count": 8,
   "metadata": {},
   "outputs": [
    {
     "name": "stderr",
     "output_type": "stream",
     "text": [
      "/home/mila/g/gauthies/.conda/envs/ultra/lib/python3.7/site-packages/ipykernel/ipkernel.py:287: DeprecationWarning: `should_run_async` will not call `transform_cell` automatically in the future. Please pass the result to `transformed_cell` argument and any exception that happen during thetransform in `preprocessing_exc_tuple` in IPython 7.17 and above.\n",
      "  and should_run_async(code)\n"
     ]
    }
   ],
   "source": [
    "mlflow.set_experiment('scattering_svm_pca_experiment')"
   ]
  },
  {
   "cell_type": "markdown",
   "metadata": {
    "colab_type": "text",
    "id": "XJR7pdinnuHH"
   },
   "source": [
    "## Feature Reduction/Selection"
   ]
  },
  {
   "cell_type": "markdown",
   "metadata": {
    "colab_type": "text",
    "id": "731ett2LeCqH"
   },
   "source": [
    "#### Upload Scattering Features"
   ]
  },
  {
   "cell_type": "code",
   "execution_count": 9,
   "metadata": {
    "colab": {},
    "colab_type": "code",
    "id": "oVel2LKmwSb9"
   },
   "outputs": [],
   "source": [
    "with open('../data/03_features/scattering_features.pickle', 'rb') as handle:\n",
    "    scatter_dict = pickle.load(handle)\n",
    "    df_scattering = scatter_dict['df']\n",
    "    scattering_params = {'J':scatter_dict['J'],\n",
    "                         'M':scatter_dict['M'],\n",
    "                         'N':scatter_dict['N']}"
   ]
  },
  {
   "cell_type": "markdown",
   "metadata": {
    "colab_type": "text",
    "id": "oSnXvC1cehWL"
   },
   "source": [
    "#### Apply PCA\n",
    "\n",
    "Since sklearn is used for PCA, the dataset will be transformed into a panda dataframe."
   ]
  },
  {
   "cell_type": "code",
   "execution_count": null,
   "metadata": {},
   "outputs": [],
   "source": [
    "pca_n_components = 10\n",
    "df_scattering_10 = reduce_pca(data=df_scattering, n_components=pca_n_components)"
   ]
  },
  {
   "cell_type": "markdown",
   "metadata": {},
   "source": [
    "# Cross Validation using SVM Classification\n",
    "\n",
    "> Methods that exclude outliers were used to normalize the features. Patient-specific leave-one-out cross-validation (LOOCV) was applied to evaluate the classification. In each case, the test set consisted of10 images from the same patient and the training set contained 540 images from the remaining 54 patients. For each training set, fivefold cross-validation and grid search were applied to indicate the optimal SVM classifier hyperparameters and the best kernel. To address the problem of class imbalance, the SVM hyperparameter C of each class was adjusted inversely proportional to that class frequency in the training set. Label 1 indicated the image containing a fatty liver and label −1 otherwise. \n"
   ]
  },
  {
   "cell_type": "code",
   "execution_count": 5,
   "metadata": {},
   "outputs": [
    {
     "name": "stderr",
     "output_type": "stream",
     "text": [
      "/home/mila/g/gauthies/.conda/envs/ultra/lib/python3.7/site-packages/ipykernel/ipkernel.py:287: DeprecationWarning: `should_run_async` will not call `transform_cell` automatically in the future. Please pass the result to `transformed_cell` argument and any exception that happen during thetransform in `preprocessing_exc_tuple` in IPython 7.17 and above.\n",
      "  and should_run_async(code)\n"
     ]
    }
   ],
   "source": [
    "df_train, df_test = train_test_split(df_scattering_10)"
   ]
  },
  {
   "cell_type": "code",
   "execution_count": 6,
   "metadata": {},
   "outputs": [],
   "source": [
    "# Set the parameters by cross-validation\n",
    "param_gamma = [1e-3, 1e-4]\n",
    "param_C = [1, 10, 100, 1000]\n",
    "rbf_params = list(product(['kernel'],param_gamma, param_C))\n",
    "linear_params = list(product(['linear'],param_C))\n",
    "params = rbf_params + linear_params"
   ]
  },
  {
   "cell_type": "code",
   "execution_count": 7,
   "metadata": {},
   "outputs": [
    {
     "name": "stderr",
     "output_type": "stream",
     "text": [
      "/home/mila/g/gauthies/.conda/envs/ultra/lib/python3.7/site-packages/sklearn/svm/_base.py:977: ConvergenceWarning: Liblinear failed to converge, increase the number of iterations.\n",
      "  \"the number of iterations.\", ConvergenceWarning)\n",
      "/home/mila/g/gauthies/.conda/envs/ultra/lib/python3.7/site-packages/sklearn/svm/_base.py:977: ConvergenceWarning: Liblinear failed to converge, increase the number of iterations.\n",
      "  \"the number of iterations.\", ConvergenceWarning)\n",
      "/home/mila/g/gauthies/.conda/envs/ultra/lib/python3.7/site-packages/sklearn/svm/_base.py:977: ConvergenceWarning: Liblinear failed to converge, increase the number of iterations.\n",
      "  \"the number of iterations.\", ConvergenceWarning)\n",
      "/home/mila/g/gauthies/.conda/envs/ultra/lib/python3.7/site-packages/sklearn/svm/_base.py:977: ConvergenceWarning: Liblinear failed to converge, increase the number of iterations.\n",
      "  \"the number of iterations.\", ConvergenceWarning)\n",
      "/home/mila/g/gauthies/.conda/envs/ultra/lib/python3.7/site-packages/sklearn/svm/_base.py:977: ConvergenceWarning: Liblinear failed to converge, increase the number of iterations.\n",
      "  \"the number of iterations.\", ConvergenceWarning)\n",
      "/home/mila/g/gauthies/.conda/envs/ultra/lib/python3.7/site-packages/sklearn/svm/_base.py:977: ConvergenceWarning: Liblinear failed to converge, increase the number of iterations.\n",
      "  \"the number of iterations.\", ConvergenceWarning)\n",
      "/home/mila/g/gauthies/.conda/envs/ultra/lib/python3.7/site-packages/sklearn/svm/_base.py:977: ConvergenceWarning: Liblinear failed to converge, increase the number of iterations.\n",
      "  \"the number of iterations.\", ConvergenceWarning)\n",
      "/home/mila/g/gauthies/.conda/envs/ultra/lib/python3.7/site-packages/sklearn/svm/_base.py:977: ConvergenceWarning: Liblinear failed to converge, increase the number of iterations.\n",
      "  \"the number of iterations.\", ConvergenceWarning)\n",
      "/home/mila/g/gauthies/.conda/envs/ultra/lib/python3.7/site-packages/sklearn/svm/_base.py:977: ConvergenceWarning: Liblinear failed to converge, increase the number of iterations.\n",
      "  \"the number of iterations.\", ConvergenceWarning)\n",
      "/home/mila/g/gauthies/.conda/envs/ultra/lib/python3.7/site-packages/sklearn/svm/_base.py:977: ConvergenceWarning: Liblinear failed to converge, increase the number of iterations.\n",
      "  \"the number of iterations.\", ConvergenceWarning)\n",
      "/home/mila/g/gauthies/.conda/envs/ultra/lib/python3.7/site-packages/sklearn/svm/_base.py:977: ConvergenceWarning: Liblinear failed to converge, increase the number of iterations.\n",
      "  \"the number of iterations.\", ConvergenceWarning)\n",
      "/home/mila/g/gauthies/.conda/envs/ultra/lib/python3.7/site-packages/sklearn/svm/_base.py:977: ConvergenceWarning: Liblinear failed to converge, increase the number of iterations.\n",
      "  \"the number of iterations.\", ConvergenceWarning)\n",
      "/home/mila/g/gauthies/.conda/envs/ultra/lib/python3.7/site-packages/sklearn/svm/_base.py:977: ConvergenceWarning: Liblinear failed to converge, increase the number of iterations.\n",
      "  \"the number of iterations.\", ConvergenceWarning)\n",
      "/home/mila/g/gauthies/.conda/envs/ultra/lib/python3.7/site-packages/sklearn/svm/_base.py:977: ConvergenceWarning: Liblinear failed to converge, increase the number of iterations.\n",
      "  \"the number of iterations.\", ConvergenceWarning)\n",
      "/home/mila/g/gauthies/.conda/envs/ultra/lib/python3.7/site-packages/sklearn/svm/_base.py:977: ConvergenceWarning: Liblinear failed to converge, increase the number of iterations.\n",
      "  \"the number of iterations.\", ConvergenceWarning)\n"
     ]
    }
   ],
   "source": [
    "standardize = True\n",
    "\n",
    "df_train_pid = df_train.pop('id')\n",
    "df_train_y = df_train.pop('class')\n",
    "search_metrics = {}\n",
    "\n",
    "for param in params:\n",
    "    # Do cross-validation\n",
    "    with mlflow.start_run():\n",
    "        mlflow.log_param('pca_n',pca_n_components)\n",
    "        mlflow.log_params(scattering_params)\n",
    "        group_kfold = GroupKFold(n_splits=5)\n",
    "        metrics = []\n",
    "        for train_index, valid_index in group_kfold.split(df_train, \n",
    "                                                          df_train_y, \n",
    "                                                          df_train_pid):\n",
    "            X_train, X_valid = df_train.iloc[train_index], df_train.iloc[valid_index]\n",
    "            y_train, y_valid = df_train_y.iloc[train_index], df_train_y.iloc[valid_index]\n",
    "\n",
    "            if standardize:\n",
    "                scaler = StandardScaler()\n",
    "                X_train = scaler.fit_transform(X_train)\n",
    "                X_valid = scaler.transform(X_valid)\n",
    "            \n",
    "            mlflow.log_param('model',f'svm: {param[0]}')\n",
    "            if param[0] == 'kernel': \n",
    "                mlflow.log_param('gamma',param[1])\n",
    "                mlflow.log_param('C',param[2])\n",
    "                model = SVC(gamma=param[1], C=param[2])\n",
    "            if param[0] == 'linear': \n",
    "                model = LinearSVC(C=param[1])\n",
    "                mlflow.log_param('C',param[1])\n",
    "            model.fit(X_train, y_train)\n",
    "            predictions = model.predict(X_valid)\n",
    "            acc = accuracy_score(y_valid, predictions)\n",
    "\n",
    "            metrics.append(acc)\n",
    "        \n",
    "        search_metrics[str(param)] = np.mean(metrics)\n",
    "        \n",
    "        mlflow.log_metric('accuracy',np.mean(metrics))\n",
    "        "
   ]
  },
  {
   "cell_type": "markdown",
   "metadata": {},
   "source": [
    "# Run Mlflow to see results\n",
    "\n",
    "`!mlflow ui`\n",
    "\n",
    "Should launch something like this:\n",
    "\n"
   ]
  },
  {
   "cell_type": "code",
   "execution_count": null,
   "metadata": {},
   "outputs": [],
   "source": [
    "# !mlflow ui"
   ]
  },
  {
   "cell_type": "markdown",
   "metadata": {},
   "source": [
    "# Test Prediction"
   ]
  },
  {
   "cell_type": "code",
   "execution_count": 5,
   "metadata": {},
   "outputs": [],
   "source": [
    "# !mlflow ui \n",
    "# Set a new mlflow experiment\n",
    "# Use the best hyperparameters to train a model on the whole training data\n",
    "# Test and record results!\n",
    "mlflow.set_experiment('test_results_dataset_liver_bmodes_steatosis_assessment_IJCARS')"
   ]
  },
  {
   "cell_type": "markdown",
   "metadata": {},
   "source": [
    "Best combination of hyper parameters\n",
    "<img width=\"782\" alt=\"Screen Shot 2020-09-29 at 8 47 03 PM\" src=\"https://user-images.githubusercontent.com/23482039/94630966-36573680-0295-11eb-9352-18b1796b3fd4.png\">"
   ]
  },
  {
   "cell_type": "code",
   "execution_count": 12,
   "metadata": {},
   "outputs": [
    {
     "name": "stderr",
     "output_type": "stream",
     "text": [
      "/home/mila/g/gauthies/.conda/envs/ultra/lib/python3.7/site-packages/ipykernel/ipkernel.py:287: DeprecationWarning: `should_run_async` will not call `transform_cell` automatically in the future. Please pass the result to `transformed_cell` argument and any exception that happen during thetransform in `preprocessing_exc_tuple` in IPython 7.17 and above.\n",
      "  and should_run_async(code)\n"
     ]
    }
   ],
   "source": [
    "with open('../data/03_features/scattering_features.pickle', 'rb') as handle:\n",
    "    scatter_dict = pickle.load(handle)\n",
    "    df_scattering = scatter_dict['df']\n",
    "    scattering_params = {'J':scatter_dict['J'],\n",
    "                         'M':scatter_dict['M'],\n",
    "                         'N':scatter_dict['N']}"
   ]
  },
  {
   "cell_type": "code",
   "execution_count": null,
   "metadata": {},
   "outputs": [],
   "source": [
    "pca_n_components = 10\n",
    "df_scattering_10 = reduce_pca(data=df_scattering, n_components=pca_n_components)\n",
    "df_train, df_test = train_test_split(df_scattering_10)\n",
    "standardize = True\n",
    "\n",
    "\n",
    "df_train.pop('id')\n",
    "df_test.pop('id')\n",
    "df_train_y = df_train.pop('class')\n",
    "df_test_y = df_test.pop('class')\n"
   ]
  },
  {
   "cell_type": "code",
   "execution_count": null,
   "metadata": {},
   "outputs": [],
   "source": [
    "pca_n_components = 10\n",
    "df_scattering_10 = reduce_pca(data=df_scattering, n_components=pca_n_components)\n",
    "df_train, df_test = train_test_split(df_scattering_10)"
   ]
  },
  {
   "cell_type": "code",
   "execution_count": 8,
   "metadata": {},
   "outputs": [],
   "source": [
    "def get_train_test_patients_id(ids, train_sz: float=.9, seed:int=2020):\n",
    "    # Get the list of patient id's and shuffle that list \n",
    "    patient_ids = ids.unique()\n",
    "    np.random.seed(seed)\n",
    "    np.random.shuffle(patient_ids)\n",
    "    # Create two lists of patient id's for training and testing\n",
    "    train_patient_cnt = int(len(patient_ids) * train_sz)\n",
    "    train_id = patient_ids[0:int(train_patient_cnt)]\n",
    "    test_id = patient_ids[int(train_patient_cnt): int(len(patient_ids))]\n",
    "    return train_id, test_id"
   ]
  },
  {
   "cell_type": "code",
   "execution_count": 15,
   "metadata": {},
   "outputs": [
    {
     "name": "stderr",
     "output_type": "stream",
     "text": [
      "/home/mila/g/gauthies/.conda/envs/ultra/lib/python3.7/site-packages/ipykernel/ipkernel.py:287: DeprecationWarning: `should_run_async` will not call `transform_cell` automatically in the future. Please pass the result to `transformed_cell` argument and any exception that happen during thetransform in `preprocessing_exc_tuple` in IPython 7.17 and above.\n",
      "  and should_run_async(code)\n"
     ]
    },
    {
     "data": {
      "text/html": [
       "<div>\n",
       "<style scoped>\n",
       "    .dataframe tbody tr th:only-of-type {\n",
       "        vertical-align: middle;\n",
       "    }\n",
       "\n",
       "    .dataframe tbody tr th {\n",
       "        vertical-align: top;\n",
       "    }\n",
       "\n",
       "    .dataframe thead th {\n",
       "        text-align: right;\n",
       "    }\n",
       "</style>\n",
       "<table border=\"1\" class=\"dataframe\">\n",
       "  <thead>\n",
       "    <tr style=\"text-align: right;\">\n",
       "      <th></th>\n",
       "      <th>id</th>\n",
       "      <th>class</th>\n",
       "      <th>0</th>\n",
       "      <th>1</th>\n",
       "      <th>2</th>\n",
       "      <th>3</th>\n",
       "      <th>4</th>\n",
       "      <th>5</th>\n",
       "      <th>6</th>\n",
       "      <th>7</th>\n",
       "      <th>...</th>\n",
       "      <th>1390922</th>\n",
       "      <th>1390923</th>\n",
       "      <th>1390924</th>\n",
       "      <th>1390925</th>\n",
       "      <th>1390926</th>\n",
       "      <th>1390927</th>\n",
       "      <th>1390928</th>\n",
       "      <th>1390929</th>\n",
       "      <th>1390930</th>\n",
       "      <th>1390931</th>\n",
       "    </tr>\n",
       "  </thead>\n",
       "  <tbody>\n",
       "    <tr>\n",
       "      <th>221</th>\n",
       "      <td>25</td>\n",
       "      <td>1</td>\n",
       "      <td>0.000010</td>\n",
       "      <td>-0.000004</td>\n",
       "      <td>-8.925645e-06</td>\n",
       "      <td>-0.000005</td>\n",
       "      <td>-2.201625e-06</td>\n",
       "      <td>-6.780629e-06</td>\n",
       "      <td>0.000076</td>\n",
       "      <td>0.054140</td>\n",
       "      <td>...</td>\n",
       "      <td>2.328133</td>\n",
       "      <td>5.571801</td>\n",
       "      <td>1.289984</td>\n",
       "      <td>0.635552</td>\n",
       "      <td>6.082054</td>\n",
       "      <td>5.703537</td>\n",
       "      <td>2.455366</td>\n",
       "      <td>3.204983</td>\n",
       "      <td>1.724655</td>\n",
       "      <td>1.941889</td>\n",
       "    </tr>\n",
       "    <tr>\n",
       "      <th>352</th>\n",
       "      <td>40</td>\n",
       "      <td>1</td>\n",
       "      <td>0.000011</td>\n",
       "      <td>-0.000002</td>\n",
       "      <td>-3.070657e-06</td>\n",
       "      <td>-0.000004</td>\n",
       "      <td>-4.009341e-06</td>\n",
       "      <td>-3.803893e-06</td>\n",
       "      <td>0.000080</td>\n",
       "      <td>0.054145</td>\n",
       "      <td>...</td>\n",
       "      <td>2.631998</td>\n",
       "      <td>2.607885</td>\n",
       "      <td>1.887473</td>\n",
       "      <td>0.699335</td>\n",
       "      <td>6.082669</td>\n",
       "      <td>5.704036</td>\n",
       "      <td>2.455938</td>\n",
       "      <td>3.204574</td>\n",
       "      <td>1.724959</td>\n",
       "      <td>1.941498</td>\n",
       "    </tr>\n",
       "    <tr>\n",
       "      <th>31</th>\n",
       "      <td>5</td>\n",
       "      <td>0</td>\n",
       "      <td>0.000011</td>\n",
       "      <td>0.000001</td>\n",
       "      <td>-1.291469e-06</td>\n",
       "      <td>-0.000002</td>\n",
       "      <td>-4.378272e-06</td>\n",
       "      <td>-2.550456e-06</td>\n",
       "      <td>0.000086</td>\n",
       "      <td>0.054142</td>\n",
       "      <td>...</td>\n",
       "      <td>1.634720</td>\n",
       "      <td>2.301602</td>\n",
       "      <td>1.910247</td>\n",
       "      <td>0.709768</td>\n",
       "      <td>6.082740</td>\n",
       "      <td>5.708612</td>\n",
       "      <td>2.458519</td>\n",
       "      <td>3.201056</td>\n",
       "      <td>1.728634</td>\n",
       "      <td>1.946914</td>\n",
       "    </tr>\n",
       "    <tr>\n",
       "      <th>292</th>\n",
       "      <td>34</td>\n",
       "      <td>1</td>\n",
       "      <td>0.000014</td>\n",
       "      <td>0.000005</td>\n",
       "      <td>4.332238e-06</td>\n",
       "      <td>0.000003</td>\n",
       "      <td>1.048949e-06</td>\n",
       "      <td>-2.928814e-06</td>\n",
       "      <td>0.000082</td>\n",
       "      <td>0.054143</td>\n",
       "      <td>...</td>\n",
       "      <td>2.721247</td>\n",
       "      <td>1.106732</td>\n",
       "      <td>0.413090</td>\n",
       "      <td>0.638495</td>\n",
       "      <td>6.082207</td>\n",
       "      <td>5.703805</td>\n",
       "      <td>2.455143</td>\n",
       "      <td>3.201264</td>\n",
       "      <td>1.726209</td>\n",
       "      <td>1.944834</td>\n",
       "    </tr>\n",
       "    <tr>\n",
       "      <th>208</th>\n",
       "      <td>23</td>\n",
       "      <td>1</td>\n",
       "      <td>0.000019</td>\n",
       "      <td>0.000007</td>\n",
       "      <td>5.984728e-06</td>\n",
       "      <td>0.000004</td>\n",
       "      <td>6.737261e-06</td>\n",
       "      <td>7.060763e-06</td>\n",
       "      <td>0.000088</td>\n",
       "      <td>0.054152</td>\n",
       "      <td>...</td>\n",
       "      <td>2.333182</td>\n",
       "      <td>5.574312</td>\n",
       "      <td>1.291569</td>\n",
       "      <td>0.636656</td>\n",
       "      <td>6.083462</td>\n",
       "      <td>5.707928</td>\n",
       "      <td>2.458575</td>\n",
       "      <td>3.203622</td>\n",
       "      <td>1.724986</td>\n",
       "      <td>1.942188</td>\n",
       "    </tr>\n",
       "    <tr>\n",
       "      <th>...</th>\n",
       "      <td>...</td>\n",
       "      <td>...</td>\n",
       "      <td>...</td>\n",
       "      <td>...</td>\n",
       "      <td>...</td>\n",
       "      <td>...</td>\n",
       "      <td>...</td>\n",
       "      <td>...</td>\n",
       "      <td>...</td>\n",
       "      <td>...</td>\n",
       "      <td>...</td>\n",
       "      <td>...</td>\n",
       "      <td>...</td>\n",
       "      <td>...</td>\n",
       "      <td>...</td>\n",
       "      <td>...</td>\n",
       "      <td>...</td>\n",
       "      <td>...</td>\n",
       "      <td>...</td>\n",
       "      <td>...</td>\n",
       "      <td>...</td>\n",
       "    </tr>\n",
       "    <tr>\n",
       "      <th>389</th>\n",
       "      <td>43</td>\n",
       "      <td>1</td>\n",
       "      <td>0.000019</td>\n",
       "      <td>0.000008</td>\n",
       "      <td>8.876254e-06</td>\n",
       "      <td>0.000004</td>\n",
       "      <td>5.266569e-06</td>\n",
       "      <td>5.355347e-06</td>\n",
       "      <td>0.000088</td>\n",
       "      <td>0.054147</td>\n",
       "      <td>...</td>\n",
       "      <td>6.033401</td>\n",
       "      <td>5.955864</td>\n",
       "      <td>1.293151</td>\n",
       "      <td>0.629484</td>\n",
       "      <td>6.072688</td>\n",
       "      <td>5.707843</td>\n",
       "      <td>2.459794</td>\n",
       "      <td>3.203723</td>\n",
       "      <td>1.724595</td>\n",
       "      <td>1.941337</td>\n",
       "    </tr>\n",
       "    <tr>\n",
       "      <th>203</th>\n",
       "      <td>23</td>\n",
       "      <td>1</td>\n",
       "      <td>0.000018</td>\n",
       "      <td>0.000005</td>\n",
       "      <td>2.537354e-06</td>\n",
       "      <td>-0.000004</td>\n",
       "      <td>-1.223681e-06</td>\n",
       "      <td>2.036426e-06</td>\n",
       "      <td>0.000087</td>\n",
       "      <td>0.054145</td>\n",
       "      <td>...</td>\n",
       "      <td>2.328592</td>\n",
       "      <td>5.571931</td>\n",
       "      <td>1.290058</td>\n",
       "      <td>0.635608</td>\n",
       "      <td>6.082691</td>\n",
       "      <td>5.707336</td>\n",
       "      <td>2.458105</td>\n",
       "      <td>3.203240</td>\n",
       "      <td>1.724670</td>\n",
       "      <td>1.941920</td>\n",
       "    </tr>\n",
       "    <tr>\n",
       "      <th>142</th>\n",
       "      <td>17</td>\n",
       "      <td>0</td>\n",
       "      <td>0.000006</td>\n",
       "      <td>-0.000007</td>\n",
       "      <td>-1.001323e-05</td>\n",
       "      <td>-0.000009</td>\n",
       "      <td>-9.256087e-06</td>\n",
       "      <td>-1.319945e-05</td>\n",
       "      <td>0.000073</td>\n",
       "      <td>0.054137</td>\n",
       "      <td>...</td>\n",
       "      <td>3.192692</td>\n",
       "      <td>1.916151</td>\n",
       "      <td>1.401622</td>\n",
       "      <td>0.682439</td>\n",
       "      <td>6.082611</td>\n",
       "      <td>5.704041</td>\n",
       "      <td>2.455608</td>\n",
       "      <td>3.203341</td>\n",
       "      <td>1.728342</td>\n",
       "      <td>1.946159</td>\n",
       "    </tr>\n",
       "    <tr>\n",
       "      <th>232</th>\n",
       "      <td>26</td>\n",
       "      <td>1</td>\n",
       "      <td>0.000013</td>\n",
       "      <td>-0.000001</td>\n",
       "      <td>-1.901093e-06</td>\n",
       "      <td>-0.000002</td>\n",
       "      <td>7.519861e-07</td>\n",
       "      <td>-1.609779e-06</td>\n",
       "      <td>0.000077</td>\n",
       "      <td>0.054142</td>\n",
       "      <td>...</td>\n",
       "      <td>2.721246</td>\n",
       "      <td>1.106731</td>\n",
       "      <td>0.413087</td>\n",
       "      <td>0.638494</td>\n",
       "      <td>6.082796</td>\n",
       "      <td>5.707552</td>\n",
       "      <td>2.458146</td>\n",
       "      <td>3.200641</td>\n",
       "      <td>1.722166</td>\n",
       "      <td>1.945236</td>\n",
       "    </tr>\n",
       "    <tr>\n",
       "      <th>270</th>\n",
       "      <td>31</td>\n",
       "      <td>1</td>\n",
       "      <td>0.000011</td>\n",
       "      <td>-0.000001</td>\n",
       "      <td>9.785929e-07</td>\n",
       "      <td>-0.000004</td>\n",
       "      <td>-4.909361e-10</td>\n",
       "      <td>6.812689e-07</td>\n",
       "      <td>0.000085</td>\n",
       "      <td>0.054151</td>\n",
       "      <td>...</td>\n",
       "      <td>3.191828</td>\n",
       "      <td>1.915630</td>\n",
       "      <td>1.401277</td>\n",
       "      <td>0.682199</td>\n",
       "      <td>6.083025</td>\n",
       "      <td>5.707657</td>\n",
       "      <td>2.458387</td>\n",
       "      <td>3.203473</td>\n",
       "      <td>1.724863</td>\n",
       "      <td>1.942081</td>\n",
       "    </tr>\n",
       "  </tbody>\n",
       "</table>\n",
       "<p>490 rows × 1390934 columns</p>\n",
       "</div>"
      ],
      "text/plain": [
       "     id  class         0         1             2         3             4  \\\n",
       "221  25      1  0.000010 -0.000004 -8.925645e-06 -0.000005 -2.201625e-06   \n",
       "352  40      1  0.000011 -0.000002 -3.070657e-06 -0.000004 -4.009341e-06   \n",
       "31    5      0  0.000011  0.000001 -1.291469e-06 -0.000002 -4.378272e-06   \n",
       "292  34      1  0.000014  0.000005  4.332238e-06  0.000003  1.048949e-06   \n",
       "208  23      1  0.000019  0.000007  5.984728e-06  0.000004  6.737261e-06   \n",
       "..   ..    ...       ...       ...           ...       ...           ...   \n",
       "389  43      1  0.000019  0.000008  8.876254e-06  0.000004  5.266569e-06   \n",
       "203  23      1  0.000018  0.000005  2.537354e-06 -0.000004 -1.223681e-06   \n",
       "142  17      0  0.000006 -0.000007 -1.001323e-05 -0.000009 -9.256087e-06   \n",
       "232  26      1  0.000013 -0.000001 -1.901093e-06 -0.000002  7.519861e-07   \n",
       "270  31      1  0.000011 -0.000001  9.785929e-07 -0.000004 -4.909361e-10   \n",
       "\n",
       "                5         6         7  ...   1390922   1390923   1390924  \\\n",
       "221 -6.780629e-06  0.000076  0.054140  ...  2.328133  5.571801  1.289984   \n",
       "352 -3.803893e-06  0.000080  0.054145  ...  2.631998  2.607885  1.887473   \n",
       "31  -2.550456e-06  0.000086  0.054142  ...  1.634720  2.301602  1.910247   \n",
       "292 -2.928814e-06  0.000082  0.054143  ...  2.721247  1.106732  0.413090   \n",
       "208  7.060763e-06  0.000088  0.054152  ...  2.333182  5.574312  1.291569   \n",
       "..            ...       ...       ...  ...       ...       ...       ...   \n",
       "389  5.355347e-06  0.000088  0.054147  ...  6.033401  5.955864  1.293151   \n",
       "203  2.036426e-06  0.000087  0.054145  ...  2.328592  5.571931  1.290058   \n",
       "142 -1.319945e-05  0.000073  0.054137  ...  3.192692  1.916151  1.401622   \n",
       "232 -1.609779e-06  0.000077  0.054142  ...  2.721246  1.106731  0.413087   \n",
       "270  6.812689e-07  0.000085  0.054151  ...  3.191828  1.915630  1.401277   \n",
       "\n",
       "      1390925   1390926   1390927   1390928   1390929   1390930   1390931  \n",
       "221  0.635552  6.082054  5.703537  2.455366  3.204983  1.724655  1.941889  \n",
       "352  0.699335  6.082669  5.704036  2.455938  3.204574  1.724959  1.941498  \n",
       "31   0.709768  6.082740  5.708612  2.458519  3.201056  1.728634  1.946914  \n",
       "292  0.638495  6.082207  5.703805  2.455143  3.201264  1.726209  1.944834  \n",
       "208  0.636656  6.083462  5.707928  2.458575  3.203622  1.724986  1.942188  \n",
       "..        ...       ...       ...       ...       ...       ...       ...  \n",
       "389  0.629484  6.072688  5.707843  2.459794  3.203723  1.724595  1.941337  \n",
       "203  0.635608  6.082691  5.707336  2.458105  3.203240  1.724670  1.941920  \n",
       "142  0.682439  6.082611  5.704041  2.455608  3.203341  1.728342  1.946159  \n",
       "232  0.638494  6.082796  5.707552  2.458146  3.200641  1.722166  1.945236  \n",
       "270  0.682199  6.083025  5.707657  2.458387  3.203473  1.724863  1.942081  \n",
       "\n",
       "[490 rows x 1390934 columns]"
      ]
     },
     "execution_count": 15,
     "metadata": {},
     "output_type": "execute_result"
    }
   ],
   "source": [
    "data= df_scattering\n",
    "train_sz = 0.9\n",
    "seed =1221\n",
    "\n",
    "train_id, test_id = get_train_test_patients_id(data['id'])\n",
    "# Separate the features from id and class columns\n",
    "train_data = data[data['id'].isin(train_id)].reset_index(drop=True)\n",
    "test_data = data[data['id'].isin(test_id)].reset_index(drop=True)\n",
    "#TO DO: IS IT SHUFFLE?\n",
    "train_data.sample(frac=1)"
   ]
  },
  {
   "cell_type": "code",
   "execution_count": null,
   "metadata": {},
   "outputs": [],
   "source": [
    "with mlflow.start_run():\n",
    "    model =  SVC(gamma= 1e-4, C=1000)\n",
    "    model.fit(df_train, df_train_y)\n",
    "    predictions = model.predict(df_test)\n",
    "    acc = accuracy_score(df_test_y, predictions)\n",
    "    mlflow.log_param('Model', 'Scattering features + PCA + SVM')\n",
    "    mlflow.log_metric('accuracy', acc)\n"
   ]
  },
  {
   "cell_type": "code",
   "execution_count": null,
   "metadata": {},
   "outputs": [],
   "source": [
    "print('The test accuracy of the model is ', acc)"
   ]
  },
  {
   "cell_type": "code",
   "execution_count": 9,
   "metadata": {},
   "outputs": [],
   "source": [
    "#id_c = df_scattering.pop('id')\n",
    "#class_c = df_scattering.pop('class')\n",
    "\n",
    "pca = PCA(n_components=10)\n",
    "data = pca.fit_transform(df_scattering)"
   ]
  },
  {
   "cell_type": "code",
   "execution_count": 13,
   "metadata": {},
   "outputs": [
    {
     "data": {
      "text/plain": [
       "0.6470887"
      ]
     },
     "execution_count": 13,
     "metadata": {},
     "output_type": "execute_result"
    }
   ],
   "source": [
    "(pca.explained_variance_ratio_).sum()"
   ]
  },
  {
   "cell_type": "code",
   "execution_count": null,
   "metadata": {},
   "outputs": [],
   "source": []
  }
 ],
 "metadata": {
  "accelerator": "GPU",
  "colab": {
   "collapsed_sections": [],
   "name": "Transfer learning with deep convolutional neural network for liver steatosis assessment in ultrasound images Reproducibility with Scatterin.ipynb",
   "provenance": [],
   "toc_visible": true
  },
  "kernelspec": {
   "display_name": "Python 3 (ultra)",
   "language": "python",
   "name": "ultra"
  },
  "language_info": {
   "codemirror_mode": {
    "name": "ipython",
    "version": 3
   },
   "file_extension": ".py",
   "mimetype": "text/x-python",
   "name": "python",
   "nbconvert_exporter": "python",
   "pygments_lexer": "ipython3",
   "version": "3.7.0"
  }
 },
 "nbformat": 4,
 "nbformat_minor": 4
}
