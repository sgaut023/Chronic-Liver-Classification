{
 "cells": [
  {
   "cell_type": "markdown",
   "metadata": {
    "colab_type": "text",
    "id": "ENoS3mTtGQts"
   },
   "source": [
    "# Experiment 02: Scattering + PCA + SVM\n",
    "\n",
    "\n",
    "\n",
    "\n"
   ]
  },
  {
   "cell_type": "code",
   "execution_count": 1,
   "metadata": {
    "colab": {},
    "colab_type": "code",
    "id": "ptO9fUvkD-Lc"
   },
   "outputs": [],
   "source": [
    "import sys\n",
    "sys.path.append('../src')\n",
    "#import warnings\n",
    "#warnings.filterwarnings(\"ignore\") \n",
    "\n",
    "from utils.reduce import reduce_pca\n",
    "from utils.split import train_test_split\n",
    "from pprint import pprint\n",
    "from sklearn.preprocessing import StandardScaler\n",
    "from sklearn.decomposition import PCA\n",
    "from sklearn.svm import LinearSVC\n",
    "from sklearn.svm import SVC\n",
    "from sklearn.model_selection import GroupKFold\n",
    "from sklearn.metrics import accuracy_score\n",
    "from sklearn.metrics import roc_auc_score\n",
    "from sklearn.metrics import confusion_matrix\n",
    "from tqdm import tqdm\n",
    "\n",
    "from itertools import product\n",
    "import pickle\n",
    "import pandas as pd\n",
    "import numpy as np\n",
    "import mlflow\n",
    "import matplotlib.pyplot as plt\n"
   ]
  },
  {
   "cell_type": "code",
   "execution_count": 2,
   "metadata": {},
   "outputs": [
    {
     "name": "stdout",
     "output_type": "stream",
     "text": [
      "INFO: 'scattering_svm_pca_experimentv2' does not exist. Creating a new experiment\n"
     ]
    },
    {
     "name": "stderr",
     "output_type": "stream",
     "text": [
      "/home/mila/g/gauthies/.conda/envs/ultra/lib/python3.7/site-packages/ipykernel/ipkernel.py:287: DeprecationWarning: `should_run_async` will not call `transform_cell` automatically in the future. Please pass the result to `transformed_cell` argument and any exception that happen during thetransform in `preprocessing_exc_tuple` in IPython 7.17 and above.\n",
      "  and should_run_async(code)\n"
     ]
    }
   ],
   "source": [
    "mlflow.set_experiment('scattering_svm_pca_experimentv2')"
   ]
  },
  {
   "cell_type": "markdown",
   "metadata": {
    "colab_type": "text",
    "id": "XJR7pdinnuHH"
   },
   "source": [
    "## Feature Reduction/Selection"
   ]
  },
  {
   "cell_type": "markdown",
   "metadata": {
    "colab_type": "text",
    "id": "731ett2LeCqH"
   },
   "source": [
    "#### Upload Scattering Features"
   ]
  },
  {
   "cell_type": "code",
   "execution_count": 3,
   "metadata": {
    "colab": {},
    "colab_type": "code",
    "id": "oVel2LKmwSb9"
   },
   "outputs": [],
   "source": [
    "with open('../data/03_features/scattering_features.pickle', 'rb') as handle:\n",
    "    scatter_dict = pickle.load(handle)\n",
    "    df_scattering = scatter_dict['df']\n",
    "    scattering_params = {'J':scatter_dict['J'],\n",
    "                         'M':scatter_dict['M'],\n",
    "                         'N':scatter_dict['N']}"
   ]
  },
  {
   "cell_type": "markdown",
   "metadata": {
    "colab_type": "text",
    "id": "oSnXvC1cehWL"
   },
   "source": [
    "#### Apply PCA\n",
    "\n",
    "Since sklearn is used for PCA, the dataset will be transformed into a panda dataframe."
   ]
  },
  {
   "cell_type": "markdown",
   "metadata": {},
   "source": [
    "# Cross Validation using SVM Classification\n",
    "\n",
    "> Methods that exclude outliers were used to normalize the features. Patient-specific leave-one-out cross-validation (LOOCV) was applied to evaluate the classification. In each case, the test set consisted of10 images from the same patient and the training set contained 540 images from the remaining 54 patients. For each training set, fivefold cross-validation and grid search were applied to indicate the optimal SVM classifier hyperparameters and the best kernel. To address the problem of class imbalance, the SVM hyperparameter C of each class was adjusted inversely proportional to that class frequency in the training set. Label 1 indicated the image containing a fatty liver and label −1 otherwise. \n"
   ]
  },
  {
   "cell_type": "code",
   "execution_count": 4,
   "metadata": {},
   "outputs": [],
   "source": [
    "df_train, df_test = train_test_split(df_scattering)"
   ]
  },
  {
   "cell_type": "code",
   "execution_count": 5,
   "metadata": {},
   "outputs": [],
   "source": [
    "# Set the parameters by cross-validation\n",
    "param_gamma = [1e-3, 1e-4]\n",
    "param_C = [1, 10, 100, 1000] \n",
    "pca_n_components = [5,10,15]\n",
    "svm_class_weight = [None, 'balanced']\n",
    "rbf_params = list(product(['kernel'],param_gamma, param_C,svm_class_weight ))\n",
    "linear_params = list(product(['linear'],param_C, svm_class_weight))\n",
    "params = rbf_params + linear_params"
   ]
  },
  {
   "cell_type": "code",
   "execution_count": 6,
   "metadata": {},
   "outputs": [],
   "source": [
    "standardize = True\n",
    "pca_n_components = 5\n",
    "df_train_pid = df_train.pop('id')\n",
    "df_train_y = df_train.pop('class')"
   ]
  },
  {
   "cell_type": "code",
   "execution_count": 7,
   "metadata": {},
   "outputs": [
    {
     "name": "stderr",
     "output_type": "stream",
     "text": [
      " 50%|█████     | 12/24 [00:00<00:00, 118.24it/s]/home/mila/g/gauthies/.conda/envs/ultra/lib/python3.7/site-packages/sklearn/svm/_base.py:977: ConvergenceWarning: Liblinear failed to converge, increase the number of iterations.\n",
      "  \"the number of iterations.\", ConvergenceWarning)\n",
      "/home/mila/g/gauthies/.conda/envs/ultra/lib/python3.7/site-packages/sklearn/svm/_base.py:977: ConvergenceWarning: Liblinear failed to converge, increase the number of iterations.\n",
      "  \"the number of iterations.\", ConvergenceWarning)\n",
      "/home/mila/g/gauthies/.conda/envs/ultra/lib/python3.7/site-packages/sklearn/svm/_base.py:977: ConvergenceWarning: Liblinear failed to converge, increase the number of iterations.\n",
      "  \"the number of iterations.\", ConvergenceWarning)\n",
      "/home/mila/g/gauthies/.conda/envs/ultra/lib/python3.7/site-packages/sklearn/svm/_base.py:977: ConvergenceWarning: Liblinear failed to converge, increase the number of iterations.\n",
      "  \"the number of iterations.\", ConvergenceWarning)\n",
      " 92%|█████████▏| 22/24 [00:00<00:00, 108.43it/s]/home/mila/g/gauthies/.conda/envs/ultra/lib/python3.7/site-packages/sklearn/svm/_base.py:977: ConvergenceWarning: Liblinear failed to converge, increase the number of iterations.\n",
      "  \"the number of iterations.\", ConvergenceWarning)\n",
      "/home/mila/g/gauthies/.conda/envs/ultra/lib/python3.7/site-packages/sklearn/svm/_base.py:977: ConvergenceWarning: Liblinear failed to converge, increase the number of iterations.\n",
      "  \"the number of iterations.\", ConvergenceWarning)\n",
      "100%|██████████| 24/24 [00:00<00:00, 100.40it/s]\n",
      " 58%|█████▊    | 14/24 [00:00<00:00, 136.68it/s]/home/mila/g/gauthies/.conda/envs/ultra/lib/python3.7/site-packages/sklearn/svm/_base.py:977: ConvergenceWarning: Liblinear failed to converge, increase the number of iterations.\n",
      "  \"the number of iterations.\", ConvergenceWarning)\n",
      "/home/mila/g/gauthies/.conda/envs/ultra/lib/python3.7/site-packages/sklearn/svm/_base.py:977: ConvergenceWarning: Liblinear failed to converge, increase the number of iterations.\n",
      "  \"the number of iterations.\", ConvergenceWarning)\n",
      "/home/mila/g/gauthies/.conda/envs/ultra/lib/python3.7/site-packages/sklearn/svm/_base.py:977: ConvergenceWarning: Liblinear failed to converge, increase the number of iterations.\n",
      "  \"the number of iterations.\", ConvergenceWarning)\n",
      "/home/mila/g/gauthies/.conda/envs/ultra/lib/python3.7/site-packages/sklearn/svm/_base.py:977: ConvergenceWarning: Liblinear failed to converge, increase the number of iterations.\n",
      "  \"the number of iterations.\", ConvergenceWarning)\n",
      "/home/mila/g/gauthies/.conda/envs/ultra/lib/python3.7/site-packages/sklearn/svm/_base.py:977: ConvergenceWarning: Liblinear failed to converge, increase the number of iterations.\n",
      "  \"the number of iterations.\", ConvergenceWarning)\n",
      "/home/mila/g/gauthies/.conda/envs/ultra/lib/python3.7/site-packages/sklearn/svm/_base.py:977: ConvergenceWarning: Liblinear failed to converge, increase the number of iterations.\n",
      "  \"the number of iterations.\", ConvergenceWarning)\n",
      "100%|██████████| 24/24 [00:00<00:00, 118.81it/s]\n",
      " 62%|██████▎   | 15/24 [00:00<00:00, 145.98it/s]/home/mila/g/gauthies/.conda/envs/ultra/lib/python3.7/site-packages/sklearn/svm/_base.py:977: ConvergenceWarning: Liblinear failed to converge, increase the number of iterations.\n",
      "  \"the number of iterations.\", ConvergenceWarning)\n",
      "/home/mila/g/gauthies/.conda/envs/ultra/lib/python3.7/site-packages/sklearn/svm/_base.py:977: ConvergenceWarning: Liblinear failed to converge, increase the number of iterations.\n",
      "  \"the number of iterations.\", ConvergenceWarning)\n",
      "/home/mila/g/gauthies/.conda/envs/ultra/lib/python3.7/site-packages/sklearn/svm/_base.py:977: ConvergenceWarning: Liblinear failed to converge, increase the number of iterations.\n",
      "  \"the number of iterations.\", ConvergenceWarning)\n",
      "/home/mila/g/gauthies/.conda/envs/ultra/lib/python3.7/site-packages/sklearn/svm/_base.py:977: ConvergenceWarning: Liblinear failed to converge, increase the number of iterations.\n",
      "  \"the number of iterations.\", ConvergenceWarning)\n",
      "/home/mila/g/gauthies/.conda/envs/ultra/lib/python3.7/site-packages/sklearn/svm/_base.py:977: ConvergenceWarning: Liblinear failed to converge, increase the number of iterations.\n",
      "  \"the number of iterations.\", ConvergenceWarning)\n",
      "/home/mila/g/gauthies/.conda/envs/ultra/lib/python3.7/site-packages/sklearn/svm/_base.py:977: ConvergenceWarning: Liblinear failed to converge, increase the number of iterations.\n",
      "  \"the number of iterations.\", ConvergenceWarning)\n",
      "100%|██████████| 24/24 [00:00<00:00, 129.77it/s]\n",
      " 75%|███████▌  | 18/24 [00:00<00:00, 175.41it/s]/home/mila/g/gauthies/.conda/envs/ultra/lib/python3.7/site-packages/sklearn/svm/_base.py:977: ConvergenceWarning: Liblinear failed to converge, increase the number of iterations.\n",
      "  \"the number of iterations.\", ConvergenceWarning)\n",
      "/home/mila/g/gauthies/.conda/envs/ultra/lib/python3.7/site-packages/sklearn/svm/_base.py:977: ConvergenceWarning: Liblinear failed to converge, increase the number of iterations.\n",
      "  \"the number of iterations.\", ConvergenceWarning)\n",
      "/home/mila/g/gauthies/.conda/envs/ultra/lib/python3.7/site-packages/sklearn/svm/_base.py:977: ConvergenceWarning: Liblinear failed to converge, increase the number of iterations.\n",
      "  \"the number of iterations.\", ConvergenceWarning)\n",
      "/home/mila/g/gauthies/.conda/envs/ultra/lib/python3.7/site-packages/sklearn/svm/_base.py:977: ConvergenceWarning: Liblinear failed to converge, increase the number of iterations.\n",
      "  \"the number of iterations.\", ConvergenceWarning)\n",
      "/home/mila/g/gauthies/.conda/envs/ultra/lib/python3.7/site-packages/sklearn/svm/_base.py:977: ConvergenceWarning: Liblinear failed to converge, increase the number of iterations.\n",
      "  \"the number of iterations.\", ConvergenceWarning)\n",
      "/home/mila/g/gauthies/.conda/envs/ultra/lib/python3.7/site-packages/sklearn/svm/_base.py:977: ConvergenceWarning: Liblinear failed to converge, increase the number of iterations.\n",
      "  \"the number of iterations.\", ConvergenceWarning)\n",
      "100%|██████████| 24/24 [00:00<00:00, 151.92it/s]\n",
      " 54%|█████▍    | 13/24 [00:00<00:00, 125.74it/s]/home/mila/g/gauthies/.conda/envs/ultra/lib/python3.7/site-packages/sklearn/svm/_base.py:977: ConvergenceWarning: Liblinear failed to converge, increase the number of iterations.\n",
      "  \"the number of iterations.\", ConvergenceWarning)\n",
      "/home/mila/g/gauthies/.conda/envs/ultra/lib/python3.7/site-packages/sklearn/svm/_base.py:977: ConvergenceWarning: Liblinear failed to converge, increase the number of iterations.\n",
      "  \"the number of iterations.\", ConvergenceWarning)\n",
      "/home/mila/g/gauthies/.conda/envs/ultra/lib/python3.7/site-packages/sklearn/svm/_base.py:977: ConvergenceWarning: Liblinear failed to converge, increase the number of iterations.\n",
      "  \"the number of iterations.\", ConvergenceWarning)\n",
      "/home/mila/g/gauthies/.conda/envs/ultra/lib/python3.7/site-packages/sklearn/svm/_base.py:977: ConvergenceWarning: Liblinear failed to converge, increase the number of iterations.\n",
      "  \"the number of iterations.\", ConvergenceWarning)\n",
      " 92%|█████████▏| 22/24 [00:00<00:00, 111.05it/s]/home/mila/g/gauthies/.conda/envs/ultra/lib/python3.7/site-packages/sklearn/svm/_base.py:977: ConvergenceWarning: Liblinear failed to converge, increase the number of iterations.\n",
      "  \"the number of iterations.\", ConvergenceWarning)\n",
      "/home/mila/g/gauthies/.conda/envs/ultra/lib/python3.7/site-packages/sklearn/svm/_base.py:977: ConvergenceWarning: Liblinear failed to converge, increase the number of iterations.\n",
      "  \"the number of iterations.\", ConvergenceWarning)\n",
      "100%|██████████| 24/24 [00:00<00:00, 99.53it/s] \n"
     ]
    }
   ],
   "source": [
    "# 5 folds\n",
    "n_splits=5\n",
    "metrics={}\n",
    "\n",
    "df_train, df_test = train_test_split(df_scattering)\n",
    "standardize = True\n",
    "pca_n_components = 5\n",
    "df_train_pid = df_train.pop('id')\n",
    "df_train_y = df_train.pop('class')\n",
    "# Do cross-validation\n",
    "group_kfold = GroupKFold(n_splits=n_splits)\n",
    "\n",
    "for train_index, valid_index in group_kfold.split(df_train, \n",
    "                                                  df_train_y, \n",
    "                                                  df_train_pid):\n",
    "\n",
    "    X_train, X_valid = df_train.iloc[train_index], df_train.iloc[valid_index]\n",
    "    y_train, y_valid = df_train_y.iloc[train_index], df_train_y.iloc[valid_index]\n",
    "\n",
    "\n",
    "    #apply PCA to each fold\n",
    "    pca = PCA(n_components=pca_n_components)           \n",
    "    X_train = pca.fit_transform(X_train)\n",
    "    X_valid = pca.transform(X_valid)\n",
    "\n",
    "    #standardize\n",
    "    if standardize:\n",
    "        scaler = StandardScaler()\n",
    "        X_train = scaler.fit_transform(X_train)\n",
    "        X_valid = scaler.transform(X_valid)\n",
    "\n",
    "    for param in tqdm(params):\n",
    "        if str(param) not in metrics.keys() :\n",
    "            metrics[str(param)] ={'acc':[], 'auc':[], 'sensitivity':[], 'specificity':[]}\n",
    "\n",
    "        if param[0] == 'kernel': \n",
    "            #The “balanced” mode uses the values of y to automatically adjust weights inversely\n",
    "            #proportional to class frequencies in the input data as n_samples / (n_classes * np.bincount(y)).\n",
    "            model = SVC(gamma=param[1], C=param[2], class_weight= param[3])\n",
    "        if param[0] == 'linear': \n",
    "            #The “balanced” mode uses the values of y to automatically adjust weights inversely\n",
    "            #proportional to class frequencies in the input data as n_samples / (n_classes * np.bincount(y)).\n",
    "            model = LinearSVC(C=param[1], class_weight= param[2])\n",
    "            #mlflow.log_param('C',param[1])\n",
    "\n",
    "        model.fit(X_train, y_train)\n",
    "        predictions = model.predict(X_valid)\n",
    "\n",
    "        acc = accuracy_score(y_valid, predictions)\n",
    "        auc = roc_auc_score(y_valid, predictions)\n",
    "        tn, fp, fn, tp = confusion_matrix(y_valid, predictions).ravel()\n",
    "        specificity = tn / (tn+fp)\n",
    "        sensitivity = tp / (tp+fn)\n",
    "\n",
    "        metrics[str(param)]['auc'].append(auc)\n",
    "        metrics[str(param)]['acc'].append(acc)\n",
    "        metrics[str(param)]['sensitivity'].append(sensitivity)\n",
    "        metrics[str(param)]['specificity'].append(specificity)\n",
    "\n",
    "\n",
    "\n",
    "    # log mlflow params\n",
    "    for param in params:\n",
    "        with mlflow.start_run():\n",
    "            #log params\n",
    "            mlflow.log_param('pca_n',pca_n_components)\n",
    "            mlflow.log_params(scattering_params)\n",
    "            mlflow.log_param('model',f'svm: {param[0]}')\n",
    "            if param[0] == 'kernel':\n",
    "                mlflow.log_param('gamma',param[1])\n",
    "                mlflow.log_param('C',param[2])\n",
    "                mlflow.log_param('class weight svm', param[3])\n",
    "            if param[0] == 'linear': \n",
    "                mlflow.log_param('C',param[1])\n",
    "                mlflow.log_param('class weight svm', param[2])\n",
    "            #log metrics\n",
    "            mlflow.log_metric('accuracy',np.array(metrics[str(param)]['acc']).mean())\n",
    "            mlflow.log_metric('AUC',np.array(metrics[str(param)]['auc']).mean())\n",
    "            mlflow.log_metric('specificity',np.array(metrics[str(param)]['specificity']).mean())\n",
    "            mlflow.log_metric('sensitivity',np.array(metrics[str(param)]['sensitivity']).mean())\n",
    "\n",
    "\n"
   ]
  },
  {
   "cell_type": "markdown",
   "metadata": {},
   "source": [
    "# Analyzing PCA\n",
    "\n",
    "\n"
   ]
  },
  {
   "cell_type": "code",
   "execution_count": null,
   "metadata": {},
   "outputs": [],
   "source": [
    "pca = PCA(n_components=p50)           \n",
    "data = pca.fit_transform(df_train)"
   ]
  },
  {
   "cell_type": "code",
   "execution_count": null,
   "metadata": {},
   "outputs": [],
   "source": [
    "plt.plot(np.insert(pca.explained_variance_ratio_.cumsum(),0,0),marker='o')\n",
    "plt.xlabel('Number of components')\n",
    "plt.ylabel('Cumulative explained variance')\n",
    "plt.show()"
   ]
  },
  {
   "cell_type": "code",
   "execution_count": null,
   "metadata": {},
   "outputs": [],
   "source": [
    "print(pca.explained_variance_ratio_.cumsum())"
   ]
  },
  {
   "cell_type": "markdown",
   "metadata": {},
   "source": [
    "# Test Prediction"
   ]
  },
  {
   "cell_type": "code",
   "execution_count": 2,
   "metadata": {},
   "outputs": [
    {
     "name": "stderr",
     "output_type": "stream",
     "text": [
      "/home/mila/g/gauthies/.conda/envs/ultra/lib/python3.7/site-packages/ipykernel/ipkernel.py:287: DeprecationWarning: `should_run_async` will not call `transform_cell` automatically in the future. Please pass the result to `transformed_cell` argument and any exception that happen during thetransform in `preprocessing_exc_tuple` in IPython 7.17 and above.\n",
      "  and should_run_async(code)\n"
     ]
    }
   ],
   "source": [
    "# !mlflow ui \n",
    "# Set a new mlflow experiment\n",
    "# Use the best hyperparameters to train a model on the whole training data\n",
    "# Test and record results!\n",
    "mlflow.set_experiment('test_results_dataset_liver_bmodes_steatosis_assessment_IJCARS')"
   ]
  },
  {
   "cell_type": "markdown",
   "metadata": {},
   "source": [
    "Best combination of hyper parameters\n",
    "<img width=\"788\" alt=\"Screen Shot 2020-09-29 at 10 46 57 PM\" src=\"https://user-images.githubusercontent.com/23482039/94637580-f0569e80-02a5-11eb-9c4a-0d06abe20d85.png\">"
   ]
  },
  {
   "cell_type": "code",
   "execution_count": 15,
   "metadata": {},
   "outputs": [],
   "source": [
    "with open('../data/03_features/scattering_features.pickle', 'rb') as handle:\n",
    "    scatter_dict = pickle.load(handle)\n",
    "    df_scattering = scatter_dict['df']\n",
    "    scattering_params = {'J':scatter_dict['J'],\n",
    "                         'M':scatter_dict['M'],\n",
    "                         'N':scatter_dict['N']}"
   ]
  },
  {
   "cell_type": "code",
   "execution_count": 16,
   "metadata": {},
   "outputs": [
    {
     "data": {
      "text/plain": [
       "array([ 4,  9, 28, 33, 52, 53], dtype=uint8)"
      ]
     },
     "execution_count": 16,
     "metadata": {},
     "output_type": "execute_result"
    }
   ],
   "source": [
    "df_train, df_test = train_test_split(df_scattering)\n",
    "# note the id of the patients in the test set\n",
    "df_test['id'].unique()"
   ]
  },
  {
   "cell_type": "code",
   "execution_count": 17,
   "metadata": {},
   "outputs": [],
   "source": [
    "pca_n_components = 5\n",
    "\n",
    "df_train.pop('id')\n",
    "df_test.pop('id')\n",
    "df_train_y = df_train.pop('class')\n",
    "df_test_y = df_test.pop('class')\n",
    "\n",
    "pca = PCA(n_components=pca_n_components)           \n",
    "df_train = pca.fit_transform(df_train)\n",
    "df_test = pca.transform(df_test)\n"
   ]
  },
  {
   "cell_type": "code",
   "execution_count": 18,
   "metadata": {},
   "outputs": [
    {
     "name": "stderr",
     "output_type": "stream",
     "text": [
      "/home/mila/g/gauthies/.conda/envs/ultra/lib/python3.7/site-packages/ipykernel/ipkernel.py:287: DeprecationWarning: `should_run_async` will not call `transform_cell` automatically in the future. Please pass the result to `transformed_cell` argument and any exception that happen during thetransform in `preprocessing_exc_tuple` in IPython 7.17 and above.\n",
      "  and should_run_async(code)\n"
     ]
    }
   ],
   "source": [
    "scaler = StandardScaler()\n",
    "df_train = scaler.fit_transform(df_train)\n",
    "df_test = scaler.transform(df_test)"
   ]
  },
  {
   "cell_type": "code",
   "execution_count": 23,
   "metadata": {},
   "outputs": [],
   "source": [
    "with mlflow.start_run():\n",
    "    model = SVC(C=1000, gamma= 0.0001) #class_weight= 'balanced')\n",
    "    model.fit(df_train, df_train_y)\n",
    "    predictions = model.predict(df_test)\n",
    "    acc = accuracy_score(df_test_y, predictions)\n",
    "    mlflow.log_param('Model', 'Scattering features + PCA + SVM')\n",
    "    mlflow.log_metric('accuracy', acc)\n"
   ]
  },
  {
   "cell_type": "code",
   "execution_count": 24,
   "metadata": {},
   "outputs": [
    {
     "name": "stderr",
     "output_type": "stream",
     "text": [
      "/home/mila/g/gauthies/.conda/envs/ultra/lib/python3.7/site-packages/ipykernel/ipkernel.py:287: DeprecationWarning: `should_run_async` will not call `transform_cell` automatically in the future. Please pass the result to `transformed_cell` argument and any exception that happen during thetransform in `preprocessing_exc_tuple` in IPython 7.17 and above.\n",
      "  and should_run_async(code)\n"
     ]
    },
    {
     "data": {
      "text/plain": [
       "array([0, 0, 0, 0, 0, 0, 0, 0, 0, 0, 0, 0, 0, 0, 0, 0, 0, 0, 0, 0, 1, 1,\n",
       "       1, 1, 1, 1, 1, 1, 1, 1, 1, 1, 1, 1, 1, 1, 1, 1, 1, 1, 1, 1, 1, 1,\n",
       "       1, 1, 1, 1, 1, 1, 1, 1, 1, 1, 1, 1, 1, 1, 1, 1], dtype=uint8)"
      ]
     },
     "execution_count": 24,
     "metadata": {},
     "output_type": "execute_result"
    }
   ],
   "source": [
    "predictions"
   ]
  },
  {
   "cell_type": "code",
   "execution_count": 14,
   "metadata": {},
   "outputs": [
    {
     "data": {
      "text/plain": [
       "0     0\n",
       "1     0\n",
       "2     0\n",
       "3     0\n",
       "4     0\n",
       "5     0\n",
       "6     0\n",
       "7     0\n",
       "8     0\n",
       "9     0\n",
       "10    0\n",
       "11    0\n",
       "12    0\n",
       "13    0\n",
       "14    0\n",
       "15    0\n",
       "16    0\n",
       "17    0\n",
       "18    0\n",
       "19    0\n",
       "20    1\n",
       "21    1\n",
       "22    1\n",
       "23    1\n",
       "24    1\n",
       "25    1\n",
       "26    1\n",
       "27    1\n",
       "28    1\n",
       "29    1\n",
       "30    1\n",
       "31    1\n",
       "32    1\n",
       "33    1\n",
       "34    1\n",
       "35    1\n",
       "36    1\n",
       "37    1\n",
       "38    1\n",
       "39    1\n",
       "40    1\n",
       "41    1\n",
       "42    1\n",
       "43    1\n",
       "44    1\n",
       "45    1\n",
       "46    1\n",
       "47    1\n",
       "48    1\n",
       "49    1\n",
       "50    1\n",
       "51    1\n",
       "52    1\n",
       "53    1\n",
       "54    1\n",
       "55    1\n",
       "56    1\n",
       "57    1\n",
       "58    1\n",
       "59    1\n",
       "Name: class, dtype: uint8"
      ]
     },
     "execution_count": 14,
     "metadata": {},
     "output_type": "execute_result"
    }
   ],
   "source": [
    "df_test_y"
   ]
  },
  {
   "cell_type": "code",
   "execution_count": 8,
   "metadata": {},
   "outputs": [
    {
     "name": "stdout",
     "output_type": "stream",
     "text": [
      "The test accuracy of the model is  0.8333333333333334\n"
     ]
    },
    {
     "name": "stderr",
     "output_type": "stream",
     "text": [
      "/home/mila/g/gauthies/.conda/envs/ultra/lib/python3.7/site-packages/ipykernel/ipkernel.py:287: DeprecationWarning: `should_run_async` will not call `transform_cell` automatically in the future. Please pass the result to `transformed_cell` argument and any exception that happen during thetransform in `preprocessing_exc_tuple` in IPython 7.17 and above.\n",
      "  and should_run_async(code)\n"
     ]
    }
   ],
   "source": [
    "print('The test accuracy of the model is ', acc)"
   ]
  },
  {
   "cell_type": "code",
   "execution_count": null,
   "metadata": {},
   "outputs": [],
   "source": []
  }
 ],
 "metadata": {
  "accelerator": "GPU",
  "colab": {
   "collapsed_sections": [],
   "name": "Transfer learning with deep convolutional neural network for liver steatosis assessment in ultrasound images Reproducibility with Scatterin.ipynb",
   "provenance": [],
   "toc_visible": true
  },
  "kernelspec": {
   "display_name": "Python 3 (ultra)",
   "language": "python",
   "name": "ultra"
  },
  "language_info": {
   "codemirror_mode": {
    "name": "ipython",
    "version": 3
   },
   "file_extension": ".py",
   "mimetype": "text/x-python",
   "name": "python",
   "nbconvert_exporter": "python",
   "pygments_lexer": "ipython3",
   "version": "3.7.0"
  }
 },
 "nbformat": 4,
 "nbformat_minor": 4
}
