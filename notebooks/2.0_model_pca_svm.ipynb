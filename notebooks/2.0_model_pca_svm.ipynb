{
 "cells": [
  {
   "cell_type": "markdown",
   "metadata": {
    "colab_type": "text",
    "id": "ENoS3mTtGQts"
   },
   "source": [
    "# Experiment 02: Scattering + PCA + SVM\n",
    "\n",
    "\n",
    "\n",
    "\n"
   ]
  },
  {
   "cell_type": "code",
   "execution_count": 1,
   "metadata": {
    "colab": {},
    "colab_type": "code",
    "id": "ptO9fUvkD-Lc"
   },
   "outputs": [],
   "source": [
    "import sys\n",
    "import random\n",
    "sys.path.append('../src')\n",
    "import warnings\n",
    "warnings.filterwarnings(\"ignore\") \n",
    "\n",
    "from utils.compute_metrics import get_metrics, get_majority_vote,log_test_metrics\n",
    "from sklearn.preprocessing import StandardScaler\n",
    "from sklearn.decomposition import PCA\n",
    "from sklearn.svm import LinearSVC\n",
    "from sklearn.svm import SVC\n",
    "from sklearn.model_selection import GroupKFold\n",
    "from tqdm import tqdm\n",
    "from pprint import pprint\n",
    "\n",
    "from itertools import product\n",
    "import pickle\n",
    "import pandas as pd\n",
    "import numpy as np\n",
    "import mlflow\n",
    "import matplotlib.pyplot as plt\n"
   ]
  },
  {
   "cell_type": "markdown",
   "metadata": {
    "colab_type": "text",
    "id": "XJR7pdinnuHH"
   },
   "source": [
    "## Feature Reduction/Selection"
   ]
  },
  {
   "cell_type": "markdown",
   "metadata": {
    "colab_type": "text",
    "id": "731ett2LeCqH"
   },
   "source": [
    "#### Upload Scattering Features"
   ]
  },
  {
   "cell_type": "code",
   "execution_count": 2,
   "metadata": {
    "colab": {},
    "colab_type": "code",
    "id": "oVel2LKmwSb9"
   },
   "outputs": [
    {
     "name": "stderr",
     "output_type": "stream",
     "text": [
      "/home/mila/g/gauthies/.conda/envs/ultra/lib/python3.7/site-packages/ipykernel/ipkernel.py:287: DeprecationWarning: `should_run_async` will not call `transform_cell` automatically in the future. Please pass the result to `transformed_cell` argument and any exception that happen during thetransform in `preprocessing_exc_tuple` in IPython 7.17 and above.\n",
      "  and should_run_async(code)\n"
     ]
    }
   ],
   "source": [
    "with open('../data/03_features/scattering_features_J_3.pickle', 'rb') as handle:\n",
    "    scatter_dict = pickle.load(handle)\n",
    "    df_scattering = scatter_dict['df']\n",
    "    scattering_params = {'J':scatter_dict['J'],\n",
    "                         'M':scatter_dict['M'],\n",
    "                         'N':scatter_dict['N']}"
   ]
  },
  {
   "cell_type": "markdown",
   "metadata": {},
   "source": [
    "# Cross Validation using SVM Classification\n",
    "\n",
    "> Methods that exclude outliers were used to normalize the features. Patient-specific leave-one-out cross-validation (LOOCV) was applied to evaluate the classification. In each case, the test set consisted of10 images from the same patient and the training set contained 540 images from the remaining 54 patients. For each training set, fivefold cross-validation and grid search were applied to indicate the optimal SVM classifier hyperparameters and the best kernel. To address the problem of class imbalance, the SVM hyperparameter C of each class was adjusted inversely proportional to that class frequency in the training set. Label 1 indicated the image containing a fatty liver and label −1 otherwise. \n"
   ]
  },
  {
   "cell_type": "code",
   "execution_count": 3,
   "metadata": {},
   "outputs": [],
   "source": [
    "# Set the parameters by cross-validation\n",
    "param_gamma = [1e-3, 1e-4]\n",
    "param_C = [1, 10, 1000] \n",
    "svm_class_weight = [None, 'balanced']\n",
    "rbf_params = list(product(['kernel'],param_gamma, param_C, svm_class_weight ))\n",
    "linear_params = list(product(['linear'],param_C, svm_class_weight))\n",
    "params = rbf_params + linear_params"
   ]
  },
  {
   "cell_type": "code",
   "execution_count": 4,
   "metadata": {},
   "outputs": [],
   "source": [
    "def train_valid(param, X_train,X_valid,y_train, y_valid):\n",
    "    if param[0] == 'kernel': \n",
    "        #The “balanced” mode uses the values of y to automatically adjust weights inversely\n",
    "        #proportional to class frequencies in the input data as n_samples / (n_classes * np.bincount(y)).\n",
    "        model = SVC(gamma=param[1], C=param[2], class_weight= param[3])\n",
    "    if param[0] == 'linear': \n",
    "        #The “balanced” mode uses the values of y to automatically adjust weights inversely\n",
    "        #proportional to class frequencies in the input data as n_samples / (n_classes * np.bincount(y)).\n",
    "        model = LinearSVC(C=param[1], class_weight= param[2])\n",
    "\n",
    "    model.fit(X_train, y_train)\n",
    "    predictions = model.predict(X_valid)\n",
    "    acc, auc, specificity, sensitivity = get_metrics(y_valid, predictions)\n",
    "    return acc, auc, specificity, sensitivity , predictions\n"
   ]
  },
  {
   "cell_type": "code",
   "execution_count": 5,
   "metadata": {},
   "outputs": [],
   "source": [
    "def log_val_metrics(params, metrics, test_n_splits, num_components=5, standardize=True):\n",
    "    # Important !!!! Put Correct Experiment Name\n",
    "    mlflow.set_experiment('val_scattering_svm_pca_experiment')\n",
    "    # log mlflow params\n",
    "    for param in params:\n",
    "        with mlflow.start_run():\n",
    "            #log params\n",
    "            mlflow.log_param('pca_n',num_components)\n",
    "            mlflow.log_params(scattering_params)\n",
    "            mlflow.log_param('model',f'svm: {param[0]}')\n",
    "            mlflow.log_param('test K fold', test_n_splits)\n",
    "            if param[0] == 'kernel':\n",
    "                mlflow.log_param('gamma',param[1])\n",
    "                mlflow.log_param('C',param[2])\n",
    "                mlflow.log_param('class weight svm', param[3])\n",
    "            if param[0] == 'linear': \n",
    "                mlflow.log_param('C',param[1])\n",
    "                mlflow.log_param('class weight svm', param[2])\n",
    "            #log metrics\n",
    "            mlflow.log_metric('accuracy',np.array(metrics[str(param)]['acc']).mean())\n",
    "            mlflow.log_metric('AUC',np.array(metrics[str(param)]['auc']).mean())\n",
    "            mlflow.log_metric('specificity',np.array(metrics[str(param)]['specificity']).mean())\n",
    "            mlflow.log_metric('sensitivity',np.array(metrics[str(param)]['sensitivity']).mean())\n",
    "    print(\"Done logging validation params in MLFlow\")"
   ]
  },
  {
   "cell_type": "code",
   "execution_count": 6,
   "metadata": {},
   "outputs": [
    {
     "name": "stderr",
     "output_type": "stream",
     "text": [
      "100%|██████████| 18/18 [00:00<00:00, 77.01it/s]\n",
      "100%|██████████| 18/18 [00:00<00:00, 92.74it/s]\n",
      "100%|██████████| 18/18 [00:00<00:00, 110.56it/s]\n",
      "100%|██████████| 18/18 [00:00<00:00, 115.95it/s]\n",
      "100%|██████████| 18/18 [00:00<00:00, 110.99it/s]\n"
     ]
    },
    {
     "name": "stdout",
     "output_type": "stream",
     "text": [
      "Done logging validation params in MLFlow\n",
      "From all the combinations, the highest accuracy was achieved with ('kernel', 0.001, 1, 'balanced')\n",
      "FOLD 1:  acc 1.0, auc 1.0, specificity 1.0, sensitivity 1.0\n",
      "FOLD 1:  MV acc 1.0, MV auc 1.0, MV specificity 1.0, MV sensitivity 1.0\n"
     ]
    },
    {
     "name": "stderr",
     "output_type": "stream",
     "text": [
      "100%|██████████| 18/18 [00:00<00:00, 110.21it/s]\n",
      "100%|██████████| 18/18 [00:00<00:00, 115.10it/s]\n",
      "100%|██████████| 18/18 [00:00<00:00, 99.89it/s]\n",
      "100%|██████████| 18/18 [00:00<00:00, 109.37it/s]\n",
      "100%|██████████| 18/18 [00:00<00:00, 109.26it/s]\n"
     ]
    },
    {
     "name": "stdout",
     "output_type": "stream",
     "text": [
      "Done logging validation params in MLFlow\n",
      "From all the combinations, the highest accuracy was achieved with ('kernel', 0.0001, 1000, 'balanced')\n",
      "FOLD 2:  acc 0.86, auc 0.8833333333333333, specificity 0.7666666666666667, sensitivity 1.0\n",
      "FOLD 2:  MV acc 0.8, MV auc 0.8333333333333334, MV specificity 0.6666666666666666, MV sensitivity 1.0\n"
     ]
    },
    {
     "name": "stderr",
     "output_type": "stream",
     "text": [
      "100%|██████████| 18/18 [00:00<00:00, 66.01it/s]\n",
      "100%|██████████| 18/18 [00:00<00:00, 57.30it/s]\n",
      "100%|██████████| 18/18 [00:00<00:00, 117.92it/s]\n",
      "100%|██████████| 18/18 [00:00<00:00, 118.18it/s]\n",
      "100%|██████████| 18/18 [00:00<00:00, 120.26it/s]\n"
     ]
    },
    {
     "name": "stdout",
     "output_type": "stream",
     "text": [
      "Done logging validation params in MLFlow\n",
      "From all the combinations, the highest accuracy was achieved with ('linear', 10, None)\n",
      "FOLD 3:  acc 0.6, auc 0.5833333333333333, specificity 0.5, sensitivity 0.6666666666666666\n",
      "FOLD 3:  MV acc 0.6, MV auc 0.5833333333333333, MV specificity 0.5, MV sensitivity 0.6666666666666666\n"
     ]
    },
    {
     "name": "stderr",
     "output_type": "stream",
     "text": [
      "100%|██████████| 18/18 [00:00<00:00, 107.87it/s]\n",
      "100%|██████████| 18/18 [00:00<00:00, 114.28it/s]\n",
      "100%|██████████| 18/18 [00:00<00:00, 42.58it/s]\n",
      "100%|██████████| 18/18 [00:00<00:00, 119.94it/s]\n",
      "100%|██████████| 18/18 [00:00<00:00, 128.73it/s]\n"
     ]
    },
    {
     "name": "stdout",
     "output_type": "stream",
     "text": [
      "Done logging validation params in MLFlow\n",
      "From all the combinations, the highest accuracy was achieved with ('kernel', 0.001, 10, 'balanced')\n",
      "FOLD 4:  acc 0.8, auc 0.5, specificity 0.0, sensitivity 1.0\n",
      "FOLD 4:  MV acc 0.8, MV auc 0.5, MV specificity 0.0, MV sensitivity 1.0\n"
     ]
    },
    {
     "name": "stderr",
     "output_type": "stream",
     "text": [
      "100%|██████████| 18/18 [00:00<00:00, 104.29it/s]\n",
      "100%|██████████| 18/18 [00:00<00:00, 118.00it/s]\n",
      "100%|██████████| 18/18 [00:00<00:00, 124.36it/s]\n",
      "100%|██████████| 18/18 [00:00<00:00, 122.74it/s]\n",
      "100%|██████████| 18/18 [00:00<00:00, 95.07it/s]\n"
     ]
    },
    {
     "name": "stdout",
     "output_type": "stream",
     "text": [
      "Done logging validation params in MLFlow\n",
      "From all the combinations, the highest accuracy was achieved with ('kernel', 0.001, 10, 'balanced')\n",
      "FOLD 5:  acc 1.0, auc 1.0, specificity 1.0, sensitivity 1.0\n",
      "FOLD 5:  MV acc 1.0, MV auc 1.0, MV specificity 1.0, MV sensitivity 1.0\n"
     ]
    },
    {
     "name": "stderr",
     "output_type": "stream",
     "text": [
      "100%|██████████| 18/18 [00:00<00:00, 104.55it/s]\n",
      "100%|██████████| 18/18 [00:00<00:00, 62.38it/s]\n",
      "100%|██████████| 18/18 [00:00<00:00, 134.98it/s]\n",
      "100%|██████████| 18/18 [00:00<00:00, 126.35it/s]\n",
      "100%|██████████| 18/18 [00:00<00:00, 116.32it/s]\n"
     ]
    },
    {
     "name": "stdout",
     "output_type": "stream",
     "text": [
      "Done logging validation params in MLFlow\n",
      "From all the combinations, the highest accuracy was achieved with ('kernel', 0.001, 10, 'balanced')\n",
      "FOLD 6:  acc 0.8, auc 0.875, specificity 1.0, sensitivity 0.75\n",
      "FOLD 6:  MV acc 0.8, MV auc 0.875, MV specificity 1.0, MV sensitivity 0.75\n"
     ]
    },
    {
     "name": "stderr",
     "output_type": "stream",
     "text": [
      "100%|██████████| 18/18 [00:00<00:00, 43.13it/s]\n",
      "100%|██████████| 18/18 [00:00<00:00, 111.78it/s]\n",
      "100%|██████████| 18/18 [00:00<00:00, 119.66it/s]\n",
      "100%|██████████| 18/18 [00:00<00:00, 139.19it/s]\n",
      "100%|██████████| 18/18 [00:00<00:00, 57.86it/s]\n"
     ]
    },
    {
     "name": "stdout",
     "output_type": "stream",
     "text": [
      "Done logging validation params in MLFlow\n",
      "From all the combinations, the highest accuracy was achieved with ('kernel', 0.001, 10, 'balanced')\n",
      "FOLD 7:  acc 1.0, auc 1.0, specificity 1.0, sensitivity 1.0\n",
      "FOLD 7:  MV acc 1.0, MV auc 1.0, MV specificity 1.0, MV sensitivity 1.0\n"
     ]
    },
    {
     "name": "stderr",
     "output_type": "stream",
     "text": [
      "100%|██████████| 18/18 [00:00<00:00, 115.54it/s]\n",
      "100%|██████████| 18/18 [00:00<00:00, 106.06it/s]\n",
      "100%|██████████| 18/18 [00:00<00:00, 119.06it/s]\n",
      "100%|██████████| 18/18 [00:00<00:00, 124.24it/s]\n",
      "100%|██████████| 18/18 [00:00<00:00, 113.11it/s]\n"
     ]
    },
    {
     "name": "stdout",
     "output_type": "stream",
     "text": [
      "Done logging validation params in MLFlow\n",
      "From all the combinations, the highest accuracy was achieved with ('kernel', 0.001, 1, 'balanced')\n",
      "FOLD 8:  acc 1.0, auc 1.0, specificity 1.0, sensitivity 1.0\n",
      "FOLD 8:  MV acc 1.0, MV auc 1.0, MV specificity 1.0, MV sensitivity 1.0\n"
     ]
    },
    {
     "name": "stderr",
     "output_type": "stream",
     "text": [
      "100%|██████████| 18/18 [00:00<00:00, 126.83it/s]\n",
      "100%|██████████| 18/18 [00:00<00:00, 111.23it/s]\n",
      "100%|██████████| 18/18 [00:00<00:00, 40.66it/s]\n",
      "100%|██████████| 18/18 [00:00<00:00, 132.19it/s]\n",
      "100%|██████████| 18/18 [00:00<00:00, 114.36it/s]\n"
     ]
    },
    {
     "name": "stdout",
     "output_type": "stream",
     "text": [
      "Done logging validation params in MLFlow\n",
      "From all the combinations, the highest accuracy was achieved with ('kernel', 0.001, 1, 'balanced')\n",
      "FOLD 9:  acc 0.6, auc 0.75, specificity 1.0, sensitivity 0.5\n",
      "FOLD 9:  MV acc 0.6, MV auc 0.75, MV specificity 1.0, MV sensitivity 0.5\n"
     ]
    },
    {
     "name": "stderr",
     "output_type": "stream",
     "text": [
      "100%|██████████| 18/18 [00:00<00:00, 120.65it/s]\n",
      "100%|██████████| 18/18 [00:00<00:00, 60.05it/s]\n",
      "100%|██████████| 18/18 [00:00<00:00, 149.11it/s]\n",
      "100%|██████████| 18/18 [00:00<00:00, 149.41it/s]\n",
      "100%|██████████| 18/18 [00:00<00:00, 135.56it/s]\n"
     ]
    },
    {
     "name": "stdout",
     "output_type": "stream",
     "text": [
      "Done logging validation params in MLFlow\n",
      "From all the combinations, the highest accuracy was achieved with ('kernel', 0.0001, 10, 'balanced')\n",
      "FOLD 10:  acc 0.4, auc 0.25, specificity 0.0, sensitivity 0.5\n",
      "FOLD 10:  MV acc 0.4, MV auc 0.25, MV specificity 0.0, MV sensitivity 0.5\n"
     ]
    },
    {
     "name": "stderr",
     "output_type": "stream",
     "text": [
      "100%|██████████| 18/18 [00:00<00:00, 118.05it/s]\n",
      "100%|██████████| 18/18 [00:00<00:00, 109.86it/s]\n",
      "100%|██████████| 18/18 [00:00<00:00, 107.40it/s]\n",
      "100%|██████████| 18/18 [00:00<00:00, 43.97it/s]\n",
      "100%|██████████| 18/18 [00:00<00:00, 117.02it/s]\n"
     ]
    },
    {
     "name": "stdout",
     "output_type": "stream",
     "text": [
      "Done logging validation params in MLFlow\n",
      "From all the combinations, the highest accuracy was achieved with ('kernel', 0.001, 10, 'balanced')\n",
      "FOLD 11:  acc 0.8, auc 0.75, specificity 1.0, sensitivity 0.5\n",
      "FOLD 11:  MV acc 0.8, MV auc 0.75, MV specificity 1.0, MV sensitivity 0.5\n",
      "0.8054545454545454 0.7810606060606061\n",
      "0.8 0.7765151515151516\n",
      "Experiment done\n"
     ]
    }
   ],
   "source": [
    "df = df_scattering\n",
    "pca_n_components = 5\n",
    "standardize = True\n",
    "test_metrics={}  \n",
    "#majority vote results\n",
    "test_metrics_mv={} \n",
    "# test split 55 et 11\n",
    "test_n_splits = 11\n",
    "group_kfold_test = GroupKFold(n_splits=test_n_splits)\n",
    "seed= 11\n",
    "df_pid = df['id']\n",
    "df_y = df['class']\n",
    "fold_c =1 \n",
    "\n",
    "for train_index, test_index in group_kfold_test.split(df, \n",
    "                                                  df_y, \n",
    "                                                  df_pid):\n",
    "    random.seed(seed)\n",
    "    random.shuffle(train_index)\n",
    "    X_train, X_test = df.iloc[train_index], df.iloc[test_index]\n",
    "    y_train, y_test = df_y.iloc[train_index], df_y.iloc[test_index]\n",
    "    \n",
    "    X_test = X_test.drop(columns=['id', 'class'])\n",
    "    X_train_pid = X_train.pop('id')\n",
    "    X_train = X_train.drop(columns=['class'])\n",
    "    \n",
    "    # Do cross-validation for hyperparam tuning\n",
    "    group_kfold_val = GroupKFold(n_splits=5)\n",
    "    metrics={}\n",
    "    #X_train_y = df.pop('class')\n",
    "    for subtrain_index, valid_index in group_kfold_val.split(X_train, \n",
    "                                                      y_train, \n",
    "                                                      X_train_pid):\n",
    "                                   \n",
    "        X_subtrain, X_valid = X_train.iloc[subtrain_index], X_train.iloc[valid_index]\n",
    "        y_subtrain, y_valid = y_train.iloc[subtrain_index], y_train.iloc[valid_index]\n",
    "\n",
    "\n",
    "        \n",
    "        pca = PCA(n_components=pca_n_components,random_state = seed)           \n",
    "        X_subtrain = pca.fit_transform(X_subtrain)\n",
    "        X_valid = pca.transform(X_valid)\n",
    "        \n",
    "        #standardize\n",
    "        if standardize:\n",
    "            scaler = StandardScaler()\n",
    "            X_subtrain = scaler.fit_transform(X_subtrain)\n",
    "            X_valid = scaler.transform(X_valid)\n",
    "        \n",
    "\n",
    "        for param in tqdm(params):\n",
    "            if str(param) not in metrics.keys() :\n",
    "                metrics[str(param)] ={'acc':[], 'auc':[], 'sensitivity':[], 'specificity':[]}\n",
    "                                   \n",
    "            acc, auc, specificity, sensitivity,_ = train_valid(param, X_subtrain,X_valid,y_subtrain, y_valid)\n",
    "            metrics[str(param)]['auc'].append(auc)\n",
    "            metrics[str(param)]['acc'].append(acc)\n",
    "            metrics[str(param)]['sensitivity'].append(sensitivity)\n",
    "            metrics[str(param)]['specificity'].append(specificity)\n",
    "    #log validation metrics for all combination of params\n",
    "    log_val_metrics(params, metrics, test_n_splits, pca_n_components, standardize=standardize )\n",
    "    \n",
    "    #highest accuracy\n",
    "    index_param_max = np.array([np.array(metrics[str(param)]['auc']).mean() for param in params]).argmax()\n",
    "    print('From all the combinations, the highest accuracy was achieved with', params[index_param_max])\n",
    "    #train and test with max param\n",
    "\n",
    "    \n",
    "    pca = PCA(n_components=pca_n_components)           \n",
    "    X_train = pca.fit_transform(X_train)\n",
    "    X_test = pca.transform(X_test)\n",
    "    \n",
    "    #standardize\n",
    "    if standardize:\n",
    "        scaler = StandardScaler()\n",
    "        X_train = scaler.fit_transform(X_train)\n",
    "        X_test = scaler.transform(X_test)\n",
    "\n",
    "    acc, auc, specificity, sensitivity, predictions = train_valid(params[index_param_max], X_train, X_test, y_train, y_test)\n",
    "    \n",
    "    #compute majority vote metrics\n",
    "    acc_mv, auc_mv, specificity_mv, sensitivity_mv = get_majority_vote(y_test, predictions)\n",
    "    \n",
    "    print('FOLD '+ str(fold_c) + ':  acc ' + str(acc) +  ', auc ' +  str(auc) +  ', specificity '+ str(specificity)\n",
    "          + ', sensitivity ' + str(sensitivity))\n",
    "    print('FOLD '+ str(fold_c) + ':  MV acc ' + str(acc_mv) +  ', MV auc ' +  str(auc_mv) +  ', MV specificity '+ str(specificity_mv)\n",
    "          + ', MV sensitivity ' + str(sensitivity_mv))\n",
    "    \n",
    "    test_metrics[fold_c]=  {'acc':acc, 'auc':auc, 'sensitivity':sensitivity, 'specificity':specificity, 'param':params[index_param_max]}\n",
    "    test_metrics_mv[fold_c]=  {'acc':acc_mv, 'auc':auc_mv, 'sensitivity':sensitivity_mv, 'specificity':specificity_mv, 'param':params[index_param_max]}\n",
    "    \n",
    "    fold_c +=1 \n",
    "\n",
    "log_test_metrics(test_metrics, test_metrics_mv, test_n_splits, 'Scattering features + PCA + SVM',None, seed, pca_n_components, standardize=standardize)\n"
   ]
  },
  {
   "cell_type": "code",
   "execution_count": 7,
   "metadata": {},
   "outputs": [
    {
     "name": "stderr",
     "output_type": "stream",
     "text": [
      "/home/mila/g/gauthies/.conda/envs/ultra/lib/python3.7/site-packages/ipykernel/ipkernel.py:287: DeprecationWarning: `should_run_async` will not call `transform_cell` automatically in the future. Please pass the result to `transformed_cell` argument and any exception that happen during thetransform in `preprocessing_exc_tuple` in IPython 7.17 and above.\n",
      "  and should_run_async(code)\n",
      "100%|██████████| 18/18 [00:00<00:00, 71.42it/s]\n",
      "100%|██████████| 18/18 [00:00<00:00, 70.46it/s]\n",
      "100%|██████████| 18/18 [00:00<00:00, 40.81it/s]\n",
      "100%|██████████| 18/18 [00:00<00:00, 74.71it/s]\n",
      "100%|██████████| 18/18 [00:00<00:00, 76.17it/s]\n"
     ]
    },
    {
     "name": "stdout",
     "output_type": "stream",
     "text": [
      "Done logging validation params in MLFlow\n",
      "From all the combinations, the highest accuracy was achieved with ('kernel', 0.001, 1, 'balanced')\n",
      "FOLD 1:  acc 0.8, auc 0.8333333333333333, specificity 1.0, sensitivity 0.6666666666666666\n",
      "FOLD 1:  MV acc 0.8, MV auc 0.8333333333333333, MV specificity 1.0, MV sensitivity 0.6666666666666666\n"
     ]
    },
    {
     "name": "stderr",
     "output_type": "stream",
     "text": [
      "100%|██████████| 18/18 [00:00<00:00, 74.03it/s]\n",
      "100%|██████████| 18/18 [00:00<00:00, 77.38it/s]\n",
      "100%|██████████| 18/18 [00:00<00:00, 34.88it/s]\n",
      "100%|██████████| 18/18 [00:00<00:00, 85.11it/s]\n",
      "100%|██████████| 18/18 [00:00<00:00, 85.39it/s]\n"
     ]
    },
    {
     "name": "stdout",
     "output_type": "stream",
     "text": [
      "Done logging validation params in MLFlow\n",
      "From all the combinations, the highest accuracy was achieved with ('kernel', 0.0001, 1000, 'balanced')\n",
      "FOLD 2:  acc 0.84, auc 0.8666666666666667, specificity 0.7333333333333333, sensitivity 1.0\n",
      "FOLD 2:  MV acc 0.8, MV auc 0.8333333333333334, MV specificity 0.6666666666666666, MV sensitivity 1.0\n"
     ]
    },
    {
     "name": "stderr",
     "output_type": "stream",
     "text": [
      "100%|██████████| 18/18 [00:00<00:00, 75.61it/s]\n",
      "100%|██████████| 18/18 [00:00<00:00, 78.59it/s]\n",
      "100%|██████████| 18/18 [00:00<00:00, 33.58it/s]\n",
      "100%|██████████| 18/18 [00:00<00:00, 82.85it/s]\n",
      "100%|██████████| 18/18 [00:00<00:00, 89.27it/s]\n"
     ]
    },
    {
     "name": "stdout",
     "output_type": "stream",
     "text": [
      "Done logging validation params in MLFlow\n",
      "From all the combinations, the highest accuracy was achieved with ('kernel', 0.001, 10, 'balanced')\n",
      "FOLD 3:  acc 0.66, auc 0.7166666666666667, specificity 1.0, sensitivity 0.43333333333333335\n",
      "FOLD 3:  MV acc 0.6, MV auc 0.6666666666666666, MV specificity 1.0, MV sensitivity 0.3333333333333333\n"
     ]
    },
    {
     "name": "stderr",
     "output_type": "stream",
     "text": [
      "100%|██████████| 18/18 [00:00<00:00, 76.37it/s]\n",
      "100%|██████████| 18/18 [00:00<00:00, 63.95it/s]\n",
      "100%|██████████| 18/18 [00:00<00:00, 76.01it/s]\n",
      "100%|██████████| 18/18 [00:00<00:00, 76.96it/s]\n",
      "100%|██████████| 18/18 [00:00<00:00, 78.24it/s]\n"
     ]
    },
    {
     "name": "stdout",
     "output_type": "stream",
     "text": [
      "Done logging validation params in MLFlow\n",
      "From all the combinations, the highest accuracy was achieved with ('kernel', 0.001, 10, 'balanced')\n",
      "FOLD 4:  acc 0.8, auc 0.5, specificity 0.0, sensitivity 1.0\n",
      "FOLD 4:  MV acc 0.8, MV auc 0.5, MV specificity 0.0, MV sensitivity 1.0\n"
     ]
    },
    {
     "name": "stderr",
     "output_type": "stream",
     "text": [
      "100%|██████████| 18/18 [00:00<00:00, 70.79it/s]\n",
      "100%|██████████| 18/18 [00:00<00:00, 75.97it/s]\n",
      "100%|██████████| 18/18 [00:00<00:00, 77.00it/s]\n",
      "100%|██████████| 18/18 [00:00<00:00, 58.21it/s]\n",
      "100%|██████████| 18/18 [00:00<00:00, 73.33it/s]\n"
     ]
    },
    {
     "name": "stdout",
     "output_type": "stream",
     "text": [
      "Done logging validation params in MLFlow\n",
      "From all the combinations, the highest accuracy was achieved with ('kernel', 0.001, 10, 'balanced')\n",
      "FOLD 5:  acc 1.0, auc 1.0, specificity 1.0, sensitivity 1.0\n",
      "FOLD 5:  MV acc 1.0, MV auc 1.0, MV specificity 1.0, MV sensitivity 1.0\n"
     ]
    },
    {
     "name": "stderr",
     "output_type": "stream",
     "text": [
      "100%|██████████| 18/18 [00:00<00:00, 73.01it/s]\n",
      "100%|██████████| 18/18 [00:00<00:00, 57.75it/s]\n",
      "100%|██████████| 18/18 [00:00<00:00, 78.14it/s]\n",
      "100%|██████████| 18/18 [00:00<00:00, 86.40it/s]\n",
      "100%|██████████| 18/18 [00:00<00:00, 69.16it/s]\n"
     ]
    },
    {
     "name": "stdout",
     "output_type": "stream",
     "text": [
      "Done logging validation params in MLFlow\n",
      "From all the combinations, the highest accuracy was achieved with ('kernel', 0.001, 10, 'balanced')\n",
      "FOLD 6:  acc 0.8, auc 0.875, specificity 1.0, sensitivity 0.75\n",
      "FOLD 6:  MV acc 0.8, MV auc 0.875, MV specificity 1.0, MV sensitivity 0.75\n"
     ]
    },
    {
     "name": "stderr",
     "output_type": "stream",
     "text": [
      "100%|██████████| 18/18 [00:00<00:00, 69.40it/s]\n",
      "100%|██████████| 18/18 [00:00<00:00, 72.40it/s]\n",
      "100%|██████████| 18/18 [00:00<00:00, 80.94it/s]\n",
      "100%|██████████| 18/18 [00:00<00:00, 37.23it/s]\n",
      "100%|██████████| 18/18 [00:00<00:00, 69.36it/s]\n"
     ]
    },
    {
     "name": "stdout",
     "output_type": "stream",
     "text": [
      "Done logging validation params in MLFlow\n",
      "From all the combinations, the highest accuracy was achieved with ('kernel', 0.001, 1, 'balanced')\n",
      "FOLD 7:  acc 1.0, auc 1.0, specificity 1.0, sensitivity 1.0\n",
      "FOLD 7:  MV acc 1.0, MV auc 1.0, MV specificity 1.0, MV sensitivity 1.0\n"
     ]
    },
    {
     "name": "stderr",
     "output_type": "stream",
     "text": [
      "100%|██████████| 18/18 [00:00<00:00, 71.39it/s]\n",
      "100%|██████████| 18/18 [00:00<00:00, 33.67it/s]\n",
      "100%|██████████| 18/18 [00:00<00:00, 81.09it/s]\n",
      "100%|██████████| 18/18 [00:00<00:00, 90.26it/s]\n",
      "100%|██████████| 18/18 [00:00<00:00, 70.51it/s]\n"
     ]
    },
    {
     "name": "stdout",
     "output_type": "stream",
     "text": [
      "Done logging validation params in MLFlow\n",
      "From all the combinations, the highest accuracy was achieved with ('kernel', 0.001, 10, 'balanced')\n",
      "FOLD 8:  acc 1.0, auc 1.0, specificity 1.0, sensitivity 1.0\n",
      "FOLD 8:  MV acc 1.0, MV auc 1.0, MV specificity 1.0, MV sensitivity 1.0\n"
     ]
    },
    {
     "name": "stderr",
     "output_type": "stream",
     "text": [
      "100%|██████████| 18/18 [00:00<00:00, 41.79it/s]\n",
      "100%|██████████| 18/18 [00:00<00:00, 76.45it/s]\n",
      "100%|██████████| 18/18 [00:00<00:00, 81.03it/s]\n",
      "100%|██████████| 18/18 [00:00<00:00, 81.74it/s]\n",
      "100%|██████████| 18/18 [00:00<00:00, 76.39it/s]\n"
     ]
    },
    {
     "name": "stdout",
     "output_type": "stream",
     "text": [
      "Done logging validation params in MLFlow\n",
      "From all the combinations, the highest accuracy was achieved with ('kernel', 0.001, 10, 'balanced')\n",
      "FOLD 9:  acc 0.6, auc 0.75, specificity 1.0, sensitivity 0.5\n",
      "FOLD 9:  MV acc 0.6, MV auc 0.75, MV specificity 1.0, MV sensitivity 0.5\n"
     ]
    },
    {
     "name": "stderr",
     "output_type": "stream",
     "text": [
      "100%|██████████| 18/18 [00:00<00:00, 89.71it/s]\n",
      "100%|██████████| 18/18 [00:00<00:00, 90.20it/s]\n",
      "100%|██████████| 18/18 [00:00<00:00, 96.61it/s]\n",
      "100%|██████████| 18/18 [00:00<00:00, 98.03it/s]\n",
      "100%|██████████| 18/18 [00:00<00:00, 88.85it/s]\n"
     ]
    },
    {
     "name": "stdout",
     "output_type": "stream",
     "text": [
      "Done logging validation params in MLFlow\n",
      "From all the combinations, the highest accuracy was achieved with ('kernel', 0.001, 1, 'balanced')\n",
      "FOLD 10:  acc 0.4, auc 0.25, specificity 0.0, sensitivity 0.5\n",
      "FOLD 10:  MV acc 0.4, MV auc 0.25, MV specificity 0.0, MV sensitivity 0.5\n"
     ]
    },
    {
     "name": "stderr",
     "output_type": "stream",
     "text": [
      "100%|██████████| 18/18 [00:00<00:00, 44.82it/s]\n",
      "100%|██████████| 18/18 [00:00<00:00, 75.64it/s]\n",
      "100%|██████████| 18/18 [00:00<00:00, 76.92it/s]\n",
      "100%|██████████| 18/18 [00:00<00:00, 76.29it/s]\n",
      "100%|██████████| 18/18 [00:00<00:00, 45.65it/s]\n"
     ]
    },
    {
     "name": "stdout",
     "output_type": "stream",
     "text": [
      "Done logging validation params in MLFlow\n",
      "From all the combinations, the highest accuracy was achieved with ('kernel', 0.0001, 10, 'balanced')\n",
      "FOLD 11:  acc 0.8, auc 0.75, specificity 1.0, sensitivity 0.5\n",
      "FOLD 11:  MV acc 0.8, MV auc 0.75, MV specificity 1.0, MV sensitivity 0.5\n",
      "0.790909090909091 0.7765151515151516\n",
      "0.7818181818181817 0.7689393939393938\n",
      "Experiment done\n"
     ]
    }
   ],
   "source": [
    "df = df_scattering\n",
    "pca_n_components = 8\n",
    "standardize = True\n",
    "test_metrics={}  \n",
    "#majority vote results\n",
    "test_metrics_mv={} \n",
    "# test split 55 et 11\n",
    "test_n_splits = 11\n",
    "group_kfold_test = GroupKFold(n_splits=test_n_splits)\n",
    "seed= 11\n",
    "df_pid = df['id']\n",
    "df_y = df['class']\n",
    "fold_c =1 \n",
    "\n",
    "for train_index, test_index in group_kfold_test.split(df, \n",
    "                                                  df_y, \n",
    "                                                  df_pid):\n",
    "    random.seed(seed)\n",
    "    random.shuffle(train_index)\n",
    "    X_train, X_test = df.iloc[train_index], df.iloc[test_index]\n",
    "    y_train, y_test = df_y.iloc[train_index], df_y.iloc[test_index]\n",
    "    \n",
    "    X_test = X_test.drop(columns=['id', 'class'])\n",
    "    X_train_pid = X_train.pop('id')\n",
    "    X_train = X_train.drop(columns=['class'])\n",
    "    \n",
    "    # Do cross-validation for hyperparam tuning\n",
    "    group_kfold_val = GroupKFold(n_splits=5)\n",
    "    metrics={}\n",
    "    #X_train_y = df.pop('class')\n",
    "    for subtrain_index, valid_index in group_kfold_val.split(X_train, \n",
    "                                                      y_train, \n",
    "                                                      X_train_pid):\n",
    "                                   \n",
    "        X_subtrain, X_valid = X_train.iloc[subtrain_index], X_train.iloc[valid_index]\n",
    "        y_subtrain, y_valid = y_train.iloc[subtrain_index], y_train.iloc[valid_index]\n",
    "\n",
    "\n",
    "        \n",
    "        pca = PCA(n_components=pca_n_components,random_state = seed)           \n",
    "        X_subtrain = pca.fit_transform(X_subtrain)\n",
    "        X_valid = pca.transform(X_valid)\n",
    "        \n",
    "        #standardize\n",
    "        if standardize:\n",
    "            scaler = StandardScaler()\n",
    "            X_subtrain = scaler.fit_transform(X_subtrain)\n",
    "            X_valid = scaler.transform(X_valid)\n",
    "        \n",
    "\n",
    "        for param in tqdm(params):\n",
    "            if str(param) not in metrics.keys() :\n",
    "                metrics[str(param)] ={'acc':[], 'auc':[], 'sensitivity':[], 'specificity':[]}\n",
    "                                   \n",
    "            acc, auc, specificity, sensitivity,_ = train_valid(param, X_subtrain,X_valid,y_subtrain, y_valid)\n",
    "            metrics[str(param)]['auc'].append(auc)\n",
    "            metrics[str(param)]['acc'].append(acc)\n",
    "            metrics[str(param)]['sensitivity'].append(sensitivity)\n",
    "            metrics[str(param)]['specificity'].append(specificity)\n",
    "    #log validation metrics for all combination of params\n",
    "    log_val_metrics(params, metrics, test_n_splits, pca_n_components, standardize=standardize )\n",
    "    \n",
    "    #highest accuracy\n",
    "    index_param_max = np.array([np.array(metrics[str(param)]['auc']).mean() for param in params]).argmax()\n",
    "    print('From all the combinations, the highest accuracy was achieved with', params[index_param_max])\n",
    "    #train and test with max param\n",
    "\n",
    "    \n",
    "    pca = PCA(n_components=pca_n_components)           \n",
    "    X_train = pca.fit_transform(X_train)\n",
    "    X_test = pca.transform(X_test)\n",
    "    \n",
    "    #standardize\n",
    "    if standardize:\n",
    "        scaler = StandardScaler()\n",
    "        X_train = scaler.fit_transform(X_train)\n",
    "        X_test = scaler.transform(X_test)\n",
    "\n",
    "    acc, auc, specificity, sensitivity, predictions = train_valid(params[index_param_max], X_train, X_test, y_train, y_test)\n",
    "    \n",
    "    #compute majority vote metrics\n",
    "    acc_mv, auc_mv, specificity_mv, sensitivity_mv = get_majority_vote(y_test, predictions)\n",
    "    \n",
    "    print('FOLD '+ str(fold_c) + ':  acc ' + str(acc) +  ', auc ' +  str(auc) +  ', specificity '+ str(specificity)\n",
    "          + ', sensitivity ' + str(sensitivity))\n",
    "    print('FOLD '+ str(fold_c) + ':  MV acc ' + str(acc_mv) +  ', MV auc ' +  str(auc_mv) +  ', MV specificity '+ str(specificity_mv)\n",
    "          + ', MV sensitivity ' + str(sensitivity_mv))\n",
    "    \n",
    "    test_metrics[fold_c]=  {'acc':acc, 'auc':auc, 'sensitivity':sensitivity, 'specificity':specificity, 'param':params[index_param_max]}\n",
    "    test_metrics_mv[fold_c]=  {'acc':acc_mv, 'auc':auc_mv, 'sensitivity':sensitivity_mv, 'specificity':specificity_mv, 'param':params[index_param_max]}\n",
    "    \n",
    "    fold_c +=1 \n",
    "\n",
    "log_test_metrics(test_metrics, test_metrics_mv, test_n_splits, 'Scattering features + PCA + SVM',None, seed, pca_n_components, standardize=standardize)\n"
   ]
  },
  {
   "cell_type": "code",
   "execution_count": null,
   "metadata": {},
   "outputs": [
    {
     "name": "stderr",
     "output_type": "stream",
     "text": [
      "/home/mila/g/gauthies/.conda/envs/ultra/lib/python3.7/site-packages/ipykernel/ipkernel.py:287: DeprecationWarning: `should_run_async` will not call `transform_cell` automatically in the future. Please pass the result to `transformed_cell` argument and any exception that happen during thetransform in `preprocessing_exc_tuple` in IPython 7.17 and above.\n",
      "  and should_run_async(code)\n",
      "100%|██████████| 18/18 [00:00<00:00, 118.33it/s]\n",
      "100%|██████████| 18/18 [00:00<00:00, 102.50it/s]\n",
      "100%|██████████| 18/18 [00:00<00:00, 61.35it/s]\n",
      "100%|██████████| 18/18 [00:00<00:00, 126.82it/s]\n",
      "100%|██████████| 18/18 [00:00<00:00, 123.63it/s]\n"
     ]
    },
    {
     "name": "stdout",
     "output_type": "stream",
     "text": [
      "Done logging validation params in MLFlow\n",
      "From all the combinations, the highest accuracy was achieved with ('kernel', 0.001, 10, 'balanced')\n",
      "FOLD 1:  acc 1.0, auc 1.0, specificity 1.0, sensitivity 1.0\n",
      "FOLD 1:  MV acc 1.0, MV auc 1.0, MV specificity 1.0, MV sensitivity 1.0\n"
     ]
    },
    {
     "name": "stderr",
     "output_type": "stream",
     "text": [
      "100%|██████████| 18/18 [00:00<00:00, 108.43it/s]\n",
      "100%|██████████| 18/18 [00:00<00:00, 55.14it/s]\n",
      "100%|██████████| 18/18 [00:00<00:00, 106.13it/s]\n",
      "100%|██████████| 18/18 [00:00<00:00, 109.66it/s]\n",
      "100%|██████████| 18/18 [00:00<00:00, 118.65it/s]\n"
     ]
    },
    {
     "name": "stdout",
     "output_type": "stream",
     "text": [
      "Done logging validation params in MLFlow\n",
      "From all the combinations, the highest accuracy was achieved with ('kernel', 0.0001, 1000, 'balanced')\n",
      "FOLD 2:  acc 0.86, auc 0.8833333333333333, specificity 0.7666666666666667, sensitivity 1.0\n",
      "FOLD 2:  MV acc 0.8, MV auc 0.8333333333333334, MV specificity 0.6666666666666666, MV sensitivity 1.0\n"
     ]
    },
    {
     "name": "stderr",
     "output_type": "stream",
     "text": [
      "100%|██████████| 18/18 [00:00<00:00, 61.83it/s]\n",
      "100%|██████████| 18/18 [00:00<00:00, 128.73it/s]\n",
      "100%|██████████| 18/18 [00:00<00:00, 105.72it/s]\n",
      "100%|██████████| 18/18 [00:00<00:00, 118.72it/s]\n",
      "100%|██████████| 18/18 [00:00<00:00, 51.30it/s]\n"
     ]
    },
    {
     "name": "stdout",
     "output_type": "stream",
     "text": [
      "Done logging validation params in MLFlow\n",
      "From all the combinations, the highest accuracy was achieved with ('kernel', 0.001, 10, 'balanced')\n",
      "FOLD 3:  acc 0.66, auc 0.7166666666666667, specificity 1.0, sensitivity 0.43333333333333335\n",
      "FOLD 3:  MV acc 0.6, MV auc 0.6666666666666666, MV specificity 1.0, MV sensitivity 0.3333333333333333\n"
     ]
    },
    {
     "name": "stderr",
     "output_type": "stream",
     "text": [
      "100%|██████████| 18/18 [00:00<00:00, 111.73it/s]\n",
      "100%|██████████| 18/18 [00:00<00:00, 122.62it/s]\n",
      "100%|██████████| 18/18 [00:00<00:00, 42.93it/s]\n",
      "100%|██████████| 18/18 [00:00<00:00, 120.88it/s]\n",
      "100%|██████████| 18/18 [00:00<00:00, 133.51it/s]\n"
     ]
    },
    {
     "name": "stdout",
     "output_type": "stream",
     "text": [
      "Done logging validation params in MLFlow\n",
      "From all the combinations, the highest accuracy was achieved with ('kernel', 0.001, 10, 'balanced')\n",
      "FOLD 4:  acc 0.8, auc 0.5, specificity 0.0, sensitivity 1.0\n",
      "FOLD 4:  MV acc 0.8, MV auc 0.5, MV specificity 0.0, MV sensitivity 1.0\n"
     ]
    },
    {
     "name": "stderr",
     "output_type": "stream",
     "text": [
      "100%|██████████| 18/18 [00:00<00:00, 119.71it/s]\n",
      "100%|██████████| 18/18 [00:00<00:00, 124.31it/s]\n",
      "100%|██████████| 18/18 [00:00<00:00, 140.23it/s]\n",
      "100%|██████████| 18/18 [00:00<00:00, 146.40it/s]\n",
      "100%|██████████| 18/18 [00:00<00:00, 126.79it/s]\n"
     ]
    },
    {
     "name": "stdout",
     "output_type": "stream",
     "text": [
      "Done logging validation params in MLFlow\n",
      "From all the combinations, the highest accuracy was achieved with ('kernel', 0.001, 1, 'balanced')\n",
      "FOLD 5:  acc 1.0, auc 1.0, specificity 1.0, sensitivity 1.0\n",
      "FOLD 5:  MV acc 1.0, MV auc 1.0, MV specificity 1.0, MV sensitivity 1.0\n"
     ]
    },
    {
     "name": "stderr",
     "output_type": "stream",
     "text": [
      "100%|██████████| 18/18 [00:00<00:00, 106.46it/s]\n",
      "100%|██████████| 18/18 [00:00<00:00, 112.08it/s]\n",
      "100%|██████████| 18/18 [00:00<00:00, 116.43it/s]\n",
      "100%|██████████| 18/18 [00:00<00:00, 133.87it/s]\n",
      "100%|██████████| 18/18 [00:00<00:00, 120.46it/s]\n"
     ]
    },
    {
     "name": "stdout",
     "output_type": "stream",
     "text": [
      "Done logging validation params in MLFlow\n",
      "From all the combinations, the highest accuracy was achieved with ('kernel', 0.001, 10, 'balanced')\n",
      "FOLD 6:  acc 0.8, auc 0.875, specificity 1.0, sensitivity 0.75\n",
      "FOLD 6:  MV acc 0.8, MV auc 0.875, MV specificity 1.0, MV sensitivity 0.75\n"
     ]
    },
    {
     "name": "stderr",
     "output_type": "stream",
     "text": [
      "100%|██████████| 18/18 [00:00<00:00, 124.31it/s]\n",
      "100%|██████████| 18/18 [00:00<00:00, 118.15it/s]\n",
      "100%|██████████| 18/18 [00:00<00:00, 124.29it/s]\n",
      "100%|██████████| 18/18 [00:00<00:00, 124.18it/s]\n",
      "100%|██████████| 18/18 [00:00<00:00, 124.08it/s]\n"
     ]
    },
    {
     "name": "stdout",
     "output_type": "stream",
     "text": [
      "Done logging validation params in MLFlow\n",
      "From all the combinations, the highest accuracy was achieved with ('kernel', 0.001, 1, 'balanced')\n",
      "FOLD 7:  acc 1.0, auc 1.0, specificity 1.0, sensitivity 1.0\n",
      "FOLD 7:  MV acc 1.0, MV auc 1.0, MV specificity 1.0, MV sensitivity 1.0\n"
     ]
    },
    {
     "name": "stderr",
     "output_type": "stream",
     "text": [
      "100%|██████████| 18/18 [00:00<00:00, 108.29it/s]\n",
      "100%|██████████| 18/18 [00:00<00:00, 101.26it/s]\n",
      "100%|██████████| 18/18 [00:00<00:00, 150.27it/s]\n",
      "100%|██████████| 18/18 [00:00<00:00, 159.21it/s]\n",
      "100%|██████████| 18/18 [00:00<00:00, 121.84it/s]\n"
     ]
    },
    {
     "name": "stdout",
     "output_type": "stream",
     "text": [
      "Done logging validation params in MLFlow\n",
      "From all the combinations, the highest accuracy was achieved with ('kernel', 0.001, 10, 'balanced')\n",
      "FOLD 8:  acc 1.0, auc 1.0, specificity 1.0, sensitivity 1.0\n",
      "FOLD 8:  MV acc 1.0, MV auc 1.0, MV specificity 1.0, MV sensitivity 1.0\n"
     ]
    },
    {
     "name": "stderr",
     "output_type": "stream",
     "text": [
      "100%|██████████| 18/18 [00:00<00:00, 128.00it/s]\n",
      "100%|██████████| 18/18 [00:00<00:00, 130.50it/s]\n",
      "100%|██████████| 18/18 [00:00<00:00, 121.47it/s]\n",
      "100%|██████████| 18/18 [00:00<00:00, 165.10it/s]\n",
      "100%|██████████| 18/18 [00:00<00:00, 133.99it/s]\n"
     ]
    },
    {
     "name": "stdout",
     "output_type": "stream",
     "text": [
      "Done logging validation params in MLFlow\n",
      "From all the combinations, the highest accuracy was achieved with ('kernel', 0.0001, 1000, None)\n",
      "FOLD 9:  acc 0.8, auc 0.5, specificity 0.0, sensitivity 1.0\n",
      "FOLD 9:  MV acc 0.8, MV auc 0.5, MV specificity 0.0, MV sensitivity 1.0\n"
     ]
    },
    {
     "name": "stderr",
     "output_type": "stream",
     "text": [
      "100%|██████████| 18/18 [00:00<00:00, 143.35it/s]\n",
      "100%|██████████| 18/18 [00:00<00:00, 136.12it/s]\n",
      "100%|██████████| 18/18 [00:00<00:00, 148.91it/s]\n",
      "100%|██████████| 18/18 [00:00<00:00, 176.58it/s]\n",
      "100%|██████████| 18/18 [00:00<00:00, 161.15it/s]\n"
     ]
    },
    {
     "name": "stdout",
     "output_type": "stream",
     "text": [
      "Done logging validation params in MLFlow\n",
      "From all the combinations, the highest accuracy was achieved with ('kernel', 0.0001, 10, 'balanced')\n"
     ]
    }
   ],
   "source": [
    "df = df_scattering\n",
    "pca_n_components = 7\n",
    "standardize = True\n",
    "test_metrics={}  \n",
    "#majority vote results\n",
    "test_metrics_mv={} \n",
    "# test split 55 et 11\n",
    "test_n_splits = 11\n",
    "group_kfold_test = GroupKFold(n_splits=test_n_splits)\n",
    "seed= 11\n",
    "df_pid = df['id']\n",
    "df_y = df['class']\n",
    "fold_c =1 \n",
    "\n",
    "for train_index, test_index in group_kfold_test.split(df, \n",
    "                                                  df_y, \n",
    "                                                  df_pid):\n",
    "    random.seed(seed)\n",
    "    random.shuffle(train_index)\n",
    "    X_train, X_test = df.iloc[train_index], df.iloc[test_index]\n",
    "    y_train, y_test = df_y.iloc[train_index], df_y.iloc[test_index]\n",
    "    \n",
    "    X_test = X_test.drop(columns=['id', 'class'])\n",
    "    X_train_pid = X_train.pop('id')\n",
    "    X_train = X_train.drop(columns=['class'])\n",
    "    \n",
    "    # Do cross-validation for hyperparam tuning\n",
    "    group_kfold_val = GroupKFold(n_splits=5)\n",
    "    metrics={}\n",
    "    #X_train_y = df.pop('class')\n",
    "    for subtrain_index, valid_index in group_kfold_val.split(X_train, \n",
    "                                                      y_train, \n",
    "                                                      X_train_pid):\n",
    "                                   \n",
    "        X_subtrain, X_valid = X_train.iloc[subtrain_index], X_train.iloc[valid_index]\n",
    "        y_subtrain, y_valid = y_train.iloc[subtrain_index], y_train.iloc[valid_index]\n",
    "\n",
    "\n",
    "        \n",
    "        pca = PCA(n_components=pca_n_components,random_state = seed)           \n",
    "        X_subtrain = pca.fit_transform(X_subtrain)\n",
    "        X_valid = pca.transform(X_valid)\n",
    "        \n",
    "        #standardize\n",
    "        if standardize:\n",
    "            scaler = StandardScaler()\n",
    "            X_subtrain = scaler.fit_transform(X_subtrain)\n",
    "            X_valid = scaler.transform(X_valid)\n",
    "        \n",
    "\n",
    "        for param in tqdm(params):\n",
    "            if str(param) not in metrics.keys() :\n",
    "                metrics[str(param)] ={'acc':[], 'auc':[], 'sensitivity':[], 'specificity':[]}\n",
    "                                   \n",
    "            acc, auc, specificity, sensitivity,_ = train_valid(param, X_subtrain,X_valid,y_subtrain, y_valid)\n",
    "            metrics[str(param)]['auc'].append(auc)\n",
    "            metrics[str(param)]['acc'].append(acc)\n",
    "            metrics[str(param)]['sensitivity'].append(sensitivity)\n",
    "            metrics[str(param)]['specificity'].append(specificity)\n",
    "    #log validation metrics for all combination of params\n",
    "    log_val_metrics(params, metrics, test_n_splits, pca_n_components, standardize=standardize )\n",
    "    \n",
    "    #highest accuracy\n",
    "    index_param_max = np.array([np.array(metrics[str(param)]['auc']).mean() for param in params]).argmax()\n",
    "    print('From all the combinations, the highest accuracy was achieved with', params[index_param_max])\n",
    "    #train and test with max param\n",
    "\n",
    "    \n",
    "    pca = PCA(n_components=pca_n_components)           \n",
    "    X_train = pca.fit_transform(X_train)\n",
    "    X_test = pca.transform(X_test)\n",
    "    \n",
    "    #standardize\n",
    "    if standardize:\n",
    "        scaler = StandardScaler()\n",
    "        X_train = scaler.fit_transform(X_train)\n",
    "        X_test = scaler.transform(X_test)\n",
    "\n",
    "    acc, auc, specificity, sensitivity, predictions = train_valid(params[index_param_max], X_train, X_test, y_train, y_test)\n",
    "    \n",
    "    #compute majority vote metrics\n",
    "    acc_mv, auc_mv, specificity_mv, sensitivity_mv = get_majority_vote(y_test, predictions)\n",
    "    \n",
    "    print('FOLD '+ str(fold_c) + ':  acc ' + str(acc) +  ', auc ' +  str(auc) +  ', specificity '+ str(specificity)\n",
    "          + ', sensitivity ' + str(sensitivity))\n",
    "    print('FOLD '+ str(fold_c) + ':  MV acc ' + str(acc_mv) +  ', MV auc ' +  str(auc_mv) +  ', MV specificity '+ str(specificity_mv)\n",
    "          + ', MV sensitivity ' + str(sensitivity_mv))\n",
    "    \n",
    "    test_metrics[fold_c]=  {'acc':acc, 'auc':auc, 'sensitivity':sensitivity, 'specificity':specificity, 'param':params[index_param_max]}\n",
    "    test_metrics_mv[fold_c]=  {'acc':acc_mv, 'auc':auc_mv, 'sensitivity':sensitivity_mv, 'specificity':specificity_mv, 'param':params[index_param_max]}\n",
    "    \n",
    "    fold_c +=1 \n",
    "\n",
    "log_test_metrics(test_metrics, test_metrics_mv, test_n_splits, 'Scattering features + PCA + SVM',None, seed, pca_n_components, standardize=standardize)\n"
   ]
  },
  {
   "cell_type": "code",
   "execution_count": null,
   "metadata": {},
   "outputs": [],
   "source": []
  }
 ],
 "metadata": {
  "accelerator": "GPU",
  "colab": {
   "collapsed_sections": [],
   "name": "Transfer learning with deep convolutional neural network for liver steatosis assessment in ultrasound images Reproducibility with Scatterin.ipynb",
   "provenance": [],
   "toc_visible": true
  },
  "kernelspec": {
   "display_name": "Python 3 (ultra)",
   "language": "python",
   "name": "ultra"
  },
  "language_info": {
   "codemirror_mode": {
    "name": "ipython",
    "version": 3
   },
   "file_extension": ".py",
   "mimetype": "text/x-python",
   "name": "python",
   "nbconvert_exporter": "python",
   "pygments_lexer": "ipython3",
   "version": "3.7.0"
  }
 },
 "nbformat": 4,
 "nbformat_minor": 4
}
