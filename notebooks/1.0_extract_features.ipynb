{
 "cells": [
  {
   "cell_type": "markdown",
   "metadata": {
    "colab_type": "text",
    "id": "ENoS3mTtGQts"
   },
   "source": [
    "# Transfer learning with deep convolutional neural network for liver steatosis assessment in ultrasound images\n",
    "Reproduce Results of [Transfer learning with deep convolutional neural network for liver steatosis assessment in ultrasound images](https://pubmed.ncbi.nlm.nih.gov/30094778/)\n",
    "\n",
    "\n",
    "> We used a pre-trained CNN to extract features based on B-mode images. Next, using the neural features, we employed the support vector machine (SVM) algorithm to classify images containing fatty liver. Aside of fatty liver classification, it is clinically relevant to quantify the grade of liver steatosis. For this task, we used the extracted features and the Lasso regression method. In both cases, liver biopsy results served as a reference. The performance of the pro- posed approach was compared with the GLCM methods.\n",
    "\n",
    "\n",
    "\n"
   ]
  },
  {
   "cell_type": "code",
   "execution_count": 2,
   "metadata": {
    "colab": {},
    "colab_type": "code",
    "id": "ptO9fUvkD-Lc"
   },
   "outputs": [],
   "source": [
    "from scipy.io import loadmat\n",
    "from pprint import pprint\n",
    "from sklearn.preprocessing import StandardScaler\n",
    "from sklearn.decomposition import PCA\n",
    "from sklearn.svm import LinearSVC\n",
    "import torch\n",
    "from tqdm import tqdm\n",
    "import pandas as pd\n",
    "import numpy as np\n",
    "import matplotlib.pyplot as plt\n",
    "from kymatio.torch import Scattering2D\n",
    "import kymatio.datasets as scattering_datasets\n",
    "import pickle"
   ]
  },
  {
   "cell_type": "code",
   "execution_count": 3,
   "metadata": {},
   "outputs": [],
   "source": [
    "with open('../data/02_interim/bmodes_steatosis_assessment_IJCARS.pickle', 'rb') as handle:\n",
    "    df = pickle.load(handle)"
   ]
  },
  {
   "cell_type": "markdown",
   "metadata": {
    "colab_type": "text",
    "id": "HiKc2kfAzRrq"
   },
   "source": [
    "## Extract Features\n",
    "In this section, scattering and GLCM features will be extracted. "
   ]
  },
  {
   "cell_type": "markdown",
   "metadata": {
    "colab_type": "text",
    "id": "3ekOxQeOLA1l"
   },
   "source": [
    "### Step 3.1 Extract Scattering Features using Kymatio"
   ]
  },
  {
   "cell_type": "code",
   "execution_count": 6,
   "metadata": {},
   "outputs": [],
   "source": [
    "M, N= 434, 636 # ultrasound image dimension"
   ]
  },
  {
   "cell_type": "code",
   "execution_count": 7,
   "metadata": {
    "colab": {},
    "colab_type": "code",
    "id": "UVHgx3zJz6cr"
   },
   "outputs": [
    {
     "name": "stderr",
     "output_type": "stream",
     "text": [
      "100%|██████████| 549/549 [01:39<00:00,  5.50it/s]\n"
     ]
    }
   ],
   "source": [
    "# Reshape the data appropriately\n",
    "data = df['img'].iloc[0].view(1,M,N)\n",
    "for i in tqdm(range(1,len(df['img']))):\n",
    "    data = torch.cat([data,df['img'].iloc[i].view(1,M,N)])"
   ]
  },
  {
   "cell_type": "code",
   "execution_count": null,
   "metadata": {
    "colab": {},
    "colab_type": "code",
    "id": "ICuiVrdbiebF"
   },
   "outputs": [],
   "source": [
    "%%time\n",
    "# This should take about 7 minutes. It processes about 10 images/5sec.\n",
    "# Set the parameters of the scattering transform.\n",
    "J = 2\n",
    "M, N = 434, 636 #( shape of the ultrasound images)\n",
    "\n",
    "use_cuda = torch.cuda.is_available()\n",
    "device = torch.device(\"cuda\" if use_cuda else \"cpu\")\n",
    "\n",
    "# Define a Scattering2D object.\n",
    "scattering = Scattering2D(J, (M, N))\n",
    "if use_cuda: scattering = scattering.cuda()\n",
    "\n",
    "data = data.to(device)\n",
    "scattering_features = scattering(data)"
   ]
  },
  {
   "cell_type": "code",
   "execution_count": null,
   "metadata": {
    "colab": {
     "base_uri": "https://localhost:8080/",
     "height": 765
    },
    "colab_type": "code",
    "id": "Ud6H4SGAYx49",
    "outputId": "33030b72-3595-4a85-b60c-3ffacfb40f05"
   },
   "outputs": [],
   "source": [
    "# show images\n",
    "sf = scattering_features[0].view(scattering_features.shape[1],scattering_features.shape[2], scattering_features.shape[3]).cpu()\n",
    "npimg = np.uint8(sf)\n",
    "\n",
    "f, axarr = plt.subplots(9,9, figsize=(scattering_features.shape[3]/8, scattering_features.shape[2]/8))\n",
    "count = 0\n",
    "for i in range(0, 9) :\n",
    "    for j in range(0, 9) :\n",
    "        axarr[i,j].imshow(sf[count], cmap='gray')\n",
    "        axarr[i,j].axis('off')\n",
    "        count = count +1\n",
    "        axarr[i,j].set_xticklabels([])\n",
    "        axarr[i,j].set_yticklabels([])\n",
    "        axarr[i,j].set_aspect('equal')\n",
    "\n",
    "f.subplots_adjust(wspace=0, hspace=0.1)\n",
    "plt.show()"
   ]
  },
  {
   "cell_type": "markdown",
   "metadata": {
    "colab_type": "text",
    "id": "eQbTBOSTFnr3"
   },
   "source": [
    "#### Save scattering features"
   ]
  },
  {
   "cell_type": "code",
   "execution_count": null,
   "metadata": {},
   "outputs": [],
   "source": [
    "sc_features = scattering_features.view(scattering_features.shape[0], scattering_features.shape[1] * scattering_features.shape[2] * scattering_features.shape[3])\n",
    "X = sc_features.cpu().numpy()\n",
    "df_sc = pd.DataFrame(X)\n",
    "df_scattering = pd.concat([df['id'], df['class'], df_sc], axis=1)\n",
    "df_scattering.shape"
   ]
  },
  {
   "cell_type": "code",
   "execution_count": null,
   "metadata": {
    "colab": {},
    "colab_type": "code",
    "id": "EV5hOHRzFM1Y"
   },
   "outputs": [],
   "source": [
    "# Create a dict for the scattering features, and parameters\n",
    "scatter_dict = {'df':df_scattering,\n",
    "                'J':2,\n",
    "                'M':M,\n",
    "                'N':N}\n",
    "\n",
    "with open('../data/03_features/scattering_features.pickle', 'wb') as handle:\n",
    "    pickle.dump(scatter_dict, handle, protocol=pickle.HIGHEST_PROTOCOL)"
   ]
  },
  {
   "cell_type": "code",
   "execution_count": null,
   "metadata": {
    "colab": {},
    "colab_type": "code",
    "id": "RL6Ce1RUqPqh"
   },
   "outputs": [],
   "source": []
  }
 ],
 "metadata": {
  "accelerator": "GPU",
  "colab": {
   "collapsed_sections": [],
   "name": "Transfer learning with deep convolutional neural network for liver steatosis assessment in ultrasound images Reproducibility with Scatterin.ipynb",
   "provenance": [],
   "toc_visible": true
  },
  "kernelspec": {
   "display_name": "Python 3",
   "language": "python",
   "name": "python3"
  },
  "language_info": {
   "codemirror_mode": {
    "name": "ipython",
    "version": 3
   },
   "file_extension": ".py",
   "mimetype": "text/x-python",
   "name": "python",
   "nbconvert_exporter": "python",
   "pygments_lexer": "ipython3",
   "version": "3.7.0"
  }
 },
 "nbformat": 4,
 "nbformat_minor": 4
}
