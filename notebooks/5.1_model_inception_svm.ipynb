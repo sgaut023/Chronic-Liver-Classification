{
 "cells": [
  {
   "cell_type": "markdown",
   "metadata": {
    "colab_type": "text",
    "id": "ENoS3mTtGQts"
   },
   "source": [
    "# Experiment 5.1 - Features extracted using Inception Resnet v2 + SVM \n",
    "\n",
    "Reproduce Results of [Transfer learning with deep convolutional neural network for liver steatosis assessment in ultrasound images](https://pubmed.ncbi.nlm.nih.gov/30094778/). We used a pre-trained CNN to extract features based on B-mode images. \n",
    "\n",
    "The CNNfeatures are extracted using the pretrained Inception-Resnet-v2 implemented in Keras.\n",
    "See reference: https://jkjung-avt.github.io/keras-inceptionresnetv2/\n",
    "\n",
    "![Screen Shot 2020-10-12 at 2 57 22 PM](https://user-images.githubusercontent.com/23482039/95781182-47437700-0c9b-11eb-8826-594811ba3322.png)\n",
    "\n",
    "\n",
    "\n",
    "\n",
    "\n"
   ]
  },
  {
   "cell_type": "code",
   "execution_count": 1,
   "metadata": {
    "colab": {},
    "colab_type": "code",
    "id": "ptO9fUvkD-Lc"
   },
   "outputs": [],
   "source": [
    "import sys\n",
    "import random\n",
    "sys.path.append('../src')\n",
    "import warnings\n",
    "warnings.filterwarnings(\"ignore\") \n",
    "\n",
    "from utils.compute_metrics import get_metrics, get_majority_vote,log_test_metrics\n",
    "from utils.split import train_test_split\n",
    "from sklearn.preprocessing import StandardScaler\n",
    "from sklearn.decomposition import PCA\n",
    "from sklearn.svm import LinearSVC\n",
    "from sklearn.svm import SVC\n",
    "from sklearn.model_selection import GroupKFold\n",
    "from tqdm import tqdm\n",
    "from pprint import pprint\n",
    "\n",
    "from itertools import product\n",
    "import pickle\n",
    "import pandas as pd\n",
    "import numpy as np\n",
    "import mlflow\n",
    "import matplotlib.pyplot as plt\n"
   ]
  },
  {
   "cell_type": "markdown",
   "metadata": {
    "colab_type": "text",
    "id": "XJR7pdinnuHH"
   },
   "source": [
    "## 1. Retrieve Extracted Features"
   ]
  },
  {
   "cell_type": "code",
   "execution_count": 2,
   "metadata": {
    "colab": {},
    "colab_type": "code",
    "id": "oVel2LKmwSb9"
   },
   "outputs": [
    {
     "name": "stderr",
     "output_type": "stream",
     "text": [
      "/home/mila/g/gauthies/.conda/envs/ultra/lib/python3.7/site-packages/ipykernel/ipkernel.py:287: DeprecationWarning: `should_run_async` will not call `transform_cell` automatically in the future. Please pass the result to `transformed_cell` argument and any exception that happen during thetransform in `preprocessing_exc_tuple` in IPython 7.17 and above.\n",
      "  and should_run_async(code)\n"
     ]
    }
   ],
   "source": [
    "with open('../data/03_features/inception_dict_tensor_avg_pooling.pickle', 'rb') as handle:\n",
    "    features_dict = pickle.load(handle)\n",
    "    df_features = features_dict ['features']\n"
   ]
  },
  {
   "cell_type": "markdown",
   "metadata": {},
   "source": [
    "# 2. Cross Validation using SVM Classification\n",
    "\n",
    "> Methods that exclude outliers were used to normalize the features. Patient-specific leave-one-out cross-validation (LOOCV) was applied to evaluate the classification. In each case, the test set consisted of10 images from the same patient and the training set contained 540 images from the remaining 54 patients. For each training set, fivefold cross-validation and grid search were applied to indicate the optimal SVM classifier hyperparameters and the best kernel. To address the problem of class imbalance, the SVM hyperparameter C of each class was adjusted inversely proportional to that class frequency in the training set. Label 1 indicated the image containing a fatty liver and label −1 otherwise. \n"
   ]
  },
  {
   "cell_type": "code",
   "execution_count": 3,
   "metadata": {},
   "outputs": [],
   "source": [
    "# Set the parameters by cross-validation\n",
    "param_gamma = [1e-3, 1e-4]\n",
    "param_C = [1, 10, 1000] \n",
    "svm_class_weight = [None, 'balanced']\n",
    "rbf_params = list(product(['kernel'],param_gamma, param_C, svm_class_weight ))\n",
    "linear_params = list(product(['linear'],param_C, svm_class_weight))\n",
    "params = rbf_params + linear_params"
   ]
  },
  {
   "cell_type": "code",
   "execution_count": 4,
   "metadata": {},
   "outputs": [],
   "source": [
    "def train_valid(param, X_train,X_valid,y_train, y_valid):\n",
    "    if param[0] == 'kernel': \n",
    "        #The “balanced” mode uses the values of y to automatically adjust weights inversely\n",
    "        #proportional to class frequencies in the input data as n_samples / (n_classes * np.bincount(y)).\n",
    "        model = SVC(gamma=param[1], C=param[2], class_weight= param[3])\n",
    "    if param[0] == 'linear': \n",
    "        #The “balanced” mode uses the values of y to automatically adjust weights inversely\n",
    "        #proportional to class frequencies in the input data as n_samples / (n_classes * np.bincount(y)).\n",
    "        model = LinearSVC(C=param[1], class_weight= param[2])\n",
    "\n",
    "    model.fit(X_train, y_train)\n",
    "    predictions = model.predict(X_valid)\n",
    "    acc, auc, specificity, sensitivity = get_metrics(y_valid, predictions)\n",
    "    return acc, auc, specificity, sensitivity , predictions\n"
   ]
  },
  {
   "cell_type": "code",
   "execution_count": 5,
   "metadata": {},
   "outputs": [],
   "source": [
    "def log_val_metrics(params, metrics, test_n_splits):\n",
    "    mlflow.set_experiment('val_inception_avg_pooling_svm_experiment')\n",
    "    # log mlflow params\n",
    "    for param in params:\n",
    "        with mlflow.start_run():\n",
    "            #log params\n",
    "            mlflow.log_param('pca_n',pca_n_components)\n",
    "            mlflow.log_param('model',f'svm: {param[0]}')\n",
    "            mlflow.log_param('test K fold', test_n_splits)\n",
    "            if param[0] == 'kernel':\n",
    "                mlflow.log_param('gamma',param[1])\n",
    "                mlflow.log_param('C',param[2])\n",
    "                mlflow.log_param('class weight svm', param[3])\n",
    "            if param[0] == 'linear': \n",
    "                mlflow.log_param('C',param[1])\n",
    "                mlflow.log_param('class weight svm', param[2])\n",
    "            #log metrics\n",
    "            mlflow.log_metric('accuracy',np.array(metrics[str(param)]['acc']).mean())\n",
    "            mlflow.log_metric('AUC',np.array(metrics[str(param)]['auc']).mean())\n",
    "            mlflow.log_metric('specificity',np.array(metrics[str(param)]['specificity']).mean())\n",
    "            mlflow.log_metric('sensitivity',np.array(metrics[str(param)]['sensitivity']).mean())\n",
    "    print(\"Done logging validation params in MLFlow\")"
   ]
  },
  {
   "cell_type": "code",
   "execution_count": null,
   "metadata": {},
   "outputs": [
    {
     "name": "stderr",
     "output_type": "stream",
     "text": [
      "/home/mila/g/gauthies/.conda/envs/ultra/lib/python3.7/site-packages/ipykernel/ipkernel.py:287: DeprecationWarning: `should_run_async` will not call `transform_cell` automatically in the future. Please pass the result to `transformed_cell` argument and any exception that happen during thetransform in `preprocessing_exc_tuple` in IPython 7.17 and above.\n",
      "  and should_run_async(code)\n",
      "100%|██████████| 18/18 [00:05<00:00,  3.03it/s]\n",
      "100%|██████████| 18/18 [00:05<00:00,  3.37it/s]\n",
      "100%|██████████| 18/18 [00:05<00:00,  3.49it/s]\n",
      "100%|██████████| 18/18 [00:05<00:00,  3.18it/s]\n",
      "100%|██████████| 18/18 [00:05<00:00,  3.22it/s]\n",
      "  0%|          | 0/18 [00:00<?, ?it/s]"
     ]
    },
    {
     "name": "stdout",
     "output_type": "stream",
     "text": [
      "Done logging validation params in MLFlow\n",
      "From all the combinations, the highest accuracy was achieved with ('kernel', 0.001, 10, None)\n",
      "FOLD 1:  acc 1.0, auc 1.0, specificity 1.0, sensitivity 1.0\n",
      "FOLD 1:  MV acc 1.0, MV auc 1.0, MV specificity 1.0, MV sensitivity 1.0\n"
     ]
    },
    {
     "name": "stderr",
     "output_type": "stream",
     "text": [
      "100%|██████████| 18/18 [00:05<00:00,  3.26it/s]\n",
      "100%|██████████| 18/18 [00:05<00:00,  3.16it/s]\n",
      "100%|██████████| 18/18 [00:05<00:00,  3.32it/s]\n",
      "100%|██████████| 18/18 [00:05<00:00,  3.30it/s]\n",
      "100%|██████████| 18/18 [00:05<00:00,  3.55it/s]\n"
     ]
    },
    {
     "name": "stdout",
     "output_type": "stream",
     "text": [
      "Done logging validation params in MLFlow\n",
      "From all the combinations, the highest accuracy was achieved with ('kernel', 0.001, 1, 'balanced')\n"
     ]
    },
    {
     "name": "stderr",
     "output_type": "stream",
     "text": [
      "  0%|          | 0/18 [00:00<?, ?it/s]"
     ]
    },
    {
     "name": "stdout",
     "output_type": "stream",
     "text": [
      "FOLD 2:  acc 0.94, auc 0.9500000000000001, specificity 0.9, sensitivity 1.0\n",
      "FOLD 2:  MV acc 1.0, MV auc 1.0, MV specificity 1.0, MV sensitivity 1.0\n"
     ]
    },
    {
     "name": "stderr",
     "output_type": "stream",
     "text": [
      "100%|██████████| 18/18 [00:05<00:00,  3.25it/s]\n",
      "100%|██████████| 18/18 [00:05<00:00,  3.59it/s]\n",
      "100%|██████████| 18/18 [00:05<00:00,  3.36it/s]\n",
      "100%|██████████| 18/18 [00:05<00:00,  3.42it/s]\n",
      "100%|██████████| 18/18 [00:04<00:00,  3.73it/s]\n"
     ]
    },
    {
     "name": "stdout",
     "output_type": "stream",
     "text": [
      "Done logging validation params in MLFlow\n",
      "From all the combinations, the highest accuracy was achieved with ('kernel', 0.001, 10, None)\n"
     ]
    },
    {
     "name": "stderr",
     "output_type": "stream",
     "text": [
      "  0%|          | 0/18 [00:00<?, ?it/s]"
     ]
    },
    {
     "name": "stdout",
     "output_type": "stream",
     "text": [
      "FOLD 3:  acc 0.66, auc 0.6333333333333333, specificity 0.5, sensitivity 0.7666666666666667\n",
      "FOLD 3:  MV acc 0.6, MV auc 0.5833333333333333, MV specificity 0.5, MV sensitivity 0.6666666666666666\n"
     ]
    },
    {
     "name": "stderr",
     "output_type": "stream",
     "text": [
      "100%|██████████| 18/18 [00:05<00:00,  3.34it/s]\n",
      "100%|██████████| 18/18 [00:05<00:00,  3.45it/s]\n",
      "100%|██████████| 18/18 [00:05<00:00,  3.46it/s]\n",
      "100%|██████████| 18/18 [00:06<00:00,  2.95it/s]\n",
      "100%|██████████| 18/18 [00:05<00:00,  3.36it/s]\n",
      "  0%|          | 0/18 [00:00<?, ?it/s]"
     ]
    },
    {
     "name": "stdout",
     "output_type": "stream",
     "text": [
      "Done logging validation params in MLFlow\n",
      "From all the combinations, the highest accuracy was achieved with ('kernel', 0.001, 10, None)\n",
      "FOLD 4:  acc 0.74, auc 0.4625, specificity 0.0, sensitivity 0.925\n",
      "FOLD 4:  MV acc 0.8, MV auc 0.5, MV specificity 0.0, MV sensitivity 1.0\n"
     ]
    },
    {
     "name": "stderr",
     "output_type": "stream",
     "text": [
      "100%|██████████| 18/18 [00:06<00:00,  2.96it/s]\n",
      "100%|██████████| 18/18 [00:04<00:00,  3.67it/s]\n",
      "100%|██████████| 18/18 [00:05<00:00,  3.40it/s]\n",
      "100%|██████████| 18/18 [00:05<00:00,  3.43it/s]\n",
      "100%|██████████| 18/18 [00:05<00:00,  3.22it/s]\n"
     ]
    },
    {
     "name": "stdout",
     "output_type": "stream",
     "text": [
      "Done logging validation params in MLFlow\n",
      "From all the combinations, the highest accuracy was achieved with ('kernel', 0.001, 10, None)\n",
      "FOLD 5:  acc 0.86, auc 0.875, specificity 0.9, sensitivity 0.85\n",
      "FOLD 5:  MV acc 0.8, MV auc 0.875, MV specificity 1.0, MV sensitivity 0.75\n"
     ]
    },
    {
     "name": "stderr",
     "output_type": "stream",
     "text": [
      "100%|██████████| 18/18 [00:05<00:00,  3.38it/s]\n",
      "100%|██████████| 18/18 [00:05<00:00,  3.29it/s]\n",
      "100%|██████████| 18/18 [00:05<00:00,  3.57it/s]\n",
      "100%|██████████| 18/18 [00:05<00:00,  3.59it/s]\n",
      "100%|██████████| 18/18 [00:06<00:00,  2.89it/s]\n"
     ]
    },
    {
     "name": "stdout",
     "output_type": "stream",
     "text": [
      "Done logging validation params in MLFlow\n",
      "From all the combinations, the highest accuracy was achieved with ('kernel', 0.001, 10, None)\n"
     ]
    },
    {
     "name": "stderr",
     "output_type": "stream",
     "text": [
      "  0%|          | 0/18 [00:00<?, ?it/s]"
     ]
    },
    {
     "name": "stdout",
     "output_type": "stream",
     "text": [
      "FOLD 6:  acc 0.82, auc 0.5874999999999999, specificity 0.2, sensitivity 0.975\n",
      "FOLD 6:  MV acc 0.8, MV auc 0.5, MV specificity 0.0, MV sensitivity 1.0\n"
     ]
    },
    {
     "name": "stderr",
     "output_type": "stream",
     "text": [
      "100%|██████████| 18/18 [00:05<00:00,  3.21it/s]\n",
      "100%|██████████| 18/18 [00:05<00:00,  3.19it/s]\n",
      "100%|██████████| 18/18 [00:04<00:00,  3.72it/s]\n",
      "100%|██████████| 18/18 [00:04<00:00,  3.77it/s]\n",
      "100%|██████████| 18/18 [00:05<00:00,  3.09it/s]\n"
     ]
    },
    {
     "name": "stdout",
     "output_type": "stream",
     "text": [
      "Done logging validation params in MLFlow\n",
      "From all the combinations, the highest accuracy was achieved with ('kernel', 0.001, 10, None)\n"
     ]
    },
    {
     "name": "stderr",
     "output_type": "stream",
     "text": [
      "  0%|          | 0/18 [00:00<?, ?it/s]"
     ]
    },
    {
     "name": "stdout",
     "output_type": "stream",
     "text": [
      "FOLD 7:  acc 0.7, auc 0.4375, specificity 0.0, sensitivity 0.875\n",
      "FOLD 7:  MV acc 0.8, MV auc 0.5, MV specificity 0.0, MV sensitivity 1.0\n"
     ]
    },
    {
     "name": "stderr",
     "output_type": "stream",
     "text": [
      "100%|██████████| 18/18 [00:06<00:00,  2.96it/s]\n",
      "100%|██████████| 18/18 [00:05<00:00,  3.16it/s]\n",
      "100%|██████████| 18/18 [00:05<00:00,  3.56it/s]\n",
      "100%|██████████| 18/18 [00:04<00:00,  4.01it/s]\n",
      "100%|██████████| 18/18 [00:05<00:00,  3.15it/s]\n"
     ]
    },
    {
     "name": "stdout",
     "output_type": "stream",
     "text": [
      "Done logging validation params in MLFlow\n",
      "From all the combinations, the highest accuracy was achieved with ('kernel', 0.001, 10, None)\n",
      "FOLD 8:  acc 0.94, auc 0.9625, specificity 1.0, sensitivity 0.925\n",
      "FOLD 8:  MV acc 1.0, MV auc 1.0, MV specificity 1.0, MV sensitivity 1.0\n"
     ]
    },
    {
     "name": "stderr",
     "output_type": "stream",
     "text": [
      "100%|██████████| 18/18 [00:05<00:00,  3.33it/s]\n",
      "100%|██████████| 18/18 [00:04<00:00,  3.62it/s]\n",
      "100%|██████████| 18/18 [00:03<00:00,  4.64it/s]\n",
      "100%|██████████| 18/18 [00:03<00:00,  5.02it/s]\n",
      "100%|██████████| 18/18 [00:04<00:00,  4.50it/s]\n"
     ]
    },
    {
     "name": "stdout",
     "output_type": "stream",
     "text": [
      "Done logging validation params in MLFlow\n",
      "From all the combinations, the highest accuracy was achieved with ('kernel', 0.001, 10, None)\n",
      "FOLD 9:  acc 0.76, auc 0.8125000000000001, specificity 0.9, sensitivity 0.725\n",
      "FOLD 9:  MV acc 0.8, MV auc 0.875, MV specificity 1.0, MV sensitivity 0.75\n"
     ]
    },
    {
     "name": "stderr",
     "output_type": "stream",
     "text": [
      "100%|██████████| 18/18 [00:05<00:00,  3.58it/s]\n",
      "100%|██████████| 18/18 [00:05<00:00,  3.55it/s]\n",
      "100%|██████████| 18/18 [00:04<00:00,  3.70it/s]\n",
      "100%|██████████| 18/18 [00:04<00:00,  3.93it/s]\n",
      "100%|██████████| 18/18 [00:05<00:00,  3.47it/s]\n",
      "  0%|          | 0/18 [00:00<?, ?it/s]"
     ]
    },
    {
     "name": "stdout",
     "output_type": "stream",
     "text": [
      "Done logging validation params in MLFlow\n",
      "From all the combinations, the highest accuracy was achieved with ('kernel', 0.001, 10, None)\n",
      "FOLD 10:  acc 0.62, auc 0.425, specificity 0.1, sensitivity 0.75\n",
      "FOLD 10:  MV acc 0.6, MV auc 0.375, MV specificity 0.0, MV sensitivity 0.75\n"
     ]
    },
    {
     "name": "stderr",
     "output_type": "stream",
     "text": [
      "100%|██████████| 18/18 [00:05<00:00,  3.28it/s]\n",
      "100%|██████████| 18/18 [00:05<00:00,  3.10it/s]\n",
      "100%|██████████| 18/18 [00:05<00:00,  3.47it/s]\n",
      "100%|██████████| 18/18 [00:05<00:00,  3.28it/s]\n",
      "100%|██████████| 18/18 [00:04<00:00,  3.70it/s]\n"
     ]
    }
   ],
   "source": [
    "df = df_features\n",
    "pca_n_components = None\n",
    "standardize = True\n",
    "test_metrics={}  \n",
    "#majority vote results\n",
    "test_metrics_mv={}    \n",
    "test_n_splits = 55\n",
    "group_kfold_test = GroupKFold(n_splits=test_n_splits)\n",
    "seed= 42\n",
    "df_pid = df['id']\n",
    "df_y = df['labels']\n",
    "fold_c =1 \n",
    "\n",
    "for train_index, test_index in group_kfold_test.split(df, \n",
    "                                                  df_y, \n",
    "                                                  df_pid):\n",
    "    random.seed(seed)\n",
    "    random.shuffle(train_index)\n",
    "    X_train, X_test = df.iloc[train_index], df.iloc[test_index]\n",
    "    y_train, y_test = df_y.iloc[train_index], df_y.iloc[test_index]\n",
    "    \n",
    "    X_test = X_test.drop(columns=['id', 'labels'])\n",
    "    X_train_pid = X_train.pop('id')\n",
    "    X_train = X_train.drop(columns=['labels'])\n",
    "    \n",
    "    # Do cross-validation for hyperparam tuning\n",
    "    group_kfold_val = GroupKFold(n_splits=5)\n",
    "    metrics={}\n",
    "    #X_train_y = df.pop('class')\n",
    "    for subtrain_index, valid_index in group_kfold_val.split(X_train, \n",
    "                                                      y_train, \n",
    "                                                      X_train_pid):\n",
    "                                   \n",
    "        X_subtrain, X_valid = X_train.iloc[subtrain_index], X_train.iloc[valid_index]\n",
    "        y_subtrain, y_valid = y_train.iloc[subtrain_index], y_train.iloc[valid_index]\n",
    "\n",
    "        for param in tqdm(params):\n",
    "            if str(param) not in metrics.keys() :\n",
    "                metrics[str(param)] ={'acc':[], 'auc':[], 'sensitivity':[], 'specificity':[]}\n",
    "                                   \n",
    "            acc, auc, specificity, sensitivity,_ = train_valid(param, X_subtrain,X_valid,y_subtrain, y_valid)\n",
    "            metrics[str(param)]['auc'].append(auc)\n",
    "            metrics[str(param)]['acc'].append(acc)\n",
    "            metrics[str(param)]['sensitivity'].append(sensitivity)\n",
    "            metrics[str(param)]['specificity'].append(specificity)\n",
    "    #log validation metrics for all combination of params\n",
    "    log_val_metrics(params, metrics, test_n_splits)\n",
    "    \n",
    "    #highest accuracy\n",
    "    index_param_max = np.array([np.array(metrics[str(param)]['auc']).mean() for param in params]).argmax()\n",
    "    print('From all the combinations, the highest accuracy was achieved with', params[index_param_max])\n",
    "\n",
    "    #standardize\n",
    "    if standardize:\n",
    "        scaler = StandardScaler()\n",
    "        X_train = scaler.fit_transform(X_train)\n",
    "        X_test = scaler.transform(X_test)\n",
    "\n",
    "    acc, auc, specificity, sensitivity, predictions = train_valid(params[index_param_max], X_train, X_test, y_train, y_test)\n",
    "    \n",
    "    #compute majority vote metrics\n",
    "    acc_mv, auc_mv, specificity_mv, sensitivity_mv = get_majority_vote(y_test, predictions)\n",
    "    \n",
    "    print('FOLD '+ str(fold_c) + ':  acc ' + str(acc) +  ', auc ' +  str(auc) +  ', specificity '+ str(specificity)\n",
    "          + ', sensitivity ' + str(sensitivity))\n",
    "    print('FOLD '+ str(fold_c) + ':  MV acc ' + str(acc_mv) +  ', MV auc ' +  str(auc_mv) +  ', MV specificity '+ str(specificity_mv)\n",
    "          + ', MV sensitivity ' + str(sensitivity_mv))\n",
    "    \n",
    "    test_metrics[fold_c]=  {'acc':acc, 'auc':auc, 'sensitivity':sensitivity, 'specificity':specificity, 'param':params[index_param_max]}\n",
    "    test_metrics_mv[fold_c]=  {'acc':acc_mv, 'auc':auc_mv, 'sensitivity':sensitivity_mv, 'specificity':specificity_mv, 'param':params[index_param_max]}\n",
    "    \n",
    "    fold_c +=1 \n",
    "\n",
    "log_test_metrics(test_metrics, test_metrics_mv, test_n_splits, 'AVG Pooling Inception features + SVM', seed)\n"
   ]
  },
  {
   "cell_type": "markdown",
   "metadata": {},
   "source": [
    "# Analyzing PCA\n",
    "Features have been extracted using Inceptionresnetv2\n"
   ]
  },
  {
   "cell_type": "code",
   "execution_count": 4,
   "metadata": {},
   "outputs": [],
   "source": [
    "df_train, df_test = train_test_split(df_features)\n",
    "pca = PCA(n_components=50)           \n",
    "data = pca.fit_transform(df_train)"
   ]
  },
  {
   "cell_type": "code",
   "execution_count": 5,
   "metadata": {},
   "outputs": [
    {
     "name": "stderr",
     "output_type": "stream",
     "text": [
      "/home/mila/g/gauthies/.conda/envs/ultra/lib/python3.7/site-packages/ipykernel/ipkernel.py:287: DeprecationWarning: `should_run_async` will not call `transform_cell` automatically in the future. Please pass the result to `transformed_cell` argument and any exception that happen during thetransform in `preprocessing_exc_tuple` in IPython 7.17 and above.\n",
      "  and should_run_async(code)\n"
     ]
    },
    {
     "data": {
      "image/png": "[encoded data removed]",
      "text/plain": [
       "<Figure size 432x288 with 1 Axes>"
      ]
     },
     "metadata": {
      "needs_background": "light"
     },
     "output_type": "display_data"
    }
   ],
   "source": [
    "plt.plot(np.insert(pca.explained_variance_ratio_.cumsum(),0,0),marker='o')\n",
    "plt.xlabel('Number of components')\n",
    "plt.ylabel('Cumulative explained variance')\n",
    "plt.show()"
   ]
  },
  {
   "cell_type": "code",
   "execution_count": 6,
   "metadata": {},
   "outputs": [
    {
     "name": "stdout",
     "output_type": "stream",
     "text": [
      "[0.3430633  0.49105203 0.55692321 0.60229875 0.63228666 0.65275144\n",
      " 0.6713053  0.68744978 0.7027996  0.71459909 0.72563718 0.73518933\n",
      " 0.74390688 0.75191367 0.75894645 0.76579792 0.77245627 0.77844684\n",
      " 0.7841555  0.78950661 0.79475947 0.79960549 0.80427064 0.80868848\n",
      " 0.81296554 0.81693465 0.82080257 0.82444982 0.82796023 0.83132771\n",
      " 0.83445774 0.83744767 0.84030821 0.84304424 0.84563005 0.84811584\n",
      " 0.85056981 0.85289526 0.8551713  0.85740261 0.85958179 0.86172626\n",
      " 0.86371904 0.86559859 0.86739478 0.86911176 0.87082238 0.87247056\n",
      " 0.8740866  0.87563764]\n"
     ]
    },
    {
     "name": "stderr",
     "output_type": "stream",
     "text": [
      "/home/mila/g/gauthies/.conda/envs/ultra/lib/python3.7/site-packages/ipykernel/ipkernel.py:287: DeprecationWarning: `should_run_async` will not call `transform_cell` automatically in the future. Please pass the result to `transformed_cell` argument and any exception that happen during thetransform in `preprocessing_exc_tuple` in IPython 7.17 and above.\n",
      "  and should_run_async(code)\n"
     ]
    }
   ],
   "source": [
    "print(pca.explained_variance_ratio_.cumsum())"
   ]
  },
  {
   "cell_type": "code",
   "execution_count": null,
   "metadata": {},
   "outputs": [],
   "source": []
  }
 ],
 "metadata": {
  "accelerator": "GPU",
  "colab": {
   "collapsed_sections": [],
   "name": "Transfer learning with deep convolutional neural network for liver steatosis assessment in ultrasound images Reproducibility with Scatterin.ipynb",
   "provenance": [],
   "toc_visible": true
  },
  "kernelspec": {
   "display_name": "Python 3 (ultra)",
   "language": "python",
   "name": "ultra"
  },
  "language_info": {
   "codemirror_mode": {
    "name": "ipython",
    "version": 3
   },
   "file_extension": ".py",
   "mimetype": "text/x-python",
   "name": "python",
   "nbconvert_exporter": "python",
   "pygments_lexer": "ipython3",
   "version": "3.7.0"
  }
 },
 "nbformat": 4,
 "nbformat_minor": 4
}
