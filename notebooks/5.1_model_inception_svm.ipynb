{
 "cells": [
  {
   "cell_type": "markdown",
   "metadata": {
    "colab_type": "text",
    "id": "ENoS3mTtGQts"
   },
   "source": [
    "# Experiment 5.1 - Features extracted using Inception Resnet v2 + SVM \n",
    "\n",
    "Reproduce Results of [Transfer learning with deep convolutional neural network for liver steatosis assessment in ultrasound images](https://pubmed.ncbi.nlm.nih.gov/30094778/). We used a pre-trained CNN to extract features based on B-mode images. \n",
    "\n",
    "The CNNfeatures are extracted using the pretrained Inception-Resnet-v2 implemented in Keras.\n",
    "See reference: https://jkjung-avt.github.io/keras-inceptionresnetv2/\n",
    "\n",
    "![Screen Shot 2020-10-12 at 2 57 22 PM](https://user-images.githubusercontent.com/23482039/95781182-47437700-0c9b-11eb-8826-594811ba3322.png)\n",
    "\n",
    "\n",
    "\n",
    "\n",
    "\n"
   ]
  },
  {
   "cell_type": "code",
   "execution_count": 1,
   "metadata": {
    "colab": {},
    "colab_type": "code",
    "id": "ptO9fUvkD-Lc"
   },
   "outputs": [],
   "source": [
    "import sys\n",
    "import random\n",
    "sys.path.append('../src')\n",
    "import warnings\n",
    "warnings.filterwarnings(\"ignore\") \n",
    "\n",
    "from utils.compute_metrics import get_metrics, get_majority_vote,log_test_metrics\n",
    "from utils.split import train_test_split\n",
    "from sklearn.preprocessing import StandardScaler\n",
    "from sklearn.decomposition import PCA\n",
    "from sklearn.svm import LinearSVC\n",
    "from sklearn.svm import SVC\n",
    "from sklearn.model_selection import GroupKFold\n",
    "from tqdm import tqdm\n",
    "from pprint import pprint\n",
    "\n",
    "from itertools import product\n",
    "import pickle\n",
    "import pandas as pd\n",
    "import numpy as np\n",
    "import mlflow\n",
    "import matplotlib.pyplot as plt\n"
   ]
  },
  {
   "cell_type": "markdown",
   "metadata": {
    "colab_type": "text",
    "id": "XJR7pdinnuHH"
   },
   "source": [
    "## 1. Retrieve Extracted Features"
   ]
  },
  {
   "cell_type": "code",
   "execution_count": 2,
   "metadata": {
    "colab": {},
    "colab_type": "code",
    "id": "oVel2LKmwSb9"
   },
   "outputs": [
    {
     "name": "stderr",
     "output_type": "stream",
     "text": [
      "/home/mila/g/gauthies/.conda/envs/ultra/lib/python3.7/site-packages/ipykernel/ipkernel.py:287: DeprecationWarning: `should_run_async` will not call `transform_cell` automatically in the future. Please pass the result to `transformed_cell` argument and any exception that happen during thetransform in `preprocessing_exc_tuple` in IPython 7.17 and above.\n",
      "  and should_run_async(code)\n"
     ]
    }
   ],
   "source": [
    "with open('../data/03_features/inception_dict_tensor_avg_pooling.pickle', 'rb') as handle:\n",
    "    features_dict = pickle.load(handle)\n",
    "    df_features = features_dict ['features']\n"
   ]
  },
  {
   "cell_type": "markdown",
   "metadata": {},
   "source": [
    "# 2. Cross Validation using SVM Classification\n",
    "\n",
    "> Methods that exclude outliers were used to normalize the features. Patient-specific leave-one-out cross-validation (LOOCV) was applied to evaluate the classification. In each case, the test set consisted of10 images from the same patient and the training set contained 540 images from the remaining 54 patients. For each training set, fivefold cross-validation and grid search were applied to indicate the optimal SVM classifier hyperparameters and the best kernel. To address the problem of class imbalance, the SVM hyperparameter C of each class was adjusted inversely proportional to that class frequency in the training set. Label 1 indicated the image containing a fatty liver and label −1 otherwise. \n"
   ]
  },
  {
   "cell_type": "code",
   "execution_count": 3,
   "metadata": {},
   "outputs": [],
   "source": [
    "# Set the parameters by cross-validation\n",
    "param_gamma = [1e-3, 1e-4]\n",
    "param_C = [1, 10, 1000] \n",
    "svm_class_weight = [None, 'balanced']\n",
    "rbf_params = list(product(['kernel'],param_gamma, param_C, svm_class_weight ))\n",
    "linear_params = list(product(['linear'],param_C, svm_class_weight))\n",
    "params = rbf_params + linear_params"
   ]
  },
  {
   "cell_type": "code",
   "execution_count": 4,
   "metadata": {},
   "outputs": [],
   "source": [
    "def train_valid(param, X_train,X_valid,y_train, y_valid):\n",
    "    if param[0] == 'kernel': \n",
    "        #The “balanced” mode uses the values of y to automatically adjust weights inversely\n",
    "        #proportional to class frequencies in the input data as n_samples / (n_classes * np.bincount(y)).\n",
    "        model = SVC(gamma=param[1], C=param[2], class_weight= param[3])\n",
    "    if param[0] == 'linear': \n",
    "        #The “balanced” mode uses the values of y to automatically adjust weights inversely\n",
    "        #proportional to class frequencies in the input data as n_samples / (n_classes * np.bincount(y)).\n",
    "        model = LinearSVC(C=param[1], class_weight= param[2])\n",
    "\n",
    "    model.fit(X_train, y_train)\n",
    "    predictions = model.predict(X_valid)\n",
    "    acc, auc, specificity, sensitivity = get_metrics(y_valid, predictions)\n",
    "    return acc, auc, specificity, sensitivity , predictions\n"
   ]
  },
  {
   "cell_type": "code",
   "execution_count": 5,
   "metadata": {},
   "outputs": [],
   "source": [
    "def log_val_metrics(params, metrics, test_n_splits):\n",
    "    mlflow.set_experiment('val_inception_avg_pooling_svm_experiment')\n",
    "    # log mlflow params\n",
    "    for param in params:\n",
    "        with mlflow.start_run():\n",
    "            #log params\n",
    "            mlflow.log_param('pca_n',pca_n_components)\n",
    "            mlflow.log_param('model',f'svm: {param[0]}')\n",
    "            mlflow.log_param('test K fold', test_n_splits)\n",
    "            if param[0] == 'kernel':\n",
    "                mlflow.log_param('gamma',param[1])\n",
    "                mlflow.log_param('C',param[2])\n",
    "                mlflow.log_param('class weight svm', param[3])\n",
    "            if param[0] == 'linear': \n",
    "                mlflow.log_param('C',param[1])\n",
    "                mlflow.log_param('class weight svm', param[2])\n",
    "            #log metrics\n",
    "            mlflow.log_metric('accuracy',np.array(metrics[str(param)]['acc']).mean())\n",
    "            mlflow.log_metric('AUC',np.array(metrics[str(param)]['auc']).mean())\n",
    "            mlflow.log_metric('specificity',np.array(metrics[str(param)]['specificity']).mean())\n",
    "            mlflow.log_metric('sensitivity',np.array(metrics[str(param)]['sensitivity']).mean())\n",
    "    print(\"Done logging validation params in MLFlow\")"
   ]
  },
  {
   "cell_type": "code",
   "execution_count": null,
   "metadata": {},
   "outputs": [
    {
     "name": "stderr",
     "output_type": "stream",
     "text": [
      "100%|██████████| 18/18 [00:06<00:00,  2.83it/s]\n",
      "100%|██████████| 18/18 [00:06<00:00,  2.67it/s]\n",
      "100%|██████████| 18/18 [00:07<00:00,  2.36it/s]\n",
      "100%|██████████| 18/18 [00:07<00:00,  2.50it/s]\n",
      "100%|██████████| 18/18 [00:06<00:00,  2.60it/s]\n"
     ]
    },
    {
     "name": "stdout",
     "output_type": "stream",
     "text": [
      "INFO: 'val_inception_avg_pooling_svm_experiment' does not exist. Creating a new experiment\n",
      "Done logging validation params in MLFlow\n",
      "From all the combinations, the highest accuracy was achieved with ('kernel', 0.0001, 10, 'balanced')\n"
     ]
    },
    {
     "name": "stderr",
     "output_type": "stream",
     "text": [
      "  0%|          | 0/18 [00:00<?, ?it/s]"
     ]
    },
    {
     "name": "stdout",
     "output_type": "stream",
     "text": [
      "FOLD 1:  acc 1.0, auc 1.0, specificity nan, sensitivity 1.0\n",
      "FOLD 1:  MV acc 1.0, MV auc 1.0, MV specificity nan, MV sensitivity 1.0\n"
     ]
    },
    {
     "name": "stderr",
     "output_type": "stream",
     "text": [
      "100%|██████████| 18/18 [00:06<00:00,  2.78it/s]\n",
      "100%|██████████| 18/18 [00:07<00:00,  2.52it/s]\n",
      "100%|██████████| 18/18 [00:07<00:00,  2.55it/s]\n",
      "100%|██████████| 18/18 [00:06<00:00,  2.66it/s]\n",
      "100%|██████████| 18/18 [00:07<00:00,  2.48it/s]\n"
     ]
    },
    {
     "name": "stdout",
     "output_type": "stream",
     "text": [
      "Done logging validation params in MLFlow\n",
      "From all the combinations, the highest accuracy was achieved with ('kernel', 0.001, 10, 'balanced')\n"
     ]
    },
    {
     "name": "stderr",
     "output_type": "stream",
     "text": [
      "  0%|          | 0/18 [00:00<?, ?it/s]"
     ]
    },
    {
     "name": "stdout",
     "output_type": "stream",
     "text": [
      "FOLD 2:  acc 0.1, auc 0.1, specificity 0.1, sensitivity nan\n",
      "FOLD 2:  MV acc 0.0, MV auc 0.0, MV specificity 0.0, MV sensitivity nan\n"
     ]
    },
    {
     "name": "stderr",
     "output_type": "stream",
     "text": [
      "100%|██████████| 18/18 [00:06<00:00,  2.80it/s]\n",
      "100%|██████████| 18/18 [00:07<00:00,  2.33it/s]\n",
      "100%|██████████| 18/18 [00:07<00:00,  2.40it/s]\n",
      "100%|██████████| 18/18 [00:06<00:00,  2.69it/s]\n",
      "100%|██████████| 18/18 [00:07<00:00,  2.47it/s]\n"
     ]
    },
    {
     "name": "stdout",
     "output_type": "stream",
     "text": [
      "Done logging validation params in MLFlow\n",
      "From all the combinations, the highest accuracy was achieved with ('kernel', 0.001, 10, 'balanced')\n"
     ]
    },
    {
     "name": "stderr",
     "output_type": "stream",
     "text": [
      "  0%|          | 0/18 [00:00<?, ?it/s]"
     ]
    },
    {
     "name": "stdout",
     "output_type": "stream",
     "text": [
      "FOLD 3:  acc 0.8, auc 0.8, specificity nan, sensitivity 0.8\n",
      "FOLD 3:  MV acc 1.0, MV auc 1.0, MV specificity nan, MV sensitivity 1.0\n"
     ]
    },
    {
     "name": "stderr",
     "output_type": "stream",
     "text": [
      "100%|██████████| 18/18 [00:06<00:00,  2.79it/s]\n",
      "100%|██████████| 18/18 [00:07<00:00,  2.33it/s]\n",
      "100%|██████████| 18/18 [00:07<00:00,  2.42it/s]\n",
      "100%|██████████| 18/18 [00:06<00:00,  2.72it/s]\n",
      "100%|██████████| 18/18 [00:07<00:00,  2.41it/s]\n"
     ]
    },
    {
     "name": "stdout",
     "output_type": "stream",
     "text": [
      "Done logging validation params in MLFlow\n",
      "From all the combinations, the highest accuracy was achieved with ('linear', 1, 'balanced')\n"
     ]
    },
    {
     "name": "stderr",
     "output_type": "stream",
     "text": [
      "  0%|          | 0/18 [00:00<?, ?it/s]"
     ]
    },
    {
     "name": "stdout",
     "output_type": "stream",
     "text": [
      "FOLD 4:  acc 1.0, auc 1.0, specificity nan, sensitivity 1.0\n",
      "FOLD 4:  MV acc 1.0, MV auc 1.0, MV specificity nan, MV sensitivity 1.0\n"
     ]
    },
    {
     "name": "stderr",
     "output_type": "stream",
     "text": [
      "100%|██████████| 18/18 [00:06<00:00,  2.75it/s]\n",
      "100%|██████████| 18/18 [00:07<00:00,  2.37it/s]\n",
      "100%|██████████| 18/18 [00:07<00:00,  2.47it/s]\n",
      "100%|██████████| 18/18 [00:06<00:00,  2.64it/s]\n",
      "100%|██████████| 18/18 [00:07<00:00,  2.37it/s]\n"
     ]
    },
    {
     "name": "stdout",
     "output_type": "stream",
     "text": [
      "Done logging validation params in MLFlow\n",
      "From all the combinations, the highest accuracy was achieved with ('linear', 1, 'balanced')\n"
     ]
    },
    {
     "name": "stderr",
     "output_type": "stream",
     "text": [
      "  0%|          | 0/18 [00:00<?, ?it/s]"
     ]
    },
    {
     "name": "stdout",
     "output_type": "stream",
     "text": [
      "FOLD 5:  acc 1.0, auc 1.0, specificity nan, sensitivity 1.0\n",
      "FOLD 5:  MV acc 1.0, MV auc 1.0, MV specificity nan, MV sensitivity 1.0\n"
     ]
    },
    {
     "name": "stderr",
     "output_type": "stream",
     "text": [
      "100%|██████████| 18/18 [00:06<00:00,  2.74it/s]\n",
      "100%|██████████| 18/18 [00:07<00:00,  2.41it/s]\n",
      "100%|██████████| 18/18 [00:07<00:00,  2.49it/s]\n",
      "100%|██████████| 18/18 [00:06<00:00,  2.63it/s]\n",
      "100%|██████████| 18/18 [00:07<00:00,  2.45it/s]\n"
     ]
    },
    {
     "name": "stdout",
     "output_type": "stream",
     "text": [
      "Done logging validation params in MLFlow\n",
      "From all the combinations, the highest accuracy was achieved with ('kernel', 0.001, 10, 'balanced')\n"
     ]
    },
    {
     "name": "stderr",
     "output_type": "stream",
     "text": [
      "  0%|          | 0/18 [00:00<?, ?it/s]"
     ]
    },
    {
     "name": "stdout",
     "output_type": "stream",
     "text": [
      "FOLD 6:  acc 1.0, auc 1.0, specificity nan, sensitivity 1.0\n",
      "FOLD 6:  MV acc 1.0, MV auc 1.0, MV specificity nan, MV sensitivity 1.0\n"
     ]
    },
    {
     "name": "stderr",
     "output_type": "stream",
     "text": [
      "100%|██████████| 18/18 [00:06<00:00,  2.76it/s]\n",
      "100%|██████████| 18/18 [00:07<00:00,  2.42it/s]\n",
      "100%|██████████| 18/18 [00:07<00:00,  2.37it/s]\n",
      "100%|██████████| 18/18 [00:06<00:00,  2.66it/s]\n",
      "100%|██████████| 18/18 [00:07<00:00,  2.44it/s]\n"
     ]
    },
    {
     "name": "stdout",
     "output_type": "stream",
     "text": [
      "Done logging validation params in MLFlow\n",
      "From all the combinations, the highest accuracy was achieved with ('linear', 10, 'balanced')\n"
     ]
    },
    {
     "name": "stderr",
     "output_type": "stream",
     "text": [
      "  0%|          | 0/18 [00:00<?, ?it/s]"
     ]
    },
    {
     "name": "stdout",
     "output_type": "stream",
     "text": [
      "FOLD 7:  acc 0.9, auc 0.9, specificity nan, sensitivity 0.9\n",
      "FOLD 7:  MV acc 1.0, MV auc 1.0, MV specificity nan, MV sensitivity 1.0\n"
     ]
    },
    {
     "name": "stderr",
     "output_type": "stream",
     "text": [
      "100%|██████████| 18/18 [00:06<00:00,  2.76it/s]\n",
      "100%|██████████| 18/18 [00:07<00:00,  2.43it/s]\n",
      "100%|██████████| 18/18 [00:07<00:00,  2.48it/s]\n",
      "100%|██████████| 18/18 [00:06<00:00,  2.60it/s]\n",
      "100%|██████████| 18/18 [00:07<00:00,  2.46it/s]\n"
     ]
    },
    {
     "name": "stdout",
     "output_type": "stream",
     "text": [
      "Done logging validation params in MLFlow\n",
      "From all the combinations, the highest accuracy was achieved with ('kernel', 0.001, 1000, 'balanced')\n"
     ]
    },
    {
     "name": "stderr",
     "output_type": "stream",
     "text": [
      "  0%|          | 0/18 [00:00<?, ?it/s]"
     ]
    },
    {
     "name": "stdout",
     "output_type": "stream",
     "text": [
      "FOLD 8:  acc 1.0, auc 1.0, specificity nan, sensitivity 1.0\n",
      "FOLD 8:  MV acc 1.0, MV auc 1.0, MV specificity nan, MV sensitivity 1.0\n"
     ]
    },
    {
     "name": "stderr",
     "output_type": "stream",
     "text": [
      "100%|██████████| 18/18 [00:06<00:00,  2.74it/s]\n",
      "100%|██████████| 18/18 [00:07<00:00,  2.46it/s]\n",
      "100%|██████████| 18/18 [00:07<00:00,  2.47it/s]\n",
      "100%|██████████| 18/18 [00:06<00:00,  2.76it/s]\n",
      "100%|██████████| 18/18 [00:07<00:00,  2.42it/s]\n"
     ]
    },
    {
     "name": "stdout",
     "output_type": "stream",
     "text": [
      "Done logging validation params in MLFlow\n",
      "From all the combinations, the highest accuracy was achieved with ('kernel', 0.001, 1000, 'balanced')\n"
     ]
    },
    {
     "name": "stderr",
     "output_type": "stream",
     "text": [
      "  0%|          | 0/18 [00:00<?, ?it/s]"
     ]
    },
    {
     "name": "stdout",
     "output_type": "stream",
     "text": [
      "FOLD 9:  acc 1.0, auc 1.0, specificity nan, sensitivity 1.0\n",
      "FOLD 9:  MV acc 1.0, MV auc 1.0, MV specificity nan, MV sensitivity 1.0\n"
     ]
    },
    {
     "name": "stderr",
     "output_type": "stream",
     "text": [
      "100%|██████████| 18/18 [00:06<00:00,  2.96it/s]\n",
      "100%|██████████| 18/18 [00:07<00:00,  2.53it/s]\n",
      "100%|██████████| 18/18 [00:06<00:00,  2.59it/s]\n",
      "100%|██████████| 18/18 [00:06<00:00,  2.71it/s]\n",
      "100%|██████████| 18/18 [00:07<00:00,  2.42it/s]\n"
     ]
    },
    {
     "name": "stdout",
     "output_type": "stream",
     "text": [
      "Done logging validation params in MLFlow\n",
      "From all the combinations, the highest accuracy was achieved with ('kernel', 0.001, 10, 'balanced')\n"
     ]
    },
    {
     "name": "stderr",
     "output_type": "stream",
     "text": [
      "  0%|          | 0/18 [00:00<?, ?it/s]"
     ]
    },
    {
     "name": "stdout",
     "output_type": "stream",
     "text": [
      "FOLD 10:  acc 0.3, auc 0.3, specificity nan, sensitivity 0.3\n",
      "FOLD 10:  MV acc 0.0, MV auc 0.0, MV specificity nan, MV sensitivity 0.0\n"
     ]
    },
    {
     "name": "stderr",
     "output_type": "stream",
     "text": [
      "100%|██████████| 18/18 [00:06<00:00,  2.86it/s]\n",
      "100%|██████████| 18/18 [00:07<00:00,  2.49it/s]\n",
      "100%|██████████| 18/18 [00:07<00:00,  2.54it/s]\n",
      "100%|██████████| 18/18 [00:06<00:00,  2.70it/s]\n",
      "100%|██████████| 18/18 [00:07<00:00,  2.48it/s]\n"
     ]
    },
    {
     "name": "stdout",
     "output_type": "stream",
     "text": [
      "Done logging validation params in MLFlow\n",
      "From all the combinations, the highest accuracy was achieved with ('kernel', 0.001, 10, 'balanced')\n"
     ]
    },
    {
     "name": "stderr",
     "output_type": "stream",
     "text": [
      "  0%|          | 0/18 [00:00<?, ?it/s]"
     ]
    },
    {
     "name": "stdout",
     "output_type": "stream",
     "text": [
      "FOLD 11:  acc 0.0, auc 0.0, specificity 0.0, sensitivity nan\n",
      "FOLD 11:  MV acc 0.0, MV auc 0.0, MV specificity 0.0, MV sensitivity nan\n"
     ]
    },
    {
     "name": "stderr",
     "output_type": "stream",
     "text": [
      "100%|██████████| 18/18 [00:06<00:00,  2.82it/s]\n",
      "100%|██████████| 18/18 [00:07<00:00,  2.44it/s]\n",
      "100%|██████████| 18/18 [00:07<00:00,  2.49it/s]\n",
      "100%|██████████| 18/18 [00:06<00:00,  2.70it/s]\n",
      "100%|██████████| 18/18 [00:07<00:00,  2.46it/s]\n"
     ]
    },
    {
     "name": "stdout",
     "output_type": "stream",
     "text": [
      "Done logging validation params in MLFlow\n",
      "From all the combinations, the highest accuracy was achieved with ('kernel', 0.001, 10, 'balanced')\n"
     ]
    },
    {
     "name": "stderr",
     "output_type": "stream",
     "text": [
      "  0%|          | 0/18 [00:00<?, ?it/s]"
     ]
    },
    {
     "name": "stdout",
     "output_type": "stream",
     "text": [
      "FOLD 12:  acc 0.8, auc 0.8, specificity 0.8, sensitivity nan\n",
      "FOLD 12:  MV acc 1.0, MV auc 1.0, MV specificity 1.0, MV sensitivity nan\n"
     ]
    },
    {
     "name": "stderr",
     "output_type": "stream",
     "text": [
      "100%|██████████| 18/18 [00:06<00:00,  2.78it/s]\n",
      "100%|██████████| 18/18 [00:07<00:00,  2.48it/s]\n",
      "100%|██████████| 18/18 [00:07<00:00,  2.49it/s]\n",
      "100%|██████████| 18/18 [00:07<00:00,  2.56it/s]\n",
      "100%|██████████| 18/18 [00:07<00:00,  2.40it/s]\n"
     ]
    },
    {
     "name": "stdout",
     "output_type": "stream",
     "text": [
      "Done logging validation params in MLFlow\n",
      "From all the combinations, the highest accuracy was achieved with ('kernel', 0.001, 10, 'balanced')\n"
     ]
    },
    {
     "name": "stderr",
     "output_type": "stream",
     "text": [
      "  0%|          | 0/18 [00:00<?, ?it/s]"
     ]
    },
    {
     "name": "stdout",
     "output_type": "stream",
     "text": [
      "FOLD 13:  acc 0.1, auc 0.1, specificity 0.1, sensitivity nan\n",
      "FOLD 13:  MV acc 0.0, MV auc 0.0, MV specificity 0.0, MV sensitivity nan\n"
     ]
    },
    {
     "name": "stderr",
     "output_type": "stream",
     "text": [
      "100%|██████████| 18/18 [00:06<00:00,  2.92it/s]\n",
      "100%|██████████| 18/18 [00:06<00:00,  2.59it/s]\n",
      "100%|██████████| 18/18 [00:06<00:00,  2.65it/s]\n",
      "100%|██████████| 18/18 [00:06<00:00,  2.65it/s]\n",
      "100%|██████████| 18/18 [00:06<00:00,  2.58it/s]\n"
     ]
    },
    {
     "name": "stdout",
     "output_type": "stream",
     "text": [
      "Done logging validation params in MLFlow\n",
      "From all the combinations, the highest accuracy was achieved with ('kernel', 0.001, 10, 'balanced')\n"
     ]
    },
    {
     "name": "stderr",
     "output_type": "stream",
     "text": [
      "  0%|          | 0/18 [00:00<?, ?it/s]"
     ]
    },
    {
     "name": "stdout",
     "output_type": "stream",
     "text": [
      "FOLD 14:  acc 0.0, auc 0.0, specificity 0.0, sensitivity nan\n",
      "FOLD 14:  MV acc 0.0, MV auc 0.0, MV specificity 0.0, MV sensitivity nan\n"
     ]
    },
    {
     "name": "stderr",
     "output_type": "stream",
     "text": [
      "100%|██████████| 18/18 [00:06<00:00,  2.76it/s]\n",
      "100%|██████████| 18/18 [00:07<00:00,  2.32it/s]\n",
      "100%|██████████| 18/18 [00:07<00:00,  2.41it/s]\n",
      "100%|██████████| 18/18 [00:06<00:00,  2.60it/s]\n",
      "100%|██████████| 18/18 [00:07<00:00,  2.39it/s]\n"
     ]
    },
    {
     "name": "stdout",
     "output_type": "stream",
     "text": [
      "Done logging validation params in MLFlow\n",
      "From all the combinations, the highest accuracy was achieved with ('linear', 1, 'balanced')\n"
     ]
    },
    {
     "name": "stderr",
     "output_type": "stream",
     "text": [
      "  0%|          | 0/18 [00:00<?, ?it/s]"
     ]
    },
    {
     "name": "stdout",
     "output_type": "stream",
     "text": [
      "FOLD 15:  acc 1.0, auc 1.0, specificity nan, sensitivity 1.0\n",
      "FOLD 15:  MV acc 1.0, MV auc 1.0, MV specificity nan, MV sensitivity 1.0\n"
     ]
    },
    {
     "name": "stderr",
     "output_type": "stream",
     "text": [
      "100%|██████████| 18/18 [00:05<00:00,  3.05it/s]\n",
      "100%|██████████| 18/18 [00:07<00:00,  2.39it/s]\n",
      "100%|██████████| 18/18 [00:07<00:00,  2.48it/s]\n",
      "100%|██████████| 18/18 [00:06<00:00,  2.67it/s]\n",
      "100%|██████████| 18/18 [00:07<00:00,  2.40it/s]\n"
     ]
    },
    {
     "name": "stdout",
     "output_type": "stream",
     "text": [
      "Done logging validation params in MLFlow\n",
      "From all the combinations, the highest accuracy was achieved with ('linear', 10, 'balanced')\n"
     ]
    },
    {
     "name": "stderr",
     "output_type": "stream",
     "text": [
      "  0%|          | 0/18 [00:00<?, ?it/s]"
     ]
    },
    {
     "name": "stdout",
     "output_type": "stream",
     "text": [
      "FOLD 16:  acc 0.9, auc 0.9, specificity 0.9, sensitivity nan\n",
      "FOLD 16:  MV acc 1.0, MV auc 1.0, MV specificity 1.0, MV sensitivity nan\n"
     ]
    },
    {
     "name": "stderr",
     "output_type": "stream",
     "text": [
      "100%|██████████| 18/18 [00:06<00:00,  2.94it/s]\n",
      "100%|██████████| 18/18 [00:07<00:00,  2.39it/s]\n",
      "100%|██████████| 18/18 [00:07<00:00,  2.54it/s]\n",
      "100%|██████████| 18/18 [00:06<00:00,  2.71it/s]\n",
      "100%|██████████| 18/18 [00:07<00:00,  2.39it/s]\n"
     ]
    },
    {
     "name": "stdout",
     "output_type": "stream",
     "text": [
      "Done logging validation params in MLFlow\n",
      "From all the combinations, the highest accuracy was achieved with ('kernel', 0.001, 1000, 'balanced')\n"
     ]
    },
    {
     "name": "stderr",
     "output_type": "stream",
     "text": [
      "  0%|          | 0/18 [00:00<?, ?it/s]"
     ]
    },
    {
     "name": "stdout",
     "output_type": "stream",
     "text": [
      "FOLD 17:  acc 0.0, auc 0.0, specificity 0.0, sensitivity nan\n",
      "FOLD 17:  MV acc 0.0, MV auc 0.0, MV specificity 0.0, MV sensitivity nan\n"
     ]
    },
    {
     "name": "stderr",
     "output_type": "stream",
     "text": [
      "100%|██████████| 18/18 [00:06<00:00,  2.95it/s]\n",
      "100%|██████████| 18/18 [00:07<00:00,  2.43it/s]\n",
      "100%|██████████| 18/18 [00:06<00:00,  2.61it/s]\n",
      "100%|██████████| 18/18 [00:06<00:00,  2.59it/s]\n",
      "100%|██████████| 18/18 [00:07<00:00,  2.42it/s]\n"
     ]
    },
    {
     "name": "stdout",
     "output_type": "stream",
     "text": [
      "Done logging validation params in MLFlow\n",
      "From all the combinations, the highest accuracy was achieved with ('kernel', 0.001, 10, 'balanced')\n"
     ]
    },
    {
     "name": "stderr",
     "output_type": "stream",
     "text": [
      "  0%|          | 0/18 [00:00<?, ?it/s]"
     ]
    },
    {
     "name": "stdout",
     "output_type": "stream",
     "text": [
      "FOLD 18:  acc 0.0, auc 0.0, specificity 0.0, sensitivity nan\n",
      "FOLD 18:  MV acc 0.0, MV auc 0.0, MV specificity 0.0, MV sensitivity nan\n"
     ]
    },
    {
     "name": "stderr",
     "output_type": "stream",
     "text": [
      "100%|██████████| 18/18 [00:05<00:00,  3.03it/s]\n",
      "100%|██████████| 18/18 [00:07<00:00,  2.48it/s]\n",
      "100%|██████████| 18/18 [00:06<00:00,  2.69it/s]\n",
      "100%|██████████| 18/18 [00:06<00:00,  2.61it/s]\n",
      "100%|██████████| 18/18 [00:07<00:00,  2.46it/s]\n"
     ]
    },
    {
     "name": "stdout",
     "output_type": "stream",
     "text": [
      "Done logging validation params in MLFlow\n",
      "From all the combinations, the highest accuracy was achieved with ('kernel', 0.001, 10, 'balanced')\n"
     ]
    },
    {
     "name": "stderr",
     "output_type": "stream",
     "text": [
      "  0%|          | 0/18 [00:00<?, ?it/s]"
     ]
    },
    {
     "name": "stdout",
     "output_type": "stream",
     "text": [
      "FOLD 19:  acc 0.0, auc 0.0, specificity 0.0, sensitivity nan\n",
      "FOLD 19:  MV acc 0.0, MV auc 0.0, MV specificity 0.0, MV sensitivity nan\n"
     ]
    },
    {
     "name": "stderr",
     "output_type": "stream",
     "text": [
      "100%|██████████| 18/18 [00:06<00:00,  2.96it/s]\n",
      "100%|██████████| 18/18 [00:07<00:00,  2.40it/s]\n",
      "100%|██████████| 18/18 [00:06<00:00,  2.63it/s]\n",
      "100%|██████████| 18/18 [00:07<00:00,  2.54it/s]\n",
      "100%|██████████| 18/18 [00:07<00:00,  2.36it/s]\n"
     ]
    },
    {
     "name": "stdout",
     "output_type": "stream",
     "text": [
      "Done logging validation params in MLFlow\n",
      "From all the combinations, the highest accuracy was achieved with ('linear', 1000, 'balanced')\n"
     ]
    },
    {
     "name": "stderr",
     "output_type": "stream",
     "text": [
      "  0%|          | 0/18 [00:00<?, ?it/s]"
     ]
    },
    {
     "name": "stdout",
     "output_type": "stream",
     "text": [
      "FOLD 20:  acc 0.9, auc 0.9, specificity 0.9, sensitivity nan\n",
      "FOLD 20:  MV acc 1.0, MV auc 1.0, MV specificity 1.0, MV sensitivity nan\n"
     ]
    },
    {
     "name": "stderr",
     "output_type": "stream",
     "text": [
      "100%|██████████| 18/18 [00:06<00:00,  2.98it/s]\n",
      "100%|██████████| 18/18 [00:07<00:00,  2.56it/s]\n",
      "100%|██████████| 18/18 [00:06<00:00,  2.63it/s]\n",
      "100%|██████████| 18/18 [00:06<00:00,  2.78it/s]\n",
      "100%|██████████| 18/18 [00:06<00:00,  2.72it/s]\n"
     ]
    },
    {
     "name": "stdout",
     "output_type": "stream",
     "text": [
      "Done logging validation params in MLFlow\n",
      "From all the combinations, the highest accuracy was achieved with ('linear', 1000, 'balanced')\n"
     ]
    },
    {
     "name": "stderr",
     "output_type": "stream",
     "text": [
      "  0%|          | 0/18 [00:00<?, ?it/s]"
     ]
    },
    {
     "name": "stdout",
     "output_type": "stream",
     "text": [
      "FOLD 21:  acc 0.0, auc 0.0, specificity 0.0, sensitivity nan\n",
      "FOLD 21:  MV acc 0.0, MV auc 0.0, MV specificity 0.0, MV sensitivity nan\n"
     ]
    },
    {
     "name": "stderr",
     "output_type": "stream",
     "text": [
      "100%|██████████| 18/18 [00:06<00:00,  2.64it/s]\n",
      "100%|██████████| 18/18 [00:06<00:00,  2.67it/s]\n",
      "100%|██████████| 18/18 [00:07<00:00,  2.50it/s]\n",
      "100%|██████████| 18/18 [00:07<00:00,  2.50it/s]\n",
      "100%|██████████| 18/18 [00:07<00:00,  2.56it/s]\n",
      "  0%|          | 0/18 [00:00<?, ?it/s]"
     ]
    },
    {
     "name": "stdout",
     "output_type": "stream",
     "text": [
      "Done logging validation params in MLFlow\n",
      "From all the combinations, the highest accuracy was achieved with ('kernel', 0.0001, 10, 'balanced')\n",
      "FOLD 22:  acc 1.0, auc 1.0, specificity 1.0, sensitivity nan\n",
      "FOLD 22:  MV acc 1.0, MV auc 1.0, MV specificity 1.0, MV sensitivity nan\n"
     ]
    },
    {
     "name": "stderr",
     "output_type": "stream",
     "text": [
      "100%|██████████| 18/18 [00:06<00:00,  2.64it/s]\n",
      "100%|██████████| 18/18 [00:07<00:00,  2.54it/s]\n",
      "100%|██████████| 18/18 [00:07<00:00,  2.52it/s]\n",
      "100%|██████████| 18/18 [00:07<00:00,  2.49it/s]\n",
      "100%|██████████| 18/18 [00:08<00:00,  2.23it/s]\n"
     ]
    },
    {
     "name": "stdout",
     "output_type": "stream",
     "text": [
      "Done logging validation params in MLFlow\n",
      "From all the combinations, the highest accuracy was achieved with ('linear', 1000, 'balanced')\n"
     ]
    },
    {
     "name": "stderr",
     "output_type": "stream",
     "text": [
      "  0%|          | 0/18 [00:00<?, ?it/s]"
     ]
    },
    {
     "name": "stdout",
     "output_type": "stream",
     "text": [
      "FOLD 23:  acc 1.0, auc 1.0, specificity 1.0, sensitivity nan\n",
      "FOLD 23:  MV acc 1.0, MV auc 1.0, MV specificity 1.0, MV sensitivity nan\n"
     ]
    },
    {
     "name": "stderr",
     "output_type": "stream",
     "text": [
      "100%|██████████| 18/18 [00:06<00:00,  2.60it/s]\n",
      "100%|██████████| 18/18 [00:07<00:00,  2.54it/s]\n",
      "100%|██████████| 18/18 [00:07<00:00,  2.47it/s]\n",
      "100%|██████████| 18/18 [00:06<00:00,  2.58it/s]\n",
      "100%|██████████| 18/18 [00:05<00:00,  3.15it/s]\n"
     ]
    },
    {
     "name": "stdout",
     "output_type": "stream",
     "text": [
      "Done logging validation params in MLFlow\n",
      "From all the combinations, the highest accuracy was achieved with ('kernel', 0.001, 10, 'balanced')\n"
     ]
    },
    {
     "name": "stderr",
     "output_type": "stream",
     "text": [
      "  0%|          | 0/18 [00:00<?, ?it/s]"
     ]
    },
    {
     "name": "stdout",
     "output_type": "stream",
     "text": [
      "FOLD 24:  acc 0.1, auc 0.1, specificity 0.1, sensitivity nan\n",
      "FOLD 24:  MV acc 0.0, MV auc 0.0, MV specificity 0.0, MV sensitivity nan\n"
     ]
    },
    {
     "name": "stderr",
     "output_type": "stream",
     "text": [
      "100%|██████████| 18/18 [00:05<00:00,  3.45it/s]\n",
      "100%|██████████| 18/18 [00:05<00:00,  3.16it/s]\n",
      "100%|██████████| 18/18 [00:05<00:00,  3.13it/s]\n",
      "100%|██████████| 18/18 [00:05<00:00,  3.08it/s]\n",
      "100%|██████████| 18/18 [00:06<00:00,  2.93it/s]\n"
     ]
    },
    {
     "name": "stdout",
     "output_type": "stream",
     "text": [
      "Done logging validation params in MLFlow\n",
      "From all the combinations, the highest accuracy was achieved with ('kernel', 0.001, 10, 'balanced')\n"
     ]
    },
    {
     "name": "stderr",
     "output_type": "stream",
     "text": [
      "  0%|          | 0/18 [00:00<?, ?it/s]"
     ]
    },
    {
     "name": "stdout",
     "output_type": "stream",
     "text": [
      "FOLD 25:  acc 0.0, auc 0.0, specificity 0.0, sensitivity nan\n",
      "FOL